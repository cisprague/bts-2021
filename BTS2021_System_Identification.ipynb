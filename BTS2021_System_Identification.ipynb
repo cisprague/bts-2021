{
  "nbformat": 4,
  "nbformat_minor": 0,
  "metadata": {
    "colab": {
      "name": "BTS2021_System_Identification.ipynb",
      "provenance": [],
      "toc_visible": true,
      "authorship_tag": "ABX9TyOARS6H0gPSoBhqd5i/HYzB",
      "include_colab_link": true
    },
    "kernelspec": {
      "name": "python3",
      "display_name": "Python 3"
    },
    "language_info": {
      "name": "python"
    }
  },
  "cells": [
    {
      "cell_type": "markdown",
      "metadata": {
        "id": "view-in-github",
        "colab_type": "text"
      },
      "source": [
        "<a href=\"https://colab.research.google.com/github/cisprague/bts-2021/blob/main/BTS2021_System_Identification.ipynb\" target=\"_parent\"><img src=\"https://colab.research.google.com/assets/colab-badge.svg\" alt=\"Open In Colab\"/></a>"
      ]
    },
    {
      "cell_type": "markdown",
      "metadata": {
        "id": "ldugymIdjVLX"
      },
      "source": [
        "# System identification of AUVs using machine learning"
      ]
    },
    {
      "cell_type": "markdown",
      "metadata": {
        "id": "TwUkhG6Mqy-A"
      },
      "source": [
        "## Outline\n",
        "- Background and Context \n",
        "- What’s the benefit?\n",
        "- Data generation - Use Fossen’s model, or use your own AUV/simulator?\n",
        "- Model and parameter identification \n",
        "- Time propagation / model usage\n",
        "- Other use cases and improvements, where and how to use.\n"
      ]
    },
    {
      "cell_type": "code",
      "metadata": {
        "id": "_Ah8qTNtq4KL"
      },
      "source": [
        ""
      ],
      "execution_count": null,
      "outputs": []
    }
  ]
}