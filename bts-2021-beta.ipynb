{
  "nbformat": 4,
  "nbformat_minor": 0,
  "metadata": {
    "colab": {
      "name": "bts-2021.ipynb",
      "provenance": [],
      "collapsed_sections": [],
      "toc_visible": true,
      "include_colab_link": true
    },
    "kernelspec": {
      "name": "python3",
      "display_name": "Python 3.8.10 64-bit"
    },
    "language_info": {
      "name": "python",
      "version": "3.8.10",
      "mimetype": "text/x-python",
      "codemirror_mode": {
        "name": "ipython",
        "version": 3
      },
      "pygments_lexer": "ipython3",
      "nbconvert_exporter": "python",
      "file_extension": ".py"
    },
    "accelerator": "TPU",
    "interpreter": {
      "hash": "916dbcbb3f70747c44a77c7bcd40155683ae19c65e1c03b4aa3499c5328201f1"
    },
    "widgets": {
      "application/vnd.jupyter.widget-state+json": {
        "9cc7d2ba9f2a46f4991f0c49a2ac0dc9": {
          "model_module": "@jupyter-widgets/controls",
          "model_name": "HBoxModel",
          "model_module_version": "1.5.0",
          "state": {
            "_view_name": "HBoxView",
            "_dom_classes": [],
            "_model_name": "HBoxModel",
            "_view_module": "@jupyter-widgets/controls",
            "_model_module_version": "1.5.0",
            "_view_count": null,
            "_view_module_version": "1.5.0",
            "box_style": "",
            "layout": "IPY_MODEL_ca2a842175b541928232c2c5f7f9bcb5",
            "_model_module": "@jupyter-widgets/controls",
            "children": [
              "IPY_MODEL_47792162abc94030995233dfe1bcd413",
              "IPY_MODEL_0e944465c04c4ca3aef8e98e2142774b",
              "IPY_MODEL_6d4bbfbe02ef420d823565fcaa887976"
            ]
          }
        },
        "ca2a842175b541928232c2c5f7f9bcb5": {
          "model_module": "@jupyter-widgets/base",
          "model_name": "LayoutModel",
          "model_module_version": "1.2.0",
          "state": {
            "_view_name": "LayoutView",
            "grid_template_rows": null,
            "right": null,
            "justify_content": null,
            "_view_module": "@jupyter-widgets/base",
            "overflow": null,
            "_model_module_version": "1.2.0",
            "_view_count": null,
            "flex_flow": null,
            "width": null,
            "min_width": null,
            "border": null,
            "align_items": null,
            "bottom": null,
            "_model_module": "@jupyter-widgets/base",
            "top": null,
            "grid_column": null,
            "overflow_y": null,
            "overflow_x": null,
            "grid_auto_flow": null,
            "grid_area": null,
            "grid_template_columns": null,
            "flex": null,
            "_model_name": "LayoutModel",
            "justify_items": null,
            "grid_row": null,
            "max_height": null,
            "align_content": null,
            "visibility": null,
            "align_self": null,
            "height": null,
            "min_height": null,
            "padding": null,
            "grid_auto_rows": null,
            "grid_gap": null,
            "max_width": null,
            "order": null,
            "_view_module_version": "1.2.0",
            "grid_template_areas": null,
            "object_position": null,
            "object_fit": null,
            "grid_auto_columns": null,
            "margin": null,
            "display": null,
            "left": null
          }
        },
        "47792162abc94030995233dfe1bcd413": {
          "model_module": "@jupyter-widgets/controls",
          "model_name": "HTMLModel",
          "model_module_version": "1.5.0",
          "state": {
            "_view_name": "HTMLView",
            "style": "IPY_MODEL_2d6deb588f5f47239a99c3d864a4ab00",
            "_dom_classes": [],
            "description": "",
            "_model_name": "HTMLModel",
            "placeholder": "​",
            "_view_module": "@jupyter-widgets/controls",
            "_model_module_version": "1.5.0",
            "value": "89686.976562:   5%",
            "_view_count": null,
            "_view_module_version": "1.5.0",
            "description_tooltip": null,
            "_model_module": "@jupyter-widgets/controls",
            "layout": "IPY_MODEL_66bc125af55f4e2caddd8adb2cb12caf"
          }
        },
        "0e944465c04c4ca3aef8e98e2142774b": {
          "model_module": "@jupyter-widgets/controls",
          "model_name": "FloatProgressModel",
          "model_module_version": "1.5.0",
          "state": {
            "_view_name": "ProgressView",
            "style": "IPY_MODEL_463728a64ebe498c8dc2db33568ffdf3",
            "_dom_classes": [],
            "description": "",
            "_model_name": "FloatProgressModel",
            "bar_style": "danger",
            "max": 5000,
            "_view_module": "@jupyter-widgets/controls",
            "_model_module_version": "1.5.0",
            "value": 233,
            "_view_count": null,
            "_view_module_version": "1.5.0",
            "orientation": "horizontal",
            "min": 0,
            "description_tooltip": null,
            "_model_module": "@jupyter-widgets/controls",
            "layout": "IPY_MODEL_fe0e97edaa1f4490ad437c50d84e917c"
          }
        },
        "6d4bbfbe02ef420d823565fcaa887976": {
          "model_module": "@jupyter-widgets/controls",
          "model_name": "HTMLModel",
          "model_module_version": "1.5.0",
          "state": {
            "_view_name": "HTMLView",
            "style": "IPY_MODEL_ea38d6387efa49faa7b0fb16c3db92b7",
            "_dom_classes": [],
            "description": "",
            "_model_name": "HTMLModel",
            "placeholder": "​",
            "_view_module": "@jupyter-widgets/controls",
            "_model_module_version": "1.5.0",
            "value": " 233/5000 [00:07&lt;02:24, 32.88it/s]",
            "_view_count": null,
            "_view_module_version": "1.5.0",
            "description_tooltip": null,
            "_model_module": "@jupyter-widgets/controls",
            "layout": "IPY_MODEL_31629ca414bf4b89a30ccd0e6e18d53a"
          }
        },
        "2d6deb588f5f47239a99c3d864a4ab00": {
          "model_module": "@jupyter-widgets/controls",
          "model_name": "DescriptionStyleModel",
          "model_module_version": "1.5.0",
          "state": {
            "_view_name": "StyleView",
            "_model_name": "DescriptionStyleModel",
            "description_width": "",
            "_view_module": "@jupyter-widgets/base",
            "_model_module_version": "1.5.0",
            "_view_count": null,
            "_view_module_version": "1.2.0",
            "_model_module": "@jupyter-widgets/controls"
          }
        },
        "66bc125af55f4e2caddd8adb2cb12caf": {
          "model_module": "@jupyter-widgets/base",
          "model_name": "LayoutModel",
          "model_module_version": "1.2.0",
          "state": {
            "_view_name": "LayoutView",
            "grid_template_rows": null,
            "right": null,
            "justify_content": null,
            "_view_module": "@jupyter-widgets/base",
            "overflow": null,
            "_model_module_version": "1.2.0",
            "_view_count": null,
            "flex_flow": null,
            "width": null,
            "min_width": null,
            "border": null,
            "align_items": null,
            "bottom": null,
            "_model_module": "@jupyter-widgets/base",
            "top": null,
            "grid_column": null,
            "overflow_y": null,
            "overflow_x": null,
            "grid_auto_flow": null,
            "grid_area": null,
            "grid_template_columns": null,
            "flex": null,
            "_model_name": "LayoutModel",
            "justify_items": null,
            "grid_row": null,
            "max_height": null,
            "align_content": null,
            "visibility": null,
            "align_self": null,
            "height": null,
            "min_height": null,
            "padding": null,
            "grid_auto_rows": null,
            "grid_gap": null,
            "max_width": null,
            "order": null,
            "_view_module_version": "1.2.0",
            "grid_template_areas": null,
            "object_position": null,
            "object_fit": null,
            "grid_auto_columns": null,
            "margin": null,
            "display": null,
            "left": null
          }
        },
        "463728a64ebe498c8dc2db33568ffdf3": {
          "model_module": "@jupyter-widgets/controls",
          "model_name": "ProgressStyleModel",
          "model_module_version": "1.5.0",
          "state": {
            "_view_name": "StyleView",
            "_model_name": "ProgressStyleModel",
            "description_width": "",
            "_view_module": "@jupyter-widgets/base",
            "_model_module_version": "1.5.0",
            "_view_count": null,
            "_view_module_version": "1.2.0",
            "bar_color": null,
            "_model_module": "@jupyter-widgets/controls"
          }
        },
        "fe0e97edaa1f4490ad437c50d84e917c": {
          "model_module": "@jupyter-widgets/base",
          "model_name": "LayoutModel",
          "model_module_version": "1.2.0",
          "state": {
            "_view_name": "LayoutView",
            "grid_template_rows": null,
            "right": null,
            "justify_content": null,
            "_view_module": "@jupyter-widgets/base",
            "overflow": null,
            "_model_module_version": "1.2.0",
            "_view_count": null,
            "flex_flow": null,
            "width": null,
            "min_width": null,
            "border": null,
            "align_items": null,
            "bottom": null,
            "_model_module": "@jupyter-widgets/base",
            "top": null,
            "grid_column": null,
            "overflow_y": null,
            "overflow_x": null,
            "grid_auto_flow": null,
            "grid_area": null,
            "grid_template_columns": null,
            "flex": null,
            "_model_name": "LayoutModel",
            "justify_items": null,
            "grid_row": null,
            "max_height": null,
            "align_content": null,
            "visibility": null,
            "align_self": null,
            "height": null,
            "min_height": null,
            "padding": null,
            "grid_auto_rows": null,
            "grid_gap": null,
            "max_width": null,
            "order": null,
            "_view_module_version": "1.2.0",
            "grid_template_areas": null,
            "object_position": null,
            "object_fit": null,
            "grid_auto_columns": null,
            "margin": null,
            "display": null,
            "left": null
          }
        },
        "ea38d6387efa49faa7b0fb16c3db92b7": {
          "model_module": "@jupyter-widgets/controls",
          "model_name": "DescriptionStyleModel",
          "model_module_version": "1.5.0",
          "state": {
            "_view_name": "StyleView",
            "_model_name": "DescriptionStyleModel",
            "description_width": "",
            "_view_module": "@jupyter-widgets/base",
            "_model_module_version": "1.5.0",
            "_view_count": null,
            "_view_module_version": "1.2.0",
            "_model_module": "@jupyter-widgets/controls"
          }
        },
        "31629ca414bf4b89a30ccd0e6e18d53a": {
          "model_module": "@jupyter-widgets/base",
          "model_name": "LayoutModel",
          "model_module_version": "1.2.0",
          "state": {
            "_view_name": "LayoutView",
            "grid_template_rows": null,
            "right": null,
            "justify_content": null,
            "_view_module": "@jupyter-widgets/base",
            "overflow": null,
            "_model_module_version": "1.2.0",
            "_view_count": null,
            "flex_flow": null,
            "width": null,
            "min_width": null,
            "border": null,
            "align_items": null,
            "bottom": null,
            "_model_module": "@jupyter-widgets/base",
            "top": null,
            "grid_column": null,
            "overflow_y": null,
            "overflow_x": null,
            "grid_auto_flow": null,
            "grid_area": null,
            "grid_template_columns": null,
            "flex": null,
            "_model_name": "LayoutModel",
            "justify_items": null,
            "grid_row": null,
            "max_height": null,
            "align_content": null,
            "visibility": null,
            "align_self": null,
            "height": null,
            "min_height": null,
            "padding": null,
            "grid_auto_rows": null,
            "grid_gap": null,
            "max_width": null,
            "order": null,
            "_view_module_version": "1.2.0",
            "grid_template_areas": null,
            "object_position": null,
            "object_fit": null,
            "grid_auto_columns": null,
            "margin": null,
            "display": null,
            "left": null
          }
        },
        "d393f54dd65846038c55edfcf0d73489": {
          "model_module": "@jupyter-widgets/controls",
          "model_name": "HBoxModel",
          "model_module_version": "1.5.0",
          "state": {
            "_view_name": "HBoxView",
            "_dom_classes": [],
            "_model_name": "HBoxModel",
            "_view_module": "@jupyter-widgets/controls",
            "_model_module_version": "1.5.0",
            "_view_count": null,
            "_view_module_version": "1.5.0",
            "box_style": "",
            "layout": "IPY_MODEL_402a671209f04f5dae4050e54f808624",
            "_model_module": "@jupyter-widgets/controls",
            "children": [
              "IPY_MODEL_715b1819bb2e46a39d1d9bcf9bc298d5",
              "IPY_MODEL_d8a8ecc1ac9e4724996e10acc98c83d4",
              "IPY_MODEL_63a8e7393cf74b999b93f58e153d67ea"
            ]
          }
        },
        "402a671209f04f5dae4050e54f808624": {
          "model_module": "@jupyter-widgets/base",
          "model_name": "LayoutModel",
          "model_module_version": "1.2.0",
          "state": {
            "_view_name": "LayoutView",
            "grid_template_rows": null,
            "right": null,
            "justify_content": null,
            "_view_module": "@jupyter-widgets/base",
            "overflow": null,
            "_model_module_version": "1.2.0",
            "_view_count": null,
            "flex_flow": null,
            "width": null,
            "min_width": null,
            "border": null,
            "align_items": null,
            "bottom": null,
            "_model_module": "@jupyter-widgets/base",
            "top": null,
            "grid_column": null,
            "overflow_y": null,
            "overflow_x": null,
            "grid_auto_flow": null,
            "grid_area": null,
            "grid_template_columns": null,
            "flex": null,
            "_model_name": "LayoutModel",
            "justify_items": null,
            "grid_row": null,
            "max_height": null,
            "align_content": null,
            "visibility": null,
            "align_self": null,
            "height": null,
            "min_height": null,
            "padding": null,
            "grid_auto_rows": null,
            "grid_gap": null,
            "max_width": null,
            "order": null,
            "_view_module_version": "1.2.0",
            "grid_template_areas": null,
            "object_position": null,
            "object_fit": null,
            "grid_auto_columns": null,
            "margin": null,
            "display": null,
            "left": null
          }
        },
        "715b1819bb2e46a39d1d9bcf9bc298d5": {
          "model_module": "@jupyter-widgets/controls",
          "model_name": "HTMLModel",
          "model_module_version": "1.5.0",
          "state": {
            "_view_name": "HTMLView",
            "style": "IPY_MODEL_6f839acab99647648dadc8ccc5ad65b9",
            "_dom_classes": [],
            "description": "",
            "_model_name": "HTMLModel",
            "placeholder": "​",
            "_view_module": "@jupyter-widgets/controls",
            "_model_module_version": "1.5.0",
            "value": "2.329789:   1%",
            "_view_count": null,
            "_view_module_version": "1.5.0",
            "description_tooltip": null,
            "_model_module": "@jupyter-widgets/controls",
            "layout": "IPY_MODEL_7835e6108065427fac1b9d25e25c7d65"
          }
        },
        "d8a8ecc1ac9e4724996e10acc98c83d4": {
          "model_module": "@jupyter-widgets/controls",
          "model_name": "FloatProgressModel",
          "model_module_version": "1.5.0",
          "state": {
            "_view_name": "ProgressView",
            "style": "IPY_MODEL_88e06f4ecc8840e798af22faccf5586f",
            "_dom_classes": [],
            "description": "",
            "_model_name": "FloatProgressModel",
            "bar_style": "danger",
            "max": 5000,
            "_view_module": "@jupyter-widgets/controls",
            "_model_module_version": "1.5.0",
            "value": 59,
            "_view_count": null,
            "_view_module_version": "1.5.0",
            "orientation": "horizontal",
            "min": 0,
            "description_tooltip": null,
            "_model_module": "@jupyter-widgets/controls",
            "layout": "IPY_MODEL_142861e641ae448d996b87b183eaa3e4"
          }
        },
        "63a8e7393cf74b999b93f58e153d67ea": {
          "model_module": "@jupyter-widgets/controls",
          "model_name": "HTMLModel",
          "model_module_version": "1.5.0",
          "state": {
            "_view_name": "HTMLView",
            "style": "IPY_MODEL_d8a4651e410e467dab995e1754a35659",
            "_dom_classes": [],
            "description": "",
            "_model_name": "HTMLModel",
            "placeholder": "​",
            "_view_module": "@jupyter-widgets/controls",
            "_model_module_version": "1.5.0",
            "value": " 59/5000 [00:06&lt;09:37,  8.55it/s]",
            "_view_count": null,
            "_view_module_version": "1.5.0",
            "description_tooltip": null,
            "_model_module": "@jupyter-widgets/controls",
            "layout": "IPY_MODEL_c064925fc4f64a76a6e5183cee643c37"
          }
        },
        "6f839acab99647648dadc8ccc5ad65b9": {
          "model_module": "@jupyter-widgets/controls",
          "model_name": "DescriptionStyleModel",
          "model_module_version": "1.5.0",
          "state": {
            "_view_name": "StyleView",
            "_model_name": "DescriptionStyleModel",
            "description_width": "",
            "_view_module": "@jupyter-widgets/base",
            "_model_module_version": "1.5.0",
            "_view_count": null,
            "_view_module_version": "1.2.0",
            "_model_module": "@jupyter-widgets/controls"
          }
        },
        "7835e6108065427fac1b9d25e25c7d65": {
          "model_module": "@jupyter-widgets/base",
          "model_name": "LayoutModel",
          "model_module_version": "1.2.0",
          "state": {
            "_view_name": "LayoutView",
            "grid_template_rows": null,
            "right": null,
            "justify_content": null,
            "_view_module": "@jupyter-widgets/base",
            "overflow": null,
            "_model_module_version": "1.2.0",
            "_view_count": null,
            "flex_flow": null,
            "width": null,
            "min_width": null,
            "border": null,
            "align_items": null,
            "bottom": null,
            "_model_module": "@jupyter-widgets/base",
            "top": null,
            "grid_column": null,
            "overflow_y": null,
            "overflow_x": null,
            "grid_auto_flow": null,
            "grid_area": null,
            "grid_template_columns": null,
            "flex": null,
            "_model_name": "LayoutModel",
            "justify_items": null,
            "grid_row": null,
            "max_height": null,
            "align_content": null,
            "visibility": null,
            "align_self": null,
            "height": null,
            "min_height": null,
            "padding": null,
            "grid_auto_rows": null,
            "grid_gap": null,
            "max_width": null,
            "order": null,
            "_view_module_version": "1.2.0",
            "grid_template_areas": null,
            "object_position": null,
            "object_fit": null,
            "grid_auto_columns": null,
            "margin": null,
            "display": null,
            "left": null
          }
        },
        "88e06f4ecc8840e798af22faccf5586f": {
          "model_module": "@jupyter-widgets/controls",
          "model_name": "ProgressStyleModel",
          "model_module_version": "1.5.0",
          "state": {
            "_view_name": "StyleView",
            "_model_name": "ProgressStyleModel",
            "description_width": "",
            "_view_module": "@jupyter-widgets/base",
            "_model_module_version": "1.5.0",
            "_view_count": null,
            "_view_module_version": "1.2.0",
            "bar_color": null,
            "_model_module": "@jupyter-widgets/controls"
          }
        },
        "142861e641ae448d996b87b183eaa3e4": {
          "model_module": "@jupyter-widgets/base",
          "model_name": "LayoutModel",
          "model_module_version": "1.2.0",
          "state": {
            "_view_name": "LayoutView",
            "grid_template_rows": null,
            "right": null,
            "justify_content": null,
            "_view_module": "@jupyter-widgets/base",
            "overflow": null,
            "_model_module_version": "1.2.0",
            "_view_count": null,
            "flex_flow": null,
            "width": null,
            "min_width": null,
            "border": null,
            "align_items": null,
            "bottom": null,
            "_model_module": "@jupyter-widgets/base",
            "top": null,
            "grid_column": null,
            "overflow_y": null,
            "overflow_x": null,
            "grid_auto_flow": null,
            "grid_area": null,
            "grid_template_columns": null,
            "flex": null,
            "_model_name": "LayoutModel",
            "justify_items": null,
            "grid_row": null,
            "max_height": null,
            "align_content": null,
            "visibility": null,
            "align_self": null,
            "height": null,
            "min_height": null,
            "padding": null,
            "grid_auto_rows": null,
            "grid_gap": null,
            "max_width": null,
            "order": null,
            "_view_module_version": "1.2.0",
            "grid_template_areas": null,
            "object_position": null,
            "object_fit": null,
            "grid_auto_columns": null,
            "margin": null,
            "display": null,
            "left": null
          }
        },
        "d8a4651e410e467dab995e1754a35659": {
          "model_module": "@jupyter-widgets/controls",
          "model_name": "DescriptionStyleModel",
          "model_module_version": "1.5.0",
          "state": {
            "_view_name": "StyleView",
            "_model_name": "DescriptionStyleModel",
            "description_width": "",
            "_view_module": "@jupyter-widgets/base",
            "_model_module_version": "1.5.0",
            "_view_count": null,
            "_view_module_version": "1.2.0",
            "_model_module": "@jupyter-widgets/controls"
          }
        },
        "c064925fc4f64a76a6e5183cee643c37": {
          "model_module": "@jupyter-widgets/base",
          "model_name": "LayoutModel",
          "model_module_version": "1.2.0",
          "state": {
            "_view_name": "LayoutView",
            "grid_template_rows": null,
            "right": null,
            "justify_content": null,
            "_view_module": "@jupyter-widgets/base",
            "overflow": null,
            "_model_module_version": "1.2.0",
            "_view_count": null,
            "flex_flow": null,
            "width": null,
            "min_width": null,
            "border": null,
            "align_items": null,
            "bottom": null,
            "_model_module": "@jupyter-widgets/base",
            "top": null,
            "grid_column": null,
            "overflow_y": null,
            "overflow_x": null,
            "grid_auto_flow": null,
            "grid_area": null,
            "grid_template_columns": null,
            "flex": null,
            "_model_name": "LayoutModel",
            "justify_items": null,
            "grid_row": null,
            "max_height": null,
            "align_content": null,
            "visibility": null,
            "align_self": null,
            "height": null,
            "min_height": null,
            "padding": null,
            "grid_auto_rows": null,
            "grid_gap": null,
            "max_width": null,
            "order": null,
            "_view_module_version": "1.2.0",
            "grid_template_areas": null,
            "object_position": null,
            "object_fit": null,
            "grid_auto_columns": null,
            "margin": null,
            "display": null,
            "left": null
          }
        },
        "da32618327014f359e973f532684c523": {
          "model_module": "@jupyter-widgets/controls",
          "model_name": "HBoxModel",
          "model_module_version": "1.5.0",
          "state": {
            "_view_name": "HBoxView",
            "_dom_classes": [],
            "_model_name": "HBoxModel",
            "_view_module": "@jupyter-widgets/controls",
            "_model_module_version": "1.5.0",
            "_view_count": null,
            "_view_module_version": "1.5.0",
            "box_style": "",
            "layout": "IPY_MODEL_0b1b4a3d66384fa0b83c360c2bce89e7",
            "_model_module": "@jupyter-widgets/controls",
            "children": [
              "IPY_MODEL_3d1c3e3215e0430781494387a9350b30",
              "IPY_MODEL_270835382b9e42bb9fd30284ce3ce706",
              "IPY_MODEL_3e5aa66d9f0742a9a3f16afe49abdcbd"
            ]
          }
        },
        "0b1b4a3d66384fa0b83c360c2bce89e7": {
          "model_module": "@jupyter-widgets/base",
          "model_name": "LayoutModel",
          "model_module_version": "1.2.0",
          "state": {
            "_view_name": "LayoutView",
            "grid_template_rows": null,
            "right": null,
            "justify_content": null,
            "_view_module": "@jupyter-widgets/base",
            "overflow": null,
            "_model_module_version": "1.2.0",
            "_view_count": null,
            "flex_flow": null,
            "width": null,
            "min_width": null,
            "border": null,
            "align_items": null,
            "bottom": null,
            "_model_module": "@jupyter-widgets/base",
            "top": null,
            "grid_column": null,
            "overflow_y": null,
            "overflow_x": null,
            "grid_auto_flow": null,
            "grid_area": null,
            "grid_template_columns": null,
            "flex": null,
            "_model_name": "LayoutModel",
            "justify_items": null,
            "grid_row": null,
            "max_height": null,
            "align_content": null,
            "visibility": null,
            "align_self": null,
            "height": null,
            "min_height": null,
            "padding": null,
            "grid_auto_rows": null,
            "grid_gap": null,
            "max_width": null,
            "order": null,
            "_view_module_version": "1.2.0",
            "grid_template_areas": null,
            "object_position": null,
            "object_fit": null,
            "grid_auto_columns": null,
            "margin": null,
            "display": null,
            "left": null
          }
        },
        "3d1c3e3215e0430781494387a9350b30": {
          "model_module": "@jupyter-widgets/controls",
          "model_name": "HTMLModel",
          "model_module_version": "1.5.0",
          "state": {
            "_view_name": "HTMLView",
            "style": "IPY_MODEL_f985385e1c3d4b4895c400cb4d969efd",
            "_dom_classes": [],
            "description": "",
            "_model_name": "HTMLModel",
            "placeholder": "​",
            "_view_module": "@jupyter-widgets/controls",
            "_model_module_version": "1.5.0",
            "value": "19.758547: 100%",
            "_view_count": null,
            "_view_module_version": "1.5.0",
            "description_tooltip": null,
            "_model_module": "@jupyter-widgets/controls",
            "layout": "IPY_MODEL_666efaf883614bbf8ee54791fd6b8550"
          }
        },
        "270835382b9e42bb9fd30284ce3ce706": {
          "model_module": "@jupyter-widgets/controls",
          "model_name": "FloatProgressModel",
          "model_module_version": "1.5.0",
          "state": {
            "_view_name": "ProgressView",
            "style": "IPY_MODEL_e5911272b13d4f2389840bcae3d9d0bc",
            "_dom_classes": [],
            "description": "",
            "_model_name": "FloatProgressModel",
            "bar_style": "success",
            "max": 5000,
            "_view_module": "@jupyter-widgets/controls",
            "_model_module_version": "1.5.0",
            "value": 5000,
            "_view_count": null,
            "_view_module_version": "1.5.0",
            "orientation": "horizontal",
            "min": 0,
            "description_tooltip": null,
            "_model_module": "@jupyter-widgets/controls",
            "layout": "IPY_MODEL_0d58cd17a5a4432a9120fe04156e2dda"
          }
        },
        "3e5aa66d9f0742a9a3f16afe49abdcbd": {
          "model_module": "@jupyter-widgets/controls",
          "model_name": "HTMLModel",
          "model_module_version": "1.5.0",
          "state": {
            "_view_name": "HTMLView",
            "style": "IPY_MODEL_7be0eb0720aa47539459d3d001def911",
            "_dom_classes": [],
            "description": "",
            "_model_name": "HTMLModel",
            "placeholder": "​",
            "_view_module": "@jupyter-widgets/controls",
            "_model_module_version": "1.5.0",
            "value": " 5000/5000 [08:48&lt;00:00,  9.31it/s]",
            "_view_count": null,
            "_view_module_version": "1.5.0",
            "description_tooltip": null,
            "_model_module": "@jupyter-widgets/controls",
            "layout": "IPY_MODEL_31b76fb93c95496c9a8b46a04e3c2f24"
          }
        },
        "f985385e1c3d4b4895c400cb4d969efd": {
          "model_module": "@jupyter-widgets/controls",
          "model_name": "DescriptionStyleModel",
          "model_module_version": "1.5.0",
          "state": {
            "_view_name": "StyleView",
            "_model_name": "DescriptionStyleModel",
            "description_width": "",
            "_view_module": "@jupyter-widgets/base",
            "_model_module_version": "1.5.0",
            "_view_count": null,
            "_view_module_version": "1.2.0",
            "_model_module": "@jupyter-widgets/controls"
          }
        },
        "666efaf883614bbf8ee54791fd6b8550": {
          "model_module": "@jupyter-widgets/base",
          "model_name": "LayoutModel",
          "model_module_version": "1.2.0",
          "state": {
            "_view_name": "LayoutView",
            "grid_template_rows": null,
            "right": null,
            "justify_content": null,
            "_view_module": "@jupyter-widgets/base",
            "overflow": null,
            "_model_module_version": "1.2.0",
            "_view_count": null,
            "flex_flow": null,
            "width": null,
            "min_width": null,
            "border": null,
            "align_items": null,
            "bottom": null,
            "_model_module": "@jupyter-widgets/base",
            "top": null,
            "grid_column": null,
            "overflow_y": null,
            "overflow_x": null,
            "grid_auto_flow": null,
            "grid_area": null,
            "grid_template_columns": null,
            "flex": null,
            "_model_name": "LayoutModel",
            "justify_items": null,
            "grid_row": null,
            "max_height": null,
            "align_content": null,
            "visibility": null,
            "align_self": null,
            "height": null,
            "min_height": null,
            "padding": null,
            "grid_auto_rows": null,
            "grid_gap": null,
            "max_width": null,
            "order": null,
            "_view_module_version": "1.2.0",
            "grid_template_areas": null,
            "object_position": null,
            "object_fit": null,
            "grid_auto_columns": null,
            "margin": null,
            "display": null,
            "left": null
          }
        },
        "e5911272b13d4f2389840bcae3d9d0bc": {
          "model_module": "@jupyter-widgets/controls",
          "model_name": "ProgressStyleModel",
          "model_module_version": "1.5.0",
          "state": {
            "_view_name": "StyleView",
            "_model_name": "ProgressStyleModel",
            "description_width": "",
            "_view_module": "@jupyter-widgets/base",
            "_model_module_version": "1.5.0",
            "_view_count": null,
            "_view_module_version": "1.2.0",
            "bar_color": null,
            "_model_module": "@jupyter-widgets/controls"
          }
        },
        "0d58cd17a5a4432a9120fe04156e2dda": {
          "model_module": "@jupyter-widgets/base",
          "model_name": "LayoutModel",
          "model_module_version": "1.2.0",
          "state": {
            "_view_name": "LayoutView",
            "grid_template_rows": null,
            "right": null,
            "justify_content": null,
            "_view_module": "@jupyter-widgets/base",
            "overflow": null,
            "_model_module_version": "1.2.0",
            "_view_count": null,
            "flex_flow": null,
            "width": null,
            "min_width": null,
            "border": null,
            "align_items": null,
            "bottom": null,
            "_model_module": "@jupyter-widgets/base",
            "top": null,
            "grid_column": null,
            "overflow_y": null,
            "overflow_x": null,
            "grid_auto_flow": null,
            "grid_area": null,
            "grid_template_columns": null,
            "flex": null,
            "_model_name": "LayoutModel",
            "justify_items": null,
            "grid_row": null,
            "max_height": null,
            "align_content": null,
            "visibility": null,
            "align_self": null,
            "height": null,
            "min_height": null,
            "padding": null,
            "grid_auto_rows": null,
            "grid_gap": null,
            "max_width": null,
            "order": null,
            "_view_module_version": "1.2.0",
            "grid_template_areas": null,
            "object_position": null,
            "object_fit": null,
            "grid_auto_columns": null,
            "margin": null,
            "display": null,
            "left": null
          }
        },
        "7be0eb0720aa47539459d3d001def911": {
          "model_module": "@jupyter-widgets/controls",
          "model_name": "DescriptionStyleModel",
          "model_module_version": "1.5.0",
          "state": {
            "_view_name": "StyleView",
            "_model_name": "DescriptionStyleModel",
            "description_width": "",
            "_view_module": "@jupyter-widgets/base",
            "_model_module_version": "1.5.0",
            "_view_count": null,
            "_view_module_version": "1.2.0",
            "_model_module": "@jupyter-widgets/controls"
          }
        },
        "31b76fb93c95496c9a8b46a04e3c2f24": {
          "model_module": "@jupyter-widgets/base",
          "model_name": "LayoutModel",
          "model_module_version": "1.2.0",
          "state": {
            "_view_name": "LayoutView",
            "grid_template_rows": null,
            "right": null,
            "justify_content": null,
            "_view_module": "@jupyter-widgets/base",
            "overflow": null,
            "_model_module_version": "1.2.0",
            "_view_count": null,
            "flex_flow": null,
            "width": null,
            "min_width": null,
            "border": null,
            "align_items": null,
            "bottom": null,
            "_model_module": "@jupyter-widgets/base",
            "top": null,
            "grid_column": null,
            "overflow_y": null,
            "overflow_x": null,
            "grid_auto_flow": null,
            "grid_area": null,
            "grid_template_columns": null,
            "flex": null,
            "_model_name": "LayoutModel",
            "justify_items": null,
            "grid_row": null,
            "max_height": null,
            "align_content": null,
            "visibility": null,
            "align_self": null,
            "height": null,
            "min_height": null,
            "padding": null,
            "grid_auto_rows": null,
            "grid_gap": null,
            "max_width": null,
            "order": null,
            "_view_module_version": "1.2.0",
            "grid_template_areas": null,
            "object_position": null,
            "object_fit": null,
            "grid_auto_columns": null,
            "margin": null,
            "display": null,
            "left": null
          }
        }
      }
    }
  },
  "cells": [
    {
      "cell_type": "markdown",
      "metadata": {
        "id": "view-in-github",
        "colab_type": "text"
      },
      "source": [
        "<a href=\"https://colab.research.google.com/github/cisprague/bts-2021/blob/main/bts-2021-beta.ipynb\" target=\"_parent\"><img src=\"https://colab.research.google.com/assets/colab-badge.svg\" alt=\"Open In Colab\"/></a>"
      ]
    },
    {
      "cell_type": "markdown",
      "metadata": {
        "id": "XOFl1RKPjdt_"
      },
      "source": [
        "# System identification of AUVs with physics-informed learning\n",
        "\n",
        "Christopher Iliffe Sprague (sprague@kth.se)\n",
        "\n",
        "Sriharsha Bhat (svbhat@kth.se)"
      ]
    },
    {
      "cell_type": "markdown",
      "metadata": {
        "id": "yEzpfNjMjz7Y"
      },
      "source": [
        "# Outline\n",
        "\n",
        "- Background\n",
        "- What's the benefit?\n",
        "- Data generation\n",
        "- Model identification\n",
        "- Simulation\n",
        "- Discussion and future work"
      ]
    },
    {
      "cell_type": "markdown",
      "metadata": {
        "id": "KE18mZ_B16BQ"
      },
      "source": [
        "\n",
        "#Scenario\n",
        "\n",
        "Consider SAM, a slender AUV with counter-rotating propellers, thrust vectoring, and trim systems. SAM is a small and hydrobatic AUV, capable of agile maneuvers while still being efficient in speed and range.\n",
        "\n",
        "![sim_reality](https://drive.google.com/uc?export=view&id=1vcuj3Cjt08Li1FB6ZndiquqFNPaYOGfT)\n",
        "*Figure: The SAM AUV in the field, and in simulation.*\n",
        "\n",
        "\n",
        "\n",
        "\n",
        "\n",
        "\n",
        "\n",
        "\n"
      ]
    },
    {
      "cell_type": "markdown",
      "metadata": {
        "id": "Ke5En5u7mzJ8"
      },
      "source": [
        "# Resources\n",
        "\n",
        "Here, we just import all the resources that are necessary to run the code below. This might take a moment."
      ]
    },
    {
      "cell_type": "code",
      "metadata": {
        "id": "MbwNlmTpmyru",
        "colab": {
          "base_uri": "https://localhost:8080/"
        },
        "outputId": "449a5885-36f9-4593-e6ce-0d373a9a4673"
      },
      "source": [
        "# JAX for autograd and and numerics\n",
        "! pip install --upgrade pip\n",
        "! pip install --upgrade \"jax[cuda101]\" -f https://storage.googleapis.com/jax-releases/jax_releases.html\n",
        "import jax.numpy as np\n",
        "from jax import jit, vmap, jacobian, hessian, grad\n",
        "from jax.experimental.ode import odeint\n",
        "from jax.random import uniform, choice\n",
        "from jax.nn import softplus\n",
        "from jax.lax import stop_gradient\n",
        "\n",
        "# Haiku for neural networks\n",
        "! pip install git+https://github.com/deepmind/dm-haiku\n",
        "import haiku as hk\n",
        "\n",
        "# Optax for optimisation\n",
        "! pip install git+https://github.com/deepmind/optax\n",
        "import optax\n",
        "\n",
        "# TQDM for training loop feedback\n",
        "! pip install tqdm\n",
        "from tqdm.notebook import tqdm\n",
        "\n",
        "# SKLearn for preprocessing data\n",
        "from sklearn.preprocessing import StandardScaler\n",
        "\n",
        "# treating some arguments as static\n",
        "from functools import partial\n",
        "\n",
        "# computer algebra\n",
        "import sympy\n",
        "\n",
        "# matplotlib for plotting\n",
        "import matplotlib.pyplot as plt\n",
        "from mpl_toolkits.mplot3d import Axes3D\n",
        "%matplotlib inline"
      ],
      "execution_count": 1,
      "outputs": [
        {
          "output_type": "stream",
          "name": "stdout",
          "text": [
            "Requirement already satisfied: pip in /usr/local/lib/python3.7/dist-packages (21.1.3)\n",
            "Collecting pip\n",
            "  Downloading pip-21.2.4-py3-none-any.whl (1.6 MB)\n",
            "\u001b[K     |████████████████████████████████| 1.6 MB 5.2 MB/s \n",
            "\u001b[?25hInstalling collected packages: pip\n",
            "  Attempting uninstall: pip\n",
            "    Found existing installation: pip 21.1.3\n",
            "    Uninstalling pip-21.1.3:\n",
            "      Successfully uninstalled pip-21.1.3\n",
            "Successfully installed pip-21.2.4\n",
            "Looking in links: https://storage.googleapis.com/jax-releases/jax_releases.html\n",
            "Requirement already satisfied: jax[cuda101] in /usr/local/lib/python3.7/dist-packages (0.2.19)\n",
            "Collecting jax[cuda101]\n",
            "  Downloading jax-0.2.20.tar.gz (745 kB)\n",
            "\u001b[K     |████████████████████████████████| 745 kB 5.3 MB/s \n",
            "\u001b[33mWARNING: jax 0.2.20 does not provide the extra 'cuda101'\u001b[0m\n",
            "\u001b[?25hRequirement already satisfied: absl-py in /usr/local/lib/python3.7/dist-packages (from jax[cuda101]) (0.12.0)\n",
            "Requirement already satisfied: numpy>=1.18 in /usr/local/lib/python3.7/dist-packages (from jax[cuda101]) (1.19.5)\n",
            "Requirement already satisfied: opt_einsum in /usr/local/lib/python3.7/dist-packages (from jax[cuda101]) (3.3.0)\n",
            "Requirement already satisfied: scipy>=1.2.1 in /usr/local/lib/python3.7/dist-packages (from jax[cuda101]) (1.4.1)\n",
            "Requirement already satisfied: six in /usr/local/lib/python3.7/dist-packages (from absl-py->jax[cuda101]) (1.15.0)\n",
            "Building wheels for collected packages: jax\n",
            "  Building wheel for jax (setup.py) ... \u001b[?25l\u001b[?25hdone\n",
            "  Created wheel for jax: filename=jax-0.2.20-py3-none-any.whl size=854828 sha256=f1ff78e5d6608e07de80f7154eb668e7ff0da8a3b90607822308fc38514aaa19\n",
            "  Stored in directory: /root/.cache/pip/wheels/d7/d6/6e/370b9c3dbee6863e8ad989b9f0ace88bd0d73843cf32243715\n",
            "Successfully built jax\n",
            "Installing collected packages: jax\n",
            "  Attempting uninstall: jax\n",
            "    Found existing installation: jax 0.2.19\n",
            "    Uninstalling jax-0.2.19:\n",
            "      Successfully uninstalled jax-0.2.19\n",
            "Successfully installed jax-0.2.20\n",
            "\u001b[33mWARNING: Running pip as the 'root' user can result in broken permissions and conflicting behaviour with the system package manager. It is recommended to use a virtual environment instead: https://pip.pypa.io/warnings/venv\u001b[0m\n",
            "Collecting git+https://github.com/deepmind/dm-haiku\n",
            "  Cloning https://github.com/deepmind/dm-haiku to /tmp/pip-req-build-tq55bfei\n",
            "  Running command git clone -q https://github.com/deepmind/dm-haiku /tmp/pip-req-build-tq55bfei\n",
            "  Resolved https://github.com/deepmind/dm-haiku to commit 48f5d5d9b7faabffb3860900c633229bc57e01df\n",
            "Requirement already satisfied: absl-py>=0.7.1 in /usr/local/lib/python3.7/dist-packages (from dm-haiku==0.0.5.dev0) (0.12.0)\n",
            "Collecting jmp>=0.0.2\n",
            "  Downloading jmp-0.0.2-py3-none-any.whl (16 kB)\n",
            "Requirement already satisfied: numpy>=1.18.0 in /usr/local/lib/python3.7/dist-packages (from dm-haiku==0.0.5.dev0) (1.19.5)\n",
            "Requirement already satisfied: tabulate>=0.8.9 in /usr/local/lib/python3.7/dist-packages (from dm-haiku==0.0.5.dev0) (0.8.9)\n",
            "Requirement already satisfied: typing_extensions in /usr/local/lib/python3.7/dist-packages (from dm-haiku==0.0.5.dev0) (3.7.4.3)\n",
            "Requirement already satisfied: six in /usr/local/lib/python3.7/dist-packages (from absl-py>=0.7.1->dm-haiku==0.0.5.dev0) (1.15.0)\n",
            "Building wheels for collected packages: dm-haiku\n",
            "  Building wheel for dm-haiku (setup.py) ... \u001b[?25l\u001b[?25hdone\n",
            "  Created wheel for dm-haiku: filename=dm_haiku-0.0.5.dev0-py3-none-any.whl size=533133 sha256=5d5fa31bf6fbdcceee43fac02838414b49882b18eba1b092f3fb485215778d14\n",
            "  Stored in directory: /tmp/pip-ephem-wheel-cache-f5nli3yt/wheels/06/28/69/ebaac5b2435641427299f29d88d005fb4e2627f4a108f0bdbc\n",
            "Successfully built dm-haiku\n",
            "Installing collected packages: jmp, dm-haiku\n",
            "Successfully installed dm-haiku-0.0.5.dev0 jmp-0.0.2\n",
            "\u001b[33mWARNING: Running pip as the 'root' user can result in broken permissions and conflicting behaviour with the system package manager. It is recommended to use a virtual environment instead: https://pip.pypa.io/warnings/venv\u001b[0m\n",
            "Collecting git+https://github.com/deepmind/optax\n",
            "  Cloning https://github.com/deepmind/optax to /tmp/pip-req-build-mkz4jr52\n",
            "  Running command git clone -q https://github.com/deepmind/optax /tmp/pip-req-build-mkz4jr52\n",
            "  Resolved https://github.com/deepmind/optax to commit 3f42a614096a7cd778e8cab15fd55e4766f47b53\n",
            "Requirement already satisfied: absl-py>=0.7.1 in /usr/local/lib/python3.7/dist-packages (from optax==0.0.9) (0.12.0)\n",
            "Collecting chex>=0.0.4\n",
            "  Downloading chex-0.0.8-py3-none-any.whl (57 kB)\n",
            "\u001b[K     |████████████████████████████████| 57 kB 2.9 MB/s \n",
            "\u001b[?25hRequirement already satisfied: jax>=0.1.55 in /usr/local/lib/python3.7/dist-packages (from optax==0.0.9) (0.2.20)\n",
            "Requirement already satisfied: jaxlib>=0.1.37 in /usr/local/lib/python3.7/dist-packages (from optax==0.0.9) (0.1.70+cuda110)\n",
            "Requirement already satisfied: numpy>=1.18.0 in /usr/local/lib/python3.7/dist-packages (from optax==0.0.9) (1.19.5)\n",
            "Requirement already satisfied: six in /usr/local/lib/python3.7/dist-packages (from absl-py>=0.7.1->optax==0.0.9) (1.15.0)\n",
            "Requirement already satisfied: toolz>=0.9.0 in /usr/local/lib/python3.7/dist-packages (from chex>=0.0.4->optax==0.0.9) (0.11.1)\n",
            "Requirement already satisfied: dm-tree>=0.1.5 in /usr/local/lib/python3.7/dist-packages (from chex>=0.0.4->optax==0.0.9) (0.1.6)\n",
            "Requirement already satisfied: opt-einsum in /usr/local/lib/python3.7/dist-packages (from jax>=0.1.55->optax==0.0.9) (3.3.0)\n",
            "Requirement already satisfied: scipy>=1.2.1 in /usr/local/lib/python3.7/dist-packages (from jax>=0.1.55->optax==0.0.9) (1.4.1)\n",
            "Requirement already satisfied: flatbuffers<3.0,>=1.12 in /usr/local/lib/python3.7/dist-packages (from jaxlib>=0.1.37->optax==0.0.9) (1.12)\n",
            "Building wheels for collected packages: optax\n",
            "  Building wheel for optax (setup.py) ... \u001b[?25l\u001b[?25hdone\n",
            "  Created wheel for optax: filename=optax-0.0.9-py3-none-any.whl size=120862 sha256=b49d316e60d8852a806f602b53df09adc7db403594dcba1e081068291f0bba4d\n",
            "  Stored in directory: /tmp/pip-ephem-wheel-cache-tk0vy99r/wheels/18/80/7e/f95870d651357f77f2ddeb452b3584a09053c224cc08d7fd86\n",
            "Successfully built optax\n",
            "Installing collected packages: chex, optax\n",
            "Successfully installed chex-0.0.8 optax-0.0.9\n",
            "\u001b[33mWARNING: Running pip as the 'root' user can result in broken permissions and conflicting behaviour with the system package manager. It is recommended to use a virtual environment instead: https://pip.pypa.io/warnings/venv\u001b[0m\n",
            "Requirement already satisfied: tqdm in /usr/local/lib/python3.7/dist-packages (4.62.0)\n",
            "\u001b[33mWARNING: Running pip as the 'root' user can result in broken permissions and conflicting behaviour with the system package manager. It is recommended to use a virtual environment instead: https://pip.pypa.io/warnings/venv\u001b[0m\n"
          ]
        }
      ]
    },
    {
      "cell_type": "code",
      "metadata": {
        "id": "M9GylCN9-_UC",
        "colab": {
          "base_uri": "https://localhost:8080/"
        },
        "outputId": "278e3677-a174-458c-af36-34be3c5fc56d"
      },
      "source": [
        "# to make sure we're\n",
        "from jax.lib import xla_bridge\n",
        "print('We are using the {}'.format(xla_bridge.get_backend().platform))"
      ],
      "execution_count": 2,
      "outputs": [
        {
          "output_type": "stream",
          "name": "stderr",
          "text": [
            "WARNING:absl:No GPU/TPU found, falling back to CPU. (Set TF_CPP_MIN_LOG_LEVEL=0 and rerun for more info.)\n"
          ]
        },
        {
          "output_type": "stream",
          "name": "stdout",
          "text": [
            "We are using the cpu\n"
          ]
        }
      ]
    },
    {
      "cell_type": "code",
      "metadata": {
        "id": "aR__NDVS-_UD"
      },
      "source": [
        "# this is a random seed generator: use `next(key)` to get a seed.\n",
        "key = hk.PRNGSequence(42)"
      ],
      "execution_count": 3,
      "outputs": []
    },
    {
      "cell_type": "markdown",
      "metadata": {
        "id": "7SDLTz2ukoQq"
      },
      "source": [
        "# Analytical models"
      ]
    },
    {
      "cell_type": "markdown",
      "metadata": {
        "id": "CQCUrq34-_UF"
      },
      "source": [
        "## Properties"
      ]
    },
    {
      "cell_type": "code",
      "metadata": {
        "id": "yXVFOnZw-_UF"
      },
      "source": [
        "# dimensions\n",
        "dim_state = 12\n",
        "#dim_control = 6 #with rpm1,rpm2,de,dr,vbs,lcg\n",
        "dim_control = 4 #with rpm1,rpm2,de,dr,vbs,lcg"
      ],
      "execution_count": 4,
      "outputs": []
    },
    {
      "cell_type": "code",
      "metadata": {
        "id": "DoR3apMd-_UG"
      },
      "source": [
        "# state bounds for training and testing\n",
        "bounds_state_train = np.array([*[20]*3, *[np.pi]*3, *[10]*3, *[10]*3])\n",
        "bounds_state_test = bounds_state_train/4\n",
        "bounds_state_train = (-bounds_state_train, bounds_state_train)\n",
        "bounds_state_test = (-bounds_state_test, bounds_state_test)\n",
        "\n",
        "# control bounds\n",
        "bounds_control = (\n",
        "    np.full(dim_control, -1.0),\n",
        "    np.full(dim_control, 1.0)\n",
        ")"
      ],
      "execution_count": 5,
      "outputs": []
    },
    {
      "cell_type": "markdown",
      "metadata": {
        "id": "a74Dlpg6Yznq"
      },
      "source": [
        "## Testing data"
      ]
    },
    {
      "cell_type": "code",
      "metadata": {
        "id": "q9uVOiKt-_UH"
      },
      "source": [
        "# random state and control\n",
        "n = 10\n",
        "states_test = uniform(\n",
        "    next(key),\n",
        "    (10, dim_state),\n",
        "    minval=bounds_state_test[0],\n",
        "    maxval=bounds_state_test[1]\n",
        ")\n",
        "controls_test = uniform(\n",
        "    next(key),\n",
        "    (10, dim_control),\n",
        "    minval=bounds_control[0],\n",
        "    maxval=bounds_control[1]\n",
        ")"
      ],
      "execution_count": 6,
      "outputs": []
    },
    {
      "cell_type": "markdown",
      "metadata": {
        "id": "dS4hSpU9-_UH"
      },
      "source": [
        "## Transformations"
      ]
    },
    {
      "cell_type": "code",
      "metadata": {
        "id": "Pdx2qOUuktpJ"
      },
      "source": [
        "# skew matrix of vector\n",
        "@jit\n",
        "def skew(vec):\n",
        "  return np.array([\n",
        "    [0, -vec[2], vec[1]],\n",
        "    [vec[2], 0, -vec[0]],\n",
        "    [-vec[1], vec[0], 0]\n",
        "  ])"
      ],
      "execution_count": 7,
      "outputs": []
    },
    {
      "cell_type": "code",
      "metadata": {
        "id": "ta4i4rWv-_UI"
      },
      "source": [
        "# vector from skew matrix\n",
        "@jit\n",
        "def unskew(mat):\n",
        "    return np.array([\n",
        "        mat[2,1],\n",
        "        mat[0,2],\n",
        "        mat[1,0]\n",
        "    ])"
      ],
      "execution_count": 8,
      "outputs": []
    },
    {
      "cell_type": "code",
      "metadata": {
        "id": "k6FY25lf-_UI"
      },
      "source": [
        "# rotation matrix from body to NED for linear vectors\n",
        "@jit\n",
        "def R_b2ned(phi, theta, psi):\n",
        "    Rx = np.array([\n",
        "        [1, 0, 0],\n",
        "        [0, np.cos(phi), -np.sin(phi)],\n",
        "        [0, np.sin(phi), np.cos(phi)]\n",
        "    ])\n",
        "    Ry = np.array([\n",
        "        [np.cos(theta), 0, np.sin(theta)],\n",
        "        [0, 1, 0],\n",
        "        [-np.sin(theta), 0, np.cos(theta)]\n",
        "    ])\n",
        "    Rz = np.array([\n",
        "        [np.cos(psi), -np.sin(psi), 0],\n",
        "        [np.sin(psi), np.cos(psi), 0],\n",
        "        [0, 0, 1]\n",
        "    ])\n",
        "    R = Rz@Ry@Rx\n",
        "    return R"
      ],
      "execution_count": 9,
      "outputs": []
    },
    {
      "cell_type": "code",
      "metadata": {
        "id": "Y_HHsFZr-_UJ"
      },
      "source": [
        "# rotation matrix from body to NED for angular vectors\n",
        "@jit\n",
        "def T_b2ned(phi, theta, psi):\n",
        "    T = np.array([\n",
        "        [1, np.sin(phi)*np.tan(theta), np.cos(phi)*np.tan(theta)],\n",
        "        [0, np.cos(phi), -np.sin(phi)],\n",
        "        [0, np.sin(phi)/np.cos(theta), np.cos(phi)/np.cos(theta)],\n",
        "    ])\n",
        "    return T"
      ],
      "execution_count": 10,
      "outputs": []
    },
    {
      "cell_type": "markdown",
      "metadata": {
        "id": "dcLBuduR-_UJ"
      },
      "source": [
        "We will assume that we know the analytical mapping between $q$ and $\\dot q$."
      ]
    },
    {
      "cell_type": "markdown",
      "metadata": {
        "id": "xalpR9uc-_UK"
      },
      "source": [
        "## State-space\n",
        "We will gather data from an analytical model of an AUV, so that we can compare the learned/identified model with a ground truth. However, in practice, one can also use other data as input, such as AUV pose data from missions. \n",
        "\n",
        "A six degree-of freedom AUV model is used leading to 12 states ($x,y,z,\\phi,\\theta,\\psi,u,v,w,p,q,r $), based on Fossen's notation. \n",
        "\n",
        "The kinematics are of the form\n",
        "    $\\dot \\eta = J_{euler}(\\eta)\\nu$ , \n",
        "    where $\\eta$ represents the vector of positions and orientations in Euler angles, while $\\nu$ represents the vector of velocities and angular velocities and $J_{euler}\\in\\mathbb{R}^{6 \\times 6}$ is the kinematic transformation matrix. \n",
        "\n",
        "The dynamics are of the form\n",
        "    $M_{\\text{eff}} \\dot\\nu + C_{\\text{eff}}(\\nu)\\nu + D_(\\nu)\\nu + g(\\eta) = \\tau_C$, \n",
        "    where M represents the combined mass and inertia matrix (considering rigid body terms, but added mass terms can also be included), C is the combined coriolis-centripetal matrix, D is the damping matrix (considering hydrodynamics), g represents the buoyancy forces (considering hydrostatics) and $\\tau_C$ refers to the vector of external control forces (such as from actuators).\n",
        "\n",
        "The hydrodynamic damping in particular is very difficult to model, since the flow around a slender body can transition to turbulent flow at higher angles of attack and Reynolds numbers.  \n",
        "\n",
        "![vortex pair](https://drive.google.com/uc?export=view&id=1dFszaOHlbwP1LXMtC3WZVsUHtg0xiopB)\n",
        "*Figure: Vortex shedding from a slender body at an angle of attack of 37°.*\n",
        "\n",
        "\n",
        "The AUV under consideration (SAM) has 6 actuators including counter-rotating propellers (to control speed and roll), thrust vectoring(for yaw and pitch), longitudinal center of gravity(for static pitching and gliding) and a variable buoyancy system (to regulate buoyancy) and is underactuated. The effect of these actuators are included in the code below.\n",
        "\n",
        "![SAM hardware](https://drive.google.com/uc?export=view&id=1c5KqPVnk8RKKVlJN38UJYj5tMknRwPZ4)\n",
        "*Figure: The actuator subsystems on SAM*\n"
      ]
    },
    {
      "cell_type": "code",
      "metadata": {
        "id": "UEqKTbPanK_u"
      },
      "source": [
        "@jit\n",
        "def f_analytical_terms(state, control):\n",
        "\n",
        "  # state and control\n",
        "  x, y, z, phi, theta, psi, u, v, w, p, q, r = state\n",
        "  #rpm1, rpm2, de, dr, lcg, vbs = control\n",
        "  rpm1, rpm2, de, dr = control\n",
        "\n",
        "  # position (NED) and velocity (body), rsp\n",
        "  eta = np.array([x, y, z, phi, theta, psi])\n",
        "  nu = np.array([u, v, w, p, q, r])\n",
        "\n",
        "  # scaled controls\n",
        "  rpm1 *= 1000.0\n",
        "  rpm2 *= 1000.0\n",
        "  de *= 0.05\n",
        "  dr *= 0.05\n",
        "  # vbs *= 1.0\n",
        "  # lcg *= 1.0\n",
        "\n",
        "  # mass and inertia matrix\n",
        "  m = 14.0\n",
        "  I_o = np.diag(np.array([0.0294, 1.6202, 1.6202]))\n",
        "\n",
        "  # centre of gravity, buoyancy, and pressure positions, resp.\n",
        "  #r_g = np.array([0.1 + lcg*0.01, 0.0, 0.0])\n",
        "  r_g = np.array([0.1, 0.0, 0.0]) #no effect of Longitudinal C.G. trim system\n",
        "  r_b = np.array([0.1, 0.0, 0.0])\n",
        "  r_cp = np.array([0.1, 0.0, 0.0])\n",
        "\n",
        "  # <insert title>\n",
        "  W = m*9.81\n",
        "  #B = W + vbs*1.5\n",
        "  B = W #no effect of Variable buoyancy system\n",
        "\n",
        "  # hydrodynamic coefficients\n",
        "  Xuu = 5. #3. #1.0\n",
        "  Yvv = 20. #10. #100.0\n",
        "  Zww = 50. #100.0\n",
        "  Kpp = 0.1 #10.0\n",
        "  Mqq = 20.#40 #100.0\n",
        "  Nrr = 20. #150.0\n",
        "\n",
        "  # control actuators\n",
        "  K_T = np.array([0.0175, 0.0175])\n",
        "  Q_T = np.array([0.001, -0.001])#*0.0\n",
        "\n",
        "  # mass and inertia matrix\n",
        "  M = np.block([\n",
        "    [m*np.eye(3,3), -m*skew(r_g)],\n",
        "    [m*skew(r_g), I_o]\n",
        "  ])\n",
        "  assert M.shape == (6,6), M\n",
        "\n",
        "  # coriolis and centripetal matrix\n",
        "  nu1 = np.array([u, v, w])\n",
        "  nu2 = np.array([p, q, r])\n",
        "  top_right = -m*skew(nu1) - m*skew(nu2)*skew(r_g)\n",
        "  bottom_left = -m*skew(nu1) + m*skew(r_g)*skew(nu2)\n",
        "  bottom_right = -skew(I_o.dot(nu2))\n",
        "  C_RB = np.block([\n",
        "    [np.zeros((3,3)), top_right],\n",
        "    [bottom_left, bottom_right]\n",
        "  ])\n",
        "  assert C_RB.shape == (6, 6), C_RB\n",
        "\n",
        "  # damping matrix\n",
        "  forces = np.diag(np.array([Xuu*np.abs(u), Yvv*np.abs(v), Zww*np.abs(w)]))\n",
        "  moments = np.diag(np.array([Kpp*np.abs(p), Mqq*np.abs(q), Nrr*np.abs(r)]))\n",
        "  coupling = np.matmul(skew(r_cp), forces)\n",
        "  D = np.block([[forces, np.zeros((3, 3))], [-coupling, moments]])\n",
        "  assert D.shape == (6, 6), D\n",
        "\n",
        "  # rotational transform between body and NED in Euler\n",
        "  T_euler = T_b2ned(phi, theta, psi)      \n",
        "  R_euler = R_b2ned(phi, theta, psi)\n",
        "  assert R_euler.shape == (3,3), R_euler\n",
        "  J_eta = np.block([\n",
        "    [R_euler, np.zeros((3,3))],\n",
        "    [np.zeros((3,3)), T_euler]\n",
        "  ])\n",
        "  assert J_eta.shape == (6,6), J_eta\n",
        "\n",
        "  # buoyancy in quaternions\n",
        "  f_g = np.array([0, 0, W])\n",
        "  f_b = np.array([0, 0, -B])\n",
        "  row1 = np.linalg.inv(R_euler).dot(f_g + f_b)\n",
        "  row2 = skew(r_g).dot(np.linalg.inv(R_euler)).dot(f_g) + \\\n",
        "    skew(r_b).dot(np.linalg.inv(R_euler)).dot(f_b)\n",
        "  geta = np.block([row1, row2])\n",
        "  assert geta.shape == (6,), geta\n",
        "\n",
        "  # <insert title>\n",
        "  F_T = K_T.dot(np.array([rpm1, rpm2]))\n",
        "  M_T = Q_T.dot(np.array([rpm1, rpm2]))\n",
        "  tauc = np.array([\n",
        "    F_T*np.cos(de)*np.cos(dr),\n",
        "    -F_T*np.sin(dr),\n",
        "    F_T*np.sin(de)*np.cos(dr),\n",
        "    M_T*np.cos(de)*np.cos(dr),\n",
        "    -M_T*np.sin(dr),\n",
        "    M_T*np.sin(de)*np.cos(dr)\n",
        "  ])\n",
        "  assert tauc.shape == (6,), tauc\n",
        "\n",
        "  # rate of change of position in NED frame\n",
        "  etadot = np.block([J_eta.dot(nu)])\n",
        "  assert etadot.shape == (6,)\n",
        "\n",
        "  # etadot and terms for rate of change of velocity in body frame\n",
        "  return etadot, M, tauc, C_RB, D, nu, geta\n",
        "  # nudot = np.linalg.inv(M).dot(tauc - (C_RB + D).dot(nu) - geta)\n",
        "  #F_nonconsv = tauc - D.dot(nu) # nonconservative terms \n",
        "  #F_consv = -C_RB.dot(nu)-geta # conservative terms in the nudot equation  \n",
        "  # assert nudot.shape == (6,)\n",
        "\n",
        "  # state-space\n",
        "  # sdot = np.block([etadot, nudot])\n",
        "  # return sdot"
      ],
      "execution_count": 11,
      "outputs": []
    },
    {
      "cell_type": "code",
      "metadata": {
        "id": "8Sh6LU-L53qP"
      },
      "source": [
        "@jit\n",
        "def f_analytical(state, control):\n",
        "\n",
        "  # Fossen terms\n",
        "  etadot, M, tauc, C_RB, D, nu, geta = f_analytical_terms(state, control)\n",
        "\n",
        "  # acceleration in body\n",
        "  nudot = np.linalg.pinv(M).dot(tauc - (C_RB + D).dot(nu) - geta)\n",
        "\n",
        "  # state-space dynamics\n",
        "  return np.hstack((etadot, nudot))"
      ],
      "execution_count": 12,
      "outputs": []
    },
    {
      "cell_type": "code",
      "metadata": {
        "colab": {
          "base_uri": "https://localhost:8080/"
        },
        "id": "1sbindSy8zw3",
        "outputId": "e2275586-357c-4109-c35b-9ace63d3e61b"
      },
      "source": [
        "f_analytical(states_test[0], controls_test[0])"
      ],
      "execution_count": 13,
      "outputs": [
        {
          "output_type": "execute_result",
          "data": {
            "text/plain": [
              "DeviceArray([  0.5693501 ,  -0.147798  ,  -2.076807  ,   0.76450896,\n",
              "              -2.1308217 ,  -0.8974864 ,  -3.8478136 ,   0.98714745,\n",
              "              23.047037  , -43.049248  ,  95.13063   ,  -2.110765  ],            dtype=float32)"
            ]
          },
          "metadata": {},
          "execution_count": 13
        }
      ]
    },
    {
      "cell_type": "markdown",
      "metadata": {
        "id": "jVJmDvCeOCfH"
      },
      "source": [
        "# Visualization"
      ]
    },
    {
      "cell_type": "code",
      "metadata": {
        "id": "lTTydH8FOET1"
      },
      "source": [
        "# integrates a single trajectory with constant control\n",
        "@partial(jit, static_argnums=(2,3,4))\n",
        "def trajectory_constant(x, u, f, T, h):\n",
        "    return odeint(lambda x, t: f(x, u), x, np.arange(0.0, T, h))\n",
        "\n",
        "# integrates multiple trajectories in parallel with constant control\n",
        "trajectories_constant = jit(\n",
        "    vmap(trajectory_constant, in_axes=(0,0, None, None, None)),\n",
        "    static_argnums=(2,3,4)\n",
        ")"
      ],
      "execution_count": 14,
      "outputs": []
    },
    {
      "cell_type": "code",
      "metadata": {
        "colab": {
          "base_uri": "https://localhost:8080/"
        },
        "id": "r35Dv5IuTje3",
        "outputId": "53685800-f192-4b81-f69d-edd30192ec3c"
      },
      "source": [
        "trajectory_constant(states_test[0], controls_test[0], f_analytical, 10, 0.1)"
      ],
      "execution_count": 15,
      "outputs": [
        {
          "output_type": "execute_result",
          "data": {
            "text/plain": [
              "DeviceArray([[ -4.9593186 ,  -1.8166649 ,  -0.6248605 , ...,\n",
              "                0.44332087,  -2.2656572 ,   0.33093572],\n",
              "             [ -4.924726  ,  -1.8438619 ,  -0.7823896 , ...,\n",
              "               -2.7942317 ,  -0.17025623,  -0.24163081],\n",
              "             [ -4.9077663 ,  -1.8745002 ,  -0.88719356, ...,\n",
              "               -3.4562361 ,   0.17481227,  -0.5018329 ],\n",
              "             ...,\n",
              "             [  2.4260066 , -11.178858  ,  -0.36635327, ...,\n",
              "               -3.5298636 ,   0.03535058,  -0.23604065],\n",
              "             [  2.5194726 , -11.289111  ,  -0.3663398 , ...,\n",
              "               -3.5298636 ,   0.15242927,  -0.11872052],\n",
              "             [  2.613764  , -11.398771  ,  -0.36531487, ...,\n",
              "               -3.5298636 ,   0.21702553,   0.04947481]], dtype=float32)"
            ]
          },
          "metadata": {},
          "execution_count": 15
        }
      ]
    },
    {
      "cell_type": "code",
      "metadata": {
        "colab": {
          "base_uri": "https://localhost:8080/"
        },
        "id": "NZ6XbnSETv1e",
        "outputId": "43629ee7-150a-45b5-d386-398a83acd415"
      },
      "source": [
        "trajectories_constant(states_test, controls_test, f_analytical, 10, 0.1)"
      ],
      "execution_count": 16,
      "outputs": [
        {
          "output_type": "execute_result",
          "data": {
            "text/plain": [
              "DeviceArray([[[-4.95931864e+00, -1.81666493e+00, -6.24860525e-01, ...,\n",
              "                4.43320870e-01, -2.26565719e+00,  3.30935717e-01],\n",
              "              [-4.92472982e+00, -1.84386230e+00, -7.82390475e-01, ...,\n",
              "               -2.79423356e+00, -1.70256272e-01, -2.41631493e-01],\n",
              "              [-4.90776682e+00, -1.87449968e+00, -8.87193441e-01, ...,\n",
              "               -3.45623636e+00,  1.74812481e-01, -5.01832902e-01],\n",
              "              ...,\n",
              "              [ 2.42600346e+00, -1.11788473e+01, -3.66341710e-01, ...,\n",
              "               -3.52986360e+00,  3.53602134e-02, -2.36033976e-01],\n",
              "              [ 2.51947141e+00, -1.12891169e+01, -3.66326809e-01, ...,\n",
              "               -3.52986360e+00,  1.52436808e-01, -1.18711151e-01],\n",
              "              [ 2.61376190e+00, -1.13987722e+01, -3.65301341e-01, ...,\n",
              "               -3.52986360e+00,  2.17027232e-01,  4.94858846e-02]],\n",
              "\n",
              "             [[ 4.61505890e+00,  3.84182572e+00, -8.36713314e-01, ...,\n",
              "                1.29304409e+00, -1.48323596e+00,  1.27847791e+00],\n",
              "              [ 4.82879734e+00,  3.92321301e+00, -8.06722462e-01, ...,\n",
              "                1.57760894e+00, -6.31090879e-01,  7.63895571e-01],\n",
              "              [ 5.02587509e+00,  3.98676944e+00, -7.65599668e-01, ...,\n",
              "                1.67692590e+00, -4.33385640e-01,  5.92855632e-01],\n",
              "              ...,\n",
              "              [ 1.72434006e+01,  7.01597929e+00,  4.91689920e+00, ...,\n",
              "                1.72343624e+00, -1.61825553e-01, -1.52060792e-01],\n",
              "              [ 1.73653145e+01,  7.03936195e+00,  4.98215055e+00, ...,\n",
              "                1.72343624e+00, -1.95417419e-01, -1.29888117e-01],\n",
              "              [ 1.74870167e+01,  7.06339979e+00,  5.04767227e+00, ...,\n",
              "                1.72343624e+00, -2.05332890e-01, -1.00500889e-01]],\n",
              "\n",
              "             [[-4.92309332e-01, -4.18692017e+00,  2.87053585e-01, ...,\n",
              "               -8.68484378e-01,  2.74001956e-01, -1.58002615e+00],\n",
              "              [-4.32719707e-01, -4.04335928e+00,  2.30394304e-01, ...,\n",
              "               -1.49761534e+00,  2.85142094e-01, -4.17500660e-02],\n",
              "              [-3.90610546e-01, -3.92515111e+00,  1.85909450e-01, ...,\n",
              "               -1.73512912e+00,  1.99734420e-01,  4.47092861e-01],\n",
              "              ...,\n",
              "              [ 6.87157106e+00, -7.00949240e+00, -4.47731686e+00, ...,\n",
              "               -1.84003389e+00, -1.24750495e-01,  4.80816513e-02],\n",
              "              [ 6.96539927e+00, -7.05349922e+00, -4.54210663e+00, ...,\n",
              "               -1.84003389e+00, -1.49813920e-01, -2.39285268e-02],\n",
              "              [ 7.06002378e+00, -7.09685230e+00, -4.60611248e+00, ...,\n",
              "               -1.84003389e+00, -1.54797614e-01, -1.03131846e-01]],\n",
              "\n",
              "             ...,\n",
              "\n",
              "             [[-3.56976271e+00, -2.41005540e+00,  3.97332191e+00, ...,\n",
              "                1.82099342e-01,  1.55034542e+00, -2.22685695e+00],\n",
              "              [-3.82077074e+00, -2.47466993e+00,  4.03783369e+00, ...,\n",
              "               -2.86595273e+00,  3.28188270e-01, -2.91480988e-01],\n",
              "              [-4.04360104e+00, -2.55296612e+00,  4.08915377e+00, ...,\n",
              "               -3.44923091e+00,  1.57443807e-01,  9.47349072e-02],\n",
              "              ...,\n",
              "              [-1.38905640e+01, -7.46347523e+00,  7.97660780e+00, ...,\n",
              "               -3.51401234e+00,  4.44598421e-02,  1.67243987e-01],\n",
              "              [-1.39811201e+01, -7.50630522e+00,  8.02484894e+00, ...,\n",
              "               -3.51401234e+00,  2.52422355e-02,  1.91304684e-01],\n",
              "              [-1.40722961e+01, -7.54797649e+00,  8.07283974e+00, ...,\n",
              "               -3.51401234e+00,  4.58885031e-03,  2.01232255e-01]],\n",
              "\n",
              "             [[-3.73446584e+00,  3.08893204e+00, -3.01815748e+00, ...,\n",
              "                2.47255373e+00,  4.33790088e-01,  2.48659849e+00],\n",
              "              [-3.52998924e+00,  2.92805266e+00, -3.02557898e+00, ...,\n",
              "                2.02738792e-01,  7.92753577e-01,  2.50861406e-01],\n",
              "              [-3.33779931e+00,  2.82095218e+00, -3.03526473e+00, ...,\n",
              "               -1.27465475e+00,  4.97356623e-01, -3.81007135e-01],\n",
              "              ...,\n",
              "              [ 1.39872227e+01, -1.00974369e+00, -2.57007742e+00, ...,\n",
              "               -2.20661855e+00, -1.55239508e-01, -2.78107673e-01],\n",
              "              [ 1.41667910e+01, -1.05973399e+00, -2.57416487e+00, ...,\n",
              "               -2.20661855e+00, -8.72722268e-02, -2.80199498e-01],\n",
              "              [ 1.43466187e+01, -1.10914719e+00, -2.58005857e+00, ...,\n",
              "               -2.20661855e+00, -1.05274906e-02, -2.40088433e-01]],\n",
              "\n",
              "             [[ 3.72086287e+00,  4.56347942e+00,  6.24440908e-01, ...,\n",
              "                1.02107465e+00,  1.62125826e-01, -9.49953198e-01],\n",
              "              [ 3.84749889e+00,  4.59691238e+00,  4.97502089e-01, ...,\n",
              "                3.73405027e+00,  3.49924982e-01, -2.94887960e-01],\n",
              "              [ 3.96492052e+00,  4.61105394e+00,  4.02286470e-01, ...,\n",
              "                4.01212597e+00,  5.62428772e-01, -2.16322169e-01],\n",
              "              ...,\n",
              "              [ 1.19922733e+01,  1.76282978e+00, -3.28198910e+00, ...,\n",
              "                4.03199625e+00, -1.47760138e-01,  7.56526515e-02],\n",
              "              [ 1.20724297e+01,  1.73560643e+00, -3.32594419e+00, ...,\n",
              "                4.03199625e+00, -3.34664546e-02,  1.51052579e-01],\n",
              "              [ 1.21521893e+01,  1.70696580e+00, -3.36961031e+00, ...,\n",
              "                4.03199625e+00,  1.04857929e-01,  1.63704872e-01]]],            dtype=float32)"
            ]
          },
          "metadata": {},
          "execution_count": 16
        }
      ]
    },
    {
      "cell_type": "code",
      "metadata": {
        "id": "7xroKTEgO_wx"
      },
      "source": [
        "def plot(trajs_list, markers, labels):\n",
        "\n",
        "    # setup\n",
        "    fig = plt.figure()\n",
        "    ax = fig.add_subplot(111, projection='3d')\n",
        "\n",
        "    # plot\n",
        "    for trajs, marker, label in zip(trajs_list, markers, labels):\n",
        "        for i, traj in enumerate(trajs):\n",
        "            label = None if i > 0 else label\n",
        "            ax.plot(traj[:1,0], traj[:1,1], traj[:1,2], 'ko', label=None)\n",
        "            ax.plot(traj[:,0], traj[:,1], traj[:,2], marker, label=label)\n",
        "\n",
        "    # format\n",
        "    plt.legend()\n",
        "    plt.show()"
      ],
      "execution_count": 17,
      "outputs": []
    },
    {
      "cell_type": "code",
      "metadata": {
        "colab": {
          "base_uri": "https://localhost:8080/",
          "height": 248
        },
        "id": "KAe1fK36PBmU",
        "outputId": "4094b7b9-ac7b-48bf-f81b-ef321ebb9077"
      },
      "source": [
        "trajs_list = [\n",
        "  trajectories_constant(states_test, controls_test, f_analytical, 10, 0.1)\n",
        "]\n",
        "plot(trajs_list, ['k-'], ['Analytical'])"
      ],
      "execution_count": 18,
      "outputs": [
        {
          "output_type": "display_data",
          "data": {
            "image/png": "[encoded data removed]",
            "text/plain": [
              "<Figure size 432x288 with 1 Axes>"
            ]
          },
          "metadata": {
            "needs_background": "light"
          }
        }
      ]
    },
    {
      "cell_type": "markdown",
      "metadata": {
        "id": "6LlTxTuz-_UM"
      },
      "source": [
        "# Machine learning models\n",
        "\n",
        "We will consider the following learning models:\n",
        "- Learn a linear model.\n",
        "- Learn the damping matrix.\n",
        "- Learn the nonlinear model with a naïve MLP.\n",
        "- Learn the nonlinear model with a decompositional physics-informed model.\n",
        "\n",
        "Other things:\n",
        "- We know a priori that the dynamics of the analytical model is invariant under the position. Thus, we let the models learn from the variable in the body frame, therby making the $p = [0,0,0]$ in regression.\n",
        "- It is well-known that Euler angle and quaternions are discontinuous representation, and hence troublesome to the regression process. Thus, in ever model, we choose to learn from the rotation matrix, which is a continuous orientation representation."
      ]
    },
    {
      "cell_type": "markdown",
      "metadata": {
        "id": "cGjPQ5EXWDJH"
      },
      "source": [
        "## Linear\n",
        "\n",
        "In this model we intend to learn a linear control system\n",
        "$\n",
        "\\dot{x} = A x + B u\n",
        "$."
      ]
    },
    {
      "cell_type": "code",
      "metadata": {
        "id": "tDvMbCK9WHGW"
      },
      "source": [
        "def F_linear(state, control):\n",
        "  Ax = hk.Linear(dim_state, with_bias=False)(state)\n",
        "  Bu = hk.Linear(dim_state, with_bias=False)(control)\n",
        "  return Ax + Bu"
      ],
      "execution_count": 19,
      "outputs": []
    },
    {
      "cell_type": "markdown",
      "metadata": {
        "id": "kOoYCbjU9EJf"
      },
      "source": [
        "## Damping matrix\n",
        "\n",
        "Here, we assume that the analytical dynamics are known, except for the damping matrix $D(\\nu)$, which we seek to learn."
      ]
    },
    {
      "cell_type": "code",
      "metadata": {
        "id": "NEtT1EHs9Hyp"
      },
      "source": [
        "def F_damping(state, control):\n",
        "\n",
        "  # Fossen terms\n",
        "  etadot, M, tauc, C_RB, D, nu, geta = f_analytical_terms(state, control)\n",
        "\n",
        "  # estimate damping with NN\n",
        "  forces = hk.nets.MLP([*[100]*3, 3])(nu[0:3])\n",
        "  moments = hk.nets.MLP([*[100]*3, 3])(nu[3:6])\n",
        "  coupling = hk.nets.MLP([*[100]*3, 2])(forces)\n",
        "  coupling = np.array([\n",
        "    [0,0,0],\n",
        "    [0,0, coupling[0]],\n",
        "    [0, coupling[1], 0]\n",
        "  ])\n",
        "  D = np.block([[np.diag(forces), np.zeros((3, 3))], [-coupling, np.diag(moments)]])\n",
        "\n",
        "  # Fossen\n",
        "  nudot = np.linalg.pinv(M).dot(tauc - (C_RB + D).dot(nu) - geta)\n",
        "  return np.hstack((etadot, nudot))"
      ],
      "execution_count": 20,
      "outputs": []
    },
    {
      "cell_type": "markdown",
      "metadata": {
        "id": "mfTENijB-_UN"
      },
      "source": [
        "## Naïve"
      ]
    },
    {
      "cell_type": "code",
      "metadata": {
        "id": "KV4dDKV1-_UN"
      },
      "source": [
        "def F_naive(state, control):\n",
        "\n",
        "    # position, orientation, velocities\n",
        "    p, theta, v, omega = state.split(4)\n",
        "\n",
        "    # linear rotation matrix and its time-derivitive\n",
        "    R = R_b2ned(*theta)\n",
        "    Rinv = np.linalg.pinv(R)\n",
        "    dR = R@skew(omega)\n",
        "\n",
        "    # angular rotation matrix\n",
        "    T = T_b2ned(*theta)\n",
        "\n",
        "    # continuous canonical states in body frame\n",
        "    q = np.hstack(([0,0,0], R.flatten()))\n",
        "    dq = np.hstack((v, dR.flatten()))\n",
        "\n",
        "    # ddq from NN\n",
        "    ddq = hk.nets.MLP(\n",
        "        [1000, 1000, 1000, 3 + 9],\n",
        "        activation=softplus\n",
        "    )(np.hstack((q, dq, control)))\n",
        "\n",
        "    # accelerations in body frame\n",
        "    a = ddq[0:3]\n",
        "    ddR = ddq[3:12].reshape((3,3))\n",
        "    alpha = unskew(Rinv@ddR)\n",
        "\n",
        "    # dynamics\n",
        "    dstate = np.hstack((R@v, T@omega, a, alpha))\n",
        "    return dstate"
      ],
      "execution_count": 21,
      "outputs": []
    },
    {
      "cell_type": "markdown",
      "metadata": {
        "id": "ELQQskjJ-_UO"
      },
      "source": [
        "## Physics-informed"
      ]
    },
    {
      "cell_type": "code",
      "metadata": {
        "id": "51iwlxde-_UP"
      },
      "source": [
        "def F_conservative(state):\n",
        "\n",
        "    # NED position, NED orientation, body velocities\n",
        "    p, theta, v, omega = state.split(4)\n",
        "\n",
        "    # rotation matrix and its time-derivitive\n",
        "    R = R_b2ned(*theta)\n",
        "    dR = R@skew(omega)\n",
        "\n",
        "    # canonical 0th and 1st derivative\n",
        "    q = np.hstack(([0,0,0], R.flatten()))\n",
        "    dq = np.hstack((v, dR.flatten()))\n",
        "\n",
        "    # Lagrangian\n",
        "    L = lambda q, dq: hk.nets.MLP(\n",
        "        [500, 500, 500, 1], \n",
        "        activation=softplus\n",
        "    )(np.hstack((q, dq)))[0]\n",
        "\n",
        "    # conservative acceleration\n",
        "    ddq = jacobian(jacobian(L, 1), 0)(q, dq)\n",
        "    ddq = ddq @ dq\n",
        "    ddq = grad(L, 0)(q, dq) - ddq\n",
        "    ddq = np.linalg.pinv(hessian(L, 1)(q, dq)) @ ddq\n",
        "\n",
        "    # accelerations in body frame\n",
        "    a = ddq[0:3]\n",
        "    ddR = ddq[3:12].reshape((3,3))\n",
        "    alpha = unskew(np.linalg.pinv(R)@ddR)\n",
        "\n",
        "    # dynamics\n",
        "    T = T_b2ned(*theta)\n",
        "    dstate = np.hstack((R@v, T@omega, a, alpha))\n",
        "    return dstate"
      ],
      "execution_count": 22,
      "outputs": []
    },
    {
      "cell_type": "code",
      "metadata": {
        "id": "RvNuycKT-_UP"
      },
      "source": [
        "def F_non_conservative(state, control):\n",
        "\n",
        "    # NED position, NED orientation, body velocities\n",
        "    p, theta, v, omega = state.split(4)\n",
        "\n",
        "    # rotation matrix and its time-derivitive\n",
        "    R = R_b2ned(*theta)\n",
        "    dR = R@skew(omega)\n",
        "\n",
        "    # canonical 0th and 1st derivative\n",
        "    q = np.hstack(([0,0,0], R.flatten()))\n",
        "    dq = np.hstack((v, dR.flatten()))\n",
        "\n",
        "    # non-conservative acceleration\n",
        "    net = hk.nets.MLP([200, 200, 200, 3 + 9], activation=softplus)\n",
        "    ddq = net(np.hstack((q, dq, control)))\n",
        "\n",
        "    # accelerations in body frame\n",
        "    a = ddq[0:3]\n",
        "    ddR = ddq[3:12].reshape((3,3))\n",
        "    alpha = unskew(np.linalg.pinv(R)@ddR)\n",
        "\n",
        "    # dynamics\n",
        "    T = T_b2ned(*theta)\n",
        "    dstate = np.hstack((R@v, T@omega, a, alpha))\n",
        "    return dstate"
      ],
      "execution_count": 23,
      "outputs": []
    },
    {
      "cell_type": "markdown",
      "metadata": {
        "id": "x2AE7elw-_US"
      },
      "source": [
        "# Trainers and loss functions"
      ]
    },
    {
      "cell_type": "markdown",
      "metadata": {
        "id": "LBPeUJnrfqwj"
      },
      "source": [
        "## Standard\n",
        "\n",
        "We will train our models by randomly generating data at every optimization iteration, otherwise known as mini-batch gradient descent."
      ]
    },
    {
      "cell_type": "code",
      "metadata": {
        "id": "VG6rX3r2-_US"
      },
      "source": [
        "class Trainer:\n",
        "\n",
        "    def __init__(self, n, f, fname):\n",
        "\n",
        "        # number of data to compute gradient with at each iteration\n",
        "        self.n = n\n",
        "\n",
        "        # loss record\n",
        "        self.losses = list()\n",
        "\n",
        "        # dynamics model\n",
        "        self.f_nn = hk.without_apply_rng(hk.transform(f))\n",
        "        self.params = self.f_nn.init(next(key), states_test[0], controls_test[0])\n",
        "\n",
        "        # save path\n",
        "        self.fname = fname\n",
        "\n",
        "    @partial(jit, static_argnums=(0,))\n",
        "    def f(self, state, control):\n",
        "        return self.f_nn.apply(self.params, state, control)\n",
        "\n",
        "    @partial(jit, static_argnums=(0,))\n",
        "    def gen_data(self, key):\n",
        "\n",
        "        # generate random states\n",
        "        states = uniform(\n",
        "            key,\n",
        "            shape=(self.n, dim_state),\n",
        "            minval=bounds_state_train[0],\n",
        "            maxval=bounds_state_train[1]\n",
        "        )\n",
        "\n",
        "        # generate random controls\n",
        "        controls = uniform(\n",
        "            key,\n",
        "            shape=(self.n, dim_control),\n",
        "            minval=bounds_control[0],\n",
        "            maxval=bounds_control[1]\n",
        "        )\n",
        "\n",
        "        # analytical time-derivatives\n",
        "        dstates = vmap(f_analytical, in_axes=(0,0))(states, controls)\n",
        "        return states, controls, dstates\n",
        "\n",
        "    # this is the function we'll optimise w.r.t. params\n",
        "    def loss(self, params, key):\n",
        "\n",
        "        # generate random data\n",
        "        states, controls, dstates = self.gen_data(key)\n",
        "\n",
        "        # predictions\n",
        "        dstates_nn = vmap(self.f_nn.apply, in_axes=(None,0,0))(params, states, controls)\n",
        "\n",
        "        # loss in acceleration\n",
        "        loss = dstates[:,6:] - dstates_nn[:,6:]\n",
        "        loss = np.average(np.square(loss))\n",
        "        return loss, loss\n",
        "\n",
        "    # automatic gradient of loss function\n",
        "    @partial(jit, static_argnums=(0,))\n",
        "    def grad(self, params, key):\n",
        "        return grad(self.loss, argnums=0, has_aux=True)(params, key)\n",
        "\n",
        "    def train(self, epo, lr, algo):\n",
        "\n",
        "        # setup optimiser\n",
        "        opt_init, opt_update = algo(lr)\n",
        "        opt_state = opt_init(self.params)\n",
        "\n",
        "        # training loop\n",
        "        pb = tqdm(range(epo))\n",
        "        for _ in pb:\n",
        "\n",
        "            # gradient and loss\n",
        "            gopt, loss = self.grad(self.params, next(key))\n",
        "\n",
        "            # record loss\n",
        "            self.losses.append(loss)\n",
        "\n",
        "            # progress bar update\n",
        "            pb.set_description('{:.6f}'.format(loss))\n",
        "\n",
        "            # optimiser update\n",
        "            updates, opt_state = opt_update(\n",
        "                gopt, \n",
        "                opt_state, \n",
        "                self.params\n",
        "            )\n",
        "\n",
        "            # update the parameters\n",
        "            self.params = optax.apply_updates(self.params, updates)\n",
        "\n",
        "    # save parameters\n",
        "    def save(self):\n",
        "        np.save('{}.npy'.format(self.fname), self.params)\n",
        "\n",
        "    # plotting\n",
        "    def plot(self):\n",
        "        fig, ax = plt.subplots(1)\n",
        "        ax.plot(self.losses, 'k-')\n",
        "        ax.set_yscale('log')\n",
        "        plt.tight_layout()\n",
        "        fig.savefig('{}.pdf'.format(self.fname))\n",
        "        plt.show()"
      ],
      "execution_count": 24,
      "outputs": []
    },
    {
      "cell_type": "markdown",
      "metadata": {
        "id": "ZYLOPJUUk1TB"
      },
      "source": [
        "## Decompositional"
      ]
    },
    {
      "cell_type": "code",
      "metadata": {
        "id": "SRisq9oxj1D2"
      },
      "source": [
        "class Trainer_Decomposition(Trainer):\n",
        "\n",
        "    def __init__(self, n, fc, fnc):\n",
        "\n",
        "        # number of data to compute gradient with at each iteration\n",
        "        self.n = n\n",
        "\n",
        "        # loss record\n",
        "        self.losses = list()\n",
        "\n",
        "        # conservative and non-conservative models\n",
        "        self.fc = hk.without_apply_rng(hk.transform(fc))\n",
        "        self.fnc = hk.without_apply_rng(hk.transform(fnc))\n",
        "\n",
        "        # models' parameters\n",
        "        self.params = (\n",
        "            self.fc.init(next(key), state),\n",
        "            self.fnc.init(next(key), state, control)\n",
        "        )\n",
        "\n",
        "    @partial(jit, static_argnums=(0,))\n",
        "    def f(self, state, control):\n",
        "        dstate = self.fc.apply(self.params[0], state)\n",
        "        dstate += self.fnc.apply(self.params[1], state, control)\n",
        "        return dstate\n",
        "\n",
        "    @partial(jit, static_argnums=(0,))\n",
        "    def loss(self, params, key):\n",
        "\n",
        "        # generate data\n",
        "        states, controls, dstates = self.gen_data(key)\n",
        "\n",
        "        # predictions\n",
        "        dstates_c = vmap(self.fc.apply, in_axes=(None,0))(params[0], states)\n",
        "        dstates_nc = vmap(self.fnc.apply, in_axes=(None,0,0))(params[1], states, controls)\n",
        "        dstates_nn = dstates_c + dstates_nc\n",
        "\n",
        "        # loss for dynamics\n",
        "        loss_f = dstates[:,6:] - dstates_nn[:,6:]\n",
        "        loss_f = np.mean(np.square(loss_f))\n",
        "        # loss_f = np.linalg.norm(loss_f, ord=2, axis=1)\n",
        "        # loss_f = np.sum(loss_f)/(self.n*6)\n",
        "        # loss_f = loss_f**0.5\n",
        "\n",
        "        # loss for non-conservative\n",
        "        loss_nc = dstates_nc[:,6:]\n",
        "        loss_nc = np.mean(np.square(loss_nc))\n",
        "        # loss_nc = np.linalg.norm(dstates_nc[:,6:], ord=2, axis=1)\n",
        "        # loss_nc = np.sum(loss_nc)/(self.n*6)\n",
        "        # loss_nc = loss_nc**0.5\n",
        "\n",
        "        # total loss\n",
        "        loss = loss_f + 0.5*loss_nc\n",
        "        return loss, loss"
      ],
      "execution_count": 25,
      "outputs": []
    },
    {
      "cell_type": "markdown",
      "metadata": {
        "id": "QP8jmqXc-_UT"
      },
      "source": [
        "# Results"
      ]
    },
    {
      "cell_type": "markdown",
      "metadata": {
        "id": "V6SxT370lHiX"
      },
      "source": [
        "## Linear"
      ]
    },
    {
      "cell_type": "code",
      "metadata": {
        "id": "VylEz47g-_UT"
      },
      "source": [
        "trainer_linear = Trainer(5000, F_linear, 'linear')"
      ],
      "execution_count": null,
      "outputs": []
    },
    {
      "cell_type": "code",
      "metadata": {
        "id": "atBO-Yi8-_UT",
        "colab": {
          "base_uri": "https://localhost:8080/",
          "height": 339,
          "referenced_widgets": [
            "9cc7d2ba9f2a46f4991f0c49a2ac0dc9",
            "ca2a842175b541928232c2c5f7f9bcb5",
            "47792162abc94030995233dfe1bcd413",
            "0e944465c04c4ca3aef8e98e2142774b",
            "6d4bbfbe02ef420d823565fcaa887976",
            "2d6deb588f5f47239a99c3d864a4ab00",
            "66bc125af55f4e2caddd8adb2cb12caf",
            "463728a64ebe498c8dc2db33568ffdf3",
            "fe0e97edaa1f4490ad437c50d84e917c",
            "ea38d6387efa49faa7b0fb16c3db92b7",
            "31629ca414bf4b89a30ccd0e6e18d53a"
          ]
        },
        "outputId": "43abc279-7450-4b1c-b758-a434397374d9"
      },
      "source": [
        "trainer_linear.train(5000, 1e-1, optax.adam)"
      ],
      "execution_count": null,
      "outputs": [
        {
          "output_type": "display_data",
          "data": {
            "application/vnd.jupyter.widget-view+json": {
              "model_id": "9cc7d2ba9f2a46f4991f0c49a2ac0dc9",
              "version_minor": 0,
              "version_major": 2
            },
            "text/plain": [
              "  0%|          | 0/5000 [00:00<?, ?it/s]"
            ]
          },
          "metadata": {}
        },
        {
          "output_type": "error",
          "ename": "KeyboardInterrupt",
          "evalue": "ignored",
          "traceback": [
            "\u001b[0;31m---------------------------------------------------------------------------\u001b[0m",
            "\u001b[0;31mKeyboardInterrupt\u001b[0m                         Traceback (most recent call last)",
            "\u001b[0;32m<ipython-input-98-d696aa6072a5>\u001b[0m in \u001b[0;36m<module>\u001b[0;34m()\u001b[0m\n\u001b[0;32m----> 1\u001b[0;31m \u001b[0mtrainer_linear\u001b[0m\u001b[0;34m.\u001b[0m\u001b[0mtrain\u001b[0m\u001b[0;34m(\u001b[0m\u001b[0;36m5000\u001b[0m\u001b[0;34m,\u001b[0m \u001b[0;36m1e-1\u001b[0m\u001b[0;34m,\u001b[0m \u001b[0moptax\u001b[0m\u001b[0;34m.\u001b[0m\u001b[0madam\u001b[0m\u001b[0;34m)\u001b[0m\u001b[0;34m\u001b[0m\u001b[0;34m\u001b[0m\u001b[0m\n\u001b[0m",
            "\u001b[0;32m<ipython-input-95-f36066ed984e>\u001b[0m in \u001b[0;36mtrain\u001b[0;34m(self, epo, lr, algo)\u001b[0m\n\u001b[1;32m     85\u001b[0m                 \u001b[0mgopt\u001b[0m\u001b[0;34m,\u001b[0m\u001b[0;34m\u001b[0m\u001b[0;34m\u001b[0m\u001b[0m\n\u001b[1;32m     86\u001b[0m                 \u001b[0mopt_state\u001b[0m\u001b[0;34m,\u001b[0m\u001b[0;34m\u001b[0m\u001b[0;34m\u001b[0m\u001b[0m\n\u001b[0;32m---> 87\u001b[0;31m                 \u001b[0mself\u001b[0m\u001b[0;34m.\u001b[0m\u001b[0mparams\u001b[0m\u001b[0;34m\u001b[0m\u001b[0;34m\u001b[0m\u001b[0m\n\u001b[0m\u001b[1;32m     88\u001b[0m             )\n\u001b[1;32m     89\u001b[0m \u001b[0;34m\u001b[0m\u001b[0m\n",
            "\u001b[0;32m/usr/local/lib/python3.7/dist-packages/optax/_src/combine.py\u001b[0m in \u001b[0;36mupdate_fn\u001b[0;34m(updates, state, params)\u001b[0m\n\u001b[1;32m     52\u001b[0m     \u001b[0mnew_state\u001b[0m \u001b[0;34m=\u001b[0m \u001b[0;34m[\u001b[0m\u001b[0;34m]\u001b[0m\u001b[0;34m\u001b[0m\u001b[0;34m\u001b[0m\u001b[0m\n\u001b[1;32m     53\u001b[0m     \u001b[0;32mfor\u001b[0m \u001b[0ms\u001b[0m\u001b[0;34m,\u001b[0m \u001b[0mfn\u001b[0m \u001b[0;32min\u001b[0m \u001b[0mzip\u001b[0m\u001b[0;34m(\u001b[0m\u001b[0mstate\u001b[0m\u001b[0;34m,\u001b[0m \u001b[0mupdate_fns\u001b[0m\u001b[0;34m)\u001b[0m\u001b[0;34m:\u001b[0m\u001b[0;34m\u001b[0m\u001b[0;34m\u001b[0m\u001b[0m\n\u001b[0;32m---> 54\u001b[0;31m       \u001b[0mupdates\u001b[0m\u001b[0;34m,\u001b[0m \u001b[0mnew_s\u001b[0m \u001b[0;34m=\u001b[0m \u001b[0mfn\u001b[0m\u001b[0;34m(\u001b[0m\u001b[0mupdates\u001b[0m\u001b[0;34m,\u001b[0m \u001b[0ms\u001b[0m\u001b[0;34m,\u001b[0m \u001b[0mparams\u001b[0m\u001b[0;34m)\u001b[0m\u001b[0;34m\u001b[0m\u001b[0;34m\u001b[0m\u001b[0m\n\u001b[0m\u001b[1;32m     55\u001b[0m       \u001b[0mnew_state\u001b[0m\u001b[0;34m.\u001b[0m\u001b[0mappend\u001b[0m\u001b[0;34m(\u001b[0m\u001b[0mnew_s\u001b[0m\u001b[0;34m)\u001b[0m\u001b[0;34m\u001b[0m\u001b[0;34m\u001b[0m\u001b[0m\n\u001b[1;32m     56\u001b[0m     \u001b[0;32mreturn\u001b[0m \u001b[0mupdates\u001b[0m\u001b[0;34m,\u001b[0m \u001b[0mtuple\u001b[0m\u001b[0;34m(\u001b[0m\u001b[0mnew_state\u001b[0m\u001b[0;34m)\u001b[0m\u001b[0;34m\u001b[0m\u001b[0;34m\u001b[0m\u001b[0m\n",
            "\u001b[0;32m/usr/local/lib/python3.7/dist-packages/optax/_src/transform.py\u001b[0m in \u001b[0;36mupdate_fn\u001b[0;34m(***failed resolving arguments***)\u001b[0m\n\u001b[1;32m    297\u001b[0m     \u001b[0mnu\u001b[0m \u001b[0;34m=\u001b[0m \u001b[0m_update_moment\u001b[0m\u001b[0;34m(\u001b[0m\u001b[0mupdates\u001b[0m\u001b[0;34m,\u001b[0m \u001b[0mstate\u001b[0m\u001b[0;34m.\u001b[0m\u001b[0mnu\u001b[0m\u001b[0;34m,\u001b[0m \u001b[0mb2\u001b[0m\u001b[0;34m,\u001b[0m \u001b[0;36m2\u001b[0m\u001b[0;34m)\u001b[0m\u001b[0;34m\u001b[0m\u001b[0;34m\u001b[0m\u001b[0m\n\u001b[1;32m    298\u001b[0m     \u001b[0mcount_inc\u001b[0m \u001b[0;34m=\u001b[0m \u001b[0mnumerics\u001b[0m\u001b[0;34m.\u001b[0m\u001b[0msafe_int32_increment\u001b[0m\u001b[0;34m(\u001b[0m\u001b[0mstate\u001b[0m\u001b[0;34m.\u001b[0m\u001b[0mcount\u001b[0m\u001b[0;34m)\u001b[0m\u001b[0;34m\u001b[0m\u001b[0;34m\u001b[0m\u001b[0m\n\u001b[0;32m--> 299\u001b[0;31m     \u001b[0mmu_hat\u001b[0m \u001b[0;34m=\u001b[0m \u001b[0m_bias_correction\u001b[0m\u001b[0;34m(\u001b[0m\u001b[0mmu\u001b[0m\u001b[0;34m,\u001b[0m \u001b[0mb1\u001b[0m\u001b[0;34m,\u001b[0m \u001b[0mcount_inc\u001b[0m\u001b[0;34m)\u001b[0m\u001b[0;34m\u001b[0m\u001b[0;34m\u001b[0m\u001b[0m\n\u001b[0m\u001b[1;32m    300\u001b[0m     \u001b[0mnu_hat\u001b[0m \u001b[0;34m=\u001b[0m \u001b[0m_bias_correction\u001b[0m\u001b[0;34m(\u001b[0m\u001b[0mnu\u001b[0m\u001b[0;34m,\u001b[0m \u001b[0mb2\u001b[0m\u001b[0;34m,\u001b[0m \u001b[0mcount_inc\u001b[0m\u001b[0;34m)\u001b[0m\u001b[0;34m\u001b[0m\u001b[0;34m\u001b[0m\u001b[0m\n\u001b[1;32m    301\u001b[0m     updates = jax.tree_multimap(\n",
            "\u001b[0;32m/usr/local/lib/python3.7/dist-packages/optax/_src/transform.py\u001b[0m in \u001b[0;36m_bias_correction\u001b[0;34m(moment, decay, count)\u001b[0m\n\u001b[1;32m     84\u001b[0m \u001b[0;32mdef\u001b[0m \u001b[0m_bias_correction\u001b[0m\u001b[0;34m(\u001b[0m\u001b[0mmoment\u001b[0m\u001b[0;34m,\u001b[0m \u001b[0mdecay\u001b[0m\u001b[0;34m,\u001b[0m \u001b[0mcount\u001b[0m\u001b[0;34m)\u001b[0m\u001b[0;34m:\u001b[0m\u001b[0;34m\u001b[0m\u001b[0;34m\u001b[0m\u001b[0m\n\u001b[1;32m     85\u001b[0m   \u001b[0;34m\"\"\"Perform bias correction. This becomes a no-op as count goes to infinity.\"\"\"\u001b[0m\u001b[0;34m\u001b[0m\u001b[0;34m\u001b[0m\u001b[0m\n\u001b[0;32m---> 86\u001b[0;31m   \u001b[0mbias_correction\u001b[0m \u001b[0;34m=\u001b[0m \u001b[0;36m1\u001b[0m \u001b[0;34m-\u001b[0m \u001b[0mdecay\u001b[0m\u001b[0;34m**\u001b[0m\u001b[0mcount\u001b[0m\u001b[0;34m\u001b[0m\u001b[0;34m\u001b[0m\u001b[0m\n\u001b[0m\u001b[1;32m     87\u001b[0m   \u001b[0;32mreturn\u001b[0m \u001b[0mjax\u001b[0m\u001b[0;34m.\u001b[0m\u001b[0mtree_map\u001b[0m\u001b[0;34m(\u001b[0m\u001b[0;32mlambda\u001b[0m \u001b[0mt\u001b[0m\u001b[0;34m:\u001b[0m \u001b[0mt\u001b[0m \u001b[0;34m/\u001b[0m \u001b[0mbias_correction\u001b[0m\u001b[0;34m.\u001b[0m\u001b[0mastype\u001b[0m\u001b[0;34m(\u001b[0m\u001b[0mt\u001b[0m\u001b[0;34m.\u001b[0m\u001b[0mdtype\u001b[0m\u001b[0;34m)\u001b[0m\u001b[0;34m,\u001b[0m \u001b[0mmoment\u001b[0m\u001b[0;34m)\u001b[0m\u001b[0;34m\u001b[0m\u001b[0;34m\u001b[0m\u001b[0m\n\u001b[1;32m     88\u001b[0m \u001b[0;34m\u001b[0m\u001b[0m\n",
            "\u001b[0;32m/usr/local/lib/python3.7/dist-packages/jax/_src/numpy/lax_numpy.py\u001b[0m in \u001b[0;36mdeferring_binary_op\u001b[0;34m(self, other)\u001b[0m\n\u001b[1;32m   5922\u001b[0m     \u001b[0;32mif\u001b[0m \u001b[0;32mnot\u001b[0m \u001b[0misinstance\u001b[0m\u001b[0;34m(\u001b[0m\u001b[0mother\u001b[0m\u001b[0;34m,\u001b[0m \u001b[0m_scalar_types\u001b[0m \u001b[0;34m+\u001b[0m \u001b[0m_arraylike_types\u001b[0m \u001b[0;34m+\u001b[0m \u001b[0;34m(\u001b[0m\u001b[0mcore\u001b[0m\u001b[0;34m.\u001b[0m\u001b[0mTracer\u001b[0m\u001b[0;34m,\u001b[0m\u001b[0;34m)\u001b[0m\u001b[0;34m)\u001b[0m\u001b[0;34m:\u001b[0m\u001b[0;34m\u001b[0m\u001b[0;34m\u001b[0m\u001b[0m\n\u001b[1;32m   5923\u001b[0m       \u001b[0;32mreturn\u001b[0m \u001b[0mNotImplemented\u001b[0m\u001b[0;34m\u001b[0m\u001b[0;34m\u001b[0m\u001b[0m\n\u001b[0;32m-> 5924\u001b[0;31m     \u001b[0;32mreturn\u001b[0m \u001b[0mbinary_op\u001b[0m\u001b[0;34m(\u001b[0m\u001b[0mself\u001b[0m\u001b[0;34m,\u001b[0m \u001b[0mother\u001b[0m\u001b[0;34m)\u001b[0m\u001b[0;34m\u001b[0m\u001b[0;34m\u001b[0m\u001b[0m\n\u001b[0m\u001b[1;32m   5925\u001b[0m   \u001b[0;32mreturn\u001b[0m \u001b[0mdeferring_binary_op\u001b[0m\u001b[0;34m\u001b[0m\u001b[0;34m\u001b[0m\u001b[0m\n\u001b[1;32m   5926\u001b[0m \u001b[0;34m\u001b[0m\u001b[0m\n",
            "\u001b[0;32m/usr/local/lib/python3.7/dist-packages/jax/_src/numpy/lax_numpy.py\u001b[0m in \u001b[0;36m<lambda>\u001b[0;34m(x, y)\u001b[0m\n\u001b[1;32m   5926\u001b[0m \u001b[0;34m\u001b[0m\u001b[0m\n\u001b[1;32m   5927\u001b[0m \u001b[0;32mdef\u001b[0m \u001b[0m_swap_args\u001b[0m\u001b[0;34m(\u001b[0m\u001b[0mf\u001b[0m\u001b[0;34m)\u001b[0m\u001b[0;34m:\u001b[0m\u001b[0;34m\u001b[0m\u001b[0;34m\u001b[0m\u001b[0m\n\u001b[0;32m-> 5928\u001b[0;31m   \u001b[0;32mreturn\u001b[0m \u001b[0;32mlambda\u001b[0m \u001b[0mx\u001b[0m\u001b[0;34m,\u001b[0m \u001b[0my\u001b[0m\u001b[0;34m:\u001b[0m \u001b[0mf\u001b[0m\u001b[0;34m(\u001b[0m\u001b[0my\u001b[0m\u001b[0;34m,\u001b[0m \u001b[0mx\u001b[0m\u001b[0;34m)\u001b[0m\u001b[0;34m\u001b[0m\u001b[0;34m\u001b[0m\u001b[0m\n\u001b[0m\u001b[1;32m   5929\u001b[0m \u001b[0;34m\u001b[0m\u001b[0m\n\u001b[1;32m   5930\u001b[0m \u001b[0;32mdef\u001b[0m \u001b[0m_unimplemented_setitem\u001b[0m\u001b[0;34m(\u001b[0m\u001b[0mself\u001b[0m\u001b[0;34m,\u001b[0m \u001b[0mi\u001b[0m\u001b[0;34m,\u001b[0m \u001b[0mx\u001b[0m\u001b[0;34m)\u001b[0m\u001b[0;34m:\u001b[0m\u001b[0;34m\u001b[0m\u001b[0;34m\u001b[0m\u001b[0m\n",
            "\u001b[0;32m/usr/local/lib/python3.7/dist-packages/jax/_src/numpy/lax_numpy.py\u001b[0m in \u001b[0;36mpower\u001b[0;34m(x1, x2)\u001b[0m\n\u001b[1;32m    650\u001b[0m       \u001b[0;32mpass\u001b[0m\u001b[0;34m\u001b[0m\u001b[0;34m\u001b[0m\u001b[0m\n\u001b[1;32m    651\u001b[0m     \u001b[0;32melse\u001b[0m\u001b[0;34m:\u001b[0m\u001b[0;34m\u001b[0m\u001b[0;34m\u001b[0m\u001b[0m\n\u001b[0;32m--> 652\u001b[0;31m       \u001b[0;32mreturn\u001b[0m \u001b[0mlax\u001b[0m\u001b[0;34m.\u001b[0m\u001b[0minteger_pow\u001b[0m\u001b[0;34m(\u001b[0m\u001b[0mx1\u001b[0m\u001b[0;34m,\u001b[0m \u001b[0mx2\u001b[0m\u001b[0;34m)\u001b[0m\u001b[0;34m\u001b[0m\u001b[0;34m\u001b[0m\u001b[0m\n\u001b[0m\u001b[1;32m    653\u001b[0m \u001b[0;34m\u001b[0m\u001b[0m\n\u001b[1;32m    654\u001b[0m   \u001b[0mx1\u001b[0m\u001b[0;34m,\u001b[0m \u001b[0mx2\u001b[0m \u001b[0;34m=\u001b[0m \u001b[0m_promote_args\u001b[0m\u001b[0;34m(\u001b[0m\u001b[0;34m\"power\"\u001b[0m\u001b[0;34m,\u001b[0m \u001b[0mx1\u001b[0m\u001b[0;34m,\u001b[0m \u001b[0mx2\u001b[0m\u001b[0;34m)\u001b[0m\u001b[0;34m\u001b[0m\u001b[0;34m\u001b[0m\u001b[0m\n",
            "\u001b[0;32m/usr/local/lib/python3.7/dist-packages/jax/_src/lax/lax.py\u001b[0m in \u001b[0;36minteger_pow\u001b[0;34m(x, y)\u001b[0m\n\u001b[1;32m    302\u001b[0m \u001b[0;32mdef\u001b[0m \u001b[0minteger_pow\u001b[0m\u001b[0;34m(\u001b[0m\u001b[0mx\u001b[0m\u001b[0;34m:\u001b[0m \u001b[0mArray\u001b[0m\u001b[0;34m,\u001b[0m \u001b[0my\u001b[0m\u001b[0;34m:\u001b[0m \u001b[0mint\u001b[0m\u001b[0;34m)\u001b[0m \u001b[0;34m->\u001b[0m \u001b[0mArray\u001b[0m\u001b[0;34m:\u001b[0m\u001b[0;34m\u001b[0m\u001b[0;34m\u001b[0m\u001b[0m\n\u001b[1;32m    303\u001b[0m   \u001b[0;34mr\"\"\"Elementwise power: :math:`x^y`, where :math:`y` is a fixed integer.\"\"\"\u001b[0m\u001b[0;34m\u001b[0m\u001b[0;34m\u001b[0m\u001b[0m\n\u001b[0;32m--> 304\u001b[0;31m   \u001b[0;32mreturn\u001b[0m \u001b[0minteger_pow_p\u001b[0m\u001b[0;34m.\u001b[0m\u001b[0mbind\u001b[0m\u001b[0;34m(\u001b[0m\u001b[0mx\u001b[0m\u001b[0;34m,\u001b[0m \u001b[0my\u001b[0m\u001b[0;34m=\u001b[0m\u001b[0my\u001b[0m\u001b[0;34m)\u001b[0m\u001b[0;34m\u001b[0m\u001b[0;34m\u001b[0m\u001b[0m\n\u001b[0m\u001b[1;32m    305\u001b[0m \u001b[0;34m\u001b[0m\u001b[0m\n\u001b[1;32m    306\u001b[0m \u001b[0;32mdef\u001b[0m \u001b[0msqrt\u001b[0m\u001b[0;34m(\u001b[0m\u001b[0mx\u001b[0m\u001b[0;34m:\u001b[0m \u001b[0mArray\u001b[0m\u001b[0;34m)\u001b[0m \u001b[0;34m->\u001b[0m \u001b[0mArray\u001b[0m\u001b[0;34m:\u001b[0m\u001b[0;34m\u001b[0m\u001b[0;34m\u001b[0m\u001b[0m\n",
            "\u001b[0;32m/usr/local/lib/python3.7/dist-packages/jax/core.py\u001b[0m in \u001b[0;36mbind\u001b[0;34m(self, *args, **params)\u001b[0m\n\u001b[1;32m    263\u001b[0m         args, used_axis_names(self, params) if self._dispatch_on_params else None)\n\u001b[1;32m    264\u001b[0m     \u001b[0mtracers\u001b[0m \u001b[0;34m=\u001b[0m \u001b[0mmap\u001b[0m\u001b[0;34m(\u001b[0m\u001b[0mtop_trace\u001b[0m\u001b[0;34m.\u001b[0m\u001b[0mfull_raise\u001b[0m\u001b[0;34m,\u001b[0m \u001b[0margs\u001b[0m\u001b[0;34m)\u001b[0m\u001b[0;34m\u001b[0m\u001b[0;34m\u001b[0m\u001b[0m\n\u001b[0;32m--> 265\u001b[0;31m     \u001b[0mout\u001b[0m \u001b[0;34m=\u001b[0m \u001b[0mtop_trace\u001b[0m\u001b[0;34m.\u001b[0m\u001b[0mprocess_primitive\u001b[0m\u001b[0;34m(\u001b[0m\u001b[0mself\u001b[0m\u001b[0;34m,\u001b[0m \u001b[0mtracers\u001b[0m\u001b[0;34m,\u001b[0m \u001b[0mparams\u001b[0m\u001b[0;34m)\u001b[0m\u001b[0;34m\u001b[0m\u001b[0;34m\u001b[0m\u001b[0m\n\u001b[0m\u001b[1;32m    266\u001b[0m     \u001b[0;32mreturn\u001b[0m \u001b[0mmap\u001b[0m\u001b[0;34m(\u001b[0m\u001b[0mfull_lower\u001b[0m\u001b[0;34m,\u001b[0m \u001b[0mout\u001b[0m\u001b[0;34m)\u001b[0m \u001b[0;32mif\u001b[0m \u001b[0mself\u001b[0m\u001b[0;34m.\u001b[0m\u001b[0mmultiple_results\u001b[0m \u001b[0;32melse\u001b[0m \u001b[0mfull_lower\u001b[0m\u001b[0;34m(\u001b[0m\u001b[0mout\u001b[0m\u001b[0;34m)\u001b[0m\u001b[0;34m\u001b[0m\u001b[0;34m\u001b[0m\u001b[0m\n\u001b[1;32m    267\u001b[0m \u001b[0;34m\u001b[0m\u001b[0m\n",
            "\u001b[0;32m/usr/local/lib/python3.7/dist-packages/jax/core.py\u001b[0m in \u001b[0;36mprocess_primitive\u001b[0;34m(self, primitive, tracers, params)\u001b[0m\n\u001b[1;32m    608\u001b[0m \u001b[0;34m\u001b[0m\u001b[0m\n\u001b[1;32m    609\u001b[0m   \u001b[0;32mdef\u001b[0m \u001b[0mprocess_primitive\u001b[0m\u001b[0;34m(\u001b[0m\u001b[0mself\u001b[0m\u001b[0;34m,\u001b[0m \u001b[0mprimitive\u001b[0m\u001b[0;34m,\u001b[0m \u001b[0mtracers\u001b[0m\u001b[0;34m,\u001b[0m \u001b[0mparams\u001b[0m\u001b[0;34m)\u001b[0m\u001b[0;34m:\u001b[0m\u001b[0;34m\u001b[0m\u001b[0;34m\u001b[0m\u001b[0m\n\u001b[0;32m--> 610\u001b[0;31m     \u001b[0;32mreturn\u001b[0m \u001b[0mprimitive\u001b[0m\u001b[0;34m.\u001b[0m\u001b[0mimpl\u001b[0m\u001b[0;34m(\u001b[0m\u001b[0;34m*\u001b[0m\u001b[0mtracers\u001b[0m\u001b[0;34m,\u001b[0m \u001b[0;34m**\u001b[0m\u001b[0mparams\u001b[0m\u001b[0;34m)\u001b[0m\u001b[0;34m\u001b[0m\u001b[0;34m\u001b[0m\u001b[0m\n\u001b[0m\u001b[1;32m    611\u001b[0m \u001b[0;34m\u001b[0m\u001b[0m\n\u001b[1;32m    612\u001b[0m   \u001b[0;32mdef\u001b[0m \u001b[0mprocess_call\u001b[0m\u001b[0;34m(\u001b[0m\u001b[0mself\u001b[0m\u001b[0;34m,\u001b[0m \u001b[0mprimitive\u001b[0m\u001b[0;34m,\u001b[0m \u001b[0mf\u001b[0m\u001b[0;34m,\u001b[0m \u001b[0mtracers\u001b[0m\u001b[0;34m,\u001b[0m \u001b[0mparams\u001b[0m\u001b[0;34m)\u001b[0m\u001b[0;34m:\u001b[0m\u001b[0;34m\u001b[0m\u001b[0;34m\u001b[0m\u001b[0m\n",
            "\u001b[0;32m/usr/local/lib/python3.7/dist-packages/jax/interpreters/xla.py\u001b[0m in \u001b[0;36mapply_primitive\u001b[0;34m(prim, *args, **params)\u001b[0m\n\u001b[1;32m    271\u001b[0m \u001b[0;32mdef\u001b[0m \u001b[0mapply_primitive\u001b[0m\u001b[0;34m(\u001b[0m\u001b[0mprim\u001b[0m\u001b[0;34m,\u001b[0m \u001b[0;34m*\u001b[0m\u001b[0margs\u001b[0m\u001b[0;34m,\u001b[0m \u001b[0;34m**\u001b[0m\u001b[0mparams\u001b[0m\u001b[0;34m)\u001b[0m\u001b[0;34m:\u001b[0m\u001b[0;34m\u001b[0m\u001b[0;34m\u001b[0m\u001b[0m\n\u001b[1;32m    272\u001b[0m   \u001b[0;34m\"\"\"Impl rule that compiles and runs a single primitive 'prim' using XLA.\"\"\"\u001b[0m\u001b[0;34m\u001b[0m\u001b[0;34m\u001b[0m\u001b[0m\n\u001b[0;32m--> 273\u001b[0;31m   \u001b[0mcompiled_fun\u001b[0m \u001b[0;34m=\u001b[0m \u001b[0mxla_primitive_callable\u001b[0m\u001b[0;34m(\u001b[0m\u001b[0mprim\u001b[0m\u001b[0;34m,\u001b[0m \u001b[0;34m*\u001b[0m\u001b[0munsafe_map\u001b[0m\u001b[0;34m(\u001b[0m\u001b[0marg_spec\u001b[0m\u001b[0;34m,\u001b[0m \u001b[0margs\u001b[0m\u001b[0;34m)\u001b[0m\u001b[0;34m,\u001b[0m \u001b[0;34m**\u001b[0m\u001b[0mparams\u001b[0m\u001b[0;34m)\u001b[0m\u001b[0;34m\u001b[0m\u001b[0;34m\u001b[0m\u001b[0m\n\u001b[0m\u001b[1;32m    274\u001b[0m   \u001b[0;32mreturn\u001b[0m \u001b[0mcompiled_fun\u001b[0m\u001b[0;34m(\u001b[0m\u001b[0;34m*\u001b[0m\u001b[0margs\u001b[0m\u001b[0;34m)\u001b[0m\u001b[0;34m\u001b[0m\u001b[0;34m\u001b[0m\u001b[0m\n\u001b[1;32m    275\u001b[0m \u001b[0;34m\u001b[0m\u001b[0m\n",
            "\u001b[0;32m/usr/local/lib/python3.7/dist-packages/jax/_src/util.py\u001b[0m in \u001b[0;36mwrapper\u001b[0;34m(*args, **kwargs)\u001b[0m\n\u001b[1;32m    184\u001b[0m         \u001b[0;32mreturn\u001b[0m \u001b[0mf\u001b[0m\u001b[0;34m(\u001b[0m\u001b[0;34m*\u001b[0m\u001b[0margs\u001b[0m\u001b[0;34m,\u001b[0m \u001b[0;34m**\u001b[0m\u001b[0mkwargs\u001b[0m\u001b[0;34m)\u001b[0m\u001b[0;34m\u001b[0m\u001b[0;34m\u001b[0m\u001b[0m\n\u001b[1;32m    185\u001b[0m       \u001b[0;32melse\u001b[0m\u001b[0;34m:\u001b[0m\u001b[0;34m\u001b[0m\u001b[0;34m\u001b[0m\u001b[0m\n\u001b[0;32m--> 186\u001b[0;31m         \u001b[0;32mreturn\u001b[0m \u001b[0mcached\u001b[0m\u001b[0;34m(\u001b[0m\u001b[0mconfig\u001b[0m\u001b[0;34m.\u001b[0m\u001b[0m_trace_context\u001b[0m\u001b[0;34m(\u001b[0m\u001b[0;34m)\u001b[0m\u001b[0;34m,\u001b[0m \u001b[0;34m*\u001b[0m\u001b[0margs\u001b[0m\u001b[0;34m,\u001b[0m \u001b[0;34m**\u001b[0m\u001b[0mkwargs\u001b[0m\u001b[0;34m)\u001b[0m\u001b[0;34m\u001b[0m\u001b[0;34m\u001b[0m\u001b[0m\n\u001b[0m\u001b[1;32m    187\u001b[0m \u001b[0;34m\u001b[0m\u001b[0m\n\u001b[1;32m    188\u001b[0m     \u001b[0mwrapper\u001b[0m\u001b[0;34m.\u001b[0m\u001b[0mcache_clear\u001b[0m \u001b[0;34m=\u001b[0m \u001b[0mcached\u001b[0m\u001b[0;34m.\u001b[0m\u001b[0mcache_clear\u001b[0m\u001b[0;34m\u001b[0m\u001b[0;34m\u001b[0m\u001b[0m\n",
            "\u001b[0;32m/usr/local/lib/python3.7/dist-packages/jax/_src/util.py\u001b[0m in \u001b[0;36mcached\u001b[0;34m(_, *args, **kwargs)\u001b[0m\n\u001b[1;32m    177\u001b[0m     \u001b[0;34m@\u001b[0m\u001b[0mfunctools\u001b[0m\u001b[0;34m.\u001b[0m\u001b[0mlru_cache\u001b[0m\u001b[0;34m(\u001b[0m\u001b[0mmax_size\u001b[0m\u001b[0;34m)\u001b[0m\u001b[0;34m\u001b[0m\u001b[0;34m\u001b[0m\u001b[0m\n\u001b[1;32m    178\u001b[0m     \u001b[0;32mdef\u001b[0m \u001b[0mcached\u001b[0m\u001b[0;34m(\u001b[0m\u001b[0m_\u001b[0m\u001b[0;34m,\u001b[0m \u001b[0;34m*\u001b[0m\u001b[0margs\u001b[0m\u001b[0;34m,\u001b[0m \u001b[0;34m**\u001b[0m\u001b[0mkwargs\u001b[0m\u001b[0;34m)\u001b[0m\u001b[0;34m:\u001b[0m\u001b[0;34m\u001b[0m\u001b[0;34m\u001b[0m\u001b[0m\n\u001b[0;32m--> 179\u001b[0;31m       \u001b[0;32mreturn\u001b[0m \u001b[0mf\u001b[0m\u001b[0;34m(\u001b[0m\u001b[0;34m*\u001b[0m\u001b[0margs\u001b[0m\u001b[0;34m,\u001b[0m \u001b[0;34m**\u001b[0m\u001b[0mkwargs\u001b[0m\u001b[0;34m)\u001b[0m\u001b[0;34m\u001b[0m\u001b[0;34m\u001b[0m\u001b[0m\n\u001b[0m\u001b[1;32m    180\u001b[0m \u001b[0;34m\u001b[0m\u001b[0m\n\u001b[1;32m    181\u001b[0m     \u001b[0;34m@\u001b[0m\u001b[0mfunctools\u001b[0m\u001b[0;34m.\u001b[0m\u001b[0mwraps\u001b[0m\u001b[0;34m(\u001b[0m\u001b[0mf\u001b[0m\u001b[0;34m)\u001b[0m\u001b[0;34m\u001b[0m\u001b[0;34m\u001b[0m\u001b[0m\n",
            "\u001b[0;32m/usr/local/lib/python3.7/dist-packages/jax/interpreters/xla.py\u001b[0m in \u001b[0;36mxla_primitive_callable\u001b[0;34m(prim, *arg_specs, **params)\u001b[0m\n\u001b[1;32m    320\u001b[0m       device_assignment=device and (device.id,))\n\u001b[1;32m    321\u001b[0m   \u001b[0moptions\u001b[0m\u001b[0;34m.\u001b[0m\u001b[0mparameter_is_tupled_arguments\u001b[0m \u001b[0;34m=\u001b[0m \u001b[0mtuple_args\u001b[0m\u001b[0;34m\u001b[0m\u001b[0;34m\u001b[0m\u001b[0m\n\u001b[0;32m--> 322\u001b[0;31m   \u001b[0mcompiled\u001b[0m \u001b[0;34m=\u001b[0m \u001b[0mbackend_compile\u001b[0m\u001b[0;34m(\u001b[0m\u001b[0mbackend\u001b[0m\u001b[0;34m,\u001b[0m \u001b[0mbuilt_c\u001b[0m\u001b[0;34m,\u001b[0m \u001b[0moptions\u001b[0m\u001b[0;34m)\u001b[0m\u001b[0;34m\u001b[0m\u001b[0;34m\u001b[0m\u001b[0m\n\u001b[0m\u001b[1;32m    323\u001b[0m   \u001b[0;32mif\u001b[0m \u001b[0mnreps\u001b[0m \u001b[0;34m==\u001b[0m \u001b[0;36m1\u001b[0m\u001b[0;34m:\u001b[0m\u001b[0;34m\u001b[0m\u001b[0;34m\u001b[0m\u001b[0m\n\u001b[1;32m    324\u001b[0m     \u001b[0;32mreturn\u001b[0m \u001b[0mpartial\u001b[0m\u001b[0;34m(\u001b[0m\u001b[0m_execute_compiled_primitive\u001b[0m\u001b[0;34m,\u001b[0m \u001b[0mprim\u001b[0m\u001b[0;34m,\u001b[0m \u001b[0mcompiled\u001b[0m\u001b[0;34m,\u001b[0m \u001b[0mhandle_result\u001b[0m\u001b[0;34m)\u001b[0m\u001b[0;34m\u001b[0m\u001b[0;34m\u001b[0m\u001b[0m\n",
            "\u001b[0;32m/usr/local/lib/python3.7/dist-packages/jax/interpreters/xla.py\u001b[0m in \u001b[0;36mbackend_compile\u001b[0;34m(backend, built_c, options)\u001b[0m\n\u001b[1;32m    383\u001b[0m   \u001b[0;31m# we use a separate function call to ensure that XLA compilation appears\u001b[0m\u001b[0;34m\u001b[0m\u001b[0;34m\u001b[0m\u001b[0;34m\u001b[0m\u001b[0m\n\u001b[1;32m    384\u001b[0m   \u001b[0;31m# separately in Python profiling results\u001b[0m\u001b[0;34m\u001b[0m\u001b[0;34m\u001b[0m\u001b[0;34m\u001b[0m\u001b[0m\n\u001b[0;32m--> 385\u001b[0;31m   \u001b[0;32mreturn\u001b[0m \u001b[0mbackend\u001b[0m\u001b[0;34m.\u001b[0m\u001b[0mcompile\u001b[0m\u001b[0;34m(\u001b[0m\u001b[0mbuilt_c\u001b[0m\u001b[0;34m,\u001b[0m \u001b[0mcompile_options\u001b[0m\u001b[0;34m=\u001b[0m\u001b[0moptions\u001b[0m\u001b[0;34m)\u001b[0m\u001b[0;34m\u001b[0m\u001b[0;34m\u001b[0m\u001b[0m\n\u001b[0m\u001b[1;32m    386\u001b[0m \u001b[0;34m\u001b[0m\u001b[0m\n\u001b[1;32m    387\u001b[0m \u001b[0;32mdef\u001b[0m \u001b[0m_execute_compiled_primitive\u001b[0m\u001b[0;34m(\u001b[0m\u001b[0mprim\u001b[0m\u001b[0;34m,\u001b[0m \u001b[0mcompiled\u001b[0m\u001b[0;34m,\u001b[0m \u001b[0mresult_handler\u001b[0m\u001b[0;34m,\u001b[0m \u001b[0;34m*\u001b[0m\u001b[0margs\u001b[0m\u001b[0;34m)\u001b[0m\u001b[0;34m:\u001b[0m\u001b[0;34m\u001b[0m\u001b[0;34m\u001b[0m\u001b[0m\n",
            "\u001b[0;31mKeyboardInterrupt\u001b[0m: "
          ]
        }
      ]
    },
    {
      "cell_type": "code",
      "metadata": {
        "id": "HRmjyV5XZfyb",
        "colab": {
          "base_uri": "https://localhost:8080/",
          "height": 528
        },
        "outputId": "344e5d0b-b8a8-41bf-c85e-4d44044323b5"
      },
      "source": [
        "trainer_linear.plot()\n",
        "trajs_list = [\n",
        "  trajectories_constant(states_test, controls_test, f_analytical, 10, 0.1),\n",
        "  trajectories_constant(states_test, controls_test, lambda x, u: trainer_linear.f.apply(trainer_linear.params, x, u), 10, 0.1)\n",
        "]\n",
        "plot(trajs_list, ['k-', 'k--'], ['Analytical', 'Neural'])"
      ],
      "execution_count": null,
      "outputs": [
        {
          "output_type": "display_data",
          "data": {
            "image/png": "[encoded data removed]",
            "text/plain": [
              "<Figure size 432x288 with 1 Axes>"
            ]
          },
          "metadata": {
            "needs_background": "light"
          }
        },
        {
          "output_type": "display_data",
          "data": {
            "image/png": "[encoded data removed]",
            "text/plain": [
              "<Figure size 432x288 with 1 Axes>"
            ]
          },
          "metadata": {
            "needs_background": "light"
          }
        }
      ]
    },
    {
      "cell_type": "markdown",
      "metadata": {
        "id": "7zW9oelotWzD"
      },
      "source": [
        "## Damping"
      ]
    },
    {
      "cell_type": "code",
      "metadata": {
        "id": "Fwtf86hl-_UV"
      },
      "source": [
        "trainer_damping = Trainer(5000, F_damping, 'damping')"
      ],
      "execution_count": 26,
      "outputs": []
    },
    {
      "cell_type": "code",
      "metadata": {
        "colab": {
          "base_uri": "https://localhost:8080/",
          "height": 345,
          "referenced_widgets": [
            "d393f54dd65846038c55edfcf0d73489",
            "402a671209f04f5dae4050e54f808624",
            "715b1819bb2e46a39d1d9bcf9bc298d5",
            "d8a8ecc1ac9e4724996e10acc98c83d4",
            "63a8e7393cf74b999b93f58e153d67ea",
            "6f839acab99647648dadc8ccc5ad65b9",
            "7835e6108065427fac1b9d25e25c7d65",
            "88e06f4ecc8840e798af22faccf5586f",
            "142861e641ae448d996b87b183eaa3e4",
            "d8a4651e410e467dab995e1754a35659",
            "c064925fc4f64a76a6e5183cee643c37"
          ]
        },
        "id": "qBt-5X2Ptfjf",
        "outputId": "4ab794b7-c5ef-4341-f66f-05a572b6f874"
      },
      "source": [
        "trainer_damping.train(5000, 1e-5, optax.adam)"
      ],
      "execution_count": 31,
      "outputs": [
        {
          "output_type": "display_data",
          "data": {
            "application/vnd.jupyter.widget-view+json": {
              "model_id": "d393f54dd65846038c55edfcf0d73489",
              "version_minor": 0,
              "version_major": 2
            },
            "text/plain": [
              "  0%|          | 0/5000 [00:00<?, ?it/s]"
            ]
          },
          "metadata": {}
        },
        {
          "output_type": "error",
          "ename": "KeyboardInterrupt",
          "evalue": "ignored",
          "traceback": [
            "\u001b[0;31m---------------------------------------------------------------------------\u001b[0m",
            "\u001b[0;31mKeyboardInterrupt\u001b[0m                         Traceback (most recent call last)",
            "\u001b[0;32m<ipython-input-31-6c1a74ce2a09>\u001b[0m in \u001b[0;36m<module>\u001b[0;34m()\u001b[0m\n\u001b[0;32m----> 1\u001b[0;31m \u001b[0mtrainer_damping\u001b[0m\u001b[0;34m.\u001b[0m\u001b[0mtrain\u001b[0m\u001b[0;34m(\u001b[0m\u001b[0;36m5000\u001b[0m\u001b[0;34m,\u001b[0m \u001b[0;36m1e-5\u001b[0m\u001b[0;34m,\u001b[0m \u001b[0moptax\u001b[0m\u001b[0;34m.\u001b[0m\u001b[0madam\u001b[0m\u001b[0;34m)\u001b[0m\u001b[0;34m\u001b[0m\u001b[0;34m\u001b[0m\u001b[0m\n\u001b[0m",
            "\u001b[0;32m<ipython-input-24-f36066ed984e>\u001b[0m in \u001b[0;36mtrain\u001b[0;34m(self, epo, lr, algo)\u001b[0m\n\u001b[1;32m     73\u001b[0m \u001b[0;34m\u001b[0m\u001b[0m\n\u001b[1;32m     74\u001b[0m             \u001b[0;31m# gradient and loss\u001b[0m\u001b[0;34m\u001b[0m\u001b[0;34m\u001b[0m\u001b[0;34m\u001b[0m\u001b[0m\n\u001b[0;32m---> 75\u001b[0;31m             \u001b[0mgopt\u001b[0m\u001b[0;34m,\u001b[0m \u001b[0mloss\u001b[0m \u001b[0;34m=\u001b[0m \u001b[0mself\u001b[0m\u001b[0;34m.\u001b[0m\u001b[0mgrad\u001b[0m\u001b[0;34m(\u001b[0m\u001b[0mself\u001b[0m\u001b[0;34m.\u001b[0m\u001b[0mparams\u001b[0m\u001b[0;34m,\u001b[0m \u001b[0mnext\u001b[0m\u001b[0;34m(\u001b[0m\u001b[0mkey\u001b[0m\u001b[0;34m)\u001b[0m\u001b[0;34m)\u001b[0m\u001b[0;34m\u001b[0m\u001b[0;34m\u001b[0m\u001b[0m\n\u001b[0m\u001b[1;32m     76\u001b[0m \u001b[0;34m\u001b[0m\u001b[0m\n\u001b[1;32m     77\u001b[0m             \u001b[0;31m# record loss\u001b[0m\u001b[0;34m\u001b[0m\u001b[0;34m\u001b[0m\u001b[0;34m\u001b[0m\u001b[0m\n",
            "\u001b[0;32m/usr/local/lib/python3.7/dist-packages/haiku/_src/data_structures.py\u001b[0m in \u001b[0;36m<lambda>\u001b[0;34m(treedef, leaves)\u001b[0m\n\u001b[1;32m    273\u001b[0m     \u001b[0mFlatMap\u001b[0m\u001b[0;34m,\u001b[0m\u001b[0;34m\u001b[0m\u001b[0;34m\u001b[0m\u001b[0m\n\u001b[1;32m    274\u001b[0m     \u001b[0;32mlambda\u001b[0m \u001b[0ms\u001b[0m\u001b[0;34m:\u001b[0m \u001b[0;34m(\u001b[0m\u001b[0ms\u001b[0m\u001b[0;34m.\u001b[0m\u001b[0m_leaves\u001b[0m\u001b[0;34m,\u001b[0m \u001b[0ms\u001b[0m\u001b[0;34m.\u001b[0m\u001b[0m_structure\u001b[0m\u001b[0;34m)\u001b[0m\u001b[0;34m,\u001b[0m  \u001b[0;31m# pylint: disable=protected-access\u001b[0m\u001b[0;34m\u001b[0m\u001b[0;34m\u001b[0m\u001b[0m\n\u001b[0;32m--> 275\u001b[0;31m     lambda treedef, leaves: FlatMap(FlatComponents(leaves, treedef)))\n\u001b[0m\u001b[1;32m    276\u001b[0m \u001b[0;34m\u001b[0m\u001b[0m\n\u001b[1;32m    277\u001b[0m \u001b[0;34m\u001b[0m\u001b[0m\n",
            "\u001b[0;31mKeyboardInterrupt\u001b[0m: "
          ]
        }
      ]
    },
    {
      "cell_type": "code",
      "metadata": {
        "colab": {
          "base_uri": "https://localhost:8080/",
          "height": 528
        },
        "id": "5vkDcolUtot2",
        "outputId": "8588fe2b-b0c3-435e-cba1-09cd7cad8126"
      },
      "source": [
        "trainer_damping.plot()\n",
        "trajs_list = [\n",
        "  trajectories_constant(states_test, controls_test, f_analytical, 15, 0.1),\n",
        "  trajectories_constant(states_test, controls_test, trainer_damping.f, 15, 0.1)\n",
        "]\n",
        "plot(trajs_list, ['k-', 'k--'], ['Analytical', 'Damping'])"
      ],
      "execution_count": 33,
      "outputs": [
        {
          "output_type": "display_data",
          "data": {
            "image/png": "[encoded data removed]",
            "text/plain": [
              "<Figure size 432x288 with 1 Axes>"
            ]
          },
          "metadata": {
            "needs_background": "light"
          }
        },
        {
          "output_type": "display_data",
          "data": {
            "image/png": "[encoded data removed]",
            "text/plain": [
              "<Figure size 432x288 with 1 Axes>"
            ]
          },
          "metadata": {
            "needs_background": "light"
          }
        }
      ]
    },
    {
      "cell_type": "markdown",
      "metadata": {
        "id": "e9PoFQTqv9ql"
      },
      "source": [
        "#Using the identified model for MPC\n"
      ]
    },
    {
      "cell_type": "code",
      "metadata": {
        "id": "SrcEIktSwGBR"
      },
      "source": [
        "#enter MPC code here\n"
      ],
      "execution_count": null,
      "outputs": []
    },
    {
      "cell_type": "markdown",
      "metadata": {
        "id": "7O5Ue-HZzXqV"
      },
      "source": [
        "## Naïve"
      ]
    },
    {
      "cell_type": "code",
      "metadata": {
        "id": "APjtjknIx8pL"
      },
      "source": [
        "trainer_naive = Trainer(5000, F_naive, 'naive')"
      ],
      "execution_count": null,
      "outputs": []
    },
    {
      "cell_type": "code",
      "metadata": {
        "colab": {
          "base_uri": "https://localhost:8080/",
          "height": 49,
          "referenced_widgets": [
            "da32618327014f359e973f532684c523",
            "0b1b4a3d66384fa0b83c360c2bce89e7",
            "3d1c3e3215e0430781494387a9350b30",
            "270835382b9e42bb9fd30284ce3ce706",
            "3e5aa66d9f0742a9a3f16afe49abdcbd",
            "f985385e1c3d4b4895c400cb4d969efd",
            "666efaf883614bbf8ee54791fd6b8550",
            "e5911272b13d4f2389840bcae3d9d0bc",
            "0d58cd17a5a4432a9120fe04156e2dda",
            "7be0eb0720aa47539459d3d001def911",
            "31b76fb93c95496c9a8b46a04e3c2f24"
          ]
        },
        "id": "AWFJVpRUzkNI",
        "outputId": "e4667b29-9f56-4e20-f73b-29dcd1083d35"
      },
      "source": [
        "trainer_naive.train(5000, 1e-4, optax.adam)"
      ],
      "execution_count": null,
      "outputs": [
        {
          "output_type": "display_data",
          "data": {
            "application/vnd.jupyter.widget-view+json": {
              "model_id": "da32618327014f359e973f532684c523",
              "version_minor": 0,
              "version_major": 2
            },
            "text/plain": [
              "  0%|          | 0/5000 [00:00<?, ?it/s]"
            ]
          },
          "metadata": {}
        }
      ]
    },
    {
      "cell_type": "code",
      "metadata": {
        "colab": {
          "base_uri": "https://localhost:8080/",
          "height": 528
        },
        "id": "T-EQ1kGszlmq",
        "outputId": "16b2ac1b-42de-4ab7-94d8-346a13957df9"
      },
      "source": [
        "trainer_naive.plot()\n",
        "trajs_list = [\n",
        "  trajectories_constant(states_test, controls_test, f_analytical, 10, 0.1),\n",
        "  trajectories_constant(states_test, controls_test, trainer_naive.f, 10, 0.1)\n",
        "]\n",
        "plot(trajs_list, ['k-', 'k--'], ['Analytical', 'Naive'])"
      ],
      "execution_count": null,
      "outputs": [
        {
          "output_type": "display_data",
          "data": {
            "image/png": "[encoded data removed]",
            "text/plain": [
              "<Figure size 432x288 with 1 Axes>"
            ]
          },
          "metadata": {
            "needs_background": "light"
          }
        },
        {
          "output_type": "display_data",
          "data": {
            "image/png": "[encoded data removed]",
            "text/plain": [
              "<Figure size 432x288 with 1 Axes>"
            ]
          },
          "metadata": {
            "needs_background": "light"
          }
        }
      ]
    },
    {
      "cell_type": "code",
      "metadata": {
        "id": "01i-Nhqe-_Td"
      },
      "source": [
        ""
      ],
      "execution_count": null,
      "outputs": []
    }
  ]
}