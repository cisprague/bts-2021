{
  "nbformat": 4,
  "nbformat_minor": 0,
  "metadata": {
    "colab": {
      "name": "bts-2021.ipynb",
      "provenance": [],
      "collapsed_sections": [],
      "include_colab_link": true
    },
    "kernelspec": {
      "name": "python3",
      "display_name": "Python 3.8.10 64-bit"
    },
    "language_info": {
      "name": "python",
      "version": "3.8.10",
      "mimetype": "text/x-python",
      "codemirror_mode": {
        "name": "ipython",
        "version": 3
      },
      "pygments_lexer": "ipython3",
      "nbconvert_exporter": "python",
      "file_extension": ".py"
    },
    "accelerator": "GPU",
    "interpreter": {
      "hash": "916dbcbb3f70747c44a77c7bcd40155683ae19c65e1c03b4aa3499c5328201f1"
    },
    "widgets": {
      "application/vnd.jupyter.widget-state+json": {
        "b84bc43e284b48bcb2df2835dd83600b": {
          "model_module": "@jupyter-widgets/controls",
          "model_name": "HBoxModel",
          "model_module_version": "1.5.0",
          "state": {
            "_view_name": "HBoxView",
            "_dom_classes": [],
            "_model_name": "HBoxModel",
            "_view_module": "@jupyter-widgets/controls",
            "_model_module_version": "1.5.0",
            "_view_count": null,
            "_view_module_version": "1.5.0",
            "box_style": "",
            "layout": "IPY_MODEL_090a9ceee905455a892099ed435bdd8d",
            "_model_module": "@jupyter-widgets/controls",
            "children": [
              "IPY_MODEL_1a329392c8d84613b5e3d0e2811b1150",
              "IPY_MODEL_d618ccbf1c7f498089bccbf61c625541",
              "IPY_MODEL_a764332fe8fa413597eac6c2e7c0edb9"
            ]
          }
        },
        "090a9ceee905455a892099ed435bdd8d": {
          "model_module": "@jupyter-widgets/base",
          "model_name": "LayoutModel",
          "model_module_version": "1.2.0",
          "state": {
            "_view_name": "LayoutView",
            "grid_template_rows": null,
            "right": null,
            "justify_content": null,
            "_view_module": "@jupyter-widgets/base",
            "overflow": null,
            "_model_module_version": "1.2.0",
            "_view_count": null,
            "flex_flow": null,
            "width": null,
            "min_width": null,
            "border": null,
            "align_items": null,
            "bottom": null,
            "_model_module": "@jupyter-widgets/base",
            "top": null,
            "grid_column": null,
            "overflow_y": null,
            "overflow_x": null,
            "grid_auto_flow": null,
            "grid_area": null,
            "grid_template_columns": null,
            "flex": null,
            "_model_name": "LayoutModel",
            "justify_items": null,
            "grid_row": null,
            "max_height": null,
            "align_content": null,
            "visibility": null,
            "align_self": null,
            "height": null,
            "min_height": null,
            "padding": null,
            "grid_auto_rows": null,
            "grid_gap": null,
            "max_width": null,
            "order": null,
            "_view_module_version": "1.2.0",
            "grid_template_areas": null,
            "object_position": null,
            "object_fit": null,
            "grid_auto_columns": null,
            "margin": null,
            "display": null,
            "left": null
          }
        },
        "1a329392c8d84613b5e3d0e2811b1150": {
          "model_module": "@jupyter-widgets/controls",
          "model_name": "HTMLModel",
          "model_module_version": "1.5.0",
          "state": {
            "_view_name": "HTMLView",
            "style": "IPY_MODEL_efe5fddc41f7497c91ff4fe51f734fca",
            "_dom_classes": [],
            "description": "",
            "_model_name": "HTMLModel",
            "placeholder": "​",
            "_view_module": "@jupyter-widgets/controls",
            "_model_module_version": "1.5.0",
            "value": "2.271702:  27%",
            "_view_count": null,
            "_view_module_version": "1.5.0",
            "description_tooltip": null,
            "_model_module": "@jupyter-widgets/controls",
            "layout": "IPY_MODEL_bb2abf1edc0e4bf59b5e97b374777d0e"
          }
        },
        "d618ccbf1c7f498089bccbf61c625541": {
          "model_module": "@jupyter-widgets/controls",
          "model_name": "FloatProgressModel",
          "model_module_version": "1.5.0",
          "state": {
            "_view_name": "ProgressView",
            "style": "IPY_MODEL_8ae960169ccc4c3e9b9dd12c14250b34",
            "_dom_classes": [],
            "description": "",
            "_model_name": "FloatProgressModel",
            "bar_style": "",
            "max": 10000,
            "_view_module": "@jupyter-widgets/controls",
            "_model_module_version": "1.5.0",
            "value": 2713,
            "_view_count": null,
            "_view_module_version": "1.5.0",
            "orientation": "horizontal",
            "min": 0,
            "description_tooltip": null,
            "_model_module": "@jupyter-widgets/controls",
            "layout": "IPY_MODEL_46c5685ddb534ba8b0b1d722fa53bf94"
          }
        },
        "a764332fe8fa413597eac6c2e7c0edb9": {
          "model_module": "@jupyter-widgets/controls",
          "model_name": "HTMLModel",
          "model_module_version": "1.5.0",
          "state": {
            "_view_name": "HTMLView",
            "style": "IPY_MODEL_55e2ed9817e54f3589ae3d3788b1bf70",
            "_dom_classes": [],
            "description": "",
            "_model_name": "HTMLModel",
            "placeholder": "​",
            "_view_module": "@jupyter-widgets/controls",
            "_model_module_version": "1.5.0",
            "value": " 2713/10000 [05:42&lt;14:37,  8.30it/s]",
            "_view_count": null,
            "_view_module_version": "1.5.0",
            "description_tooltip": null,
            "_model_module": "@jupyter-widgets/controls",
            "layout": "IPY_MODEL_18b087270d9b49cbad0973b1adfd306d"
          }
        },
        "efe5fddc41f7497c91ff4fe51f734fca": {
          "model_module": "@jupyter-widgets/controls",
          "model_name": "DescriptionStyleModel",
          "model_module_version": "1.5.0",
          "state": {
            "_view_name": "StyleView",
            "_model_name": "DescriptionStyleModel",
            "description_width": "",
            "_view_module": "@jupyter-widgets/base",
            "_model_module_version": "1.5.0",
            "_view_count": null,
            "_view_module_version": "1.2.0",
            "_model_module": "@jupyter-widgets/controls"
          }
        },
        "bb2abf1edc0e4bf59b5e97b374777d0e": {
          "model_module": "@jupyter-widgets/base",
          "model_name": "LayoutModel",
          "model_module_version": "1.2.0",
          "state": {
            "_view_name": "LayoutView",
            "grid_template_rows": null,
            "right": null,
            "justify_content": null,
            "_view_module": "@jupyter-widgets/base",
            "overflow": null,
            "_model_module_version": "1.2.0",
            "_view_count": null,
            "flex_flow": null,
            "width": null,
            "min_width": null,
            "border": null,
            "align_items": null,
            "bottom": null,
            "_model_module": "@jupyter-widgets/base",
            "top": null,
            "grid_column": null,
            "overflow_y": null,
            "overflow_x": null,
            "grid_auto_flow": null,
            "grid_area": null,
            "grid_template_columns": null,
            "flex": null,
            "_model_name": "LayoutModel",
            "justify_items": null,
            "grid_row": null,
            "max_height": null,
            "align_content": null,
            "visibility": null,
            "align_self": null,
            "height": null,
            "min_height": null,
            "padding": null,
            "grid_auto_rows": null,
            "grid_gap": null,
            "max_width": null,
            "order": null,
            "_view_module_version": "1.2.0",
            "grid_template_areas": null,
            "object_position": null,
            "object_fit": null,
            "grid_auto_columns": null,
            "margin": null,
            "display": null,
            "left": null
          }
        },
        "8ae960169ccc4c3e9b9dd12c14250b34": {
          "model_module": "@jupyter-widgets/controls",
          "model_name": "ProgressStyleModel",
          "model_module_version": "1.5.0",
          "state": {
            "_view_name": "StyleView",
            "_model_name": "ProgressStyleModel",
            "description_width": "",
            "_view_module": "@jupyter-widgets/base",
            "_model_module_version": "1.5.0",
            "_view_count": null,
            "_view_module_version": "1.2.0",
            "bar_color": null,
            "_model_module": "@jupyter-widgets/controls"
          }
        },
        "46c5685ddb534ba8b0b1d722fa53bf94": {
          "model_module": "@jupyter-widgets/base",
          "model_name": "LayoutModel",
          "model_module_version": "1.2.0",
          "state": {
            "_view_name": "LayoutView",
            "grid_template_rows": null,
            "right": null,
            "justify_content": null,
            "_view_module": "@jupyter-widgets/base",
            "overflow": null,
            "_model_module_version": "1.2.0",
            "_view_count": null,
            "flex_flow": null,
            "width": null,
            "min_width": null,
            "border": null,
            "align_items": null,
            "bottom": null,
            "_model_module": "@jupyter-widgets/base",
            "top": null,
            "grid_column": null,
            "overflow_y": null,
            "overflow_x": null,
            "grid_auto_flow": null,
            "grid_area": null,
            "grid_template_columns": null,
            "flex": null,
            "_model_name": "LayoutModel",
            "justify_items": null,
            "grid_row": null,
            "max_height": null,
            "align_content": null,
            "visibility": null,
            "align_self": null,
            "height": null,
            "min_height": null,
            "padding": null,
            "grid_auto_rows": null,
            "grid_gap": null,
            "max_width": null,
            "order": null,
            "_view_module_version": "1.2.0",
            "grid_template_areas": null,
            "object_position": null,
            "object_fit": null,
            "grid_auto_columns": null,
            "margin": null,
            "display": null,
            "left": null
          }
        },
        "55e2ed9817e54f3589ae3d3788b1bf70": {
          "model_module": "@jupyter-widgets/controls",
          "model_name": "DescriptionStyleModel",
          "model_module_version": "1.5.0",
          "state": {
            "_view_name": "StyleView",
            "_model_name": "DescriptionStyleModel",
            "description_width": "",
            "_view_module": "@jupyter-widgets/base",
            "_model_module_version": "1.5.0",
            "_view_count": null,
            "_view_module_version": "1.2.0",
            "_model_module": "@jupyter-widgets/controls"
          }
        },
        "18b087270d9b49cbad0973b1adfd306d": {
          "model_module": "@jupyter-widgets/base",
          "model_name": "LayoutModel",
          "model_module_version": "1.2.0",
          "state": {
            "_view_name": "LayoutView",
            "grid_template_rows": null,
            "right": null,
            "justify_content": null,
            "_view_module": "@jupyter-widgets/base",
            "overflow": null,
            "_model_module_version": "1.2.0",
            "_view_count": null,
            "flex_flow": null,
            "width": null,
            "min_width": null,
            "border": null,
            "align_items": null,
            "bottom": null,
            "_model_module": "@jupyter-widgets/base",
            "top": null,
            "grid_column": null,
            "overflow_y": null,
            "overflow_x": null,
            "grid_auto_flow": null,
            "grid_area": null,
            "grid_template_columns": null,
            "flex": null,
            "_model_name": "LayoutModel",
            "justify_items": null,
            "grid_row": null,
            "max_height": null,
            "align_content": null,
            "visibility": null,
            "align_self": null,
            "height": null,
            "min_height": null,
            "padding": null,
            "grid_auto_rows": null,
            "grid_gap": null,
            "max_width": null,
            "order": null,
            "_view_module_version": "1.2.0",
            "grid_template_areas": null,
            "object_position": null,
            "object_fit": null,
            "grid_auto_columns": null,
            "margin": null,
            "display": null,
            "left": null
          }
        }
      }
    }
  },
  "cells": [
    {
      "cell_type": "markdown",
      "metadata": {
        "id": "view-in-github",
        "colab_type": "text"
      },
      "source": [
        "<a href=\"https://colab.research.google.com/github/cisprague/bts-2021/blob/main/bts-2021.ipynb\" target=\"_parent\"><img src=\"https://colab.research.google.com/assets/colab-badge.svg\" alt=\"Open In Colab\"/></a>"
      ]
    },
    {
      "cell_type": "markdown",
      "metadata": {
        "id": "XOFl1RKPjdt_"
      },
      "source": [
        "# System identification of AUVs with physics-informed learning\n",
        "\n",
        "Christopher Iliffe Sprague (sprague@kth.se)\n",
        "\n",
        "Sriharsha Bhat (svbhat@kth.se)"
      ]
    },
    {
      "cell_type": "markdown",
      "metadata": {
        "id": "yEzpfNjMjz7Y"
      },
      "source": [
        "# Outline\n",
        "\n",
        "- Background\n",
        "- What's the benefit?\n",
        "- Data generation\n",
        "- Model identification\n",
        "- Simulation\n",
        "- Discussion and future work"
      ]
    },
    {
      "cell_type": "markdown",
      "metadata": {
        "id": "Ke5En5u7mzJ8"
      },
      "source": [
        "# Resources"
      ]
    },
    {
      "cell_type": "code",
      "metadata": {
        "id": "MbwNlmTpmyru",
        "colab": {
          "base_uri": "https://localhost:8080/"
        },
        "outputId": "df4ae3ae-510c-4689-cae4-672371882c1a"
      },
      "source": [
        "# JAX for autograd and and numerics\n",
        "! pip install --upgrade pip\n",
        "! pip install --upgrade \"jax[cuda101]\" -f https://storage.googleapis.com/jax-releases/jax_releases.html\n",
        "import jax.numpy as np\n",
        "from jax import jit, vmap, jacobian, hessian, grad\n",
        "from jax.experimental.ode import odeint\n",
        "from jax.random import uniform, choice\n",
        "from jax.nn import softplus\n",
        "from jax.lax import stop_gradient\n",
        "\n",
        "# Haiku for neural networks\n",
        "! pip install git+https://github.com/deepmind/dm-haiku\n",
        "import haiku as hk\n",
        "\n",
        "# Optax for optimisation\n",
        "! pip install git+https://github.com/deepmind/optax\n",
        "import optax\n",
        "\n",
        "# TQDM for training loop feedback\n",
        "! pip install tqdm\n",
        "from tqdm.notebook import tqdm\n",
        "\n",
        "# SKLearn for preprocessing data\n",
        "from sklearn.preprocessing import StandardScaler\n",
        "\n",
        "# treating some arguments as static\n",
        "from functools import partial\n",
        "\n",
        "# computer algebra\n",
        "import sympy\n",
        "\n",
        "# matplotlib for plotting\n",
        "import matplotlib.pyplot as plt\n",
        "from mpl_toolkits.mplot3d import Axes3D\n",
        "%matplotlib inline"
      ],
      "execution_count": 3,
      "outputs": [
        {
          "output_type": "stream",
          "text": [
            "Requirement already satisfied: pip in /usr/local/lib/python3.7/dist-packages (21.2.4)\n",
            "\u001b[33mWARNING: Running pip as the 'root' user can result in broken permissions and conflicting behaviour with the system package manager. It is recommended to use a virtual environment instead: https://pip.pypa.io/warnings/venv\u001b[0m\n",
            "Looking in links: https://storage.googleapis.com/jax-releases/jax_releases.html\n",
            "Requirement already satisfied: jax[cuda101] in /usr/local/lib/python3.7/dist-packages (0.2.19)\n",
            "Requirement already satisfied: absl-py in /usr/local/lib/python3.7/dist-packages (from jax[cuda101]) (0.12.0)\n",
            "Requirement already satisfied: opt-einsum in /usr/local/lib/python3.7/dist-packages (from jax[cuda101]) (3.3.0)\n",
            "Requirement already satisfied: numpy>=1.18 in /usr/local/lib/python3.7/dist-packages (from jax[cuda101]) (1.19.5)\n",
            "Requirement already satisfied: jaxlib==0.1.70+cuda101 in /usr/local/lib/python3.7/dist-packages (from jax[cuda101]) (0.1.70+cuda101)\n",
            "Requirement already satisfied: scipy in /usr/local/lib/python3.7/dist-packages (from jaxlib==0.1.70+cuda101->jax[cuda101]) (1.4.1)\n",
            "Requirement already satisfied: flatbuffers<3.0,>=1.12 in /usr/local/lib/python3.7/dist-packages (from jaxlib==0.1.70+cuda101->jax[cuda101]) (1.12)\n",
            "Requirement already satisfied: six in /usr/local/lib/python3.7/dist-packages (from absl-py->jax[cuda101]) (1.15.0)\n",
            "\u001b[33mWARNING: Running pip as the 'root' user can result in broken permissions and conflicting behaviour with the system package manager. It is recommended to use a virtual environment instead: https://pip.pypa.io/warnings/venv\u001b[0m\n",
            "Collecting git+https://github.com/deepmind/dm-haiku\n",
            "  Cloning https://github.com/deepmind/dm-haiku to /tmp/pip-req-build-xamusq1m\n",
            "  Running command git clone -q https://github.com/deepmind/dm-haiku /tmp/pip-req-build-xamusq1m\n",
            "  Resolved https://github.com/deepmind/dm-haiku to commit 2e90d5deefea23e807c7e55e7cedd0a9a56e83b6\n",
            "Requirement already satisfied: absl-py>=0.7.1 in /usr/local/lib/python3.7/dist-packages (from dm-haiku==0.0.5.dev0) (0.12.0)\n",
            "Requirement already satisfied: jmp>=0.0.2 in /usr/local/lib/python3.7/dist-packages (from dm-haiku==0.0.5.dev0) (0.0.2)\n",
            "Requirement already satisfied: numpy>=1.18.0 in /usr/local/lib/python3.7/dist-packages (from dm-haiku==0.0.5.dev0) (1.19.5)\n",
            "Requirement already satisfied: tabulate>=0.8.9 in /usr/local/lib/python3.7/dist-packages (from dm-haiku==0.0.5.dev0) (0.8.9)\n",
            "Requirement already satisfied: typing_extensions in /usr/local/lib/python3.7/dist-packages (from dm-haiku==0.0.5.dev0) (3.7.4.3)\n",
            "Requirement already satisfied: six in /usr/local/lib/python3.7/dist-packages (from absl-py>=0.7.1->dm-haiku==0.0.5.dev0) (1.15.0)\n",
            "\u001b[33mWARNING: Running pip as the 'root' user can result in broken permissions and conflicting behaviour with the system package manager. It is recommended to use a virtual environment instead: https://pip.pypa.io/warnings/venv\u001b[0m\n",
            "Collecting git+https://github.com/deepmind/optax\n",
            "  Cloning https://github.com/deepmind/optax to /tmp/pip-req-build-q98n0qz0\n",
            "  Running command git clone -q https://github.com/deepmind/optax /tmp/pip-req-build-q98n0qz0\n",
            "  Resolved https://github.com/deepmind/optax to commit 91937fa03b7edf396b8af9e8b8cc6bfd95160731\n",
            "Requirement already satisfied: absl-py>=0.7.1 in /usr/local/lib/python3.7/dist-packages (from optax==0.0.9) (0.12.0)\n",
            "Collecting chex>=0.0.4\n",
            "  Downloading chex-0.0.8-py3-none-any.whl (57 kB)\n",
            "\u001b[K     |████████████████████████████████| 57 kB 2.9 MB/s \n",
            "\u001b[?25hRequirement already satisfied: jax>=0.1.55 in /usr/local/lib/python3.7/dist-packages (from optax==0.0.9) (0.2.19)\n",
            "Requirement already satisfied: jaxlib>=0.1.37 in /usr/local/lib/python3.7/dist-packages (from optax==0.0.9) (0.1.70+cuda101)\n",
            "Requirement already satisfied: numpy>=1.18.0 in /usr/local/lib/python3.7/dist-packages (from optax==0.0.9) (1.19.5)\n",
            "Requirement already satisfied: six in /usr/local/lib/python3.7/dist-packages (from absl-py>=0.7.1->optax==0.0.9) (1.15.0)\n",
            "Requirement already satisfied: dm-tree>=0.1.5 in /usr/local/lib/python3.7/dist-packages (from chex>=0.0.4->optax==0.0.9) (0.1.6)\n",
            "Requirement already satisfied: toolz>=0.9.0 in /usr/local/lib/python3.7/dist-packages (from chex>=0.0.4->optax==0.0.9) (0.11.1)\n",
            "Requirement already satisfied: opt-einsum in /usr/local/lib/python3.7/dist-packages (from jax>=0.1.55->optax==0.0.9) (3.3.0)\n",
            "Requirement already satisfied: flatbuffers<3.0,>=1.12 in /usr/local/lib/python3.7/dist-packages (from jaxlib>=0.1.37->optax==0.0.9) (1.12)\n",
            "Requirement already satisfied: scipy in /usr/local/lib/python3.7/dist-packages (from jaxlib>=0.1.37->optax==0.0.9) (1.4.1)\n",
            "Building wheels for collected packages: optax\n",
            "  Building wheel for optax (setup.py) ... \u001b[?25l\u001b[?25hdone\n",
            "  Created wheel for optax: filename=optax-0.0.9-py3-none-any.whl size=120484 sha256=cdd5b35e2fe3de6bfc3e5b8cd324423411b8841be195a70591ce1307e0acff0d\n",
            "  Stored in directory: /tmp/pip-ephem-wheel-cache-14z5a1hh/wheels/18/80/7e/f95870d651357f77f2ddeb452b3584a09053c224cc08d7fd86\n",
            "Successfully built optax\n",
            "Installing collected packages: chex, optax\n",
            "Successfully installed chex-0.0.8 optax-0.0.9\n",
            "\u001b[33mWARNING: Running pip as the 'root' user can result in broken permissions and conflicting behaviour with the system package manager. It is recommended to use a virtual environment instead: https://pip.pypa.io/warnings/venv\u001b[0m\n",
            "Requirement already satisfied: tqdm in /usr/local/lib/python3.7/dist-packages (4.62.0)\n",
            "\u001b[33mWARNING: Running pip as the 'root' user can result in broken permissions and conflicting behaviour with the system package manager. It is recommended to use a virtual environment instead: https://pip.pypa.io/warnings/venv\u001b[0m\n"
          ],
          "name": "stdout"
        }
      ]
    },
    {
      "cell_type": "code",
      "metadata": {
        "id": "M9GylCN9-_UC",
        "colab": {
          "base_uri": "https://localhost:8080/"
        },
        "outputId": "7023873c-034a-4547-e11a-2849f113f739"
      },
      "source": [
        "# to make sure we're\n",
        "from jax.lib import xla_bridge\n",
        "print('We are using the {}'.format(xla_bridge.get_backend().platform))"
      ],
      "execution_count": 34,
      "outputs": [
        {
          "output_type": "stream",
          "text": [
            "We are using the gpu\n"
          ],
          "name": "stdout"
        }
      ]
    },
    {
      "cell_type": "code",
      "metadata": {
        "id": "aR__NDVS-_UD"
      },
      "source": [
        "# this is a random seed generator: use `next(key)` to get a seed.\n",
        "key = hk.PRNGSequence(42)"
      ],
      "execution_count": 35,
      "outputs": []
    },
    {
      "cell_type": "markdown",
      "metadata": {
        "id": "7SDLTz2ukoQq"
      },
      "source": [
        "# Models"
      ]
    },
    {
      "cell_type": "markdown",
      "metadata": {
        "id": "CQCUrq34-_UF"
      },
      "source": [
        "## Properties"
      ]
    },
    {
      "cell_type": "code",
      "metadata": {
        "id": "yXVFOnZw-_UF"
      },
      "source": [
        "# dimensions\n",
        "dim_state = 12\n",
        "#dim_control = 6 #with rpm1,rpm2,de,dr,vbs,lcg\n",
        "dim_control = 4 #with rpm1,rpm2,de,dr,vbs,lcg"
      ],
      "execution_count": 36,
      "outputs": []
    },
    {
      "cell_type": "code",
      "metadata": {
        "id": "DoR3apMd-_UG"
      },
      "source": [
        "# state and control bounds: used for generating random dynamics data.\n",
        "bounds_state = (\n",
        "    np.array([-20, -20, -20, 0, 0, 0, -10, -10, -10, -10, -10, -10]),\n",
        "    np.array([20, 20, 20, 2*np.pi, 2*np.pi, 2*np.pi, 10, 10, 10, 10, 10, 10])\n",
        ")\n",
        "bounds_control = (\n",
        "    np.full(dim_control, -1.0),\n",
        "    np.full(dim_control, 1.0)\n",
        ")"
      ],
      "execution_count": 37,
      "outputs": []
    },
    {
      "cell_type": "code",
      "metadata": {
        "id": "q9uVOiKt-_UH",
        "colab": {
          "base_uri": "https://localhost:8080/"
        },
        "outputId": "3d2ca1b2-b0ac-437b-9486-530cb5183a2b"
      },
      "source": [
        "# random state and control\n",
        "state = uniform(\n",
        "    next(key),\n",
        "    (dim_state,),\n",
        "    minval=bounds_state[0],\n",
        "    maxval=bounds_state[1]\n",
        ")\n",
        "control = uniform(\n",
        "    next(key),\n",
        "    (dim_control,),\n",
        "    minval=bounds_control[0],\n",
        "    maxval=bounds_control[1]\n",
        ")\n",
        "state, control"
      ],
      "execution_count": 38,
      "outputs": [
        {
          "output_type": "execute_result",
          "data": {
            "text/plain": [
              "(DeviceArray([-10.444722  ,  18.622414  ,  -6.163068  ,   4.124211  ,\n",
              "                1.41309   ,   5.0011864 ,   5.3415127 ,   0.04921722,\n",
              "                1.7980938 ,   7.241802  ,  -9.206619  ,  -9.593658  ],            dtype=float32),\n",
              " DeviceArray([ 0.5028832 , -0.09884787,  0.6562114 , -0.2787211 ], dtype=float32))"
            ]
          },
          "metadata": {},
          "execution_count": 38
        }
      ]
    },
    {
      "cell_type": "markdown",
      "metadata": {
        "id": "dS4hSpU9-_UH"
      },
      "source": [
        "## Transformations"
      ]
    },
    {
      "cell_type": "code",
      "metadata": {
        "id": "Pdx2qOUuktpJ"
      },
      "source": [
        "# skew matrix of vector\n",
        "@jit\n",
        "def skew(vec):\n",
        "  return np.array([\n",
        "    [0, -vec[2], vec[1]],\n",
        "    [vec[2], 0, -vec[0]],\n",
        "    [-vec[1], vec[0], 0]\n",
        "  ])"
      ],
      "execution_count": 39,
      "outputs": []
    },
    {
      "cell_type": "code",
      "metadata": {
        "id": "ta4i4rWv-_UI"
      },
      "source": [
        "# vector from skew matrix\n",
        "@jit\n",
        "def unskew(mat):\n",
        "    return np.array([\n",
        "        mat[2,1],\n",
        "        mat[0,2],\n",
        "        mat[1,0]\n",
        "    ])"
      ],
      "execution_count": 40,
      "outputs": []
    },
    {
      "cell_type": "code",
      "metadata": {
        "id": "k6FY25lf-_UI"
      },
      "source": [
        "# rotation matrix from body to NED for linear vectors\n",
        "@jit\n",
        "def R_b2ned(phi, theta, psi):\n",
        "    Rx = np.array([\n",
        "        [1, 0, 0],\n",
        "        [0, np.cos(phi), -np.sin(phi)],\n",
        "        [0, np.sin(phi), np.cos(phi)]\n",
        "    ])\n",
        "    Ry = np.array([\n",
        "        [np.cos(theta), 0, np.sin(theta)],\n",
        "        [0, 1, 0],\n",
        "        [-np.sin(theta), 0, np.cos(theta)]\n",
        "    ])\n",
        "    Rz = np.array([\n",
        "        [np.cos(psi), -np.sin(psi), 0],\n",
        "        [np.sin(psi), np.cos(psi), 0],\n",
        "        [0, 0, 1]\n",
        "    ])\n",
        "    R = Rz@Ry@Rx\n",
        "    return R"
      ],
      "execution_count": 41,
      "outputs": []
    },
    {
      "cell_type": "code",
      "metadata": {
        "id": "Y_HHsFZr-_UJ"
      },
      "source": [
        "# rotation matrix from body to NED for angular vectors\n",
        "@jit\n",
        "def T_b2ned(phi, theta, psi):\n",
        "    T = np.array([\n",
        "        [1, np.sin(phi)*np.tan(theta), np.cos(phi)*np.tan(theta)],\n",
        "        [0, np.cos(phi), -np.sin(phi)],\n",
        "        [0, np.sin(phi)/np.cos(theta), np.cos(phi)/np.cos(theta)],\n",
        "    ])\n",
        "    return T"
      ],
      "execution_count": 42,
      "outputs": []
    },
    {
      "cell_type": "markdown",
      "metadata": {
        "id": "dcLBuduR-_UJ"
      },
      "source": [
        "We will assume that we know the analytical mapping between $q$ and $\\dot q$."
      ]
    },
    {
      "cell_type": "markdown",
      "metadata": {
        "id": "xalpR9uc-_UK"
      },
      "source": [
        "# Analytical model\n",
        "We will gather data from an analytical model of an AUV, so that we can compare the learned/identified model with a ground truth. However, in practice, one can also use other data as input, such as AUV pose data from missions.\n",
        "\n",
        "A six degree-of freedom AUV model is used leading to 12 states ($x,y,z,\\phi,\\theta,\\psi,u,v,w,p,q,r $), based on Fossen's notation. \n",
        "\n",
        "The kinematics are of the form\n",
        "    $\\dot \\eta = J_{euler}(\\eta)\\nu$ , \n",
        "    where $\\eta$ represents the vector of positions and orientations in Euler angles, while $\\nu$ represents the vector of velocities and angular velocities and $J_{euler}\\in\\mathbb{R}^{6 \\times 6}$ is the kinematic transformation matrix. \n",
        "\n",
        "The dynamics are of the form\n",
        "    $M_{\\text{eff}} \\dot\\nu + C_{\\text{eff}}(\\nu) + g(\\eta) = \\tau_C$, \n",
        "    where M represents the combined mass and inertia matrix (considering rigid body terms, but added mass terms can also be included), C is the combined coriolis-centripetal matrix, D is the damping matrix (considering hydrodynamics), g represents the buoyancy forces (considering hydrostatics) and $\\tau_C$ refers to the vector of external control forces (such as from actuators).\n",
        "\n",
        "The AUV under consideration (SAM) has 6 actuators including counter-rotating propellers (to control speed and roll), thrust vectoring(for yaw and pitch), longitudinal center of gravity(for static pitching and gliding) and a variable buoyancy system (to regulate buoyancy) and is underactuated. The effect of these actuators are included in the code below.\n"
      ]
    },
    {
      "cell_type": "code",
      "metadata": {
        "id": "UEqKTbPanK_u"
      },
      "source": [
        "@jit\n",
        "def f_analytical(state, control):\n",
        "\n",
        "  # state and control\n",
        "  x, y, z, phi, theta, psi, u, v, w, p, q, r = state\n",
        "  #rpm1, rpm2, de, dr, lcg, vbs = control\n",
        "  rpm1, rpm2, de, dr = control\n",
        "\n",
        "\n",
        "  # position (NED) and velocity (body), rsp\n",
        "  eta = np.array([x, y, z, phi, theta, psi])\n",
        "  nu = np.array([u, v, w, p, q, r])\n",
        "\n",
        "  # scaled controls\n",
        "  rpm1 *= 1000.0\n",
        "  rpm2 *= 1000.0\n",
        "  de *= 0.05\n",
        "  dr *= 0.05\n",
        "  # vbs *= 1.0\n",
        "  # lcg *= 1.0\n",
        "\n",
        "  # mass and inertia matrix\n",
        "  m = 14.0\n",
        "  I_o = np.diag(np.array([0.0294, 1.6202, 1.6202]))\n",
        "\n",
        "  # centre of gravity, buoyancy, and pressure positions, resp.\n",
        "  #r_g = np.array([0.1 + lcg*0.01, 0.0, 0.0])\n",
        "  r_g = np.array([0.1, 0.0, 0.0]) #no effect of Longitudinal C.G. trim system\n",
        "  r_b = np.array([0.1, 0.0, 0.0])\n",
        "  r_cp = np.array([0.1, 0.0, 0.0])\n",
        "\n",
        "  # <insert title>\n",
        "  W = m*9.81\n",
        "  #B = W + vbs*1.5\n",
        "  B = W #no effect of Variable buoyancy system\n",
        "\n",
        "\n",
        "  # hydrodynamic coefficients\n",
        "  Xuu = 5. #3. #1.0\n",
        "  Yvv = 20. #10. #100.0\n",
        "  Zww = 50. #100.0\n",
        "  Kpp = 0.1 #10.0\n",
        "  Mqq = 20.#40 #100.0\n",
        "  Nrr = 20. #150.0\n",
        "\n",
        "  # control actuators\n",
        "  K_T = np.array([0.0175, 0.0175])\n",
        "  Q_T = np.array([0.001, -0.001])#*0.0\n",
        "\n",
        "  # mass and inertia matrix\n",
        "  M = np.block([\n",
        "    [m*np.eye(3,3), -m*skew(r_g)],\n",
        "    [m*skew(r_g), I_o]\n",
        "  ])\n",
        "  assert M.shape == (6,6), M\n",
        "\n",
        "  # coriolis and centripetal matrix\n",
        "  nu1 = np.array([u, v, w])\n",
        "  nu2 = np.array([p, q, r])\n",
        "  top_right = -m*skew(nu1) - m*skew(nu2)*skew(r_g)\n",
        "  bottom_left = -m*skew(nu1) + m*skew(r_g)*skew(nu2)\n",
        "  bottom_right = -skew(I_o.dot(nu2))\n",
        "  C_RB = np.block([\n",
        "    [np.zeros((3,3)), top_right],\n",
        "    [bottom_left, bottom_right]\n",
        "  ])\n",
        "  assert C_RB.shape == (6, 6), C_RB\n",
        "\n",
        "  # damping matrix\n",
        "  forces = np.diag(np.array([Xuu*np.abs(u), Yvv*np.abs(v), Zww*np.abs(w)]))\n",
        "  moments = np.diag(np.array([Kpp*np.abs(p), Mqq*np.abs(q), Nrr*np.abs(r)]))\n",
        "  coupling = np.matmul(skew(r_cp), forces)\n",
        "  D = np.block([[forces, np.zeros((3, 3))], [-coupling, moments]])\n",
        "  assert D.shape == (6, 6), D\n",
        "\n",
        "  # rotational transform between body and NED in Euler\n",
        "  T_euler = T_b2ned(phi, theta, psi)      \n",
        "  R_euler = R_b2ned(phi, theta, psi)\n",
        "  assert R_euler.shape == (3,3), R_euler\n",
        "  J_eta = np.block([\n",
        "    [R_euler, np.zeros((3,3))],\n",
        "    [np.zeros((3,3)), T_euler]\n",
        "  ])\n",
        "  assert J_eta.shape == (6,6), J_eta\n",
        "\n",
        "  # buoyancy in quaternions\n",
        "  f_g = np.array([0, 0, W])\n",
        "  f_b = np.array([0, 0, -B])\n",
        "  row1 = np.linalg.inv(R_euler).dot(f_g + f_b)\n",
        "  row2 = skew(r_g).dot(np.linalg.inv(R_euler)).dot(f_g) + \\\n",
        "    skew(r_b).dot(np.linalg.inv(R_euler)).dot(f_b)\n",
        "  geta = np.block([row1, row2])\n",
        "  assert geta.shape == (6,), geta\n",
        "\n",
        "  # <insert title>\n",
        "  F_T = K_T.dot(np.array([rpm1, rpm2]))\n",
        "  M_T = Q_T.dot(np.array([rpm1, rpm2]))\n",
        "  tauc = np.array([\n",
        "    F_T*np.cos(de)*np.cos(dr),\n",
        "    -F_T*np.sin(dr),\n",
        "    F_T*np.sin(de)*np.cos(dr),\n",
        "    M_T*np.cos(de)*np.cos(dr),\n",
        "    -M_T*np.sin(dr),\n",
        "    M_T*np.sin(de)*np.cos(dr)\n",
        "  ])\n",
        "  assert tauc.shape == (6,), tauc\n",
        "\n",
        "  # velocity and acceleration \n",
        "  etadot = np.block([J_eta.dot(nu)])\n",
        "  assert etadot.shape == (6,)\n",
        "  nudot = np.linalg.inv(M).dot(tauc - (C_RB + D).dot(nu) - geta)\n",
        "  #F_nonconsv = tauc - D.dot(nu) # nonconservative terms \n",
        "  #F_consv = -C_RB.dot(nu)-geta # conservative terms in the nudot equation  \n",
        "  assert nudot.shape == (6,)\n",
        "\n",
        "  # state-space\n",
        "  sdot = np.block([etadot, nudot])\n",
        "  return sdot"
      ],
      "execution_count": 43,
      "outputs": []
    },
    {
      "cell_type": "markdown",
      "metadata": {
        "id": "6LlTxTuz-_UM"
      },
      "source": [
        "# Machine learning models\n",
        "\n",
        "We will consider the following learning models:\n",
        "- Learn a linear model.\n",
        "- Learn the damping matrix.\n",
        "- Learn the nonlinear model with a naïve MLP.\n",
        "- Learn the nonlinear model with a decompositional physics-informed model.\n",
        "\n",
        "Other things:\n",
        "- We know a priori that the dynamics of the analytical model is invariant under the position. Thus, we let the models learn from the variable in the body frame, therby making the $p = [0,0,0]$ in regression.\n",
        "- It is well-known that Euler angle and quaternions are discontinuous representation, and hence troublesome to the regression process. Thus, in ever model, we choose to learn from the rotation matrix, which is a continuous orientation representation."
      ]
    },
    {
      "cell_type": "markdown",
      "metadata": {
        "id": "mfTENijB-_UN"
      },
      "source": [
        "## Naïve"
      ]
    },
    {
      "cell_type": "code",
      "metadata": {
        "id": "KV4dDKV1-_UN"
      },
      "source": [
        "def F_naive(state, control):\n",
        "\n",
        "    # position, orientation, velocities\n",
        "    p, theta, v, omega = state.split(4)\n",
        "\n",
        "    # linear rotation matrix and its time-derivitive\n",
        "    R = R_b2ned(*theta)\n",
        "    Rinv = np.linalg.pinv(R)\n",
        "    dR = R@skew(omega)\n",
        "\n",
        "    # angular rotation matrix\n",
        "    T = T_b2ned(*theta)\n",
        "\n",
        "    # continuous canonical states\n",
        "    q = np.hstack(([0,0,0], R.flatten()))\n",
        "    dq = np.hstack((v, dR.flatten()))\n",
        "\n",
        "    # ddq from NN\n",
        "    ddq = hk.nets.MLP(\n",
        "        [1000, 1000, 1000],\n",
        "        activation=softplus\n",
        "    )(np.hstack((q, dq, control)))\n",
        "\n",
        "    # accelerations in body frame\n",
        "    a = ddq[0:3]\n",
        "    ddR = ddq[3:12].reshape((3,3))\n",
        "    alpha = unskew(Rinv@ddR)\n",
        "\n",
        "    # dynamics\n",
        "    dstate = np.hstack((R@v, T@omega, a, alpha))\n",
        "    return dstate"
      ],
      "execution_count": 44,
      "outputs": []
    },
    {
      "cell_type": "markdown",
      "metadata": {
        "id": "ELQQskjJ-_UO"
      },
      "source": [
        "## Physics-informed"
      ]
    },
    {
      "cell_type": "code",
      "metadata": {
        "id": "51iwlxde-_UP"
      },
      "source": [
        "def F_conservative(state):\n",
        "\n",
        "    # NED position, NED orientation, body velocities\n",
        "    p, theta, v, omega = state.split(4)\n",
        "\n",
        "    # rotation matrix and its time-derivitive\n",
        "    R = R_b2ned(*theta)\n",
        "    dR = R@skew(omega)\n",
        "\n",
        "    # canonical 0th and 1st derivative\n",
        "    q = np.hstack(([0,0,0], R.flatten()))\n",
        "    dq = np.hstack((v, dR.flatten()))\n",
        "\n",
        "    # Lagrangian\n",
        "    L = lambda q, dq: hk.nets.MLP(\n",
        "        [200, 200, 200, 1], \n",
        "        activation=softplus\n",
        "    )(np.hstack((q, dq)))[0]\n",
        "\n",
        "    # conservative acceleration\n",
        "    ddq = jacobian(jacobian(L, 1), 0)(q, dq)\n",
        "    ddq = ddq @ dq\n",
        "    ddq = grad(L, 0)(q, dq) - ddq\n",
        "    ddq = np.linalg.pinv(hessian(L, 1)(q, dq)) @ ddq\n",
        "\n",
        "    # accelerations in body frame\n",
        "    a = ddq[0:3]\n",
        "    ddR = ddq[3:12].reshape((3,3))\n",
        "    alpha = unskew(np.linalg.pinv(R)@ddR)\n",
        "\n",
        "    # dynamics\n",
        "    T = T_b2ned(*theta)\n",
        "    dstate = np.hstack((R@v, T@omega, a, alpha))\n",
        "    return dstate"
      ],
      "execution_count": 45,
      "outputs": []
    },
    {
      "cell_type": "code",
      "metadata": {
        "id": "RvNuycKT-_UP"
      },
      "source": [
        "def F_non_conservative(state, control):\n",
        "\n",
        "    # NED position, NED orientation, body velocities\n",
        "    p, theta, v, omega = state.split(4)\n",
        "\n",
        "    # rotation matrix and its time-derivitive\n",
        "    R = R_b2ned(*theta)\n",
        "    dR = R@skew(omega)\n",
        "\n",
        "    # canonical 0th and 1st derivative\n",
        "    q = np.hstack(([0,0,0], R.flatten()))\n",
        "    dq = np.hstack((v, dR.flatten()))\n",
        "\n",
        "    # non-conservative acceleration\n",
        "    net = hk.nets.MLP([200, 200, 200, 3 + 9], activation=softplus)\n",
        "    ddq = net(np.hstack((q, dq, control)))\n",
        "\n",
        "    # accelerations in body frame\n",
        "    a = ddq[0:3]\n",
        "    ddR = ddq[3:12].reshape((3,3))\n",
        "    alpha = unskew(np.linalg.pinv(R)@ddR)\n",
        "\n",
        "    # dynamics\n",
        "    T = T_b2ned(*theta)\n",
        "    dstate = np.hstack((R@v, T@omega, a, alpha))\n",
        "    return dstate"
      ],
      "execution_count": 46,
      "outputs": []
    },
    {
      "cell_type": "markdown",
      "metadata": {
        "id": "1VR8z5ft-_UQ"
      },
      "source": [
        "## Random control policy"
      ]
    },
    {
      "cell_type": "code",
      "metadata": {
        "id": "3LokEgbn-_UQ"
      },
      "source": [
        "def Policy(state):\n",
        "    net = hk.nets.MLP([500, 500, 500, dim_control], activation=softplus)\n",
        "    control = np.tanh(net(state))\n",
        "    return control"
      ],
      "execution_count": 47,
      "outputs": []
    },
    {
      "cell_type": "markdown",
      "metadata": {
        "id": "yX7We0jU-_UR"
      },
      "source": [
        "# Integration"
      ]
    },
    {
      "cell_type": "code",
      "metadata": {
        "id": "zdwaRzPn-_UR"
      },
      "source": [
        "@partial(jit, static_argnums=(1,2,3))\n",
        "def trajectory(x, f, T, h):\n",
        "    return odeint(f, x, np.arange(0.0, T, h))"
      ],
      "execution_count": 48,
      "outputs": []
    },
    {
      "cell_type": "code",
      "metadata": {
        "id": "td6xMF6l-_UR"
      },
      "source": [
        "trajectories = jit(\n",
        "    vmap(trajectory, in_axes=(0,None,None,None)),\n",
        "    static_argnums=(1,2,3)\n",
        ")"
      ],
      "execution_count": 49,
      "outputs": []
    },
    {
      "cell_type": "markdown",
      "metadata": {
        "id": "JnZGFokm-_UR"
      },
      "source": [
        "# Visualisation"
      ]
    },
    {
      "cell_type": "code",
      "metadata": {
        "id": "8QCPoskN-_UR"
      },
      "source": [
        "def plot(trajs_list, markers, labels):\n",
        "\n",
        "    # setup\n",
        "    fig = plt.figure()\n",
        "    ax = fig.add_subplot(111, projection='3d')\n",
        "\n",
        "    # plot\n",
        "    for trajs, marker, label in zip(trajs_list, markers, labels):\n",
        "        for i, traj in enumerate(trajs):\n",
        "            label = None if i else label\n",
        "            ax.plot(\n",
        "                traj[:,0],\n",
        "                traj[:,1],\n",
        "                traj[:,2],\n",
        "                marker,\n",
        "                label=label\n",
        "            )\n",
        "\n",
        "    # format\n",
        "    plt.legend()\n",
        "    plt.show()"
      ],
      "execution_count": 50,
      "outputs": []
    },
    {
      "cell_type": "markdown",
      "metadata": {
        "id": "x2AE7elw-_US"
      },
      "source": [
        "# Training and loss functions"
      ]
    },
    {
      "cell_type": "code",
      "metadata": {
        "id": "VG6rX3r2-_US"
      },
      "source": [
        "class Trainer:\n",
        "\n",
        "    def __init__(self, n):\n",
        "\n",
        "        # number of data to train on\n",
        "        self.n = n\n",
        "\n",
        "        # loss record\n",
        "        self.losses = list()\n",
        "\n",
        "    @partial(jit, static_argnums=(0,))\n",
        "    def f(self, state, control):\n",
        "        raise NotImplementedError()\n",
        "\n",
        "    @partial(jit, static_argnums=(0,))\n",
        "    def gen_data(self, key):\n",
        "\n",
        "        # generate random states\n",
        "        states = uniform(\n",
        "            key,\n",
        "            shape=(self.n, dim_state),\n",
        "            minval=bounds_state[0],\n",
        "            maxval=bounds_state[1]\n",
        "        )\n",
        "\n",
        "        # generate random controls\n",
        "        controls = uniform(\n",
        "            key,\n",
        "            shape=(self.n, dim_control),\n",
        "            minval=bounds_control[0],\n",
        "            maxval=bounds_control[1]\n",
        "        )\n",
        "\n",
        "        # analytical time-derivatives\n",
        "        dstates = vmap(f_analytical, in_axes=(0,0))(states, controls)\n",
        "        return states, controls, dstates\n",
        "\n",
        "    @partial(jit, static_argnums=(0,))\n",
        "    def loss(self, params, key):\n",
        "        raise NotImplementedError()\n",
        "\n",
        "    @partial(jit, static_argnums=(0,))\n",
        "    def grad(self, params, key):\n",
        "        return grad(self.loss, argnums=0, has_aux=True)(params, key)\n",
        "\n",
        "    def train(self, epo, lr, algo):\n",
        "\n",
        "        # setup optimiser\n",
        "        opt_init, opt_update = algo(lr)\n",
        "        opt_state = opt_init(self.params)\n",
        "\n",
        "        # training loop\n",
        "        pb = tqdm(range(epo))\n",
        "        for _ in pb:\n",
        "\n",
        "            # gradient and loss\n",
        "            gopt, loss = self.grad(self.params, next(key))\n",
        "\n",
        "            # record loss\n",
        "            self.losses.append(loss)\n",
        "\n",
        "            # progress bar update\n",
        "            pb.set_description('{:.6f}'.format(loss))\n",
        "\n",
        "            # optimiser update\n",
        "            updates, opt_state = opt_update(\n",
        "                gopt, \n",
        "                opt_state, \n",
        "                self.params\n",
        "            )\n",
        "\n",
        "            # update the parameters\n",
        "            self.params = optax.apply_updates(self.params, updates)"
      ],
      "execution_count": 51,
      "outputs": []
    },
    {
      "cell_type": "code",
      "metadata": {
        "id": "4T-4qQSM-_US"
      },
      "source": [
        "class Trainer_Naive(Trainer):\n",
        "\n",
        "    def __init__(self, n):\n",
        "\n",
        "        # inherit\n",
        "        Trainer.__init__(self, n)\n",
        "\n",
        "        # naïve model\n",
        "        self.f_naive = hk.without_apply_rng(hk.transform(F_naive))\n",
        "        self.params = self.f_naive.init(next(key), state, control)\n",
        "\n",
        "    @partial(jit, static_argnums=(0,))\n",
        "    def f(self, state, control):\n",
        "        return self.f_naive.apply(self.params, state, control)\n",
        "\n",
        "    @partial(jit, static_argnums=(0,))\n",
        "    def loss(self, params, key):\n",
        "\n",
        "        # generate data\n",
        "        states, controls, dstates = self.gen_data(key)\n",
        "\n",
        "        # predictions\n",
        "        dstates_nn = vmap(self.f_naive.apply, in_axes=(None,0,0))(params, states, controls)\n",
        "\n",
        "        # loss\n",
        "        loss = dstates[:,6:] - dstates_nn[:,6:]\n",
        "        loss = np.average(np.square(loss))\n",
        "        # loss = np.linalg.norm(loss, ord=2, axis=1)\n",
        "        # loss = np.sum(loss)/(self.n*6)\n",
        "        # loss = loss**0.5\n",
        "        return loss, loss"
      ],
      "execution_count": 52,
      "outputs": []
    },
    {
      "cell_type": "code",
      "metadata": {
        "id": "UaGYj8IQ-_US"
      },
      "source": [
        "class Trainer_Decomposition(Trainer):\n",
        "\n",
        "    def __init__(self, n, l):\n",
        "\n",
        "        # inherit\n",
        "        Trainer.__init__(self, n)\n",
        "\n",
        "        # conservative and non-conservative models\n",
        "        self.f_c = hk.without_apply_rng(hk.transform(F_conservative))\n",
        "        self.f_nc = hk.without_apply_rng(hk.transform(F_non_conservative))\n",
        "\n",
        "        # models' parameters\n",
        "        self.params = (\n",
        "            self.f_c.init(next(key), state),\n",
        "            self.f_nc.init(next(key), state, control)\n",
        "        )\n",
        "\n",
        "        # non-conservative penalization\n",
        "        self.l = l\n",
        "\n",
        "    @partial(jit, static_argnums=(0,))\n",
        "    def f(self, state, control):\n",
        "        dstate = self.f_c.apply(self.params[0], state)\n",
        "        dstate += self.f_nc.apply(self.params[1], state, control)\n",
        "        return dstate\n",
        "\n",
        "    @partial(jit, static_argnums=(0,))\n",
        "    def loss(self, params, key):\n",
        "\n",
        "        # generate data\n",
        "        states, controls, dstates = self.gen_data(key)\n",
        "\n",
        "        # predictions\n",
        "        dstates_c = vmap(self.f_c.apply, in_axes=(None,0))(params[0], states)\n",
        "        dstates_nc = vmap(self.f_nc.apply, in_axes=(None,0,0))(params[1], states, controls)\n",
        "        dstates_nn = dstates_c + dstates_nc\n",
        "\n",
        "        # loss for dynamics\n",
        "        loss_f = dstates[:,6:] - dstates_nn[:,6:]\n",
        "        loss_f = np.mean(np.square(loss_f))\n",
        "        # loss_f = np.linalg.norm(loss_f, ord=2, axis=1)\n",
        "        # loss_f = np.sum(loss_f)/(self.n*6)\n",
        "        # loss_f = loss_f**0.5\n",
        "\n",
        "        # loss for non-conservative\n",
        "        loss_nc = dstates_nc[:,6:]\n",
        "        loss_nc = np.mean(np.square(loss_nc))\n",
        "        # loss_nc = np.linalg.norm(dstates_nc[:,6:], ord=2, axis=1)\n",
        "        # loss_nc = np.sum(loss_nc)/(self.n*6)\n",
        "        # loss_nc = loss_nc**0.5\n",
        "\n",
        "        # total loss\n",
        "        loss = loss_f + self.l*loss_nc\n",
        "        return loss, loss"
      ],
      "execution_count": 53,
      "outputs": []
    },
    {
      "cell_type": "markdown",
      "metadata": {
        "id": "QP8jmqXc-_UT"
      },
      "source": [
        "# Results"
      ]
    },
    {
      "cell_type": "code",
      "metadata": {
        "id": "VylEz47g-_UT"
      },
      "source": [
        "trainer = Trainer_Naive(1000)"
      ],
      "execution_count": 54,
      "outputs": []
    },
    {
      "cell_type": "code",
      "metadata": {
        "id": "atBO-Yi8-_UT",
        "colab": {
          "base_uri": "https://localhost:8080/",
          "height": 49,
          "referenced_widgets": [
            "b84bc43e284b48bcb2df2835dd83600b",
            "090a9ceee905455a892099ed435bdd8d",
            "1a329392c8d84613b5e3d0e2811b1150",
            "d618ccbf1c7f498089bccbf61c625541",
            "a764332fe8fa413597eac6c2e7c0edb9",
            "efe5fddc41f7497c91ff4fe51f734fca",
            "bb2abf1edc0e4bf59b5e97b374777d0e",
            "8ae960169ccc4c3e9b9dd12c14250b34",
            "46c5685ddb534ba8b0b1d722fa53bf94",
            "55e2ed9817e54f3589ae3d3788b1bf70",
            "18b087270d9b49cbad0973b1adfd306d"
          ]
        },
        "outputId": "6b1dc409-be9a-4567-e1c0-3a73695b8719"
      },
      "source": [
        "trainer.train(10000, 1e-2, optax.adam)"
      ],
      "execution_count": null,
      "outputs": [
        {
          "output_type": "display_data",
          "data": {
            "application/vnd.jupyter.widget-view+json": {
              "model_id": "b84bc43e284b48bcb2df2835dd83600b",
              "version_minor": 0,
              "version_major": 2
            },
            "text/plain": [
              "  0%|          | 0/10000 [00:00<?, ?it/s]"
            ]
          },
          "metadata": {}
        }
      ]
    },
    {
      "cell_type": "code",
      "metadata": {
        "id": "liPwoji6-_UU"
      },
      "source": [
        "np.save('nn.npy', trainer.params)"
      ],
      "execution_count": null,
      "outputs": []
    },
    {
      "cell_type": "code",
      "metadata": {
        "id": "pZUXmRF7-_UU",
        "outputId": "1614fc9f-30ff-4072-bbde-937f602df27d"
      },
      "source": [
        "fig, ax = plt.subplots(1)\n",
        "ax.plot(trainer.losses, 'k-')\n",
        "ax.set_yscale('log')\n",
        "plt.show()"
      ],
      "execution_count": null,
      "outputs": [
        {
          "output_type": "display_data",
          "data": {
            "text/plain": [
              "<Figure size 432x288 with 1 Axes>"
            ],
            "image/svg+xml": "<?xml version=\"1.0\" encoding=\"utf-8\" standalone=\"no\"?>\n<!DOCTYPE svg PUBLIC \"-//W3C//DTD SVG 1.1//EN\"\n  \"http://www.w3.org/Graphics/SVG/1.1/DTD/svg11.dtd\">\n<!-- Created with matplotlib (https://matplotlib.org/) -->\n<svg height=\"248.518125pt\" version=\"1.1\" viewBox=\"0 0 373.8 248.518125\" width=\"373.8pt\" xmlns=\"http://www.w3.org/2000/svg\" xmlns:xlink=\"http://www.w3.org/1999/xlink\">\n <metadata>\n  <rdf:RDF xmlns:cc=\"http://creativecommons.org/ns#\" xmlns:dc=\"http://purl.org/dc/elements/1.1/\" xmlns:rdf=\"http://www.w3.org/1999/02/22-rdf-syntax-ns#\">\n   <cc:Work>\n    <dc:type rdf:resource=\"http://purl.org/dc/dcmitype/StillImage\"/>\n    <dc:date>2021-08-17T21:25:50.323722</dc:date>\n    <dc:format>image/svg+xml</dc:format>\n    <dc:creator>\n     <cc:Agent>\n      <dc:title>Matplotlib v3.3.3, https://matplotlib.org/</dc:title>\n     </cc:Agent>\n    </dc:creator>\n   </cc:Work>\n  </rdf:RDF>\n </metadata>\n <defs>\n  <style type=\"text/css\">*{stroke-linecap:butt;stroke-linejoin:round;}</style>\n </defs>\n <g id=\"figure_1\">\n  <g id=\"patch_1\">\n   <path d=\"M 0 248.518125 \nL 373.8 248.518125 \nL 373.8 0 \nL 0 0 \nz\n\" style=\"fill:none;\"/>\n  </g>\n  <g id=\"axes_1\">\n   <g id=\"patch_2\">\n    <path d=\"M 31.8 224.64 \nL 366.6 224.64 \nL 366.6 7.2 \nL 31.8 7.2 \nz\n\" style=\"fill:#ffffff;\"/>\n   </g>\n   <g id=\"matplotlib.axis_1\">\n    <g id=\"xtick_1\">\n     <g id=\"line2d_1\">\n      <defs>\n       <path d=\"M 0 0 \nL 0 3.5 \n\" id=\"mdc403ca614\" style=\"stroke:#000000;stroke-width:0.8;\"/>\n      </defs>\n      <g>\n       <use style=\"stroke:#000000;stroke-width:0.8;\" x=\"47.018182\" xlink:href=\"#mdc403ca614\" y=\"224.64\"/>\n      </g>\n     </g>\n     <g id=\"text_1\">\n      <!-- 0 -->\n      <g transform=\"translate(43.836932 239.238438)scale(0.1 -0.1)\">\n       <defs>\n        <path d=\"M 31.78125 66.40625 \nQ 24.171875 66.40625 20.328125 58.90625 \nQ 16.5 51.421875 16.5 36.375 \nQ 16.5 21.390625 20.328125 13.890625 \nQ 24.171875 6.390625 31.78125 6.390625 \nQ 39.453125 6.390625 43.28125 13.890625 \nQ 47.125 21.390625 47.125 36.375 \nQ 47.125 51.421875 43.28125 58.90625 \nQ 39.453125 66.40625 31.78125 66.40625 \nz\nM 31.78125 74.21875 \nQ 44.046875 74.21875 50.515625 64.515625 \nQ 56.984375 54.828125 56.984375 36.375 \nQ 56.984375 17.96875 50.515625 8.265625 \nQ 44.046875 -1.421875 31.78125 -1.421875 \nQ 19.53125 -1.421875 13.0625 8.265625 \nQ 6.59375 17.96875 6.59375 36.375 \nQ 6.59375 54.828125 13.0625 64.515625 \nQ 19.53125 74.21875 31.78125 74.21875 \nz\n\" id=\"DejaVuSans-48\"/>\n       </defs>\n       <use xlink:href=\"#DejaVuSans-48\"/>\n      </g>\n     </g>\n    </g>\n    <g id=\"xtick_2\">\n     <g id=\"line2d_2\">\n      <g>\n       <use style=\"stroke:#000000;stroke-width:0.8;\" x=\"97.762369\" xlink:href=\"#mdc403ca614\" y=\"224.64\"/>\n      </g>\n     </g>\n     <g id=\"text_2\">\n      <!-- 500 -->\n      <g transform=\"translate(88.218619 239.238438)scale(0.1 -0.1)\">\n       <defs>\n        <path d=\"M 10.796875 72.90625 \nL 49.515625 72.90625 \nL 49.515625 64.59375 \nL 19.828125 64.59375 \nL 19.828125 46.734375 \nQ 21.96875 47.46875 24.109375 47.828125 \nQ 26.265625 48.1875 28.421875 48.1875 \nQ 40.625 48.1875 47.75 41.5 \nQ 54.890625 34.8125 54.890625 23.390625 \nQ 54.890625 11.625 47.5625 5.09375 \nQ 40.234375 -1.421875 26.90625 -1.421875 \nQ 22.3125 -1.421875 17.546875 -0.640625 \nQ 12.796875 0.140625 7.71875 1.703125 \nL 7.71875 11.625 \nQ 12.109375 9.234375 16.796875 8.0625 \nQ 21.484375 6.890625 26.703125 6.890625 \nQ 35.15625 6.890625 40.078125 11.328125 \nQ 45.015625 15.765625 45.015625 23.390625 \nQ 45.015625 31 40.078125 35.4375 \nQ 35.15625 39.890625 26.703125 39.890625 \nQ 22.75 39.890625 18.8125 39.015625 \nQ 14.890625 38.140625 10.796875 36.28125 \nz\n\" id=\"DejaVuSans-53\"/>\n       </defs>\n       <use xlink:href=\"#DejaVuSans-53\"/>\n       <use x=\"63.623047\" xlink:href=\"#DejaVuSans-48\"/>\n       <use x=\"127.246094\" xlink:href=\"#DejaVuSans-48\"/>\n      </g>\n     </g>\n    </g>\n    <g id=\"xtick_3\">\n     <g id=\"line2d_3\">\n      <g>\n       <use style=\"stroke:#000000;stroke-width:0.8;\" x=\"148.506557\" xlink:href=\"#mdc403ca614\" y=\"224.64\"/>\n      </g>\n     </g>\n     <g id=\"text_3\">\n      <!-- 1000 -->\n      <g transform=\"translate(135.781557 239.238438)scale(0.1 -0.1)\">\n       <defs>\n        <path d=\"M 12.40625 8.296875 \nL 28.515625 8.296875 \nL 28.515625 63.921875 \nL 10.984375 60.40625 \nL 10.984375 69.390625 \nL 28.421875 72.90625 \nL 38.28125 72.90625 \nL 38.28125 8.296875 \nL 54.390625 8.296875 \nL 54.390625 0 \nL 12.40625 0 \nz\n\" id=\"DejaVuSans-49\"/>\n       </defs>\n       <use xlink:href=\"#DejaVuSans-49\"/>\n       <use x=\"63.623047\" xlink:href=\"#DejaVuSans-48\"/>\n       <use x=\"127.246094\" xlink:href=\"#DejaVuSans-48\"/>\n       <use x=\"190.869141\" xlink:href=\"#DejaVuSans-48\"/>\n      </g>\n     </g>\n    </g>\n    <g id=\"xtick_4\">\n     <g id=\"line2d_4\">\n      <g>\n       <use style=\"stroke:#000000;stroke-width:0.8;\" x=\"199.250744\" xlink:href=\"#mdc403ca614\" y=\"224.64\"/>\n      </g>\n     </g>\n     <g id=\"text_4\">\n      <!-- 1500 -->\n      <g transform=\"translate(186.525744 239.238438)scale(0.1 -0.1)\">\n       <use xlink:href=\"#DejaVuSans-49\"/>\n       <use x=\"63.623047\" xlink:href=\"#DejaVuSans-53\"/>\n       <use x=\"127.246094\" xlink:href=\"#DejaVuSans-48\"/>\n       <use x=\"190.869141\" xlink:href=\"#DejaVuSans-48\"/>\n      </g>\n     </g>\n    </g>\n    <g id=\"xtick_5\">\n     <g id=\"line2d_5\">\n      <g>\n       <use style=\"stroke:#000000;stroke-width:0.8;\" x=\"249.994932\" xlink:href=\"#mdc403ca614\" y=\"224.64\"/>\n      </g>\n     </g>\n     <g id=\"text_5\">\n      <!-- 2000 -->\n      <g transform=\"translate(237.269932 239.238438)scale(0.1 -0.1)\">\n       <defs>\n        <path d=\"M 19.1875 8.296875 \nL 53.609375 8.296875 \nL 53.609375 0 \nL 7.328125 0 \nL 7.328125 8.296875 \nQ 12.9375 14.109375 22.625 23.890625 \nQ 32.328125 33.6875 34.8125 36.53125 \nQ 39.546875 41.84375 41.421875 45.53125 \nQ 43.3125 49.21875 43.3125 52.78125 \nQ 43.3125 58.59375 39.234375 62.25 \nQ 35.15625 65.921875 28.609375 65.921875 \nQ 23.96875 65.921875 18.8125 64.3125 \nQ 13.671875 62.703125 7.8125 59.421875 \nL 7.8125 69.390625 \nQ 13.765625 71.78125 18.9375 73 \nQ 24.125 74.21875 28.421875 74.21875 \nQ 39.75 74.21875 46.484375 68.546875 \nQ 53.21875 62.890625 53.21875 53.421875 \nQ 53.21875 48.921875 51.53125 44.890625 \nQ 49.859375 40.875 45.40625 35.40625 \nQ 44.1875 33.984375 37.640625 27.21875 \nQ 31.109375 20.453125 19.1875 8.296875 \nz\n\" id=\"DejaVuSans-50\"/>\n       </defs>\n       <use xlink:href=\"#DejaVuSans-50\"/>\n       <use x=\"63.623047\" xlink:href=\"#DejaVuSans-48\"/>\n       <use x=\"127.246094\" xlink:href=\"#DejaVuSans-48\"/>\n       <use x=\"190.869141\" xlink:href=\"#DejaVuSans-48\"/>\n      </g>\n     </g>\n    </g>\n    <g id=\"xtick_6\">\n     <g id=\"line2d_6\">\n      <g>\n       <use style=\"stroke:#000000;stroke-width:0.8;\" x=\"300.739119\" xlink:href=\"#mdc403ca614\" y=\"224.64\"/>\n      </g>\n     </g>\n     <g id=\"text_6\">\n      <!-- 2500 -->\n      <g transform=\"translate(288.014119 239.238438)scale(0.1 -0.1)\">\n       <use xlink:href=\"#DejaVuSans-50\"/>\n       <use x=\"63.623047\" xlink:href=\"#DejaVuSans-53\"/>\n       <use x=\"127.246094\" xlink:href=\"#DejaVuSans-48\"/>\n       <use x=\"190.869141\" xlink:href=\"#DejaVuSans-48\"/>\n      </g>\n     </g>\n    </g>\n    <g id=\"xtick_7\">\n     <g id=\"line2d_7\">\n      <g>\n       <use style=\"stroke:#000000;stroke-width:0.8;\" x=\"351.483307\" xlink:href=\"#mdc403ca614\" y=\"224.64\"/>\n      </g>\n     </g>\n     <g id=\"text_7\">\n      <!-- 3000 -->\n      <g transform=\"translate(338.758307 239.238438)scale(0.1 -0.1)\">\n       <defs>\n        <path d=\"M 40.578125 39.3125 \nQ 47.65625 37.796875 51.625 33 \nQ 55.609375 28.21875 55.609375 21.1875 \nQ 55.609375 10.40625 48.1875 4.484375 \nQ 40.765625 -1.421875 27.09375 -1.421875 \nQ 22.515625 -1.421875 17.65625 -0.515625 \nQ 12.796875 0.390625 7.625 2.203125 \nL 7.625 11.71875 \nQ 11.71875 9.328125 16.59375 8.109375 \nQ 21.484375 6.890625 26.8125 6.890625 \nQ 36.078125 6.890625 40.9375 10.546875 \nQ 45.796875 14.203125 45.796875 21.1875 \nQ 45.796875 27.640625 41.28125 31.265625 \nQ 36.765625 34.90625 28.71875 34.90625 \nL 20.21875 34.90625 \nL 20.21875 43.015625 \nL 29.109375 43.015625 \nQ 36.375 43.015625 40.234375 45.921875 \nQ 44.09375 48.828125 44.09375 54.296875 \nQ 44.09375 59.90625 40.109375 62.90625 \nQ 36.140625 65.921875 28.71875 65.921875 \nQ 24.65625 65.921875 20.015625 65.03125 \nQ 15.375 64.15625 9.8125 62.3125 \nL 9.8125 71.09375 \nQ 15.4375 72.65625 20.34375 73.4375 \nQ 25.25 74.21875 29.59375 74.21875 \nQ 40.828125 74.21875 47.359375 69.109375 \nQ 53.90625 64.015625 53.90625 55.328125 \nQ 53.90625 49.265625 50.4375 45.09375 \nQ 46.96875 40.921875 40.578125 39.3125 \nz\n\" id=\"DejaVuSans-51\"/>\n       </defs>\n       <use xlink:href=\"#DejaVuSans-51\"/>\n       <use x=\"63.623047\" xlink:href=\"#DejaVuSans-48\"/>\n       <use x=\"127.246094\" xlink:href=\"#DejaVuSans-48\"/>\n       <use x=\"190.869141\" xlink:href=\"#DejaVuSans-48\"/>\n      </g>\n     </g>\n    </g>\n   </g>\n   <g id=\"matplotlib.axis_2\">\n    <g id=\"ytick_1\">\n     <g id=\"line2d_8\">\n      <defs>\n       <path d=\"M 0 0 \nL -3.5 0 \n\" id=\"ma905ca8faf\" style=\"stroke:#000000;stroke-width:0.8;\"/>\n      </defs>\n      <g>\n       <use style=\"stroke:#000000;stroke-width:0.8;\" x=\"31.8\" xlink:href=\"#ma905ca8faf\" y=\"130.6895\"/>\n      </g>\n     </g>\n     <g id=\"text_8\">\n      <!-- $\\mathdefault{10^{1}}$ -->\n      <g transform=\"translate(7.2 134.488719)scale(0.1 -0.1)\">\n       <use transform=\"translate(0 0.684375)\" xlink:href=\"#DejaVuSans-49\"/>\n       <use transform=\"translate(63.623047 0.684375)\" xlink:href=\"#DejaVuSans-48\"/>\n       <use transform=\"translate(128.203125 38.965625)scale(0.7)\" xlink:href=\"#DejaVuSans-49\"/>\n      </g>\n     </g>\n    </g>\n    <g id=\"ytick_2\">\n     <g id=\"line2d_9\">\n      <defs>\n       <path d=\"M 0 0 \nL -2 0 \n\" id=\"m8c2ecf8f8e\" style=\"stroke:#000000;stroke-width:0.6;\"/>\n      </defs>\n      <g>\n       <use style=\"stroke:#000000;stroke-width:0.6;\" x=\"31.8\" xlink:href=\"#m8c2ecf8f8e\" y=\"206.421373\"/>\n      </g>\n     </g>\n    </g>\n    <g id=\"ytick_3\">\n     <g id=\"line2d_10\">\n      <g>\n       <use style=\"stroke:#000000;stroke-width:0.6;\" x=\"31.8\" xlink:href=\"#m8c2ecf8f8e\" y=\"178.068996\"/>\n      </g>\n     </g>\n    </g>\n    <g id=\"ytick_4\">\n     <g id=\"line2d_11\">\n      <g>\n       <use style=\"stroke:#000000;stroke-width:0.6;\" x=\"31.8\" xlink:href=\"#m8c2ecf8f8e\" y=\"153.060427\"/>\n      </g>\n     </g>\n    </g>\n   </g>\n   <g id=\"line2d_12\">\n    <path clip-path=\"url(#p11d2cf5bb8)\" d=\"M 47.018182 31.271694 \nL 47.221159 24.683513 \nL 47.322647 30.916507 \nL 47.525624 21.240789 \nL 47.627112 32.718948 \nL 47.931577 22.860689 \nL 48.033066 26.318847 \nL 48.236042 25.096567 \nL 48.540507 30.663594 \nL 48.641996 27.227036 \nL 48.743484 17.083636 \nL 48.844973 30.679726 \nL 48.946461 23.055287 \nL 49.047949 32.034705 \nL 49.149438 27.693362 \nL 49.250926 28.437106 \nL 49.352414 32.717493 \nL 49.453903 20.707667 \nL 49.555391 21.735468 \nL 49.758368 28.870496 \nL 49.859856 25.696602 \nL 49.961345 30.635152 \nL 50.062833 24.097656 \nL 50.164321 24.932499 \nL 50.26581 39.433714 \nL 50.468787 23.388794 \nL 50.671763 29.726899 \nL 50.773252 31.501623 \nL 50.87474 27.049159 \nL 50.976228 35.265397 \nL 51.179205 24.833121 \nL 51.382182 27.992664 \nL 51.48367 27.841937 \nL 51.686647 38.477794 \nL 51.889624 21.265509 \nL 52.092601 31.714814 \nL 52.194089 19.651615 \nL 52.498554 36.029905 \nL 52.600042 19.774802 \nL 52.803019 30.751575 \nL 52.904508 30.301459 \nL 53.107484 36.876904 \nL 53.411949 24.061305 \nL 53.513438 39.033912 \nL 53.716415 21.928358 \nL 53.919391 38.430976 \nL 54.02088 26.873119 \nL 54.122368 28.17001 \nL 54.223856 34.222462 \nL 54.325345 33.764974 \nL 54.426833 35.062913 \nL 54.528322 32.865731 \nL 54.62981 28.146247 \nL 54.731298 34.28275 \nL 54.832787 24.300974 \nL 54.934275 43.215061 \nL 55.035763 29.627289 \nL 55.137252 30.408153 \nL 55.23874 40.620114 \nL 55.340229 24.813172 \nL 55.441717 43.916258 \nL 55.543205 36.180773 \nL 55.644694 40.506045 \nL 55.746182 34.78198 \nL 55.84767 37.930572 \nL 56.050647 33.046416 \nL 56.152136 42.867283 \nL 56.253624 37.713194 \nL 56.355112 39.359394 \nL 56.558089 29.837335 \nL 56.761066 47.435144 \nL 56.862554 45.523579 \nL 57.065531 47.661398 \nL 57.268508 34.895528 \nL 57.471484 49.548616 \nL 57.572973 41.30846 \nL 57.77595 46.713237 \nL 57.978926 36.323985 \nL 58.181903 49.918732 \nL 58.38488 41.809023 \nL 58.587857 52.579761 \nL 58.689345 49.738863 \nL 58.790833 53.600104 \nL 58.892322 50.347809 \nL 58.99381 37.217789 \nL 59.095298 51.577203 \nL 59.196787 34.28266 \nL 59.399764 49.736277 \nL 59.501252 46.859081 \nL 59.60274 38.728074 \nL 59.704229 51.99648 \nL 59.805717 51.17798 \nL 59.907205 52.665097 \nL 60.008694 40.094494 \nL 60.110182 48.165295 \nL 60.211671 40.857958 \nL 60.313159 42.948066 \nL 60.414647 49.148662 \nL 60.617624 44.610571 \nL 60.820601 54.822421 \nL 61.023578 38.880334 \nL 61.125066 42.817774 \nL 61.226554 54.637742 \nL 61.429531 38.467341 \nL 61.632508 52.746343 \nL 61.733996 48.635 \nL 61.835485 45.058061 \nL 61.936973 60.055899 \nL 62.038461 47.809595 \nL 62.241438 57.712383 \nL 62.342926 56.386541 \nL 62.444415 38.571921 \nL 62.647392 55.495065 \nL 62.74888 52.573342 \nL 62.850368 34.450244 \nL 63.053345 51.766316 \nL 63.154833 44.535132 \nL 63.256322 57.51222 \nL 63.35781 40.47636 \nL 63.459299 58.224802 \nL 63.560787 46.276031 \nL 63.763764 55.275515 \nL 63.865252 47.252336 \nL 63.96674 48.129097 \nL 64.068229 44.380544 \nL 64.169717 55.263747 \nL 64.372694 44.977824 \nL 64.474182 52.291175 \nL 64.575671 37.380934 \nL 64.677159 60.148709 \nL 64.778647 55.634656 \nL 64.880136 41.650136 \nL 64.981624 49.225317 \nL 65.083113 65.646544 \nL 65.286089 47.446363 \nL 65.387578 50.253196 \nL 65.489066 57.531803 \nL 65.590554 53.516334 \nL 65.692043 44.185133 \nL 65.793531 56.278559 \nL 65.89502 49.416503 \nL 65.996508 50.800897 \nL 66.097996 54.006987 \nL 66.199485 47.729736 \nL 66.300973 56.5088 \nL 66.402461 41.474008 \nL 66.605438 55.58775 \nL 66.706927 55.948274 \nL 66.808415 46.508789 \nL 66.909903 54.658194 \nL 67.011392 38.706592 \nL 67.214368 57.571664 \nL 67.315857 45.825739 \nL 67.417345 64.508855 \nL 67.620322 50.423359 \nL 67.72181 57.683666 \nL 67.823299 53.423394 \nL 67.924787 42.230643 \nL 68.026275 49.157986 \nL 68.127764 45.780367 \nL 68.330741 59.773086 \nL 68.432229 50.649515 \nL 68.533717 54.002189 \nL 68.635206 53.212597 \nL 68.736694 57.475885 \nL 68.838182 45.206874 \nL 69.142648 54.274574 \nL 69.244136 44.244599 \nL 69.345624 49.589991 \nL 69.447113 61.58576 \nL 69.548601 49.751048 \nL 69.650089 55.307486 \nL 69.751578 55.052009 \nL 69.853066 44.603119 \nL 69.954555 56.763721 \nL 70.056043 46.64686 \nL 70.360508 65.169411 \nL 70.461996 54.365979 \nL 70.563485 56.034747 \nL 70.664973 61.790139 \nL 70.766462 58.734145 \nL 70.86795 48.860994 \nL 71.070927 64.866833 \nL 71.273903 47.885987 \nL 71.375392 46.348417 \nL 71.47688 53.033091 \nL 71.578369 52.334726 \nL 71.679857 58.279233 \nL 71.781345 55.233969 \nL 71.882834 48.015916 \nL 71.984322 49.383999 \nL 72.08581 36.111201 \nL 72.187299 57.670558 \nL 72.288787 57.081704 \nL 72.390276 47.264488 \nL 72.491764 54.295656 \nL 72.593252 52.907567 \nL 72.694741 55.681117 \nL 72.796229 43.720897 \nL 72.897717 58.285366 \nL 72.999206 53.775128 \nL 73.100694 57.786563 \nL 73.202183 44.517899 \nL 73.303671 59.565018 \nL 73.405159 47.77687 \nL 73.506648 49.995887 \nL 73.608136 55.663054 \nL 73.709624 55.477018 \nL 73.912601 47.791436 \nL 74.01409 44.365468 \nL 74.115578 57.648177 \nL 74.217066 53.511421 \nL 74.318555 63.523858 \nL 74.420043 45.410559 \nL 74.62302 54.82473 \nL 74.825997 42.994592 \nL 74.927485 50.069067 \nL 75.028973 48.093015 \nL 75.23195 40.154385 \nL 75.333438 45.872017 \nL 75.434927 62.34667 \nL 75.536415 62.33826 \nL 75.739392 48.834399 \nL 75.84088 56.643673 \nL 76.043857 46.383795 \nL 76.145345 55.606389 \nL 76.246834 54.833371 \nL 76.348322 58.534733 \nL 76.449811 47.356603 \nL 76.551299 70.085926 \nL 76.652787 54.578576 \nL 76.754276 55.75533 \nL 76.855764 59.451498 \nL 76.957252 52.06381 \nL 77.058741 60.68723 \nL 77.160229 60.364591 \nL 77.363206 45.671539 \nL 77.464694 47.377733 \nL 77.566183 48.330659 \nL 77.667671 58.896979 \nL 77.769159 44.684214 \nL 77.870648 61.903115 \nL 78.073625 50.177652 \nL 78.175113 51.293096 \nL 78.37809 60.207166 \nL 78.479578 50.796116 \nL 78.581066 57.581996 \nL 78.682555 56.6973 \nL 78.784043 44.274816 \nL 78.98702 60.732829 \nL 79.189997 48.543567 \nL 79.392973 55.369824 \nL 79.494462 57.871848 \nL 79.59595 47.936707 \nL 79.697439 57.393082 \nL 79.798927 45.336095 \nL 80.20488 58.915607 \nL 80.306369 44.721801 \nL 80.407857 58.23708 \nL 80.509346 54.861039 \nL 80.610834 67.922084 \nL 80.813811 47.390754 \nL 80.915299 55.046096 \nL 81.016787 54.179127 \nL 81.219764 47.608553 \nL 81.321253 56.79566 \nL 81.524229 41.605914 \nL 81.727206 48.835969 \nL 81.828694 65.58967 \nL 82.031671 43.86096 \nL 82.336136 61.241108 \nL 82.640601 42.611184 \nL 82.843578 60.747074 \nL 82.945067 49.653354 \nL 83.046555 55.177233 \nL 83.35102 38.550718 \nL 83.452508 59.854545 \nL 83.553997 46.112517 \nL 83.655485 52.343238 \nL 83.756974 49.784687 \nL 83.858462 57.413055 \nL 84.061439 39.835366 \nL 84.264415 52.326158 \nL 84.568881 58.982306 \nL 84.670369 49.862098 \nL 84.873346 54.612367 \nL 84.974834 49.823327 \nL 85.076322 49.999571 \nL 85.380788 60.436125 \nL 85.583764 44.676003 \nL 85.685253 64.54075 \nL 85.786741 45.699667 \nL 85.888229 51.97079 \nL 85.989718 38.617681 \nL 86.091206 53.915327 \nL 86.192695 53.170819 \nL 86.294183 57.989645 \nL 86.49716 45.35567 \nL 86.598648 49.621725 \nL 86.700136 61.605108 \nL 86.903113 57.213847 \nL 87.004602 56.118119 \nL 87.10609 50.806818 \nL 87.207578 52.767848 \nL 87.410555 61.375267 \nL 87.512043 44.721288 \nL 87.613532 56.638115 \nL 87.71502 45.688703 \nL 87.816509 45.989617 \nL 87.917997 39.50984 \nL 88.019485 64.69136 \nL 88.222462 48.406552 \nL 88.32395 48.67211 \nL 88.729904 60.953067 \nL 88.932881 55.492663 \nL 89.034369 64.282974 \nL 89.237346 57.152384 \nL 89.338834 57.460624 \nL 89.440323 56.012025 \nL 89.541811 56.886569 \nL 89.643299 45.324784 \nL 89.744788 65.748796 \nL 89.846276 52.449224 \nL 89.947764 53.63943 \nL 90.049253 49.443709 \nL 90.150741 58.774795 \nL 90.25223 49.865004 \nL 90.353718 57.870554 \nL 90.455206 50.319419 \nL 90.658183 61.626579 \nL 90.759671 59.055862 \nL 90.86116 58.30505 \nL 90.962648 51.259815 \nL 91.165625 55.05815 \nL 91.267113 54.752016 \nL 91.368602 66.400287 \nL 91.47009 50.311279 \nL 91.571578 68.131073 \nL 91.673067 47.817818 \nL 91.774555 62.275105 \nL 91.876044 62.099488 \nL 91.977532 49.261482 \nL 92.07902 53.006798 \nL 92.180509 63.802612 \nL 92.281997 47.225956 \nL 92.383485 61.011761 \nL 92.484974 45.006171 \nL 92.586462 61.039955 \nL 92.890927 50.074968 \nL 93.093904 59.933018 \nL 93.296881 45.091466 \nL 93.398369 59.82925 \nL 93.601346 55.747775 \nL 93.702834 55.785765 \nL 93.804323 47.151139 \nL 93.905811 55.660964 \nL 94.007299 37.387719 \nL 94.108788 58.731462 \nL 94.311765 46.897615 \nL 94.413253 65.786008 \nL 94.514741 54.884233 \nL 94.61623 62.866849 \nL 94.717718 45.703914 \nL 94.819206 57.211727 \nL 94.920695 54.407229 \nL 95.022183 65.237406 \nL 95.22516 59.224915 \nL 95.326648 62.388266 \nL 95.428137 57.749333 \nL 95.529625 43.971745 \nL 95.631113 47.275096 \nL 95.732602 58.078693 \nL 95.83409 56.44086 \nL 95.935579 58.955526 \nL 96.240044 50.337865 \nL 96.341532 62.05912 \nL 96.544509 47.828166 \nL 96.645997 62.05273 \nL 96.848974 54.611575 \nL 96.950462 37.020234 \nL 97.051951 54.148272 \nL 97.153439 49.388321 \nL 97.254927 59.551489 \nL 97.356416 56.172099 \nL 97.559393 63.640212 \nL 97.660881 49.015806 \nL 97.762369 57.227515 \nL 97.863858 47.353471 \nL 98.066834 56.646302 \nL 98.168323 43.429032 \nL 98.472788 55.471292 \nL 98.675765 60.011534 \nL 98.878741 51.790152 \nL 98.98023 47.074997 \nL 99.081718 50.638904 \nL 99.183207 40.627229 \nL 99.386183 61.499395 \nL 99.487672 59.02296 \nL 99.58916 60.920629 \nL 99.690648 55.556817 \nL 99.792137 57.336928 \nL 99.893625 52.016596 \nL 99.995114 54.969352 \nL 100.096602 49.83917 \nL 100.299579 56.099621 \nL 100.401067 50.729257 \nL 100.502555 53.268303 \nL 100.604044 61.012053 \nL 100.705532 47.916385 \nL 100.908509 56.494094 \nL 101.111486 50.017116 \nL 101.212974 50.845325 \nL 101.415951 63.130923 \nL 101.517439 51.811673 \nL 101.618928 61.923781 \nL 101.720416 50.214852 \nL 101.821904 62.021134 \nL 101.923393 46.487636 \nL 102.024881 52.366131 \nL 102.126369 41.944897 \nL 102.227858 65.970973 \nL 102.430835 48.552176 \nL 102.532323 55.908974 \nL 102.633811 51.709704 \nL 102.938276 66.046646 \nL 103.039765 46.591106 \nL 103.141253 57.712168 \nL 103.242742 50.735982 \nL 103.34423 53.990816 \nL 103.547207 66.319403 \nL 103.648695 50.356991 \nL 103.750183 58.734997 \nL 103.851672 57.941972 \nL 104.054649 51.118142 \nL 104.257625 61.951803 \nL 104.460602 54.71775 \nL 104.56209 58.232071 \nL 104.663579 49.98769 \nL 104.866556 57.158786 \nL 104.968044 60.282703 \nL 105.069532 58.805739 \nL 105.272509 49.374527 \nL 105.475486 56.454207 \nL 105.576974 46.362518 \nL 105.678463 61.915711 \nL 105.881439 50.629515 \nL 105.982928 51.63971 \nL 106.185904 64.435832 \nL 106.388881 52.531508 \nL 106.49037 59.406868 \nL 106.591858 53.928389 \nL 106.693346 56.733474 \nL 106.794835 49.209893 \nL 106.997811 58.800961 \nL 107.0993 46.585873 \nL 107.200788 49.915465 \nL 107.302277 59.945787 \nL 107.403765 52.305061 \nL 107.505253 57.561877 \nL 107.606742 51.650818 \nL 107.809718 68.12688 \nL 107.911207 63.996948 \nL 108.012695 46.366139 \nL 108.114184 56.592359 \nL 108.215672 42.581817 \nL 108.31716 68.267651 \nL 108.520137 50.029483 \nL 108.824602 65.729365 \nL 109.129067 49.77387 \nL 109.230556 60.443935 \nL 109.332044 55.558694 \nL 109.433532 45.130979 \nL 109.636509 50.589589 \nL 109.839486 55.101506 \nL 109.940974 55.822652 \nL 110.042463 48.943291 \nL 110.245439 58.475768 \nL 110.346928 51.052504 \nL 110.448416 53.139154 \nL 110.651393 48.498532 \nL 110.752881 63.356775 \nL 110.85437 60.732305 \nL 110.955858 45.435319 \nL 111.057346 47.317972 \nL 111.158835 42.57806 \nL 111.260323 68.418664 \nL 111.361812 55.685526 \nL 111.4633 60.438103 \nL 111.666277 52.66943 \nL 111.767765 58.777898 \nL 111.869253 42.139564 \nL 112.07223 67.200586 \nL 112.173719 65.105438 \nL 112.275207 53.29477 \nL 112.376695 60.800845 \nL 112.478184 58.557568 \nL 112.579672 49.04915 \nL 112.68116 54.912007 \nL 112.782649 54.12287 \nL 112.985626 59.839301 \nL 113.087114 52.2362 \nL 113.188602 54.279138 \nL 113.290091 50.064912 \nL 113.391579 51.228838 \nL 113.493067 61.577015 \nL 113.594556 58.718058 \nL 113.696044 61.141996 \nL 113.797533 60.304491 \nL 113.899021 61.444935 \nL 114.000509 43.823902 \nL 114.203486 58.263151 \nL 114.304974 45.755676 \nL 114.507951 60.445114 \nL 114.60944 57.067932 \nL 114.710928 56.475634 \nL 114.812416 57.100174 \nL 114.913905 56.488155 \nL 115.015393 51.21693 \nL 115.116881 54.938382 \nL 115.21837 65.038185 \nL 115.319858 55.129024 \nL 115.522835 71.077093 \nL 115.725812 49.73405 \nL 115.8273 61.654269 \nL 115.928788 53.922747 \nL 116.030277 63.835494 \nL 116.233254 43.096788 \nL 116.334742 48.349523 \nL 116.43623 45.911554 \nL 116.740695 58.014175 \nL 116.943672 50.765804 \nL 117.045161 58.810516 \nL 117.146649 58.461156 \nL 117.248137 54.208377 \nL 117.349626 60.554946 \nL 117.451114 46.505534 \nL 117.552602 65.682635 \nL 117.654091 53.463349 \nL 117.755579 55.172324 \nL 117.857068 46.129866 \nL 118.060044 59.961068 \nL 118.263021 44.90535 \nL 118.364509 55.075877 \nL 118.465998 45.845102 \nL 118.668975 56.751356 \nL 118.770463 62.10994 \nL 118.871951 46.366126 \nL 119.074928 60.293022 \nL 119.176416 50.121794 \nL 119.277905 50.506957 \nL 119.480882 64.650095 \nL 119.58237 54.027534 \nL 119.683858 56.444058 \nL 119.785347 52.745445 \nL 119.988323 67.906957 \nL 120.1913 53.926428 \nL 120.292789 68.47532 \nL 120.394277 40.399979 \nL 120.597254 63.825636 \nL 120.698742 53.735297 \nL 120.80023 55.89391 \nL 120.901719 46.094258 \nL 121.003207 65.335337 \nL 121.104696 62.725098 \nL 121.307672 55.428457 \nL 121.409161 53.301141 \nL 121.612137 70.001419 \nL 121.713626 46.26116 \nL 121.815114 55.392846 \nL 121.916603 43.837137 \nL 122.018091 59.799506 \nL 122.119579 55.303341 \nL 122.221068 64.840903 \nL 122.322556 52.632288 \nL 122.424044 56.579518 \nL 122.525533 51.430662 \nL 122.627021 74.289612 \nL 122.829998 58.981671 \nL 122.931486 57.962759 \nL 123.032975 62.22052 \nL 123.235951 51.071458 \nL 123.438928 54.63794 \nL 123.540417 66.62379 \nL 123.743393 50.708096 \nL 123.844882 71.509436 \nL 123.94637 55.390588 \nL 124.047858 58.543728 \nL 124.149347 57.110498 \nL 124.250835 38.650994 \nL 124.352324 67.372856 \nL 124.453812 66.141022 \nL 124.656789 50.700566 \nL 124.758277 52.37281 \nL 124.859765 51.359519 \nL 125.062742 69.870321 \nL 125.164231 50.247123 \nL 125.265719 58.278916 \nL 125.367207 53.216772 \nL 125.468696 58.449527 \nL 125.570184 41.446022 \nL 125.773161 67.955053 \nL 125.976138 56.069468 \nL 126.077626 53.557799 \nL 126.179114 47.415773 \nL 126.382091 61.311711 \nL 126.483579 47.905169 \nL 126.686556 54.087534 \nL 126.788044 53.847564 \nL 126.889533 50.070951 \nL 127.09251 63.422038 \nL 127.193998 54.425934 \nL 127.295486 56.595073 \nL 127.396975 73.307322 \nL 127.498463 53.957632 \nL 127.599951 56.782063 \nL 127.70144 62.919628 \nL 127.802928 59.279849 \nL 127.904417 60.94171 \nL 128.107393 46.255024 \nL 128.208882 66.712581 \nL 128.411858 54.402606 \nL 128.513347 51.310177 \nL 128.614835 43.998423 \nL 128.817812 67.415645 \nL 129.020789 48.789137 \nL 129.223765 72.786224 \nL 129.325254 56.430855 \nL 129.426742 63.096765 \nL 129.528231 57.516954 \nL 129.731207 64.882071 \nL 129.934184 51.814019 \nL 130.137161 61.452491 \nL 130.238649 46.022598 \nL 130.441626 77.792823 \nL 130.746091 57.691936 \nL 130.949068 55.377763 \nL 131.253533 59.065443 \nL 131.355021 53.375525 \nL 131.45651 70.321071 \nL 131.557998 47.15644 \nL 131.659486 49.149655 \nL 131.862463 54.796684 \nL 131.963952 51.390195 \nL 132.166928 58.265728 \nL 132.268417 61.975052 \nL 132.369905 49.526274 \nL 132.67437 63.886401 \nL 132.775859 62.394946 \nL 132.877347 55.093152 \nL 132.978835 55.789906 \nL 133.080324 53.312392 \nL 133.181812 53.946586 \nL 133.384789 66.014301 \nL 133.486277 49.756082 \nL 133.689254 63.599388 \nL 133.790742 61.395589 \nL 133.892231 62.553868 \nL 133.993719 55.174112 \nL 134.095207 59.637718 \nL 134.196696 45.150766 \nL 134.399673 56.917668 \nL 134.501161 44.720302 \nL 134.704138 59.583691 \nL 134.805626 54.73627 \nL 134.907114 55.728683 \nL 135.110091 61.593277 \nL 135.21158 53.447572 \nL 135.313068 53.633457 \nL 135.414556 56.427515 \nL 135.516045 69.033393 \nL 135.617533 51.897846 \nL 135.719021 60.325903 \nL 135.82051 43.092445 \nL 135.921998 61.781839 \nL 136.023487 53.23235 \nL 136.226463 68.516458 \nL 136.327952 59.09348 \nL 136.42944 63.987704 \nL 136.530928 63.053321 \nL 136.632417 63.966541 \nL 136.835394 51.493474 \nL 136.936882 55.489423 \nL 137.03837 53.820196 \nL 137.139859 63.440123 \nL 137.241347 53.640261 \nL 137.342835 68.144149 \nL 137.444324 49.710361 \nL 137.647301 59.292232 \nL 137.951766 65.81071 \nL 138.154742 58.650432 \nL 138.256231 69.344536 \nL 138.357719 53.277627 \nL 138.459208 72.151251 \nL 138.560696 58.054098 \nL 138.662184 67.198469 \nL 138.966649 55.405843 \nL 139.068138 66.260898 \nL 139.169626 64.867887 \nL 139.271115 56.780933 \nL 139.372603 62.12548 \nL 139.57558 53.640148 \nL 139.677068 69.475037 \nL 139.778556 65.562058 \nL 139.880045 53.356716 \nL 140.083022 71.965817 \nL 140.285998 64.473186 \nL 140.387487 81.014511 \nL 140.590463 55.366529 \nL 140.691952 73.460154 \nL 140.79344 70.053385 \nL 140.894929 71.570907 \nL 140.996417 68.118209 \nL 141.199394 71.771676 \nL 141.300882 78.878155 \nL 141.40237 57.591353 \nL 141.706836 81.724745 \nL 141.909812 64.030378 \nL 142.112789 61.998539 \nL 142.214277 68.082154 \nL 142.417254 63.095278 \nL 142.518743 78.355059 \nL 142.721719 66.256039 \nL 142.823208 73.565682 \nL 142.924696 57.2937 \nL 143.026184 70.575256 \nL 143.127673 68.779427 \nL 143.229161 77.381202 \nL 143.33065 72.267525 \nL 143.533626 88.556828 \nL 143.635115 53.583992 \nL 143.93958 78.595745 \nL 144.041068 76.064746 \nL 144.142557 86.075515 \nL 144.345533 60.896358 \nL 144.447022 62.453526 \nL 144.649998 85.988601 \nL 144.852975 71.82397 \nL 144.954464 74.011965 \nL 145.055952 75.120235 \nL 145.360417 92.786064 \nL 145.461905 79.499913 \nL 145.563394 80.221182 \nL 145.766371 68.01374 \nL 145.867859 75.386429 \nL 145.969347 92.125334 \nL 146.070836 85.415611 \nL 146.172324 91.620419 \nL 146.273812 88.22687 \nL 146.375301 71.945378 \nL 146.476789 80.498186 \nL 146.578278 78.110251 \nL 146.679766 78.525649 \nL 146.882743 73.966741 \nL 146.984231 89.940069 \nL 147.085719 79.670024 \nL 147.288696 95.429327 \nL 147.491673 83.207795 \nL 147.593161 101.802319 \nL 147.69465 76.769818 \nL 147.796138 79.783337 \nL 147.897626 68.75657 \nL 148.100603 90.170601 \nL 148.202092 89.606237 \nL 148.30358 80.480969 \nL 148.405068 82.905893 \nL 148.506557 88.775424 \nL 148.608045 67.832124 \nL 148.811022 84.016577 \nL 148.91251 90.811354 \nL 149.013999 86.359397 \nL 149.115487 94.915613 \nL 149.216975 76.7276 \nL 149.318464 86.661926 \nL 149.419952 79.592775 \nL 149.52144 95.03875 \nL 149.724417 80.267135 \nL 149.825906 99.302066 \nL 149.927394 85.599913 \nL 150.028882 86.876964 \nL 150.130371 83.767593 \nL 150.231859 93.700124 \nL 150.333347 90.122371 \nL 150.434836 90.498486 \nL 150.536324 82.290588 \nL 150.840789 96.840649 \nL 150.942278 87.705014 \nL 151.145254 100.402772 \nL 151.246743 93.187499 \nL 151.348231 94.472259 \nL 151.44972 93.078847 \nL 151.551208 94.957056 \nL 151.652696 89.051607 \nL 151.754185 96.245506 \nL 151.957161 86.182694 \nL 152.05865 89.058947 \nL 152.160138 78.572963 \nL 152.464603 96.915282 \nL 152.566092 92.889347 \nL 152.769068 81.765959 \nL 153.073534 97.158913 \nL 153.27651 80.240549 \nL 153.377999 95.971075 \nL 153.479487 84.514348 \nL 153.580975 95.025552 \nL 153.682464 89.502537 \nL 153.783952 102.101812 \nL 153.986929 74.788131 \nL 154.189906 107.236293 \nL 154.291394 98.978309 \nL 154.392882 92.431462 \nL 154.494371 96.489058 \nL 154.595859 87.343749 \nL 154.697348 103.203592 \nL 154.798836 86.479495 \nL 155.103301 97.751197 \nL 155.306278 81.988649 \nL 155.407766 106.319044 \nL 155.610743 92.90521 \nL 155.712231 83.416023 \nL 155.81372 93.862546 \nL 155.915208 86.485332 \nL 156.016696 100.871419 \nL 156.118185 91.932752 \nL 156.219673 93.937961 \nL 156.321162 98.943031 \nL 156.42265 88.547846 \nL 156.625627 98.935847 \nL 156.727115 85.17683 \nL 156.828603 108.742352 \nL 156.930092 83.24844 \nL 157.03158 102.145107 \nL 157.133069 89.363482 \nL 157.437534 95.497307 \nL 157.539022 92.453514 \nL 157.64051 97.482589 \nL 157.741999 95.152676 \nL 157.944976 80.873489 \nL 158.046464 93.975875 \nL 158.147952 86.785291 \nL 158.249441 96.047605 \nL 158.452417 77.032743 \nL 158.553906 91.720659 \nL 158.655394 86.169772 \nL 158.756883 90.983253 \nL 158.858371 101.834717 \nL 158.959859 100.79051 \nL 159.162836 87.709215 \nL 159.264324 91.283734 \nL 159.365813 91.049 \nL 159.56879 73.651898 \nL 159.670278 84.90097 \nL 159.771766 77.850031 \nL 159.974743 89.100777 \nL 160.076231 90.814727 \nL 160.279208 98.009521 \nL 160.482185 93.325482 \nL 160.583673 75.767993 \nL 160.78665 92.534285 \nL 160.888138 87.585163 \nL 160.989627 95.339287 \nL 161.091115 85.992308 \nL 161.192604 96.283972 \nL 161.294092 96.187373 \nL 161.39558 94.446069 \nL 161.497069 101.974511 \nL 161.598557 94.837608 \nL 161.700045 96.11284 \nL 161.801534 91.341079 \nL 161.903022 97.47755 \nL 162.105999 85.354823 \nL 162.207487 99.301996 \nL 162.308976 87.091197 \nL 162.410464 96.569448 \nL 162.613441 89.282892 \nL 162.816418 108.042591 \nL 162.917906 96.737169 \nL 163.019394 72.729686 \nL 163.120883 98.624191 \nL 163.425348 91.779706 \nL 163.526836 91.432922 \nL 163.729813 79.970993 \nL 163.831301 93.517054 \nL 164.034278 89.469916 \nL 164.135766 95.286354 \nL 164.237255 84.706153 \nL 164.338743 84.959718 \nL 164.440232 85.987272 \nL 164.54172 84.038731 \nL 164.643208 94.948311 \nL 164.846185 85.895818 \nL 164.947673 84.430073 \nL 165.049162 89.280309 \nL 165.15065 87.073537 \nL 165.252139 88.002495 \nL 165.353627 92.742418 \nL 165.556604 73.469897 \nL 165.75958 92.698797 \nL 165.861069 85.207441 \nL 165.962557 97.413383 \nL 166.064046 84.317704 \nL 166.165534 94.960615 \nL 166.267022 92.516301 \nL 166.368511 83.38092 \nL 166.469999 97.138493 \nL 166.571487 84.50775 \nL 166.672976 92.437076 \nL 166.875953 85.623429 \nL 166.977441 100.128581 \nL 167.078929 91.412878 \nL 167.180418 103.147453 \nL 167.281906 92.815489 \nL 167.383394 106.25953 \nL 167.586371 89.143681 \nL 167.68786 95.902101 \nL 167.789348 93.964173 \nL 167.890836 83.246124 \nL 167.992325 107.400719 \nL 168.195301 80.45597 \nL 168.29679 77.363118 \nL 168.398278 83.806412 \nL 168.499767 98.105147 \nL 168.601255 86.139186 \nL 168.90572 103.249176 \nL 169.210185 78.129158 \nL 169.311674 102.753385 \nL 169.51465 80.692219 \nL 169.616139 93.725302 \nL 169.819115 83.807257 \nL 169.920604 84.081356 \nL 170.123581 110.570749 \nL 170.225069 80.527794 \nL 170.326557 110.80885 \nL 170.428046 76.65661 \nL 170.631022 106.192798 \nL 170.732511 75.330224 \nL 171.036976 95.231224 \nL 171.138464 86.823365 \nL 171.341441 92.279256 \nL 171.442929 92.01022 \nL 171.747395 83.032967 \nL 171.848883 97.450173 \nL 172.05186 92.031199 \nL 172.153348 91.663515 \nL 172.254836 93.510426 \nL 172.356325 80.389699 \nL 172.457813 101.744111 \nL 172.559302 99.129392 \nL 172.762278 83.809627 \nL 172.863767 95.373148 \nL 173.066743 88.128 \nL 173.168232 88.126094 \nL 173.371209 98.121178 \nL 173.472697 96.84645 \nL 173.574185 92.182873 \nL 173.675674 92.903414 \nL 173.777162 79.632096 \nL 173.980139 106.282236 \nL 174.081627 96.572328 \nL 174.183116 97.673011 \nL 174.386092 86.35547 \nL 174.487581 84.028361 \nL 174.589069 96.388971 \nL 174.690557 87.539152 \nL 174.995023 101.686378 \nL 175.197999 90.813939 \nL 175.299488 90.40331 \nL 175.502464 100.19068 \nL 175.603953 84.808743 \nL 175.705441 88.609455 \nL 175.80693 73.406018 \nL 176.111395 106.32038 \nL 176.41586 79.311767 \nL 176.517348 97.662265 \nL 176.618837 88.119764 \nL 176.720325 88.318835 \nL 176.821813 104.181629 \nL 176.923302 86.396951 \nL 177.02479 96.183156 \nL 177.126278 79.603106 \nL 177.430744 97.706865 \nL 177.532232 97.727409 \nL 177.63372 80.132417 \nL 177.735209 99.725054 \nL 177.938185 82.853238 \nL 178.141162 102.884156 \nL 178.242651 88.193466 \nL 178.344139 97.52632 \nL 178.445627 91.209238 \nL 178.547116 91.4561 \nL 178.750092 100.588346 \nL 178.851581 89.724479 \nL 178.953069 94.810707 \nL 179.054558 93.01318 \nL 179.156046 93.260571 \nL 179.257534 99.634259 \nL 179.359023 95.12779 \nL 179.460511 97.004628 \nL 179.561999 87.729078 \nL 179.663488 93.631884 \nL 179.764976 90.61545 \nL 179.866465 93.673179 \nL 179.967953 89.423511 \nL 180.069441 90.375709 \nL 180.17093 79.796402 \nL 180.373906 108.471173 \nL 180.576883 89.62945 \nL 180.678372 101.85547 \nL 180.881348 91.057031 \nL 180.982837 94.065424 \nL 181.185813 87.185279 \nL 181.38879 98.917173 \nL 181.490279 86.057316 \nL 181.591767 98.867106 \nL 181.794744 86.564835 \nL 181.896232 88.726778 \nL 181.99772 98.283838 \nL 182.099209 89.923524 \nL 182.200697 118.121118 \nL 182.302186 86.601948 \nL 182.403674 87.902604 \nL 182.505162 94.136412 \nL 182.606651 89.968885 \nL 182.708139 99.611116 \nL 182.809627 99.186783 \nL 182.911116 80.88755 \nL 183.114093 101.046625 \nL 183.215581 100.061294 \nL 183.317069 99.643269 \nL 183.520046 90.478932 \nL 183.824511 103.138347 \nL 184.027488 94.469356 \nL 184.128976 98.835106 \nL 184.331953 85.933438 \nL 184.53493 100.453238 \nL 184.737907 76.094213 \nL 184.839395 81.375816 \nL 184.940883 93.574257 \nL 185.042372 78.495796 \nL 185.14386 100.352406 \nL 185.346837 89.275561 \nL 185.448325 89.717584 \nL 185.549814 100.458102 \nL 185.651302 80.86742 \nL 185.75279 99.869367 \nL 185.955767 87.961244 \nL 186.057255 87.161243 \nL 186.158744 101.33352 \nL 186.260232 96.515828 \nL 186.463209 103.832739 \nL 186.564697 87.480396 \nL 186.666186 104.350234 \nL 186.869162 90.374319 \nL 186.970651 86.478837 \nL 187.173628 98.588501 \nL 187.376604 84.723617 \nL 187.478093 101.269569 \nL 187.681069 90.115412 \nL 187.782558 88.353271 \nL 187.884046 89.363849 \nL 187.985535 79.854981 \nL 188.29 93.36772 \nL 188.391488 103.580675 \nL 188.594465 89.08974 \nL 188.695953 90.494481 \nL 188.89893 101.584147 \nL 189.101907 83.338501 \nL 189.203395 82.188191 \nL 189.406372 104.719433 \nL 189.609349 82.628316 \nL 189.812325 98.839655 \nL 189.913814 83.034083 \nL 190.015302 98.630145 \nL 190.11679 94.149231 \nL 190.319767 106.610824 \nL 190.522744 92.295884 \nL 190.624232 100.700067 \nL 190.725721 97.609027 \nL 190.827209 82.922046 \nL 190.928697 84.719703 \nL 191.233163 102.597768 \nL 191.334651 102.828776 \nL 191.436139 105.640329 \nL 191.537628 97.675888 \nL 191.740604 102.902329 \nL 191.842093 94.608397 \nL 191.943581 101.928297 \nL 192.04507 85.844056 \nL 192.146558 100.284013 \nL 192.248046 87.206991 \nL 192.349535 89.311618 \nL 192.451023 82.383227 \nL 192.552511 105.087212 \nL 192.654 91.509686 \nL 192.755488 101.923806 \nL 192.856977 82.880316 \nL 193.059953 96.887305 \nL 193.161442 100.578998 \nL 193.26293 89.358815 \nL 193.364418 92.59999 \nL 193.465907 82.663859 \nL 193.567395 94.303075 \nL 193.668884 84.596832 \nL 193.770372 107.29035 \nL 193.87186 84.247695 \nL 193.973349 106.128395 \nL 194.176325 87.557958 \nL 194.277814 89.442252 \nL 194.480791 106.649045 \nL 194.582279 85.854713 \nL 194.683767 99.001191 \nL 194.886744 93.404224 \nL 194.988232 101.147488 \nL 195.191209 88.569996 \nL 195.292698 90.68484 \nL 195.394186 81.815175 \nL 195.495674 90.949782 \nL 195.597163 88.920331 \nL 195.698651 94.806842 \nL 195.901628 86.349241 \nL 196.003116 97.606272 \nL 196.104605 88.064078 \nL 196.206093 90.624135 \nL 196.40907 103.14916 \nL 196.510558 107.593676 \nL 196.612046 88.034427 \nL 196.713535 105.771739 \nL 196.815023 86.468824 \nL 196.916512 88.130834 \nL 197.018 99.792743 \nL 197.119488 92.662262 \nL 197.220977 95.261915 \nL 197.322465 94.581951 \nL 197.525442 84.888664 \nL 197.62693 102.522706 \nL 197.829907 94.422051 \nL 197.931395 100.083995 \nL 198.032884 96.196805 \nL 198.134372 104.236379 \nL 198.337349 79.77757 \nL 198.438837 96.674105 \nL 198.540326 86.863357 \nL 198.641814 99.61904 \nL 198.743302 92.89116 \nL 198.844791 98.337262 \nL 198.946279 97.518301 \nL 199.149256 80.314935 \nL 199.250744 96.571621 \nL 199.352233 90.860816 \nL 199.453721 93.575226 \nL 199.555209 106.45521 \nL 199.656698 85.759383 \nL 199.758186 89.883637 \nL 199.859674 104.853555 \nL 200.062651 94.038399 \nL 200.16414 107.787354 \nL 200.265628 78.183958 \nL 200.367116 80.896039 \nL 200.468605 104.793877 \nL 200.570093 100.93305 \nL 200.671581 86.340532 \nL 200.77307 97.560792 \nL 200.874558 86.477834 \nL 200.976047 98.76321 \nL 201.077535 78.869985 \nL 201.179023 89.168725 \nL 201.280512 86.271742 \nL 201.382 98.025806 \nL 201.483488 93.508488 \nL 201.584977 107.05308 \nL 201.686465 85.69042 \nL 201.889442 106.806376 \nL 201.99093 76.972422 \nL 202.193907 93.185718 \nL 202.396884 100.005804 \nL 202.599861 83.255322 \nL 202.701349 98.074407 \nL 202.802837 78.812771 \nL 202.904326 97.375663 \nL 203.005814 96.292634 \nL 203.107302 84.116005 \nL 203.208791 91.966817 \nL 203.310279 89.071896 \nL 203.411768 89.726934 \nL 203.513256 88.251225 \nL 203.614744 94.272386 \nL 203.716233 92.904651 \nL 203.817721 87.397264 \nL 203.919209 102.343125 \nL 204.122186 83.487801 \nL 204.223675 88.340714 \nL 204.426651 98.649734 \nL 204.52814 94.981357 \nL 204.629628 100.24164 \nL 204.832605 92.652799 \nL 204.934093 100.288242 \nL 205.035582 97.69213 \nL 205.13707 89.03523 \nL 205.238558 93.646373 \nL 205.340047 93.191589 \nL 205.441535 102.595905 \nL 205.543023 84.391221 \nL 205.746 99.822262 \nL 205.847489 97.000948 \nL 205.948977 90.010343 \nL 206.050465 93.00906 \nL 206.151954 81.743767 \nL 206.35493 102.544857 \nL 206.456419 81.81577 \nL 206.963861 100.627044 \nL 207.166837 83.677528 \nL 207.268326 99.143372 \nL 207.369814 87.878139 \nL 207.471303 88.386882 \nL 207.572791 102.519053 \nL 207.674279 86.310496 \nL 208.080233 100.413693 \nL 208.181721 86.522646 \nL 208.28321 88.47032 \nL 208.486186 102.725302 \nL 208.587675 85.327118 \nL 208.689163 98.025511 \nL 208.790651 96.141645 \nL 208.89214 102.217927 \nL 209.095117 93.679677 \nL 209.196605 99.677946 \nL 209.298093 82.163313 \nL 209.399582 111.335056 \nL 209.50107 86.598312 \nL 209.602558 114.260791 \nL 209.704047 93.384859 \nL 209.805535 93.605934 \nL 209.907024 85.070876 \nL 210.008512 94.106497 \nL 210.11 90.584585 \nL 210.211489 101.182799 \nL 210.414465 95.773119 \nL 210.515954 98.870471 \nL 210.617442 93.935935 \nL 210.718931 77.859899 \nL 210.921907 99.290032 \nL 211.023396 86.457298 \nL 211.124884 89.700355 \nL 211.226372 106.81061 \nL 211.429349 93.636832 \nL 211.530838 100.267834 \nL 211.733814 88.778067 \nL 211.835303 124.001966 \nL 211.936791 95.217586 \nL 212.139768 102.356768 \nL 212.241256 99.132761 \nL 212.444233 107.14145 \nL 212.850186 73.516191 \nL 213.053163 94.931713 \nL 213.25614 86.619421 \nL 213.459117 105.300319 \nL 213.560605 100.155428 \nL 213.662093 84.033432 \nL 213.763582 97.297875 \nL 213.86507 87.036786 \nL 214.068047 106.090755 \nL 214.372512 83.056329 \nL 214.474 106.318376 \nL 214.575489 91.255833 \nL 214.676977 97.356884 \nL 214.981442 77.953436 \nL 215.184419 86.57278 \nL 215.285907 105.898635 \nL 215.387396 103.301515 \nL 215.590373 94.566953 \nL 215.691861 98.992157 \nL 215.793349 85.010628 \nL 215.894838 104.859544 \nL 215.996326 83.56408 \nL 216.40228 102.489743 \nL 216.503768 82.084958 \nL 216.706745 99.853466 \nL 216.808233 94.469766 \nL 217.01121 104.322529 \nL 217.214187 93.384366 \nL 217.315675 102.55078 \nL 217.417163 87.433186 \nL 217.518652 110.08467 \nL 217.721628 90.323999 \nL 217.823117 104.837097 \nL 217.924605 94.547687 \nL 218.026094 107.339124 \nL 218.127582 95.629777 \nL 218.22907 106.95171 \nL 218.330559 92.936143 \nL 218.432047 94.011292 \nL 218.533535 87.949522 \nL 218.635024 106.988507 \nL 218.838001 96.486197 \nL 218.939489 103.064925 \nL 219.040977 88.371668 \nL 219.243954 103.707606 \nL 219.345442 99.047853 \nL 219.446931 99.701184 \nL 219.548419 88.342638 \nL 219.649908 112.281708 \nL 219.751396 96.01226 \nL 219.852884 104.802678 \nL 219.954373 101.127702 \nL 220.055861 106.766408 \nL 220.157349 99.939029 \nL 220.258838 102.617105 \nL 220.360326 100.859296 \nL 220.461815 103.636073 \nL 220.563303 97.586121 \nL 220.664791 100.208782 \nL 220.76628 97.57978 \nL 220.867768 103.31919 \nL 220.969256 99.636394 \nL 221.070745 104.643744 \nL 221.273722 80.920353 \nL 221.37521 102.014223 \nL 221.476698 92.527856 \nL 221.578187 111.866461 \nL 221.679675 101.532371 \nL 221.781163 121.03084 \nL 222.085629 93.631748 \nL 222.288605 106.732526 \nL 222.390094 99.403676 \nL 222.491582 106.879745 \nL 222.59307 94.671483 \nL 222.796047 108.762166 \nL 222.999024 94.992191 \nL 223.100512 95.745515 \nL 223.202001 104.80085 \nL 223.303489 96.937684 \nL 223.506466 104.200253 \nL 223.607954 93.03475 \nL 223.810931 106.32919 \nL 223.912419 106.949211 \nL 224.115396 91.400424 \nL 224.318373 93.501248 \nL 224.419861 104.661764 \nL 224.622838 97.431699 \nL 224.724326 98.864126 \nL 224.825815 112.507647 \nL 224.927303 100.587256 \nL 225.028791 106.985265 \nL 225.231768 96.717342 \nL 225.333257 104.474046 \nL 225.434745 102.854795 \nL 225.536233 91.446169 \nL 225.637722 111.396453 \nL 225.73921 103.912067 \nL 225.840698 117.536463 \nL 225.942187 113.636066 \nL 226.145164 93.402355 \nL 226.246652 102.546808 \nL 226.34814 100.781311 \nL 226.449629 95.098437 \nL 226.551117 95.521207 \nL 226.652605 102.046264 \nL 226.754094 98.506213 \nL 226.855582 112.629838 \nL 227.261536 92.645672 \nL 227.363024 100.495951 \nL 227.464512 99.740159 \nL 227.566001 103.067966 \nL 227.667489 96.686837 \nL 227.870466 109.148455 \nL 227.971954 99.864393 \nL 228.174931 107.625444 \nL 228.276419 120.406103 \nL 228.377908 96.801167 \nL 228.580885 116.181075 \nL 228.682373 100.487152 \nL 228.986838 112.41486 \nL 229.088326 97.87096 \nL 229.189815 100.029937 \nL 229.291303 111.930848 \nL 229.49428 109.18117 \nL 229.595768 115.519271 \nL 229.697257 99.384559 \nL 229.900233 116.249111 \nL 230.10321 91.247795 \nL 230.306187 111.363026 \nL 230.407675 113.235714 \nL 230.509164 111.957969 \nL 230.610652 107.438556 \nL 230.71214 113.927474 \nL 230.813629 110.201668 \nL 230.915117 110.207294 \nL 231.016606 126.057105 \nL 231.118094 101.843343 \nL 231.422559 122.127115 \nL 231.625536 105.827351 \nL 231.727024 127.346502 \nL 231.828513 112.34533 \nL 232.031489 118.470628 \nL 232.132978 119.285664 \nL 232.234466 110.996423 \nL 232.538931 131.525529 \nL 232.741908 108.845641 \nL 232.944885 132.270286 \nL 233.046373 114.688395 \nL 233.24935 123.446371 \nL 233.350838 119.345547 \nL 233.452327 131.036915 \nL 233.655303 118.405297 \nL 233.756792 125.200238 \nL 233.85828 122.721601 \nL 233.959768 135.538469 \nL 234.061257 111.754617 \nL 234.162745 143.200987 \nL 234.264234 116.56461 \nL 234.365722 126.727495 \nL 234.46721 119.117049 \nL 234.670187 135.738544 \nL 234.873164 129.556693 \nL 234.974652 138.108748 \nL 235.279117 123.829271 \nL 235.482094 142.989725 \nL 235.685071 134.054805 \nL 235.888048 146.811644 \nL 235.989536 134.357129 \nL 236.091024 141.288554 \nL 236.294001 127.567253 \nL 236.496978 141.088904 \nL 236.598466 133.477849 \nL 236.699955 140.397602 \nL 236.801443 140.211917 \nL 236.902931 132.479248 \nL 237.105908 141.160347 \nL 237.207396 138.431163 \nL 237.308885 141.978133 \nL 237.410373 129.533915 \nL 237.61335 133.529866 \nL 237.714838 146.371761 \nL 237.816327 131.491338 \nL 237.917815 145.765961 \nL 238.22228 129.077186 \nL 238.323769 138.985011 \nL 238.425257 133.296456 \nL 238.526745 142.061647 \nL 238.628234 137.877856 \nL 238.729722 138.697161 \nL 238.83121 150.82982 \nL 238.932699 130.221775 \nL 239.135676 143.890308 \nL 239.338652 132.762159 \nL 239.440141 147.902727 \nL 239.541629 145.065919 \nL 239.643117 136.284883 \nL 239.744606 141.626326 \nL 239.846094 129.572102 \nL 239.947583 143.761963 \nL 240.150559 139.852705 \nL 240.252048 139.209248 \nL 240.556513 156.673148 \nL 240.658001 138.165939 \nL 240.75949 141.317568 \nL 240.860978 130.07613 \nL 241.165443 163.744742 \nL 241.266931 156.238753 \nL 241.36842 153.429191 \nL 241.469908 146.000135 \nL 241.571397 146.696544 \nL 241.875862 158.192444 \nL 241.97735 151.362639 \nL 242.078838 156.243617 \nL 242.180327 145.907074 \nL 242.383304 159.616201 \nL 242.58628 147.243289 \nL 242.687769 156.34532 \nL 242.789257 148.929686 \nL 242.890745 151.861113 \nL 242.992234 141.560843 \nL 243.093722 155.66257 \nL 243.296699 150.043159 \nL 243.398187 155.651569 \nL 243.499676 137.872075 \nL 243.601164 142.140321 \nL 243.702652 154.054733 \nL 243.804141 150.660459 \nL 243.905629 156.552143 \nL 244.007118 150.357172 \nL 244.108606 150.49599 \nL 244.210094 161.846669 \nL 244.514559 137.17472 \nL 244.717536 161.492361 \nL 244.920513 152.619567 \nL 245.022001 156.718534 \nL 245.12349 152.036405 \nL 245.224978 153.633688 \nL 245.326466 157.10887 \nL 245.529443 153.1357 \nL 245.630932 161.439483 \nL 245.935397 154.735999 \nL 246.036885 164.012436 \nL 246.138373 159.820243 \nL 246.239862 167.072889 \nL 246.544327 147.656007 \nL 246.747304 169.456711 \nL 246.848792 158.54634 \nL 246.95028 158.774733 \nL 247.051769 155.884734 \nL 247.153257 156.776843 \nL 247.356234 165.675717 \nL 247.457722 163.325638 \nL 247.559211 155.65084 \nL 247.660699 155.67471 \nL 247.762187 171.26382 \nL 247.863676 155.384742 \nL 247.965164 163.990618 \nL 248.066653 156.176573 \nL 248.168141 170.382595 \nL 248.472606 156.918756 \nL 248.675583 167.323735 \nL 248.777071 167.704791 \nL 248.87856 164.625921 \nL 248.980048 155.077498 \nL 249.081536 159.512618 \nL 249.183025 169.620932 \nL 249.284513 163.751154 \nL 249.386001 170.654908 \nL 249.48749 160.581309 \nL 249.588978 167.524558 \nL 249.690467 162.574336 \nL 249.791955 164.518749 \nL 249.994932 157.966679 \nL 250.299397 179.829723 \nL 250.400885 193.859485 \nL 250.502374 183.91372 \nL 250.603862 198.565048 \nL 250.806839 192.457494 \nL 250.908327 199.278547 \nL 251.111304 185.234804 \nL 251.212792 195.295086 \nL 251.314281 180.61656 \nL 251.517257 195.053919 \nL 251.618746 196.52814 \nL 251.720234 202.582513 \nL 251.821722 202.022756 \nL 251.923211 195.650016 \nL 252.024699 202.221926 \nL 252.126188 200.556759 \nL 252.329164 192.079776 \nL 252.532141 202.040848 \nL 252.633629 193.951198 \nL 252.735118 197.661779 \nL 252.836606 196.820252 \nL 252.938095 203.156853 \nL 253.039583 199.476851 \nL 253.141071 206.067857 \nL 253.344048 198.11059 \nL 253.547025 211.136438 \nL 253.648513 208.70023 \nL 253.85149 202.749851 \nL 253.952978 207.084452 \nL 254.054467 205.077276 \nL 254.155955 209.137869 \nL 254.358932 203.927613 \nL 254.46042 205.301488 \nL 254.561909 198.208027 \nL 254.663397 206.877902 \nL 254.764885 203.140531 \nL 254.866374 205.74271 \nL 254.967862 212.152955 \nL 255.06935 208.370037 \nL 255.170839 214.705616 \nL 255.272327 207.521038 \nL 255.373816 209.104705 \nL 255.475304 207.123876 \nL 255.576792 212.541929 \nL 255.779769 199.777691 \nL 255.881257 207.719396 \nL 255.982746 195.671423 \nL 256.185723 203.443287 \nL 256.287211 195.645121 \nL 256.490188 202.462136 \nL 256.591676 203.301468 \nL 256.693164 198.35623 \nL 256.794653 204.884859 \nL 257.099118 191.689774 \nL 257.200606 201.236903 \nL 257.302095 199.275568 \nL 257.403583 199.566963 \nL 257.60656 205.316524 \nL 257.708048 206.603273 \nL 257.809537 209.395585 \nL 257.911025 199.392333 \nL 258.012513 206.18891 \nL 258.114002 199.960313 \nL 258.21549 208.235131 \nL 258.418467 197.447622 \nL 258.519955 208.683287 \nL 258.621444 199.67558 \nL 258.722932 204.017475 \nL 258.82442 193.360186 \nL 258.925909 197.996001 \nL 259.027397 196.257345 \nL 259.128885 196.360308 \nL 259.230374 203.057062 \nL 259.433351 190.537442 \nL 259.534839 196.594512 \nL 259.737816 194.328889 \nL 259.839304 195.994206 \nL 259.940792 184.422379 \nL 260.042281 192.846808 \nL 260.143769 189.186843 \nL 260.346746 203.12337 \nL 260.448234 201.470942 \nL 260.651211 192.958799 \nL 260.752699 202.419338 \nL 260.854188 196.041128 \nL 260.955676 196.168213 \nL 261.057165 201.032493 \nL 261.158653 199.203222 \nL 261.260141 191.599518 \nL 261.36163 192.104585 \nL 261.564606 178.611859 \nL 261.666095 194.947477 \nL 261.767583 192.443193 \nL 261.97056 206.492097 \nL 262.173537 186.1598 \nL 262.57949 202.975674 \nL 262.782467 189.405386 \nL 262.883955 189.312652 \nL 262.985444 197.533728 \nL 263.086932 190.758401 \nL 263.18842 193.029171 \nL 263.289909 200.963084 \nL 263.492886 193.848715 \nL 263.695862 204.325151 \nL 263.797351 200.587236 \nL 264.000327 209.723089 \nL 264.203304 193.504076 \nL 264.304793 183.406238 \nL 264.406281 200.819207 \nL 264.507769 190.593952 \nL 264.812234 197.135263 \nL 264.913723 196.979525 \nL 265.015211 194.743745 \nL 265.218188 198.453711 \nL 265.421165 182.602187 \nL 265.624141 187.076073 \nL 265.72563 200.74653 \nL 265.928607 191.245256 \nL 266.030095 202.765518 \nL 266.131583 189.184122 \nL 266.33456 191.67736 \nL 266.537537 195.880107 \nL 266.740514 200.025563 \nL 266.842002 189.391436 \nL 267.044979 197.039617 \nL 267.247955 190.021999 \nL 267.349444 181.492723 \nL 267.552421 193.271147 \nL 267.755397 181.316761 \nL 268.059862 205.541796 \nL 268.465816 191.41137 \nL 268.567304 197.702782 \nL 268.668793 193.597556 \nL 268.871769 198.835246 \nL 268.973258 197.976415 \nL 269.176235 189.088592 \nL 269.379211 204.185863 \nL 269.4807 198.224545 \nL 269.582188 200.46316 \nL 269.683676 191.823368 \nL 269.785165 202.033962 \nL 269.886653 187.673435 \nL 270.191118 194.837595 \nL 270.292607 212.45547 \nL 270.394095 192.828939 \nL 270.495583 199.842408 \nL 270.69856 183.200483 \nL 270.800049 194.561368 \nL 270.901537 187.661916 \nL 271.206002 196.216441 \nL 271.30749 195.382767 \nL 271.510467 189.431099 \nL 271.611956 195.989483 \nL 271.713444 189.904038 \nL 271.814932 208.512873 \nL 271.916421 199.119245 \nL 272.017909 199.743546 \nL 272.423862 183.716453 \nL 272.525351 193.766979 \nL 272.829816 183.847697 \nL 272.931304 194.547868 \nL 273.134281 185.926538 \nL 273.235769 188.502887 \nL 273.337258 184.080963 \nL 273.438746 197.415637 \nL 273.540235 192.189944 \nL 273.641723 177.095829 \nL 273.8447 190.897635 \nL 274.047676 187.429181 \nL 274.149165 199.154702 \nL 274.250653 191.399497 \nL 274.555118 197.770439 \nL 274.656607 192.370755 \nL 274.758095 198.730058 \nL 274.859583 182.90271 \nL 274.961072 189.878709 \nL 275.06256 183.649959 \nL 275.367025 206.025264 \nL 275.468514 184.032941 \nL 275.67149 193.762128 \nL 275.772979 193.56872 \nL 275.874467 183.320342 \nL 275.975956 188.934808 \nL 276.178932 180.513618 \nL 276.280421 191.490883 \nL 276.381909 182.805021 \nL 276.483397 192.77038 \nL 276.584886 190.103189 \nL 276.686374 201.380471 \nL 276.889351 184.426382 \nL 276.990839 195.990819 \nL 277.092328 181.620359 \nL 277.295304 194.381019 \nL 277.396793 181.312983 \nL 277.498281 196.206475 \nL 277.59977 175.941108 \nL 277.802746 195.675575 \nL 277.904235 194.490925 \nL 278.005723 190.668096 \nL 278.107211 195.21806 \nL 278.2087 175.873735 \nL 278.310188 196.132549 \nL 278.513165 190.159222 \nL 278.614653 182.622823 \nL 278.716142 184.490615 \nL 278.81763 179.453337 \nL 278.919118 205.807541 \nL 279.020607 190.739177 \nL 279.122095 197.456288 \nL 279.223584 194.280937 \nL 279.325072 201.153374 \nL 279.629537 188.973347 \nL 279.832514 196.697985 \nL 279.934002 190.752557 \nL 280.035491 194.190214 \nL 280.136979 189.719578 \nL 280.238467 200.284981 \nL 280.339956 195.838477 \nL 280.441444 200.920911 \nL 280.644421 194.669478 \nL 280.745909 191.128929 \nL 280.847398 191.822396 \nL 280.948886 197.196701 \nL 281.050374 191.959235 \nL 281.253351 199.852617 \nL 281.456328 191.466685 \nL 281.760793 197.098993 \nL 281.862281 190.686939 \nL 282.065258 209.920824 \nL 282.268235 183.828359 \nL 282.471212 191.772996 \nL 282.5727 195.985035 \nL 282.674188 192.022112 \nL 282.775677 199.6137 \nL 282.877165 180.879155 \nL 282.978653 184.880176 \nL 283.080142 198.8724 \nL 283.18163 187.035858 \nL 283.283119 188.124131 \nL 283.384607 189.509233 \nL 283.486095 186.436835 \nL 283.587584 191.941536 \nL 283.689072 190.958316 \nL 283.79056 201.20543 \nL 283.892049 185.014128 \nL 283.993537 193.166056 \nL 284.095026 189.342545 \nL 284.196514 197.647984 \nL 284.298002 181.59542 \nL 284.399491 201.842783 \nL 284.500979 194.869659 \nL 284.602467 200.278967 \nL 284.703956 195.378236 \nL 284.805444 197.433369 \nL 284.906933 197.122609 \nL 285.109909 185.321596 \nL 285.312886 196.293733 \nL 285.414374 195.577314 \nL 285.515863 196.965165 \nL 285.820328 182.088979 \nL 285.921816 193.546734 \nL 286.023305 181.50287 \nL 286.32777 197.535198 \nL 286.429258 180.236502 \nL 286.632235 195.642386 \nL 286.733723 187.00613 \nL 286.835212 187.665358 \nL 286.9367 199.543368 \nL 287.038188 192.555853 \nL 287.241165 194.113356 \nL 287.342654 204.88203 \nL 287.54563 185.274772 \nL 287.647119 189.641314 \nL 287.748607 187.058526 \nL 287.850095 195.507371 \nL 287.951584 189.668272 \nL 288.154561 192.713653 \nL 288.256049 193.588325 \nL 288.357537 188.133871 \nL 288.459026 204.024525 \nL 288.763491 178.947229 \nL 288.966468 197.856481 \nL 289.169444 202.292995 \nL 289.372421 182.81386 \nL 289.575398 197.023219 \nL 289.676886 194.400905 \nL 289.879863 184.217591 \nL 289.981351 200.98829 \nL 290.184328 190.022775 \nL 290.590282 201.285633 \nL 290.69177 197.90037 \nL 290.793258 203.388314 \nL 290.996235 184.904236 \nL 291.097723 188.719024 \nL 291.3007 199.275442 \nL 291.503677 188.303836 \nL 291.605165 189.704445 \nL 291.706654 199.174439 \nL 291.90963 190.426317 \nL 292.011119 192.693722 \nL 292.112607 182.289683 \nL 292.315584 194.396422 \nL 292.417072 184.47208 \nL 292.518561 185.183105 \nL 292.620049 191.339674 \nL 292.823026 188.625246 \nL 293.127491 194.669273 \nL 293.228979 196.496957 \nL 293.330468 194.72083 \nL 293.431956 201.912395 \nL 293.736421 188.800756 \nL 293.83791 198.562079 \nL 293.939398 197.095241 \nL 294.040886 199.981205 \nL 294.142375 185.432832 \nL 294.243863 203.426587 \nL 294.345351 195.481282 \nL 294.44684 200.864304 \nL 294.649817 193.157074 \nL 294.751305 192.938696 \nL 294.954282 187.070897 \nL 295.05577 191.731286 \nL 295.157258 187.91353 \nL 295.258747 192.379474 \nL 295.360235 180.766831 \nL 295.563212 193.534592 \nL 295.6647 190.623677 \nL 295.766189 195.179921 \nL 295.867677 188.206298 \nL 296.070654 191.458246 \nL 296.172142 191.982732 \nL 296.375119 179.306131 \nL 296.679584 193.967252 \nL 296.781072 193.735776 \nL 296.882561 192.360183 \nL 297.085538 197.318771 \nL 297.187026 192.559552 \nL 297.288514 192.573129 \nL 297.390003 189.627776 \nL 297.491491 196.939409 \nL 297.694468 186.015492 \nL 297.795956 199.401246 \nL 297.897445 196.877022 \nL 297.998933 188.555122 \nL 298.100421 188.852252 \nL 298.20191 189.674875 \nL 298.303398 198.239867 \nL 298.404886 189.650803 \nL 298.506375 193.084623 \nL 298.709352 183.478939 \nL 298.81084 186.542348 \nL 298.912328 184.976733 \nL 299.013817 188.982953 \nL 299.115305 199.282183 \nL 299.216793 188.446385 \nL 299.318282 198.489224 \nL 299.41977 187.572282 \nL 299.521259 201.879858 \nL 299.622747 190.65644 \nL 299.724235 196.172637 \nL 299.825724 188.088492 \nL 299.927212 188.535883 \nL 300.130189 199.963372 \nL 300.231677 193.083278 \nL 300.333166 193.966024 \nL 300.434654 182.993709 \nL 300.536142 200.568085 \nL 300.637631 194.977282 \nL 300.739119 205.155519 \nL 301.043584 191.328667 \nL 301.246561 187.265809 \nL 301.348049 183.591915 \nL 301.449538 184.911829 \nL 301.551026 190.14399 \nL 301.652514 178.024604 \nL 301.855491 201.385301 \nL 302.058468 190.866622 \nL 302.159956 204.603358 \nL 302.261445 194.943599 \nL 302.464421 201.866947 \nL 302.667398 196.071556 \nL 302.768887 198.378845 \nL 302.971863 197.358848 \nL 303.073352 185.046011 \nL 303.17484 186.495543 \nL 303.276328 190.284336 \nL 303.377817 186.726901 \nL 303.580794 192.350667 \nL 303.885259 180.678511 \nL 303.986747 186.30585 \nL 304.189724 179.024967 \nL 304.291212 185.747127 \nL 304.392701 182.750287 \nL 304.595677 199.134478 \nL 304.697166 197.818088 \nL 304.798654 189.896357 \nL 304.900142 190.804489 \nL 305.001631 193.654955 \nL 305.103119 191.084466 \nL 305.204608 197.448149 \nL 305.306096 189.353248 \nL 305.407584 189.825639 \nL 305.509073 190.222936 \nL 305.610561 189.498214 \nL 305.712049 197.074369 \nL 305.813538 183.697336 \nL 305.915026 191.106387 \nL 306.016515 190.182441 \nL 306.32098 199.215092 \nL 306.523956 189.054177 \nL 306.625445 198.718508 \nL 306.726933 184.71033 \nL 306.828422 188.560999 \nL 306.92991 202.598607 \nL 307.132887 186.406809 \nL 307.234375 187.718209 \nL 307.335863 178.161706 \nL 307.640329 200.427175 \nL 307.843305 185.398599 \nL 307.944794 190.281923 \nL 308.14777 179.576873 \nL 308.350747 184.417332 \nL 308.452236 191.82349 \nL 308.553724 179.760276 \nL 308.655212 188.057821 \nL 308.756701 187.005879 \nL 308.858189 180.807377 \nL 308.959677 198.090799 \nL 309.061166 192.542237 \nL 309.162654 199.696374 \nL 309.365631 193.526221 \nL 309.467119 197.707793 \nL 309.670096 178.999149 \nL 309.771584 191.124353 \nL 309.974561 179.511891 \nL 310.07605 182.355559 \nL 310.380515 199.320968 \nL 310.583491 196.326887 \nL 310.68498 202.316431 \nL 310.786468 182.778817 \nL 310.887957 198.748346 \nL 311.090933 188.586185 \nL 311.192422 201.450878 \nL 311.29391 198.556407 \nL 311.395398 189.037172 \nL 311.496887 201.954368 \nL 311.598375 201.531923 \nL 311.801352 187.165075 \nL 311.90284 189.821238 \nL 312.004329 186.070746 \nL 312.207305 201.467438 \nL 312.308794 182.046331 \nL 312.410282 183.830219 \nL 312.511771 194.024123 \nL 312.613259 190.396017 \nL 312.714747 182.716897 \nL 312.816236 183.182371 \nL 312.917724 190.407766 \nL 313.120701 182.861193 \nL 313.222189 181.574769 \nL 313.628143 198.638209 \nL 313.729631 194.048096 \nL 313.831119 195.143545 \nL 313.932608 198.03736 \nL 314.034096 192.029762 \nL 314.135585 192.132088 \nL 314.237073 193.544842 \nL 314.338561 196.936684 \nL 314.44005 193.51736 \nL 314.541538 204.633131 \nL 314.846003 185.623294 \nL 314.947492 195.088813 \nL 315.04898 191.363857 \nL 315.150468 195.280401 \nL 315.251957 192.729762 \nL 315.454933 200.102374 \nL 315.556422 189.940879 \nL 315.65791 197.209539 \nL 315.759399 190.998703 \nL 315.860887 198.130841 \nL 316.063864 195.604418 \nL 316.165352 196.536037 \nL 316.26684 187.348094 \nL 316.368329 204.005091 \nL 316.469817 185.782664 \nL 316.571306 194.863947 \nL 316.774282 187.390643 \nL 317.078747 205.205473 \nL 317.281724 197.355217 \nL 317.484701 178.620589 \nL 317.687678 189.807916 \nL 317.789166 186.831845 \nL 317.890654 187.773563 \nL 317.992143 199.149084 \nL 318.19512 182.54704 \nL 318.398096 192.702264 \nL 318.499585 184.34573 \nL 318.601073 189.529175 \nL 318.80405 182.744685 \nL 318.905538 185.234425 \nL 319.007027 196.290258 \nL 319.41298 174.356864 \nL 319.615957 182.876598 \nL 319.717445 181.021656 \nL 319.818934 181.274563 \nL 319.920422 168.689977 \nL 320.123399 183.013009 \nL 320.224887 179.866772 \nL 320.529352 197.193668 \nL 320.630841 190.359981 \nL 320.732329 193.006752 \nL 320.935306 180.006844 \nL 321.036794 177.246376 \nL 321.138282 199.342399 \nL 321.239771 183.097926 \nL 321.341259 196.733993 \nL 321.442748 185.601592 \nL 321.544236 186.625908 \nL 321.645724 187.543736 \nL 321.747213 181.606396 \nL 321.848701 189.346775 \nL 322.153166 182.972986 \nL 322.254655 183.978618 \nL 322.457631 183.22141 \nL 322.55912 188.098231 \nL 322.762096 186.094363 \nL 322.863585 193.87883 \nL 322.965073 185.397066 \nL 323.16805 199.85831 \nL 323.472515 178.734563 \nL 323.675492 194.47032 \nL 323.77698 190.362194 \nL 323.878469 202.381501 \nL 323.979957 196.442027 \nL 324.081445 197.617287 \nL 324.182934 183.07981 \nL 324.38591 190.147286 \nL 324.487399 187.318732 \nL 324.690376 193.349197 \nL 324.791864 180.592738 \nL 324.893352 192.85176 \nL 324.994841 187.517126 \nL 325.096329 190.805658 \nL 325.400794 183.124299 \nL 325.603771 193.830626 \nL 325.806748 179.260424 \nL 326.212701 197.862913 \nL 326.31419 192.741926 \nL 326.415678 180.767023 \nL 326.517166 193.734454 \nL 326.618655 188.020363 \nL 326.720143 205.217611 \nL 326.821631 182.894839 \nL 326.92312 200.561725 \nL 327.024608 198.440463 \nL 327.329073 186.751369 \nL 327.430562 184.045463 \nL 327.53205 191.559353 \nL 327.633538 185.151214 \nL 327.735027 195.157974 \nL 327.836515 194.276566 \nL 327.938004 184.027474 \nL 328.14098 204.254815 \nL 328.242469 197.143999 \nL 328.343957 201.003193 \nL 328.546934 190.799893 \nL 328.648422 196.581905 \nL 328.851399 185.107633 \nL 329.054376 197.890463 \nL 329.155864 181.583492 \nL 329.358841 191.654274 \nL 329.561818 187.141906 \nL 329.764794 203.577237 \nL 329.866283 189.796186 \nL 329.967771 192.533336 \nL 330.069259 184.719418 \nL 330.272236 194.43308 \nL 330.373725 185.109883 \nL 330.475213 200.775189 \nL 330.576701 192.169588 \nL 330.67819 208.110967 \nL 330.779678 196.518988 \nL 330.881166 197.945755 \nL 330.982655 191.707075 \nL 331.185632 195.490184 \nL 331.388608 199.504416 \nL 331.490097 201.090358 \nL 331.693073 182.951591 \nL 331.794562 205.586323 \nL 331.997539 191.903157 \nL 332.200515 209.079102 \nL 332.302004 191.454432 \nL 332.403492 214.756364 \nL 332.606469 191.072612 \nL 332.809446 201.163463 \nL 332.910934 202.034685 \nL 333.012422 211.419292 \nL 333.113911 198.108295 \nL 333.215399 213.746679 \nL 333.418376 181.454643 \nL 333.519864 193.367979 \nL 333.621353 189.524967 \nL 333.722841 195.96909 \nL 333.824329 194.514772 \nL 333.925818 204.198687 \nL 334.128794 197.830519 \nL 334.230283 199.228094 \nL 334.331771 197.040503 \nL 334.43326 189.784016 \nL 334.534748 190.820091 \nL 334.737725 194.584197 \nL 334.839213 190.549454 \nL 334.940701 180.62071 \nL 335.04219 187.326637 \nL 335.143678 183.518798 \nL 335.245167 199.914496 \nL 335.448143 189.490802 \nL 335.549632 199.750357 \nL 335.65112 189.736304 \nL 335.752608 190.951485 \nL 335.854097 189.249478 \nL 335.955585 182.744995 \nL 336.057074 195.521811 \nL 336.158562 193.066721 \nL 336.26005 180.677742 \nL 336.463027 208.499436 \nL 336.564515 190.786147 \nL 336.666004 191.017306 \nL 336.767492 176.338264 \nL 337.173446 193.784518 \nL 337.274934 190.095233 \nL 337.376422 194.398991 \nL 337.477911 191.055579 \nL 337.579399 192.242513 \nL 337.782376 187.686862 \nL 338.086841 195.882488 \nL 338.188329 193.633655 \nL 338.289818 199.565101 \nL 338.391306 195.30011 \nL 338.492795 197.867262 \nL 338.594283 192.549959 \nL 338.695771 194.783695 \nL 338.79726 194.390914 \nL 339.000236 184.24968 \nL 339.203213 199.305638 \nL 339.40619 189.074676 \nL 339.609167 193.839854 \nL 339.710655 183.896328 \nL 339.913632 199.662746 \nL 340.01512 192.666797 \nL 340.218097 199.888168 \nL 340.319585 194.040114 \nL 340.421074 199.993427 \nL 340.522562 194.104034 \nL 340.62405 195.302072 \nL 340.725539 201.548645 \nL 340.827027 194.776452 \nL 341.131492 208.681182 \nL 341.334469 192.187672 \nL 341.435957 193.55998 \nL 341.740423 191.704983 \nL 341.841911 181.395834 \nL 341.943399 190.269323 \nL 342.044888 188.877486 \nL 342.146376 199.977501 \nL 342.247864 193.996306 \nL 342.349353 196.762655 \nL 342.450841 207.622514 \nL 342.55233 198.966934 \nL 342.653818 209.654995 \nL 342.755306 194.975035 \nL 342.856795 198.059385 \nL 342.958283 187.640255 \nL 343.059771 192.359533 \nL 343.16126 177.90924 \nL 343.364237 197.745084 \nL 343.465725 188.788456 \nL 343.77019 195.497108 \nL 343.871678 195.442629 \nL 343.973167 180.712415 \nL 344.074655 183.035369 \nL 344.176144 193.145212 \nL 344.277632 178.992602 \nL 344.37912 192.081858 \nL 344.480609 187.684836 \nL 344.683585 209.388002 \nL 344.886562 192.533566 \nL 344.988051 192.567316 \nL 345.089539 194.337483 \nL 345.191027 199.251767 \nL 345.292516 196.821234 \nL 345.394004 205.623136 \nL 345.698469 189.595492 \nL 346.104423 204.103626 \nL 346.205911 190.491828 \nL 346.307399 201.799133 \nL 346.408888 195.271782 \nL 346.510376 195.335319 \nL 346.713353 200.958982 \nL 346.814841 201.30002 \nL 346.91633 187.152011 \nL 347.017818 197.963531 \nL 347.220795 193.305355 \nL 347.322283 210.467517 \nL 347.52526 193.86397 \nL 347.626748 192.163881 \nL 347.829725 198.662332 \nL 347.931213 191.538424 \nL 348.032702 208.555807 \nL 348.13419 196.911705 \nL 348.438655 203.384136 \nL 348.540144 198.056354 \nL 348.641632 207.831303 \nL 348.74312 199.531242 \nL 348.844609 200.482976 \nL 348.946097 196.570982 \nL 349.047586 197.522687 \nL 349.149074 188.249166 \nL 349.250562 197.000001 \nL 349.352051 191.879641 \nL 349.555027 209.045873 \nL 349.656516 196.731077 \nL 349.859493 201.29001 \nL 349.960981 194.577686 \nL 350.062469 199.684253 \nL 350.265446 195.524559 \nL 350.366934 202.700543 \nL 350.468423 194.149188 \nL 350.6714 207.206637 \nL 350.772888 200.762246 \nL 350.874376 202.09135 \nL 351.077353 191.473613 \nL 351.178841 190.626698 \nL 351.28033 196.31122 \nL 351.381818 192.547155 \nL 351.381818 192.547155 \n\" style=\"fill:none;stroke:#000000;stroke-linecap:square;stroke-width:1.5;\"/>\n   </g>\n   <g id=\"patch_3\">\n    <path d=\"M 31.8 224.64 \nL 31.8 7.2 \n\" style=\"fill:none;stroke:#000000;stroke-linecap:square;stroke-linejoin:miter;stroke-width:0.8;\"/>\n   </g>\n   <g id=\"patch_4\">\n    <path d=\"M 366.6 224.64 \nL 366.6 7.2 \n\" style=\"fill:none;stroke:#000000;stroke-linecap:square;stroke-linejoin:miter;stroke-width:0.8;\"/>\n   </g>\n   <g id=\"patch_5\">\n    <path d=\"M 31.8 224.64 \nL 366.6 224.64 \n\" style=\"fill:none;stroke:#000000;stroke-linecap:square;stroke-linejoin:miter;stroke-width:0.8;\"/>\n   </g>\n   <g id=\"patch_6\">\n    <path d=\"M 31.8 7.2 \nL 366.6 7.2 \n\" style=\"fill:none;stroke:#000000;stroke-linecap:square;stroke-linejoin:miter;stroke-width:0.8;\"/>\n   </g>\n  </g>\n </g>\n <defs>\n  <clipPath id=\"p11d2cf5bb8\">\n   <rect height=\"217.44\" width=\"334.8\" x=\"31.8\" y=\"7.2\"/>\n  </clipPath>\n </defs>\n</svg>\n",
            "image/png": "[encoded data removed]"
          },
          "metadata": {
            "needs_background": "light"
          }
        }
      ]
    },
    {
      "cell_type": "code",
      "metadata": {
        "id": "HRmjyV5XZfyb",
        "outputId": "5022901e-dcd9-492c-8aef-4ca1e219ea04"
      },
      "source": [
        "trajs_list = [\n",
        "    trajectories(\n",
        "        states,\n",
        "        # lambda x, t: f_analytical(x, policy.apply(params_policy, x)),\n",
        "        lambda x, t: f_analytical(x, np.ones((dim_control,))),\n",
        "        10.0,\n",
        "        0.01\n",
        "    ),\n",
        "    trajectories(\n",
        "        states,\n",
        "        # lambda x, t: trainer.f_nn.apply(trainer.params, x, policy.apply(params_policy, x)),\n",
        "        lambda x, t: trainer.f_nn.apply(trainer.params, x, np.ones((dim_control,))),\n",
        "        10.0,\n",
        "        0.01\n",
        "    )\n",
        "]"
      ],
      "execution_count": null,
      "outputs": [
        {
          "output_type": "error",
          "ename": "NameError",
          "evalue": "name 'states' is not defined",
          "traceback": [
            "\u001b[0;31m---------------------------------------------------------------------------\u001b[0m",
            "\u001b[0;31mNameError\u001b[0m                                 Traceback (most recent call last)",
            "\u001b[0;32m<ipython-input-26-a9c704af9b6e>\u001b[0m in \u001b[0;36m<module>\u001b[0;34m\u001b[0m\n\u001b[1;32m      1\u001b[0m trajs_list = [\n\u001b[1;32m      2\u001b[0m     trajectories(\n\u001b[0;32m----> 3\u001b[0;31m         \u001b[0mstates\u001b[0m\u001b[0;34m,\u001b[0m\u001b[0;34m\u001b[0m\u001b[0;34m\u001b[0m\u001b[0m\n\u001b[0m\u001b[1;32m      4\u001b[0m         \u001b[0;31m# lambda x, t: f_analytical(x, policy.apply(params_policy, x)),\u001b[0m\u001b[0;34m\u001b[0m\u001b[0;34m\u001b[0m\u001b[0;34m\u001b[0m\u001b[0m\n\u001b[1;32m      5\u001b[0m         \u001b[0;32mlambda\u001b[0m \u001b[0mx\u001b[0m\u001b[0;34m,\u001b[0m \u001b[0mt\u001b[0m\u001b[0;34m:\u001b[0m \u001b[0mf_analytical\u001b[0m\u001b[0;34m(\u001b[0m\u001b[0mx\u001b[0m\u001b[0;34m,\u001b[0m \u001b[0mnp\u001b[0m\u001b[0;34m.\u001b[0m\u001b[0mones\u001b[0m\u001b[0;34m(\u001b[0m\u001b[0;34m(\u001b[0m\u001b[0mdim_control\u001b[0m\u001b[0;34m,\u001b[0m\u001b[0;34m)\u001b[0m\u001b[0;34m)\u001b[0m\u001b[0;34m)\u001b[0m\u001b[0;34m,\u001b[0m\u001b[0;34m\u001b[0m\u001b[0;34m\u001b[0m\u001b[0m\n",
            "\u001b[0;31mNameError\u001b[0m: name 'states' is not defined"
          ]
        }
      ]
    },
    {
      "cell_type": "code",
      "metadata": {
        "id": "sKWbLvss-_UU",
        "outputId": "baea2efa-0c28-4805-ab4e-96a28e6e2077"
      },
      "source": [
        "plot(trajs_list, ['k-', 'k--'], ['Analytical', 'Naive'])"
      ],
      "execution_count": null,
      "outputs": [
        {
          "output_type": "display_data",
          "data": {
            "text/plain": [
              "<Figure size 432x288 with 1 Axes>"
            ],
            "image/svg+xml": "<?xml version=\"1.0\" encoding=\"utf-8\" standalone=\"no\"?>\n<!DOCTYPE svg PUBLIC \"-//W3C//DTD SVG 1.1//EN\"\n  \"http://www.w3.org/Graphics/SVG/1.1/DTD/svg11.dtd\">\n<!-- Created with matplotlib (https://matplotlib.org/) -->\n<svg height=\"241.837022pt\" version=\"1.1\" viewBox=\"0 0 247.796441 241.837022\" width=\"247.796441pt\" xmlns=\"http://www.w3.org/2000/svg\" xmlns:xlink=\"http://www.w3.org/1999/xlink\">\n <metadata>\n  <rdf:RDF xmlns:cc=\"http://creativecommons.org/ns#\" xmlns:dc=\"http://purl.org/dc/elements/1.1/\" xmlns:rdf=\"http://www.w3.org/1999/02/22-rdf-syntax-ns#\">\n   <cc:Work>\n    <dc:type rdf:resource=\"http://purl.org/dc/dcmitype/StillImage\"/>\n    <dc:date>2021-08-17T10:32:09.824994</dc:date>\n    <dc:format>image/svg+xml</dc:format>\n    <dc:creator>\n     <cc:Agent>\n      <dc:title>Matplotlib v3.3.3, https://matplotlib.org/</dc:title>\n     </cc:Agent>\n    </dc:creator>\n   </cc:Work>\n  </rdf:RDF>\n </metadata>\n <defs>\n  <style type=\"text/css\">*{stroke-linecap:butt;stroke-linejoin:round;}</style>\n </defs>\n <g id=\"figure_1\">\n  <g id=\"patch_1\">\n   <path d=\"M 0 241.837022 \nL 247.796441 241.837022 \nL 247.796441 0 \nL 0 0 \nz\n\" style=\"fill:none;\"/>\n  </g>\n  <g id=\"patch_2\">\n   <path d=\"M 7.2 224.64 \nL 224.64 224.64 \nL 224.64 7.2 \nL 7.2 7.2 \nz\n\" style=\"fill:#ffffff;\"/>\n  </g>\n  <g id=\"pane3d_1\">\n   <g id=\"patch_3\">\n    <path d=\"M 23.61822 171.026264 \nL 95.424009 110.837228 \nL 94.42584 24.033878 \nL 19.183773 78.942111 \n\" style=\"fill:#f2f2f2;opacity:0.5;stroke:#f2f2f2;stroke-linejoin:miter;\"/>\n   </g>\n  </g>\n  <g id=\"pane3d_2\">\n   <g id=\"patch_4\">\n    <path d=\"M 95.424009 110.837228 \nL 210.64668 144.32791 \nL 214.758571 54.534718 \nL 94.42584 24.033878 \n\" style=\"fill:#e6e6e6;opacity:0.5;stroke:#e6e6e6;stroke-linejoin:miter;\"/>\n   </g>\n  </g>\n  <g id=\"pane3d_3\">\n   <g id=\"patch_5\">\n    <path d=\"M 23.61822 171.026264 \nL 145.759879 210.91773 \nL 210.64668 144.32791 \nL 95.424009 110.837228 \n\" style=\"fill:#ececec;opacity:0.5;stroke:#ececec;stroke-linejoin:miter;\"/>\n   </g>\n  </g>\n  <g id=\"axis3d_1\">\n   <g id=\"line2d_1\">\n    <path d=\"M 23.61822 171.026264 \nL 145.759879 210.91773 \n\" style=\"fill:none;stroke:#000000;stroke-linecap:square;stroke-width:0.8;\"/>\n   </g>\n   <g id=\"Line3DCollection_1\">\n    <path d=\"M 48.621881 179.19246 \nL 119.09421 117.717221 \nL 119.104362 30.289164 \n\" style=\"fill:none;stroke:#b0b0b0;stroke-width:0.8;\"/>\n    <path d=\"M 77.597562 188.655917 \nL 146.471065 125.674592 \nL 147.674129 37.530767 \n\" style=\"fill:none;stroke:#b0b0b0;stroke-width:0.8;\"/>\n    <path d=\"M 107.319051 198.362956 \nL 174.493044 133.819475 \nL 176.946823 44.950542 \n\" style=\"fill:none;stroke:#b0b0b0;stroke-width:0.8;\"/>\n    <path d=\"M 137.815518 208.323102 \nL 203.183222 142.158577 \nL 206.94871 52.555145 \n\" style=\"fill:none;stroke:#b0b0b0;stroke-width:0.8;\"/>\n   </g>\n   <g id=\"xtick_1\">\n    <g id=\"line2d_2\">\n     <path d=\"M 49.235938 178.656799 \nL 47.391111 180.266099 \n\" style=\"fill:none;stroke:#000000;stroke-linecap:square;stroke-width:0.8;\"/>\n    </g>\n    <g id=\"text_1\">\n     <!-- −10 -->\n     <g transform=\"translate(30.55611 202.663978)scale(0.1 -0.1)\">\n      <defs>\n       <path d=\"M 10.59375 35.5 \nL 73.1875 35.5 \nL 73.1875 27.203125 \nL 10.59375 27.203125 \nz\n\" id=\"DejaVuSans-8722\"/>\n       <path d=\"M 12.40625 8.296875 \nL 28.515625 8.296875 \nL 28.515625 63.921875 \nL 10.984375 60.40625 \nL 10.984375 69.390625 \nL 28.421875 72.90625 \nL 38.28125 72.90625 \nL 38.28125 8.296875 \nL 54.390625 8.296875 \nL 54.390625 0 \nL 12.40625 0 \nz\n\" id=\"DejaVuSans-49\"/>\n       <path d=\"M 31.78125 66.40625 \nQ 24.171875 66.40625 20.328125 58.90625 \nQ 16.5 51.421875 16.5 36.375 \nQ 16.5 21.390625 20.328125 13.890625 \nQ 24.171875 6.390625 31.78125 6.390625 \nQ 39.453125 6.390625 43.28125 13.890625 \nQ 47.125 21.390625 47.125 36.375 \nQ 47.125 51.421875 43.28125 58.90625 \nQ 39.453125 66.40625 31.78125 66.40625 \nz\nM 31.78125 74.21875 \nQ 44.046875 74.21875 50.515625 64.515625 \nQ 56.984375 54.828125 56.984375 36.375 \nQ 56.984375 17.96875 50.515625 8.265625 \nQ 44.046875 -1.421875 31.78125 -1.421875 \nQ 19.53125 -1.421875 13.0625 8.265625 \nQ 6.59375 17.96875 6.59375 36.375 \nQ 6.59375 54.828125 13.0625 64.515625 \nQ 19.53125 74.21875 31.78125 74.21875 \nz\n\" id=\"DejaVuSans-48\"/>\n      </defs>\n      <use xlink:href=\"#DejaVuSans-8722\"/>\n      <use x=\"83.789062\" xlink:href=\"#DejaVuSans-49\"/>\n      <use x=\"147.412109\" xlink:href=\"#DejaVuSans-48\"/>\n     </g>\n    </g>\n   </g>\n   <g id=\"xtick_2\">\n    <g id=\"line2d_3\">\n     <path d=\"M 78.198311 188.106562 \nL 76.393431 189.757033 \n\" style=\"fill:none;stroke:#000000;stroke-linecap:square;stroke-width:0.8;\"/>\n    </g>\n    <g id=\"text_2\">\n     <!-- 0 -->\n     <g transform=\"translate(66.941633 212.374036)scale(0.1 -0.1)\">\n      <use xlink:href=\"#DejaVuSans-48\"/>\n     </g>\n    </g>\n   </g>\n   <g id=\"xtick_3\">\n    <g id=\"line2d_4\">\n     <path d=\"M 107.9056 197.799375 \nL 106.143349 199.492617 \n\" style=\"fill:none;stroke:#000000;stroke-linecap:square;stroke-width:0.8;\"/>\n    </g>\n    <g id=\"text_3\">\n     <!-- 10 -->\n     <g transform=\"translate(93.525134 222.335199)scale(0.1 -0.1)\">\n      <use xlink:href=\"#DejaVuSans-49\"/>\n      <use x=\"63.623047\" xlink:href=\"#DejaVuSans-48\"/>\n     </g>\n    </g>\n   </g>\n   <g id=\"xtick_4\">\n    <g id=\"line2d_5\">\n     <path d=\"M 138.386919 207.744736 \nL 136.670149 209.482433 \n\" style=\"fill:none;stroke:#000000;stroke-linecap:square;stroke-width:0.8;\"/>\n    </g>\n    <g id=\"text_4\">\n     <!-- 20 -->\n     <g transform=\"translate(124.069692 232.557334)scale(0.1 -0.1)\">\n      <defs>\n       <path d=\"M 19.1875 8.296875 \nL 53.609375 8.296875 \nL 53.609375 0 \nL 7.328125 0 \nL 7.328125 8.296875 \nQ 12.9375 14.109375 22.625 23.890625 \nQ 32.328125 33.6875 34.8125 36.53125 \nQ 39.546875 41.84375 41.421875 45.53125 \nQ 43.3125 49.21875 43.3125 52.78125 \nQ 43.3125 58.59375 39.234375 62.25 \nQ 35.15625 65.921875 28.609375 65.921875 \nQ 23.96875 65.921875 18.8125 64.3125 \nQ 13.671875 62.703125 7.8125 59.421875 \nL 7.8125 69.390625 \nQ 13.765625 71.78125 18.9375 73 \nQ 24.125 74.21875 28.421875 74.21875 \nQ 39.75 74.21875 46.484375 68.546875 \nQ 53.21875 62.890625 53.21875 53.421875 \nQ 53.21875 48.921875 51.53125 44.890625 \nQ 49.859375 40.875 45.40625 35.40625 \nQ 44.1875 33.984375 37.640625 27.21875 \nQ 31.109375 20.453125 19.1875 8.296875 \nz\n\" id=\"DejaVuSans-50\"/>\n      </defs>\n      <use xlink:href=\"#DejaVuSans-50\"/>\n      <use x=\"63.623047\" xlink:href=\"#DejaVuSans-48\"/>\n     </g>\n    </g>\n   </g>\n  </g>\n  <g id=\"axis3d_2\">\n   <g id=\"line2d_6\">\n    <path d=\"M 210.64668 144.32791 \nL 145.759879 210.91773 \n\" style=\"fill:none;stroke:#000000;stroke-linecap:square;stroke-width:0.8;\"/>\n   </g>\n   <g id=\"Line3DCollection_2\">\n    <path d=\"M 35.862584 66.770674 \nL 39.488323 157.723629 \nL 160.15017 196.149751 \n\" style=\"fill:none;stroke:#b0b0b0;stroke-width:0.8;\"/>\n    <path d=\"M 55.556727 52.398785 \nL 58.261949 141.987203 \nL 177.136981 178.717105 \n\" style=\"fill:none;stroke:#b0b0b0;stroke-width:0.8;\"/>\n    <path d=\"M 74.375596 38.665632 \nL 76.23611 126.920905 \nL 193.363707 162.064491 \n\" style=\"fill:none;stroke:#b0b0b0;stroke-width:0.8;\"/>\n    <path d=\"M 92.376273 25.529559 \nL 93.460807 112.482823 \nL 208.880249 146.140703 \n\" style=\"fill:none;stroke:#b0b0b0;stroke-width:0.8;\"/>\n   </g>\n   <g id=\"xtick_5\">\n    <g id=\"line2d_7\">\n     <path d=\"M 159.134027 195.826149 \nL 162.185049 196.797782 \n\" style=\"fill:none;stroke:#000000;stroke-linecap:square;stroke-width:0.8;\"/>\n    </g>\n    <g id=\"text_5\">\n     <!-- −10 -->\n     <g transform=\"translate(162.317659 216.989095)scale(0.1 -0.1)\">\n      <use xlink:href=\"#DejaVuSans-8722\"/>\n      <use x=\"83.789062\" xlink:href=\"#DejaVuSans-49\"/>\n      <use x=\"147.412109\" xlink:href=\"#DejaVuSans-48\"/>\n     </g>\n    </g>\n   </g>\n   <g id=\"xtick_6\">\n    <g id=\"line2d_8\">\n     <path d=\"M 176.137031 178.408141 \nL 179.139373 179.335802 \n\" style=\"fill:none;stroke:#000000;stroke-linecap:square;stroke-width:0.8;\"/>\n    </g>\n    <g id=\"text_6\">\n     <!-- 0 -->\n     <g transform=\"translate(186.396272 199.240899)scale(0.1 -0.1)\">\n      <use xlink:href=\"#DejaVuSans-48\"/>\n     </g>\n    </g>\n   </g>\n   <g id=\"xtick_7\">\n    <g id=\"line2d_9\">\n     <path d=\"M 192.379535 161.769195 \nL 195.33445 162.655804 \n\" style=\"fill:none;stroke:#000000;stroke-linecap:square;stroke-width:0.8;\"/>\n    </g>\n    <g id=\"text_7\">\n     <!-- 10 -->\n     <g transform=\"translate(199.174437 182.287406)scale(0.1 -0.1)\">\n      <use xlink:href=\"#DejaVuSans-49\"/>\n      <use x=\"63.623047\" xlink:href=\"#DejaVuSans-48\"/>\n     </g>\n    </g>\n   </g>\n   <g id=\"xtick_8\">\n    <g id=\"line2d_10\">\n     <path d=\"M 207.911446 145.858187 \nL 210.820164 146.706408 \n\" style=\"fill:none;stroke:#000000;stroke-linecap:square;stroke-width:0.8;\"/>\n    </g>\n    <g id=\"text_8\">\n     <!-- 20 -->\n     <g transform=\"translate(214.434894 166.076406)scale(0.1 -0.1)\">\n      <use xlink:href=\"#DejaVuSans-50\"/>\n      <use x=\"63.623047\" xlink:href=\"#DejaVuSans-48\"/>\n     </g>\n    </g>\n   </g>\n  </g>\n  <g id=\"axis3d_3\">\n   <g id=\"line2d_11\">\n    <path d=\"M 210.64668 144.32791 \nL 214.758571 54.534718 \n\" style=\"fill:none;stroke:#000000;stroke-linecap:square;stroke-width:0.8;\"/>\n   </g>\n   <g id=\"Line3DCollection_3\">\n    <path d=\"M 210.904549 138.696706 \nL 95.361287 105.382745 \nL 23.340561 165.260507 \n\" style=\"fill:none;stroke:#b0b0b0;stroke-width:0.8;\"/>\n    <path d=\"M 211.618863 123.097928 \nL 95.187629 90.28104 \nL 22.571124 149.282644 \n\" style=\"fill:none;stroke:#b0b0b0;stroke-width:0.8;\"/>\n    <path d=\"M 212.344349 107.255152 \nL 95.011386 74.954452 \nL 21.78919 133.045273 \n\" style=\"fill:none;stroke:#b0b0b0;stroke-width:0.8;\"/>\n    <path d=\"M 213.081274 91.162607 \nL 94.832498 59.39792 \nL 20.994451 116.542021 \n\" style=\"fill:none;stroke:#b0b0b0;stroke-width:0.8;\"/>\n    <path d=\"M 213.829908 74.814341 \nL 94.650906 43.60623 \nL 20.186592 99.766302 \n\" style=\"fill:none;stroke:#b0b0b0;stroke-width:0.8;\"/>\n    <path d=\"M 214.590534 58.204208 \nL 94.466548 27.574009 \nL 19.365285 82.711314 \n\" style=\"fill:none;stroke:#b0b0b0;stroke-width:0.8;\"/>\n   </g>\n   <g id=\"xtick_9\">\n    <g id=\"line2d_12\">\n     <path d=\"M 209.934696 138.417073 \nL 212.84657 139.256638 \n\" style=\"fill:none;stroke:#000000;stroke-linecap:square;stroke-width:0.8;\"/>\n    </g>\n    <g id=\"text_9\">\n     <!-- −20 -->\n     <g transform=\"translate(218.638702 143.705313)scale(0.1 -0.1)\">\n      <use xlink:href=\"#DejaVuSans-8722\"/>\n      <use x=\"83.789062\" xlink:href=\"#DejaVuSans-50\"/>\n      <use x=\"147.412109\" xlink:href=\"#DejaVuSans-48\"/>\n     </g>\n    </g>\n   </g>\n   <g id=\"xtick_10\">\n    <g id=\"line2d_13\">\n     <path d=\"M 210.6412 122.822367 \nL 213.576538 123.649711 \n\" style=\"fill:none;stroke:#000000;stroke-linecap:square;stroke-width:0.8;\"/>\n    </g>\n    <g id=\"text_10\">\n     <!-- −10 -->\n     <g transform=\"translate(219.491753 128.144314)scale(0.1 -0.1)\">\n      <use xlink:href=\"#DejaVuSans-8722\"/>\n      <use x=\"83.789062\" xlink:href=\"#DejaVuSans-49\"/>\n      <use x=\"147.412109\" xlink:href=\"#DejaVuSans-48\"/>\n     </g>\n    </g>\n   </g>\n   <g id=\"xtick_11\">\n    <g id=\"line2d_14\">\n     <path d=\"M 211.358751 106.983825 \nL 214.317934 107.798462 \n\" style=\"fill:none;stroke:#000000;stroke-linecap:square;stroke-width:0.8;\"/>\n    </g>\n    <g id=\"text_11\">\n     <!-- 0 -->\n     <g transform=\"translate(227.729191 112.340817)scale(0.1 -0.1)\">\n      <use xlink:href=\"#DejaVuSans-48\"/>\n     </g>\n    </g>\n   </g>\n   <g id=\"xtick_12\">\n    <g id=\"line2d_15\">\n     <path d=\"M 212.087609 90.895683 \nL 215.071028 91.697107 \n\" style=\"fill:none;stroke:#000000;stroke-linecap:square;stroke-width:0.8;\"/>\n    </g>\n    <g id=\"text_12\">\n     <!-- 10 -->\n     <g transform=\"translate(225.427893 96.289108)scale(0.1 -0.1)\">\n      <use xlink:href=\"#DejaVuSans-49\"/>\n      <use x=\"63.623047\" xlink:href=\"#DejaVuSans-48\"/>\n     </g>\n    </g>\n   </g>\n   <g id=\"xtick_13\">\n    <g id=\"line2d_16\">\n     <path d=\"M 212.828046 74.551994 \nL 215.836099 75.33968 \n\" style=\"fill:none;stroke:#000000;stroke-linecap:square;stroke-width:0.8;\"/>\n    </g>\n    <g id=\"text_13\">\n     <!-- 20 -->\n     <g transform=\"translate(226.321774 79.983294)scale(0.1 -0.1)\">\n      <use xlink:href=\"#DejaVuSans-50\"/>\n      <use x=\"63.623047\" xlink:href=\"#DejaVuSans-48\"/>\n     </g>\n    </g>\n   </g>\n   <g id=\"xtick_14\">\n    <g id=\"line2d_17\">\n     <path d=\"M 213.580337 57.946619 \nL 216.613435 58.720024 \n\" style=\"fill:none;stroke:#000000;stroke-linecap:square;stroke-width:0.8;\"/>\n    </g>\n    <g id=\"text_14\">\n     <!-- 30 -->\n     <g transform=\"translate(227.229919 63.417292)scale(0.1 -0.1)\">\n      <defs>\n       <path d=\"M 40.578125 39.3125 \nQ 47.65625 37.796875 51.625 33 \nQ 55.609375 28.21875 55.609375 21.1875 \nQ 55.609375 10.40625 48.1875 4.484375 \nQ 40.765625 -1.421875 27.09375 -1.421875 \nQ 22.515625 -1.421875 17.65625 -0.515625 \nQ 12.796875 0.390625 7.625 2.203125 \nL 7.625 11.71875 \nQ 11.71875 9.328125 16.59375 8.109375 \nQ 21.484375 6.890625 26.8125 6.890625 \nQ 36.078125 6.890625 40.9375 10.546875 \nQ 45.796875 14.203125 45.796875 21.1875 \nQ 45.796875 27.640625 41.28125 31.265625 \nQ 36.765625 34.90625 28.71875 34.90625 \nL 20.21875 34.90625 \nL 20.21875 43.015625 \nL 29.109375 43.015625 \nQ 36.375 43.015625 40.234375 45.921875 \nQ 44.09375 48.828125 44.09375 54.296875 \nQ 44.09375 59.90625 40.109375 62.90625 \nQ 36.140625 65.921875 28.71875 65.921875 \nQ 24.65625 65.921875 20.015625 65.03125 \nQ 15.375 64.15625 9.8125 62.3125 \nL 9.8125 71.09375 \nQ 15.4375 72.65625 20.34375 73.4375 \nQ 25.25 74.21875 29.59375 74.21875 \nQ 40.828125 74.21875 47.359375 69.109375 \nQ 53.90625 64.015625 53.90625 55.328125 \nQ 53.90625 49.265625 50.4375 45.09375 \nQ 46.96875 40.921875 40.578125 39.3125 \nz\n\" id=\"DejaVuSans-51\"/>\n      </defs>\n      <use xlink:href=\"#DejaVuSans-51\"/>\n      <use x=\"63.623047\" xlink:href=\"#DejaVuSans-48\"/>\n     </g>\n    </g>\n   </g>\n  </g>\n  <g id=\"axes_1\">\n   <g id=\"line2d_18\">\n    <path clip-path=\"url(#p9c3d3d62f2)\" d=\"M 135.217783 119.177342 \nL 136.145013 119.566761 \nL 137.161974 119.719409 \nL 138.151655 119.635752 \nL 139.685898 119.250454 \nL 140.855382 118.770002 \nL 141.419982 118.329054 \nL 141.757946 117.77631 \nL 141.860497 117.182088 \nL 141.745334 116.454575 \nL 141.505982 114.909351 \nL 141.497024 113.113706 \nL 141.677366 111.462678 \nL 141.990558 109.057632 \nL 142.06103 101.700525 \nL 142.322338 98.779485 \nL 142.424882 96.845213 \nL 142.975474 93.517373 \nL 143.111052 91.043732 \nL 143.274801 90.027849 \nL 143.274801 90.027849 \n\" style=\"fill:none;stroke:#000000;stroke-linecap:square;stroke-width:1.5;\"/>\n   </g>\n   <g id=\"line2d_19\">\n    <path clip-path=\"url(#p9c3d3d62f2)\" d=\"M 187.465905 111.828024 \nL 188.18477 112.828506 \nL 189.05184 113.66151 \nL 190.359819 114.547834 \nL 191.014429 114.811406 \nL 191.571254 114.754678 \nL 191.950881 114.51851 \nL 192.140328 114.110385 \nL 192.504313 112.530917 \nL 192.497348 110.881908 \nL 192.071718 102.414961 \nL 192.308528 95.826706 \nL 192.757878 93.581125 \nL 192.936521 90.391252 \nL 193.688265 86.362533 \nL 193.723039 84.656006 \nL 193.723039 84.656006 \n\" style=\"fill:none;stroke:#000000;stroke-linecap:square;stroke-width:1.5;\"/>\n   </g>\n   <g id=\"line2d_20\">\n    <path clip-path=\"url(#p9c3d3d62f2)\" d=\"M 87.385097 125.60919 \nL 87.869251 126.173772 \nL 88.818524 127.891778 \nL 89.731801 129.729225 \nL 89.834375 130.40642 \nL 89.675338 130.724925 \nL 89.347048 130.894711 \nL 89.06532 130.826297 \nL 88.924641 130.568817 \nL 88.940834 130.08023 \nL 89.344142 127.667608 \nL 89.23612 126.401866 \nL 89.098725 124.872137 \nL 89.309151 123.454862 \nL 89.751101 120.559938 \nL 89.570931 118.233655 \nL 89.608915 116.847647 \nL 89.731364 114.483299 \nL 89.616249 111.154646 \nL 89.756055 109.143701 \nL 89.643466 107.015024 \nL 89.632533 106.92023 \nL 89.632533 106.92023 \n\" style=\"fill:none;stroke:#000000;stroke-linecap:square;stroke-width:1.5;\"/>\n   </g>\n   <g id=\"line2d_21\">\n    <path clip-path=\"url(#p9c3d3d62f2)\" d=\"M 105.722145 157.698678 \nL 104.938521 158.337189 \nL 101.15342 161.931916 \nL 99.699275 162.87668 \nL 98.686646 163.292483 \nL 97.640816 163.462262 \nL 97.065382 163.384221 \nL 96.799624 163.128685 \nL 96.562649 162.529488 \nL 96.481849 161.692684 \nL 96.618259 160.700056 \nL 97.070311 158.004596 \nL 96.948876 157.00481 \nL 96.781021 155.18457 \nL 96.877854 153.541341 \nL 96.922275 152.334353 \nL 96.800101 150.105131 \nL 96.98358 148.139719 \nL 97.015343 146.861036 \nL 96.908418 144.392673 \nL 97.288631 142.113574 \nL 97.486318 140.306358 \nL 97.647978 138.371962 \nL 97.793594 136.843706 \nL 97.781434 135.236073 \nL 97.781434 135.236073 \n\" style=\"fill:none;stroke:#000000;stroke-linecap:square;stroke-width:1.5;\"/>\n   </g>\n   <g id=\"line2d_22\">\n    <path clip-path=\"url(#p9c3d3d62f2)\" d=\"M 133.568462 147.408632 \nL 134.152264 147.562444 \nL 134.891953 148.081299 \nL 135.559306 148.803384 \nL 135.779315 149.321349 \nL 135.731649 149.768914 \nL 135.447484 150.28583 \nL 134.977088 150.697512 \nL 134.573312 150.793014 \nL 134.399371 150.645817 \nL 134.379348 150.285721 \nL 134.640935 149.343597 \nL 134.825593 148.32263 \nL 134.758752 147.235833 \nL 134.377627 143.355161 \nL 134.563876 139.980814 \nL 134.433787 138.423617 \nL 133.905851 133.864257 \nL 133.997282 132.470425 \nL 134.073228 130.791732 \nL 134.046192 127.100313 \nL 134.303009 125.478966 \nL 134.44672 124.430464 \nL 134.44672 124.430464 \n\" style=\"fill:none;stroke:#000000;stroke-linecap:square;stroke-width:1.5;\"/>\n   </g>\n   <g id=\"line2d_23\">\n    <path clip-path=\"url(#p9c3d3d62f2)\" d=\"M 118.60749 162.149881 \nL 117.818549 161.246928 \nL 117.820935 160.936328 \nL 118.101871 160.290119 \nL 118.204464 159.732361 \nL 118.057753 158.619956 \nL 117.962246 157.139762 \nL 118.125817 155.850285 \nL 118.670756 151.310008 \nL 118.457894 148.614822 \nL 118.276302 144.90204 \nL 118.074061 143.124759 \nL 118.237285 140.848898 \nL 118.021378 138.69645 \nL 117.607513 135.480344 \nL 117.702675 131.831928 \nL 117.702675 131.831928 \n\" style=\"fill:none;stroke:#000000;stroke-linecap:square;stroke-width:1.5;\"/>\n   </g>\n   <g id=\"line2d_24\">\n    <path clip-path=\"url(#p9c3d3d62f2)\" d=\"M 82.649277 129.921914 \nL 81.637371 128.92275 \nL 80.013031 127.028213 \nL 79.558615 126.050961 \nL 78.831178 123.902043 \nL 78.833732 122.562972 \nL 78.76224 120.794526 \nL 78.481236 118.488347 \nL 78.348973 116.899394 \nL 78.560414 115.634141 \nL 78.672937 114.396164 \nL 78.589227 112.769543 \nL 78.078559 109.797116 \nL 77.943035 108.21466 \nL 77.608071 104.187474 \nL 77.295922 102.245214 \nL 77.224902 101.204541 \nL 77.362383 98.973509 \nL 77.160355 97.405439 \nL 76.90598 95.679884 \nL 76.963847 93.817754 \nL 76.963847 93.817754 \n\" style=\"fill:none;stroke:#000000;stroke-linecap:square;stroke-width:1.5;\"/>\n   </g>\n   <g id=\"line2d_25\">\n    <path clip-path=\"url(#p9c3d3d62f2)\" d=\"M 134.060917 155.171707 \nL 134.367806 155.994717 \nL 134.482303 158.220518 \nL 134.400545 159.440795 \nL 134.432115 159.787644 \nL 134.329376 159.197094 \nL 134.428062 158.380099 \nL 134.658505 156.778398 \nL 134.606499 155.575138 \nL 134.252523 151.608867 \nL 134.223308 149.093376 \nL 134.092765 146.186466 \nL 134.311176 142.456264 \nL 134.38941 140.725911 \nL 134.939223 137.373255 \nL 135.009943 135.174044 \nL 135.368806 133.271789 \nL 135.655536 131.568113 \nL 135.667195 131.069735 \nL 135.667195 131.069735 \n\" style=\"fill:none;stroke:#000000;stroke-linecap:square;stroke-width:1.5;\"/>\n   </g>\n   <g id=\"line2d_26\">\n    <path clip-path=\"url(#p9c3d3d62f2)\" d=\"M 89.893097 82.479468 \nL 90.84168 83.432484 \nL 92.122867 85.009691 \nL 92.999849 86.29576 \nL 93.000827 86.682884 \nL 92.786807 86.886919 \nL 92.402123 86.936136 \nL 91.915971 86.76168 \nL 91.52806 86.4113 \nL 91.375973 85.966752 \nL 91.39014 85.296751 \nL 91.661774 84.215479 \nL 91.982997 82.721307 \nL 92.026849 80.903766 \nL 92.146393 75.855481 \nL 92.353105 74.120239 \nL 91.989305 69.182445 \nL 91.86024 67.702257 \nL 91.57353 65.668516 \nL 91.775386 61.70666 \nL 91.766798 61.113768 \nL 91.766798 61.113768 \n\" style=\"fill:none;stroke:#000000;stroke-linecap:square;stroke-width:1.5;\"/>\n   </g>\n   <g id=\"line2d_27\">\n    <path clip-path=\"url(#p9c3d3d62f2)\" d=\"M 107.396154 141.636355 \nL 107.79822 141.988431 \nL 108.598206 142.913818 \nL 109.13859 143.113567 \nL 109.764646 143.098734 \nL 110.71586 142.836476 \nL 111.164308 142.509665 \nL 111.503172 141.977503 \nL 111.664778 141.322806 \nL 111.621793 140.57808 \nL 111.395961 138.6723 \nL 111.590998 137.069553 \nL 111.849897 134.629984 \nL 111.789771 130.278776 \nL 112.094855 127.995569 \nL 112.365503 125.699119 \nL 112.373335 123.810602 \nL 112.344962 122.060079 \nL 112.425093 118.930038 \nL 112.277567 116.547518 \nL 112.397913 115.117969 \nL 112.397913 115.117969 \n\" style=\"fill:none;stroke:#000000;stroke-linecap:square;stroke-width:1.5;\"/>\n   </g>\n   <g id=\"line2d_28\">\n    <path clip-path=\"url(#p9c3d3d62f2)\" d=\"M 135.217783 119.177342 \nL 135.690851 119.430226 \nL 135.46707 119.199136 \nL 134.946429 118.857106 \nL 133.704733 118.264573 \nL 133.623404 118.440085 \nL 133.339138 118.929108 \nL 133.259887 119.239378 \nL 133.477628 119.690055 \nL 133.874198 120.158838 \nL 134.398541 120.493993 \nL 134.347088 120.515264 \nL 134.797157 119.427508 \nL 135.2303 119.173328 \nL 135.622557 119.185207 \nL 135.817689 119.395176 \nL 136.111827 120.204087 \nL 136.302437 120.784039 \nL 136.36079 120.881759 \nL 136.302209 120.922881 \nL 136.171877 120.960275 \nL 136.408087 120.987143 \nL 136.651563 121.1685 \nL 136.511803 121.417907 \nL 136.449315 121.707335 \nL 136.757431 122.007226 \nL 136.747931 122.021022 \nL 136.620595 122.143129 \nL 136.771857 122.144298 \nL 137.346428 122.148623 \nL 137.346901 122.067689 \nL 138.894175 121.82939 \nL 138.874401 121.854393 \nL 139.748897 121.73744 \nL 140.603819 121.698749 \nL 139.683944 121.767936 \nL 140.597861 121.705305 \n\" style=\"fill:none;stroke:#000000;stroke-dasharray:5.55,2.4;stroke-dashoffset:0;stroke-width:1.5;\"/>\n   </g>\n   <g id=\"line2d_29\">\n    <path clip-path=\"url(#p9c3d3d62f2)\" d=\"M 187.465905 111.828024 \nL 187.743659 112.397477 \nL 187.717627 112.843098 \nL 187.441495 112.961999 \nL 186.91471 112.971966 \nL 186.489082 113.651637 \nL 186.669158 113.706733 \nL 186.808089 113.752308 \nL 186.573778 113.7983 \nL 186.16415 114.044509 \nL 186.176441 113.92332 \nL 184.395911 109.794077 \nL 183.793071 108.563416 \nL 183.172016 107.500755 \nL 181.744837 105.508887 \nL 181.33505 105.26528 \nL 180.609013 106.160274 \nL 180.768281 106.51117 \nL 181.287622 107.130722 \nL 181.477876 107.143522 \nL 181.471121 107.09092 \nL 181.38409 106.365449 \nL 181.443868 105.271282 \nL 181.704918 104.60556 \nL 181.991915 104.393761 \nL 182.326825 104.435344 \nL 183.791643 104.778254 \nL 184.681709 104.685819 \nL 185.583443 104.351109 \nL 186.067264 103.97763 \nL 186.217238 103.572058 \nL 186.137461 103.128665 \nL 185.639824 101.67791 \nL 185.362442 101.002804 \nL 184.795215 99.823631 \nL 184.321167 98.858676 \nL 183.474608 97.256456 \nL 182.612531 95.974238 \nL 181.743706 94.933272 \nL 181.489075 94.849871 \nL 181.482232 94.859174 \nL 180.839751 95.634314 \nL 180.80087 95.665638 \nL 180.80087 95.665638 \n\" style=\"fill:none;stroke:#000000;stroke-dasharray:5.55,2.4;stroke-dashoffset:0;stroke-width:1.5;\"/>\n   </g>\n   <g id=\"line2d_30\">\n    <path clip-path=\"url(#p9c3d3d62f2)\" d=\"M 87.385097 125.60919 \nL 87.970715 126.253655 \nL 89.611654 128.404469 \nL 90.362799 128.985107 \nL 91.022632 129.24289 \nL 91.738056 129.279254 \nL 92.270005 129.107931 \nL 92.627343 128.757878 \nL 92.717929 128.374586 \nL 92.55189 127.954659 \nL 92.335502 127.322327 \nL 92.061704 126.339158 \nL 91.656725 125.269802 \nL 91.286404 124.370439 \nL 90.697472 123.024482 \nL 90.112919 121.961824 \nL 88.931731 120.201666 \nL 88.424252 119.822137 \nL 88.297441 119.987814 \nL 87.727756 120.913784 \nL 88.220867 121.615468 \nL 88.465646 121.665727 \nL 88.471363 121.624505 \nL 88.437379 120.622669 \nL 88.578965 119.638679 \nL 88.870408 119.076114 \nL 89.147096 118.977424 \nL 89.683259 119.143726 \nL 90.548763 119.340105 \nL 91.441685 119.282732 \nL 92.264886 118.995411 \nL 92.746476 118.641215 \nL 92.926861 118.255818 \nL 92.897691 117.835034 \nL 91.48627 113.877346 \nL 89.693451 110.722511 \nL 89.00399 109.946259 \nL 88.793838 109.921104 \nL 88.113903 110.69322 \nL 88.105684 110.701079 \nL 88.105684 110.701079 \n\" style=\"fill:none;stroke:#000000;stroke-dasharray:5.55,2.4;stroke-dashoffset:0;stroke-width:1.5;\"/>\n   </g>\n   <g id=\"line2d_31\">\n    <path clip-path=\"url(#p9c3d3d62f2)\" d=\"M 105.722145 157.698678 \nL 102.382036 159.774325 \nL 101.985826 159.824775 \nL 101.472313 159.523712 \nL 100.660191 158.786912 \nL 100.093313 157.751936 \nL 100.269982 157.634657 \nL 100.611994 157.682808 \nL 101.833732 158.046583 \nL 102.276842 158.307058 \nL 102.407505 158.667802 \nL 102.423198 158.798808 \nL 102.512038 158.772582 \nL 102.85984 158.562296 \nL 103.140918 158.14252 \nL 103.228441 157.585599 \nL 103.099399 156.686837 \nL 102.69385 155.40729 \nL 101.56912 152.627115 \nL 100.716641 150.956179 \nL 99.762548 149.500473 \nL 99.099752 148.841031 \nL 98.94108 148.869349 \nL 98.450572 149.444449 \nL 98.197695 149.896188 \nL 98.423901 150.312795 \nL 98.911383 150.834341 \nL 99.056948 150.835053 \nL 99.051906 150.758624 \nL 99.010052 150.020287 \nL 99.13467 148.755233 \nL 99.416085 148.113345 \nL 99.683451 147.946685 \nL 100.04763 148.023393 \nL 101.321705 148.394852 \nL 102.180689 148.368185 \nL 103.130225 148.084458 \nL 103.774688 147.707781 \nL 104.0341 147.343618 \nL 104.096336 146.860144 \nL 103.908118 146.238818 \nL 103.743769 145.49344 \nL 103.535928 144.494586 \nL 101.267337 139.61147 \nL 100.012751 137.879557 \nL 99.608457 137.65196 \nL 99.318385 138.014089 \nL 99.318385 138.014089 \n\" style=\"fill:none;stroke:#000000;stroke-dasharray:5.55,2.4;stroke-dashoffset:0;stroke-width:1.5;\"/>\n   </g>\n   <g id=\"line2d_32\">\n    <path clip-path=\"url(#p9c3d3d62f2)\" d=\"M 133.568462 147.408632 \nL 134.219247 147.568262 \nL 134.971686 148.005599 \nL 135.320103 148.185095 \nL 135.365986 148.028124 \nL 135.184033 146.992325 \nL 133.445189 142.698584 \nL 131.259819 138.923925 \nL 130.619885 138.269994 \nL 130.437412 138.270918 \nL 129.701047 139.133963 \nL 129.673877 139.281444 \nL 129.869257 139.673323 \nL 130.364807 140.256752 \nL 130.581267 140.281014 \nL 130.571352 140.207373 \nL 130.518038 139.594609 \nL 130.629866 138.286412 \nL 130.914636 137.641241 \nL 131.190114 137.479522 \nL 131.537411 137.565896 \nL 132.956273 138.089399 \nL 134.432791 138.23491 \nL 135.347837 138.155686 \nL 135.873522 137.919293 \nL 136.171955 137.557757 \nL 136.250632 137.089551 \nL 136.049697 135.255549 \nL 135.804118 134.629535 \nL 135.382758 133.626604 \nL 134.962812 132.576139 \nL 134.351002 131.237681 \nL 133.805364 130.168397 \nL 132.176835 127.66636 \nL 131.597905 127.182611 \nL 131.495015 127.297426 \nL 131.157804 127.700885 \nL 130.785301 128.10915 \nL 130.785301 128.10915 \n\" style=\"fill:none;stroke:#000000;stroke-dasharray:5.55,2.4;stroke-dashoffset:0;stroke-width:1.5;\"/>\n   </g>\n   <g id=\"line2d_33\">\n    <path clip-path=\"url(#p9c3d3d62f2)\" d=\"M 118.60749 162.149881 \nL 118.147553 161.843662 \nL 117.284143 161.606847 \nL 116.795111 161.690308 \nL 116.461958 161.965031 \nL 115.711904 162.930368 \nL 114.905877 164.019842 \nL 114.410188 164.546509 \nL 114.411167 165.000875 \nL 114.619103 167.897438 \nL 114.312099 168.484052 \nL 114.102074 168.901284 \nL 114.196061 169.354754 \nL 114.905122 172.22497 \nL 114.663167 172.760077 \nL 114.554655 173.208215 \nL 114.677708 173.49258 \nL 115.423423 174.597674 \nL 115.48635 175.378819 \nL 115.371619 176.765974 \nL 115.319418 177.551662 \nL 115.537758 178.140216 \nL 115.295434 178.919694 \nL 115.753813 179.444041 \nL 115.748992 179.745762 \nL 115.520267 180.568085 \nL 115.945062 181.026852 \nL 115.877905 181.298731 \nL 115.703915 181.688416 \nL 115.747322 181.71095 \nL 116.151573 181.972348 \nL 116.135762 182.001105 \nL 115.964667 182.136746 \nL 116.182018 182.101577 \nL 116.715931 182.031421 \nL 116.673956 181.968524 \nL 116.984399 181.942302 \nL 118.102122 181.980442 \nL 116.927015 181.952724 \nL 118.056908 182.018116 \nL 117.954483 182.051139 \nL 118.218745 182.046007 \nL 119.36516 182.293373 \nL 118.205439 182.110163 \nL 119.347249 182.315575 \nL 119.248008 182.328589 \nL 119.614351 182.282714 \nL 119.673445 182.284035 \nL 119.673445 182.284035 \n\" style=\"fill:none;stroke:#000000;stroke-dasharray:5.55,2.4;stroke-dashoffset:0;stroke-width:1.5;\"/>\n   </g>\n   <g id=\"line2d_34\">\n    <path clip-path=\"url(#p9c3d3d62f2)\" d=\"M 82.649277 129.921914 \nL 81.726756 129.02904 \nL 81.194544 128.200278 \nL 80.931088 127.347958 \nL 80.917009 126.527521 \nL 81.119087 125.75916 \nL 81.605116 124.877755 \nL 82.046345 124.011241 \nL 82.10375 123.375441 \nL 81.912574 122.550726 \nL 81.219257 120.282191 \nL 79.280233 116.718569 \nL 78.630429 116.042612 \nL 78.412705 116.024673 \nL 77.721756 116.791268 \nL 77.679704 116.957331 \nL 77.861841 117.328056 \nL 78.349209 117.8754 \nL 78.505199 117.874469 \nL 78.501497 117.820383 \nL 78.470884 117.091029 \nL 78.607409 115.899668 \nL 78.899051 115.279186 \nL 79.179104 115.150033 \nL 79.595535 115.273564 \nL 80.609788 115.56499 \nL 81.439868 115.543936 \nL 82.383009 115.266169 \nL 83.048265 114.895919 \nL 83.327627 114.505427 \nL 83.371583 114.014885 \nL 82.882465 111.807445 \nL 82.334913 110.415859 \nL 81.941081 109.542603 \nL 81.27599 108.086455 \nL 80.595652 106.954123 \nL 79.594213 105.587343 \nL 79.186233 105.350988 \nL 78.642314 105.936831 \nL 78.42971 106.343274 \nL 78.639028 106.731988 \nL 79.105556 107.225999 \nL 79.253847 107.222808 \nL 79.242815 107.145207 \nL 79.21796 106.556341 \nL 79.24894 105.94151 \nL 79.24894 105.94151 \n\" style=\"fill:none;stroke:#000000;stroke-dasharray:5.55,2.4;stroke-dashoffset:0;stroke-width:1.5;\"/>\n   </g>\n   <g id=\"line2d_35\">\n    <path clip-path=\"url(#p9c3d3d62f2)\" d=\"M 134.060917 155.171707 \nL 134.889259 156.525266 \nL 135.477521 156.993886 \nL 135.32752 157.258422 \nL 135.308233 157.39128 \nL 135.303657 157.09302 \nL 134.959585 156.125472 \nL 134.818786 155.413506 \nL 132.596933 150.279028 \nL 131.100155 147.809105 \nL 130.319692 147.003455 \nL 130.183097 147.054055 \nL 129.809064 147.540243 \nL 129.445688 148.077687 \nL 129.626448 148.438108 \nL 130.120104 149.039338 \nL 130.356236 149.077017 \nL 130.351853 149.011125 \nL 130.29596 148.357955 \nL 130.402729 147.098352 \nL 130.685367 146.437726 \nL 130.96029 146.265846 \nL 131.277868 146.334831 \nL 132.861749 146.915288 \nL 134.480005 147.078261 \nL 135.291189 146.962061 \nL 135.797946 146.664142 \nL 136.008529 146.314504 \nL 136.049183 145.800761 \nL 135.666836 143.539661 \nL 135.172763 142.355716 \nL 134.760229 141.34517 \nL 134.168284 140.038448 \nL 133.62343 138.95841 \nL 131.964859 136.402907 \nL 131.388087 135.92557 \nL 131.285209 136.046751 \nL 130.944676 136.455752 \nL 130.688154 136.762214 \nL 130.688154 136.762214 \n\" style=\"fill:none;stroke:#000000;stroke-dasharray:5.55,2.4;stroke-dashoffset:0;stroke-width:1.5;\"/>\n   </g>\n   <g id=\"line2d_36\">\n    <path clip-path=\"url(#p9c3d3d62f2)\" d=\"M 89.893097 82.479468 \nL 90.816317 83.398419 \nL 91.23528 84.123048 \nL 91.336579 84.645298 \nL 91.178549 84.921518 \nL 90.891047 85.311407 \nL 90.782199 85.682245 \nL 90.524765 86.344507 \nL 91.090766 87.136968 \nL 91.569481 87.369592 \nL 91.524161 87.221747 \nL 91.825624 86.2461 \nL 92.152558 85.913634 \nL 92.583366 85.765673 \nL 92.85939 85.863722 \nL 93.035791 86.243308 \nL 93.169687 86.926513 \nL 93.233438 87.189815 \nL 93.379043 87.335181 \nL 93.285905 87.376598 \nL 93.185003 87.381242 \nL 93.573959 87.419254 \nL 93.635239 87.55708 \nL 93.406348 87.932352 \nL 93.538374 87.987608 \nL 93.771948 88.115206 \nL 93.735317 88.167495 \nL 93.603776 88.247698 \nL 93.82885 88.212062 \nL 94.275342 88.114847 \nL 94.156611 88.102421 \nL 94.194935 88.031618 \nL 94.222619 88.015494 \nL 95.395473 87.6239 \nL 95.900556 87.493454 \nL 95.292492 87.639141 \nL 95.783276 87.474568 \nL 96.09723 87.448231 \nL 96.363432 87.350993 \nL 95.973173 87.445011 \nL 96.26028 87.336729 \nL 96.914888 87.224943 \nL 96.914888 87.224943 \n\" style=\"fill:none;stroke:#000000;stroke-dasharray:5.55,2.4;stroke-dashoffset:0;stroke-width:1.5;\"/>\n   </g>\n   <g id=\"line2d_37\">\n    <path clip-path=\"url(#p9c3d3d62f2)\" d=\"M 107.396154 141.636355 \nL 107.843753 142.019962 \nL 109.136622 143.775264 \nL 109.079673 144.194694 \nL 108.978411 144.705951 \nL 109.270036 145.551271 \nL 109.60913 146.049774 \nL 110.040995 146.4946 \nL 110.112545 146.965571 \nL 110.048467 147.720426 \nL 110.853642 148.817815 \nL 111.403485 149.280428 \nL 111.508058 149.679898 \nL 111.361413 150.005039 \nL 111.320952 150.23835 \nL 111.331224 150.244684 \nL 112.49703 150.951776 \nL 113.461502 151.89631 \nL 114.47532 152.45476 \nL 115.410352 152.754159 \nL 116.880798 152.949343 \nL 117.763879 152.8027 \nL 118.340898 152.499101 \nL 118.627666 152.109974 \nL 118.692287 151.605798 \nL 118.469683 150.698547 \nL 118.149759 149.224904 \nL 117.709913 148.119026 \nL 117.313461 147.151905 \nL 116.669283 145.728231 \nL 116.097286 144.679575 \nL 114.75323 142.695291 \nL 114.264847 142.341358 \nL 114.136708 142.514837 \nL 113.573819 143.142068 \nL 113.486359 143.330598 \nL 113.66588 143.700767 \nL 114.158486 144.276613 \nL 114.329651 144.284478 \nL 114.323934 144.209306 \nL 114.274535 143.490794 \nL 114.385531 142.262101 \nL 114.658332 141.633546 \nL 114.94266 141.462333 \nL 115.332985 141.551106 \nL 116.49021 141.862529 \nL 117.41367 141.819811 \nL 118.243464 141.55201 \nL 118.810334 141.178549 \nL 119.030368 140.767158 \nL 119.015255 140.29572 \nL 118.446347 138.3469 \nL 118.446347 138.3469 \n\" style=\"fill:none;stroke:#000000;stroke-dasharray:5.55,2.4;stroke-dashoffset:0;stroke-width:1.5;\"/>\n   </g>\n   <g id=\"legend_1\">\n    <g id=\"patch_6\">\n     <path d=\"M 136.53375 44.55625 \nL 217.64 44.55625 \nQ 219.64 44.55625 219.64 42.55625 \nL 219.64 14.2 \nQ 219.64 12.2 217.64 12.2 \nL 136.53375 12.2 \nQ 134.53375 12.2 134.53375 14.2 \nL 134.53375 42.55625 \nQ 134.53375 44.55625 136.53375 44.55625 \nz\n\" style=\"fill:#ffffff;opacity:0.8;stroke:#cccccc;stroke-linejoin:miter;\"/>\n    </g>\n    <g id=\"line2d_38\">\n     <path d=\"M 138.53375 20.298437 \nL 158.53375 20.298437 \n\" style=\"fill:none;stroke:#000000;stroke-linecap:square;stroke-width:1.5;\"/>\n    </g>\n    <g id=\"line2d_39\"/>\n    <g id=\"text_15\">\n     <!-- Analytical -->\n     <g transform=\"translate(166.53375 23.798437)scale(0.1 -0.1)\">\n      <defs>\n       <path d=\"M 34.1875 63.1875 \nL 20.796875 26.90625 \nL 47.609375 26.90625 \nz\nM 28.609375 72.90625 \nL 39.796875 72.90625 \nL 67.578125 0 \nL 57.328125 0 \nL 50.6875 18.703125 \nL 17.828125 18.703125 \nL 11.1875 0 \nL 0.78125 0 \nz\n\" id=\"DejaVuSans-65\"/>\n       <path d=\"M 54.890625 33.015625 \nL 54.890625 0 \nL 45.90625 0 \nL 45.90625 32.71875 \nQ 45.90625 40.484375 42.875 44.328125 \nQ 39.84375 48.1875 33.796875 48.1875 \nQ 26.515625 48.1875 22.3125 43.546875 \nQ 18.109375 38.921875 18.109375 30.90625 \nL 18.109375 0 \nL 9.078125 0 \nL 9.078125 54.6875 \nL 18.109375 54.6875 \nL 18.109375 46.1875 \nQ 21.34375 51.125 25.703125 53.5625 \nQ 30.078125 56 35.796875 56 \nQ 45.21875 56 50.046875 50.171875 \nQ 54.890625 44.34375 54.890625 33.015625 \nz\n\" id=\"DejaVuSans-110\"/>\n       <path d=\"M 34.28125 27.484375 \nQ 23.390625 27.484375 19.1875 25 \nQ 14.984375 22.515625 14.984375 16.5 \nQ 14.984375 11.71875 18.140625 8.90625 \nQ 21.296875 6.109375 26.703125 6.109375 \nQ 34.1875 6.109375 38.703125 11.40625 \nQ 43.21875 16.703125 43.21875 25.484375 \nL 43.21875 27.484375 \nz\nM 52.203125 31.203125 \nL 52.203125 0 \nL 43.21875 0 \nL 43.21875 8.296875 \nQ 40.140625 3.328125 35.546875 0.953125 \nQ 30.953125 -1.421875 24.3125 -1.421875 \nQ 15.921875 -1.421875 10.953125 3.296875 \nQ 6 8.015625 6 15.921875 \nQ 6 25.140625 12.171875 29.828125 \nQ 18.359375 34.515625 30.609375 34.515625 \nL 43.21875 34.515625 \nL 43.21875 35.40625 \nQ 43.21875 41.609375 39.140625 45 \nQ 35.0625 48.390625 27.6875 48.390625 \nQ 23 48.390625 18.546875 47.265625 \nQ 14.109375 46.140625 10.015625 43.890625 \nL 10.015625 52.203125 \nQ 14.9375 54.109375 19.578125 55.046875 \nQ 24.21875 56 28.609375 56 \nQ 40.484375 56 46.34375 49.84375 \nQ 52.203125 43.703125 52.203125 31.203125 \nz\n\" id=\"DejaVuSans-97\"/>\n       <path d=\"M 9.421875 75.984375 \nL 18.40625 75.984375 \nL 18.40625 0 \nL 9.421875 0 \nz\n\" id=\"DejaVuSans-108\"/>\n       <path d=\"M 32.171875 -5.078125 \nQ 28.375 -14.84375 24.75 -17.8125 \nQ 21.140625 -20.796875 15.09375 -20.796875 \nL 7.90625 -20.796875 \nL 7.90625 -13.28125 \nL 13.1875 -13.28125 \nQ 16.890625 -13.28125 18.9375 -11.515625 \nQ 21 -9.765625 23.484375 -3.21875 \nL 25.09375 0.875 \nL 2.984375 54.6875 \nL 12.5 54.6875 \nL 29.59375 11.921875 \nL 46.6875 54.6875 \nL 56.203125 54.6875 \nz\n\" id=\"DejaVuSans-121\"/>\n       <path d=\"M 18.3125 70.21875 \nL 18.3125 54.6875 \nL 36.8125 54.6875 \nL 36.8125 47.703125 \nL 18.3125 47.703125 \nL 18.3125 18.015625 \nQ 18.3125 11.328125 20.140625 9.421875 \nQ 21.96875 7.515625 27.59375 7.515625 \nL 36.8125 7.515625 \nL 36.8125 0 \nL 27.59375 0 \nQ 17.1875 0 13.234375 3.875 \nQ 9.28125 7.765625 9.28125 18.015625 \nL 9.28125 47.703125 \nL 2.6875 47.703125 \nL 2.6875 54.6875 \nL 9.28125 54.6875 \nL 9.28125 70.21875 \nz\n\" id=\"DejaVuSans-116\"/>\n       <path d=\"M 9.421875 54.6875 \nL 18.40625 54.6875 \nL 18.40625 0 \nL 9.421875 0 \nz\nM 9.421875 75.984375 \nL 18.40625 75.984375 \nL 18.40625 64.59375 \nL 9.421875 64.59375 \nz\n\" id=\"DejaVuSans-105\"/>\n       <path d=\"M 48.78125 52.59375 \nL 48.78125 44.1875 \nQ 44.96875 46.296875 41.140625 47.34375 \nQ 37.3125 48.390625 33.40625 48.390625 \nQ 24.65625 48.390625 19.8125 42.84375 \nQ 14.984375 37.3125 14.984375 27.296875 \nQ 14.984375 17.28125 19.8125 11.734375 \nQ 24.65625 6.203125 33.40625 6.203125 \nQ 37.3125 6.203125 41.140625 7.25 \nQ 44.96875 8.296875 48.78125 10.40625 \nL 48.78125 2.09375 \nQ 45.015625 0.34375 40.984375 -0.53125 \nQ 36.96875 -1.421875 32.421875 -1.421875 \nQ 20.0625 -1.421875 12.78125 6.34375 \nQ 5.515625 14.109375 5.515625 27.296875 \nQ 5.515625 40.671875 12.859375 48.328125 \nQ 20.21875 56 33.015625 56 \nQ 37.15625 56 41.109375 55.140625 \nQ 45.0625 54.296875 48.78125 52.59375 \nz\n\" id=\"DejaVuSans-99\"/>\n      </defs>\n      <use xlink:href=\"#DejaVuSans-65\"/>\n      <use x=\"68.408203\" xlink:href=\"#DejaVuSans-110\"/>\n      <use x=\"131.787109\" xlink:href=\"#DejaVuSans-97\"/>\n      <use x=\"193.066406\" xlink:href=\"#DejaVuSans-108\"/>\n      <use x=\"220.849609\" xlink:href=\"#DejaVuSans-121\"/>\n      <use x=\"280.029297\" xlink:href=\"#DejaVuSans-116\"/>\n      <use x=\"319.238281\" xlink:href=\"#DejaVuSans-105\"/>\n      <use x=\"347.021484\" xlink:href=\"#DejaVuSans-99\"/>\n      <use x=\"402.001953\" xlink:href=\"#DejaVuSans-97\"/>\n      <use x=\"463.28125\" xlink:href=\"#DejaVuSans-108\"/>\n     </g>\n    </g>\n    <g id=\"line2d_40\">\n     <path d=\"M 138.53375 34.976562 \nL 158.53375 34.976562 \n\" style=\"fill:none;stroke:#000000;stroke-dasharray:5.55,2.4;stroke-dashoffset:0;stroke-width:1.5;\"/>\n    </g>\n    <g id=\"line2d_41\"/>\n    <g id=\"text_16\">\n     <!-- Naive -->\n     <g transform=\"translate(166.53375 38.476562)scale(0.1 -0.1)\">\n      <defs>\n       <path d=\"M 9.8125 72.90625 \nL 23.09375 72.90625 \nL 55.421875 11.921875 \nL 55.421875 72.90625 \nL 64.984375 72.90625 \nL 64.984375 0 \nL 51.703125 0 \nL 19.390625 60.984375 \nL 19.390625 0 \nL 9.8125 0 \nz\n\" id=\"DejaVuSans-78\"/>\n       <path d=\"M 2.984375 54.6875 \nL 12.5 54.6875 \nL 29.59375 8.796875 \nL 46.6875 54.6875 \nL 56.203125 54.6875 \nL 35.6875 0 \nL 23.484375 0 \nz\n\" id=\"DejaVuSans-118\"/>\n       <path d=\"M 56.203125 29.59375 \nL 56.203125 25.203125 \nL 14.890625 25.203125 \nQ 15.484375 15.921875 20.484375 11.0625 \nQ 25.484375 6.203125 34.421875 6.203125 \nQ 39.59375 6.203125 44.453125 7.46875 \nQ 49.3125 8.734375 54.109375 11.28125 \nL 54.109375 2.78125 \nQ 49.265625 0.734375 44.1875 -0.34375 \nQ 39.109375 -1.421875 33.890625 -1.421875 \nQ 20.796875 -1.421875 13.15625 6.1875 \nQ 5.515625 13.8125 5.515625 26.8125 \nQ 5.515625 40.234375 12.765625 48.109375 \nQ 20.015625 56 32.328125 56 \nQ 43.359375 56 49.78125 48.890625 \nQ 56.203125 41.796875 56.203125 29.59375 \nz\nM 47.21875 32.234375 \nQ 47.125 39.59375 43.09375 43.984375 \nQ 39.0625 48.390625 32.421875 48.390625 \nQ 24.90625 48.390625 20.390625 44.140625 \nQ 15.875 39.890625 15.1875 32.171875 \nz\n\" id=\"DejaVuSans-101\"/>\n      </defs>\n      <use xlink:href=\"#DejaVuSans-78\"/>\n      <use x=\"74.804688\" xlink:href=\"#DejaVuSans-97\"/>\n      <use x=\"136.083984\" xlink:href=\"#DejaVuSans-105\"/>\n      <use x=\"163.867188\" xlink:href=\"#DejaVuSans-118\"/>\n      <use x=\"223.046875\" xlink:href=\"#DejaVuSans-101\"/>\n     </g>\n    </g>\n   </g>\n  </g>\n </g>\n <defs>\n  <clipPath id=\"p9c3d3d62f2\">\n   <rect height=\"217.44\" width=\"217.44\" x=\"7.2\" y=\"7.2\"/>\n  </clipPath>\n </defs>\n</svg>\n",
            "image/png": "[encoded data removed]"
          },
          "metadata": {
            "needs_background": "light"
          }
        }
      ]
    },
    {
      "cell_type": "code",
      "metadata": {
        "id": "Fwtf86hl-_UV"
      },
      "source": [
        ""
      ],
      "execution_count": null,
      "outputs": []
    }
  ]
}