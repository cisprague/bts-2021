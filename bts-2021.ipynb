{
  "nbformat": 4,
  "nbformat_minor": 0,
  "metadata": {
    "colab": {
      "name": "bts-2021.ipynb",
      "provenance": [],
      "collapsed_sections": [],
      "toc_visible": true,
      "include_colab_link": true
    },
    "kernelspec": {
      "name": "python3",
      "display_name": "Python 3.8.10 64-bit"
    },
    "language_info": {
      "name": "python",
      "version": "3.8.10",
      "mimetype": "text/x-python",
      "codemirror_mode": {
        "name": "ipython",
        "version": 3
      },
      "pygments_lexer": "ipython3",
      "nbconvert_exporter": "python",
      "file_extension": ".py"
    },
    "accelerator": "GPU",
    "interpreter": {
      "hash": "916dbcbb3f70747c44a77c7bcd40155683ae19c65e1c03b4aa3499c5328201f1"
    },
    "widgets": {
      "application/vnd.jupyter.widget-state+json": {
        "9cc7d2ba9f2a46f4991f0c49a2ac0dc9": {
          "model_module": "@jupyter-widgets/controls",
          "model_name": "HBoxModel",
          "model_module_version": "1.5.0",
          "state": {
            "_view_name": "HBoxView",
            "_dom_classes": [],
            "_model_name": "HBoxModel",
            "_view_module": "@jupyter-widgets/controls",
            "_model_module_version": "1.5.0",
            "_view_count": null,
            "_view_module_version": "1.5.0",
            "box_style": "",
            "layout": "IPY_MODEL_ca2a842175b541928232c2c5f7f9bcb5",
            "_model_module": "@jupyter-widgets/controls",
            "children": [
              "IPY_MODEL_47792162abc94030995233dfe1bcd413",
              "IPY_MODEL_0e944465c04c4ca3aef8e98e2142774b",
              "IPY_MODEL_6d4bbfbe02ef420d823565fcaa887976"
            ]
          }
        },
        "ca2a842175b541928232c2c5f7f9bcb5": {
          "model_module": "@jupyter-widgets/base",
          "model_name": "LayoutModel",
          "model_module_version": "1.2.0",
          "state": {
            "_view_name": "LayoutView",
            "grid_template_rows": null,
            "right": null,
            "justify_content": null,
            "_view_module": "@jupyter-widgets/base",
            "overflow": null,
            "_model_module_version": "1.2.0",
            "_view_count": null,
            "flex_flow": null,
            "width": null,
            "min_width": null,
            "border": null,
            "align_items": null,
            "bottom": null,
            "_model_module": "@jupyter-widgets/base",
            "top": null,
            "grid_column": null,
            "overflow_y": null,
            "overflow_x": null,
            "grid_auto_flow": null,
            "grid_area": null,
            "grid_template_columns": null,
            "flex": null,
            "_model_name": "LayoutModel",
            "justify_items": null,
            "grid_row": null,
            "max_height": null,
            "align_content": null,
            "visibility": null,
            "align_self": null,
            "height": null,
            "min_height": null,
            "padding": null,
            "grid_auto_rows": null,
            "grid_gap": null,
            "max_width": null,
            "order": null,
            "_view_module_version": "1.2.0",
            "grid_template_areas": null,
            "object_position": null,
            "object_fit": null,
            "grid_auto_columns": null,
            "margin": null,
            "display": null,
            "left": null
          }
        },
        "47792162abc94030995233dfe1bcd413": {
          "model_module": "@jupyter-widgets/controls",
          "model_name": "HTMLModel",
          "model_module_version": "1.5.0",
          "state": {
            "_view_name": "HTMLView",
            "style": "IPY_MODEL_2d6deb588f5f47239a99c3d864a4ab00",
            "_dom_classes": [],
            "description": "",
            "_model_name": "HTMLModel",
            "placeholder": "​",
            "_view_module": "@jupyter-widgets/controls",
            "_model_module_version": "1.5.0",
            "value": "89686.976562:   5%",
            "_view_count": null,
            "_view_module_version": "1.5.0",
            "description_tooltip": null,
            "_model_module": "@jupyter-widgets/controls",
            "layout": "IPY_MODEL_66bc125af55f4e2caddd8adb2cb12caf"
          }
        },
        "0e944465c04c4ca3aef8e98e2142774b": {
          "model_module": "@jupyter-widgets/controls",
          "model_name": "FloatProgressModel",
          "model_module_version": "1.5.0",
          "state": {
            "_view_name": "ProgressView",
            "style": "IPY_MODEL_463728a64ebe498c8dc2db33568ffdf3",
            "_dom_classes": [],
            "description": "",
            "_model_name": "FloatProgressModel",
            "bar_style": "danger",
            "max": 5000,
            "_view_module": "@jupyter-widgets/controls",
            "_model_module_version": "1.5.0",
            "value": 233,
            "_view_count": null,
            "_view_module_version": "1.5.0",
            "orientation": "horizontal",
            "min": 0,
            "description_tooltip": null,
            "_model_module": "@jupyter-widgets/controls",
            "layout": "IPY_MODEL_fe0e97edaa1f4490ad437c50d84e917c"
          }
        },
        "6d4bbfbe02ef420d823565fcaa887976": {
          "model_module": "@jupyter-widgets/controls",
          "model_name": "HTMLModel",
          "model_module_version": "1.5.0",
          "state": {
            "_view_name": "HTMLView",
            "style": "IPY_MODEL_ea38d6387efa49faa7b0fb16c3db92b7",
            "_dom_classes": [],
            "description": "",
            "_model_name": "HTMLModel",
            "placeholder": "​",
            "_view_module": "@jupyter-widgets/controls",
            "_model_module_version": "1.5.0",
            "value": " 233/5000 [00:07&lt;02:24, 32.88it/s]",
            "_view_count": null,
            "_view_module_version": "1.5.0",
            "description_tooltip": null,
            "_model_module": "@jupyter-widgets/controls",
            "layout": "IPY_MODEL_31629ca414bf4b89a30ccd0e6e18d53a"
          }
        },
        "2d6deb588f5f47239a99c3d864a4ab00": {
          "model_module": "@jupyter-widgets/controls",
          "model_name": "DescriptionStyleModel",
          "model_module_version": "1.5.0",
          "state": {
            "_view_name": "StyleView",
            "_model_name": "DescriptionStyleModel",
            "description_width": "",
            "_view_module": "@jupyter-widgets/base",
            "_model_module_version": "1.5.0",
            "_view_count": null,
            "_view_module_version": "1.2.0",
            "_model_module": "@jupyter-widgets/controls"
          }
        },
        "66bc125af55f4e2caddd8adb2cb12caf": {
          "model_module": "@jupyter-widgets/base",
          "model_name": "LayoutModel",
          "model_module_version": "1.2.0",
          "state": {
            "_view_name": "LayoutView",
            "grid_template_rows": null,
            "right": null,
            "justify_content": null,
            "_view_module": "@jupyter-widgets/base",
            "overflow": null,
            "_model_module_version": "1.2.0",
            "_view_count": null,
            "flex_flow": null,
            "width": null,
            "min_width": null,
            "border": null,
            "align_items": null,
            "bottom": null,
            "_model_module": "@jupyter-widgets/base",
            "top": null,
            "grid_column": null,
            "overflow_y": null,
            "overflow_x": null,
            "grid_auto_flow": null,
            "grid_area": null,
            "grid_template_columns": null,
            "flex": null,
            "_model_name": "LayoutModel",
            "justify_items": null,
            "grid_row": null,
            "max_height": null,
            "align_content": null,
            "visibility": null,
            "align_self": null,
            "height": null,
            "min_height": null,
            "padding": null,
            "grid_auto_rows": null,
            "grid_gap": null,
            "max_width": null,
            "order": null,
            "_view_module_version": "1.2.0",
            "grid_template_areas": null,
            "object_position": null,
            "object_fit": null,
            "grid_auto_columns": null,
            "margin": null,
            "display": null,
            "left": null
          }
        },
        "463728a64ebe498c8dc2db33568ffdf3": {
          "model_module": "@jupyter-widgets/controls",
          "model_name": "ProgressStyleModel",
          "model_module_version": "1.5.0",
          "state": {
            "_view_name": "StyleView",
            "_model_name": "ProgressStyleModel",
            "description_width": "",
            "_view_module": "@jupyter-widgets/base",
            "_model_module_version": "1.5.0",
            "_view_count": null,
            "_view_module_version": "1.2.0",
            "bar_color": null,
            "_model_module": "@jupyter-widgets/controls"
          }
        },
        "fe0e97edaa1f4490ad437c50d84e917c": {
          "model_module": "@jupyter-widgets/base",
          "model_name": "LayoutModel",
          "model_module_version": "1.2.0",
          "state": {
            "_view_name": "LayoutView",
            "grid_template_rows": null,
            "right": null,
            "justify_content": null,
            "_view_module": "@jupyter-widgets/base",
            "overflow": null,
            "_model_module_version": "1.2.0",
            "_view_count": null,
            "flex_flow": null,
            "width": null,
            "min_width": null,
            "border": null,
            "align_items": null,
            "bottom": null,
            "_model_module": "@jupyter-widgets/base",
            "top": null,
            "grid_column": null,
            "overflow_y": null,
            "overflow_x": null,
            "grid_auto_flow": null,
            "grid_area": null,
            "grid_template_columns": null,
            "flex": null,
            "_model_name": "LayoutModel",
            "justify_items": null,
            "grid_row": null,
            "max_height": null,
            "align_content": null,
            "visibility": null,
            "align_self": null,
            "height": null,
            "min_height": null,
            "padding": null,
            "grid_auto_rows": null,
            "grid_gap": null,
            "max_width": null,
            "order": null,
            "_view_module_version": "1.2.0",
            "grid_template_areas": null,
            "object_position": null,
            "object_fit": null,
            "grid_auto_columns": null,
            "margin": null,
            "display": null,
            "left": null
          }
        },
        "ea38d6387efa49faa7b0fb16c3db92b7": {
          "model_module": "@jupyter-widgets/controls",
          "model_name": "DescriptionStyleModel",
          "model_module_version": "1.5.0",
          "state": {
            "_view_name": "StyleView",
            "_model_name": "DescriptionStyleModel",
            "description_width": "",
            "_view_module": "@jupyter-widgets/base",
            "_model_module_version": "1.5.0",
            "_view_count": null,
            "_view_module_version": "1.2.0",
            "_model_module": "@jupyter-widgets/controls"
          }
        },
        "31629ca414bf4b89a30ccd0e6e18d53a": {
          "model_module": "@jupyter-widgets/base",
          "model_name": "LayoutModel",
          "model_module_version": "1.2.0",
          "state": {
            "_view_name": "LayoutView",
            "grid_template_rows": null,
            "right": null,
            "justify_content": null,
            "_view_module": "@jupyter-widgets/base",
            "overflow": null,
            "_model_module_version": "1.2.0",
            "_view_count": null,
            "flex_flow": null,
            "width": null,
            "min_width": null,
            "border": null,
            "align_items": null,
            "bottom": null,
            "_model_module": "@jupyter-widgets/base",
            "top": null,
            "grid_column": null,
            "overflow_y": null,
            "overflow_x": null,
            "grid_auto_flow": null,
            "grid_area": null,
            "grid_template_columns": null,
            "flex": null,
            "_model_name": "LayoutModel",
            "justify_items": null,
            "grid_row": null,
            "max_height": null,
            "align_content": null,
            "visibility": null,
            "align_self": null,
            "height": null,
            "min_height": null,
            "padding": null,
            "grid_auto_rows": null,
            "grid_gap": null,
            "max_width": null,
            "order": null,
            "_view_module_version": "1.2.0",
            "grid_template_areas": null,
            "object_position": null,
            "object_fit": null,
            "grid_auto_columns": null,
            "margin": null,
            "display": null,
            "left": null
          }
        },
        "00d82fd1b1f54818a1edf4e18adf7c34": {
          "model_module": "@jupyter-widgets/controls",
          "model_name": "HBoxModel",
          "model_module_version": "1.5.0",
          "state": {
            "_view_name": "HBoxView",
            "_dom_classes": [],
            "_model_name": "HBoxModel",
            "_view_module": "@jupyter-widgets/controls",
            "_model_module_version": "1.5.0",
            "_view_count": null,
            "_view_module_version": "1.5.0",
            "box_style": "",
            "layout": "IPY_MODEL_da48fb76646b48ef80a315fd11aab6e0",
            "_model_module": "@jupyter-widgets/controls",
            "children": [
              "IPY_MODEL_888f98d0a66441119037226510555933",
              "IPY_MODEL_777da975a1a24ffda9dae14b46c0ed0d",
              "IPY_MODEL_aafdb8bf6a7249a7b3b674764d768bc8"
            ]
          }
        },
        "da48fb76646b48ef80a315fd11aab6e0": {
          "model_module": "@jupyter-widgets/base",
          "model_name": "LayoutModel",
          "model_module_version": "1.2.0",
          "state": {
            "_view_name": "LayoutView",
            "grid_template_rows": null,
            "right": null,
            "justify_content": null,
            "_view_module": "@jupyter-widgets/base",
            "overflow": null,
            "_model_module_version": "1.2.0",
            "_view_count": null,
            "flex_flow": null,
            "width": null,
            "min_width": null,
            "border": null,
            "align_items": null,
            "bottom": null,
            "_model_module": "@jupyter-widgets/base",
            "top": null,
            "grid_column": null,
            "overflow_y": null,
            "overflow_x": null,
            "grid_auto_flow": null,
            "grid_area": null,
            "grid_template_columns": null,
            "flex": null,
            "_model_name": "LayoutModel",
            "justify_items": null,
            "grid_row": null,
            "max_height": null,
            "align_content": null,
            "visibility": null,
            "align_self": null,
            "height": null,
            "min_height": null,
            "padding": null,
            "grid_auto_rows": null,
            "grid_gap": null,
            "max_width": null,
            "order": null,
            "_view_module_version": "1.2.0",
            "grid_template_areas": null,
            "object_position": null,
            "object_fit": null,
            "grid_auto_columns": null,
            "margin": null,
            "display": null,
            "left": null
          }
        },
        "888f98d0a66441119037226510555933": {
          "model_module": "@jupyter-widgets/controls",
          "model_name": "HTMLModel",
          "model_module_version": "1.5.0",
          "state": {
            "_view_name": "HTMLView",
            "style": "IPY_MODEL_08c736958c5e4d638393e052afc7b0c3",
            "_dom_classes": [],
            "description": "",
            "_model_name": "HTMLModel",
            "placeholder": "​",
            "_view_module": "@jupyter-widgets/controls",
            "_model_module_version": "1.5.0",
            "value": "0.182791: 100%",
            "_view_count": null,
            "_view_module_version": "1.5.0",
            "description_tooltip": null,
            "_model_module": "@jupyter-widgets/controls",
            "layout": "IPY_MODEL_857d1f124d64468a9f2eb1f8df7c7cf5"
          }
        },
        "777da975a1a24ffda9dae14b46c0ed0d": {
          "model_module": "@jupyter-widgets/controls",
          "model_name": "FloatProgressModel",
          "model_module_version": "1.5.0",
          "state": {
            "_view_name": "ProgressView",
            "style": "IPY_MODEL_6c9b8d986f444de58776dce2d8d95895",
            "_dom_classes": [],
            "description": "",
            "_model_name": "FloatProgressModel",
            "bar_style": "success",
            "max": 5000,
            "_view_module": "@jupyter-widgets/controls",
            "_model_module_version": "1.5.0",
            "value": 5000,
            "_view_count": null,
            "_view_module_version": "1.5.0",
            "orientation": "horizontal",
            "min": 0,
            "description_tooltip": null,
            "_model_module": "@jupyter-widgets/controls",
            "layout": "IPY_MODEL_3d7438f9c6b1439aa34c2a843a079b36"
          }
        },
        "aafdb8bf6a7249a7b3b674764d768bc8": {
          "model_module": "@jupyter-widgets/controls",
          "model_name": "HTMLModel",
          "model_module_version": "1.5.0",
          "state": {
            "_view_name": "HTMLView",
            "style": "IPY_MODEL_8e0144dd40e24f14b742315fff8aa6ca",
            "_dom_classes": [],
            "description": "",
            "_model_name": "HTMLModel",
            "placeholder": "​",
            "_view_module": "@jupyter-widgets/controls",
            "_model_module_version": "1.5.0",
            "value": " 5000/5000 [09:41&lt;00:00,  7.62it/s]",
            "_view_count": null,
            "_view_module_version": "1.5.0",
            "description_tooltip": null,
            "_model_module": "@jupyter-widgets/controls",
            "layout": "IPY_MODEL_79fa0c2330cb47cc93f45b7315704734"
          }
        },
        "08c736958c5e4d638393e052afc7b0c3": {
          "model_module": "@jupyter-widgets/controls",
          "model_name": "DescriptionStyleModel",
          "model_module_version": "1.5.0",
          "state": {
            "_view_name": "StyleView",
            "_model_name": "DescriptionStyleModel",
            "description_width": "",
            "_view_module": "@jupyter-widgets/base",
            "_model_module_version": "1.5.0",
            "_view_count": null,
            "_view_module_version": "1.2.0",
            "_model_module": "@jupyter-widgets/controls"
          }
        },
        "857d1f124d64468a9f2eb1f8df7c7cf5": {
          "model_module": "@jupyter-widgets/base",
          "model_name": "LayoutModel",
          "model_module_version": "1.2.0",
          "state": {
            "_view_name": "LayoutView",
            "grid_template_rows": null,
            "right": null,
            "justify_content": null,
            "_view_module": "@jupyter-widgets/base",
            "overflow": null,
            "_model_module_version": "1.2.0",
            "_view_count": null,
            "flex_flow": null,
            "width": null,
            "min_width": null,
            "border": null,
            "align_items": null,
            "bottom": null,
            "_model_module": "@jupyter-widgets/base",
            "top": null,
            "grid_column": null,
            "overflow_y": null,
            "overflow_x": null,
            "grid_auto_flow": null,
            "grid_area": null,
            "grid_template_columns": null,
            "flex": null,
            "_model_name": "LayoutModel",
            "justify_items": null,
            "grid_row": null,
            "max_height": null,
            "align_content": null,
            "visibility": null,
            "align_self": null,
            "height": null,
            "min_height": null,
            "padding": null,
            "grid_auto_rows": null,
            "grid_gap": null,
            "max_width": null,
            "order": null,
            "_view_module_version": "1.2.0",
            "grid_template_areas": null,
            "object_position": null,
            "object_fit": null,
            "grid_auto_columns": null,
            "margin": null,
            "display": null,
            "left": null
          }
        },
        "6c9b8d986f444de58776dce2d8d95895": {
          "model_module": "@jupyter-widgets/controls",
          "model_name": "ProgressStyleModel",
          "model_module_version": "1.5.0",
          "state": {
            "_view_name": "StyleView",
            "_model_name": "ProgressStyleModel",
            "description_width": "",
            "_view_module": "@jupyter-widgets/base",
            "_model_module_version": "1.5.0",
            "_view_count": null,
            "_view_module_version": "1.2.0",
            "bar_color": null,
            "_model_module": "@jupyter-widgets/controls"
          }
        },
        "3d7438f9c6b1439aa34c2a843a079b36": {
          "model_module": "@jupyter-widgets/base",
          "model_name": "LayoutModel",
          "model_module_version": "1.2.0",
          "state": {
            "_view_name": "LayoutView",
            "grid_template_rows": null,
            "right": null,
            "justify_content": null,
            "_view_module": "@jupyter-widgets/base",
            "overflow": null,
            "_model_module_version": "1.2.0",
            "_view_count": null,
            "flex_flow": null,
            "width": null,
            "min_width": null,
            "border": null,
            "align_items": null,
            "bottom": null,
            "_model_module": "@jupyter-widgets/base",
            "top": null,
            "grid_column": null,
            "overflow_y": null,
            "overflow_x": null,
            "grid_auto_flow": null,
            "grid_area": null,
            "grid_template_columns": null,
            "flex": null,
            "_model_name": "LayoutModel",
            "justify_items": null,
            "grid_row": null,
            "max_height": null,
            "align_content": null,
            "visibility": null,
            "align_self": null,
            "height": null,
            "min_height": null,
            "padding": null,
            "grid_auto_rows": null,
            "grid_gap": null,
            "max_width": null,
            "order": null,
            "_view_module_version": "1.2.0",
            "grid_template_areas": null,
            "object_position": null,
            "object_fit": null,
            "grid_auto_columns": null,
            "margin": null,
            "display": null,
            "left": null
          }
        },
        "8e0144dd40e24f14b742315fff8aa6ca": {
          "model_module": "@jupyter-widgets/controls",
          "model_name": "DescriptionStyleModel",
          "model_module_version": "1.5.0",
          "state": {
            "_view_name": "StyleView",
            "_model_name": "DescriptionStyleModel",
            "description_width": "",
            "_view_module": "@jupyter-widgets/base",
            "_model_module_version": "1.5.0",
            "_view_count": null,
            "_view_module_version": "1.2.0",
            "_model_module": "@jupyter-widgets/controls"
          }
        },
        "79fa0c2330cb47cc93f45b7315704734": {
          "model_module": "@jupyter-widgets/base",
          "model_name": "LayoutModel",
          "model_module_version": "1.2.0",
          "state": {
            "_view_name": "LayoutView",
            "grid_template_rows": null,
            "right": null,
            "justify_content": null,
            "_view_module": "@jupyter-widgets/base",
            "overflow": null,
            "_model_module_version": "1.2.0",
            "_view_count": null,
            "flex_flow": null,
            "width": null,
            "min_width": null,
            "border": null,
            "align_items": null,
            "bottom": null,
            "_model_module": "@jupyter-widgets/base",
            "top": null,
            "grid_column": null,
            "overflow_y": null,
            "overflow_x": null,
            "grid_auto_flow": null,
            "grid_area": null,
            "grid_template_columns": null,
            "flex": null,
            "_model_name": "LayoutModel",
            "justify_items": null,
            "grid_row": null,
            "max_height": null,
            "align_content": null,
            "visibility": null,
            "align_self": null,
            "height": null,
            "min_height": null,
            "padding": null,
            "grid_auto_rows": null,
            "grid_gap": null,
            "max_width": null,
            "order": null,
            "_view_module_version": "1.2.0",
            "grid_template_areas": null,
            "object_position": null,
            "object_fit": null,
            "grid_auto_columns": null,
            "margin": null,
            "display": null,
            "left": null
          }
        },
        "da32618327014f359e973f532684c523": {
          "model_module": "@jupyter-widgets/controls",
          "model_name": "HBoxModel",
          "model_module_version": "1.5.0",
          "state": {
            "_view_name": "HBoxView",
            "_dom_classes": [],
            "_model_name": "HBoxModel",
            "_view_module": "@jupyter-widgets/controls",
            "_model_module_version": "1.5.0",
            "_view_count": null,
            "_view_module_version": "1.5.0",
            "box_style": "",
            "layout": "IPY_MODEL_0b1b4a3d66384fa0b83c360c2bce89e7",
            "_model_module": "@jupyter-widgets/controls",
            "children": [
              "IPY_MODEL_3d1c3e3215e0430781494387a9350b30",
              "IPY_MODEL_270835382b9e42bb9fd30284ce3ce706",
              "IPY_MODEL_3e5aa66d9f0742a9a3f16afe49abdcbd"
            ]
          }
        },
        "0b1b4a3d66384fa0b83c360c2bce89e7": {
          "model_module": "@jupyter-widgets/base",
          "model_name": "LayoutModel",
          "model_module_version": "1.2.0",
          "state": {
            "_view_name": "LayoutView",
            "grid_template_rows": null,
            "right": null,
            "justify_content": null,
            "_view_module": "@jupyter-widgets/base",
            "overflow": null,
            "_model_module_version": "1.2.0",
            "_view_count": null,
            "flex_flow": null,
            "width": null,
            "min_width": null,
            "border": null,
            "align_items": null,
            "bottom": null,
            "_model_module": "@jupyter-widgets/base",
            "top": null,
            "grid_column": null,
            "overflow_y": null,
            "overflow_x": null,
            "grid_auto_flow": null,
            "grid_area": null,
            "grid_template_columns": null,
            "flex": null,
            "_model_name": "LayoutModel",
            "justify_items": null,
            "grid_row": null,
            "max_height": null,
            "align_content": null,
            "visibility": null,
            "align_self": null,
            "height": null,
            "min_height": null,
            "padding": null,
            "grid_auto_rows": null,
            "grid_gap": null,
            "max_width": null,
            "order": null,
            "_view_module_version": "1.2.0",
            "grid_template_areas": null,
            "object_position": null,
            "object_fit": null,
            "grid_auto_columns": null,
            "margin": null,
            "display": null,
            "left": null
          }
        },
        "3d1c3e3215e0430781494387a9350b30": {
          "model_module": "@jupyter-widgets/controls",
          "model_name": "HTMLModel",
          "model_module_version": "1.5.0",
          "state": {
            "_view_name": "HTMLView",
            "style": "IPY_MODEL_f985385e1c3d4b4895c400cb4d969efd",
            "_dom_classes": [],
            "description": "",
            "_model_name": "HTMLModel",
            "placeholder": "​",
            "_view_module": "@jupyter-widgets/controls",
            "_model_module_version": "1.5.0",
            "value": "19.758547: 100%",
            "_view_count": null,
            "_view_module_version": "1.5.0",
            "description_tooltip": null,
            "_model_module": "@jupyter-widgets/controls",
            "layout": "IPY_MODEL_666efaf883614bbf8ee54791fd6b8550"
          }
        },
        "270835382b9e42bb9fd30284ce3ce706": {
          "model_module": "@jupyter-widgets/controls",
          "model_name": "FloatProgressModel",
          "model_module_version": "1.5.0",
          "state": {
            "_view_name": "ProgressView",
            "style": "IPY_MODEL_e5911272b13d4f2389840bcae3d9d0bc",
            "_dom_classes": [],
            "description": "",
            "_model_name": "FloatProgressModel",
            "bar_style": "success",
            "max": 5000,
            "_view_module": "@jupyter-widgets/controls",
            "_model_module_version": "1.5.0",
            "value": 5000,
            "_view_count": null,
            "_view_module_version": "1.5.0",
            "orientation": "horizontal",
            "min": 0,
            "description_tooltip": null,
            "_model_module": "@jupyter-widgets/controls",
            "layout": "IPY_MODEL_0d58cd17a5a4432a9120fe04156e2dda"
          }
        },
        "3e5aa66d9f0742a9a3f16afe49abdcbd": {
          "model_module": "@jupyter-widgets/controls",
          "model_name": "HTMLModel",
          "model_module_version": "1.5.0",
          "state": {
            "_view_name": "HTMLView",
            "style": "IPY_MODEL_7be0eb0720aa47539459d3d001def911",
            "_dom_classes": [],
            "description": "",
            "_model_name": "HTMLModel",
            "placeholder": "​",
            "_view_module": "@jupyter-widgets/controls",
            "_model_module_version": "1.5.0",
            "value": " 5000/5000 [08:48&lt;00:00,  9.31it/s]",
            "_view_count": null,
            "_view_module_version": "1.5.0",
            "description_tooltip": null,
            "_model_module": "@jupyter-widgets/controls",
            "layout": "IPY_MODEL_31b76fb93c95496c9a8b46a04e3c2f24"
          }
        },
        "f985385e1c3d4b4895c400cb4d969efd": {
          "model_module": "@jupyter-widgets/controls",
          "model_name": "DescriptionStyleModel",
          "model_module_version": "1.5.0",
          "state": {
            "_view_name": "StyleView",
            "_model_name": "DescriptionStyleModel",
            "description_width": "",
            "_view_module": "@jupyter-widgets/base",
            "_model_module_version": "1.5.0",
            "_view_count": null,
            "_view_module_version": "1.2.0",
            "_model_module": "@jupyter-widgets/controls"
          }
        },
        "666efaf883614bbf8ee54791fd6b8550": {
          "model_module": "@jupyter-widgets/base",
          "model_name": "LayoutModel",
          "model_module_version": "1.2.0",
          "state": {
            "_view_name": "LayoutView",
            "grid_template_rows": null,
            "right": null,
            "justify_content": null,
            "_view_module": "@jupyter-widgets/base",
            "overflow": null,
            "_model_module_version": "1.2.0",
            "_view_count": null,
            "flex_flow": null,
            "width": null,
            "min_width": null,
            "border": null,
            "align_items": null,
            "bottom": null,
            "_model_module": "@jupyter-widgets/base",
            "top": null,
            "grid_column": null,
            "overflow_y": null,
            "overflow_x": null,
            "grid_auto_flow": null,
            "grid_area": null,
            "grid_template_columns": null,
            "flex": null,
            "_model_name": "LayoutModel",
            "justify_items": null,
            "grid_row": null,
            "max_height": null,
            "align_content": null,
            "visibility": null,
            "align_self": null,
            "height": null,
            "min_height": null,
            "padding": null,
            "grid_auto_rows": null,
            "grid_gap": null,
            "max_width": null,
            "order": null,
            "_view_module_version": "1.2.0",
            "grid_template_areas": null,
            "object_position": null,
            "object_fit": null,
            "grid_auto_columns": null,
            "margin": null,
            "display": null,
            "left": null
          }
        },
        "e5911272b13d4f2389840bcae3d9d0bc": {
          "model_module": "@jupyter-widgets/controls",
          "model_name": "ProgressStyleModel",
          "model_module_version": "1.5.0",
          "state": {
            "_view_name": "StyleView",
            "_model_name": "ProgressStyleModel",
            "description_width": "",
            "_view_module": "@jupyter-widgets/base",
            "_model_module_version": "1.5.0",
            "_view_count": null,
            "_view_module_version": "1.2.0",
            "bar_color": null,
            "_model_module": "@jupyter-widgets/controls"
          }
        },
        "0d58cd17a5a4432a9120fe04156e2dda": {
          "model_module": "@jupyter-widgets/base",
          "model_name": "LayoutModel",
          "model_module_version": "1.2.0",
          "state": {
            "_view_name": "LayoutView",
            "grid_template_rows": null,
            "right": null,
            "justify_content": null,
            "_view_module": "@jupyter-widgets/base",
            "overflow": null,
            "_model_module_version": "1.2.0",
            "_view_count": null,
            "flex_flow": null,
            "width": null,
            "min_width": null,
            "border": null,
            "align_items": null,
            "bottom": null,
            "_model_module": "@jupyter-widgets/base",
            "top": null,
            "grid_column": null,
            "overflow_y": null,
            "overflow_x": null,
            "grid_auto_flow": null,
            "grid_area": null,
            "grid_template_columns": null,
            "flex": null,
            "_model_name": "LayoutModel",
            "justify_items": null,
            "grid_row": null,
            "max_height": null,
            "align_content": null,
            "visibility": null,
            "align_self": null,
            "height": null,
            "min_height": null,
            "padding": null,
            "grid_auto_rows": null,
            "grid_gap": null,
            "max_width": null,
            "order": null,
            "_view_module_version": "1.2.0",
            "grid_template_areas": null,
            "object_position": null,
            "object_fit": null,
            "grid_auto_columns": null,
            "margin": null,
            "display": null,
            "left": null
          }
        },
        "7be0eb0720aa47539459d3d001def911": {
          "model_module": "@jupyter-widgets/controls",
          "model_name": "DescriptionStyleModel",
          "model_module_version": "1.5.0",
          "state": {
            "_view_name": "StyleView",
            "_model_name": "DescriptionStyleModel",
            "description_width": "",
            "_view_module": "@jupyter-widgets/base",
            "_model_module_version": "1.5.0",
            "_view_count": null,
            "_view_module_version": "1.2.0",
            "_model_module": "@jupyter-widgets/controls"
          }
        },
        "31b76fb93c95496c9a8b46a04e3c2f24": {
          "model_module": "@jupyter-widgets/base",
          "model_name": "LayoutModel",
          "model_module_version": "1.2.0",
          "state": {
            "_view_name": "LayoutView",
            "grid_template_rows": null,
            "right": null,
            "justify_content": null,
            "_view_module": "@jupyter-widgets/base",
            "overflow": null,
            "_model_module_version": "1.2.0",
            "_view_count": null,
            "flex_flow": null,
            "width": null,
            "min_width": null,
            "border": null,
            "align_items": null,
            "bottom": null,
            "_model_module": "@jupyter-widgets/base",
            "top": null,
            "grid_column": null,
            "overflow_y": null,
            "overflow_x": null,
            "grid_auto_flow": null,
            "grid_area": null,
            "grid_template_columns": null,
            "flex": null,
            "_model_name": "LayoutModel",
            "justify_items": null,
            "grid_row": null,
            "max_height": null,
            "align_content": null,
            "visibility": null,
            "align_self": null,
            "height": null,
            "min_height": null,
            "padding": null,
            "grid_auto_rows": null,
            "grid_gap": null,
            "max_width": null,
            "order": null,
            "_view_module_version": "1.2.0",
            "grid_template_areas": null,
            "object_position": null,
            "object_fit": null,
            "grid_auto_columns": null,
            "margin": null,
            "display": null,
            "left": null
          }
        }
      }
    }
  },
  "cells": [
    {
      "cell_type": "markdown",
      "metadata": {
        "id": "view-in-github",
        "colab_type": "text"
      },
      "source": [
        "<a href=\"https://colab.research.google.com/github/cisprague/bts-2021/blob/main/bts-2021.ipynb\" target=\"_parent\"><img src=\"https://colab.research.google.com/assets/colab-badge.svg\" alt=\"Open In Colab\"/></a>"
      ]
    },
    {
      "cell_type": "markdown",
      "metadata": {
        "id": "XOFl1RKPjdt_"
      },
      "source": [
        "# System identification of AUVs with physics-informed learning\n",
        "\n",
        "Christopher Iliffe Sprague (sprague@kth.se)\n",
        "\n",
        "Sriharsha Bhat (svbhat@kth.se)"
      ]
    },
    {
      "cell_type": "markdown",
      "metadata": {
        "id": "yEzpfNjMjz7Y"
      },
      "source": [
        "# Outline\n",
        "\n",
        "- Background\n",
        "- What's the benefit?\n",
        "- Data generation\n",
        "- Model identification\n",
        "- Simulation\n",
        "- Discussion and future work"
      ]
    },
    {
      "cell_type": "markdown",
      "metadata": {
        "id": "Ke5En5u7mzJ8"
      },
      "source": [
        "# Resources"
      ]
    },
    {
      "cell_type": "code",
      "metadata": {
        "id": "MbwNlmTpmyru",
        "colab": {
          "base_uri": "https://localhost:8080/"
        },
        "outputId": "c75f01e6-f99d-4909-be93-8515d7b811f1"
      },
      "source": [
        "# JAX for autograd and and numerics\n",
        "! pip install --upgrade pip\n",
        "! pip install --upgrade \"jax[cuda101]\" -f https://storage.googleapis.com/jax-releases/jax_releases.html\n",
        "import jax.numpy as np\n",
        "from jax import jit, vmap, jacobian, hessian, grad\n",
        "from jax.experimental.ode import odeint\n",
        "from jax.random import uniform, choice\n",
        "from jax.nn import softplus\n",
        "from jax.lax import stop_gradient\n",
        "\n",
        "# Haiku for neural networks\n",
        "! pip install git+https://github.com/deepmind/dm-haiku\n",
        "import haiku as hk\n",
        "\n",
        "# Optax for optimisation\n",
        "! pip install git+https://github.com/deepmind/optax\n",
        "import optax\n",
        "\n",
        "# TQDM for training loop feedback\n",
        "! pip install tqdm\n",
        "from tqdm.notebook import tqdm\n",
        "\n",
        "# SKLearn for preprocessing data\n",
        "from sklearn.preprocessing import StandardScaler\n",
        "\n",
        "# treating some arguments as static\n",
        "from functools import partial\n",
        "\n",
        "# computer algebra\n",
        "import sympy\n",
        "\n",
        "# matplotlib for plotting\n",
        "import matplotlib.pyplot as plt\n",
        "from mpl_toolkits.mplot3d import Axes3D\n",
        "%matplotlib inline"
      ],
      "execution_count": 1,
      "outputs": [
        {
          "output_type": "stream",
          "text": [
            "Requirement already satisfied: pip in /usr/local/lib/python3.7/dist-packages (21.1.3)\n",
            "Collecting pip\n",
            "  Downloading pip-21.2.4-py3-none-any.whl (1.6 MB)\n",
            "\u001b[K     |████████████████████████████████| 1.6 MB 5.3 MB/s \n",
            "\u001b[?25hInstalling collected packages: pip\n",
            "  Attempting uninstall: pip\n",
            "    Found existing installation: pip 21.1.3\n",
            "    Uninstalling pip-21.1.3:\n",
            "      Successfully uninstalled pip-21.1.3\n",
            "Successfully installed pip-21.2.4\n",
            "Looking in links: https://storage.googleapis.com/jax-releases/jax_releases.html\n",
            "Requirement already satisfied: jax[cuda101] in /usr/local/lib/python3.7/dist-packages (0.2.19)\n",
            "Requirement already satisfied: absl-py in /usr/local/lib/python3.7/dist-packages (from jax[cuda101]) (0.12.0)\n",
            "Requirement already satisfied: numpy>=1.18 in /usr/local/lib/python3.7/dist-packages (from jax[cuda101]) (1.19.5)\n",
            "Requirement already satisfied: opt-einsum in /usr/local/lib/python3.7/dist-packages (from jax[cuda101]) (3.3.0)\n",
            "Collecting jaxlib==0.1.70+cuda101\n",
            "  Downloading https://storage.googleapis.com/jax-releases/cuda101/jaxlib-0.1.70%2Bcuda101-cp37-none-manylinux2010_x86_64.whl (165.8 MB)\n",
            "\u001b[K     |████████████████████████████████| 165.8 MB 19 kB/s \n",
            "\u001b[?25hRequirement already satisfied: scipy in /usr/local/lib/python3.7/dist-packages (from jaxlib==0.1.70+cuda101->jax[cuda101]) (1.4.1)\n",
            "Requirement already satisfied: flatbuffers<3.0,>=1.12 in /usr/local/lib/python3.7/dist-packages (from jaxlib==0.1.70+cuda101->jax[cuda101]) (1.12)\n",
            "Requirement already satisfied: six in /usr/local/lib/python3.7/dist-packages (from absl-py->jax[cuda101]) (1.15.0)\n",
            "Installing collected packages: jaxlib\n",
            "  Attempting uninstall: jaxlib\n",
            "    Found existing installation: jaxlib 0.1.70+cuda110\n",
            "    Uninstalling jaxlib-0.1.70+cuda110:\n",
            "      Successfully uninstalled jaxlib-0.1.70+cuda110\n",
            "Successfully installed jaxlib-0.1.70+cuda101\n",
            "\u001b[33mWARNING: Running pip as the 'root' user can result in broken permissions and conflicting behaviour with the system package manager. It is recommended to use a virtual environment instead: https://pip.pypa.io/warnings/venv\u001b[0m\n",
            "Collecting git+https://github.com/deepmind/dm-haiku\n",
            "  Cloning https://github.com/deepmind/dm-haiku to /tmp/pip-req-build-p9h55cf3\n",
            "  Running command git clone -q https://github.com/deepmind/dm-haiku /tmp/pip-req-build-p9h55cf3\n",
            "  Resolved https://github.com/deepmind/dm-haiku to commit 2e90d5deefea23e807c7e55e7cedd0a9a56e83b6\n",
            "Requirement already satisfied: absl-py>=0.7.1 in /usr/local/lib/python3.7/dist-packages (from dm-haiku==0.0.5.dev0) (0.12.0)\n",
            "Collecting jmp>=0.0.2\n",
            "  Downloading jmp-0.0.2-py3-none-any.whl (16 kB)\n",
            "Requirement already satisfied: numpy>=1.18.0 in /usr/local/lib/python3.7/dist-packages (from dm-haiku==0.0.5.dev0) (1.19.5)\n",
            "Requirement already satisfied: tabulate>=0.8.9 in /usr/local/lib/python3.7/dist-packages (from dm-haiku==0.0.5.dev0) (0.8.9)\n",
            "Requirement already satisfied: typing_extensions in /usr/local/lib/python3.7/dist-packages (from dm-haiku==0.0.5.dev0) (3.7.4.3)\n",
            "Requirement already satisfied: six in /usr/local/lib/python3.7/dist-packages (from absl-py>=0.7.1->dm-haiku==0.0.5.dev0) (1.15.0)\n",
            "Building wheels for collected packages: dm-haiku\n",
            "  Building wheel for dm-haiku (setup.py) ... \u001b[?25l\u001b[?25hdone\n",
            "  Created wheel for dm-haiku: filename=dm_haiku-0.0.5.dev0-py3-none-any.whl size=532523 sha256=bf45a2bb3ff34d3364f4d53069b323f40d4b9f2c9e5c00278c3ef08f5fc523b4\n",
            "  Stored in directory: /tmp/pip-ephem-wheel-cache-ls2xbdd9/wheels/06/28/69/ebaac5b2435641427299f29d88d005fb4e2627f4a108f0bdbc\n",
            "Successfully built dm-haiku\n",
            "Installing collected packages: jmp, dm-haiku\n",
            "Successfully installed dm-haiku-0.0.5.dev0 jmp-0.0.2\n",
            "\u001b[33mWARNING: Running pip as the 'root' user can result in broken permissions and conflicting behaviour with the system package manager. It is recommended to use a virtual environment instead: https://pip.pypa.io/warnings/venv\u001b[0m\n",
            "Collecting git+https://github.com/deepmind/optax\n",
            "  Cloning https://github.com/deepmind/optax to /tmp/pip-req-build-ba9wr8h_\n",
            "  Running command git clone -q https://github.com/deepmind/optax /tmp/pip-req-build-ba9wr8h_\n",
            "  Resolved https://github.com/deepmind/optax to commit 91937fa03b7edf396b8af9e8b8cc6bfd95160731\n",
            "Requirement already satisfied: absl-py>=0.7.1 in /usr/local/lib/python3.7/dist-packages (from optax==0.0.9) (0.12.0)\n",
            "Collecting chex>=0.0.4\n",
            "  Downloading chex-0.0.8-py3-none-any.whl (57 kB)\n",
            "\u001b[K     |████████████████████████████████| 57 kB 2.9 MB/s \n",
            "\u001b[?25hRequirement already satisfied: jax>=0.1.55 in /usr/local/lib/python3.7/dist-packages (from optax==0.0.9) (0.2.19)\n",
            "Requirement already satisfied: jaxlib>=0.1.37 in /usr/local/lib/python3.7/dist-packages (from optax==0.0.9) (0.1.70+cuda101)\n",
            "Requirement already satisfied: numpy>=1.18.0 in /usr/local/lib/python3.7/dist-packages (from optax==0.0.9) (1.19.5)\n",
            "Requirement already satisfied: six in /usr/local/lib/python3.7/dist-packages (from absl-py>=0.7.1->optax==0.0.9) (1.15.0)\n",
            "Requirement already satisfied: dm-tree>=0.1.5 in /usr/local/lib/python3.7/dist-packages (from chex>=0.0.4->optax==0.0.9) (0.1.6)\n",
            "Requirement already satisfied: toolz>=0.9.0 in /usr/local/lib/python3.7/dist-packages (from chex>=0.0.4->optax==0.0.9) (0.11.1)\n",
            "Requirement already satisfied: opt-einsum in /usr/local/lib/python3.7/dist-packages (from jax>=0.1.55->optax==0.0.9) (3.3.0)\n",
            "Requirement already satisfied: flatbuffers<3.0,>=1.12 in /usr/local/lib/python3.7/dist-packages (from jaxlib>=0.1.37->optax==0.0.9) (1.12)\n",
            "Requirement already satisfied: scipy in /usr/local/lib/python3.7/dist-packages (from jaxlib>=0.1.37->optax==0.0.9) (1.4.1)\n",
            "Building wheels for collected packages: optax\n",
            "  Building wheel for optax (setup.py) ... \u001b[?25l\u001b[?25hdone\n",
            "  Created wheel for optax: filename=optax-0.0.9-py3-none-any.whl size=120484 sha256=bbd2fef40471f1418e194e845b1a878965986710b5863b611abfacfd11f16cb6\n",
            "  Stored in directory: /tmp/pip-ephem-wheel-cache-7yypk7l9/wheels/18/80/7e/f95870d651357f77f2ddeb452b3584a09053c224cc08d7fd86\n",
            "Successfully built optax\n",
            "Installing collected packages: chex, optax\n",
            "Successfully installed chex-0.0.8 optax-0.0.9\n",
            "\u001b[33mWARNING: Running pip as the 'root' user can result in broken permissions and conflicting behaviour with the system package manager. It is recommended to use a virtual environment instead: https://pip.pypa.io/warnings/venv\u001b[0m\n",
            "Requirement already satisfied: tqdm in /usr/local/lib/python3.7/dist-packages (4.62.0)\n",
            "\u001b[33mWARNING: Running pip as the 'root' user can result in broken permissions and conflicting behaviour with the system package manager. It is recommended to use a virtual environment instead: https://pip.pypa.io/warnings/venv\u001b[0m\n"
          ],
          "name": "stdout"
        }
      ]
    },
    {
      "cell_type": "code",
      "metadata": {
        "id": "M9GylCN9-_UC",
        "colab": {
          "base_uri": "https://localhost:8080/"
        },
        "outputId": "24abe431-e29a-4425-ffa3-344fef443085"
      },
      "source": [
        "# to make sure we're\n",
        "from jax.lib import xla_bridge\n",
        "print('We are using the {}'.format(xla_bridge.get_backend().platform))"
      ],
      "execution_count": 2,
      "outputs": [
        {
          "output_type": "stream",
          "text": [
            "We are using the gpu\n"
          ],
          "name": "stdout"
        }
      ]
    },
    {
      "cell_type": "code",
      "metadata": {
        "id": "aR__NDVS-_UD"
      },
      "source": [
        "# this is a random seed generator: use `next(key)` to get a seed.\n",
        "key = hk.PRNGSequence(42)"
      ],
      "execution_count": 3,
      "outputs": []
    },
    {
      "cell_type": "markdown",
      "metadata": {
        "id": "7SDLTz2ukoQq"
      },
      "source": [
        "# Analytical models"
      ]
    },
    {
      "cell_type": "markdown",
      "metadata": {
        "id": "CQCUrq34-_UF"
      },
      "source": [
        "## Properties"
      ]
    },
    {
      "cell_type": "code",
      "metadata": {
        "id": "yXVFOnZw-_UF"
      },
      "source": [
        "# dimensions\n",
        "dim_state = 12\n",
        "#dim_control = 6 #with rpm1,rpm2,de,dr,vbs,lcg\n",
        "dim_control = 4 #with rpm1,rpm2,de,dr,vbs,lcg"
      ],
      "execution_count": 4,
      "outputs": []
    },
    {
      "cell_type": "code",
      "metadata": {
        "id": "DoR3apMd-_UG"
      },
      "source": [
        "# state bounds for training and testing\n",
        "bounds_state_train = np.array([*[20]*3, *[np.pi]*3, *[10]*3, *[10]*3])\n",
        "bounds_state_test = bounds_state_train/4\n",
        "bounds_state_train = (-bounds_state_train, bounds_state_train)\n",
        "bounds_state_test = (-bounds_state_test, bounds_state_test)\n",
        "\n",
        "# control bounds\n",
        "bounds_control = (\n",
        "    np.full(dim_control, -1.0),\n",
        "    np.full(dim_control, 1.0)\n",
        ")"
      ],
      "execution_count": 7,
      "outputs": []
    },
    {
      "cell_type": "markdown",
      "metadata": {
        "id": "a74Dlpg6Yznq"
      },
      "source": [
        "## Testing data"
      ]
    },
    {
      "cell_type": "code",
      "metadata": {
        "id": "q9uVOiKt-_UH"
      },
      "source": [
        "# random state and control\n",
        "n = 10\n",
        "states_test = uniform(\n",
        "    next(key),\n",
        "    (10, dim_state),\n",
        "    minval=bounds_state_test[0],\n",
        "    maxval=bounds_state_test[1]\n",
        ")\n",
        "controls_test = uniform(\n",
        "    next(key),\n",
        "    (10, dim_control),\n",
        "    minval=bounds_control[0],\n",
        "    maxval=bounds_control[1]\n",
        ")"
      ],
      "execution_count": 8,
      "outputs": []
    },
    {
      "cell_type": "markdown",
      "metadata": {
        "id": "dS4hSpU9-_UH"
      },
      "source": [
        "## Transformations"
      ]
    },
    {
      "cell_type": "code",
      "metadata": {
        "id": "Pdx2qOUuktpJ"
      },
      "source": [
        "# skew matrix of vector\n",
        "@jit\n",
        "def skew(vec):\n",
        "  return np.array([\n",
        "    [0, -vec[2], vec[1]],\n",
        "    [vec[2], 0, -vec[0]],\n",
        "    [-vec[1], vec[0], 0]\n",
        "  ])"
      ],
      "execution_count": 9,
      "outputs": []
    },
    {
      "cell_type": "code",
      "metadata": {
        "id": "ta4i4rWv-_UI"
      },
      "source": [
        "# vector from skew matrix\n",
        "@jit\n",
        "def unskew(mat):\n",
        "    return np.array([\n",
        "        mat[2,1],\n",
        "        mat[0,2],\n",
        "        mat[1,0]\n",
        "    ])"
      ],
      "execution_count": 10,
      "outputs": []
    },
    {
      "cell_type": "code",
      "metadata": {
        "id": "k6FY25lf-_UI"
      },
      "source": [
        "# rotation matrix from body to NED for linear vectors\n",
        "@jit\n",
        "def R_b2ned(phi, theta, psi):\n",
        "    Rx = np.array([\n",
        "        [1, 0, 0],\n",
        "        [0, np.cos(phi), -np.sin(phi)],\n",
        "        [0, np.sin(phi), np.cos(phi)]\n",
        "    ])\n",
        "    Ry = np.array([\n",
        "        [np.cos(theta), 0, np.sin(theta)],\n",
        "        [0, 1, 0],\n",
        "        [-np.sin(theta), 0, np.cos(theta)]\n",
        "    ])\n",
        "    Rz = np.array([\n",
        "        [np.cos(psi), -np.sin(psi), 0],\n",
        "        [np.sin(psi), np.cos(psi), 0],\n",
        "        [0, 0, 1]\n",
        "    ])\n",
        "    R = Rz@Ry@Rx\n",
        "    return R"
      ],
      "execution_count": 11,
      "outputs": []
    },
    {
      "cell_type": "code",
      "metadata": {
        "id": "Y_HHsFZr-_UJ"
      },
      "source": [
        "# rotation matrix from body to NED for angular vectors\n",
        "@jit\n",
        "def T_b2ned(phi, theta, psi):\n",
        "    T = np.array([\n",
        "        [1, np.sin(phi)*np.tan(theta), np.cos(phi)*np.tan(theta)],\n",
        "        [0, np.cos(phi), -np.sin(phi)],\n",
        "        [0, np.sin(phi)/np.cos(theta), np.cos(phi)/np.cos(theta)],\n",
        "    ])\n",
        "    return T"
      ],
      "execution_count": 12,
      "outputs": []
    },
    {
      "cell_type": "markdown",
      "metadata": {
        "id": "dcLBuduR-_UJ"
      },
      "source": [
        "We will assume that we know the analytical mapping between $q$ and $\\dot q$."
      ]
    },
    {
      "cell_type": "markdown",
      "metadata": {
        "id": "xalpR9uc-_UK"
      },
      "source": [
        "## State-space\n",
        "We will gather data from an analytical model of an AUV, so that we can compare the learned/identified model with a ground truth. However, in practice, one can also use other data as input, such as AUV pose data from missions.\n",
        "\n",
        "A six degree-of freedom AUV model is used leading to 12 states ($x,y,z,\\phi,\\theta,\\psi,u,v,w,p,q,r $), based on Fossen's notation. \n",
        "\n",
        "The kinematics are of the form\n",
        "    $\\dot \\eta = J_{euler}(\\eta)\\nu$ , \n",
        "    where $\\eta$ represents the vector of positions and orientations in Euler angles, while $\\nu$ represents the vector of velocities and angular velocities and $J_{euler}\\in\\mathbb{R}^{6 \\times 6}$ is the kinematic transformation matrix. \n",
        "\n",
        "The dynamics are of the form\n",
        "    $M_{\\text{eff}} \\dot\\nu + C_{\\text{eff}}(\\nu) + g(\\eta) = \\tau_C$, \n",
        "    where M represents the combined mass and inertia matrix (considering rigid body terms, but added mass terms can also be included), C is the combined coriolis-centripetal matrix, D is the damping matrix (considering hydrodynamics), g represents the buoyancy forces (considering hydrostatics) and $\\tau_C$ refers to the vector of external control forces (such as from actuators).\n",
        "\n",
        "The AUV under consideration (SAM) has 6 actuators including counter-rotating propellers (to control speed and roll), thrust vectoring(for yaw and pitch), longitudinal center of gravity(for static pitching and gliding) and a variable buoyancy system (to regulate buoyancy) and is underactuated. The effect of these actuators are included in the code below.\n"
      ]
    },
    {
      "cell_type": "code",
      "metadata": {
        "id": "UEqKTbPanK_u"
      },
      "source": [
        "@jit\n",
        "def f_analytical_terms(state, control):\n",
        "\n",
        "  # state and control\n",
        "  x, y, z, phi, theta, psi, u, v, w, p, q, r = state\n",
        "  #rpm1, rpm2, de, dr, lcg, vbs = control\n",
        "  rpm1, rpm2, de, dr = control\n",
        "\n",
        "  # position (NED) and velocity (body), rsp\n",
        "  eta = np.array([x, y, z, phi, theta, psi])\n",
        "  nu = np.array([u, v, w, p, q, r])\n",
        "\n",
        "  # scaled controls\n",
        "  rpm1 *= 1000.0\n",
        "  rpm2 *= 1000.0\n",
        "  de *= 0.05\n",
        "  dr *= 0.05\n",
        "  # vbs *= 1.0\n",
        "  # lcg *= 1.0\n",
        "\n",
        "  # mass and inertia matrix\n",
        "  m = 14.0\n",
        "  I_o = np.diag(np.array([0.0294, 1.6202, 1.6202]))\n",
        "\n",
        "  # centre of gravity, buoyancy, and pressure positions, resp.\n",
        "  #r_g = np.array([0.1 + lcg*0.01, 0.0, 0.0])\n",
        "  r_g = np.array([0.1, 0.0, 0.0]) #no effect of Longitudinal C.G. trim system\n",
        "  r_b = np.array([0.1, 0.0, 0.0])\n",
        "  r_cp = np.array([0.1, 0.0, 0.0])\n",
        "\n",
        "  # <insert title>\n",
        "  W = m*9.81\n",
        "  #B = W + vbs*1.5\n",
        "  B = W #no effect of Variable buoyancy system\n",
        "\n",
        "  # hydrodynamic coefficients\n",
        "  Xuu = 5. #3. #1.0\n",
        "  Yvv = 20. #10. #100.0\n",
        "  Zww = 50. #100.0\n",
        "  Kpp = 0.1 #10.0\n",
        "  Mqq = 20.#40 #100.0\n",
        "  Nrr = 20. #150.0\n",
        "\n",
        "  # control actuators\n",
        "  K_T = np.array([0.0175, 0.0175])\n",
        "  Q_T = np.array([0.001, -0.001])#*0.0\n",
        "\n",
        "  # mass and inertia matrix\n",
        "  M = np.block([\n",
        "    [m*np.eye(3,3), -m*skew(r_g)],\n",
        "    [m*skew(r_g), I_o]\n",
        "  ])\n",
        "  assert M.shape == (6,6), M\n",
        "\n",
        "  # coriolis and centripetal matrix\n",
        "  nu1 = np.array([u, v, w])\n",
        "  nu2 = np.array([p, q, r])\n",
        "  top_right = -m*skew(nu1) - m*skew(nu2)*skew(r_g)\n",
        "  bottom_left = -m*skew(nu1) + m*skew(r_g)*skew(nu2)\n",
        "  bottom_right = -skew(I_o.dot(nu2))\n",
        "  C_RB = np.block([\n",
        "    [np.zeros((3,3)), top_right],\n",
        "    [bottom_left, bottom_right]\n",
        "  ])\n",
        "  assert C_RB.shape == (6, 6), C_RB\n",
        "\n",
        "  # damping matrix\n",
        "  forces = np.diag(np.array([Xuu*np.abs(u), Yvv*np.abs(v), Zww*np.abs(w)]))\n",
        "  moments = np.diag(np.array([Kpp*np.abs(p), Mqq*np.abs(q), Nrr*np.abs(r)]))\n",
        "  coupling = np.matmul(skew(r_cp), forces)\n",
        "  D = np.block([[forces, np.zeros((3, 3))], [-coupling, moments]])\n",
        "  assert D.shape == (6, 6), D\n",
        "\n",
        "  # rotational transform between body and NED in Euler\n",
        "  T_euler = T_b2ned(phi, theta, psi)      \n",
        "  R_euler = R_b2ned(phi, theta, psi)\n",
        "  assert R_euler.shape == (3,3), R_euler\n",
        "  J_eta = np.block([\n",
        "    [R_euler, np.zeros((3,3))],\n",
        "    [np.zeros((3,3)), T_euler]\n",
        "  ])\n",
        "  assert J_eta.shape == (6,6), J_eta\n",
        "\n",
        "  # buoyancy in quaternions\n",
        "  f_g = np.array([0, 0, W])\n",
        "  f_b = np.array([0, 0, -B])\n",
        "  row1 = np.linalg.inv(R_euler).dot(f_g + f_b)\n",
        "  row2 = skew(r_g).dot(np.linalg.inv(R_euler)).dot(f_g) + \\\n",
        "    skew(r_b).dot(np.linalg.inv(R_euler)).dot(f_b)\n",
        "  geta = np.block([row1, row2])\n",
        "  assert geta.shape == (6,), geta\n",
        "\n",
        "  # <insert title>\n",
        "  F_T = K_T.dot(np.array([rpm1, rpm2]))\n",
        "  M_T = Q_T.dot(np.array([rpm1, rpm2]))\n",
        "  tauc = np.array([\n",
        "    F_T*np.cos(de)*np.cos(dr),\n",
        "    -F_T*np.sin(dr),\n",
        "    F_T*np.sin(de)*np.cos(dr),\n",
        "    M_T*np.cos(de)*np.cos(dr),\n",
        "    -M_T*np.sin(dr),\n",
        "    M_T*np.sin(de)*np.cos(dr)\n",
        "  ])\n",
        "  assert tauc.shape == (6,), tauc\n",
        "\n",
        "  # rate of change of position in NED frame\n",
        "  etadot = np.block([J_eta.dot(nu)])\n",
        "  assert etadot.shape == (6,)\n",
        "\n",
        "  # etadot and terms for rate of change of velocity in body frame\n",
        "  return etadot, M, tauc, C_RB, D, nu, geta\n",
        "  # nudot = np.linalg.inv(M).dot(tauc - (C_RB + D).dot(nu) - geta)\n",
        "  #F_nonconsv = tauc - D.dot(nu) # nonconservative terms \n",
        "  #F_consv = -C_RB.dot(nu)-geta # conservative terms in the nudot equation  \n",
        "  # assert nudot.shape == (6,)\n",
        "\n",
        "  # state-space\n",
        "  # sdot = np.block([etadot, nudot])\n",
        "  # return sdot"
      ],
      "execution_count": 13,
      "outputs": []
    },
    {
      "cell_type": "code",
      "metadata": {
        "id": "8Sh6LU-L53qP"
      },
      "source": [
        "@jit\n",
        "def f_analytical(state, control):\n",
        "\n",
        "  # Fossen terms\n",
        "  etadot, M, tauc, C_RB, D, nu, geta = f_analytical_terms(state, control)\n",
        "\n",
        "  # acceleration in body\n",
        "  nudot = np.linalg.pinv(M).dot(tauc - (C_RB + D).dot(nu) - geta)\n",
        "\n",
        "  # state-space dynamics\n",
        "  return np.hstack((etadot, nudot))"
      ],
      "execution_count": 14,
      "outputs": []
    },
    {
      "cell_type": "code",
      "metadata": {
        "colab": {
          "base_uri": "https://localhost:8080/"
        },
        "id": "1sbindSy8zw3",
        "outputId": "716936bf-1f83-47c5-a6dc-52df35d253b4"
      },
      "source": [
        "f_analytical(states_test[0], controls_test[0])"
      ],
      "execution_count": 15,
      "outputs": [
        {
          "output_type": "execute_result",
          "data": {
            "text/plain": [
              "DeviceArray([  0.875388 ,   1.3407415,  -1.2478778,   3.6511984,\n",
              "              -0.6679608,   2.7932727,   0.4010142,  -1.5001364,\n",
              "              -1.7837296, -34.06523  ,  49.994217 , -18.757624 ],            dtype=float32)"
            ]
          },
          "metadata": {},
          "execution_count": 15
        }
      ]
    },
    {
      "cell_type": "markdown",
      "metadata": {
        "id": "jVJmDvCeOCfH"
      },
      "source": [
        "# Visualization"
      ]
    },
    {
      "cell_type": "code",
      "metadata": {
        "id": "lTTydH8FOET1"
      },
      "source": [
        "# integrates a single trajectory with constant control\n",
        "@partial(jit, static_argnums=(2,3,4))\n",
        "def trajectory_constant(x, u, f, T, h):\n",
        "    return odeint(lambda x, t: f(x, u), x, np.arange(0.0, T, h))\n",
        "\n",
        "# integrates multiple trajectories in parallel with constant control\n",
        "trajectories_constant = jit(\n",
        "    vmap(trajectory_constant, in_axes=(0,0, None, None, None)),\n",
        "    static_argnums=(2,3,4)\n",
        ")"
      ],
      "execution_count": 16,
      "outputs": []
    },
    {
      "cell_type": "code",
      "metadata": {
        "colab": {
          "base_uri": "https://localhost:8080/"
        },
        "id": "r35Dv5IuTje3",
        "outputId": "ab87611b-c4ef-4f6e-ee4c-0d5335aa2ac1"
      },
      "source": [
        "trajectory_constant(states_test[0], controls_test[0], f_analytical, 10, 0.1)"
      ],
      "execution_count": 17,
      "outputs": [
        {
          "output_type": "execute_result",
          "data": {
            "text/plain": [
              "DeviceArray([[ 2.9773116 , -3.6118484 ,  0.7586837 , ...,  2.1447449 ,\n",
              "              -2.0093198 ,  1.393476  ],\n",
              "             [ 3.0604117 , -3.4789295 ,  0.6470812 , ..., -0.10899201,\n",
              "              -0.62294996,  0.6891075 ],\n",
              "             [ 3.1331158 , -3.358663  ,  0.55488396, ..., -1.5939387 ,\n",
              "              -0.36321387,  0.56738937],\n",
              "             ...,\n",
              "             [-4.2362084 , -8.367977  , 11.891054  , ..., -2.3270688 ,\n",
              "              -0.01321546,  0.20825604],\n",
              "             [-4.320041  , -8.441882  , 12.054406  , ..., -2.3270688 ,\n",
              "              -0.02773576,  0.19513163],\n",
              "             [-4.404313  , -8.513628  , 12.218432  , ..., -2.3270688 ,\n",
              "              -0.04095019,  0.1803959 ]], dtype=float32)"
            ]
          },
          "metadata": {},
          "execution_count": 17
        }
      ]
    },
    {
      "cell_type": "code",
      "metadata": {
        "colab": {
          "base_uri": "https://localhost:8080/"
        },
        "id": "NZ6XbnSETv1e",
        "outputId": "165de61c-7ca3-41cd-fb16-4080b6f516f5"
      },
      "source": [
        "trajectories_constant(states_test, controls_test, f_analytical, 10, 0.1)"
      ],
      "execution_count": 18,
      "outputs": [
        {
          "output_type": "execute_result",
          "data": {
            "text/plain": [
              "DeviceArray([[[ 2.97731161e+00, -3.61184835e+00,  7.58683681e-01, ...,\n",
              "                2.14474487e+00, -2.00931978e+00,  1.39347601e+00],\n",
              "              [ 3.06041074e+00, -3.47892904e+00,  6.47081316e-01, ...,\n",
              "               -1.08991459e-01, -6.22950017e-01,  6.89107239e-01],\n",
              "              [ 3.13311529e+00, -3.35866165e+00,  5.54884613e-01, ...,\n",
              "               -1.59393895e+00, -3.63214314e-01,  5.67388833e-01],\n",
              "              ...,\n",
              "              [-4.23620129e+00, -8.36797810e+00,  1.18910570e+01, ...,\n",
              "               -2.32706881e+00, -1.32166017e-02,  2.08255351e-01],\n",
              "              [-4.32002878e+00, -8.44188213e+00,  1.20544033e+01, ...,\n",
              "               -2.32706881e+00, -2.77368352e-02,  1.95131004e-01],\n",
              "              [-4.40430784e+00, -8.51362801e+00,  1.22184401e+01, ...,\n",
              "               -2.32706881e+00, -4.09511998e-02,  1.80394843e-01]],\n",
              "\n",
              "             [[ 4.39112091e+00,  2.43289471e+00, -2.72774458e+00, ...,\n",
              "                1.69599009e+00,  5.75871468e-01, -1.15060985e+00],\n",
              "              [ 4.32802963e+00,  2.37383723e+00, -2.60456061e+00, ...,\n",
              "                1.95475566e+00, -1.84798822e-01, -6.00026608e-01],\n",
              "              [ 4.28690243e+00,  2.31315207e+00, -2.50715971e+00, ...,\n",
              "                2.02462935e+00, -5.08068085e-01, -3.93914431e-01],\n",
              "              ...,\n",
              "              [ 8.42981243e+00, -1.48636174e+00,  4.09673929e+00, ...,\n",
              "                2.04824233e+00,  1.74617663e-01,  9.56219286e-02],\n",
              "              [ 8.47403717e+00, -1.53190279e+00,  4.17240047e+00, ...,\n",
              "                2.04824233e+00,  1.87260523e-01,  6.70358017e-02],\n",
              "              [ 8.51781750e+00, -1.57705891e+00,  4.24859333e+00, ...,\n",
              "                2.04824233e+00,  1.80522978e-01,  3.19345742e-02]],\n",
              "\n",
              "             [[-1.78707004e+00,  1.41462421e+00, -2.82125592e+00, ...,\n",
              "               -1.31862700e+00,  8.91000032e-01, -1.09974325e+00],\n",
              "              [-2.01271915e+00,  1.47723377e+00, -2.74713254e+00, ...,\n",
              "               -1.47345972e+00,  2.26376265e-01,  2.65799910e-01],\n",
              "              [-2.20531297e+00,  1.51278114e+00, -2.69472933e+00, ...,\n",
              "               -1.53090405e+00, -2.87417881e-02,  5.57970047e-01],\n",
              "              ...,\n",
              "              [-1.52151167e+00,  9.28000259e+00, -8.54483795e+00, ...,\n",
              "               -1.56211829e+00,  1.27711475e-01, -5.25381565e-02],\n",
              "              [-1.50134277e+00,  9.38717842e+00, -8.63353252e+00, ...,\n",
              "               -1.56211829e+00,  1.52415827e-01,  1.34177171e-02],\n",
              "              [-1.48209679e+00,  9.49514389e+00, -8.72142506e+00, ...,\n",
              "               -1.56211829e+00,  1.60700440e-01,  8.86580423e-02]],\n",
              "\n",
              "             ...,\n",
              "\n",
              "             [[-4.89606857e-02,  1.13693714e+00, -1.78561211e+00, ...,\n",
              "                1.58920479e+00,  1.01633430e+00, -1.03928566e-01],\n",
              "              [-2.41859436e-01,  1.31467080e+00, -1.59927559e+00, ...,\n",
              "               -1.49290729e+00, -6.23633504e-01,  4.72721040e-01],\n",
              "              [-4.27106351e-01,  1.44837415e+00, -1.47650433e+00, ...,\n",
              "               -2.76750684e+00, -5.88809550e-01,  6.62929952e-01],\n",
              "              ...,\n",
              "              [-3.63343805e-01,  3.46624398e+00, -4.99389172e+00, ...,\n",
              "               -3.01853609e+00,  1.48015425e-01,  1.43892057e-02],\n",
              "              [-3.27101350e-01,  3.49218798e+00, -5.07513952e+00, ...,\n",
              "               -3.01853609e+00,  1.47245541e-01,  1.16227128e-01],\n",
              "              [-2.92084605e-01,  3.51922703e+00, -5.15658760e+00, ...,\n",
              "               -3.01853609e+00,  1.12829529e-01,  1.86613113e-01]],\n",
              "\n",
              "             [[ 1.55379391e+00, -3.84290099e+00,  1.03535652e-01, ...,\n",
              "                2.47858763e+00,  7.97092915e-02,  7.39357948e-01],\n",
              "              [ 1.61150789e+00, -3.91735697e+00, -1.08693033e-01, ...,\n",
              "                1.52818215e+00,  9.05673802e-01,  2.53661722e-01],\n",
              "              [ 1.63918686e+00, -4.00096464e+00, -2.84440905e-01, ...,\n",
              "                1.21350098e+00,  6.96656168e-01,  1.08231828e-02],\n",
              "              ...,\n",
              "              [-3.18092799e+00, -1.27515688e+01, -1.85569620e+00, ...,\n",
              "                9.47359979e-01,  9.81255099e-02,  1.45810712e-02],\n",
              "              [-3.22168946e+00, -1.28567533e+01, -1.85001647e+00, ...,\n",
              "                9.47359979e-01,  1.01825915e-01,  1.58172566e-02],\n",
              "              [-3.26242876e+00, -1.29619646e+01, -1.84507549e+00, ...,\n",
              "                9.47359622e-01,  1.05068110e-01,  1.70401707e-02]],\n",
              "\n",
              "             [[-2.86034942e+00,  3.69470215e+00, -4.31358814e+00, ...,\n",
              "                2.29829741e+00, -2.43352604e+00, -2.31859684e+00],\n",
              "              [-2.84021831e+00,  3.51663852e+00, -4.25934744e+00, ...,\n",
              "                1.64429820e+00, -4.34172034e-01, -6.91794395e-01],\n",
              "              [-2.80719423e+00,  3.37325215e+00, -4.20233917e+00, ...,\n",
              "                1.44044757e+00, -1.78280979e-01, -5.34716547e-01],\n",
              "              ...,\n",
              "              [ 9.75537395e+00, -5.65448761e+00,  5.92848206e+00, ...,\n",
              "                1.31519926e+00, -1.75826997e-02, -1.37782544e-01],\n",
              "              [ 9.89835167e+00, -5.74690247e+00,  6.04062891e+00, ...,\n",
              "                1.31519926e+00, -5.39903529e-04, -1.25954702e-01],\n",
              "              [ 1.00398045e+01, -5.83931541e+00,  6.15462399e+00, ...,\n",
              "                1.31520021e+00,  2.75921356e-02, -1.18010335e-01]]],            dtype=float32)"
            ]
          },
          "metadata": {},
          "execution_count": 18
        }
      ]
    },
    {
      "cell_type": "code",
      "metadata": {
        "id": "7xroKTEgO_wx"
      },
      "source": [
        "def plot(trajs_list, markers, labels):\n",
        "\n",
        "    # setup\n",
        "    fig = plt.figure()\n",
        "    ax = fig.add_subplot(111, projection='3d')\n",
        "\n",
        "    # plot\n",
        "    for trajs, marker, label in zip(trajs_list, markers, labels):\n",
        "        for i, traj in enumerate(trajs):\n",
        "            label = None if i > 0 else label\n",
        "            ax.plot(traj[:1,0], traj[:1,1], traj[:1,2], 'ko', label=None)\n",
        "            ax.plot(traj[:,0], traj[:,1], traj[:,2], marker, label=label)\n",
        "\n",
        "    # format\n",
        "    plt.legend()\n",
        "    plt.show()"
      ],
      "execution_count": 19,
      "outputs": []
    },
    {
      "cell_type": "code",
      "metadata": {
        "colab": {
          "base_uri": "https://localhost:8080/",
          "height": 248
        },
        "id": "KAe1fK36PBmU",
        "outputId": "712a48ca-eb3a-472f-b7c5-712b0261cdf5"
      },
      "source": [
        "trajs_list = [\n",
        "  trajectories_constant(states_test, controls_test, f_analytical, 10, 0.1)\n",
        "]\n",
        "plot(trajs_list, ['k-'], ['Analytical'])"
      ],
      "execution_count": 20,
      "outputs": [
        {
          "output_type": "display_data",
          "data": {
            "image/png": "[encoded data removed]",
            "text/plain": [
              "<Figure size 432x288 with 1 Axes>"
            ]
          },
          "metadata": {
            "needs_background": "light"
          }
        }
      ]
    },
    {
      "cell_type": "markdown",
      "metadata": {
        "id": "6LlTxTuz-_UM"
      },
      "source": [
        "# Machine learning models\n",
        "\n",
        "We will consider the following learning models:\n",
        "- Learn a linear model.\n",
        "- Learn the damping matrix.\n",
        "- Learn the nonlinear model with a naïve MLP.\n",
        "- Learn the nonlinear model with a decompositional physics-informed model.\n",
        "\n",
        "Other things:\n",
        "- We know a priori that the dynamics of the analytical model is invariant under the position. Thus, we let the models learn from the variable in the body frame, therby making the $p = [0,0,0]$ in regression.\n",
        "- It is well-known that Euler angle and quaternions are discontinuous representation, and hence troublesome to the regression process. Thus, in ever model, we choose to learn from the rotation matrix, which is a continuous orientation representation."
      ]
    },
    {
      "cell_type": "markdown",
      "metadata": {
        "id": "cGjPQ5EXWDJH"
      },
      "source": [
        "## Linear\n",
        "\n",
        "In this model we intend to learn a linear control system\n",
        "$\n",
        "\\dot{x} = A x + B u\n",
        "$."
      ]
    },
    {
      "cell_type": "code",
      "metadata": {
        "id": "tDvMbCK9WHGW"
      },
      "source": [
        "def F_linear(state, control):\n",
        "  Ax = hk.Linear(dim_state, with_bias=False)(state)\n",
        "  Bu = hk.Linear(dim_state, with_bias=False)(control)\n",
        "  return Ax + Bu"
      ],
      "execution_count": 21,
      "outputs": []
    },
    {
      "cell_type": "markdown",
      "metadata": {
        "id": "kOoYCbjU9EJf"
      },
      "source": [
        "## Damping matrix\n",
        "\n",
        "Here, we assume that the analytical dynamics are known, except for the damping matrix $D(\\nu)$, which we seek to learn."
      ]
    },
    {
      "cell_type": "code",
      "metadata": {
        "id": "NEtT1EHs9Hyp"
      },
      "source": [
        "def F_damping(state, control):\n",
        "\n",
        "  # Fossen terms\n",
        "  etadot, M, tauc, C_RB, D, nu, geta = f_analytical_terms(state, control)\n",
        "\n",
        "  # estimate damping with NN\n",
        "  forces = hk.nets.MLP([*[100]*3, 3])(nu[0:3])\n",
        "  moments = hk.nets.MLP([*[100]*3, 3])(nu[3:6])\n",
        "  coupling = hk.nets.MLP([*[100]*3, 2])(forces)\n",
        "  coupling = np.array([\n",
        "    [0,0,0],\n",
        "    [0,0, coupling[0]],\n",
        "    [0, coupling[1], 0]\n",
        "  ])\n",
        "  D = np.block([[np.diag(forces), np.zeros((3, 3))], [-coupling, np.diag(moments)]])\n",
        "\n",
        "  # Fossen\n",
        "  nudot = np.linalg.pinv(M).dot(tauc - (C_RB + D).dot(nu) - geta)\n",
        "  return np.hstack((etadot, nudot))"
      ],
      "execution_count": 22,
      "outputs": []
    },
    {
      "cell_type": "markdown",
      "metadata": {
        "id": "mfTENijB-_UN"
      },
      "source": [
        "## Naïve"
      ]
    },
    {
      "cell_type": "code",
      "metadata": {
        "id": "KV4dDKV1-_UN"
      },
      "source": [
        "def F_naive(state, control):\n",
        "\n",
        "    # position, orientation, velocities\n",
        "    p, theta, v, omega = state.split(4)\n",
        "\n",
        "    # linear rotation matrix and its time-derivitive\n",
        "    R = R_b2ned(*theta)\n",
        "    Rinv = np.linalg.pinv(R)\n",
        "    dR = R@skew(omega)\n",
        "\n",
        "    # angular rotation matrix\n",
        "    T = T_b2ned(*theta)\n",
        "\n",
        "    # continuous canonical states in body frame\n",
        "    q = np.hstack(([0,0,0], R.flatten()))\n",
        "    dq = np.hstack((v, dR.flatten()))\n",
        "\n",
        "    # ddq from NN\n",
        "    ddq = hk.nets.MLP(\n",
        "        [1000, 1000, 1000, 3 + 9],\n",
        "        activation=softplus\n",
        "    )(np.hstack((q, dq, control)))\n",
        "\n",
        "    # accelerations in body frame\n",
        "    a = ddq[0:3]\n",
        "    ddR = ddq[3:12].reshape((3,3))\n",
        "    alpha = unskew(Rinv@ddR)\n",
        "\n",
        "    # dynamics\n",
        "    dstate = np.hstack((R@v, T@omega, a, alpha))\n",
        "    return dstate"
      ],
      "execution_count": 23,
      "outputs": []
    },
    {
      "cell_type": "markdown",
      "metadata": {
        "id": "ELQQskjJ-_UO"
      },
      "source": [
        "## Physics-informed"
      ]
    },
    {
      "cell_type": "code",
      "metadata": {
        "id": "51iwlxde-_UP"
      },
      "source": [
        "def F_conservative(state):\n",
        "\n",
        "    # NED position, NED orientation, body velocities\n",
        "    p, theta, v, omega = state.split(4)\n",
        "\n",
        "    # rotation matrix and its time-derivitive\n",
        "    R = R_b2ned(*theta)\n",
        "    dR = R@skew(omega)\n",
        "\n",
        "    # canonical 0th and 1st derivative\n",
        "    q = np.hstack(([0,0,0], R.flatten()))\n",
        "    dq = np.hstack((v, dR.flatten()))\n",
        "\n",
        "    # Lagrangian\n",
        "    L = lambda q, dq: hk.nets.MLP(\n",
        "        [500, 500, 500, 1], \n",
        "        activation=softplus\n",
        "    )(np.hstack((q, dq)))[0]\n",
        "\n",
        "    # conservative acceleration\n",
        "    ddq = jacobian(jacobian(L, 1), 0)(q, dq)\n",
        "    ddq = ddq @ dq\n",
        "    ddq = grad(L, 0)(q, dq) - ddq\n",
        "    ddq = np.linalg.pinv(hessian(L, 1)(q, dq)) @ ddq\n",
        "\n",
        "    # accelerations in body frame\n",
        "    a = ddq[0:3]\n",
        "    ddR = ddq[3:12].reshape((3,3))\n",
        "    alpha = unskew(np.linalg.pinv(R)@ddR)\n",
        "\n",
        "    # dynamics\n",
        "    T = T_b2ned(*theta)\n",
        "    dstate = np.hstack((R@v, T@omega, a, alpha))\n",
        "    return dstate"
      ],
      "execution_count": 24,
      "outputs": []
    },
    {
      "cell_type": "code",
      "metadata": {
        "id": "RvNuycKT-_UP"
      },
      "source": [
        "def F_non_conservative(state, control):\n",
        "\n",
        "    # NED position, NED orientation, body velocities\n",
        "    p, theta, v, omega = state.split(4)\n",
        "\n",
        "    # rotation matrix and its time-derivitive\n",
        "    R = R_b2ned(*theta)\n",
        "    dR = R@skew(omega)\n",
        "\n",
        "    # canonical 0th and 1st derivative\n",
        "    q = np.hstack(([0,0,0], R.flatten()))\n",
        "    dq = np.hstack((v, dR.flatten()))\n",
        "\n",
        "    # non-conservative acceleration\n",
        "    net = hk.nets.MLP([200, 200, 200, 3 + 9], activation=softplus)\n",
        "    ddq = net(np.hstack((q, dq, control)))\n",
        "\n",
        "    # accelerations in body frame\n",
        "    a = ddq[0:3]\n",
        "    ddR = ddq[3:12].reshape((3,3))\n",
        "    alpha = unskew(np.linalg.pinv(R)@ddR)\n",
        "\n",
        "    # dynamics\n",
        "    T = T_b2ned(*theta)\n",
        "    dstate = np.hstack((R@v, T@omega, a, alpha))\n",
        "    return dstate"
      ],
      "execution_count": 25,
      "outputs": []
    },
    {
      "cell_type": "markdown",
      "metadata": {
        "id": "x2AE7elw-_US"
      },
      "source": [
        "# Trainers and loss functions"
      ]
    },
    {
      "cell_type": "markdown",
      "metadata": {
        "id": "LBPeUJnrfqwj"
      },
      "source": [
        "## Standard\n",
        "\n",
        "We will train our models by randomly generating data at every optimization iteration, otherwise known as mini-batch gradient descent."
      ]
    },
    {
      "cell_type": "code",
      "metadata": {
        "id": "VG6rX3r2-_US"
      },
      "source": [
        "class Trainer:\n",
        "\n",
        "    def __init__(self, n, f, fname):\n",
        "\n",
        "        # number of data to compute gradient with at each iteration\n",
        "        self.n = n\n",
        "\n",
        "        # loss record\n",
        "        self.losses = list()\n",
        "\n",
        "        # dynamics model\n",
        "        self.f_nn = hk.without_apply_rng(hk.transform(f))\n",
        "        self.params = self.f_nn.init(next(key), states_test[0], controls_test[0])\n",
        "\n",
        "        # save path\n",
        "        self.fname = fname\n",
        "\n",
        "    @partial(jit, static_argnums=(0,))\n",
        "    def f(self, state, control):\n",
        "        return self.f_nn.apply(self.params, state, control)\n",
        "\n",
        "    @partial(jit, static_argnums=(0,))\n",
        "    def gen_data(self, key):\n",
        "\n",
        "        # generate random states\n",
        "        states = uniform(\n",
        "            key,\n",
        "            shape=(self.n, dim_state),\n",
        "            minval=bounds_state_train[0],\n",
        "            maxval=bounds_state_train[1]\n",
        "        )\n",
        "\n",
        "        # generate random controls\n",
        "        controls = uniform(\n",
        "            key,\n",
        "            shape=(self.n, dim_control),\n",
        "            minval=bounds_control[0],\n",
        "            maxval=bounds_control[1]\n",
        "        )\n",
        "\n",
        "        # analytical time-derivatives\n",
        "        dstates = vmap(f_analytical, in_axes=(0,0))(states, controls)\n",
        "        return states, controls, dstates\n",
        "\n",
        "    # this is the function we'll optimise w.r.t. params\n",
        "    def loss(self, params, key):\n",
        "\n",
        "        # generate random data\n",
        "        states, controls, dstates = self.gen_data(key)\n",
        "\n",
        "        # predictions\n",
        "        dstates_nn = vmap(self.f_nn.apply, in_axes=(None,0,0))(params, states, controls)\n",
        "\n",
        "        # loss in acceleration\n",
        "        loss = dstates[:,6:] - dstates_nn[:,6:]\n",
        "        loss = np.average(np.square(loss))\n",
        "        return loss, loss\n",
        "\n",
        "    # automatic gradient of loss function\n",
        "    @partial(jit, static_argnums=(0,))\n",
        "    def grad(self, params, key):\n",
        "        return grad(self.loss, argnums=0, has_aux=True)(params, key)\n",
        "\n",
        "    def train(self, epo, lr, algo):\n",
        "\n",
        "        # setup optimiser\n",
        "        opt_init, opt_update = algo(lr)\n",
        "        opt_state = opt_init(self.params)\n",
        "\n",
        "        # training loop\n",
        "        pb = tqdm(range(epo))\n",
        "        for _ in pb:\n",
        "\n",
        "            # gradient and loss\n",
        "            gopt, loss = self.grad(self.params, next(key))\n",
        "\n",
        "            # record loss\n",
        "            self.losses.append(loss)\n",
        "\n",
        "            # progress bar update\n",
        "            pb.set_description('{:.6f}'.format(loss))\n",
        "\n",
        "            # optimiser update\n",
        "            updates, opt_state = opt_update(\n",
        "                gopt, \n",
        "                opt_state, \n",
        "                self.params\n",
        "            )\n",
        "\n",
        "            # update the parameters\n",
        "            self.params = optax.apply_updates(self.params, updates)\n",
        "\n",
        "    # save parameters\n",
        "    def save(self):\n",
        "        np.save('{}.npy'.format(self.fname), self.params)\n",
        "\n",
        "    # plotting\n",
        "    def plot(self):\n",
        "        fig, ax = plt.subplots(1)\n",
        "        ax.plot(self.losses, 'k-')\n",
        "        ax.set_yscale('log')\n",
        "        plt.tight_layout()\n",
        "        fig.savefig('{}.pdf'.format(self.fname))\n",
        "        plt.show()"
      ],
      "execution_count": 27,
      "outputs": []
    },
    {
      "cell_type": "markdown",
      "metadata": {
        "id": "ZYLOPJUUk1TB"
      },
      "source": [
        "## Decompositional"
      ]
    },
    {
      "cell_type": "code",
      "metadata": {
        "id": "SRisq9oxj1D2"
      },
      "source": [
        "class Trainer_Decomposition(Trainer):\n",
        "\n",
        "    def __init__(self, n, fc, fnc):\n",
        "\n",
        "        # number of data to compute gradient with at each iteration\n",
        "        self.n = n\n",
        "\n",
        "        # loss record\n",
        "        self.losses = list()\n",
        "\n",
        "        # conservative and non-conservative models\n",
        "        self.fc = hk.without_apply_rng(hk.transform(fc))\n",
        "        self.fnc = hk.without_apply_rng(hk.transform(fnc))\n",
        "\n",
        "        # models' parameters\n",
        "        self.params = (\n",
        "            self.fc.init(next(key), state),\n",
        "            self.fnc.init(next(key), state, control)\n",
        "        )\n",
        "\n",
        "    @partial(jit, static_argnums=(0,))\n",
        "    def f(self, state, control):\n",
        "        dstate = self.fc.apply(self.params[0], state)\n",
        "        dstate += self.fnc.apply(self.params[1], state, control)\n",
        "        return dstate\n",
        "\n",
        "    @partial(jit, static_argnums=(0,))\n",
        "    def loss(self, params, key):\n",
        "\n",
        "        # generate data\n",
        "        states, controls, dstates = self.gen_data(key)\n",
        "\n",
        "        # predictions\n",
        "        dstates_c = vmap(self.fc.apply, in_axes=(None,0))(params[0], states)\n",
        "        dstates_nc = vmap(self.fnc.apply, in_axes=(None,0,0))(params[1], states, controls)\n",
        "        dstates_nn = dstates_c + dstates_nc\n",
        "\n",
        "        # loss for dynamics\n",
        "        loss_f = dstates[:,6:] - dstates_nn[:,6:]\n",
        "        loss_f = np.mean(np.square(loss_f))\n",
        "        # loss_f = np.linalg.norm(loss_f, ord=2, axis=1)\n",
        "        # loss_f = np.sum(loss_f)/(self.n*6)\n",
        "        # loss_f = loss_f**0.5\n",
        "\n",
        "        # loss for non-conservative\n",
        "        loss_nc = dstates_nc[:,6:]\n",
        "        loss_nc = np.mean(np.square(loss_nc))\n",
        "        # loss_nc = np.linalg.norm(dstates_nc[:,6:], ord=2, axis=1)\n",
        "        # loss_nc = np.sum(loss_nc)/(self.n*6)\n",
        "        # loss_nc = loss_nc**0.5\n",
        "\n",
        "        # total loss\n",
        "        loss = loss_f + 0.5*loss_nc\n",
        "        return loss, loss"
      ],
      "execution_count": 28,
      "outputs": []
    },
    {
      "cell_type": "markdown",
      "metadata": {
        "id": "QP8jmqXc-_UT"
      },
      "source": [
        "# Results"
      ]
    },
    {
      "cell_type": "markdown",
      "metadata": {
        "id": "V6SxT370lHiX"
      },
      "source": [
        "## Linear"
      ]
    },
    {
      "cell_type": "code",
      "metadata": {
        "id": "VylEz47g-_UT"
      },
      "source": [
        "trainer_linear = Trainer(5000, F_linear, 'linear')"
      ],
      "execution_count": 29,
      "outputs": []
    },
    {
      "cell_type": "code",
      "metadata": {
        "id": "atBO-Yi8-_UT",
        "colab": {
          "base_uri": "https://localhost:8080/",
          "height": 339,
          "referenced_widgets": [
            "9cc7d2ba9f2a46f4991f0c49a2ac0dc9",
            "ca2a842175b541928232c2c5f7f9bcb5",
            "47792162abc94030995233dfe1bcd413",
            "0e944465c04c4ca3aef8e98e2142774b",
            "6d4bbfbe02ef420d823565fcaa887976",
            "2d6deb588f5f47239a99c3d864a4ab00",
            "66bc125af55f4e2caddd8adb2cb12caf",
            "463728a64ebe498c8dc2db33568ffdf3",
            "fe0e97edaa1f4490ad437c50d84e917c",
            "ea38d6387efa49faa7b0fb16c3db92b7",
            "31629ca414bf4b89a30ccd0e6e18d53a"
          ]
        },
        "outputId": "43abc279-7450-4b1c-b758-a434397374d9"
      },
      "source": [
        "trainer_linear.train(5000, 1e-1, optax.adam)"
      ],
      "execution_count": 98,
      "outputs": [
        {
          "output_type": "display_data",
          "data": {
            "application/vnd.jupyter.widget-view+json": {
              "model_id": "9cc7d2ba9f2a46f4991f0c49a2ac0dc9",
              "version_minor": 0,
              "version_major": 2
            },
            "text/plain": [
              "  0%|          | 0/5000 [00:00<?, ?it/s]"
            ]
          },
          "metadata": {}
        },
        {
          "output_type": "error",
          "ename": "KeyboardInterrupt",
          "evalue": "ignored",
          "traceback": [
            "\u001b[0;31m---------------------------------------------------------------------------\u001b[0m",
            "\u001b[0;31mKeyboardInterrupt\u001b[0m                         Traceback (most recent call last)",
            "\u001b[0;32m<ipython-input-98-d696aa6072a5>\u001b[0m in \u001b[0;36m<module>\u001b[0;34m()\u001b[0m\n\u001b[0;32m----> 1\u001b[0;31m \u001b[0mtrainer_linear\u001b[0m\u001b[0;34m.\u001b[0m\u001b[0mtrain\u001b[0m\u001b[0;34m(\u001b[0m\u001b[0;36m5000\u001b[0m\u001b[0;34m,\u001b[0m \u001b[0;36m1e-1\u001b[0m\u001b[0;34m,\u001b[0m \u001b[0moptax\u001b[0m\u001b[0;34m.\u001b[0m\u001b[0madam\u001b[0m\u001b[0;34m)\u001b[0m\u001b[0;34m\u001b[0m\u001b[0;34m\u001b[0m\u001b[0m\n\u001b[0m",
            "\u001b[0;32m<ipython-input-95-f36066ed984e>\u001b[0m in \u001b[0;36mtrain\u001b[0;34m(self, epo, lr, algo)\u001b[0m\n\u001b[1;32m     85\u001b[0m                 \u001b[0mgopt\u001b[0m\u001b[0;34m,\u001b[0m\u001b[0;34m\u001b[0m\u001b[0;34m\u001b[0m\u001b[0m\n\u001b[1;32m     86\u001b[0m                 \u001b[0mopt_state\u001b[0m\u001b[0;34m,\u001b[0m\u001b[0;34m\u001b[0m\u001b[0;34m\u001b[0m\u001b[0m\n\u001b[0;32m---> 87\u001b[0;31m                 \u001b[0mself\u001b[0m\u001b[0;34m.\u001b[0m\u001b[0mparams\u001b[0m\u001b[0;34m\u001b[0m\u001b[0;34m\u001b[0m\u001b[0m\n\u001b[0m\u001b[1;32m     88\u001b[0m             )\n\u001b[1;32m     89\u001b[0m \u001b[0;34m\u001b[0m\u001b[0m\n",
            "\u001b[0;32m/usr/local/lib/python3.7/dist-packages/optax/_src/combine.py\u001b[0m in \u001b[0;36mupdate_fn\u001b[0;34m(updates, state, params)\u001b[0m\n\u001b[1;32m     52\u001b[0m     \u001b[0mnew_state\u001b[0m \u001b[0;34m=\u001b[0m \u001b[0;34m[\u001b[0m\u001b[0;34m]\u001b[0m\u001b[0;34m\u001b[0m\u001b[0;34m\u001b[0m\u001b[0m\n\u001b[1;32m     53\u001b[0m     \u001b[0;32mfor\u001b[0m \u001b[0ms\u001b[0m\u001b[0;34m,\u001b[0m \u001b[0mfn\u001b[0m \u001b[0;32min\u001b[0m \u001b[0mzip\u001b[0m\u001b[0;34m(\u001b[0m\u001b[0mstate\u001b[0m\u001b[0;34m,\u001b[0m \u001b[0mupdate_fns\u001b[0m\u001b[0;34m)\u001b[0m\u001b[0;34m:\u001b[0m\u001b[0;34m\u001b[0m\u001b[0;34m\u001b[0m\u001b[0m\n\u001b[0;32m---> 54\u001b[0;31m       \u001b[0mupdates\u001b[0m\u001b[0;34m,\u001b[0m \u001b[0mnew_s\u001b[0m \u001b[0;34m=\u001b[0m \u001b[0mfn\u001b[0m\u001b[0;34m(\u001b[0m\u001b[0mupdates\u001b[0m\u001b[0;34m,\u001b[0m \u001b[0ms\u001b[0m\u001b[0;34m,\u001b[0m \u001b[0mparams\u001b[0m\u001b[0;34m)\u001b[0m\u001b[0;34m\u001b[0m\u001b[0;34m\u001b[0m\u001b[0m\n\u001b[0m\u001b[1;32m     55\u001b[0m       \u001b[0mnew_state\u001b[0m\u001b[0;34m.\u001b[0m\u001b[0mappend\u001b[0m\u001b[0;34m(\u001b[0m\u001b[0mnew_s\u001b[0m\u001b[0;34m)\u001b[0m\u001b[0;34m\u001b[0m\u001b[0;34m\u001b[0m\u001b[0m\n\u001b[1;32m     56\u001b[0m     \u001b[0;32mreturn\u001b[0m \u001b[0mupdates\u001b[0m\u001b[0;34m,\u001b[0m \u001b[0mtuple\u001b[0m\u001b[0;34m(\u001b[0m\u001b[0mnew_state\u001b[0m\u001b[0;34m)\u001b[0m\u001b[0;34m\u001b[0m\u001b[0;34m\u001b[0m\u001b[0m\n",
            "\u001b[0;32m/usr/local/lib/python3.7/dist-packages/optax/_src/transform.py\u001b[0m in \u001b[0;36mupdate_fn\u001b[0;34m(***failed resolving arguments***)\u001b[0m\n\u001b[1;32m    297\u001b[0m     \u001b[0mnu\u001b[0m \u001b[0;34m=\u001b[0m \u001b[0m_update_moment\u001b[0m\u001b[0;34m(\u001b[0m\u001b[0mupdates\u001b[0m\u001b[0;34m,\u001b[0m \u001b[0mstate\u001b[0m\u001b[0;34m.\u001b[0m\u001b[0mnu\u001b[0m\u001b[0;34m,\u001b[0m \u001b[0mb2\u001b[0m\u001b[0;34m,\u001b[0m \u001b[0;36m2\u001b[0m\u001b[0;34m)\u001b[0m\u001b[0;34m\u001b[0m\u001b[0;34m\u001b[0m\u001b[0m\n\u001b[1;32m    298\u001b[0m     \u001b[0mcount_inc\u001b[0m \u001b[0;34m=\u001b[0m \u001b[0mnumerics\u001b[0m\u001b[0;34m.\u001b[0m\u001b[0msafe_int32_increment\u001b[0m\u001b[0;34m(\u001b[0m\u001b[0mstate\u001b[0m\u001b[0;34m.\u001b[0m\u001b[0mcount\u001b[0m\u001b[0;34m)\u001b[0m\u001b[0;34m\u001b[0m\u001b[0;34m\u001b[0m\u001b[0m\n\u001b[0;32m--> 299\u001b[0;31m     \u001b[0mmu_hat\u001b[0m \u001b[0;34m=\u001b[0m \u001b[0m_bias_correction\u001b[0m\u001b[0;34m(\u001b[0m\u001b[0mmu\u001b[0m\u001b[0;34m,\u001b[0m \u001b[0mb1\u001b[0m\u001b[0;34m,\u001b[0m \u001b[0mcount_inc\u001b[0m\u001b[0;34m)\u001b[0m\u001b[0;34m\u001b[0m\u001b[0;34m\u001b[0m\u001b[0m\n\u001b[0m\u001b[1;32m    300\u001b[0m     \u001b[0mnu_hat\u001b[0m \u001b[0;34m=\u001b[0m \u001b[0m_bias_correction\u001b[0m\u001b[0;34m(\u001b[0m\u001b[0mnu\u001b[0m\u001b[0;34m,\u001b[0m \u001b[0mb2\u001b[0m\u001b[0;34m,\u001b[0m \u001b[0mcount_inc\u001b[0m\u001b[0;34m)\u001b[0m\u001b[0;34m\u001b[0m\u001b[0;34m\u001b[0m\u001b[0m\n\u001b[1;32m    301\u001b[0m     updates = jax.tree_multimap(\n",
            "\u001b[0;32m/usr/local/lib/python3.7/dist-packages/optax/_src/transform.py\u001b[0m in \u001b[0;36m_bias_correction\u001b[0;34m(moment, decay, count)\u001b[0m\n\u001b[1;32m     84\u001b[0m \u001b[0;32mdef\u001b[0m \u001b[0m_bias_correction\u001b[0m\u001b[0;34m(\u001b[0m\u001b[0mmoment\u001b[0m\u001b[0;34m,\u001b[0m \u001b[0mdecay\u001b[0m\u001b[0;34m,\u001b[0m \u001b[0mcount\u001b[0m\u001b[0;34m)\u001b[0m\u001b[0;34m:\u001b[0m\u001b[0;34m\u001b[0m\u001b[0;34m\u001b[0m\u001b[0m\n\u001b[1;32m     85\u001b[0m   \u001b[0;34m\"\"\"Perform bias correction. This becomes a no-op as count goes to infinity.\"\"\"\u001b[0m\u001b[0;34m\u001b[0m\u001b[0;34m\u001b[0m\u001b[0m\n\u001b[0;32m---> 86\u001b[0;31m   \u001b[0mbias_correction\u001b[0m \u001b[0;34m=\u001b[0m \u001b[0;36m1\u001b[0m \u001b[0;34m-\u001b[0m \u001b[0mdecay\u001b[0m\u001b[0;34m**\u001b[0m\u001b[0mcount\u001b[0m\u001b[0;34m\u001b[0m\u001b[0;34m\u001b[0m\u001b[0m\n\u001b[0m\u001b[1;32m     87\u001b[0m   \u001b[0;32mreturn\u001b[0m \u001b[0mjax\u001b[0m\u001b[0;34m.\u001b[0m\u001b[0mtree_map\u001b[0m\u001b[0;34m(\u001b[0m\u001b[0;32mlambda\u001b[0m \u001b[0mt\u001b[0m\u001b[0;34m:\u001b[0m \u001b[0mt\u001b[0m \u001b[0;34m/\u001b[0m \u001b[0mbias_correction\u001b[0m\u001b[0;34m.\u001b[0m\u001b[0mastype\u001b[0m\u001b[0;34m(\u001b[0m\u001b[0mt\u001b[0m\u001b[0;34m.\u001b[0m\u001b[0mdtype\u001b[0m\u001b[0;34m)\u001b[0m\u001b[0;34m,\u001b[0m \u001b[0mmoment\u001b[0m\u001b[0;34m)\u001b[0m\u001b[0;34m\u001b[0m\u001b[0;34m\u001b[0m\u001b[0m\n\u001b[1;32m     88\u001b[0m \u001b[0;34m\u001b[0m\u001b[0m\n",
            "\u001b[0;32m/usr/local/lib/python3.7/dist-packages/jax/_src/numpy/lax_numpy.py\u001b[0m in \u001b[0;36mdeferring_binary_op\u001b[0;34m(self, other)\u001b[0m\n\u001b[1;32m   5922\u001b[0m     \u001b[0;32mif\u001b[0m \u001b[0;32mnot\u001b[0m \u001b[0misinstance\u001b[0m\u001b[0;34m(\u001b[0m\u001b[0mother\u001b[0m\u001b[0;34m,\u001b[0m \u001b[0m_scalar_types\u001b[0m \u001b[0;34m+\u001b[0m \u001b[0m_arraylike_types\u001b[0m \u001b[0;34m+\u001b[0m \u001b[0;34m(\u001b[0m\u001b[0mcore\u001b[0m\u001b[0;34m.\u001b[0m\u001b[0mTracer\u001b[0m\u001b[0;34m,\u001b[0m\u001b[0;34m)\u001b[0m\u001b[0;34m)\u001b[0m\u001b[0;34m:\u001b[0m\u001b[0;34m\u001b[0m\u001b[0;34m\u001b[0m\u001b[0m\n\u001b[1;32m   5923\u001b[0m       \u001b[0;32mreturn\u001b[0m \u001b[0mNotImplemented\u001b[0m\u001b[0;34m\u001b[0m\u001b[0;34m\u001b[0m\u001b[0m\n\u001b[0;32m-> 5924\u001b[0;31m     \u001b[0;32mreturn\u001b[0m \u001b[0mbinary_op\u001b[0m\u001b[0;34m(\u001b[0m\u001b[0mself\u001b[0m\u001b[0;34m,\u001b[0m \u001b[0mother\u001b[0m\u001b[0;34m)\u001b[0m\u001b[0;34m\u001b[0m\u001b[0;34m\u001b[0m\u001b[0m\n\u001b[0m\u001b[1;32m   5925\u001b[0m   \u001b[0;32mreturn\u001b[0m \u001b[0mdeferring_binary_op\u001b[0m\u001b[0;34m\u001b[0m\u001b[0;34m\u001b[0m\u001b[0m\n\u001b[1;32m   5926\u001b[0m \u001b[0;34m\u001b[0m\u001b[0m\n",
            "\u001b[0;32m/usr/local/lib/python3.7/dist-packages/jax/_src/numpy/lax_numpy.py\u001b[0m in \u001b[0;36m<lambda>\u001b[0;34m(x, y)\u001b[0m\n\u001b[1;32m   5926\u001b[0m \u001b[0;34m\u001b[0m\u001b[0m\n\u001b[1;32m   5927\u001b[0m \u001b[0;32mdef\u001b[0m \u001b[0m_swap_args\u001b[0m\u001b[0;34m(\u001b[0m\u001b[0mf\u001b[0m\u001b[0;34m)\u001b[0m\u001b[0;34m:\u001b[0m\u001b[0;34m\u001b[0m\u001b[0;34m\u001b[0m\u001b[0m\n\u001b[0;32m-> 5928\u001b[0;31m   \u001b[0;32mreturn\u001b[0m \u001b[0;32mlambda\u001b[0m \u001b[0mx\u001b[0m\u001b[0;34m,\u001b[0m \u001b[0my\u001b[0m\u001b[0;34m:\u001b[0m \u001b[0mf\u001b[0m\u001b[0;34m(\u001b[0m\u001b[0my\u001b[0m\u001b[0;34m,\u001b[0m \u001b[0mx\u001b[0m\u001b[0;34m)\u001b[0m\u001b[0;34m\u001b[0m\u001b[0;34m\u001b[0m\u001b[0m\n\u001b[0m\u001b[1;32m   5929\u001b[0m \u001b[0;34m\u001b[0m\u001b[0m\n\u001b[1;32m   5930\u001b[0m \u001b[0;32mdef\u001b[0m \u001b[0m_unimplemented_setitem\u001b[0m\u001b[0;34m(\u001b[0m\u001b[0mself\u001b[0m\u001b[0;34m,\u001b[0m \u001b[0mi\u001b[0m\u001b[0;34m,\u001b[0m \u001b[0mx\u001b[0m\u001b[0;34m)\u001b[0m\u001b[0;34m:\u001b[0m\u001b[0;34m\u001b[0m\u001b[0;34m\u001b[0m\u001b[0m\n",
            "\u001b[0;32m/usr/local/lib/python3.7/dist-packages/jax/_src/numpy/lax_numpy.py\u001b[0m in \u001b[0;36mpower\u001b[0;34m(x1, x2)\u001b[0m\n\u001b[1;32m    650\u001b[0m       \u001b[0;32mpass\u001b[0m\u001b[0;34m\u001b[0m\u001b[0;34m\u001b[0m\u001b[0m\n\u001b[1;32m    651\u001b[0m     \u001b[0;32melse\u001b[0m\u001b[0;34m:\u001b[0m\u001b[0;34m\u001b[0m\u001b[0;34m\u001b[0m\u001b[0m\n\u001b[0;32m--> 652\u001b[0;31m       \u001b[0;32mreturn\u001b[0m \u001b[0mlax\u001b[0m\u001b[0;34m.\u001b[0m\u001b[0minteger_pow\u001b[0m\u001b[0;34m(\u001b[0m\u001b[0mx1\u001b[0m\u001b[0;34m,\u001b[0m \u001b[0mx2\u001b[0m\u001b[0;34m)\u001b[0m\u001b[0;34m\u001b[0m\u001b[0;34m\u001b[0m\u001b[0m\n\u001b[0m\u001b[1;32m    653\u001b[0m \u001b[0;34m\u001b[0m\u001b[0m\n\u001b[1;32m    654\u001b[0m   \u001b[0mx1\u001b[0m\u001b[0;34m,\u001b[0m \u001b[0mx2\u001b[0m \u001b[0;34m=\u001b[0m \u001b[0m_promote_args\u001b[0m\u001b[0;34m(\u001b[0m\u001b[0;34m\"power\"\u001b[0m\u001b[0;34m,\u001b[0m \u001b[0mx1\u001b[0m\u001b[0;34m,\u001b[0m \u001b[0mx2\u001b[0m\u001b[0;34m)\u001b[0m\u001b[0;34m\u001b[0m\u001b[0;34m\u001b[0m\u001b[0m\n",
            "\u001b[0;32m/usr/local/lib/python3.7/dist-packages/jax/_src/lax/lax.py\u001b[0m in \u001b[0;36minteger_pow\u001b[0;34m(x, y)\u001b[0m\n\u001b[1;32m    302\u001b[0m \u001b[0;32mdef\u001b[0m \u001b[0minteger_pow\u001b[0m\u001b[0;34m(\u001b[0m\u001b[0mx\u001b[0m\u001b[0;34m:\u001b[0m \u001b[0mArray\u001b[0m\u001b[0;34m,\u001b[0m \u001b[0my\u001b[0m\u001b[0;34m:\u001b[0m \u001b[0mint\u001b[0m\u001b[0;34m)\u001b[0m \u001b[0;34m->\u001b[0m \u001b[0mArray\u001b[0m\u001b[0;34m:\u001b[0m\u001b[0;34m\u001b[0m\u001b[0;34m\u001b[0m\u001b[0m\n\u001b[1;32m    303\u001b[0m   \u001b[0;34mr\"\"\"Elementwise power: :math:`x^y`, where :math:`y` is a fixed integer.\"\"\"\u001b[0m\u001b[0;34m\u001b[0m\u001b[0;34m\u001b[0m\u001b[0m\n\u001b[0;32m--> 304\u001b[0;31m   \u001b[0;32mreturn\u001b[0m \u001b[0minteger_pow_p\u001b[0m\u001b[0;34m.\u001b[0m\u001b[0mbind\u001b[0m\u001b[0;34m(\u001b[0m\u001b[0mx\u001b[0m\u001b[0;34m,\u001b[0m \u001b[0my\u001b[0m\u001b[0;34m=\u001b[0m\u001b[0my\u001b[0m\u001b[0;34m)\u001b[0m\u001b[0;34m\u001b[0m\u001b[0;34m\u001b[0m\u001b[0m\n\u001b[0m\u001b[1;32m    305\u001b[0m \u001b[0;34m\u001b[0m\u001b[0m\n\u001b[1;32m    306\u001b[0m \u001b[0;32mdef\u001b[0m \u001b[0msqrt\u001b[0m\u001b[0;34m(\u001b[0m\u001b[0mx\u001b[0m\u001b[0;34m:\u001b[0m \u001b[0mArray\u001b[0m\u001b[0;34m)\u001b[0m \u001b[0;34m->\u001b[0m \u001b[0mArray\u001b[0m\u001b[0;34m:\u001b[0m\u001b[0;34m\u001b[0m\u001b[0;34m\u001b[0m\u001b[0m\n",
            "\u001b[0;32m/usr/local/lib/python3.7/dist-packages/jax/core.py\u001b[0m in \u001b[0;36mbind\u001b[0;34m(self, *args, **params)\u001b[0m\n\u001b[1;32m    263\u001b[0m         args, used_axis_names(self, params) if self._dispatch_on_params else None)\n\u001b[1;32m    264\u001b[0m     \u001b[0mtracers\u001b[0m \u001b[0;34m=\u001b[0m \u001b[0mmap\u001b[0m\u001b[0;34m(\u001b[0m\u001b[0mtop_trace\u001b[0m\u001b[0;34m.\u001b[0m\u001b[0mfull_raise\u001b[0m\u001b[0;34m,\u001b[0m \u001b[0margs\u001b[0m\u001b[0;34m)\u001b[0m\u001b[0;34m\u001b[0m\u001b[0;34m\u001b[0m\u001b[0m\n\u001b[0;32m--> 265\u001b[0;31m     \u001b[0mout\u001b[0m \u001b[0;34m=\u001b[0m \u001b[0mtop_trace\u001b[0m\u001b[0;34m.\u001b[0m\u001b[0mprocess_primitive\u001b[0m\u001b[0;34m(\u001b[0m\u001b[0mself\u001b[0m\u001b[0;34m,\u001b[0m \u001b[0mtracers\u001b[0m\u001b[0;34m,\u001b[0m \u001b[0mparams\u001b[0m\u001b[0;34m)\u001b[0m\u001b[0;34m\u001b[0m\u001b[0;34m\u001b[0m\u001b[0m\n\u001b[0m\u001b[1;32m    266\u001b[0m     \u001b[0;32mreturn\u001b[0m \u001b[0mmap\u001b[0m\u001b[0;34m(\u001b[0m\u001b[0mfull_lower\u001b[0m\u001b[0;34m,\u001b[0m \u001b[0mout\u001b[0m\u001b[0;34m)\u001b[0m \u001b[0;32mif\u001b[0m \u001b[0mself\u001b[0m\u001b[0;34m.\u001b[0m\u001b[0mmultiple_results\u001b[0m \u001b[0;32melse\u001b[0m \u001b[0mfull_lower\u001b[0m\u001b[0;34m(\u001b[0m\u001b[0mout\u001b[0m\u001b[0;34m)\u001b[0m\u001b[0;34m\u001b[0m\u001b[0;34m\u001b[0m\u001b[0m\n\u001b[1;32m    267\u001b[0m \u001b[0;34m\u001b[0m\u001b[0m\n",
            "\u001b[0;32m/usr/local/lib/python3.7/dist-packages/jax/core.py\u001b[0m in \u001b[0;36mprocess_primitive\u001b[0;34m(self, primitive, tracers, params)\u001b[0m\n\u001b[1;32m    608\u001b[0m \u001b[0;34m\u001b[0m\u001b[0m\n\u001b[1;32m    609\u001b[0m   \u001b[0;32mdef\u001b[0m \u001b[0mprocess_primitive\u001b[0m\u001b[0;34m(\u001b[0m\u001b[0mself\u001b[0m\u001b[0;34m,\u001b[0m \u001b[0mprimitive\u001b[0m\u001b[0;34m,\u001b[0m \u001b[0mtracers\u001b[0m\u001b[0;34m,\u001b[0m \u001b[0mparams\u001b[0m\u001b[0;34m)\u001b[0m\u001b[0;34m:\u001b[0m\u001b[0;34m\u001b[0m\u001b[0;34m\u001b[0m\u001b[0m\n\u001b[0;32m--> 610\u001b[0;31m     \u001b[0;32mreturn\u001b[0m \u001b[0mprimitive\u001b[0m\u001b[0;34m.\u001b[0m\u001b[0mimpl\u001b[0m\u001b[0;34m(\u001b[0m\u001b[0;34m*\u001b[0m\u001b[0mtracers\u001b[0m\u001b[0;34m,\u001b[0m \u001b[0;34m**\u001b[0m\u001b[0mparams\u001b[0m\u001b[0;34m)\u001b[0m\u001b[0;34m\u001b[0m\u001b[0;34m\u001b[0m\u001b[0m\n\u001b[0m\u001b[1;32m    611\u001b[0m \u001b[0;34m\u001b[0m\u001b[0m\n\u001b[1;32m    612\u001b[0m   \u001b[0;32mdef\u001b[0m \u001b[0mprocess_call\u001b[0m\u001b[0;34m(\u001b[0m\u001b[0mself\u001b[0m\u001b[0;34m,\u001b[0m \u001b[0mprimitive\u001b[0m\u001b[0;34m,\u001b[0m \u001b[0mf\u001b[0m\u001b[0;34m,\u001b[0m \u001b[0mtracers\u001b[0m\u001b[0;34m,\u001b[0m \u001b[0mparams\u001b[0m\u001b[0;34m)\u001b[0m\u001b[0;34m:\u001b[0m\u001b[0;34m\u001b[0m\u001b[0;34m\u001b[0m\u001b[0m\n",
            "\u001b[0;32m/usr/local/lib/python3.7/dist-packages/jax/interpreters/xla.py\u001b[0m in \u001b[0;36mapply_primitive\u001b[0;34m(prim, *args, **params)\u001b[0m\n\u001b[1;32m    271\u001b[0m \u001b[0;32mdef\u001b[0m \u001b[0mapply_primitive\u001b[0m\u001b[0;34m(\u001b[0m\u001b[0mprim\u001b[0m\u001b[0;34m,\u001b[0m \u001b[0;34m*\u001b[0m\u001b[0margs\u001b[0m\u001b[0;34m,\u001b[0m \u001b[0;34m**\u001b[0m\u001b[0mparams\u001b[0m\u001b[0;34m)\u001b[0m\u001b[0;34m:\u001b[0m\u001b[0;34m\u001b[0m\u001b[0;34m\u001b[0m\u001b[0m\n\u001b[1;32m    272\u001b[0m   \u001b[0;34m\"\"\"Impl rule that compiles and runs a single primitive 'prim' using XLA.\"\"\"\u001b[0m\u001b[0;34m\u001b[0m\u001b[0;34m\u001b[0m\u001b[0m\n\u001b[0;32m--> 273\u001b[0;31m   \u001b[0mcompiled_fun\u001b[0m \u001b[0;34m=\u001b[0m \u001b[0mxla_primitive_callable\u001b[0m\u001b[0;34m(\u001b[0m\u001b[0mprim\u001b[0m\u001b[0;34m,\u001b[0m \u001b[0;34m*\u001b[0m\u001b[0munsafe_map\u001b[0m\u001b[0;34m(\u001b[0m\u001b[0marg_spec\u001b[0m\u001b[0;34m,\u001b[0m \u001b[0margs\u001b[0m\u001b[0;34m)\u001b[0m\u001b[0;34m,\u001b[0m \u001b[0;34m**\u001b[0m\u001b[0mparams\u001b[0m\u001b[0;34m)\u001b[0m\u001b[0;34m\u001b[0m\u001b[0;34m\u001b[0m\u001b[0m\n\u001b[0m\u001b[1;32m    274\u001b[0m   \u001b[0;32mreturn\u001b[0m \u001b[0mcompiled_fun\u001b[0m\u001b[0;34m(\u001b[0m\u001b[0;34m*\u001b[0m\u001b[0margs\u001b[0m\u001b[0;34m)\u001b[0m\u001b[0;34m\u001b[0m\u001b[0;34m\u001b[0m\u001b[0m\n\u001b[1;32m    275\u001b[0m \u001b[0;34m\u001b[0m\u001b[0m\n",
            "\u001b[0;32m/usr/local/lib/python3.7/dist-packages/jax/_src/util.py\u001b[0m in \u001b[0;36mwrapper\u001b[0;34m(*args, **kwargs)\u001b[0m\n\u001b[1;32m    184\u001b[0m         \u001b[0;32mreturn\u001b[0m \u001b[0mf\u001b[0m\u001b[0;34m(\u001b[0m\u001b[0;34m*\u001b[0m\u001b[0margs\u001b[0m\u001b[0;34m,\u001b[0m \u001b[0;34m**\u001b[0m\u001b[0mkwargs\u001b[0m\u001b[0;34m)\u001b[0m\u001b[0;34m\u001b[0m\u001b[0;34m\u001b[0m\u001b[0m\n\u001b[1;32m    185\u001b[0m       \u001b[0;32melse\u001b[0m\u001b[0;34m:\u001b[0m\u001b[0;34m\u001b[0m\u001b[0;34m\u001b[0m\u001b[0m\n\u001b[0;32m--> 186\u001b[0;31m         \u001b[0;32mreturn\u001b[0m \u001b[0mcached\u001b[0m\u001b[0;34m(\u001b[0m\u001b[0mconfig\u001b[0m\u001b[0;34m.\u001b[0m\u001b[0m_trace_context\u001b[0m\u001b[0;34m(\u001b[0m\u001b[0;34m)\u001b[0m\u001b[0;34m,\u001b[0m \u001b[0;34m*\u001b[0m\u001b[0margs\u001b[0m\u001b[0;34m,\u001b[0m \u001b[0;34m**\u001b[0m\u001b[0mkwargs\u001b[0m\u001b[0;34m)\u001b[0m\u001b[0;34m\u001b[0m\u001b[0;34m\u001b[0m\u001b[0m\n\u001b[0m\u001b[1;32m    187\u001b[0m \u001b[0;34m\u001b[0m\u001b[0m\n\u001b[1;32m    188\u001b[0m     \u001b[0mwrapper\u001b[0m\u001b[0;34m.\u001b[0m\u001b[0mcache_clear\u001b[0m \u001b[0;34m=\u001b[0m \u001b[0mcached\u001b[0m\u001b[0;34m.\u001b[0m\u001b[0mcache_clear\u001b[0m\u001b[0;34m\u001b[0m\u001b[0;34m\u001b[0m\u001b[0m\n",
            "\u001b[0;32m/usr/local/lib/python3.7/dist-packages/jax/_src/util.py\u001b[0m in \u001b[0;36mcached\u001b[0;34m(_, *args, **kwargs)\u001b[0m\n\u001b[1;32m    177\u001b[0m     \u001b[0;34m@\u001b[0m\u001b[0mfunctools\u001b[0m\u001b[0;34m.\u001b[0m\u001b[0mlru_cache\u001b[0m\u001b[0;34m(\u001b[0m\u001b[0mmax_size\u001b[0m\u001b[0;34m)\u001b[0m\u001b[0;34m\u001b[0m\u001b[0;34m\u001b[0m\u001b[0m\n\u001b[1;32m    178\u001b[0m     \u001b[0;32mdef\u001b[0m \u001b[0mcached\u001b[0m\u001b[0;34m(\u001b[0m\u001b[0m_\u001b[0m\u001b[0;34m,\u001b[0m \u001b[0;34m*\u001b[0m\u001b[0margs\u001b[0m\u001b[0;34m,\u001b[0m \u001b[0;34m**\u001b[0m\u001b[0mkwargs\u001b[0m\u001b[0;34m)\u001b[0m\u001b[0;34m:\u001b[0m\u001b[0;34m\u001b[0m\u001b[0;34m\u001b[0m\u001b[0m\n\u001b[0;32m--> 179\u001b[0;31m       \u001b[0;32mreturn\u001b[0m \u001b[0mf\u001b[0m\u001b[0;34m(\u001b[0m\u001b[0;34m*\u001b[0m\u001b[0margs\u001b[0m\u001b[0;34m,\u001b[0m \u001b[0;34m**\u001b[0m\u001b[0mkwargs\u001b[0m\u001b[0;34m)\u001b[0m\u001b[0;34m\u001b[0m\u001b[0;34m\u001b[0m\u001b[0m\n\u001b[0m\u001b[1;32m    180\u001b[0m \u001b[0;34m\u001b[0m\u001b[0m\n\u001b[1;32m    181\u001b[0m     \u001b[0;34m@\u001b[0m\u001b[0mfunctools\u001b[0m\u001b[0;34m.\u001b[0m\u001b[0mwraps\u001b[0m\u001b[0;34m(\u001b[0m\u001b[0mf\u001b[0m\u001b[0;34m)\u001b[0m\u001b[0;34m\u001b[0m\u001b[0;34m\u001b[0m\u001b[0m\n",
            "\u001b[0;32m/usr/local/lib/python3.7/dist-packages/jax/interpreters/xla.py\u001b[0m in \u001b[0;36mxla_primitive_callable\u001b[0;34m(prim, *arg_specs, **params)\u001b[0m\n\u001b[1;32m    320\u001b[0m       device_assignment=device and (device.id,))\n\u001b[1;32m    321\u001b[0m   \u001b[0moptions\u001b[0m\u001b[0;34m.\u001b[0m\u001b[0mparameter_is_tupled_arguments\u001b[0m \u001b[0;34m=\u001b[0m \u001b[0mtuple_args\u001b[0m\u001b[0;34m\u001b[0m\u001b[0;34m\u001b[0m\u001b[0m\n\u001b[0;32m--> 322\u001b[0;31m   \u001b[0mcompiled\u001b[0m \u001b[0;34m=\u001b[0m \u001b[0mbackend_compile\u001b[0m\u001b[0;34m(\u001b[0m\u001b[0mbackend\u001b[0m\u001b[0;34m,\u001b[0m \u001b[0mbuilt_c\u001b[0m\u001b[0;34m,\u001b[0m \u001b[0moptions\u001b[0m\u001b[0;34m)\u001b[0m\u001b[0;34m\u001b[0m\u001b[0;34m\u001b[0m\u001b[0m\n\u001b[0m\u001b[1;32m    323\u001b[0m   \u001b[0;32mif\u001b[0m \u001b[0mnreps\u001b[0m \u001b[0;34m==\u001b[0m \u001b[0;36m1\u001b[0m\u001b[0;34m:\u001b[0m\u001b[0;34m\u001b[0m\u001b[0;34m\u001b[0m\u001b[0m\n\u001b[1;32m    324\u001b[0m     \u001b[0;32mreturn\u001b[0m \u001b[0mpartial\u001b[0m\u001b[0;34m(\u001b[0m\u001b[0m_execute_compiled_primitive\u001b[0m\u001b[0;34m,\u001b[0m \u001b[0mprim\u001b[0m\u001b[0;34m,\u001b[0m \u001b[0mcompiled\u001b[0m\u001b[0;34m,\u001b[0m \u001b[0mhandle_result\u001b[0m\u001b[0;34m)\u001b[0m\u001b[0;34m\u001b[0m\u001b[0;34m\u001b[0m\u001b[0m\n",
            "\u001b[0;32m/usr/local/lib/python3.7/dist-packages/jax/interpreters/xla.py\u001b[0m in \u001b[0;36mbackend_compile\u001b[0;34m(backend, built_c, options)\u001b[0m\n\u001b[1;32m    383\u001b[0m   \u001b[0;31m# we use a separate function call to ensure that XLA compilation appears\u001b[0m\u001b[0;34m\u001b[0m\u001b[0;34m\u001b[0m\u001b[0;34m\u001b[0m\u001b[0m\n\u001b[1;32m    384\u001b[0m   \u001b[0;31m# separately in Python profiling results\u001b[0m\u001b[0;34m\u001b[0m\u001b[0;34m\u001b[0m\u001b[0;34m\u001b[0m\u001b[0m\n\u001b[0;32m--> 385\u001b[0;31m   \u001b[0;32mreturn\u001b[0m \u001b[0mbackend\u001b[0m\u001b[0;34m.\u001b[0m\u001b[0mcompile\u001b[0m\u001b[0;34m(\u001b[0m\u001b[0mbuilt_c\u001b[0m\u001b[0;34m,\u001b[0m \u001b[0mcompile_options\u001b[0m\u001b[0;34m=\u001b[0m\u001b[0moptions\u001b[0m\u001b[0;34m)\u001b[0m\u001b[0;34m\u001b[0m\u001b[0;34m\u001b[0m\u001b[0m\n\u001b[0m\u001b[1;32m    386\u001b[0m \u001b[0;34m\u001b[0m\u001b[0m\n\u001b[1;32m    387\u001b[0m \u001b[0;32mdef\u001b[0m \u001b[0m_execute_compiled_primitive\u001b[0m\u001b[0;34m(\u001b[0m\u001b[0mprim\u001b[0m\u001b[0;34m,\u001b[0m \u001b[0mcompiled\u001b[0m\u001b[0;34m,\u001b[0m \u001b[0mresult_handler\u001b[0m\u001b[0;34m,\u001b[0m \u001b[0;34m*\u001b[0m\u001b[0margs\u001b[0m\u001b[0;34m)\u001b[0m\u001b[0;34m:\u001b[0m\u001b[0;34m\u001b[0m\u001b[0;34m\u001b[0m\u001b[0m\n",
            "\u001b[0;31mKeyboardInterrupt\u001b[0m: "
          ]
        }
      ]
    },
    {
      "cell_type": "code",
      "metadata": {
        "id": "HRmjyV5XZfyb",
        "colab": {
          "base_uri": "https://localhost:8080/",
          "height": 528
        },
        "outputId": "344e5d0b-b8a8-41bf-c85e-4d44044323b5"
      },
      "source": [
        "trainer_linear.plot()\n",
        "trajs_list = [\n",
        "  trajectories_constant(states_test, controls_test, f_analytical, 10, 0.1),\n",
        "  trajectories_constant(states_test, controls_test, lambda x, u: trainer_linear.f.apply(trainer_linear.params, x, u), 10, 0.1)\n",
        "]\n",
        "plot(trajs_list, ['k-', 'k--'], ['Analytical', 'Neural'])"
      ],
      "execution_count": 77,
      "outputs": [
        {
          "output_type": "display_data",
          "data": {
            "image/png": "[encoded data removed]",
            "text/plain": [
              "<Figure size 432x288 with 1 Axes>"
            ]
          },
          "metadata": {
            "needs_background": "light"
          }
        },
        {
          "output_type": "display_data",
          "data": {
            "image/png": "[encoded data removed]",
            "text/plain": [
              "<Figure size 432x288 with 1 Axes>"
            ]
          },
          "metadata": {
            "needs_background": "light"
          }
        }
      ]
    },
    {
      "cell_type": "markdown",
      "metadata": {
        "id": "7zW9oelotWzD"
      },
      "source": [
        "## Damping"
      ]
    },
    {
      "cell_type": "code",
      "metadata": {
        "id": "Fwtf86hl-_UV"
      },
      "source": [
        "trainer_damping = Trainer(5000, F_damping, 'damping')"
      ],
      "execution_count": 82,
      "outputs": []
    },
    {
      "cell_type": "code",
      "metadata": {
        "colab": {
          "base_uri": "https://localhost:8080/",
          "height": 49,
          "referenced_widgets": [
            "00d82fd1b1f54818a1edf4e18adf7c34",
            "da48fb76646b48ef80a315fd11aab6e0",
            "888f98d0a66441119037226510555933",
            "777da975a1a24ffda9dae14b46c0ed0d",
            "aafdb8bf6a7249a7b3b674764d768bc8",
            "08c736958c5e4d638393e052afc7b0c3",
            "857d1f124d64468a9f2eb1f8df7c7cf5",
            "6c9b8d986f444de58776dce2d8d95895",
            "3d7438f9c6b1439aa34c2a843a079b36",
            "8e0144dd40e24f14b742315fff8aa6ca",
            "79fa0c2330cb47cc93f45b7315704734"
          ]
        },
        "id": "qBt-5X2Ptfjf",
        "outputId": "2d7d262a-dd85-43bf-81e3-741a54ca3dc5"
      },
      "source": [
        "trainer_damping.train(5000, 1e-4, optax.adam)"
      ],
      "execution_count": 84,
      "outputs": [
        {
          "output_type": "display_data",
          "data": {
            "application/vnd.jupyter.widget-view+json": {
              "model_id": "00d82fd1b1f54818a1edf4e18adf7c34",
              "version_minor": 0,
              "version_major": 2
            },
            "text/plain": [
              "  0%|          | 0/5000 [00:00<?, ?it/s]"
            ]
          },
          "metadata": {}
        }
      ]
    },
    {
      "cell_type": "code",
      "metadata": {
        "colab": {
          "base_uri": "https://localhost:8080/",
          "height": 528
        },
        "id": "5vkDcolUtot2",
        "outputId": "07b71ea8-59ab-459d-f230-7926d08e0e44"
      },
      "source": [
        "trainer_damping.plot()\n",
        "trajs_list = [\n",
        "  trajectories_constant(states_test, controls_test, f_analytical, 10, 0.1),\n",
        "  trajectories_constant(states_test, controls_test, trainer_damping.f, 10, 0.1)\n",
        "]\n",
        "plot(trajs_list, ['k-', 'k--'], ['Analytical', 'Damping'])"
      ],
      "execution_count": 86,
      "outputs": [
        {
          "output_type": "display_data",
          "data": {
            "image/png": "[encoded data removed]",
            "text/plain": [
              "<Figure size 432x288 with 1 Axes>"
            ]
          },
          "metadata": {
            "needs_background": "light"
          }
        },
        {
          "output_type": "display_data",
          "data": {
            "image/png": "[encoded data removed]",
            "text/plain": [
              "<Figure size 432x288 with 1 Axes>"
            ]
          },
          "metadata": {
            "needs_background": "light"
          }
        }
      ]
    },
    {
      "cell_type": "markdown",
      "metadata": {
        "id": "7O5Ue-HZzXqV"
      },
      "source": [
        "## Naïve"
      ]
    },
    {
      "cell_type": "code",
      "metadata": {
        "id": "APjtjknIx8pL"
      },
      "source": [
        "trainer_naive = Trainer(5000, F_naive, 'naive')"
      ],
      "execution_count": 30,
      "outputs": []
    },
    {
      "cell_type": "code",
      "metadata": {
        "colab": {
          "base_uri": "https://localhost:8080/",
          "height": 49,
          "referenced_widgets": [
            "da32618327014f359e973f532684c523",
            "0b1b4a3d66384fa0b83c360c2bce89e7",
            "3d1c3e3215e0430781494387a9350b30",
            "270835382b9e42bb9fd30284ce3ce706",
            "3e5aa66d9f0742a9a3f16afe49abdcbd",
            "f985385e1c3d4b4895c400cb4d969efd",
            "666efaf883614bbf8ee54791fd6b8550",
            "e5911272b13d4f2389840bcae3d9d0bc",
            "0d58cd17a5a4432a9120fe04156e2dda",
            "7be0eb0720aa47539459d3d001def911",
            "31b76fb93c95496c9a8b46a04e3c2f24"
          ]
        },
        "id": "AWFJVpRUzkNI",
        "outputId": "e4667b29-9f56-4e20-f73b-29dcd1083d35"
      },
      "source": [
        "trainer_naive.train(5000, 1e-4, optax.adam)"
      ],
      "execution_count": 38,
      "outputs": [
        {
          "output_type": "display_data",
          "data": {
            "application/vnd.jupyter.widget-view+json": {
              "model_id": "da32618327014f359e973f532684c523",
              "version_minor": 0,
              "version_major": 2
            },
            "text/plain": [
              "  0%|          | 0/5000 [00:00<?, ?it/s]"
            ]
          },
          "metadata": {}
        }
      ]
    },
    {
      "cell_type": "code",
      "metadata": {
        "colab": {
          "base_uri": "https://localhost:8080/",
          "height": 528
        },
        "id": "T-EQ1kGszlmq",
        "outputId": "16b2ac1b-42de-4ab7-94d8-346a13957df9"
      },
      "source": [
        "trainer_naive.plot()\n",
        "trajs_list = [\n",
        "  trajectories_constant(states_test, controls_test, f_analytical, 10, 0.1),\n",
        "  trajectories_constant(states_test, controls_test, trainer_naive.f, 10, 0.1)\n",
        "]\n",
        "plot(trajs_list, ['k-', 'k--'], ['Analytical', 'Naive'])"
      ],
      "execution_count": 37,
      "outputs": [
        {
          "output_type": "display_data",
          "data": {
            "image/png": "[encoded data removed]",
            "text/plain": [
              "<Figure size 432x288 with 1 Axes>"
            ]
          },
          "metadata": {
            "needs_background": "light"
          }
        },
        {
          "output_type": "display_data",
          "data": {
            "image/png": "[encoded data removed]",
            "text/plain": [
              "<Figure size 432x288 with 1 Axes>"
            ]
          },
          "metadata": {
            "needs_background": "light"
          }
        }
      ]
    },
    {
      "cell_type": "code",
      "metadata": {
        "id": "01i-Nhqe-_Td"
      },
      "source": [
        ""
      ],
      "execution_count": null,
      "outputs": []
    }
  ]
}