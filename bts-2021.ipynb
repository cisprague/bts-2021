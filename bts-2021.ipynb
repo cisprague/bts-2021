{
  "nbformat": 4,
  "nbformat_minor": 2,
  "metadata": {
    "colab": {
      "name": "bts-2021.ipynb",
      "provenance": [],
      "collapsed_sections": [],
      "toc_visible": true,
      "include_colab_link": true
    },
    "kernelspec": {
      "name": "python3",
      "display_name": "Python 3.8.10 64-bit"
    },
    "language_info": {
      "name": "python",
      "version": "3.8.10",
      "mimetype": "text/x-python",
      "codemirror_mode": {
        "name": "ipython",
        "version": 3
      },
      "pygments_lexer": "ipython3",
      "nbconvert_exporter": "python",
      "file_extension": ".py"
    },
    "accelerator": "TPU",
    "interpreter": {
      "hash": "916dbcbb3f70747c44a77c7bcd40155683ae19c65e1c03b4aa3499c5328201f1"
    },
    "widgets": {
      "application/vnd.jupyter.widget-state+json": {
        "9cc7d2ba9f2a46f4991f0c49a2ac0dc9": {
          "model_module": "@jupyter-widgets/controls",
          "model_name": "HBoxModel",
          "model_module_version": "1.5.0",
          "state": {
            "_view_name": "HBoxView",
            "_dom_classes": [],
            "_model_name": "HBoxModel",
            "_view_module": "@jupyter-widgets/controls",
            "_model_module_version": "1.5.0",
            "_view_count": null,
            "_view_module_version": "1.5.0",
            "box_style": "",
            "layout": "IPY_MODEL_ca2a842175b541928232c2c5f7f9bcb5",
            "_model_module": "@jupyter-widgets/controls",
            "children": [
              "IPY_MODEL_47792162abc94030995233dfe1bcd413",
              "IPY_MODEL_0e944465c04c4ca3aef8e98e2142774b",
              "IPY_MODEL_6d4bbfbe02ef420d823565fcaa887976"
            ]
          }
        },
        "ca2a842175b541928232c2c5f7f9bcb5": {
          "model_module": "@jupyter-widgets/base",
          "model_name": "LayoutModel",
          "model_module_version": "1.2.0",
          "state": {
            "_view_name": "LayoutView",
            "grid_template_rows": null,
            "right": null,
            "justify_content": null,
            "_view_module": "@jupyter-widgets/base",
            "overflow": null,
            "_model_module_version": "1.2.0",
            "_view_count": null,
            "flex_flow": null,
            "width": null,
            "min_width": null,
            "border": null,
            "align_items": null,
            "bottom": null,
            "_model_module": "@jupyter-widgets/base",
            "top": null,
            "grid_column": null,
            "overflow_y": null,
            "overflow_x": null,
            "grid_auto_flow": null,
            "grid_area": null,
            "grid_template_columns": null,
            "flex": null,
            "_model_name": "LayoutModel",
            "justify_items": null,
            "grid_row": null,
            "max_height": null,
            "align_content": null,
            "visibility": null,
            "align_self": null,
            "height": null,
            "min_height": null,
            "padding": null,
            "grid_auto_rows": null,
            "grid_gap": null,
            "max_width": null,
            "order": null,
            "_view_module_version": "1.2.0",
            "grid_template_areas": null,
            "object_position": null,
            "object_fit": null,
            "grid_auto_columns": null,
            "margin": null,
            "display": null,
            "left": null
          }
        },
        "47792162abc94030995233dfe1bcd413": {
          "model_module": "@jupyter-widgets/controls",
          "model_name": "HTMLModel",
          "model_module_version": "1.5.0",
          "state": {
            "_view_name": "HTMLView",
            "style": "IPY_MODEL_2d6deb588f5f47239a99c3d864a4ab00",
            "_dom_classes": [],
            "description": "",
            "_model_name": "HTMLModel",
            "placeholder": "​",
            "_view_module": "@jupyter-widgets/controls",
            "_model_module_version": "1.5.0",
            "value": "89686.976562:   5%",
            "_view_count": null,
            "_view_module_version": "1.5.0",
            "description_tooltip": null,
            "_model_module": "@jupyter-widgets/controls",
            "layout": "IPY_MODEL_66bc125af55f4e2caddd8adb2cb12caf"
          }
        },
        "0e944465c04c4ca3aef8e98e2142774b": {
          "model_module": "@jupyter-widgets/controls",
          "model_name": "FloatProgressModel",
          "model_module_version": "1.5.0",
          "state": {
            "_view_name": "ProgressView",
            "style": "IPY_MODEL_463728a64ebe498c8dc2db33568ffdf3",
            "_dom_classes": [],
            "description": "",
            "_model_name": "FloatProgressModel",
            "bar_style": "danger",
            "max": 5000,
            "_view_module": "@jupyter-widgets/controls",
            "_model_module_version": "1.5.0",
            "value": 233,
            "_view_count": null,
            "_view_module_version": "1.5.0",
            "orientation": "horizontal",
            "min": 0,
            "description_tooltip": null,
            "_model_module": "@jupyter-widgets/controls",
            "layout": "IPY_MODEL_fe0e97edaa1f4490ad437c50d84e917c"
          }
        },
        "6d4bbfbe02ef420d823565fcaa887976": {
          "model_module": "@jupyter-widgets/controls",
          "model_name": "HTMLModel",
          "model_module_version": "1.5.0",
          "state": {
            "_view_name": "HTMLView",
            "style": "IPY_MODEL_ea38d6387efa49faa7b0fb16c3db92b7",
            "_dom_classes": [],
            "description": "",
            "_model_name": "HTMLModel",
            "placeholder": "​",
            "_view_module": "@jupyter-widgets/controls",
            "_model_module_version": "1.5.0",
            "value": " 233/5000 [00:07&lt;02:24, 32.88it/s]",
            "_view_count": null,
            "_view_module_version": "1.5.0",
            "description_tooltip": null,
            "_model_module": "@jupyter-widgets/controls",
            "layout": "IPY_MODEL_31629ca414bf4b89a30ccd0e6e18d53a"
          }
        },
        "2d6deb588f5f47239a99c3d864a4ab00": {
          "model_module": "@jupyter-widgets/controls",
          "model_name": "DescriptionStyleModel",
          "model_module_version": "1.5.0",
          "state": {
            "_view_name": "StyleView",
            "_model_name": "DescriptionStyleModel",
            "description_width": "",
            "_view_module": "@jupyter-widgets/base",
            "_model_module_version": "1.5.0",
            "_view_count": null,
            "_view_module_version": "1.2.0",
            "_model_module": "@jupyter-widgets/controls"
          }
        },
        "66bc125af55f4e2caddd8adb2cb12caf": {
          "model_module": "@jupyter-widgets/base",
          "model_name": "LayoutModel",
          "model_module_version": "1.2.0",
          "state": {
            "_view_name": "LayoutView",
            "grid_template_rows": null,
            "right": null,
            "justify_content": null,
            "_view_module": "@jupyter-widgets/base",
            "overflow": null,
            "_model_module_version": "1.2.0",
            "_view_count": null,
            "flex_flow": null,
            "width": null,
            "min_width": null,
            "border": null,
            "align_items": null,
            "bottom": null,
            "_model_module": "@jupyter-widgets/base",
            "top": null,
            "grid_column": null,
            "overflow_y": null,
            "overflow_x": null,
            "grid_auto_flow": null,
            "grid_area": null,
            "grid_template_columns": null,
            "flex": null,
            "_model_name": "LayoutModel",
            "justify_items": null,
            "grid_row": null,
            "max_height": null,
            "align_content": null,
            "visibility": null,
            "align_self": null,
            "height": null,
            "min_height": null,
            "padding": null,
            "grid_auto_rows": null,
            "grid_gap": null,
            "max_width": null,
            "order": null,
            "_view_module_version": "1.2.0",
            "grid_template_areas": null,
            "object_position": null,
            "object_fit": null,
            "grid_auto_columns": null,
            "margin": null,
            "display": null,
            "left": null
          }
        },
        "463728a64ebe498c8dc2db33568ffdf3": {
          "model_module": "@jupyter-widgets/controls",
          "model_name": "ProgressStyleModel",
          "model_module_version": "1.5.0",
          "state": {
            "_view_name": "StyleView",
            "_model_name": "ProgressStyleModel",
            "description_width": "",
            "_view_module": "@jupyter-widgets/base",
            "_model_module_version": "1.5.0",
            "_view_count": null,
            "_view_module_version": "1.2.0",
            "bar_color": null,
            "_model_module": "@jupyter-widgets/controls"
          }
        },
        "fe0e97edaa1f4490ad437c50d84e917c": {
          "model_module": "@jupyter-widgets/base",
          "model_name": "LayoutModel",
          "model_module_version": "1.2.0",
          "state": {
            "_view_name": "LayoutView",
            "grid_template_rows": null,
            "right": null,
            "justify_content": null,
            "_view_module": "@jupyter-widgets/base",
            "overflow": null,
            "_model_module_version": "1.2.0",
            "_view_count": null,
            "flex_flow": null,
            "width": null,
            "min_width": null,
            "border": null,
            "align_items": null,
            "bottom": null,
            "_model_module": "@jupyter-widgets/base",
            "top": null,
            "grid_column": null,
            "overflow_y": null,
            "overflow_x": null,
            "grid_auto_flow": null,
            "grid_area": null,
            "grid_template_columns": null,
            "flex": null,
            "_model_name": "LayoutModel",
            "justify_items": null,
            "grid_row": null,
            "max_height": null,
            "align_content": null,
            "visibility": null,
            "align_self": null,
            "height": null,
            "min_height": null,
            "padding": null,
            "grid_auto_rows": null,
            "grid_gap": null,
            "max_width": null,
            "order": null,
            "_view_module_version": "1.2.0",
            "grid_template_areas": null,
            "object_position": null,
            "object_fit": null,
            "grid_auto_columns": null,
            "margin": null,
            "display": null,
            "left": null
          }
        },
        "ea38d6387efa49faa7b0fb16c3db92b7": {
          "model_module": "@jupyter-widgets/controls",
          "model_name": "DescriptionStyleModel",
          "model_module_version": "1.5.0",
          "state": {
            "_view_name": "StyleView",
            "_model_name": "DescriptionStyleModel",
            "description_width": "",
            "_view_module": "@jupyter-widgets/base",
            "_model_module_version": "1.5.0",
            "_view_count": null,
            "_view_module_version": "1.2.0",
            "_model_module": "@jupyter-widgets/controls"
          }
        },
        "31629ca414bf4b89a30ccd0e6e18d53a": {
          "model_module": "@jupyter-widgets/base",
          "model_name": "LayoutModel",
          "model_module_version": "1.2.0",
          "state": {
            "_view_name": "LayoutView",
            "grid_template_rows": null,
            "right": null,
            "justify_content": null,
            "_view_module": "@jupyter-widgets/base",
            "overflow": null,
            "_model_module_version": "1.2.0",
            "_view_count": null,
            "flex_flow": null,
            "width": null,
            "min_width": null,
            "border": null,
            "align_items": null,
            "bottom": null,
            "_model_module": "@jupyter-widgets/base",
            "top": null,
            "grid_column": null,
            "overflow_y": null,
            "overflow_x": null,
            "grid_auto_flow": null,
            "grid_area": null,
            "grid_template_columns": null,
            "flex": null,
            "_model_name": "LayoutModel",
            "justify_items": null,
            "grid_row": null,
            "max_height": null,
            "align_content": null,
            "visibility": null,
            "align_self": null,
            "height": null,
            "min_height": null,
            "padding": null,
            "grid_auto_rows": null,
            "grid_gap": null,
            "max_width": null,
            "order": null,
            "_view_module_version": "1.2.0",
            "grid_template_areas": null,
            "object_position": null,
            "object_fit": null,
            "grid_auto_columns": null,
            "margin": null,
            "display": null,
            "left": null
          }
        },
        "d393f54dd65846038c55edfcf0d73489": {
          "model_module": "@jupyter-widgets/controls",
          "model_name": "HBoxModel",
          "model_module_version": "1.5.0",
          "state": {
            "_view_name": "HBoxView",
            "_dom_classes": [],
            "_model_name": "HBoxModel",
            "_view_module": "@jupyter-widgets/controls",
            "_model_module_version": "1.5.0",
            "_view_count": null,
            "_view_module_version": "1.5.0",
            "box_style": "",
            "layout": "IPY_MODEL_402a671209f04f5dae4050e54f808624",
            "_model_module": "@jupyter-widgets/controls",
            "children": [
              "IPY_MODEL_715b1819bb2e46a39d1d9bcf9bc298d5",
              "IPY_MODEL_d8a8ecc1ac9e4724996e10acc98c83d4",
              "IPY_MODEL_63a8e7393cf74b999b93f58e153d67ea"
            ]
          }
        },
        "402a671209f04f5dae4050e54f808624": {
          "model_module": "@jupyter-widgets/base",
          "model_name": "LayoutModel",
          "model_module_version": "1.2.0",
          "state": {
            "_view_name": "LayoutView",
            "grid_template_rows": null,
            "right": null,
            "justify_content": null,
            "_view_module": "@jupyter-widgets/base",
            "overflow": null,
            "_model_module_version": "1.2.0",
            "_view_count": null,
            "flex_flow": null,
            "width": null,
            "min_width": null,
            "border": null,
            "align_items": null,
            "bottom": null,
            "_model_module": "@jupyter-widgets/base",
            "top": null,
            "grid_column": null,
            "overflow_y": null,
            "overflow_x": null,
            "grid_auto_flow": null,
            "grid_area": null,
            "grid_template_columns": null,
            "flex": null,
            "_model_name": "LayoutModel",
            "justify_items": null,
            "grid_row": null,
            "max_height": null,
            "align_content": null,
            "visibility": null,
            "align_self": null,
            "height": null,
            "min_height": null,
            "padding": null,
            "grid_auto_rows": null,
            "grid_gap": null,
            "max_width": null,
            "order": null,
            "_view_module_version": "1.2.0",
            "grid_template_areas": null,
            "object_position": null,
            "object_fit": null,
            "grid_auto_columns": null,
            "margin": null,
            "display": null,
            "left": null
          }
        },
        "715b1819bb2e46a39d1d9bcf9bc298d5": {
          "model_module": "@jupyter-widgets/controls",
          "model_name": "HTMLModel",
          "model_module_version": "1.5.0",
          "state": {
            "_view_name": "HTMLView",
            "style": "IPY_MODEL_6f839acab99647648dadc8ccc5ad65b9",
            "_dom_classes": [],
            "description": "",
            "_model_name": "HTMLModel",
            "placeholder": "​",
            "_view_module": "@jupyter-widgets/controls",
            "_model_module_version": "1.5.0",
            "value": "2.329789:   1%",
            "_view_count": null,
            "_view_module_version": "1.5.0",
            "description_tooltip": null,
            "_model_module": "@jupyter-widgets/controls",
            "layout": "IPY_MODEL_7835e6108065427fac1b9d25e25c7d65"
          }
        },
        "d8a8ecc1ac9e4724996e10acc98c83d4": {
          "model_module": "@jupyter-widgets/controls",
          "model_name": "FloatProgressModel",
          "model_module_version": "1.5.0",
          "state": {
            "_view_name": "ProgressView",
            "style": "IPY_MODEL_88e06f4ecc8840e798af22faccf5586f",
            "_dom_classes": [],
            "description": "",
            "_model_name": "FloatProgressModel",
            "bar_style": "danger",
            "max": 5000,
            "_view_module": "@jupyter-widgets/controls",
            "_model_module_version": "1.5.0",
            "value": 59,
            "_view_count": null,
            "_view_module_version": "1.5.0",
            "orientation": "horizontal",
            "min": 0,
            "description_tooltip": null,
            "_model_module": "@jupyter-widgets/controls",
            "layout": "IPY_MODEL_142861e641ae448d996b87b183eaa3e4"
          }
        },
        "63a8e7393cf74b999b93f58e153d67ea": {
          "model_module": "@jupyter-widgets/controls",
          "model_name": "HTMLModel",
          "model_module_version": "1.5.0",
          "state": {
            "_view_name": "HTMLView",
            "style": "IPY_MODEL_d8a4651e410e467dab995e1754a35659",
            "_dom_classes": [],
            "description": "",
            "_model_name": "HTMLModel",
            "placeholder": "​",
            "_view_module": "@jupyter-widgets/controls",
            "_model_module_version": "1.5.0",
            "value": " 59/5000 [00:06&lt;09:37,  8.55it/s]",
            "_view_count": null,
            "_view_module_version": "1.5.0",
            "description_tooltip": null,
            "_model_module": "@jupyter-widgets/controls",
            "layout": "IPY_MODEL_c064925fc4f64a76a6e5183cee643c37"
          }
        },
        "6f839acab99647648dadc8ccc5ad65b9": {
          "model_module": "@jupyter-widgets/controls",
          "model_name": "DescriptionStyleModel",
          "model_module_version": "1.5.0",
          "state": {
            "_view_name": "StyleView",
            "_model_name": "DescriptionStyleModel",
            "description_width": "",
            "_view_module": "@jupyter-widgets/base",
            "_model_module_version": "1.5.0",
            "_view_count": null,
            "_view_module_version": "1.2.0",
            "_model_module": "@jupyter-widgets/controls"
          }
        },
        "7835e6108065427fac1b9d25e25c7d65": {
          "model_module": "@jupyter-widgets/base",
          "model_name": "LayoutModel",
          "model_module_version": "1.2.0",
          "state": {
            "_view_name": "LayoutView",
            "grid_template_rows": null,
            "right": null,
            "justify_content": null,
            "_view_module": "@jupyter-widgets/base",
            "overflow": null,
            "_model_module_version": "1.2.0",
            "_view_count": null,
            "flex_flow": null,
            "width": null,
            "min_width": null,
            "border": null,
            "align_items": null,
            "bottom": null,
            "_model_module": "@jupyter-widgets/base",
            "top": null,
            "grid_column": null,
            "overflow_y": null,
            "overflow_x": null,
            "grid_auto_flow": null,
            "grid_area": null,
            "grid_template_columns": null,
            "flex": null,
            "_model_name": "LayoutModel",
            "justify_items": null,
            "grid_row": null,
            "max_height": null,
            "align_content": null,
            "visibility": null,
            "align_self": null,
            "height": null,
            "min_height": null,
            "padding": null,
            "grid_auto_rows": null,
            "grid_gap": null,
            "max_width": null,
            "order": null,
            "_view_module_version": "1.2.0",
            "grid_template_areas": null,
            "object_position": null,
            "object_fit": null,
            "grid_auto_columns": null,
            "margin": null,
            "display": null,
            "left": null
          }
        },
        "88e06f4ecc8840e798af22faccf5586f": {
          "model_module": "@jupyter-widgets/controls",
          "model_name": "ProgressStyleModel",
          "model_module_version": "1.5.0",
          "state": {
            "_view_name": "StyleView",
            "_model_name": "ProgressStyleModel",
            "description_width": "",
            "_view_module": "@jupyter-widgets/base",
            "_model_module_version": "1.5.0",
            "_view_count": null,
            "_view_module_version": "1.2.0",
            "bar_color": null,
            "_model_module": "@jupyter-widgets/controls"
          }
        },
        "142861e641ae448d996b87b183eaa3e4": {
          "model_module": "@jupyter-widgets/base",
          "model_name": "LayoutModel",
          "model_module_version": "1.2.0",
          "state": {
            "_view_name": "LayoutView",
            "grid_template_rows": null,
            "right": null,
            "justify_content": null,
            "_view_module": "@jupyter-widgets/base",
            "overflow": null,
            "_model_module_version": "1.2.0",
            "_view_count": null,
            "flex_flow": null,
            "width": null,
            "min_width": null,
            "border": null,
            "align_items": null,
            "bottom": null,
            "_model_module": "@jupyter-widgets/base",
            "top": null,
            "grid_column": null,
            "overflow_y": null,
            "overflow_x": null,
            "grid_auto_flow": null,
            "grid_area": null,
            "grid_template_columns": null,
            "flex": null,
            "_model_name": "LayoutModel",
            "justify_items": null,
            "grid_row": null,
            "max_height": null,
            "align_content": null,
            "visibility": null,
            "align_self": null,
            "height": null,
            "min_height": null,
            "padding": null,
            "grid_auto_rows": null,
            "grid_gap": null,
            "max_width": null,
            "order": null,
            "_view_module_version": "1.2.0",
            "grid_template_areas": null,
            "object_position": null,
            "object_fit": null,
            "grid_auto_columns": null,
            "margin": null,
            "display": null,
            "left": null
          }
        },
        "d8a4651e410e467dab995e1754a35659": {
          "model_module": "@jupyter-widgets/controls",
          "model_name": "DescriptionStyleModel",
          "model_module_version": "1.5.0",
          "state": {
            "_view_name": "StyleView",
            "_model_name": "DescriptionStyleModel",
            "description_width": "",
            "_view_module": "@jupyter-widgets/base",
            "_model_module_version": "1.5.0",
            "_view_count": null,
            "_view_module_version": "1.2.0",
            "_model_module": "@jupyter-widgets/controls"
          }
        },
        "c064925fc4f64a76a6e5183cee643c37": {
          "model_module": "@jupyter-widgets/base",
          "model_name": "LayoutModel",
          "model_module_version": "1.2.0",
          "state": {
            "_view_name": "LayoutView",
            "grid_template_rows": null,
            "right": null,
            "justify_content": null,
            "_view_module": "@jupyter-widgets/base",
            "overflow": null,
            "_model_module_version": "1.2.0",
            "_view_count": null,
            "flex_flow": null,
            "width": null,
            "min_width": null,
            "border": null,
            "align_items": null,
            "bottom": null,
            "_model_module": "@jupyter-widgets/base",
            "top": null,
            "grid_column": null,
            "overflow_y": null,
            "overflow_x": null,
            "grid_auto_flow": null,
            "grid_area": null,
            "grid_template_columns": null,
            "flex": null,
            "_model_name": "LayoutModel",
            "justify_items": null,
            "grid_row": null,
            "max_height": null,
            "align_content": null,
            "visibility": null,
            "align_self": null,
            "height": null,
            "min_height": null,
            "padding": null,
            "grid_auto_rows": null,
            "grid_gap": null,
            "max_width": null,
            "order": null,
            "_view_module_version": "1.2.0",
            "grid_template_areas": null,
            "object_position": null,
            "object_fit": null,
            "grid_auto_columns": null,
            "margin": null,
            "display": null,
            "left": null
          }
        },
        "da32618327014f359e973f532684c523": {
          "model_module": "@jupyter-widgets/controls",
          "model_name": "HBoxModel",
          "model_module_version": "1.5.0",
          "state": {
            "_view_name": "HBoxView",
            "_dom_classes": [],
            "_model_name": "HBoxModel",
            "_view_module": "@jupyter-widgets/controls",
            "_model_module_version": "1.5.0",
            "_view_count": null,
            "_view_module_version": "1.5.0",
            "box_style": "",
            "layout": "IPY_MODEL_0b1b4a3d66384fa0b83c360c2bce89e7",
            "_model_module": "@jupyter-widgets/controls",
            "children": [
              "IPY_MODEL_3d1c3e3215e0430781494387a9350b30",
              "IPY_MODEL_270835382b9e42bb9fd30284ce3ce706",
              "IPY_MODEL_3e5aa66d9f0742a9a3f16afe49abdcbd"
            ]
          }
        },
        "0b1b4a3d66384fa0b83c360c2bce89e7": {
          "model_module": "@jupyter-widgets/base",
          "model_name": "LayoutModel",
          "model_module_version": "1.2.0",
          "state": {
            "_view_name": "LayoutView",
            "grid_template_rows": null,
            "right": null,
            "justify_content": null,
            "_view_module": "@jupyter-widgets/base",
            "overflow": null,
            "_model_module_version": "1.2.0",
            "_view_count": null,
            "flex_flow": null,
            "width": null,
            "min_width": null,
            "border": null,
            "align_items": null,
            "bottom": null,
            "_model_module": "@jupyter-widgets/base",
            "top": null,
            "grid_column": null,
            "overflow_y": null,
            "overflow_x": null,
            "grid_auto_flow": null,
            "grid_area": null,
            "grid_template_columns": null,
            "flex": null,
            "_model_name": "LayoutModel",
            "justify_items": null,
            "grid_row": null,
            "max_height": null,
            "align_content": null,
            "visibility": null,
            "align_self": null,
            "height": null,
            "min_height": null,
            "padding": null,
            "grid_auto_rows": null,
            "grid_gap": null,
            "max_width": null,
            "order": null,
            "_view_module_version": "1.2.0",
            "grid_template_areas": null,
            "object_position": null,
            "object_fit": null,
            "grid_auto_columns": null,
            "margin": null,
            "display": null,
            "left": null
          }
        },
        "3d1c3e3215e0430781494387a9350b30": {
          "model_module": "@jupyter-widgets/controls",
          "model_name": "HTMLModel",
          "model_module_version": "1.5.0",
          "state": {
            "_view_name": "HTMLView",
            "style": "IPY_MODEL_f985385e1c3d4b4895c400cb4d969efd",
            "_dom_classes": [],
            "description": "",
            "_model_name": "HTMLModel",
            "placeholder": "​",
            "_view_module": "@jupyter-widgets/controls",
            "_model_module_version": "1.5.0",
            "value": "19.758547: 100%",
            "_view_count": null,
            "_view_module_version": "1.5.0",
            "description_tooltip": null,
            "_model_module": "@jupyter-widgets/controls",
            "layout": "IPY_MODEL_666efaf883614bbf8ee54791fd6b8550"
          }
        },
        "270835382b9e42bb9fd30284ce3ce706": {
          "model_module": "@jupyter-widgets/controls",
          "model_name": "FloatProgressModel",
          "model_module_version": "1.5.0",
          "state": {
            "_view_name": "ProgressView",
            "style": "IPY_MODEL_e5911272b13d4f2389840bcae3d9d0bc",
            "_dom_classes": [],
            "description": "",
            "_model_name": "FloatProgressModel",
            "bar_style": "success",
            "max": 5000,
            "_view_module": "@jupyter-widgets/controls",
            "_model_module_version": "1.5.0",
            "value": 5000,
            "_view_count": null,
            "_view_module_version": "1.5.0",
            "orientation": "horizontal",
            "min": 0,
            "description_tooltip": null,
            "_model_module": "@jupyter-widgets/controls",
            "layout": "IPY_MODEL_0d58cd17a5a4432a9120fe04156e2dda"
          }
        },
        "3e5aa66d9f0742a9a3f16afe49abdcbd": {
          "model_module": "@jupyter-widgets/controls",
          "model_name": "HTMLModel",
          "model_module_version": "1.5.0",
          "state": {
            "_view_name": "HTMLView",
            "style": "IPY_MODEL_7be0eb0720aa47539459d3d001def911",
            "_dom_classes": [],
            "description": "",
            "_model_name": "HTMLModel",
            "placeholder": "​",
            "_view_module": "@jupyter-widgets/controls",
            "_model_module_version": "1.5.0",
            "value": " 5000/5000 [08:48&lt;00:00,  9.31it/s]",
            "_view_count": null,
            "_view_module_version": "1.5.0",
            "description_tooltip": null,
            "_model_module": "@jupyter-widgets/controls",
            "layout": "IPY_MODEL_31b76fb93c95496c9a8b46a04e3c2f24"
          }
        },
        "f985385e1c3d4b4895c400cb4d969efd": {
          "model_module": "@jupyter-widgets/controls",
          "model_name": "DescriptionStyleModel",
          "model_module_version": "1.5.0",
          "state": {
            "_view_name": "StyleView",
            "_model_name": "DescriptionStyleModel",
            "description_width": "",
            "_view_module": "@jupyter-widgets/base",
            "_model_module_version": "1.5.0",
            "_view_count": null,
            "_view_module_version": "1.2.0",
            "_model_module": "@jupyter-widgets/controls"
          }
        },
        "666efaf883614bbf8ee54791fd6b8550": {
          "model_module": "@jupyter-widgets/base",
          "model_name": "LayoutModel",
          "model_module_version": "1.2.0",
          "state": {
            "_view_name": "LayoutView",
            "grid_template_rows": null,
            "right": null,
            "justify_content": null,
            "_view_module": "@jupyter-widgets/base",
            "overflow": null,
            "_model_module_version": "1.2.0",
            "_view_count": null,
            "flex_flow": null,
            "width": null,
            "min_width": null,
            "border": null,
            "align_items": null,
            "bottom": null,
            "_model_module": "@jupyter-widgets/base",
            "top": null,
            "grid_column": null,
            "overflow_y": null,
            "overflow_x": null,
            "grid_auto_flow": null,
            "grid_area": null,
            "grid_template_columns": null,
            "flex": null,
            "_model_name": "LayoutModel",
            "justify_items": null,
            "grid_row": null,
            "max_height": null,
            "align_content": null,
            "visibility": null,
            "align_self": null,
            "height": null,
            "min_height": null,
            "padding": null,
            "grid_auto_rows": null,
            "grid_gap": null,
            "max_width": null,
            "order": null,
            "_view_module_version": "1.2.0",
            "grid_template_areas": null,
            "object_position": null,
            "object_fit": null,
            "grid_auto_columns": null,
            "margin": null,
            "display": null,
            "left": null
          }
        },
        "e5911272b13d4f2389840bcae3d9d0bc": {
          "model_module": "@jupyter-widgets/controls",
          "model_name": "ProgressStyleModel",
          "model_module_version": "1.5.0",
          "state": {
            "_view_name": "StyleView",
            "_model_name": "ProgressStyleModel",
            "description_width": "",
            "_view_module": "@jupyter-widgets/base",
            "_model_module_version": "1.5.0",
            "_view_count": null,
            "_view_module_version": "1.2.0",
            "bar_color": null,
            "_model_module": "@jupyter-widgets/controls"
          }
        },
        "0d58cd17a5a4432a9120fe04156e2dda": {
          "model_module": "@jupyter-widgets/base",
          "model_name": "LayoutModel",
          "model_module_version": "1.2.0",
          "state": {
            "_view_name": "LayoutView",
            "grid_template_rows": null,
            "right": null,
            "justify_content": null,
            "_view_module": "@jupyter-widgets/base",
            "overflow": null,
            "_model_module_version": "1.2.0",
            "_view_count": null,
            "flex_flow": null,
            "width": null,
            "min_width": null,
            "border": null,
            "align_items": null,
            "bottom": null,
            "_model_module": "@jupyter-widgets/base",
            "top": null,
            "grid_column": null,
            "overflow_y": null,
            "overflow_x": null,
            "grid_auto_flow": null,
            "grid_area": null,
            "grid_template_columns": null,
            "flex": null,
            "_model_name": "LayoutModel",
            "justify_items": null,
            "grid_row": null,
            "max_height": null,
            "align_content": null,
            "visibility": null,
            "align_self": null,
            "height": null,
            "min_height": null,
            "padding": null,
            "grid_auto_rows": null,
            "grid_gap": null,
            "max_width": null,
            "order": null,
            "_view_module_version": "1.2.0",
            "grid_template_areas": null,
            "object_position": null,
            "object_fit": null,
            "grid_auto_columns": null,
            "margin": null,
            "display": null,
            "left": null
          }
        },
        "7be0eb0720aa47539459d3d001def911": {
          "model_module": "@jupyter-widgets/controls",
          "model_name": "DescriptionStyleModel",
          "model_module_version": "1.5.0",
          "state": {
            "_view_name": "StyleView",
            "_model_name": "DescriptionStyleModel",
            "description_width": "",
            "_view_module": "@jupyter-widgets/base",
            "_model_module_version": "1.5.0",
            "_view_count": null,
            "_view_module_version": "1.2.0",
            "_model_module": "@jupyter-widgets/controls"
          }
        },
        "31b76fb93c95496c9a8b46a04e3c2f24": {
          "model_module": "@jupyter-widgets/base",
          "model_name": "LayoutModel",
          "model_module_version": "1.2.0",
          "state": {
            "_view_name": "LayoutView",
            "grid_template_rows": null,
            "right": null,
            "justify_content": null,
            "_view_module": "@jupyter-widgets/base",
            "overflow": null,
            "_model_module_version": "1.2.0",
            "_view_count": null,
            "flex_flow": null,
            "width": null,
            "min_width": null,
            "border": null,
            "align_items": null,
            "bottom": null,
            "_model_module": "@jupyter-widgets/base",
            "top": null,
            "grid_column": null,
            "overflow_y": null,
            "overflow_x": null,
            "grid_auto_flow": null,
            "grid_area": null,
            "grid_template_columns": null,
            "flex": null,
            "_model_name": "LayoutModel",
            "justify_items": null,
            "grid_row": null,
            "max_height": null,
            "align_content": null,
            "visibility": null,
            "align_self": null,
            "height": null,
            "min_height": null,
            "padding": null,
            "grid_auto_rows": null,
            "grid_gap": null,
            "max_width": null,
            "order": null,
            "_view_module_version": "1.2.0",
            "grid_template_areas": null,
            "object_position": null,
            "object_fit": null,
            "grid_auto_columns": null,
            "margin": null,
            "display": null,
            "left": null
          }
        }
      }
    }
  },
  "cells": [
    {
      "cell_type": "markdown",
      "source": [
        "<a href=\"https://colab.research.google.com/github/cisprague/bts-2021/blob/main/bts-2021.ipynb\" target=\"_parent\"><img src=\"https://colab.research.google.com/assets/colab-badge.svg\" alt=\"Open In Colab\"/></a>"
      ],
      "metadata": {
        "id": "view-in-github",
        "colab_type": "text"
      }
    },
    {
      "cell_type": "markdown",
      "source": [
        "# System identification of AUVs with physics-informed learning\n",
        "\n",
        "Christopher Iliffe Sprague (sprague@kth.se)\n",
        "\n",
        "Sriharsha Bhat (svbhat@kth.se)"
      ],
      "metadata": {
        "id": "XOFl1RKPjdt_"
      }
    },
    {
      "cell_type": "markdown",
      "source": [
        "# Outline\n",
        "\n",
        "- Background\n",
        "- What's the benefit?\n",
        "- Data generation\n",
        "- Model identification\n",
        "- Simulation\n",
        "- Discussion and future work"
      ],
      "metadata": {
        "id": "yEzpfNjMjz7Y"
      }
    },
    {
      "cell_type": "markdown",
      "source": [
        "# Background"
      ],
      "metadata": {
        "id": "0Vm0jr-rVSzJ"
      }
    },
    {
      "cell_type": "markdown",
      "source": [
        "## AUVs\n",
        "\n",
        "Consider SAM, a slender AUV with counter-rotating propellers, thrust vectoring, and trim systems. SAM is a small and hydrobatic AUV, capable of agile maneuvers while still being efficient in speed and range. A lot of the non-conservative forces are difficult to model, so here we will try to learn them.\n",
        "\n",
        "![sim_reality](https://drive.google.com/uc?export=view&id=1vcuj3Cjt08Li1FB6ZndiquqFNPaYOGfT)\n",
        "*Figure: The SAM AUV in the field, and in simulation.*\n",
        "\n",
        "\n",
        "\n",
        "\n",
        "\n",
        "\n",
        "\n",
        "\n"
      ],
      "metadata": {
        "id": "KE18mZ_B16BQ"
      }
    },
    {
      "cell_type": "markdown",
      "source": [
        "## Resources\n",
        "\n",
        "Here, we just import all the packages that are needed for this tutorial. This might take a moment."
      ],
      "metadata": {
        "id": "Ke5En5u7mzJ8"
      }
    },
    {
      "cell_type": "code",
      "execution_count": 2,
      "source": [
        "# JAX for autograd and and numerics\n",
        "! pip install --upgrade pip\n",
        "! pip install --upgrade \"jax[cuda101]\" -f https://storage.googleapis.com/jax-releases/jax_releases.html\n",
        "import jax.numpy as np\n",
        "from jax import jit, vmap, jacobian, hessian, grad\n",
        "from jax.experimental.ode import odeint\n",
        "from jax.random import uniform, choice\n",
        "from jax.nn import softplus\n",
        "from jax.lax import stop_gradient\n",
        "\n",
        "# Haiku for neural networks\n",
        "! pip install git+https://github.com/deepmind/dm-haiku\n",
        "import haiku as hk\n",
        "\n",
        "# Optax for optimisation\n",
        "! pip install git+https://github.com/deepmind/optax\n",
        "import optax\n",
        "\n",
        "# TQDM for training loop feedback\n",
        "! pip install tqdm\n",
        "from tqdm.notebook import tqdm\n",
        "\n",
        "# SKLearn for preprocessing data\n",
        "from sklearn.preprocessing import StandardScaler\n",
        "\n",
        "# treating some arguments as static\n",
        "from functools import partial\n",
        "\n",
        "# computer algebra\n",
        "import sympy\n",
        "\n",
        "# saving and loading models\n",
        "import pickle\n",
        "\n",
        "# matplotlib for plotting\n",
        "import matplotlib.pyplot as plt\n",
        "from mpl_toolkits.mplot3d import Axes3D\n",
        "\n",
        "# use vector graphics in the notebook\n",
        "%matplotlib inline"
      ],
      "outputs": [
        {
          "output_type": "stream",
          "name": "stdout",
          "text": [
            "Defaulting to user installation because normal site-packages is not writeable\n",
            "Requirement already satisfied: pip in /home/cisprague/.local/lib/python3.8/site-packages (21.2.4)\n",
            "Defaulting to user installation because normal site-packages is not writeable\n",
            "Looking in links: https://storage.googleapis.com/jax-releases/jax_releases.html\n",
            "Requirement already satisfied: jax[cuda101] in /home/cisprague/.local/lib/python3.8/site-packages (0.2.20)\n",
            "\u001b[33mWARNING: jax 0.2.20 does not provide the extra 'cuda101'\u001b[0m\n",
            "Requirement already satisfied: absl-py in /usr/local/lib/python3.8/dist-packages (from jax[cuda101]) (0.11.0)\n",
            "Requirement already satisfied: opt-einsum in /usr/local/lib/python3.8/dist-packages (from jax[cuda101]) (3.3.0)\n",
            "Requirement already satisfied: scipy>=1.2.1 in /usr/local/lib/python3.8/dist-packages (from jax[cuda101]) (1.4.1)\n",
            "Requirement already satisfied: numpy>=1.18 in /usr/local/lib/python3.8/dist-packages (from jax[cuda101]) (1.19.5)\n",
            "Requirement already satisfied: six in /usr/local/lib/python3.8/dist-packages (from absl-py->jax[cuda101]) (1.15.0)\n",
            "Defaulting to user installation because normal site-packages is not writeable\n",
            "Collecting git+https://github.com/deepmind/dm-haiku\n",
            "  Cloning https://github.com/deepmind/dm-haiku to /tmp/pip-req-build-76jswek9\n",
            "  Running command git clone -q https://github.com/deepmind/dm-haiku /tmp/pip-req-build-76jswek9\n",
            "  Resolved https://github.com/deepmind/dm-haiku to commit 399c6fe6f2bba35aad10d52cee67c3bab6cd261b\n",
            "Requirement already satisfied: absl-py>=0.7.1 in /usr/local/lib/python3.8/dist-packages (from dm-haiku==0.0.5.dev0) (0.11.0)\n",
            "Requirement already satisfied: jmp>=0.0.2 in /home/cisprague/.local/lib/python3.8/site-packages (from dm-haiku==0.0.5.dev0) (0.0.2)\n",
            "Requirement already satisfied: numpy>=1.18.0 in /usr/local/lib/python3.8/dist-packages (from dm-haiku==0.0.5.dev0) (1.19.5)\n",
            "Requirement already satisfied: tabulate>=0.8.9 in /home/cisprague/.local/lib/python3.8/site-packages (from dm-haiku==0.0.5.dev0) (0.8.9)\n",
            "Requirement already satisfied: six in /usr/local/lib/python3.8/dist-packages (from absl-py>=0.7.1->dm-haiku==0.0.5.dev0) (1.15.0)\n",
            "Defaulting to user installation because normal site-packages is not writeable\n",
            "Collecting git+https://github.com/deepmind/optax\n",
            "  Cloning https://github.com/deepmind/optax to /tmp/pip-req-build-yauk28t4\n",
            "  Running command git clone -q https://github.com/deepmind/optax /tmp/pip-req-build-yauk28t4\n",
            "  Resolved https://github.com/deepmind/optax to commit b86a00ce06796263cd73aa9a8aef2bc78eea9c09\n",
            "Requirement already satisfied: absl-py>=0.7.1 in /usr/local/lib/python3.8/dist-packages (from optax==0.0.9) (0.11.0)\n",
            "Requirement already satisfied: chex>=0.0.4 in /home/cisprague/.local/lib/python3.8/site-packages (from optax==0.0.9) (0.0.8)\n",
            "Requirement already satisfied: jax>=0.1.55 in /home/cisprague/.local/lib/python3.8/site-packages (from optax==0.0.9) (0.2.20)\n",
            "Requirement already satisfied: jaxlib>=0.1.37 in /home/cisprague/.local/lib/python3.8/site-packages (from optax==0.0.9) (0.1.70+cuda101)\n",
            "Requirement already satisfied: numpy>=1.18.0 in /usr/local/lib/python3.8/dist-packages (from optax==0.0.9) (1.19.5)\n",
            "Requirement already satisfied: six in /usr/local/lib/python3.8/dist-packages (from absl-py>=0.7.1->optax==0.0.9) (1.15.0)\n",
            "Requirement already satisfied: dm-tree>=0.1.5 in /usr/local/lib/python3.8/dist-packages (from chex>=0.0.4->optax==0.0.9) (0.1.5)\n",
            "Requirement already satisfied: toolz>=0.9.0 in /home/cisprague/.local/lib/python3.8/site-packages (from chex>=0.0.4->optax==0.0.9) (0.11.1)\n",
            "Requirement already satisfied: opt-einsum in /usr/local/lib/python3.8/dist-packages (from jax>=0.1.55->optax==0.0.9) (3.3.0)\n",
            "Requirement already satisfied: scipy>=1.2.1 in /usr/local/lib/python3.8/dist-packages (from jax>=0.1.55->optax==0.0.9) (1.4.1)\n",
            "Requirement already satisfied: flatbuffers<3.0,>=1.12 in /usr/local/lib/python3.8/dist-packages (from jaxlib>=0.1.37->optax==0.0.9) (1.12)\n",
            "Defaulting to user installation because normal site-packages is not writeable\n",
            "Requirement already satisfied: tqdm in /usr/local/lib/python3.8/dist-packages (4.56.0)\n"
          ]
        }
      ],
      "metadata": {
        "id": "MbwNlmTpmyru",
        "colab": {
          "base_uri": "https://localhost:8080/"
        },
        "outputId": "444b6696-5ab2-4c8c-dfff-093877a5425d"
      }
    },
    {
      "cell_type": "code",
      "execution_count": 3,
      "source": [
        "# This just print which device we are using (hopefully a GPU).\n",
        "from jax.lib import xla_bridge\n",
        "print('We are using the {}'.format(xla_bridge.get_backend().platform))"
      ],
      "outputs": [
        {
          "output_type": "stream",
          "name": "stdout",
          "text": [
            "We are using the gpu\n"
          ]
        }
      ],
      "metadata": {
        "id": "M9GylCN9-_UC",
        "colab": {
          "base_uri": "https://localhost:8080/"
        },
        "outputId": "bdf1590b-f0a8-4462-fbfe-bee0c29351e6"
      }
    },
    {
      "cell_type": "code",
      "execution_count": 4,
      "source": [
        "# This is a random seed generator: use `next(key)` to get a seed.\n",
        "key = hk.PRNGSequence(42)"
      ],
      "outputs": [],
      "metadata": {
        "id": "aR__NDVS-_UD"
      }
    },
    {
      "cell_type": "markdown",
      "source": [
        "# Analytical equations\n",
        "\n",
        "Here we will write the code for things that we *do* know about the system, such as basic mathematical transormations and lower and upper bounds of certain variables."
      ],
      "metadata": {
        "id": "7SDLTz2ukoQq"
      }
    },
    {
      "cell_type": "markdown",
      "source": [
        "## State-space\n",
        "We will gather data from an analytical model of an AUV, so that we can compare the learned/identified model with a ground truth. However, in practice, one can also use other data as input, such as AUV pose data from missions. \n",
        "\n",
        "A six degree-of freedom AUV model is used leading to 12 states ($x,y,z,\\phi,\\theta,\\psi,u,v,w,p,q,r $), based on Fossen's notation. \n",
        "\n",
        "The kinematics are of the form\n",
        "    $\\dot \\eta = J_{euler}(\\eta)\\nu$ , \n",
        "    where $\\eta$ represents the vector of positions and orientations in Euler angles, while $\\nu$ represents the vector of velocities and angular velocities and $J_{euler}\\in\\mathbb{R}^{6 \\times 6}$ is the kinematic transformation matrix. \n",
        "\n",
        "The dynamics are of the form\n",
        "    $M_{\\text{eff}} \\dot\\nu + C_{\\text{eff}}(\\nu)\\nu + D_(\\nu)\\nu + g(\\eta) = \\tau_C$, \n",
        "    where M represents the combined mass and inertia matrix (considering rigid body terms, but added mass terms can also be included), C is the combined coriolis-centripetal matrix, D is the damping matrix (considering hydrodynamics), g represents the buoyancy forces (considering hydrostatics) and $\\tau_C$ refers to the vector of external control forces (such as from actuators).\n",
        "\n",
        "The hydrodynamic damping in particular is very difficult to model, since the flow around a slender body can transition to turbulent flow at higher angles of attack and Reynolds numbers.  \n",
        "\n",
        "![vortex pair](https://drive.google.com/uc?export=view&id=1dFszaOHlbwP1LXMtC3WZVsUHtg0xiopB)\n",
        "*Figure: Vortex shedding from a slender body at an angle of attack of 37°.*\n",
        "\n",
        "\n",
        "The AUV under consideration (SAM) has 6 actuators including counter-rotating propellers (to control speed and roll), thrust vectoring(for yaw and pitch), longitudinal center of gravity(for static pitching and gliding) and a variable buoyancy system (to regulate buoyancy) and is underactuated. The effect of these actuators are included in the code below.\n",
        "\n",
        "![SAM hardware](https://drive.google.com/uc?export=view&id=1c5KqPVnk8RKKVlJN38UJYj5tMknRwPZ4)\n",
        "*Figure: The actuator subsystems on SAM*\n"
      ],
      "metadata": {
        "id": "xalpR9uc-_UK"
      }
    },
    {
      "cell_type": "markdown",
      "source": [
        "In this tutorial, we are following the Fossen model for AUVs.\n",
        "Formally, the state of this system $s \\in \\mathbb{R}^{12}$ is given by\n",
        "\\begin{align}\n",
        "s = [\n",
        "  x, y, z, \\phi, \\theta, \\psi, u, v, w, p, q, r\n",
        "],\n",
        "\\end{align}\n",
        "where $$\\eta = [x, y, z, \\phi, \\theta, \\psi]$$ is the position and orientation in the north-east-down (NED) frame and \n",
        "$$\\nu = [u, v, w, p, q, r]$$\n",
        "is the translational and angular velocity in the body frame.\n",
        "\n",
        "When we train our model, we want to make sure that we are seeing a variety of different states so that our model can generalize well. In system-identification parlance, this is sometimes known as *percistant excitation*."
      ],
      "metadata": {
        "id": "CQCUrq34-_UF"
      }
    },
    {
      "cell_type": "code",
      "execution_count": 5,
      "source": [
        "# dimensions\n",
        "dim_state = 12\n",
        "#dim_control = 6 #with rpm1,rpm2,de,dr,vbs,lcg\n",
        "dim_control = 4 #with rpm1,rpm2,de,dr,vbs,lcg"
      ],
      "outputs": [],
      "metadata": {
        "id": "yXVFOnZw-_UF"
      }
    },
    {
      "cell_type": "code",
      "execution_count": 6,
      "source": [
        "# state bounds for training\n",
        "bounds_state_train = np.array([*[20]*3, *[2*np.pi]*3, *[5]*3, *[5]*3])\n",
        "bounds_state_test = bounds_state_train/4\n",
        "bounds_state_train = (-bounds_state_train, bounds_state_train)\n",
        "bounds_state_test = (-bounds_state_test, bounds_state_test)"
      ],
      "outputs": [],
      "metadata": {
        "id": "DoR3apMd-_UG"
      }
    },
    {
      "cell_type": "code",
      "execution_count": 7,
      "source": [
        "# control bounds\n",
        "bounds_control_train = np.full(dim_control, 1.5)\n",
        "bounds_control_test = bounds_control_train/2\n",
        "bounds_control_train = (-bounds_control_train, bounds_control_train)\n",
        "bounds_control_test = (-bounds_control_test, bounds_control_test)"
      ],
      "outputs": [],
      "metadata": {}
    },
    {
      "cell_type": "markdown",
      "source": [
        "## Testing data\n",
        "\n",
        "write more stuff\n"
      ],
      "metadata": {
        "id": "a74Dlpg6Yznq"
      }
    },
    {
      "cell_type": "code",
      "execution_count": 8,
      "source": [
        "# random states and controls\n",
        "n = 10\n",
        "states_test = uniform(\n",
        "    next(key),\n",
        "    (10, dim_state),\n",
        "    minval=bounds_state_test[0],\n",
        "    maxval=bounds_state_test[1]\n",
        ")\n",
        "controls_test = uniform(\n",
        "    next(key),\n",
        "    (10, dim_control),\n",
        "    minval=bounds_control_test[0],\n",
        "    maxval=bounds_control_test[1]\n",
        ")"
      ],
      "outputs": [],
      "metadata": {
        "id": "q9uVOiKt-_UH"
      }
    },
    {
      "cell_type": "code",
      "execution_count": 9,
      "source": [
        "# nominal state and control\n",
        "state = np.zeros((dim_state,))\n",
        "control = np.ones((dim_control,))\n",
        "state, control"
      ],
      "outputs": [
        {
          "output_type": "execute_result",
          "data": {
            "text/plain": [
              "(DeviceArray([0., 0., 0., 0., 0., 0., 0., 0., 0., 0., 0., 0.], dtype=float32),\n",
              " DeviceArray([1., 1., 1., 1.], dtype=float32))"
            ]
          },
          "metadata": {},
          "execution_count": 9
        }
      ],
      "metadata": {}
    },
    {
      "cell_type": "markdown",
      "source": [
        "## Transformations\n",
        "\n",
        "Common transformations, elaborate a little"
      ],
      "metadata": {
        "id": "dS4hSpU9-_UH"
      }
    },
    {
      "cell_type": "code",
      "execution_count": 10,
      "source": [
        "# skew matrix of vector\n",
        "@jit\n",
        "def skew(vec):\n",
        "  return np.array([\n",
        "    [0, -vec[2], vec[1]],\n",
        "    [vec[2], 0, -vec[0]],\n",
        "    [-vec[1], vec[0], 0]\n",
        "  ])"
      ],
      "outputs": [],
      "metadata": {
        "id": "Pdx2qOUuktpJ"
      }
    },
    {
      "cell_type": "code",
      "execution_count": 11,
      "source": [
        "# vector from skew matrix\n",
        "@jit\n",
        "def unskew(mat):\n",
        "    return np.array([\n",
        "        mat[2,1],\n",
        "        mat[0,2],\n",
        "        mat[1,0]\n",
        "    ])"
      ],
      "outputs": [],
      "metadata": {
        "id": "ta4i4rWv-_UI"
      }
    },
    {
      "cell_type": "code",
      "execution_count": 12,
      "source": [
        "# rotation matrix from body to NED for linear vectors\n",
        "@jit\n",
        "def R_b2ned(phi, theta, psi):\n",
        "    Rx = np.array([\n",
        "        [1, 0, 0],\n",
        "        [0, np.cos(phi), -np.sin(phi)],\n",
        "        [0, np.sin(phi), np.cos(phi)]\n",
        "    ])\n",
        "    Ry = np.array([\n",
        "        [np.cos(theta), 0, np.sin(theta)],\n",
        "        [0, 1, 0],\n",
        "        [-np.sin(theta), 0, np.cos(theta)]\n",
        "    ])\n",
        "    Rz = np.array([\n",
        "        [np.cos(psi), -np.sin(psi), 0],\n",
        "        [np.sin(psi), np.cos(psi), 0],\n",
        "        [0, 0, 1]\n",
        "    ])\n",
        "    R = Rz@Ry@Rx\n",
        "    return R"
      ],
      "outputs": [],
      "metadata": {
        "id": "k6FY25lf-_UI"
      }
    },
    {
      "cell_type": "code",
      "execution_count": 13,
      "source": [
        "# rotation matrix from body to NED for angular vectors\n",
        "@jit\n",
        "def T_b2ned(phi, theta, psi):\n",
        "    T = np.array([\n",
        "        [1, np.sin(phi)*np.tan(theta), np.cos(phi)*np.tan(theta)],\n",
        "        [0, np.cos(phi), -np.sin(phi)],\n",
        "        [0, np.sin(phi)/np.cos(theta), np.cos(phi)/np.cos(theta)],\n",
        "    ])\n",
        "    return T"
      ],
      "outputs": [],
      "metadata": {
        "id": "Y_HHsFZr-_UJ"
      }
    },
    {
      "cell_type": "code",
      "execution_count": 14,
      "source": [
        "@jit\n",
        "def f_analytical_terms(state, control):\n",
        "\n",
        "  # state and control\n",
        "  x, y, z, phi, theta, psi, u, v, w, p, q, r = state\n",
        "  #rpm1, rpm2, de, dr, lcg, vbs = control\n",
        "  rpm1, rpm2, de, dr = control\n",
        "\n",
        "  # position (NED) and velocity (body), rsp\n",
        "  eta = np.array([x, y, z, phi, theta, psi])\n",
        "  nu = np.array([u, v, w, p, q, r])\n",
        "\n",
        "  # scaled controls\n",
        "  rpm1 *= 1000.0\n",
        "  rpm2 *= 1000.0\n",
        "  de *= 0.05\n",
        "  dr *= 0.05\n",
        "  # vbs *= 1.0\n",
        "  # lcg *= 1.0\n",
        "\n",
        "  # mass and inertia matrix\n",
        "  m = 14.0\n",
        "  I_o = np.diag(np.array([0.0294, 1.6202, 1.6202]))\n",
        "\n",
        "  # centre of gravity, buoyancy, and pressure positions, resp.\n",
        "  #r_g = np.array([0.1 + lcg*0.01, 0.0, 0.0])\n",
        "  r_g = np.array([0.1, 0.0, 0.0]) #no effect of Longitudinal C.G. trim system\n",
        "  r_b = np.array([0.1, 0.0, 0.0])\n",
        "  r_cp = np.array([0.1, 0.0, 0.0])\n",
        "\n",
        "  # <insert title>\n",
        "  W = m*9.81\n",
        "  #B = W + vbs*1.5\n",
        "  B = W #no effect of Variable buoyancy system\n",
        "\n",
        "  # hydrodynamic coefficients\n",
        "  Xuu = 5. #3. #1.0\n",
        "  Yvv = 20. #10. #100.0\n",
        "  Zww = 50. #100.0\n",
        "  Kpp = 0.1 #10.0\n",
        "  Mqq = 20.#40 #100.0\n",
        "  Nrr = 20. #150.0\n",
        "\n",
        "  # control actuators\n",
        "  K_T = np.array([0.0175, 0.0175])\n",
        "  Q_T = np.array([0.001, -0.001])#*0.0\n",
        "\n",
        "  # mass and inertia matrix\n",
        "  M = np.block([\n",
        "    [m*np.eye(3,3), -m*skew(r_g)],\n",
        "    [m*skew(r_g), I_o]\n",
        "  ])\n",
        "  assert M.shape == (6,6), M\n",
        "\n",
        "  # coriolis and centripetal matrix\n",
        "  nu1 = np.array([u, v, w])\n",
        "  nu2 = np.array([p, q, r])\n",
        "  top_right = -m*skew(nu1) - m*skew(nu2)*skew(r_g)\n",
        "  bottom_left = -m*skew(nu1) + m*skew(r_g)*skew(nu2)\n",
        "  bottom_right = -skew(I_o.dot(nu2))\n",
        "  C_RB = np.block([\n",
        "    [np.zeros((3,3)), top_right],\n",
        "    [bottom_left, bottom_right]\n",
        "  ])\n",
        "  assert C_RB.shape == (6, 6), C_RB\n",
        "\n",
        "  # damping matrix\n",
        "  forces = np.diag(np.array([Xuu*np.abs(u), Yvv*np.abs(v), Zww*np.abs(w)]))\n",
        "  moments = np.diag(np.array([Kpp*np.abs(p), Mqq*np.abs(q), Nrr*np.abs(r)]))\n",
        "  coupling = np.matmul(skew(r_cp), forces)\n",
        "  D = np.block([[forces, np.zeros((3, 3))], [-coupling, moments]])\n",
        "  assert D.shape == (6, 6), D\n",
        "\n",
        "  # rotational transform between body and NED in Euler\n",
        "  T_euler = T_b2ned(phi, theta, psi)      \n",
        "  R_euler = R_b2ned(phi, theta, psi)\n",
        "  assert R_euler.shape == (3,3), R_euler\n",
        "  J_eta = np.block([\n",
        "    [R_euler, np.zeros((3,3))],\n",
        "    [np.zeros((3,3)), T_euler]\n",
        "  ])\n",
        "  assert J_eta.shape == (6,6), J_eta\n",
        "\n",
        "  # buoyancy in quaternions\n",
        "  f_g = np.array([0, 0, W])\n",
        "  f_b = np.array([0, 0, -B])\n",
        "  row1 = np.linalg.inv(R_euler).dot(f_g + f_b)\n",
        "  row2 = skew(r_g).dot(np.linalg.inv(R_euler)).dot(f_g) + \\\n",
        "    skew(r_b).dot(np.linalg.inv(R_euler)).dot(f_b)\n",
        "  geta = np.block([row1, row2])\n",
        "  assert geta.shape == (6,), geta\n",
        "\n",
        "  # <insert title>\n",
        "  F_T = K_T.dot(np.array([rpm1, rpm2]))\n",
        "  M_T = Q_T.dot(np.array([rpm1, rpm2]))\n",
        "  tauc = np.array([\n",
        "    F_T*np.cos(de)*np.cos(dr),\n",
        "    -F_T*np.sin(dr),\n",
        "    F_T*np.sin(de)*np.cos(dr),\n",
        "    M_T*np.cos(de)*np.cos(dr),\n",
        "    -M_T*np.sin(dr),\n",
        "    M_T*np.sin(de)*np.cos(dr)\n",
        "  ])\n",
        "  assert tauc.shape == (6,), tauc\n",
        "\n",
        "  # rate of change of position in NED frame\n",
        "  etadot = np.block([J_eta.dot(nu)])\n",
        "  assert etadot.shape == (6,)\n",
        "\n",
        "  # etadot and terms for rate of change of velocity in body frame\n",
        "  return eta, etadot, M, tauc, C_RB, D, nu, geta"
      ],
      "outputs": [],
      "metadata": {
        "id": "UEqKTbPanK_u"
      }
    },
    {
      "cell_type": "code",
      "execution_count": 15,
      "source": [
        "@jit\n",
        "def f_analytical(state, control):\n",
        "\n",
        "  # Fossen terms\n",
        "  eta, etadot, M, tauc, C_RB, D, nu, geta = f_analytical_terms(state, control)\n",
        "\n",
        "  # acceleration in body\n",
        "  nudot = np.linalg.pinv(M).dot(tauc - (C_RB + D).dot(nu) - geta)\n",
        "\n",
        "  # state-space dynamics\n",
        "  return np.hstack((etadot, nudot))"
      ],
      "outputs": [],
      "metadata": {
        "id": "8Sh6LU-L53qP"
      }
    },
    {
      "cell_type": "markdown",
      "source": [
        "# Visualization"
      ],
      "metadata": {
        "id": "jVJmDvCeOCfH"
      }
    },
    {
      "cell_type": "code",
      "execution_count": 16,
      "source": [
        "# integrates a single trajectory with constant control\n",
        "@partial(jit, static_argnums=(2,3,4))\n",
        "def trajectory_constant(x, u, f, T, h):\n",
        "    return odeint(lambda x, t: f(x, u), x, np.arange(0.0, T, h))\n",
        "\n",
        "# integrates multiple trajectories in parallel with constant control\n",
        "trajectories_constant = jit(\n",
        "    vmap(trajectory_constant, in_axes=(0,0, None, None, None)),\n",
        "    static_argnums=(2,3,4)\n",
        ")"
      ],
      "outputs": [],
      "metadata": {
        "id": "lTTydH8FOET1"
      }
    },
    {
      "cell_type": "code",
      "execution_count": 17,
      "source": [
        "def plot(trajs_list, markers, labels):\n",
        "\n",
        "    # setup\n",
        "    fig = plt.figure()\n",
        "    ax = fig.add_subplot(111, projection='3d')\n",
        "\n",
        "    # plot\n",
        "    for trajs, marker, label in zip(trajs_list, markers, labels):\n",
        "        for i, traj in enumerate(trajs):\n",
        "            label = None if i > 0 else label\n",
        "            ax.plot(traj[:1,0], traj[:1,1], traj[:1,2], 'ko', label=None)\n",
        "            ax.plot(traj[:,0], traj[:,1], traj[:,2], marker, label=label)\n",
        "\n",
        "    # format\n",
        "    ax.set_xlabel('$x~[m]$')\n",
        "    ax.set_ylabel('$y~[m]$')\n",
        "    ax.set_zlabel('$z~[m]$')\n",
        "    plt.legend()\n",
        "    plt.show()"
      ],
      "outputs": [],
      "metadata": {
        "id": "7xroKTEgO_wx"
      }
    },
    {
      "cell_type": "markdown",
      "source": [
        "Show a spiral trajectory with some arrows. Something that looks cool"
      ],
      "metadata": {
        "id": "v2CIU1T4jv-E"
      }
    },
    {
      "cell_type": "code",
      "execution_count": 18,
      "source": [
        "# trajs_list = [\n",
        "#   trajectories_constant(states_test, controls_test, f_analytical, 10, 0.1)\n",
        "# ]\n",
        "# plot(trajs_list, ['k-'], ['Analytical'])"
      ],
      "outputs": [],
      "metadata": {
        "colab": {
          "base_uri": "https://localhost:8080/",
          "height": 248
        },
        "id": "KAe1fK36PBmU",
        "outputId": "4094b7b9-ac7b-48bf-f81b-ef321ebb9077"
      }
    },
    {
      "cell_type": "code",
      "execution_count": 19,
      "source": [
        "# trajs_list = [\n",
        "#   [trajectory_constant(state, control, f_analytical, 200.0, 0.1)]\n",
        "# ]\n",
        "# plot(trajs_list, ['k-'], ['Analytical'])"
      ],
      "outputs": [],
      "metadata": {}
    },
    {
      "cell_type": "markdown",
      "source": [
        "# Machine learning\n",
        "\n",
        "Since the damping matrix is so difficult to model, we will attempt to learn it here from data. Fossen says that the damping matrix is a nonlinear function of the rates $D(\\nu)$."
      ],
      "metadata": {
        "id": "6LlTxTuz-_UM"
      }
    },
    {
      "cell_type": "markdown",
      "source": [
        "## Learning model"
      ],
      "metadata": {}
    },
    {
      "cell_type": "code",
      "execution_count": 20,
      "source": [
        "def F_nn(state, control):\n",
        "\n",
        "  # Fossen terms\n",
        "  eta, etadot, M, tauc, C_RB, D, nu, geta = f_analytical_terms(state, control)\n",
        "\n",
        "  # estimate damping with NN\n",
        "  forces = hk.nets.MLP([*[100]*3, 3], b_init=hk.initializers.RandomNormal())(nu[0:3]) # Linear damping depends on linear velocity\n",
        "  moments = hk.nets.MLP([*[100]*3, 3], b_init=hk.initializers.RandomNormal())(nu[3:6]) # Angular damping depends on angular velocity\n",
        "  # r_cp = hk.nets.MLP([*[20]*3, 3], b_init=hk.initializers.RandomNormal())(np.hstack((nu))) # Center of pressure depends on velocity\n",
        "  r_cp = np.array([0.1, 0.0, 0.0])\n",
        "  forces = np.diag(forces)\n",
        "  moments = np.diag(moments)\n",
        "  coupling = np.matmul(skew(r_cp), forces)\n",
        "  D = np.block([[forces, np.zeros((3, 3))], [-coupling, moments]])\n",
        "  # D = hk.nets.MLP([*[100]*3, 6**2])(nu).reshape((6,6))\n",
        "\n",
        "  # Fossen\n",
        "  nudot = np.linalg.pinv(M).dot(tauc - (C_RB + D).dot(nu) - geta)\n",
        "  return np.hstack((etadot, nudot))"
      ],
      "outputs": [],
      "metadata": {
        "id": "NEtT1EHs9Hyp"
      }
    },
    {
      "cell_type": "code",
      "execution_count": 21,
      "source": [
        "# we need to initialize the model\n",
        "f_nn = hk.without_apply_rng(hk.transform(F_nn))\n",
        "params = f_nn.init(next(key), state, control)"
      ],
      "outputs": [],
      "metadata": {}
    },
    {
      "cell_type": "markdown",
      "source": [
        "## Loss function"
      ],
      "metadata": {
        "id": "x2AE7elw-_US"
      }
    },
    {
      "cell_type": "code",
      "execution_count": 22,
      "source": [
        "@partial(jit, static_argnums=(2,))\n",
        "def loss(params, key, n):\n",
        "\n",
        "    # generate random states\n",
        "    states = uniform(\n",
        "        key,\n",
        "        shape=(n, dim_state),\n",
        "        minval=bounds_state_train[0],\n",
        "        maxval=bounds_state_train[1]\n",
        "    )\n",
        "\n",
        "    # generate random controls\n",
        "    controls = uniform(\n",
        "        key,\n",
        "        shape=(n, dim_control),\n",
        "        minval=bounds_control_train[0],\n",
        "        maxval=bounds_control_train[1]\n",
        "    )\n",
        "\n",
        "    # analytical time-derivatives\n",
        "    dstates = vmap(f_analytical, in_axes=(0,0))(states, controls)\n",
        "\n",
        "    # predictions\n",
        "    dstates_nn = vmap(f_nn.apply, in_axes=(None,0,0))(params, states, controls)\n",
        "\n",
        "    # mean-squared-error loss in acceleration\n",
        "    loss = dstates[:,6:] - dstates_nn[:,6:]\n",
        "    loss = np.average(np.square(loss))\n",
        "    return loss, loss"
      ],
      "outputs": [],
      "metadata": {}
    },
    {
      "cell_type": "code",
      "execution_count": 23,
      "source": [
        "# gradient of loss function\n",
        "loss_grad = jit(grad(loss, argnums=0, has_aux=True), static_argnums=(2,))"
      ],
      "outputs": [],
      "metadata": {}
    },
    {
      "cell_type": "markdown",
      "source": [
        "## Training"
      ],
      "metadata": {}
    },
    {
      "cell_type": "code",
      "execution_count": 24,
      "source": [
        "def train(params, epo, lr, n, opt_state=None, algo=optax.adam, losses=None):\n",
        "\n",
        "    # setup optimiser\n",
        "    opt_init, opt_update = algo(lr)\n",
        "    opt_state = opt_init(params) if opt_state is None else opt_state\n",
        "\n",
        "    # record\n",
        "    losses = list() if losses is None else losses\n",
        "\n",
        "    # training loop\n",
        "    pb = tqdm(range(epo))\n",
        "    for iteration in pb:\n",
        "\n",
        "        # gradient and loss\n",
        "        gopt, loss = loss_grad(params, next(key), n)\n",
        "\n",
        "        # record loss\n",
        "        losses.append(loss)\n",
        "\n",
        "        # progress bar update\n",
        "        pb.set_description('{:.6f}'.format(loss))\n",
        "\n",
        "        # optimiser update\n",
        "        updates, opt_state = opt_update(\n",
        "            gopt, \n",
        "            opt_state, \n",
        "            params\n",
        "        )\n",
        "\n",
        "        # update the parameters\n",
        "        params = optax.apply_updates(params, updates)\n",
        "\n",
        "    return params, opt_state, losses"
      ],
      "outputs": [],
      "metadata": {}
    },
    {
      "cell_type": "code",
      "execution_count": 25,
      "source": [
        "# if you want the pretrained model\n",
        "opt_state = None\n",
        "params, losses = pickle.load(open('learned_model', 'rb'))"
      ],
      "outputs": [],
      "metadata": {}
    },
    {
      "cell_type": "code",
      "execution_count": 33,
      "source": [
        "# if you want to train from scratch\n",
        "# opt_state = None\n",
        "# params = None\n",
        "# losses = None"
      ],
      "outputs": [],
      "metadata": {}
    },
    {
      "cell_type": "code",
      "execution_count": 32,
      "source": [
        "# if you want to train\n",
        "params, opt_state, losses = train(params, 20000, 1e-5, 5000, algo=optax.adam, losses=losses, opt_state=opt_state)"
      ],
      "outputs": [
        {
          "output_type": "display_data",
          "data": {
            "application/vnd.jupyter.widget-view+json": {
              "version_major": 2,
              "version_minor": 0,
              "model_id": "e025e91b8b6f4455acf5864fb221bcff"
            },
            "text/plain": [
              "  0%|          | 0/20000 [00:00<?, ?it/s]"
            ]
          },
          "metadata": {}
        }
      ],
      "metadata": {}
    },
    {
      "cell_type": "code",
      "execution_count": 27,
      "source": [
        "# save the model\n",
        "pickle.dump([params, losses], open('learned_model', 'wb'))"
      ],
      "outputs": [],
      "metadata": {}
    },
    {
      "cell_type": "markdown",
      "source": [
        "# Results"
      ],
      "metadata": {}
    },
    {
      "cell_type": "markdown",
      "source": [
        "## Loss"
      ],
      "metadata": {}
    },
    {
      "cell_type": "code",
      "execution_count": 29,
      "source": [
        "fig, ax = plt.subplots(1)\n",
        "ax.plot(losses, 'k-')\n",
        "ax.set_yscale('log')\n",
        "ax.set_xlabel('Iteration')\n",
        "ax.set_ylabel('MSE Loss')\n",
        "plt.show()"
      ],
      "outputs": [
        {
          "output_type": "display_data",
          "data": {
            "image/png": "[encoded data removed]",
            "text/plain": [
              "<Figure size 432x288 with 1 Axes>"
            ]
          },
          "metadata": {
            "needs_background": "light"
          }
        }
      ],
      "metadata": {}
    },
    {
      "cell_type": "markdown",
      "source": [
        "## Simulation"
      ],
      "metadata": {}
    },
    {
      "cell_type": "code",
      "execution_count": 30,
      "source": [
        "f_learned = lambda state, control: f_nn.apply(params, state, control)"
      ],
      "outputs": [],
      "metadata": {}
    },
    {
      "cell_type": "code",
      "execution_count": 31,
      "source": [
        "trajs_list = [\n",
        "  [trajectory_constant(state, control, f_analytical, 50.0, 0.1)],\n",
        "  [trajectory_constant(state, control, f_learned, 50.0, 0.1)]\n",
        "]\n",
        "plot(trajs_list, ['k-', 'k--'], ['Analytical', 'Learned'])"
      ],
      "outputs": [
        {
          "output_type": "display_data",
          "data": {
            "image/png": "[encoded data removed]",
            "text/plain": [
              "<Figure size 432x288 with 1 Axes>"
            ]
          },
          "metadata": {
            "needs_background": "light"
          }
        }
      ],
      "metadata": {}
    },
    {
      "cell_type": "code",
      "execution_count": 32,
      "source": [
        "trajs_list = [\n",
        "    trajectories_constant(states_test, controls_test, f_analytical, 10.0, 0.1),\n",
        "    trajectories_constant(states_test, controls_test, f_learned, 10.0, 0.1)\n",
        "]\n",
        "plot(trajs_list, ['k-', 'k--'], ['Analytical', 'Learned'])"
      ],
      "outputs": [
        {
          "output_type": "display_data",
          "data": {
            "image/png": "[encoded data removed]",
            "text/plain": [
              "<Figure size 432x288 with 1 Axes>"
            ]
          },
          "metadata": {
            "needs_background": "light"
          }
        }
      ],
      "metadata": {}
    }
  ]
}