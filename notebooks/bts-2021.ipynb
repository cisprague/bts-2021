{
  "nbformat": 4,
  "nbformat_minor": 0,
  "metadata": {
    "colab": {
      "name": "bts-2021.ipynb",
      "provenance": [],
      "collapsed_sections": [],
      "authorship_tag": "ABX9TyMwX9tY+1FP1G1S6eENAGIO",
      "include_colab_link": true
    },
    "kernelspec": {
      "name": "python3",
      "display_name": "Python 3"
    },
    "language_info": {
      "name": "python"
    }
  },
  "cells": [
    {
      "cell_type": "markdown",
      "metadata": {
        "id": "view-in-github",
        "colab_type": "text"
      },
      "source": [
        "<a href=\"https://colab.research.google.com/github/cisprague/bts-2021/blob/main/notebooks/bts-2021.ipynb\" target=\"_parent\"><img src=\"https://colab.research.google.com/assets/colab-badge.svg\" alt=\"Open In Colab\"/></a>"
      ]
    },
    {
      "cell_type": "markdown",
      "metadata": {
        "id": "XOFl1RKPjdt_"
      },
      "source": [
        "# System identification of AUVs\n",
        "\n",
        "Christopher Iliffe Sprague \\\\\n",
        "sprague@kth.se\n",
        "\n",
        "Sriharsha Bhat \\\\\n",
        "svbhat@kth.se"
      ]
    },
    {
      "cell_type": "markdown",
      "metadata": {
        "id": "yEzpfNjMjz7Y"
      },
      "source": [
        "# Outline\n",
        "\n",
        "- Background\n",
        "- What's the benifit?\n",
        "- Data generation\n",
        "- Model identification\n",
        "- Simulation\n",
        "- Discussion and future work"
      ]
    },
    {
      "cell_type": "markdown",
      "metadata": {
        "id": "Ke5En5u7mzJ8"
      },
      "source": [
        "# Resources"
      ]
    },
    {
      "cell_type": "code",
      "metadata": {
        "id": "MbwNlmTpmyru"
      },
      "source": [
        "import jax.numpy as np, matplotlib.pyplot as plt\n",
        "from jax import jit\n",
        "from mpl_toolkits.mplot3d import Axes3D\n",
        "from scipy.integrate import solve_ivp"
      ],
      "execution_count": 240,
      "outputs": []
    },
    {
      "cell_type": "markdown",
      "metadata": {
        "id": "7SDLTz2ukoQq"
      },
      "source": [
        "# Analytical model"
      ]
    },
    {
      "cell_type": "code",
      "metadata": {
        "id": "Pdx2qOUuktpJ"
      },
      "source": [
        "def skew(l):\n",
        "  return np.array([\n",
        "    [0, -l[2], l[1]],\n",
        "    [l[2], 0, -l[0]],\n",
        "    [-l[1], l[0], 0]\n",
        "  ])"
      ],
      "execution_count": 241,
      "outputs": []
    },
    {
      "cell_type": "code",
      "metadata": {
        "id": "UEqKTbPanK_u"
      },
      "source": [
        "@jit\n",
        "def f(x, u, params):\n",
        "\n",
        "  # state and control\n",
        "  rpm1, rpm2, de, dr, lcg, vbs = u\n",
        "  x, y, z, phi, theta, psi, u, v, w, p, q, r = x\n",
        "\n",
        "  # position and velocity\n",
        "  eta = np.array([x, y, z, phi, theta, psi])\n",
        "  nu = np.array([u, v, w, p, q, r])\n",
        "\n",
        "  # centre of gravity, buoyancy, and pressure positions\n",
        "  rg = np.array([params['xg'], params['yg'], params['zg']])\n",
        "  rb = np.array([params['xb'], params['yb'], params['zb']])\n",
        "  rp = np.array([params['xcp'], params['ycp'], params['zcp']])\n",
        "\n",
        "  # control actuators\n",
        "  KT = np.array([params['Kt0'], params['Kt1']])\n",
        "  QT = np.array([params['Qt0'], params['Qt1']])\n",
        "\n",
        "  # mass and inertia matrix\n",
        "  I = np.array([\n",
        "    [params['Ixx'], 0, 0],\n",
        "    [0, params['Iyy'], 0],\n",
        "    [0, 0, params['Izz']]\n",
        "  ])\n",
        "  m = params['m']\n",
        "  M = np.block([\n",
        "    [m*np.eye(3,3), -m*skew(rg)],\n",
        "    [m*skew(rg), I]\n",
        "  ])\n",
        "  assert M.shape == (6,6)\n",
        "\n",
        "  # coriolis and centripetal matrix\n",
        "  nu1 = np.array([u, v, w])\n",
        "  nu2 = np.array([p, q, r])\n",
        "  top_right = -m*skew(nu1) - m*skew(nu2)*skew(rg)\n",
        "  bottom_left = -m*skew(nu1) + m*skew(rg)*skew(nu2)\n",
        "  bottom_right = -skew(I.dot(nu2))\n",
        "  CRB = np.block([\n",
        "    [np.zeros((3,3)), top_right],\n",
        "    [bottom_left, bottom_right]\n",
        "  ])\n",
        "  assert CRB.shape == (6, 6)\n",
        "\n",
        "  # damping matrix\n",
        "  forces = np.diag(np.array([\n",
        "    params['Xuu']*np.abs(u), \n",
        "    params['Yvv']*np.abs(v), \n",
        "    params['Zww']*np.abs(w)\n",
        "  ]))\n",
        "  moments = np.diag(np.array([\n",
        "    params['Kpp']*np.abs(p), \n",
        "    params['Mqq']*np.abs(q), \n",
        "    params['Nrr']*np.abs(r)\n",
        "  ]))\n",
        "  coupling = np.matmul(skew(rp), forces)\n",
        "  D = np.block([\n",
        "    [forces, np.zeros([3,3])],\n",
        "    [-coupling, moments]\n",
        "  ])\n",
        "  assert D.shape == (6, 6)\n",
        "\n",
        "  # rotational transform between body and NED in Euler        \n",
        "  T_euler = np.array([\n",
        "    [1, np.sin(phi)*np.tan(theta), np.cos(phi)*np.tan(theta)],\n",
        "    [0, np.cos(phi), -np.sin(phi)],\n",
        "    [0, np.sin(phi)/np.cos(theta), np.cos(phi)/np.cos(theta)],\n",
        "  ])\n",
        "  R_euler = np.array([\n",
        "    [\n",
        "      np.cos(psi)*np.cos(theta),\n",
        "      -np.sin(psi)*np.cos(phi)+np.cos(psi)*np.sin(theta)*np.sin(phi),\n",
        "      np.sin(psi)*np.sin(phi)+np.cos(psi)*np.cos(phi)*np.sin(theta)\n",
        "    ],\n",
        "    [\n",
        "      np.sin(psi)*np.cos(theta),\n",
        "      np.cos(psi)*np.cos(phi)+np.sin(phi)*np.sin(theta)*np.sin(psi),\n",
        "      -np.cos(psi)*np.sin(phi)+np.sin(theta)*np.sin(psi)*np.cos(phi),\n",
        "    ],\n",
        "    [\n",
        "      -np.sin(theta),\n",
        "      np.cos(theta)*np.sin(phi),\n",
        "      np.cos(theta)*np.cos(phi),\n",
        "    ],\n",
        "  ])\n",
        "  assert R_euler.shape == (3,3)\n",
        "\n",
        "  J_eta = np.block([\n",
        "    [R_euler, np.zeros((3,3))],\n",
        "    [np.zeros((3,3)), T_euler]\n",
        "  ])\n",
        "  assert J_eta.shape == (6,6)\n",
        "\n",
        "  # buoyancy in quaternions\n",
        "  fg = np.array([0, 0, params['W']])\n",
        "  fb = np.array([0, 0, -params['B']])\n",
        "  row1 = np.linalg.inv(R_euler).dot(fg + fb)\n",
        "  row2 = skew(rg).dot(np.linalg.inv(R_euler)).dot(fg) + skew(rb).dot(np.linalg.inv(R_euler)).dot(fb)\n",
        "  geta = np.block([row1, row2])\n",
        "  assert geta.shape == (6,)\n",
        "\n",
        "  # [Insert title]\n",
        "  FT = KT.dot(np.array([rpm1, rpm2]))\n",
        "  MT = QT.dot(np.array([rpm1, rpm2]))\n",
        "  tauc = np.array([\n",
        "    FT*np.cos(de)*np.cos(dr),\n",
        "    -FT*np.sin(dr),\n",
        "    FT*np.sin(de)*np.cos(dr),\n",
        "    MT*np.cos(de)*np.cos(dr),\n",
        "    -MT*np.sin(dr),\n",
        "    MT*np.sin(de)*np.cos(dr)\n",
        "  ])\n",
        "  assert tauc.shape == (6,)\n",
        "\n",
        "  # velocity and acceleration\n",
        "  etadot = np.block([J_eta.dot(nu)])\n",
        "  nudot = np.linalg.inv(M).dot(tauc - ((CRB + D).dot(nu - geta)))\n",
        "\n",
        "  # state-space\n",
        "  sdot = np.block([etadot, nudot])\n",
        "  # print(sdot)\n",
        "  return sdot"
      ],
      "execution_count": 242,
      "outputs": []
    },
    {
      "cell_type": "code",
      "metadata": {
        "id": "hoiybzQIneWN"
      },
      "source": [
        "params = dict(\n",
        "  Nrr=150., Izz=10., Kt1=0.1, zb=0., Mqq=100., \n",
        "  ycp=0., xb=0., zcp=0., Yvv=100., yg=0., Ixx=10., \n",
        "  Kt0=0.1, Xuu=1., xg=0., Zww=100., W=15.4*9.81, \n",
        "  m=15.4, B=15.4*9.81, zg=0., Kpp=100., Qt1=-0.001, \n",
        "  Qt0=0.001, Iyy=10., yb=0., xcp=0.1\n",
        ")"
      ],
      "execution_count": 243,
      "outputs": []
    },
    {
      "cell_type": "code",
      "metadata": {
        "id": "yfrrD1js5xbY"
      },
      "source": [
        "def simulate(x, T, pi, params):\n",
        "  sol = solve_ivp(\n",
        "      lambda t, x: f(x, pi(x), params),\n",
        "      (0, T),\n",
        "      x,\n",
        "      method='RK45',\n",
        "      atol=1e-5,\n",
        "      rtol=1e-5\n",
        "  )\n",
        "  return sol.y.T, sol.t"
      ],
      "execution_count": 244,
      "outputs": []
    },
    {
      "cell_type": "code",
      "metadata": {
        "id": "YbWnfgXt3U53"
      },
      "source": [
        "x = np.array([0, 0, 0, 0, 0, 0, 0, 0, 0, 0, 0, 0])\n",
        "T = 50\n",
        "pi = lambda x: np.array([1000.0, 1000.0, 0.1, 0.1, 0, 0])\n",
        "trajectory, times = simulate(x, T, pi, params)"
      ],
      "execution_count": 249,
      "outputs": []
    },
    {
      "cell_type": "code",
      "metadata": {
        "colab": {
          "base_uri": "https://localhost:8080/",
          "height": 248
        },
        "id": "h04ygie39iua",
        "outputId": "8f839f1d-e5af-423d-d689-455e67ed562b"
      },
      "source": [
        "fig = plt.figure()\n",
        "ax = fig.add_subplot(111, projection='3d')\n",
        "ax.plot(trajectory[:,0], trajectory[:,1], trajectory[:,2], 'k.-')\n",
        "plt.show()"
      ],
      "execution_count": 250,
      "outputs": [
        {
          "output_type": "display_data",
          "data": {
            "image/png": "[encoded data removed]",
            "text/plain": [
              "<Figure size 432x288 with 1 Axes>"
            ]
          },
          "metadata": {
            "tags": [],
            "needs_background": "light"
          }
        }
      ]
    },
    {
      "cell_type": "code",
      "metadata": {
        "id": "aIJ4D1njOtuT"
      },
      "source": [
        ""
      ],
      "execution_count": null,
      "outputs": []
    }
  ]
}