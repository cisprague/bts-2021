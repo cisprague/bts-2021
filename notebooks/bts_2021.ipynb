{
  "nbformat": 4,
  "nbformat_minor": 2,
  "metadata": {
    "colab": {
      "name": "bts-2021.ipynb",
      "provenance": [],
      "collapsed_sections": [],
      "include_colab_link": true
    },
    "kernelspec": {
      "name": "python3",
      "display_name": "Python 3.8.10 64-bit"
    },
    "language_info": {
      "name": "python",
      "version": "3.8.10",
      "mimetype": "text/x-python",
      "codemirror_mode": {
        "name": "ipython",
        "version": 3
      },
      "pygments_lexer": "ipython3",
      "nbconvert_exporter": "python",
      "file_extension": ".py"
    },
    "accelerator": "GPU",
    "widgets": {
      "application/vnd.jupyter.widget-state+json": {
        "453c2439576b4b37a230ab19c0250bc7": {
          "model_module": "@jupyter-widgets/controls",
          "model_name": "HBoxModel",
          "state": {
            "_view_name": "HBoxView",
            "_dom_classes": [],
            "_model_name": "HBoxModel",
            "_view_module": "@jupyter-widgets/controls",
            "_model_module_version": "1.5.0",
            "_view_count": null,
            "_view_module_version": "1.5.0",
            "box_style": "",
            "layout": "IPY_MODEL_ba5c1bee1285422186d3226053062df1",
            "_model_module": "@jupyter-widgets/controls",
            "children": [
              "IPY_MODEL_76d9dd852768496ea2c7c524cc9a898f",
              "IPY_MODEL_67512724390d437698f0e0a9a9e13b19"
            ]
          }
        },
        "ba5c1bee1285422186d3226053062df1": {
          "model_module": "@jupyter-widgets/base",
          "model_name": "LayoutModel",
          "state": {
            "_view_name": "LayoutView",
            "grid_template_rows": null,
            "right": null,
            "justify_content": null,
            "_view_module": "@jupyter-widgets/base",
            "overflow": null,
            "_model_module_version": "1.2.0",
            "_view_count": null,
            "flex_flow": null,
            "width": null,
            "min_width": null,
            "border": null,
            "align_items": null,
            "bottom": null,
            "_model_module": "@jupyter-widgets/base",
            "top": null,
            "grid_column": null,
            "overflow_y": null,
            "overflow_x": null,
            "grid_auto_flow": null,
            "grid_area": null,
            "grid_template_columns": null,
            "flex": null,
            "_model_name": "LayoutModel",
            "justify_items": null,
            "grid_row": null,
            "max_height": null,
            "align_content": null,
            "visibility": null,
            "align_self": null,
            "height": null,
            "min_height": null,
            "padding": null,
            "grid_auto_rows": null,
            "grid_gap": null,
            "max_width": null,
            "order": null,
            "_view_module_version": "1.2.0",
            "grid_template_areas": null,
            "object_position": null,
            "object_fit": null,
            "grid_auto_columns": null,
            "margin": null,
            "display": null,
            "left": null
          }
        },
        "76d9dd852768496ea2c7c524cc9a898f": {
          "model_module": "@jupyter-widgets/controls",
          "model_name": "FloatProgressModel",
          "state": {
            "_view_name": "ProgressView",
            "style": "IPY_MODEL_513ba46faa144d3481cfdc12f178ce53",
            "_dom_classes": [],
            "description": "0.161347: 100%",
            "_model_name": "FloatProgressModel",
            "bar_style": "success",
            "max": 1000,
            "_view_module": "@jupyter-widgets/controls",
            "_model_module_version": "1.5.0",
            "value": 1000,
            "_view_count": null,
            "_view_module_version": "1.5.0",
            "orientation": "horizontal",
            "min": 0,
            "description_tooltip": null,
            "_model_module": "@jupyter-widgets/controls",
            "layout": "IPY_MODEL_8adf4244e0274fb6a3cc40c4d305f424"
          }
        },
        "67512724390d437698f0e0a9a9e13b19": {
          "model_module": "@jupyter-widgets/controls",
          "model_name": "HTMLModel",
          "state": {
            "_view_name": "HTMLView",
            "style": "IPY_MODEL_b18b694caf864842ae56d15e94b55244",
            "_dom_classes": [],
            "description": "",
            "_model_name": "HTMLModel",
            "placeholder": "​",
            "_view_module": "@jupyter-widgets/controls",
            "_model_module_version": "1.5.0",
            "value": " 1000/1000 [17:55&lt;00:00,  1.08s/it]",
            "_view_count": null,
            "_view_module_version": "1.5.0",
            "description_tooltip": null,
            "_model_module": "@jupyter-widgets/controls",
            "layout": "IPY_MODEL_17a45d63f5614d048e548f170a2608ad"
          }
        },
        "513ba46faa144d3481cfdc12f178ce53": {
          "model_module": "@jupyter-widgets/controls",
          "model_name": "ProgressStyleModel",
          "state": {
            "_view_name": "StyleView",
            "_model_name": "ProgressStyleModel",
            "description_width": "initial",
            "_view_module": "@jupyter-widgets/base",
            "_model_module_version": "1.5.0",
            "_view_count": null,
            "_view_module_version": "1.2.0",
            "bar_color": null,
            "_model_module": "@jupyter-widgets/controls"
          }
        },
        "8adf4244e0274fb6a3cc40c4d305f424": {
          "model_module": "@jupyter-widgets/base",
          "model_name": "LayoutModel",
          "state": {
            "_view_name": "LayoutView",
            "grid_template_rows": null,
            "right": null,
            "justify_content": null,
            "_view_module": "@jupyter-widgets/base",
            "overflow": null,
            "_model_module_version": "1.2.0",
            "_view_count": null,
            "flex_flow": null,
            "width": null,
            "min_width": null,
            "border": null,
            "align_items": null,
            "bottom": null,
            "_model_module": "@jupyter-widgets/base",
            "top": null,
            "grid_column": null,
            "overflow_y": null,
            "overflow_x": null,
            "grid_auto_flow": null,
            "grid_area": null,
            "grid_template_columns": null,
            "flex": null,
            "_model_name": "LayoutModel",
            "justify_items": null,
            "grid_row": null,
            "max_height": null,
            "align_content": null,
            "visibility": null,
            "align_self": null,
            "height": null,
            "min_height": null,
            "padding": null,
            "grid_auto_rows": null,
            "grid_gap": null,
            "max_width": null,
            "order": null,
            "_view_module_version": "1.2.0",
            "grid_template_areas": null,
            "object_position": null,
            "object_fit": null,
            "grid_auto_columns": null,
            "margin": null,
            "display": null,
            "left": null
          }
        },
        "b18b694caf864842ae56d15e94b55244": {
          "model_module": "@jupyter-widgets/controls",
          "model_name": "DescriptionStyleModel",
          "state": {
            "_view_name": "StyleView",
            "_model_name": "DescriptionStyleModel",
            "description_width": "",
            "_view_module": "@jupyter-widgets/base",
            "_model_module_version": "1.5.0",
            "_view_count": null,
            "_view_module_version": "1.2.0",
            "_model_module": "@jupyter-widgets/controls"
          }
        },
        "17a45d63f5614d048e548f170a2608ad": {
          "model_module": "@jupyter-widgets/base",
          "model_name": "LayoutModel",
          "state": {
            "_view_name": "LayoutView",
            "grid_template_rows": null,
            "right": null,
            "justify_content": null,
            "_view_module": "@jupyter-widgets/base",
            "overflow": null,
            "_model_module_version": "1.2.0",
            "_view_count": null,
            "flex_flow": null,
            "width": null,
            "min_width": null,
            "border": null,
            "align_items": null,
            "bottom": null,
            "_model_module": "@jupyter-widgets/base",
            "top": null,
            "grid_column": null,
            "overflow_y": null,
            "overflow_x": null,
            "grid_auto_flow": null,
            "grid_area": null,
            "grid_template_columns": null,
            "flex": null,
            "_model_name": "LayoutModel",
            "justify_items": null,
            "grid_row": null,
            "max_height": null,
            "align_content": null,
            "visibility": null,
            "align_self": null,
            "height": null,
            "min_height": null,
            "padding": null,
            "grid_auto_rows": null,
            "grid_gap": null,
            "max_width": null,
            "order": null,
            "_view_module_version": "1.2.0",
            "grid_template_areas": null,
            "object_position": null,
            "object_fit": null,
            "grid_auto_columns": null,
            "margin": null,
            "display": null,
            "left": null
          }
        }
      }
    },
    "interpreter": {
      "hash": "916dbcbb3f70747c44a77c7bcd40155683ae19c65e1c03b4aa3499c5328201f1"
    }
  },
  "cells": [
    {
      "cell_type": "markdown",
      "source": [
        "<a href=\"https://colab.research.google.com/github/cisprague/bts-2021/blob/main/notebooks/bts_2021.ipynb\" target=\"_parent\"><img src=\"https://colab.research.google.com/assets/colab-badge.svg\" alt=\"Open In Colab\"/></a>"
      ],
      "metadata": {
        "id": "view-in-github",
        "colab_type": "text"
      }
    },
    {
      "cell_type": "markdown",
      "source": [
        "# System identification of AUVs with physics-informed learning\n",
        "\n",
        "Christopher Iliffe Sprague (sprague@kth.se)\n",
        "\n",
        "Sriharsha Bhat (svbhat@kth.se)"
      ],
      "metadata": {
        "id": "XOFl1RKPjdt_"
      }
    },
    {
      "cell_type": "markdown",
      "source": [
        "# Outline\n",
        "\n",
        "- Background\n",
        "- What's the benefit?\n",
        "- Data generation\n",
        "- Model identification\n",
        "- Simulation\n",
        "- Discussion and future work"
      ],
      "metadata": {
        "id": "yEzpfNjMjz7Y"
      }
    },
    {
      "cell_type": "markdown",
      "source": [
        "# Resources"
      ],
      "metadata": {
        "id": "Ke5En5u7mzJ8"
      }
    },
    {
      "cell_type": "code",
      "execution_count": 24,
      "source": [
        "# JAX for autograd and and numerics\n",
        "# ! pip install --upgrade pip\n",
        "# ! pip install --upgrade \"jax[cuda101]\" -f https://storage.googleapis.com/jax-releases/jax_releases.html\n",
        "import jax.numpy as np\n",
        "from jax import jit, vmap, jacobian, hessian, grad\n",
        "from jax.experimental.ode import odeint\n",
        "from jax.random import uniform, choice\n",
        "from jax.nn import softplus\n",
        "from jax.lax import stop_gradient\n",
        "\n",
        "# Haiku for neural networks\n",
        "# ! pip install git+https://github.com/deepmind/dm-haiku\n",
        "import haiku as hk\n",
        "\n",
        "# Optax for optimisation\n",
        "# ! pip install git+https://github.com/deepmind/optax\n",
        "import optax\n",
        "\n",
        "# TQDM for training loop feedback\n",
        "! pip install tqdm\n",
        "from tqdm.notebook import tqdm\n",
        "\n",
        "# SKLearn for preprocessing data\n",
        "from sklearn.preprocessing import StandardScaler\n",
        "\n",
        "# treating some arguments as static\n",
        "from functools import partial\n",
        "\n",
        "# computer algbra\n",
        "import sympy\n",
        "\n",
        "# matplotlib for plotting\n",
        "import matplotlib.pyplot as plt\n",
        "from mpl_toolkits.mplot3d import Axes3D\n",
        "%matplotlib inline"
      ],
      "outputs": [
        {
          "output_type": "stream",
          "name": "stdout",
          "text": [
            "Defaulting to user installation because normal site-packages is not writeable\n",
            "Requirement already satisfied: tqdm in /usr/local/lib/python3.8/dist-packages (4.56.0)\n",
            "\u001b[33mWARNING: You are using pip version 21.2.2; however, version 21.2.3 is available.\n",
            "You should consider upgrading via the '/usr/bin/python3 -m pip install --upgrade pip' command.\u001b[0m\n"
          ]
        }
      ],
      "metadata": {
        "id": "MbwNlmTpmyru",
        "colab": {
          "base_uri": "https://localhost:8080/"
        },
        "outputId": "54a0e4cf-bf27-4617-8a26-cee6f42d2ece"
      }
    },
    {
      "cell_type": "code",
      "execution_count": 25,
      "source": [
        "from jax.lib import xla_bridge\n",
        "print(xla_bridge.get_backend().platform)"
      ],
      "outputs": [
        {
          "output_type": "stream",
          "name": "stdout",
          "text": [
            "gpu\n"
          ]
        }
      ],
      "metadata": {}
    },
    {
      "cell_type": "code",
      "execution_count": 26,
      "source": [
        "key = hk.PRNGSequence(42)"
      ],
      "outputs": [],
      "metadata": {}
    },
    {
      "cell_type": "markdown",
      "source": [
        "# Derrivation"
      ],
      "metadata": {}
    },
    {
      "cell_type": "code",
      "execution_count": 29,
      "source": [
        "x, y, z, theta, phi, psi = sympy.symbols(['x', 'y', 'z', '\\\\phi', '\\\\theta', '\\\\psi'])\n"
      ],
      "outputs": [
        {
          "output_type": "execute_result",
          "data": {
            "text/plain": [
              "\\theta"
            ],
            "text/latex": [
              "$\\displaystyle \\theta$"
            ]
          },
          "metadata": {},
          "execution_count": 29
        }
      ],
      "metadata": {}
    },
    {
      "cell_type": "markdown",
      "source": [
        "# Models"
      ],
      "metadata": {
        "id": "7SDLTz2ukoQq"
      }
    },
    {
      "cell_type": "markdown",
      "source": [
        "## Properties"
      ],
      "metadata": {}
    },
    {
      "cell_type": "code",
      "execution_count": 4,
      "source": [
        "# dimensions\n",
        "dim_state = 12\n",
        "dim_control = 6"
      ],
      "outputs": [],
      "metadata": {}
    },
    {
      "cell_type": "code",
      "execution_count": 7,
      "source": [
        "# state and control bounds\n",
        "bounds_state = (\n",
        "    np.array([-20, -20, -20, -np.pi, -np.pi, -np.pi, -10, -10, -10, -10, -10, -10]),\n",
        "    np.array([20, 20, 20, np.pi, np.pi, np.pi, 10, 10, 10, 10, 10, 10])\n",
        ")\n",
        "bounds_control = (\n",
        "    np.full(dim_control, -1.0),\n",
        "    np.full(dim_control, 1.0)\n",
        ")"
      ],
      "outputs": [],
      "metadata": {}
    },
    {
      "cell_type": "code",
      "execution_count": 8,
      "source": [
        "# scaling\n",
        "scaler = StandardScaler()\n",
        "scaler.fit(np.vstack(bounds_state))\n",
        "mean = scaler.mean_\n",
        "scale = scaler.scale_"
      ],
      "outputs": [],
      "metadata": {}
    },
    {
      "cell_type": "code",
      "execution_count": 14,
      "source": [
        "# random state and control\n",
        "state = uniform(\n",
        "    next(key),\n",
        "    (dim_state,),\n",
        "    minval=bounds_state[0],\n",
        "    maxval=bounds_state[1]\n",
        ")\n",
        "control = uniform(\n",
        "    next(key),\n",
        "    (dim_control,),\n",
        "    minval=bounds_control[0],\n",
        "    maxval=bounds_control[1]\n",
        ")\n",
        "state, control"
      ],
      "outputs": [
        {
          "output_type": "execute_result",
          "data": {
            "text/plain": [
              "(DeviceArray([-3.509121  ,  7.2579536 , -3.94796   ,  0.8093486 ,\n",
              "               1.7166288 , -0.16063881,  1.3922167 , -2.2410893 ,\n",
              "               1.7338371 , -2.5605798 ,  7.6215534 ,  2.5253124 ],            dtype=float32),\n",
              " DeviceArray([ 0.8400762 , -0.9023175 ,  0.39534283,  0.4752438 ,\n",
              "               0.06486011,  0.45205784], dtype=float32))"
            ]
          },
          "metadata": {},
          "execution_count": 14
        }
      ],
      "metadata": {}
    },
    {
      "cell_type": "markdown",
      "source": [
        "## Transformations"
      ],
      "metadata": {}
    },
    {
      "cell_type": "code",
      "execution_count": 15,
      "source": [
        "@jit\n",
        "def skew(vec):\n",
        "  return np.array([\n",
        "    [0, -vec[2], vec[1]],\n",
        "    [vec[2], 0, -vec[0]],\n",
        "    [-vec[1], vec[0], 0]\n",
        "  ])"
      ],
      "outputs": [],
      "metadata": {
        "id": "Pdx2qOUuktpJ"
      }
    },
    {
      "cell_type": "code",
      "execution_count": 16,
      "source": [
        "@jit\n",
        "def unskew(mat):\n",
        "    return np.array([\n",
        "        mat[2,1],\n",
        "        mat[0,2],\n",
        "        mat[1,0]\n",
        "    ])"
      ],
      "outputs": [],
      "metadata": {}
    },
    {
      "cell_type": "code",
      "execution_count": 22,
      "source": [
        "@jit\n",
        "def body_to_ned(phi, theta, psi, nu):\n",
        "    T_euler = np.array([\n",
        "        [1, np.sin(phi)*np.tan(theta), np.cos(phi)*np.tan(theta)],\n",
        "        [0, np.cos(phi), -np.sin(phi)],\n",
        "        [0, np.sin(phi)/np.cos(theta), np.cos(phi)/np.cos(theta)],\n",
        "    ])\n",
        "    R_euler = np.array([\n",
        "        [\n",
        "            np.cos(psi)*np.cos(theta),\n",
        "            -np.sin(psi)*np.cos(phi)+np.cos(psi)*np.sin(theta)*np.sin(phi),\n",
        "            np.sin(psi)*np.sin(phi)+np.cos(psi)*np.cos(phi)*np.sin(theta)\n",
        "        ],\n",
        "        [\n",
        "            np.sin(psi)*np.cos(theta),\n",
        "            np.cos(psi)*np.cos(phi)+np.sin(phi)*np.sin(theta)*np.sin(psi),\n",
        "            -np.cos(psi)*np.sin(phi)+np.sin(theta)*np.sin(psi)*np.cos(phi),\n",
        "        ],\n",
        "        [\n",
        "            -np.sin(theta),\n",
        "            np.cos(theta)*np.sin(phi),\n",
        "            np.cos(theta)*np.cos(phi),\n",
        "        ],\n",
        "    ])\n",
        "    J_eta = np.block([\n",
        "        [R_euler, np.zeros((3,3))],\n",
        "        [np.zeros((3,3)), T_euler]\n",
        "    ])\n",
        "    return J_eta.dot(vec)"
      ],
      "outputs": [],
      "metadata": {}
    },
    {
      "cell_type": "code",
      "execution_count": 23,
      "source": [
        "body_to_ned(*state[3:6], state[3:6])"
      ],
      "outputs": [
        {
          "output_type": "error",
          "ename": "TypeError",
          "evalue": "Incompatible shapes for dot: got (6, 6) and (3,).",
          "traceback": [
            "\u001b[0;31m---------------------------------------------------------------------------\u001b[0m",
            "\u001b[0;31mTypeError\u001b[0m                                 Traceback (most recent call last)",
            "\u001b[0;32m<ipython-input-23-5771660066e6>\u001b[0m in \u001b[0;36m<module>\u001b[0;34m\u001b[0m\n\u001b[0;32m----> 1\u001b[0;31m \u001b[0mbody_to_ned\u001b[0m\u001b[0;34m(\u001b[0m\u001b[0;34m*\u001b[0m\u001b[0mstate\u001b[0m\u001b[0;34m[\u001b[0m\u001b[0;36m3\u001b[0m\u001b[0;34m:\u001b[0m\u001b[0;36m6\u001b[0m\u001b[0;34m]\u001b[0m\u001b[0;34m,\u001b[0m \u001b[0mstate\u001b[0m\u001b[0;34m[\u001b[0m\u001b[0;36m3\u001b[0m\u001b[0;34m:\u001b[0m\u001b[0;36m6\u001b[0m\u001b[0;34m]\u001b[0m\u001b[0;34m)\u001b[0m\u001b[0;34m\u001b[0m\u001b[0;34m\u001b[0m\u001b[0m\n\u001b[0m",
            "    \u001b[0;31m[... skipping hidden 12 frame]\u001b[0m\n",
            "\u001b[0;32m<ipython-input-22-f4196e7d69d8>\u001b[0m in \u001b[0;36mbody_to_ned\u001b[0;34m(phi, theta, psi, vec)\u001b[0m\n\u001b[1;32m     27\u001b[0m         \u001b[0;34m[\u001b[0m\u001b[0mnp\u001b[0m\u001b[0;34m.\u001b[0m\u001b[0mzeros\u001b[0m\u001b[0;34m(\u001b[0m\u001b[0;34m(\u001b[0m\u001b[0;36m3\u001b[0m\u001b[0;34m,\u001b[0m\u001b[0;36m3\u001b[0m\u001b[0;34m)\u001b[0m\u001b[0;34m)\u001b[0m\u001b[0;34m,\u001b[0m \u001b[0mT_euler\u001b[0m\u001b[0;34m]\u001b[0m\u001b[0;34m\u001b[0m\u001b[0;34m\u001b[0m\u001b[0m\n\u001b[1;32m     28\u001b[0m     ])\n\u001b[0;32m---> 29\u001b[0;31m     \u001b[0;32mreturn\u001b[0m \u001b[0mJ_eta\u001b[0m\u001b[0;34m.\u001b[0m\u001b[0mdot\u001b[0m\u001b[0;34m(\u001b[0m\u001b[0mvec\u001b[0m\u001b[0;34m)\u001b[0m\u001b[0;34m\u001b[0m\u001b[0;34m\u001b[0m\u001b[0m\n\u001b[0m",
            "\u001b[0;32m~/.local/lib/python3.8/site-packages/jax/_src/numpy/lax_numpy.py\u001b[0m in \u001b[0;36mdot\u001b[0;34m(a, b, precision)\u001b[0m\n\u001b[1;32m   4152\u001b[0m     \u001b[0;32mreturn\u001b[0m \u001b[0mlax\u001b[0m\u001b[0;34m.\u001b[0m\u001b[0mmul\u001b[0m\u001b[0;34m(\u001b[0m\u001b[0ma\u001b[0m\u001b[0;34m,\u001b[0m \u001b[0mb\u001b[0m\u001b[0;34m)\u001b[0m\u001b[0;34m\u001b[0m\u001b[0;34m\u001b[0m\u001b[0m\n\u001b[1;32m   4153\u001b[0m   \u001b[0;32mif\u001b[0m \u001b[0m_max\u001b[0m\u001b[0;34m(\u001b[0m\u001b[0ma_ndim\u001b[0m\u001b[0;34m,\u001b[0m \u001b[0mb_ndim\u001b[0m\u001b[0;34m)\u001b[0m \u001b[0;34m<=\u001b[0m \u001b[0;36m2\u001b[0m\u001b[0;34m:\u001b[0m\u001b[0;34m\u001b[0m\u001b[0;34m\u001b[0m\u001b[0m\n\u001b[0;32m-> 4154\u001b[0;31m     \u001b[0;32mreturn\u001b[0m \u001b[0mlax\u001b[0m\u001b[0;34m.\u001b[0m\u001b[0mdot\u001b[0m\u001b[0;34m(\u001b[0m\u001b[0ma\u001b[0m\u001b[0;34m,\u001b[0m \u001b[0mb\u001b[0m\u001b[0;34m,\u001b[0m \u001b[0mprecision\u001b[0m\u001b[0;34m=\u001b[0m\u001b[0mprecision\u001b[0m\u001b[0;34m)\u001b[0m\u001b[0;34m\u001b[0m\u001b[0;34m\u001b[0m\u001b[0m\n\u001b[0m\u001b[1;32m   4155\u001b[0m \u001b[0;34m\u001b[0m\u001b[0m\n\u001b[1;32m   4156\u001b[0m   \u001b[0;32mif\u001b[0m \u001b[0mb_ndim\u001b[0m \u001b[0;34m==\u001b[0m \u001b[0;36m1\u001b[0m\u001b[0;34m:\u001b[0m\u001b[0;34m\u001b[0m\u001b[0;34m\u001b[0m\u001b[0m\n",
            "\u001b[0;32m~/.local/lib/python3.8/site-packages/jax/_src/lax/lax.py\u001b[0m in \u001b[0;36mdot\u001b[0;34m(lhs, rhs, precision, preferred_element_type)\u001b[0m\n\u001b[1;32m    661\u001b[0m                        precision=precision, preferred_element_type=preferred_element_type)\n\u001b[1;32m    662\u001b[0m   \u001b[0;32melse\u001b[0m\u001b[0;34m:\u001b[0m\u001b[0;34m\u001b[0m\u001b[0;34m\u001b[0m\u001b[0m\n\u001b[0;32m--> 663\u001b[0;31m     raise TypeError(\"Incompatible shapes for dot: got {} and {}.\".format(\n\u001b[0m\u001b[1;32m    664\u001b[0m         lhs.shape, rhs.shape))\n\u001b[1;32m    665\u001b[0m \u001b[0;34m\u001b[0m\u001b[0m\n",
            "\u001b[0;31mTypeError\u001b[0m: Incompatible shapes for dot: got (6, 6) and (3,)."
          ]
        }
      ],
      "metadata": {}
    },
    {
      "cell_type": "code",
      "execution_count": 8,
      "source": [
        "@jit\n",
        "def state_to_d_dq(state):\n",
        "\n",
        "    # extract state\n",
        "    x, y, z, phi, theta, psi, u, v, w, p, q, r = state\n",
        "\n",
        "    # rates\n",
        "    nu = np.array([u, v, w, p, q, r])\n",
        "\n",
        "    # rotational transform between body and NED in Euler        \n",
        "    T_euler = np.array([\n",
        "        [1, np.sin(phi)*np.tan(theta), np.cos(phi)*np.tan(theta)],\n",
        "        [0, np.cos(phi), -np.sin(phi)],\n",
        "        [0, np.sin(phi)/np.cos(theta), np.cos(phi)/np.cos(theta)],\n",
        "    ])\n",
        "    R_euler = np.array([\n",
        "        [\n",
        "            np.cos(psi)*np.cos(theta),\n",
        "            -np.sin(psi)*np.cos(phi)+np.cos(psi)*np.sin(theta)*np.sin(phi),\n",
        "            np.sin(psi)*np.sin(phi)+np.cos(psi)*np.cos(phi)*np.sin(theta)\n",
        "        ],\n",
        "        [\n",
        "            np.sin(psi)*np.cos(theta),\n",
        "            np.cos(psi)*np.cos(phi)+np.sin(phi)*np.sin(theta)*np.sin(psi),\n",
        "            -np.cos(psi)*np.sin(phi)+np.sin(theta)*np.sin(psi)*np.cos(phi),\n",
        "        ],\n",
        "        [\n",
        "            -np.sin(theta),\n",
        "            np.cos(theta)*np.sin(phi),\n",
        "            np.cos(theta)*np.cos(phi),\n",
        "        ],\n",
        "    ])\n",
        "    assert R_euler.shape == (3,3), R_euler\n",
        "    J_eta = np.block([\n",
        "        [R_euler, np.zeros((3,3))],\n",
        "        [np.zeros((3,3)), T_euler]\n",
        "    ])\n",
        "    assert J_eta.shape == (6,6), J_eta\n",
        "    etadot = np.block([J_eta.dot(nu)])\n",
        "\n",
        "    # cannonical\n",
        "    q = eta\n",
        "    dq = etadot\n",
        "    return q, dq"
      ],
      "outputs": [],
      "metadata": {}
    },
    {
      "cell_type": "code",
      "execution_count": null,
      "source": [],
      "outputs": [],
      "metadata": {}
    },
    {
      "cell_type": "markdown",
      "source": [
        "We will assume that we know the analytical mapping between $q$ and $\\dot q$."
      ],
      "metadata": {}
    },
    {
      "cell_type": "markdown",
      "source": [
        "## Analytical"
      ],
      "metadata": {}
    },
    {
      "cell_type": "code",
      "execution_count": 20,
      "source": [
        "@jit\n",
        "def f_analytical(state, control):\n",
        "\n",
        "  # state and control\n",
        "  x, y, z, phi, theta, psi, u, v, w, p, q, r = state\n",
        "  rpm1, rpm2, de, dr, lcg, vbs = control\n",
        "\n",
        "  # position and velocity\n",
        "  eta = np.array([x, y, z, phi, theta, psi])\n",
        "  nu = np.array([u, v, w, p, q, r])\n",
        "\n",
        "  # scaled controls\n",
        "  rpm1 *= 1000.0\n",
        "  rpm2 *= 1000.0\n",
        "  de *= 0.05\n",
        "  dr *= 0.05\n",
        "  # vbs *= 1.0\n",
        "  # lcg *= 1.0\n",
        "\n",
        "  # mass and inertia matrix\n",
        "  m = 14.0\n",
        "  I_o = np.diag(np.array([0.0294, 1.6202, 1.6202]))\n",
        "\n",
        "  # centre of gravity, buoyancy, and pressure positions, resp.\n",
        "  r_g = np.array([0.1 + lcg*0.01, 0.0, 0.0])\n",
        "  r_b = np.array([0.1, 0.0, 0.0])\n",
        "  r_cp = np.array([0.1, 0.0, 0.0])\n",
        "\n",
        "  # <insert title>\n",
        "  W = m*9.81\n",
        "  B = W + vbs*1.5\n",
        "\n",
        "  # hydrodynamic coefficients\n",
        "  Xuu = 5. #3. #1.0\n",
        "  Yvv = 20. #10. #100.0\n",
        "  Zww = 50. #100.0\n",
        "  Kpp = 0.1 #10.0\n",
        "  Mqq = 20.#40 #100.0\n",
        "  Nrr = 20. #150.0\n",
        "\n",
        "  # control actuators\n",
        "  K_T = np.array([0.0175, 0.0175])\n",
        "  Q_T = np.array([0.001, -0.001])#*0.0\n",
        "\n",
        "  # mass and inertia matrix\n",
        "  M = np.block([\n",
        "    [m*np.eye(3,3), -m*skew(r_g)],\n",
        "    [m*skew(r_g), I_o]\n",
        "  ])\n",
        "  assert M.shape == (6,6), M\n",
        "\n",
        "  # coriolis and centripetal matrix\n",
        "  nu1 = np.array([u, v, w])\n",
        "  nu2 = np.array([p, q, r])\n",
        "  top_right = -m*skew(nu1) - m*skew(nu2)*skew(r_g)\n",
        "  bottom_left = -m*skew(nu1) + m*skew(r_g)*skew(nu2)\n",
        "  bottom_right = -skew(I_o.dot(nu2))\n",
        "  C_RB = np.block([\n",
        "    [np.zeros((3,3)), top_right],\n",
        "    [bottom_left, bottom_right]\n",
        "  ])\n",
        "  assert C_RB.shape == (6, 6), C_RB\n",
        "\n",
        "  # damping matrix\n",
        "  forces = np.diag(np.array([Xuu*np.abs(u), Yvv*np.abs(v), Zww*np.abs(w)]))\n",
        "  moments = np.diag(np.array([Kpp*np.abs(p), Mqq*np.abs(q), Nrr*np.abs(r)]))\n",
        "  coupling = np.matmul(skew(r_cp), forces)\n",
        "  D = np.block([[forces, np.zeros((3, 3))], [-coupling, moments]])\n",
        "  assert D.shape == (6, 6), D\n",
        "\n",
        "  # rotational transform between body and NED in Euler        \n",
        "  T_euler = np.array([\n",
        "    [1, np.sin(phi)*np.tan(theta), np.cos(phi)*np.tan(theta)],\n",
        "    [0, np.cos(phi), -np.sin(phi)],\n",
        "    [0, np.sin(phi)/np.cos(theta), np.cos(phi)/np.cos(theta)],\n",
        "  ])\n",
        "  R_euler = np.array([\n",
        "    [\n",
        "      np.cos(psi)*np.cos(theta),\n",
        "      -np.sin(psi)*np.cos(phi)+np.cos(psi)*np.sin(theta)*np.sin(phi),\n",
        "      np.sin(psi)*np.sin(phi)+np.cos(psi)*np.cos(phi)*np.sin(theta)\n",
        "    ],\n",
        "    [\n",
        "      np.sin(psi)*np.cos(theta),\n",
        "      np.cos(psi)*np.cos(phi)+np.sin(phi)*np.sin(theta)*np.sin(psi),\n",
        "      -np.cos(psi)*np.sin(phi)+np.sin(theta)*np.sin(psi)*np.cos(phi),\n",
        "    ],\n",
        "    [\n",
        "      -np.sin(theta),\n",
        "      np.cos(theta)*np.sin(phi),\n",
        "      np.cos(theta)*np.cos(phi),\n",
        "    ],\n",
        "  ])\n",
        "  assert R_euler.shape == (3,3), R_euler\n",
        "  J_eta = np.block([\n",
        "    [R_euler, np.zeros((3,3))],\n",
        "    [np.zeros((3,3)), T_euler]\n",
        "  ])\n",
        "  assert J_eta.shape == (6,6), J_eta\n",
        "\n",
        "  # buoyancy in quaternions\n",
        "  f_g = np.array([0, 0, W])\n",
        "  f_b = np.array([0, 0, -B])\n",
        "  row1 = np.linalg.inv(R_euler).dot(f_g + f_b)\n",
        "  row2 = skew(r_g).dot(np.linalg.inv(R_euler)).dot(f_g) + \\\n",
        "    skew(r_b).dot(np.linalg.inv(R_euler)).dot(f_b)\n",
        "  geta = np.block([row1, row2])\n",
        "  assert geta.shape == (6,), geta\n",
        "\n",
        "  # <insert title>\n",
        "  F_T = K_T.dot(np.array([rpm1, rpm2]))\n",
        "  M_T = Q_T.dot(np.array([rpm1, rpm2]))\n",
        "  tauc = np.array([\n",
        "    F_T*np.cos(de)*np.cos(dr),\n",
        "    -F_T*np.sin(dr),\n",
        "    F_T*np.sin(de)*np.cos(dr),\n",
        "    M_T*np.cos(de)*np.cos(dr),\n",
        "    -M_T*np.sin(dr),\n",
        "    M_T*np.sin(de)*np.cos(dr)\n",
        "  ])\n",
        "  assert tauc.shape == (6,), tauc\n",
        "\n",
        "  # velocity and acceleration \n",
        "  etadot = np.block([J_eta.dot(nu)])\n",
        "  assert etadot.shape == (6,)\n",
        "  nudot = np.linalg.inv(M).dot(tauc - (C_RB + D).dot(nu - geta))\n",
        "  assert nudot.shape == (6,)\n",
        "\n",
        "  # state-space\n",
        "  sdot = np.block([etadot, nudot])\n",
        "  return sdot"
      ],
      "outputs": [],
      "metadata": {
        "id": "UEqKTbPanK_u"
      }
    },
    {
      "cell_type": "markdown",
      "source": [
        "## Naïve"
      ],
      "metadata": {}
    },
    {
      "cell_type": "code",
      "execution_count": 161,
      "source": [
        "def F_naive(state, control):\n",
        "    q, dq = state_to_d_dq(state)\n",
        "    net = hk.Sequential([\n",
        "        hk.Linear(500),\n",
        "        hk.LayerNorm(axis=-1, create_scale=True, create_offset=True),\n",
        "        softplus,\n",
        "        hk.Linear(500),\n",
        "        hk.LayerNorm(axis=-1, create_scale=True, create_offset=True),\n",
        "        softplus,\n",
        "        hk.Linear(500),\n",
        "        hk.LayerNorm(axis=-1, create_scale=True, create_offset=True),\n",
        "        softplus,\n",
        "        hk.Linear(6)\n",
        "    ])\n",
        "    # net = hk.nets.MLP([500, 500, 500, 6], activation=softplus)\n",
        "    ddq = net(np.hstack((q, dq, control)))\n",
        "    return np.hstack((dq, ddq))"
      ],
      "outputs": [],
      "metadata": {}
    },
    {
      "cell_type": "code",
      "execution_count": 71,
      "source": [
        "def F_naive(state, control):\n",
        "  # hk.LayerNorm(axis=-1, create_scale=True, create_offset=True),\n",
        "  # state = (state - mean)/scale\n",
        "  # state = np.hstack((np.zeros(3), state[3:]))\n",
        "\n",
        "  # canonical states\n",
        "  q, dq = state_to_d_dq(state)\n",
        "\n",
        "  # 0- and 1-derivative\n",
        "  x, y, z, phi, theta, psi = q\n",
        "  dx, dy, dz, dphi, dtheta, dpsi = dq\n",
        "\n",
        "  # Euler angles to rotation matrix\n",
        "  Ax = np.array([\n",
        "    [1, 0, 0],\n",
        "    [0, np.cos(phi), -np.sin(phi)],\n",
        "    [0, np.sin(phi), np.cos(phi)]\n",
        "  ])\n",
        "  Ay = np.array([\n",
        "    [np.cos(theta), 0, np.sin(theta)],\n",
        "    [0, 1, 0],\n",
        "    [-np.sin(theta), 0, np.cos(theta)]\n",
        "  ])\n",
        "  Az = np.array([\n",
        "    [np.cos(psi), -np.sin(psi), 0],\n",
        "    [np.sin(psi), np.cos(psi), 0],\n",
        "    [0, 0, 1]\n",
        "  ])\n",
        "  A = Az@Ay@Ax\n",
        "\n",
        "  # angular velocity -> rotation matrix rate\n",
        "  dA = skew([dphi, dtheta, dpsi])@A\n",
        "\n",
        "  # continuous cannonical states\n",
        "  qc = np.hstack(([x, y, z], A.flatten()))\n",
        "  dqc = np.hstack(([dx, dy, dz], dA.flatten()))\n",
        "\n",
        "  # estimate acceleration\n",
        "  net = hk.Sequential([\n",
        "    hk.Linear(500),\n",
        "    hk.LayerNorm(axis=-1, create_scale=True, create_offset=True),\n",
        "    softplus,\n",
        "    hk.Linear(500),\n",
        "    hk.LayerNorm(axis=-1, create_scale=True, create_offset=True),\n",
        "    softplus,\n",
        "    hk.Linear(500),\n",
        "    hk.LayerNorm(axis=-1, create_scale=True, create_offset=True),\n",
        "    softplus,\n",
        "    hk.Linear(dim_state)\n",
        "  ])\n",
        "  # net = hk.nets.MLP([500, 500, 500, dim_control], activation=softplus)\n",
        "  ddqc = net(np.hstack((qc, dqc, control)))\n",
        "\n",
        "  # translational acceleration\n",
        "  ddx, ddy, ddz = ddqc[0], ddqc[1], ddqc[2]\n",
        "\n",
        "  # rotation matrix acceleration\n",
        "  ddA = ddqc[3:].reshape((3,3))\n",
        "\n",
        "  # angular acceleration\n",
        "  ddphi, ddtheta, ddpsi = unskew(ddA@A.transpose())\n",
        "\n",
        "  # cannonical acceleration\n",
        "  ddq = np.hstack((\n",
        "    [ddx, ddy, ddz],\n",
        "    [ddphi, ddtheta, ddpsi]\n",
        "  ))\n",
        "\n",
        "  # state rate\n",
        "  dstate = np.hstack((dq, ddq))\n",
        "  return dstate"
      ],
      "outputs": [],
      "metadata": {}
    },
    {
      "cell_type": "markdown",
      "source": [
        "## Physics-informed"
      ],
      "metadata": {}
    },
    {
      "cell_type": "code",
      "execution_count": 72,
      "source": [
        "def Lagrangian(q, dq):\n",
        "  net = hk.nets.MLP([500, 500, 500, 1], activation=softplus)\n",
        "  return net(np.hstack((q, dq)))[0]"
      ],
      "outputs": [],
      "metadata": {}
    },
    {
      "cell_type": "code",
      "execution_count": 73,
      "source": [
        "def F_conservative(state):\n",
        "  q, dq = np.split(state, 2)\n",
        "  ddq = jacobian(jacobian(Lagrangian, 1), 0)(q, dq)\n",
        "  ddq = ddq @ dq\n",
        "  ddq = grad(Lagrangian, 0)(q, dq) - ddq\n",
        "  ddq = np.linalg.pinv(hessian(Lagrangian, 1)(q, dq)) @ ddq\n",
        "  return np.hstack((dq, ddq))"
      ],
      "outputs": [],
      "metadata": {}
    },
    {
      "cell_type": "code",
      "execution_count": 74,
      "source": [
        "def F_non_conservative(state, control):\n",
        "  net = hk.nets.MLP([500, 500, 500, dim_state], activation=softplus)\n",
        "  return net(np.hstack((state, control)))"
      ],
      "outputs": [],
      "metadata": {}
    },
    {
      "cell_type": "code",
      "execution_count": 75,
      "source": [
        "def F_decomposition(state, control):\n",
        "    state = (state - mean)/scale\n",
        "    dxdt_c = F_conservative(state)\n",
        "    dxdt_nc = F_non_conservative(state, control)\n",
        "    return dxdt_c + dxdt_nc"
      ],
      "outputs": [],
      "metadata": {}
    },
    {
      "cell_type": "markdown",
      "source": [
        "## Random control policy"
      ],
      "metadata": {}
    },
    {
      "cell_type": "code",
      "execution_count": 76,
      "source": [
        "def Policy(state):\n",
        "    state = (state - mean)/scale\n",
        "    net = hk.nets.MLP([500, 500, 500, dim_control], activation=softplus)\n",
        "    return net(np.hstack((state, control)))"
      ],
      "outputs": [],
      "metadata": {}
    },
    {
      "cell_type": "markdown",
      "source": [
        "# Integration"
      ],
      "metadata": {}
    },
    {
      "cell_type": "code",
      "execution_count": 77,
      "source": [
        "@partial(jit, static_argnums=(1,2,3))\n",
        "def trajectory(x, f, T, h):\n",
        "    return odeint(f, x, np.arange(0.0, T, h))"
      ],
      "outputs": [],
      "metadata": {}
    },
    {
      "cell_type": "code",
      "execution_count": 78,
      "source": [
        "trajectories = jit(\n",
        "    vmap(trajectory, in_axes=(0,None,None,None)),\n",
        "    static_argnums=(1,2,3)\n",
        ")"
      ],
      "outputs": [],
      "metadata": {}
    },
    {
      "cell_type": "markdown",
      "source": [
        "# Visualisation"
      ],
      "metadata": {}
    },
    {
      "cell_type": "code",
      "execution_count": 79,
      "source": [
        "def plot(trajs_list, markers, labels):\n",
        "\n",
        "    # setup\n",
        "    fig = plt.figure()\n",
        "    ax = fig.add_subplot(111, projection='3d')\n",
        "\n",
        "    # plot\n",
        "    for trajs, marker, label in zip(trajs_list, markers, labels):\n",
        "        for i, traj in enumerate(trajs):\n",
        "            label = None if i else label\n",
        "            ax.plot(\n",
        "                traj[:,0],\n",
        "                traj[:,1],\n",
        "                traj[:,2],\n",
        "                marker,\n",
        "                label=label\n",
        "            )\n",
        "\n",
        "    # format\n",
        "    plt.legend()\n",
        "    plt.show()"
      ],
      "outputs": [],
      "metadata": {}
    },
    {
      "cell_type": "code",
      "execution_count": 80,
      "source": [
        "states = uniform(\n",
        "    next(key),\n",
        "    shape=(10, dim_state),\n",
        "    minval=bounds_state[0],\n",
        "    maxval=bounds_state[1]\n",
        ")\n",
        "\n",
        "f_naive = hk.without_apply_rng(hk.transform(F_naive))\n",
        "params_naive = f_naive.init(next(key), state, control)\n",
        "\n",
        "policy = hk.without_apply_rng(hk.transform(Policy))\n",
        "params_policy = policy.init(next(key), state)"
      ],
      "outputs": [],
      "metadata": {}
    },
    {
      "cell_type": "code",
      "execution_count": 115,
      "source": [
        "trajs_list = [\n",
        "    trajectories(\n",
        "        states,\n",
        "        lambda x, t: f_analytical(x, policy.apply(params_policy, x)),\n",
        "        5.0,\n",
        "        0.01\n",
        "    ),\n",
        "    trajectories(\n",
        "        states,\n",
        "        lambda x, t: f_naive.apply(params_naive, x, policy.apply(params_policy, x)),\n",
        "        5.0,\n",
        "        0.01\n",
        "    )\n",
        "]"
      ],
      "outputs": [],
      "metadata": {}
    },
    {
      "cell_type": "code",
      "execution_count": 116,
      "source": [
        "plot(trajs_list, ['k-', 'k--'], ['Analytical', 'Naive'])"
      ],
      "outputs": [
        {
          "output_type": "display_data",
          "data": {
            "text/plain": [
              "<Figure size 432x288 with 1 Axes>"
            ],
            "image/svg+xml": "<?xml version=\"1.0\" encoding=\"utf-8\" standalone=\"no\"?>\n<!DOCTYPE svg PUBLIC \"-//W3C//DTD SVG 1.1//EN\"\n  \"http://www.w3.org/Graphics/SVG/1.1/DTD/svg11.dtd\">\n<!-- Created with matplotlib (https://matplotlib.org/) -->\n<svg height=\"240.990829pt\" version=\"1.1\" viewBox=\"0 0 249.085626 240.990829\" width=\"249.085626pt\" xmlns=\"http://www.w3.org/2000/svg\" xmlns:xlink=\"http://www.w3.org/1999/xlink\">\n <metadata>\n  <rdf:RDF xmlns:cc=\"http://creativecommons.org/ns#\" xmlns:dc=\"http://purl.org/dc/elements/1.1/\" xmlns:rdf=\"http://www.w3.org/1999/02/22-rdf-syntax-ns#\">\n   <cc:Work>\n    <dc:type rdf:resource=\"http://purl.org/dc/dcmitype/StillImage\"/>\n    <dc:date>2021-08-13T23:29:17.727516</dc:date>\n    <dc:format>image/svg+xml</dc:format>\n    <dc:creator>\n     <cc:Agent>\n      <dc:title>Matplotlib v3.3.3, https://matplotlib.org/</dc:title>\n     </cc:Agent>\n    </dc:creator>\n   </cc:Work>\n  </rdf:RDF>\n </metadata>\n <defs>\n  <style type=\"text/css\">*{stroke-linecap:butt;stroke-linejoin:round;}</style>\n </defs>\n <g id=\"figure_1\">\n  <g id=\"patch_1\">\n   <path d=\"M 0 240.990829 \nL 249.085626 240.990829 \nL 249.085626 0 \nL 0 0 \nz\n\" style=\"fill:none;\"/>\n  </g>\n  <g id=\"patch_2\">\n   <path d=\"M 7.2 224.64 \nL 224.64 224.64 \nL 224.64 7.2 \nL 7.2 7.2 \nz\n\" style=\"fill:#ffffff;\"/>\n  </g>\n  <g id=\"pane3d_1\">\n   <g id=\"patch_3\">\n    <path d=\"M 23.61822 171.026264 \nL 95.424009 110.837228 \nL 94.42584 24.033878 \nL 19.183773 78.942111 \n\" style=\"fill:#f2f2f2;opacity:0.5;stroke:#f2f2f2;stroke-linejoin:miter;\"/>\n   </g>\n  </g>\n  <g id=\"pane3d_2\">\n   <g id=\"patch_4\">\n    <path d=\"M 95.424009 110.837228 \nL 210.64668 144.32791 \nL 214.758571 54.534718 \nL 94.42584 24.033878 \n\" style=\"fill:#e6e6e6;opacity:0.5;stroke:#e6e6e6;stroke-linejoin:miter;\"/>\n   </g>\n  </g>\n  <g id=\"pane3d_3\">\n   <g id=\"patch_5\">\n    <path d=\"M 23.61822 171.026264 \nL 145.759879 210.91773 \nL 210.64668 144.32791 \nL 95.424009 110.837228 \n\" style=\"fill:#ececec;opacity:0.5;stroke:#ececec;stroke-linejoin:miter;\"/>\n   </g>\n  </g>\n  <g id=\"axis3d_1\">\n   <g id=\"line2d_1\">\n    <path d=\"M 23.61822 171.026264 \nL 145.759879 210.91773 \n\" style=\"fill:none;stroke:#000000;stroke-linecap:square;stroke-width:0.8;\"/>\n   </g>\n   <g id=\"Line3DCollection_1\">\n    <path d=\"M 45.818082 178.276739 \nL 116.442072 116.946349 \nL 116.338182 29.588018 \n\" style=\"fill:none;stroke:#b0b0b0;stroke-width:0.8;\"/>\n    <path d=\"M 74.881314 187.768791 \nL 143.907132 124.929358 \nL 144.997259 36.852259 \n\" style=\"fill:none;stroke:#b0b0b0;stroke-width:0.8;\"/>\n    <path d=\"M 104.695832 197.506213 \nL 172.022246 133.101311 \nL 174.364536 44.296007 \n\" style=\"fill:none;stroke:#b0b0b0;stroke-width:0.8;\"/>\n    <path d=\"M 135.291151 207.498643 \nL 200.810768 141.468998 \nL 204.466591 51.926001 \n\" style=\"fill:none;stroke:#b0b0b0;stroke-width:0.8;\"/>\n   </g>\n   <g id=\"xtick_1\">\n    <g id=\"line2d_2\">\n     <path d=\"M 46.433398 177.742394 \nL 44.584791 179.347738 \n\" style=\"fill:none;stroke:#000000;stroke-linecap:square;stroke-width:0.8;\"/>\n    </g>\n    <g id=\"text_1\">\n     <!-- −10 -->\n     <g transform=\"translate(27.74874 201.724456)scale(0.1 -0.1)\">\n      <defs>\n       <path d=\"M 10.59375 35.5 \nL 73.1875 35.5 \nL 73.1875 27.203125 \nL 10.59375 27.203125 \nz\n\" id=\"DejaVuSans-8722\"/>\n       <path d=\"M 12.40625 8.296875 \nL 28.515625 8.296875 \nL 28.515625 63.921875 \nL 10.984375 60.40625 \nL 10.984375 69.390625 \nL 28.421875 72.90625 \nL 38.28125 72.90625 \nL 38.28125 8.296875 \nL 54.390625 8.296875 \nL 54.390625 0 \nL 12.40625 0 \nz\n\" id=\"DejaVuSans-49\"/>\n       <path d=\"M 31.78125 66.40625 \nQ 24.171875 66.40625 20.328125 58.90625 \nQ 16.5 51.421875 16.5 36.375 \nQ 16.5 21.390625 20.328125 13.890625 \nQ 24.171875 6.390625 31.78125 6.390625 \nQ 39.453125 6.390625 43.28125 13.890625 \nQ 47.125 21.390625 47.125 36.375 \nQ 47.125 51.421875 43.28125 58.90625 \nQ 39.453125 66.40625 31.78125 66.40625 \nz\nM 31.78125 74.21875 \nQ 44.046875 74.21875 50.515625 64.515625 \nQ 56.984375 54.828125 56.984375 36.375 \nQ 56.984375 17.96875 50.515625 8.265625 \nQ 44.046875 -1.421875 31.78125 -1.421875 \nQ 19.53125 -1.421875 13.0625 8.265625 \nQ 6.59375 17.96875 6.59375 36.375 \nQ 6.59375 54.828125 13.0625 64.515625 \nQ 19.53125 74.21875 31.78125 74.21875 \nz\n\" id=\"DejaVuSans-48\"/>\n      </defs>\n      <use xlink:href=\"#DejaVuSans-8722\"/>\n      <use x=\"83.789062\" xlink:href=\"#DejaVuSans-49\"/>\n      <use x=\"147.412109\" xlink:href=\"#DejaVuSans-48\"/>\n     </g>\n    </g>\n   </g>\n   <g id=\"xtick_2\">\n    <g id=\"line2d_3\">\n     <path d=\"M 75.483333 187.220727 \nL 73.674641 188.867316 \n\" style=\"fill:none;stroke:#000000;stroke-linecap:square;stroke-width:0.8;\"/>\n    </g>\n    <g id=\"text_2\">\n     <!-- 0 -->\n     <g transform=\"translate(64.221609 211.463745)scale(0.1 -0.1)\">\n      <use xlink:href=\"#DejaVuSans-48\"/>\n     </g>\n    </g>\n   </g>\n   <g id=\"xtick_3\">\n    <g id=\"line2d_4\">\n     <path d=\"M 105.283658 196.943895 \nL 103.517577 198.63334 \n\" style=\"fill:none;stroke:#000000;stroke-linecap:square;stroke-width:0.8;\"/>\n    </g>\n    <g id=\"text_3\">\n     <!-- 10 -->\n     <g transform=\"translate(90.897954 221.455979)scale(0.1 -0.1)\">\n      <use xlink:href=\"#DejaVuSans-49\"/>\n      <use x=\"63.623047\" xlink:href=\"#DejaVuSans-48\"/>\n     </g>\n    </g>\n   </g>\n   <g id=\"xtick_4\">\n    <g id=\"line2d_5\">\n     <path d=\"M 135.863828 206.921509 \nL 134.143226 208.655504 \n\" style=\"fill:none;stroke:#000000;stroke-linecap:square;stroke-width:0.8;\"/>\n    </g>\n    <g id=\"text_4\">\n     <!-- 20 -->\n     <g transform=\"translate(121.541202 231.711142)scale(0.1 -0.1)\">\n      <defs>\n       <path d=\"M 19.1875 8.296875 \nL 53.609375 8.296875 \nL 53.609375 0 \nL 7.328125 0 \nL 7.328125 8.296875 \nQ 12.9375 14.109375 22.625 23.890625 \nQ 32.328125 33.6875 34.8125 36.53125 \nQ 39.546875 41.84375 41.421875 45.53125 \nQ 43.3125 49.21875 43.3125 52.78125 \nQ 43.3125 58.59375 39.234375 62.25 \nQ 35.15625 65.921875 28.609375 65.921875 \nQ 23.96875 65.921875 18.8125 64.3125 \nQ 13.671875 62.703125 7.8125 59.421875 \nL 7.8125 69.390625 \nQ 13.765625 71.78125 18.9375 73 \nQ 24.125 74.21875 28.421875 74.21875 \nQ 39.75 74.21875 46.484375 68.546875 \nQ 53.21875 62.890625 53.21875 53.421875 \nQ 53.21875 48.921875 51.53125 44.890625 \nQ 49.859375 40.875 45.40625 35.40625 \nQ 44.1875 33.984375 37.640625 27.21875 \nQ 31.109375 20.453125 19.1875 8.296875 \nz\n\" id=\"DejaVuSans-50\"/>\n      </defs>\n      <use xlink:href=\"#DejaVuSans-50\"/>\n      <use x=\"63.623047\" xlink:href=\"#DejaVuSans-48\"/>\n     </g>\n    </g>\n   </g>\n  </g>\n  <g id=\"axis3d_2\">\n   <g id=\"line2d_6\">\n    <path d=\"M 210.64668 144.32791 \nL 145.759879 210.91773 \n\" style=\"fill:none;stroke:#000000;stroke-linecap:square;stroke-width:0.8;\"/>\n   </g>\n   <g id=\"Line3DCollection_2\">\n    <path d=\"M 21.852831 76.994354 \nL 26.15607 168.898988 \nL 148.062977 208.554185 \n\" style=\"fill:none;stroke:#b0b0b0;stroke-width:0.8;\"/>\n    <path d=\"M 34.232524 67.960218 \nL 37.936123 159.024714 \nL 158.743946 197.592883 \n\" style=\"fill:none;stroke:#b0b0b0;stroke-width:0.8;\"/>\n    <path d=\"M 46.268959 59.176576 \nL 49.40365 149.412405 \nL 169.126676 186.937648 \n\" style=\"fill:none;stroke:#b0b0b0;stroke-width:0.8;\"/>\n    <path d=\"M 57.976217 50.633153 \nL 60.570924 140.051775 \nL 179.223486 176.575837 \n\" style=\"fill:none;stroke:#b0b0b0;stroke-width:0.8;\"/>\n    <path d=\"M 69.367619 42.320226 \nL 71.449585 130.933065 \nL 189.046026 166.495494 \n\" style=\"fill:none;stroke:#b0b0b0;stroke-width:0.8;\"/>\n    <path d=\"M 80.455777 34.228593 \nL 82.05068 122.047017 \nL 198.605322 156.685305 \n\" style=\"fill:none;stroke:#b0b0b0;stroke-width:0.8;\"/>\n    <path d=\"M 91.252643 26.349533 \nL 92.384697 113.384839 \nL 207.911817 147.134552 \n\" style=\"fill:none;stroke:#b0b0b0;stroke-width:0.8;\"/>\n   </g>\n   <g id=\"xtick_5\">\n    <g id=\"line2d_7\">\n     <path d=\"M 147.035513 208.21996 \nL 150.120571 209.223501 \n\" style=\"fill:none;stroke:#000000;stroke-linecap:square;stroke-width:0.8;\"/>\n    </g>\n    <g id=\"text_5\">\n     <!-- −15 -->\n     <g transform=\"translate(150.428863 229.618419)scale(0.1 -0.1)\">\n      <defs>\n       <path d=\"M 10.796875 72.90625 \nL 49.515625 72.90625 \nL 49.515625 64.59375 \nL 19.828125 64.59375 \nL 19.828125 46.734375 \nQ 21.96875 47.46875 24.109375 47.828125 \nQ 26.265625 48.1875 28.421875 48.1875 \nQ 40.625 48.1875 47.75 41.5 \nQ 54.890625 34.8125 54.890625 23.390625 \nQ 54.890625 11.625 47.5625 5.09375 \nQ 40.234375 -1.421875 26.90625 -1.421875 \nQ 22.3125 -1.421875 17.546875 -0.640625 \nQ 12.796875 0.140625 7.71875 1.703125 \nL 7.71875 11.625 \nQ 12.109375 9.234375 16.796875 8.0625 \nQ 21.484375 6.890625 26.703125 6.890625 \nQ 35.15625 6.890625 40.078125 11.328125 \nQ 45.015625 15.765625 45.015625 23.390625 \nQ 45.015625 31 40.078125 35.4375 \nQ 35.15625 39.890625 26.703125 39.890625 \nQ 22.75 39.890625 18.8125 39.015625 \nQ 14.890625 38.140625 10.796875 36.28125 \nz\n\" id=\"DejaVuSans-53\"/>\n      </defs>\n      <use xlink:href=\"#DejaVuSans-8722\"/>\n      <use x=\"83.789062\" xlink:href=\"#DejaVuSans-49\"/>\n      <use x=\"147.412109\" xlink:href=\"#DejaVuSans-53\"/>\n     </g>\n    </g>\n   </g>\n   <g id=\"xtick_6\">\n    <g id=\"line2d_8\">\n     <path d=\"M 157.726478 197.268054 \nL 160.781486 198.243372 \n\" style=\"fill:none;stroke:#000000;stroke-linecap:square;stroke-width:0.8;\"/>\n    </g>\n    <g id=\"text_6\">\n     <!-- −10 -->\n     <g transform=\"translate(160.934531 218.458375)scale(0.1 -0.1)\">\n      <use xlink:href=\"#DejaVuSans-8722\"/>\n      <use x=\"83.789062\" xlink:href=\"#DejaVuSans-49\"/>\n      <use x=\"147.412109\" xlink:href=\"#DejaVuSans-48\"/>\n     </g>\n    </g>\n   </g>\n   <g id=\"xtick_7\">\n    <g id=\"line2d_9\">\n     <path d=\"M 168.119049 186.621823 \nL 171.144471 187.570093 \n\" style=\"fill:none;stroke:#000000;stroke-linecap:square;stroke-width:0.8;\"/>\n    </g>\n    <g id=\"text_7\">\n     <!-- −5 -->\n     <g transform=\"translate(174.327895 207.610169)scale(0.1 -0.1)\">\n      <use xlink:href=\"#DejaVuSans-8722\"/>\n      <use x=\"83.789062\" xlink:href=\"#DejaVuSans-53\"/>\n     </g>\n    </g>\n   </g>\n   <g id=\"xtick_8\">\n    <g id=\"line2d_10\">\n     <path d=\"M 178.225549 176.268648 \nL 181.221843 177.190978 \n\" style=\"fill:none;stroke:#000000;stroke-linecap:square;stroke-width:0.8;\"/>\n    </g>\n    <g id=\"text_8\">\n     <!-- 0 -->\n     <g transform=\"translate(188.448433 197.060913)scale(0.1 -0.1)\">\n      <use xlink:href=\"#DejaVuSans-48\"/>\n     </g>\n    </g>\n   </g>\n   <g id=\"xtick_9\">\n    <g id=\"line2d_11\">\n     <path d=\"M 188.057627 166.196591 \nL 191.02525 167.094033 \n\" style=\"fill:none;stroke:#000000;stroke-linecap:square;stroke-width:0.8;\"/>\n    </g>\n    <g id=\"text_9\">\n     <!-- 5 -->\n     <g transform=\"translate(198.109183 186.798416)scale(0.1 -0.1)\">\n      <use xlink:href=\"#DejaVuSans-53\"/>\n     </g>\n    </g>\n   </g>\n   <g id=\"xtick_10\">\n    <g id=\"line2d_12\">\n     <path d=\"M 197.626311 156.394358 \nL 200.565713 157.267904 \n\" style=\"fill:none;stroke:#000000;stroke-linecap:square;stroke-width:0.8;\"/>\n    </g>\n    <g id=\"text_10\">\n     <!-- 10 -->\n     <g transform=\"translate(204.329596 176.811142)scale(0.1 -0.1)\">\n      <use xlink:href=\"#DejaVuSans-49\"/>\n      <use x=\"63.623047\" xlink:href=\"#DejaVuSans-48\"/>\n     </g>\n    </g>\n   </g>\n   <g id=\"xtick_11\">\n    <g id=\"line2d_13\">\n     <path d=\"M 206.942046 146.851247 \nL 209.853672 147.70184 \n\" style=\"fill:none;stroke:#000000;stroke-linecap:square;stroke-width:0.8;\"/>\n    </g>\n    <g id=\"text_11\">\n     <!-- 15 -->\n     <g transform=\"translate(213.482459 167.088167)scale(0.1 -0.1)\">\n      <use xlink:href=\"#DejaVuSans-49\"/>\n      <use x=\"63.623047\" xlink:href=\"#DejaVuSans-53\"/>\n     </g>\n    </g>\n   </g>\n  </g>\n  <g id=\"axis3d_3\">\n   <g id=\"line2d_14\">\n    <path d=\"M 210.64668 144.32791 \nL 214.758571 54.534718 \n\" style=\"fill:none;stroke:#000000;stroke-linecap:square;stroke-width:0.8;\"/>\n   </g>\n   <g id=\"Line3DCollection_3\">\n    <path d=\"M 210.949664 137.711524 \nL 95.350315 104.428629 \nL 23.291979 164.25166 \n\" style=\"fill:none;stroke:#b0b0b0;stroke-width:0.8;\"/>\n    <path d=\"M 211.815836 118.796536 \nL 95.139765 86.118666 \nL 22.358871 144.875073 \n\" style=\"fill:none;stroke:#b0b0b0;stroke-width:0.8;\"/>\n    <path d=\"M 212.698456 99.522357 \nL 94.925409 67.477753 \nL 21.407362 125.116369 \n\" style=\"fill:none;stroke:#b0b0b0;stroke-width:0.8;\"/>\n    <path d=\"M 213.597999 79.878657 \nL 94.707144 48.496835 \nL 20.436901 104.964135 \n\" style=\"fill:none;stroke:#b0b0b0;stroke-width:0.8;\"/>\n    <path d=\"M 214.514953 59.854706 \nL 94.484861 29.166523 \nL 19.446918 84.406493 \n\" style=\"fill:none;stroke:#b0b0b0;stroke-width:0.8;\"/>\n   </g>\n   <g id=\"xtick_12\">\n    <g id=\"line2d_15\">\n     <path d=\"M 209.979317 137.432146 \nL 212.892673 138.270947 \n\" style=\"fill:none;stroke:#000000;stroke-linecap:square;stroke-width:0.8;\"/>\n    </g>\n    <g id=\"text_12\">\n     <!-- −30 -->\n     <g transform=\"translate(218.692581 142.722491)scale(0.1 -0.1)\">\n      <defs>\n       <path d=\"M 40.578125 39.3125 \nQ 47.65625 37.796875 51.625 33 \nQ 55.609375 28.21875 55.609375 21.1875 \nQ 55.609375 10.40625 48.1875 4.484375 \nQ 40.765625 -1.421875 27.09375 -1.421875 \nQ 22.515625 -1.421875 17.65625 -0.515625 \nQ 12.796875 0.390625 7.625 2.203125 \nL 7.625 11.71875 \nQ 11.71875 9.328125 16.59375 8.109375 \nQ 21.484375 6.890625 26.8125 6.890625 \nQ 36.078125 6.890625 40.9375 10.546875 \nQ 45.796875 14.203125 45.796875 21.1875 \nQ 45.796875 27.640625 41.28125 31.265625 \nQ 36.765625 34.90625 28.71875 34.90625 \nL 20.21875 34.90625 \nL 20.21875 43.015625 \nL 29.109375 43.015625 \nQ 36.375 43.015625 40.234375 45.921875 \nQ 44.09375 48.828125 44.09375 54.296875 \nQ 44.09375 59.90625 40.109375 62.90625 \nQ 36.140625 65.921875 28.71875 65.921875 \nQ 24.65625 65.921875 20.015625 65.03125 \nQ 15.375 64.15625 9.8125 62.3125 \nL 9.8125 71.09375 \nQ 15.4375 72.65625 20.34375 73.4375 \nQ 25.25 74.21875 29.59375 74.21875 \nQ 40.828125 74.21875 47.359375 69.109375 \nQ 53.90625 64.015625 53.90625 55.328125 \nQ 53.90625 49.265625 50.4375 45.09375 \nQ 46.96875 40.921875 40.578125 39.3125 \nz\n\" id=\"DejaVuSans-51\"/>\n      </defs>\n      <use xlink:href=\"#DejaVuSans-8722\"/>\n      <use x=\"83.789062\" xlink:href=\"#DejaVuSans-51\"/>\n      <use x=\"147.412109\" xlink:href=\"#DejaVuSans-48\"/>\n     </g>\n    </g>\n   </g>\n   <g id=\"xtick_13\">\n    <g id=\"line2d_16\">\n     <path d=\"M 210.836019 118.522115 \nL 213.77783 119.346039 \n\" style=\"fill:none;stroke:#000000;stroke-linecap:square;stroke-width:0.8;\"/>\n    </g>\n    <g id=\"text_13\">\n     <!-- −20 -->\n     <g transform=\"translate(219.726975 123.853496)scale(0.1 -0.1)\">\n      <use xlink:href=\"#DejaVuSans-8722\"/>\n      <use x=\"83.789062\" xlink:href=\"#DejaVuSans-50\"/>\n      <use x=\"147.412109\" xlink:href=\"#DejaVuSans-48\"/>\n     </g>\n    </g>\n   </g>\n   <g id=\"xtick_14\">\n    <g id=\"line2d_17\">\n     <path d=\"M 211.708983 99.253133 \nL 214.67981 100.061459 \n\" style=\"fill:none;stroke:#000000;stroke-linecap:square;stroke-width:0.8;\"/>\n    </g>\n    <g id=\"text_14\">\n     <!-- −10 -->\n     <g transform=\"translate(220.780939 104.627526)scale(0.1 -0.1)\">\n      <use xlink:href=\"#DejaVuSans-8722\"/>\n      <use x=\"83.789062\" xlink:href=\"#DejaVuSans-49\"/>\n      <use x=\"147.412109\" xlink:href=\"#DejaVuSans-48\"/>\n     </g>\n    </g>\n   </g>\n   <g id=\"xtick_15\">\n    <g id=\"line2d_18\">\n     <path d=\"M 212.598676 79.614881 \nL 215.599097 80.406856 \n\" style=\"fill:none;stroke:#000000;stroke-linecap:square;stroke-width:0.8;\"/>\n    </g>\n    <g id=\"text_15\">\n     <!-- 0 -->\n     <g transform=\"translate(229.226126 85.034355)scale(0.1 -0.1)\">\n      <use xlink:href=\"#DejaVuSans-48\"/>\n     </g>\n    </g>\n   </g>\n   <g id=\"xtick_16\">\n    <g id=\"line2d_19\">\n     <path d=\"M 213.505584 59.59664 \nL 216.536193 60.371478 \n\" style=\"fill:none;stroke:#000000;stroke-linecap:square;stroke-width:0.8;\"/>\n    </g>\n    <g id=\"text_16\">\n     <!-- 10 -->\n     <g transform=\"translate(227.139682 65.06336)scale(0.1 -0.1)\">\n      <use xlink:href=\"#DejaVuSans-49\"/>\n      <use x=\"63.623047\" xlink:href=\"#DejaVuSans-48\"/>\n     </g>\n    </g>\n   </g>\n  </g>\n  <g id=\"axes_1\">\n   <g id=\"line2d_20\">\n    <path clip-path=\"url(#p42be57a711)\" d=\"M 108.551439 74.84329 \nL 108.369552 75.854318 \nL 108.150499 76.666006 \nL 107.785532 77.142786 \nL 107.166808 77.53736 \nL 106.899433 77.823814 \nL 106.455989 78.431438 \nL 106.272332 78.28048 \nL 106.050663 77.767023 \nL 106.003113 77.038459 \nL 106.190376 75.299349 \nL 106.458058 73.055966 \nL 106.339897 71.286886 \nL 106.339897 71.286886 \n\" style=\"fill:none;stroke:#000000;stroke-linecap:square;stroke-width:1.5;\"/>\n   </g>\n   <g id=\"line2d_21\">\n    <path clip-path=\"url(#p42be57a711)\" d=\"M 97.234186 89.097889 \nL 95.645927 90.277906 \nL 95.421125 90.167503 \nL 95.285323 89.827005 \nL 95.238169 88.946791 \nL 95.388205 87.526157 \nL 95.528589 85.770096 \nL 95.483771 84.093949 \nL 95.272558 80.92055 \nL 95.272558 80.92055 \n\" style=\"fill:none;stroke:#000000;stroke-linecap:square;stroke-width:1.5;\"/>\n   </g>\n   <g id=\"line2d_22\">\n    <path clip-path=\"url(#p42be57a711)\" d=\"M 151.449802 92.333704 \nL 149.589435 90.924739 \nL 148.627236 90.081026 \nL 148.212132 89.437235 \nL 147.985008 88.630879 \nL 147.886348 87.388891 \nL 148.041744 85.673402 \nL 148.267756 82.90584 \nL 148.210728 81.007806 \nL 148.113094 79.558969 \nL 148.113094 79.558969 \n\" style=\"fill:none;stroke:#000000;stroke-linecap:square;stroke-width:1.5;\"/>\n   </g>\n   <g id=\"line2d_23\">\n    <path clip-path=\"url(#p42be57a711)\" d=\"M 104.457013 76.529258 \nL 107.866998 78.380478 \nL 109.559284 79.788311 \nL 110.81707 80.64674 \nL 111.910844 81.141285 \nL 112.782311 81.297525 \nL 113.237191 81.182935 \nL 113.469987 80.899009 \nL 113.544917 80.440147 \nL 113.561235 74.903192 \nL 113.527963 73.090425 \nL 113.501659 72.855501 \nL 113.501659 72.855501 \n\" style=\"fill:none;stroke:#000000;stroke-linecap:square;stroke-width:1.5;\"/>\n   </g>\n   <g id=\"line2d_24\">\n    <path clip-path=\"url(#p42be57a711)\" d=\"M 142.746474 72.004418 \nL 140.731612 72.821812 \nL 138.751252 73.294936 \nL 137.953309 73.18884 \nL 137.315173 72.963223 \nL 136.896967 72.584548 \nL 136.465312 71.798824 \nL 136.166871 70.829874 \nL 136.063344 69.680955 \nL 135.84556 61.786393 \nL 135.8865 61.302942 \nL 135.8865 61.302942 \n\" style=\"fill:none;stroke:#000000;stroke-linecap:square;stroke-width:1.5;\"/>\n   </g>\n   <g id=\"line2d_25\">\n    <path clip-path=\"url(#p42be57a711)\" d=\"M 82.277062 100.01528 \nL 81.812003 102.337188 \nL 81.488422 104.165907 \nL 81.50283 105.198144 \nL 81.765074 106.159391 \nL 82.09981 106.935054 \nL 82.51254 107.260146 \nL 82.999298 107.367833 \nL 83.371226 107.237622 \nL 83.684859 106.898374 \nL 83.813067 106.425938 \nL 83.874105 104.938182 \nL 83.759419 103.52189 \nL 83.756943 103.459554 \nL 83.756943 103.459554 \n\" style=\"fill:none;stroke:#000000;stroke-linecap:square;stroke-width:1.5;\"/>\n   </g>\n   <g id=\"line2d_26\">\n    <path clip-path=\"url(#p42be57a711)\" d=\"M 150.193369 73.809079 \nL 149.991588 74.965223 \nL 149.632117 75.948544 \nL 149.015885 76.919062 \nL 148.304043 77.661932 \nL 147.60765 78.091818 \nL 146.922692 78.259185 \nL 146.344104 78.185284 \nL 145.878828 77.911555 \nL 145.528301 77.447716 \nL 145.086002 76.407535 \nL 144.896874 75.426201 \nL 144.791853 73.245203 \nL 144.662371 70.437526 \nL 144.589016 68.126062 \nL 144.589016 68.126062 \n\" style=\"fill:none;stroke:#000000;stroke-linecap:square;stroke-width:1.5;\"/>\n   </g>\n   <g id=\"line2d_27\">\n    <path clip-path=\"url(#p42be57a711)\" d=\"M 101.602886 105.165603 \nL 99.893968 105.662407 \nL 98.08839 106.100589 \nL 96.130376 106.304419 \nL 94.288059 106.304555 \nL 92.375026 106.066682 \nL 91.207912 105.722412 \nL 90.385342 105.256976 \nL 89.788087 104.665772 \nL 89.379263 103.941941 \nL 89.094237 102.979158 \nL 88.960105 101.715551 \nL 88.762611 98.853029 \nL 88.526203 95.918267 \nL 88.62591 93.987437 \nL 88.674675 93.552002 \nL 88.674675 93.552002 \n\" style=\"fill:none;stroke:#000000;stroke-linecap:square;stroke-width:1.5;\"/>\n   </g>\n   <g id=\"line2d_28\">\n    <path clip-path=\"url(#p42be57a711)\" d=\"M 105.119979 105.8019 \nL 107.501471 110.008416 \nL 109.560716 113.028467 \nL 110.06336 113.632454 \nL 110.067218 113.629611 \nL 110.08906 113.463395 \nL 109.912012 112.834817 \nL 109.500919 111.343536 \nL 109.339473 109.82403 \nL 109.351848 105.291779 \nL 109.351848 105.291779 \n\" style=\"fill:none;stroke:#000000;stroke-linecap:square;stroke-width:1.5;\"/>\n   </g>\n   <g id=\"line2d_29\">\n    <path clip-path=\"url(#p42be57a711)\" d=\"M 111.921472 64.198298 \nL 110.122112 62.516712 \nL 109.504814 62.318624 \nL 109.056965 62.38824 \nL 108.728455 62.660781 \nL 108.517258 63.136697 \nL 108.437622 63.899072 \nL 108.445828 64.776366 \nL 108.515489 61.023124 \nL 108.515489 61.023124 \n\" style=\"fill:none;stroke:#000000;stroke-linecap:square;stroke-width:1.5;\"/>\n   </g>\n   <g id=\"line2d_30\">\n    <path clip-path=\"url(#p42be57a711)\" d=\"M 108.551439 74.84329 \nL 108.272477 75.279297 \nL 107.77237 75.64633 \nL 106.912582 76.00465 \nL 105.249518 76.423052 \nL 102.024076 77.194096 \nL 101.087899 77.646246 \nL 100.576796 78.135146 \nL 100.362714 78.617812 \nL 100.335645 79.281284 \nL 100.547202 80.149414 \nL 101.480877 83.174576 \nL 101.393858 83.862478 \nL 101.069272 84.465749 \nL 100.501038 84.977934 \nL 99.562633 85.467733 \nL 98.049905 85.971246 \nL 94.798065 86.980913 \nL 93.921384 87.47514 \nL 93.38426 87.986908 \nL 93.044789 88.584071 \nL 92.863212 89.379794 \nL 92.85834 90.652366 \nL 92.857511 92.642349 \nL 92.65089 93.51021 \nL 92.234463 94.296988 \nL 91.592195 94.987278 \nL 90.741793 95.580557 \nL 89.419939 96.226021 \nL 85.379314 98.022038 \nL 84.533432 98.704354 \nL 83.905736 99.49861 \nL 83.405552 100.513187 \nL 81.813881 104.340087 \nL 81.019829 105.342261 \nL 80.028464 106.245194 \nL 78.614087 107.226426 \nL 73.934292 110.245139 \nL 72.731586 111.438411 \nL 71.13376 113.411759 \nL 69.591063 115.180719 \nL 68.012839 116.628675 \nL 65.063518 118.928664 \nL 62.871752 120.794368 \nL 61.697972 121.948804 \nL 61.697972 121.948804 \n\" style=\"fill:none;stroke:#000000;stroke-dasharray:5.55,2.4;stroke-dashoffset:0;stroke-width:1.5;\"/>\n   </g>\n   <g id=\"line2d_31\">\n    <path clip-path=\"url(#p42be57a711)\" d=\"M 97.234186 89.097889 \nL 96.785635 89.66032 \nL 96.603462 90.234951 \nL 96.573167 90.436912 \nL 96.489472 90.397768 \nL 95.897646 90.174703 \nL 95.182536 90.142575 \nL 94.465857 90.324525 \nL 93.861723 90.700848 \nL 93.493995 91.168114 \nL 93.373034 91.668708 \nL 93.409303 91.839988 \nL 93.2836 91.73225 \nL 92.789975 91.53936 \nL 92.116294 91.513477 \nL 91.443065 91.698301 \nL 90.876856 92.081227 \nL 90.553019 92.573024 \nL 90.513095 93.02944 \nL 90.699995 93.329034 \nL 90.898834 93.328773 \nL 90.892873 93.150943 \nL 90.644506 92.913854 \nL 90.144243 92.738518 \nL 89.469825 92.735425 \nL 88.769909 92.96432 \nL 88.274467 93.341413 \nL 87.989263 93.816791 \nL 87.957 94.292622 \nL 88.150871 94.665228 \nL 88.477456 94.855374 \nL 88.802542 94.832807 \nL 88.987701 94.625806 \nL 88.954192 94.361283 \nL 88.70976 94.090257 \nL 88.175889 93.865991 \nL 87.463351 93.835616 \nL 86.722797 94.050574 \nL 86.196575 94.418291 \nL 85.869535 94.900271 \nL 85.795153 95.413614 \nL 85.972291 95.864483 \nL 86.342519 96.169457 \nL 86.80123 96.275679 \nL 87.22129 96.173868 \nL 87.48102 95.900908 \nL 87.509184 95.596524 \nL 87.33831 95.282477 \nL 86.879968 94.977639 \nL 86.210321 94.837821 \nL 85.448026 94.922371 \nL 84.740867 95.241571 \nL 84.298721 95.655657 \nL 84.059496 96.149046 \nL 84.055237 96.653033 \nL 84.278936 97.094779 \nL 84.684345 97.410005 \nL 85.192886 97.554687 \nL 85.800954 97.483259 \nL 86.189842 97.241277 \nL 86.383812 96.884772 \nL 86.332261 96.483003 \nL 86.024203 96.114489 \nL 85.491047 95.854618 \nL 84.803696 95.762973 \nL 84.062725 95.872641 \nL 83.382906 96.182956 \nL 83.264221 96.266428 \nL 83.264221 96.266428 \n\" style=\"fill:none;stroke:#000000;stroke-dasharray:5.55,2.4;stroke-dashoffset:0;stroke-width:1.5;\"/>\n   </g>\n   <g id=\"line2d_32\">\n    <path clip-path=\"url(#p42be57a711)\" d=\"M 151.449802 92.333704 \nL 149.076747 90.220123 \nL 147.687026 88.669458 \nL 146.446109 86.935338 \nL 144.229689 83.756215 \nL 142.939034 82.360156 \nL 140.577276 80.223993 \nL 139.185189 78.803336 \nL 138.320492 77.598391 \nL 137.726867 76.389412 \nL 137.257336 74.915596 \nL 136.309668 71.648571 \nL 135.715918 70.644054 \nL 134.8976 69.736314 \nL 133.606801 68.689523 \nL 131.233401 66.803297 \nL 130.452181 65.869657 \nL 129.962558 64.925399 \nL 129.723702 64.003016 \nL 129.670288 62.918416 \nL 129.842941 61.473553 \nL 130.177701 59.002576 \nL 130.055675 58.215586 \nL 129.758481 57.587475 \nL 129.198626 56.946907 \nL 128.227672 56.217408 \nL 125.135234 54.092937 \nL 124.388236 53.258585 \nL 123.931511 52.429966 \nL 123.704985 51.527121 \nL 123.716997 50.567242 \nL 123.947893 49.575576 \nL 124.468334 48.338344 \nL 124.655179 47.976372 \nL 124.655179 47.976372 \n\" style=\"fill:none;stroke:#000000;stroke-dasharray:5.55,2.4;stroke-dashoffset:0;stroke-width:1.5;\"/>\n   </g>\n   <g id=\"line2d_33\">\n    <path clip-path=\"url(#p42be57a711)\" d=\"M 104.457013 76.529258 \nL 108.266915 78.34935 \nL 109.311049 78.514883 \nL 110.436636 78.488442 \nL 112.023956 78.201706 \nL 117.680701 76.910598 \nL 119.085992 76.909357 \nL 120.412879 77.137098 \nL 121.640356 77.587829 \nL 122.916239 78.322656 \nL 124.62813 79.632494 \nL 126.114451 80.703188 \nL 127.095143 81.158568 \nL 127.993183 81.352867 \nL 128.964172 81.349525 \nL 130.203304 81.105113 \nL 131.965748 80.483887 \nL 136.78274 78.638026 \nL 138.312488 78.343178 \nL 139.562799 78.310797 \nL 140.734348 78.50383 \nL 141.814095 78.919822 \nL 142.798263 79.534619 \nL 143.833713 80.443858 \nL 145.278039 82.063516 \nL 146.640598 83.528254 \nL 147.548194 84.185731 \nL 148.390692 84.504468 \nL 149.154505 84.575968 \nL 150.157002 84.424875 \nL 151.257848 84.033029 \nL 152.870195 83.208211 \nL 158.255422 80.218216 \nL 159.790725 79.708097 \nL 161.027374 79.5416 \nL 161.984997 79.61748 \nL 162.867683 79.893355 \nL 163.671719 80.361185 \nL 164.534317 81.1478 \nL 165.413306 82.307399 \nL 166.491958 84.196294 \nL 167.885265 86.61708 \nL 168.528726 87.344346 \nL 169.116698 87.738346 \nL 169.765554 87.914925 \nL 170.484264 87.864064 \nL 171.27738 87.589159 \nL 172.326792 86.987957 \nL 173.8746 85.815892 \nL 179.195522 81.504864 \nL 180.59272 80.75547 \nL 181.687474 80.443529 \nL 182.51099 80.446153 \nL 183.245812 80.695649 \nL 183.889102 81.185541 \nL 184.442726 81.896271 \nL 184.99787 82.995255 \nL 185.584967 84.752165 \nL 186.328378 87.772895 \nL 186.328378 87.772895 \n\" style=\"fill:none;stroke:#000000;stroke-dasharray:5.55,2.4;stroke-dashoffset:0;stroke-width:1.5;\"/>\n   </g>\n   <g id=\"line2d_34\">\n    <path clip-path=\"url(#p42be57a711)\" d=\"M 142.746474 72.004418 \nL 141.60034 72.419501 \nL 140.230948 72.666885 \nL 138.885735 72.665163 \nL 137.651114 72.426276 \nL 136.60168 71.979825 \nL 135.881432 71.452918 \nL 135.374519 70.835663 \nL 135.096188 70.166554 \nL 135.050453 69.485017 \nL 135.230977 68.829718 \nL 135.622263 68.236909 \nL 136.200814 67.739402 \nL 137.0522 67.323864 \nL 138.054287 67.104365 \nL 139.145477 67.10572 \nL 140.258841 67.342385 \nL 141.324661 67.817441 \nL 142.163479 68.422037 \nL 142.868023 69.189011 \nL 143.398134 70.097695 \nL 143.719703 71.120944 \nL 143.807441 72.226089 \nL 143.646575 73.376213 \nL 143.234314 74.532199 \nL 142.580916 75.654873 \nL 141.709308 76.707399 \nL 140.654383 77.657617 \nL 139.28211 78.586113 \nL 137.806985 79.323813 \nL 136.128296 79.915734 \nL 134.374441 80.293396 \nL 132.738414 80.425125 \nL 131.375717 80.326057 \nL 130.709799 80.095481 \nL 130.722412 80.026094 \nL 130.760979 80.010397 \nL 131.198116 80.011165 \nL 132.205238 80.246781 \nL 133.628217 80.816117 \nL 135.169274 81.684004 \nL 136.643311 82.786133 \nL 137.923772 84.038574 \nL 138.943469 85.352397 \nL 139.687693 86.644439 \nL 140.248422 88.05264 \nL 140.588271 89.555765 \nL 140.682032 90.900378 \nL 140.580925 92.278177 \nL 140.280806 93.670517 \nL 139.684048 95.288368 \nL 138.839927 96.872542 \nL 137.780587 98.398186 \nL 136.362946 100.044515 \nL 134.599803 101.748272 \nL 132.182186 103.755077 \nL 127.963747 107.17372 \nL 127.15708 108.150204 \nL 126.832101 108.873506 \nL 126.778007 109.482865 \nL 126.936531 110.094095 \nL 127.160745 110.507968 \nL 127.160745 110.507968 \n\" style=\"fill:none;stroke:#000000;stroke-dasharray:5.55,2.4;stroke-dashoffset:0;stroke-width:1.5;\"/>\n   </g>\n   <g id=\"line2d_35\">\n    <path clip-path=\"url(#p42be57a711)\" d=\"M 82.277062 100.01528 \nL 82.103586 100.467229 \nL 81.623791 101.016154 \nL 80.898866 101.495281 \nL 79.811639 101.908528 \nL 78.640942 102.086699 \nL 77.559681 102.001431 \nL 76.840954 101.736071 \nL 76.363285 101.321416 \nL 76.184346 100.909445 \nL 76.195409 100.453797 \nL 76.468238 99.865404 \nL 76.99542 99.307119 \nL 77.88074 98.746865 \nL 78.916419 98.37029 \nL 79.955201 98.219047 \nL 80.853281 98.303528 \nL 81.404891 98.539283 \nL 81.720979 98.895902 \nL 81.771534 99.333211 \nL 81.552602 99.802133 \nL 81.087318 100.249468 \nL 80.274149 100.685172 \nL 79.300945 100.940265 \nL 78.314914 100.966958 \nL 77.463201 100.752848 \nL 76.945518 100.407552 \nL 76.655029 99.943795 \nL 76.614236 99.40499 \nL 76.818588 98.840966 \nL 77.238347 98.30252 \nL 77.953982 97.75512 \nL 78.791355 97.3746 \nL 79.751143 97.190305 \nL 80.419048 97.260935 \nL 80.838999 97.515048 \nL 80.952667 97.828988 \nL 80.836875 98.191452 \nL 80.412038 98.623234 \nL 79.736591 98.973483 \nL 78.912419 99.17155 \nL 78.064078 99.170837 \nL 77.317438 98.956969 \nL 76.850251 98.629351 \nL 76.569908 98.194665 \nL 76.496269 97.691515 \nL 76.625996 97.164423 \nL 77.013519 96.564204 \nL 77.685073 95.996314 \nL 78.438722 95.646502 \nL 79.102809 95.548868 \nL 79.527905 95.686007 \nL 79.624603 95.942419 \nL 79.448329 96.261971 \nL 79.018097 96.571725 \nL 78.276554 96.824999 \nL 77.418222 96.876689 \nL 76.71815 96.725277 \nL 76.154664 96.397165 \nL 75.798655 95.926539 \nL 75.683495 95.369455 \nL 75.801668 94.793263 \nL 76.173465 94.186196 \nL 76.760653 93.683294 \nL 77.375841 93.442799 \nL 77.669166 93.509237 \nL 77.651274 93.682484 \nL 77.349324 93.937301 \nL 76.685664 94.174046 \nL 75.829031 94.223432 \nL 75.083601 94.049083 \nL 74.482642 93.669491 \nL 74.154552 93.216807 \nL 74.024637 92.700431 \nL 74.10439 92.097759 \nL 74.408337 91.51731 \nL 74.903237 91.063584 \nL 75.094926 91.018625 \nL 73.965816 91.432273 \nL 73.141996 91.399318 \nL 72.932621 91.355259 \nL 72.932621 91.355259 \n\" style=\"fill:none;stroke:#000000;stroke-dasharray:5.55,2.4;stroke-dashoffset:0;stroke-width:1.5;\"/>\n   </g>\n   <g id=\"line2d_36\">\n    <path clip-path=\"url(#p42be57a711)\" d=\"M 150.193369 73.809079 \nL 150.27678 74.681489 \nL 150.75551 76.412986 \nL 151.046589 77.855163 \nL 151.060391 78.990896 \nL 150.835973 80.147213 \nL 150.373079 81.301929 \nL 149.564745 82.687874 \nL 147.704429 85.712503 \nL 147.354129 86.789314 \nL 147.259071 87.763702 \nL 147.389367 89.02664 \nL 148.195058 93.811118 \nL 148.080894 95.177504 \nL 147.750371 96.56248 \nL 147.100918 98.264363 \nL 145.157853 102.886917 \nL 144.90817 104.274291 \nL 144.904011 105.676938 \nL 145.133722 107.267594 \nL 146.17817 112.844561 \nL 146.146733 114.452102 \nL 145.891 116.090568 \nL 145.372031 117.941899 \nL 143.446499 124.002841 \nL 143.298456 125.534533 \nL 143.365942 127.071666 \nL 143.671248 128.808453 \nL 144.376155 131.336027 \nL 145.153786 134.295953 \nL 145.381681 136.107041 \nL 145.349842 137.748078 \nL 145.080551 139.425082 \nL 144.533403 141.36008 \nL 142.694992 147.209591 \nL 142.486164 148.820973 \nL 142.491898 150.431175 \nL 142.71524 152.031298 \nL 143.199996 153.838874 \nL 144.197341 156.498555 \nL 144.542167 157.372489 \nL 144.542167 157.372489 \n\" style=\"fill:none;stroke:#000000;stroke-dasharray:5.55,2.4;stroke-dashoffset:0;stroke-width:1.5;\"/>\n   </g>\n   <g id=\"line2d_37\">\n    <path clip-path=\"url(#p42be57a711)\" d=\"M 101.602886 105.165603 \nL 98.964749 105.824806 \nL 96.389475 106.718799 \nL 93.925874 107.826278 \nL 91.615054 109.111931 \nL 89.304773 110.664926 \nL 87.078359 112.451244 \nL 85.016146 114.403241 \nL 83.075754 116.551683 \nL 81.134218 119.054281 \nL 78.299548 122.793049 \nL 77.63794 123.211645 \nL 76.946914 123.368178 \nL 75.904243 123.338152 \nL 72.784114 123.151269 \nL 71.080643 123.31472 \nL 69.502346 123.690419 \nL 68.045913 124.268771 \nL 66.798626 125.000627 \nL 65.811159 125.818794 \nL 65.016695 126.764905 \nL 64.517624 127.684057 \nL 64.246578 128.64215 \nL 64.224357 129.602052 \nL 64.416273 130.412966 \nL 64.803538 131.170712 \nL 65.377191 131.853021 \nL 66.241916 132.516838 \nL 67.302435 133.037343 \nL 68.52665 133.401207 \nL 70.058455 133.615849 \nL 71.711817 133.623836 \nL 73.64415 133.396519 \nL 75.633049 132.931206 \nL 77.639746 132.239664 \nL 79.628492 131.332895 \nL 81.562492 130.221488 \nL 83.400724 128.917721 \nL 85.096591 127.439017 \nL 86.599379 125.81157 \nL 87.744908 124.250951 \nL 88.478447 122.99901 \nL 88.478447 122.99901 \n\" style=\"fill:none;stroke:#000000;stroke-dasharray:5.55,2.4;stroke-dashoffset:0;stroke-width:1.5;\"/>\n   </g>\n   <g id=\"line2d_38\">\n    <path clip-path=\"url(#p42be57a711)\" d=\"M 105.119979 105.8019 \nL 105.810779 106.850089 \nL 106.621076 107.690387 \nL 107.458995 108.248039 \nL 108.157105 108.464561 \nL 108.648528 108.393966 \nL 108.890658 108.149218 \nL 108.947441 107.753219 \nL 108.786674 107.232936 \nL 108.324783 106.552869 \nL 107.548645 105.822685 \nL 106.458575 105.108003 \nL 105.072676 104.477186 \nL 103.601571 104.036613 \nL 101.957153 103.763472 \nL 100.187159 103.69689 \nL 98.348308 103.867359 \nL 96.70751 104.23406 \nL 95.110985 104.809082 \nL 93.608575 105.588858 \nL 92.250082 106.560412 \nL 91.217002 107.550597 \nL 90.360555 108.649788 \nL 89.707327 109.831955 \nL 89.279843 111.066072 \nL 89.095284 112.316685 \nL 89.164396 113.544328 \nL 89.42773 114.546225 \nL 89.875483 115.47226 \nL 90.497373 116.294618 \nL 91.276419 116.98646 \nL 92.188576 117.523502 \nL 93.203352 117.885308 \nL 94.284663 118.056477 \nL 95.39165 118.027633 \nL 96.479562 117.796511 \nL 97.501483 117.368792 \nL 98.410265 116.758603 \nL 99.161063 115.988284 \nL 99.71359 115.08769 \nL 100.034257 114.092993 \nL 100.105917 113.221626 \nL 99.989515 112.338516 \nL 99.680565 111.469712 \nL 99.179787 110.641084 \nL 98.493102 109.877664 \nL 97.631499 109.202952 \nL 96.389247 108.540168 \nL 94.953776 108.066959 \nL 93.368779 107.80756 \nL 91.684458 107.778078 \nL 89.955851 107.985792 \nL 88.240882 108.428777 \nL 86.598454 109.095923 \nL 85.086635 109.967074 \nL 83.760657 111.013601 \nL 82.671199 112.198908 \nL 81.976189 113.261287 \nL 81.497582 114.361054 \nL 81.251791 115.466898 \nL 81.249445 116.545581 \nL 81.494315 117.562662 \nL 81.982534 118.483373 \nL 82.701276 119.274141 \nL 83.628542 119.904144 \nL 84.733486 120.347306 \nL 85.977614 120.583223 \nL 87.315723 120.598208 \nL 88.697006 120.385997 \nL 90.06649 119.949027 \nL 91.367504 119.298707 \nL 92.544189 118.455442 \nL 93.544061 117.44814 \nL 94.320788 116.312986 \nL 94.44584 116.074239 \nL 94.44584 116.074239 \n\" style=\"fill:none;stroke:#000000;stroke-dasharray:5.55,2.4;stroke-dashoffset:0;stroke-width:1.5;\"/>\n   </g>\n   <g id=\"line2d_39\">\n    <path clip-path=\"url(#p42be57a711)\" d=\"M 111.921472 64.198298 \nL 111.306515 63.757343 \nL 110.534317 63.480035 \nL 109.654577 63.38353 \nL 108.566832 63.506333 \nL 107.499791 63.871669 \nL 106.539351 64.449344 \nL 105.758911 65.193696 \nL 105.214391 66.048624 \nL 104.96313 66.82318 \nL 104.922387 67.595414 \nL 105.092089 68.328561 \nL 105.462389 68.989327 \nL 106.014733 69.549022 \nL 106.723146 69.984303 \nL 107.703623 70.312233 \nL 108.793156 70.431473 \nL 109.926329 70.338883 \nL 111.034909 70.044661 \nL 112.05146 69.572366 \nL 112.913305 68.958142 \nL 113.566582 68.249113 \nL 113.970484 67.501064 \nL 114.101174 66.774906 \nL 113.992524 66.216549 \nL 113.691225 65.755601 \nL 113.220477 65.422708 \nL 112.614365 65.240514 \nL 111.793776 65.234793 \nL 110.924584 65.452356 \nL 110.085776 65.874486 \nL 109.350831 66.464787 \nL 108.781169 67.173895 \nL 108.421785 67.944418 \nL 108.299038 68.716761 \nL 108.420379 69.434238 \nL 108.775449 70.047202 \nL 109.338454 70.515802 \nL 110.070909 70.81164 \nL 110.924738 70.918752 \nL 111.979111 70.806541 \nL 113.034542 70.459768 \nL 114.005625 69.914773 \nL 114.814312 69.225862 \nL 115.396117 68.461346 \nL 115.705804 67.698187 \nL 115.736339 67.093948 \nL 115.545398 66.601661 \nL 115.153697 66.263816 \nL 114.598359 66.110882 \nL 113.929848 66.157832 \nL 113.103433 66.452767 \nL 112.299423 66.975545 \nL 111.605081 67.671838 \nL 111.092772 68.470126 \nL 110.813616 69.290493 \nL 110.794421 70.053963 \nL 110.993184 70.620224 \nL 111.380105 71.052279 \nL 111.930857 71.323919 \nL 112.611973 71.420398 \nL 113.49845 71.312793 \nL 114.554322 70.931717 \nL 115.579372 70.32089 \nL 116.572223 69.459168 \nL 117.31117 68.521889 \nL 117.72439 67.640407 \nL 117.791725 66.99999 \nL 117.616778 66.619377 \nL 117.304624 66.465705 \nL 117.304624 66.465705 \n\" style=\"fill:none;stroke:#000000;stroke-dasharray:5.55,2.4;stroke-dashoffset:0;stroke-width:1.5;\"/>\n   </g>\n   <g id=\"legend_1\">\n    <g id=\"patch_6\">\n     <path d=\"M 136.53375 44.55625 \nL 217.64 44.55625 \nQ 219.64 44.55625 219.64 42.55625 \nL 219.64 14.2 \nQ 219.64 12.2 217.64 12.2 \nL 136.53375 12.2 \nQ 134.53375 12.2 134.53375 14.2 \nL 134.53375 42.55625 \nQ 134.53375 44.55625 136.53375 44.55625 \nz\n\" style=\"fill:#ffffff;opacity:0.8;stroke:#cccccc;stroke-linejoin:miter;\"/>\n    </g>\n    <g id=\"line2d_40\">\n     <path d=\"M 138.53375 20.298437 \nL 158.53375 20.298437 \n\" style=\"fill:none;stroke:#000000;stroke-linecap:square;stroke-width:1.5;\"/>\n    </g>\n    <g id=\"line2d_41\"/>\n    <g id=\"text_17\">\n     <!-- Analytical -->\n     <g transform=\"translate(166.53375 23.798437)scale(0.1 -0.1)\">\n      <defs>\n       <path d=\"M 34.1875 63.1875 \nL 20.796875 26.90625 \nL 47.609375 26.90625 \nz\nM 28.609375 72.90625 \nL 39.796875 72.90625 \nL 67.578125 0 \nL 57.328125 0 \nL 50.6875 18.703125 \nL 17.828125 18.703125 \nL 11.1875 0 \nL 0.78125 0 \nz\n\" id=\"DejaVuSans-65\"/>\n       <path d=\"M 54.890625 33.015625 \nL 54.890625 0 \nL 45.90625 0 \nL 45.90625 32.71875 \nQ 45.90625 40.484375 42.875 44.328125 \nQ 39.84375 48.1875 33.796875 48.1875 \nQ 26.515625 48.1875 22.3125 43.546875 \nQ 18.109375 38.921875 18.109375 30.90625 \nL 18.109375 0 \nL 9.078125 0 \nL 9.078125 54.6875 \nL 18.109375 54.6875 \nL 18.109375 46.1875 \nQ 21.34375 51.125 25.703125 53.5625 \nQ 30.078125 56 35.796875 56 \nQ 45.21875 56 50.046875 50.171875 \nQ 54.890625 44.34375 54.890625 33.015625 \nz\n\" id=\"DejaVuSans-110\"/>\n       <path d=\"M 34.28125 27.484375 \nQ 23.390625 27.484375 19.1875 25 \nQ 14.984375 22.515625 14.984375 16.5 \nQ 14.984375 11.71875 18.140625 8.90625 \nQ 21.296875 6.109375 26.703125 6.109375 \nQ 34.1875 6.109375 38.703125 11.40625 \nQ 43.21875 16.703125 43.21875 25.484375 \nL 43.21875 27.484375 \nz\nM 52.203125 31.203125 \nL 52.203125 0 \nL 43.21875 0 \nL 43.21875 8.296875 \nQ 40.140625 3.328125 35.546875 0.953125 \nQ 30.953125 -1.421875 24.3125 -1.421875 \nQ 15.921875 -1.421875 10.953125 3.296875 \nQ 6 8.015625 6 15.921875 \nQ 6 25.140625 12.171875 29.828125 \nQ 18.359375 34.515625 30.609375 34.515625 \nL 43.21875 34.515625 \nL 43.21875 35.40625 \nQ 43.21875 41.609375 39.140625 45 \nQ 35.0625 48.390625 27.6875 48.390625 \nQ 23 48.390625 18.546875 47.265625 \nQ 14.109375 46.140625 10.015625 43.890625 \nL 10.015625 52.203125 \nQ 14.9375 54.109375 19.578125 55.046875 \nQ 24.21875 56 28.609375 56 \nQ 40.484375 56 46.34375 49.84375 \nQ 52.203125 43.703125 52.203125 31.203125 \nz\n\" id=\"DejaVuSans-97\"/>\n       <path d=\"M 9.421875 75.984375 \nL 18.40625 75.984375 \nL 18.40625 0 \nL 9.421875 0 \nz\n\" id=\"DejaVuSans-108\"/>\n       <path d=\"M 32.171875 -5.078125 \nQ 28.375 -14.84375 24.75 -17.8125 \nQ 21.140625 -20.796875 15.09375 -20.796875 \nL 7.90625 -20.796875 \nL 7.90625 -13.28125 \nL 13.1875 -13.28125 \nQ 16.890625 -13.28125 18.9375 -11.515625 \nQ 21 -9.765625 23.484375 -3.21875 \nL 25.09375 0.875 \nL 2.984375 54.6875 \nL 12.5 54.6875 \nL 29.59375 11.921875 \nL 46.6875 54.6875 \nL 56.203125 54.6875 \nz\n\" id=\"DejaVuSans-121\"/>\n       <path d=\"M 18.3125 70.21875 \nL 18.3125 54.6875 \nL 36.8125 54.6875 \nL 36.8125 47.703125 \nL 18.3125 47.703125 \nL 18.3125 18.015625 \nQ 18.3125 11.328125 20.140625 9.421875 \nQ 21.96875 7.515625 27.59375 7.515625 \nL 36.8125 7.515625 \nL 36.8125 0 \nL 27.59375 0 \nQ 17.1875 0 13.234375 3.875 \nQ 9.28125 7.765625 9.28125 18.015625 \nL 9.28125 47.703125 \nL 2.6875 47.703125 \nL 2.6875 54.6875 \nL 9.28125 54.6875 \nL 9.28125 70.21875 \nz\n\" id=\"DejaVuSans-116\"/>\n       <path d=\"M 9.421875 54.6875 \nL 18.40625 54.6875 \nL 18.40625 0 \nL 9.421875 0 \nz\nM 9.421875 75.984375 \nL 18.40625 75.984375 \nL 18.40625 64.59375 \nL 9.421875 64.59375 \nz\n\" id=\"DejaVuSans-105\"/>\n       <path d=\"M 48.78125 52.59375 \nL 48.78125 44.1875 \nQ 44.96875 46.296875 41.140625 47.34375 \nQ 37.3125 48.390625 33.40625 48.390625 \nQ 24.65625 48.390625 19.8125 42.84375 \nQ 14.984375 37.3125 14.984375 27.296875 \nQ 14.984375 17.28125 19.8125 11.734375 \nQ 24.65625 6.203125 33.40625 6.203125 \nQ 37.3125 6.203125 41.140625 7.25 \nQ 44.96875 8.296875 48.78125 10.40625 \nL 48.78125 2.09375 \nQ 45.015625 0.34375 40.984375 -0.53125 \nQ 36.96875 -1.421875 32.421875 -1.421875 \nQ 20.0625 -1.421875 12.78125 6.34375 \nQ 5.515625 14.109375 5.515625 27.296875 \nQ 5.515625 40.671875 12.859375 48.328125 \nQ 20.21875 56 33.015625 56 \nQ 37.15625 56 41.109375 55.140625 \nQ 45.0625 54.296875 48.78125 52.59375 \nz\n\" id=\"DejaVuSans-99\"/>\n      </defs>\n      <use xlink:href=\"#DejaVuSans-65\"/>\n      <use x=\"68.408203\" xlink:href=\"#DejaVuSans-110\"/>\n      <use x=\"131.787109\" xlink:href=\"#DejaVuSans-97\"/>\n      <use x=\"193.066406\" xlink:href=\"#DejaVuSans-108\"/>\n      <use x=\"220.849609\" xlink:href=\"#DejaVuSans-121\"/>\n      <use x=\"280.029297\" xlink:href=\"#DejaVuSans-116\"/>\n      <use x=\"319.238281\" xlink:href=\"#DejaVuSans-105\"/>\n      <use x=\"347.021484\" xlink:href=\"#DejaVuSans-99\"/>\n      <use x=\"402.001953\" xlink:href=\"#DejaVuSans-97\"/>\n      <use x=\"463.28125\" xlink:href=\"#DejaVuSans-108\"/>\n     </g>\n    </g>\n    <g id=\"line2d_42\">\n     <path d=\"M 138.53375 34.976562 \nL 158.53375 34.976562 \n\" style=\"fill:none;stroke:#000000;stroke-dasharray:5.55,2.4;stroke-dashoffset:0;stroke-width:1.5;\"/>\n    </g>\n    <g id=\"line2d_43\"/>\n    <g id=\"text_18\">\n     <!-- Naive -->\n     <g transform=\"translate(166.53375 38.476562)scale(0.1 -0.1)\">\n      <defs>\n       <path d=\"M 9.8125 72.90625 \nL 23.09375 72.90625 \nL 55.421875 11.921875 \nL 55.421875 72.90625 \nL 64.984375 72.90625 \nL 64.984375 0 \nL 51.703125 0 \nL 19.390625 60.984375 \nL 19.390625 0 \nL 9.8125 0 \nz\n\" id=\"DejaVuSans-78\"/>\n       <path d=\"M 2.984375 54.6875 \nL 12.5 54.6875 \nL 29.59375 8.796875 \nL 46.6875 54.6875 \nL 56.203125 54.6875 \nL 35.6875 0 \nL 23.484375 0 \nz\n\" id=\"DejaVuSans-118\"/>\n       <path d=\"M 56.203125 29.59375 \nL 56.203125 25.203125 \nL 14.890625 25.203125 \nQ 15.484375 15.921875 20.484375 11.0625 \nQ 25.484375 6.203125 34.421875 6.203125 \nQ 39.59375 6.203125 44.453125 7.46875 \nQ 49.3125 8.734375 54.109375 11.28125 \nL 54.109375 2.78125 \nQ 49.265625 0.734375 44.1875 -0.34375 \nQ 39.109375 -1.421875 33.890625 -1.421875 \nQ 20.796875 -1.421875 13.15625 6.1875 \nQ 5.515625 13.8125 5.515625 26.8125 \nQ 5.515625 40.234375 12.765625 48.109375 \nQ 20.015625 56 32.328125 56 \nQ 43.359375 56 49.78125 48.890625 \nQ 56.203125 41.796875 56.203125 29.59375 \nz\nM 47.21875 32.234375 \nQ 47.125 39.59375 43.09375 43.984375 \nQ 39.0625 48.390625 32.421875 48.390625 \nQ 24.90625 48.390625 20.390625 44.140625 \nQ 15.875 39.890625 15.1875 32.171875 \nz\n\" id=\"DejaVuSans-101\"/>\n      </defs>\n      <use xlink:href=\"#DejaVuSans-78\"/>\n      <use x=\"74.804688\" xlink:href=\"#DejaVuSans-97\"/>\n      <use x=\"136.083984\" xlink:href=\"#DejaVuSans-105\"/>\n      <use x=\"163.867188\" xlink:href=\"#DejaVuSans-118\"/>\n      <use x=\"223.046875\" xlink:href=\"#DejaVuSans-101\"/>\n     </g>\n    </g>\n   </g>\n  </g>\n </g>\n <defs>\n  <clipPath id=\"p42be57a711\">\n   <rect height=\"217.44\" width=\"217.44\" x=\"7.2\" y=\"7.2\"/>\n  </clipPath>\n </defs>\n</svg>\n",
            "image/png": "[encoded data removed]"
          },
          "metadata": {
            "needs_background": "light"
          }
        }
      ],
      "metadata": {}
    },
    {
      "cell_type": "markdown",
      "source": [
        "# Trainers"
      ],
      "metadata": {}
    },
    {
      "cell_type": "code",
      "execution_count": 108,
      "source": [
        "class Trainer:\n",
        "\n",
        "    def __init__(self, F_nn):\n",
        "\n",
        "        # initialise NN\n",
        "        self.f_nn = hk.without_apply_rng(hk.transform(F_nn))\n",
        "        self.params = self.f_nn.init(next(key), state, control)\n",
        "\n",
        "        # loss record\n",
        "        self.losses = list()\n",
        "\n",
        "    def train(self, epo, lr):\n",
        "\n",
        "        # setup optimiser\n",
        "        opt_init, opt_update = optax.chain(\n",
        "            optax.yogi(lr), \n",
        "            # optax.scale(-lr)\n",
        "        )\n",
        "        opt_state = opt_init(self.params)\n",
        "\n",
        "        # training loop\n",
        "        pb = tqdm(range(epo))\n",
        "        for _ in pb:\n",
        "\n",
        "            # gradient and loss\n",
        "            gopt, loss = self.grad(self.params, next(key))\n",
        "\n",
        "            # record loss\n",
        "            self.losses.append(loss)\n",
        "\n",
        "            # progress bar update\n",
        "            pb.set_description('{:.6f}'.format(loss))\n",
        "\n",
        "            # optimiser update\n",
        "            updates, opt_state = opt_update(\n",
        "                gopt, \n",
        "                opt_state, \n",
        "                self.params\n",
        "            )\n",
        "\n",
        "            # update the parameters\n",
        "            self.params = optax.apply_updates(self.params, updates)\n",
        "\n",
        "    @partial(jit, static_argnums=(0,))\n",
        "    def loss(self, params, key):\n",
        "        raise NotImplementedError()\n",
        "\n",
        "    @partial(jit, static_argnums=(0,))\n",
        "    def grad(self, params, key):\n",
        "        return grad(self.loss, argnums=0, has_aux=True)(params, key)"
      ],
      "outputs": [],
      "metadata": {}
    },
    {
      "cell_type": "markdown",
      "source": [
        "## Offline data"
      ],
      "metadata": {}
    },
    {
      "cell_type": "code",
      "execution_count": 109,
      "source": [
        "class Trainer_Offline(Trainer):\n",
        "\n",
        "    def __init__(self, F_nn, n):\n",
        "\n",
        "        # inherit\n",
        "        Trainer.__init__(self, F_nn)\n",
        "\n",
        "        # generate random states\n",
        "        self.states = uniform(\n",
        "            next(key),\n",
        "            shape=(n, dim_state),\n",
        "            minval=bounds_state[0],\n",
        "            maxval=bounds_state[1]\n",
        "        )\n",
        "\n",
        "        # generate random controls\n",
        "        self.controls = uniform(\n",
        "            next(key),\n",
        "            shape=(n, dim_control),\n",
        "            minval=bounds_control[0],\n",
        "            maxval=bounds_control[1]\n",
        "        )\n",
        "\n",
        "        # time-derivatives\n",
        "        self.dstates = vmap(f_analytical, in_axes=(0,0))(self.states, self.controls)\n",
        "\n",
        "    @partial(jit, static_argnums=(0,))\n",
        "    def loss(self, params, key):\n",
        "\n",
        "        # NN time-derivative predictions\n",
        "        dstates_nn = vmap(self.f_nn.apply, in_axes=(None,0,0))(\n",
        "            params, \n",
        "            self.states, \n",
        "            self.controls\n",
        "        )\n",
        "\n",
        "        # mean-squared error loss\n",
        "        loss = np.average(np.square(self.dstates - dstates_nn))\n",
        "        return loss, loss"
      ],
      "outputs": [],
      "metadata": {}
    },
    {
      "cell_type": "markdown",
      "source": [
        "## Online data"
      ],
      "metadata": {}
    },
    {
      "cell_type": "code",
      "execution_count": 110,
      "source": [
        "class Trainer_Online:\n",
        "\n",
        "    def __init__(self, F_nn, n, lr):\n",
        "\n",
        "        # inherit\n",
        "        Trainer.__init__(self, F_nn, lr)\n",
        "\n",
        "        # number of samples\n",
        "        self.n = n\n",
        "\n",
        "    @partial(jit, static_argnums=(0,))\n",
        "    def loss(self, params, key):\n",
        "        \n",
        "        # generate random states\n",
        "        states = uniform(\n",
        "            key,\n",
        "            shape=(n, dim_state),\n",
        "            minval=bounds_state[0],\n",
        "            maxval=bounds_state[1]\n",
        "        )\n",
        "\n",
        "        # generate random controls\n",
        "        controls = uniform(\n",
        "            key,\n",
        "            shape=(n, dim_control),\n",
        "            minval=bounds_control[0],\n",
        "            maxval=bounds_control[1]\n",
        "        )\n",
        "\n",
        "        # analytical time-derivatives\n",
        "        dstates = vmap(f_analytical, in_axes=(0,0))(states, controls)\n",
        "\n",
        "        # compute NN time-derivative predictions\n",
        "        dstates_nn = vmap(f_nn.apply, in_axes=(None,0,0))(params, states, controls)\n",
        "\n",
        "        # mean-squared error loss\n",
        "        loss = np.average(np.square(dstates - dstates_nn))\n",
        "        return loss, loss"
      ],
      "outputs": [],
      "metadata": {}
    },
    {
      "cell_type": "markdown",
      "source": [
        "# Results"
      ],
      "metadata": {}
    },
    {
      "cell_type": "code",
      "execution_count": 118,
      "source": [
        "trainer = Trainer_Offline(F_naive, 20000) "
      ],
      "outputs": [],
      "metadata": {}
    },
    {
      "cell_type": "code",
      "execution_count": 122,
      "source": [
        "trainer.train(5000, 2e-2)"
      ],
      "outputs": [
        {
          "output_type": "display_data",
          "data": {
            "text/plain": [
              "  0%|          | 0/5000 [00:00<?, ?it/s]"
            ],
            "application/vnd.jupyter.widget-view+json": {
              "version_major": 2,
              "version_minor": 0,
              "model_id": "4b5b310a3d2b464fb72ae452c49adc8d"
            }
          },
          "metadata": {}
        }
      ],
      "metadata": {}
    },
    {
      "cell_type": "code",
      "execution_count": 114,
      "source": [
        "fig, ax = plt.subplots(1)\n",
        "ax.plot(trainer.losses, 'k-')\n",
        "ax.set_yscale('log')\n",
        "plt.show()"
      ],
      "outputs": [
        {
          "output_type": "display_data",
          "data": {
            "text/plain": [
              "<Figure size 432x288 with 1 Axes>"
            ],
            "image/svg+xml": "<?xml version=\"1.0\" encoding=\"utf-8\" standalone=\"no\"?>\n<!DOCTYPE svg PUBLIC \"-//W3C//DTD SVG 1.1//EN\"\n  \"http://www.w3.org/Graphics/SVG/1.1/DTD/svg11.dtd\">\n<!-- Created with matplotlib (https://matplotlib.org/) -->\n<svg height=\"248.83054pt\" version=\"1.1\" viewBox=\"0 0 379.7 248.83054\" width=\"379.7pt\" xmlns=\"http://www.w3.org/2000/svg\" xmlns:xlink=\"http://www.w3.org/1999/xlink\">\n <metadata>\n  <rdf:RDF xmlns:cc=\"http://creativecommons.org/ns#\" xmlns:dc=\"http://purl.org/dc/elements/1.1/\" xmlns:rdf=\"http://www.w3.org/1999/02/22-rdf-syntax-ns#\">\n   <cc:Work>\n    <dc:type rdf:resource=\"http://purl.org/dc/dcmitype/StillImage\"/>\n    <dc:date>2021-08-13T23:28:39.193980</dc:date>\n    <dc:format>image/svg+xml</dc:format>\n    <dc:creator>\n     <cc:Agent>\n      <dc:title>Matplotlib v3.3.3, https://matplotlib.org/</dc:title>\n     </cc:Agent>\n    </dc:creator>\n   </cc:Work>\n  </rdf:RDF>\n </metadata>\n <defs>\n  <style type=\"text/css\">*{stroke-linecap:butt;stroke-linejoin:round;}</style>\n </defs>\n <g id=\"figure_1\">\n  <g id=\"patch_1\">\n   <path d=\"M 0 248.83054 \nL 379.7 248.83054 \nL 379.7 0 \nL 0 0 \nz\n\" style=\"fill:none;\"/>\n  </g>\n  <g id=\"axes_1\">\n   <g id=\"patch_2\">\n    <path d=\"M 37.7 224.952415 \nL 372.5 224.952415 \nL 372.5 7.512415 \nL 37.7 7.512415 \nz\n\" style=\"fill:#ffffff;\"/>\n   </g>\n   <g id=\"matplotlib.axis_1\">\n    <g id=\"xtick_1\">\n     <g id=\"line2d_1\">\n      <defs>\n       <path d=\"M 0 0 \nL 0 3.5 \n\" id=\"m663cc008c3\" style=\"stroke:#000000;stroke-width:0.8;\"/>\n      </defs>\n      <g>\n       <use style=\"stroke:#000000;stroke-width:0.8;\" x=\"52.918182\" xlink:href=\"#m663cc008c3\" y=\"224.952415\"/>\n      </g>\n     </g>\n     <g id=\"text_1\">\n      <!-- 0 -->\n      <g transform=\"translate(49.736932 239.550852)scale(0.1 -0.1)\">\n       <defs>\n        <path d=\"M 31.78125 66.40625 \nQ 24.171875 66.40625 20.328125 58.90625 \nQ 16.5 51.421875 16.5 36.375 \nQ 16.5 21.390625 20.328125 13.890625 \nQ 24.171875 6.390625 31.78125 6.390625 \nQ 39.453125 6.390625 43.28125 13.890625 \nQ 47.125 21.390625 47.125 36.375 \nQ 47.125 51.421875 43.28125 58.90625 \nQ 39.453125 66.40625 31.78125 66.40625 \nz\nM 31.78125 74.21875 \nQ 44.046875 74.21875 50.515625 64.515625 \nQ 56.984375 54.828125 56.984375 36.375 \nQ 56.984375 17.96875 50.515625 8.265625 \nQ 44.046875 -1.421875 31.78125 -1.421875 \nQ 19.53125 -1.421875 13.0625 8.265625 \nQ 6.59375 17.96875 6.59375 36.375 \nQ 6.59375 54.828125 13.0625 64.515625 \nQ 19.53125 74.21875 31.78125 74.21875 \nz\n\" id=\"DejaVuSans-48\"/>\n       </defs>\n       <use xlink:href=\"#DejaVuSans-48\"/>\n      </g>\n     </g>\n    </g>\n    <g id=\"xtick_2\">\n     <g id=\"line2d_2\">\n      <g>\n       <use style=\"stroke:#000000;stroke-width:0.8;\" x=\"124.423794\" xlink:href=\"#m663cc008c3\" y=\"224.952415\"/>\n      </g>\n     </g>\n     <g id=\"text_2\">\n      <!-- 2000 -->\n      <g transform=\"translate(111.698794 239.550852)scale(0.1 -0.1)\">\n       <defs>\n        <path d=\"M 19.1875 8.296875 \nL 53.609375 8.296875 \nL 53.609375 0 \nL 7.328125 0 \nL 7.328125 8.296875 \nQ 12.9375 14.109375 22.625 23.890625 \nQ 32.328125 33.6875 34.8125 36.53125 \nQ 39.546875 41.84375 41.421875 45.53125 \nQ 43.3125 49.21875 43.3125 52.78125 \nQ 43.3125 58.59375 39.234375 62.25 \nQ 35.15625 65.921875 28.609375 65.921875 \nQ 23.96875 65.921875 18.8125 64.3125 \nQ 13.671875 62.703125 7.8125 59.421875 \nL 7.8125 69.390625 \nQ 13.765625 71.78125 18.9375 73 \nQ 24.125 74.21875 28.421875 74.21875 \nQ 39.75 74.21875 46.484375 68.546875 \nQ 53.21875 62.890625 53.21875 53.421875 \nQ 53.21875 48.921875 51.53125 44.890625 \nQ 49.859375 40.875 45.40625 35.40625 \nQ 44.1875 33.984375 37.640625 27.21875 \nQ 31.109375 20.453125 19.1875 8.296875 \nz\n\" id=\"DejaVuSans-50\"/>\n       </defs>\n       <use xlink:href=\"#DejaVuSans-50\"/>\n       <use x=\"63.623047\" xlink:href=\"#DejaVuSans-48\"/>\n       <use x=\"127.246094\" xlink:href=\"#DejaVuSans-48\"/>\n       <use x=\"190.869141\" xlink:href=\"#DejaVuSans-48\"/>\n      </g>\n     </g>\n    </g>\n    <g id=\"xtick_3\">\n     <g id=\"line2d_3\">\n      <g>\n       <use style=\"stroke:#000000;stroke-width:0.8;\" x=\"195.929405\" xlink:href=\"#m663cc008c3\" y=\"224.952415\"/>\n      </g>\n     </g>\n     <g id=\"text_3\">\n      <!-- 4000 -->\n      <g transform=\"translate(183.204405 239.550852)scale(0.1 -0.1)\">\n       <defs>\n        <path d=\"M 37.796875 64.3125 \nL 12.890625 25.390625 \nL 37.796875 25.390625 \nz\nM 35.203125 72.90625 \nL 47.609375 72.90625 \nL 47.609375 25.390625 \nL 58.015625 25.390625 \nL 58.015625 17.1875 \nL 47.609375 17.1875 \nL 47.609375 0 \nL 37.796875 0 \nL 37.796875 17.1875 \nL 4.890625 17.1875 \nL 4.890625 26.703125 \nz\n\" id=\"DejaVuSans-52\"/>\n       </defs>\n       <use xlink:href=\"#DejaVuSans-52\"/>\n       <use x=\"63.623047\" xlink:href=\"#DejaVuSans-48\"/>\n       <use x=\"127.246094\" xlink:href=\"#DejaVuSans-48\"/>\n       <use x=\"190.869141\" xlink:href=\"#DejaVuSans-48\"/>\n      </g>\n     </g>\n    </g>\n    <g id=\"xtick_4\">\n     <g id=\"line2d_4\">\n      <g>\n       <use style=\"stroke:#000000;stroke-width:0.8;\" x=\"267.435017\" xlink:href=\"#m663cc008c3\" y=\"224.952415\"/>\n      </g>\n     </g>\n     <g id=\"text_4\">\n      <!-- 6000 -->\n      <g transform=\"translate(254.710017 239.550852)scale(0.1 -0.1)\">\n       <defs>\n        <path d=\"M 33.015625 40.375 \nQ 26.375 40.375 22.484375 35.828125 \nQ 18.609375 31.296875 18.609375 23.390625 \nQ 18.609375 15.53125 22.484375 10.953125 \nQ 26.375 6.390625 33.015625 6.390625 \nQ 39.65625 6.390625 43.53125 10.953125 \nQ 47.40625 15.53125 47.40625 23.390625 \nQ 47.40625 31.296875 43.53125 35.828125 \nQ 39.65625 40.375 33.015625 40.375 \nz\nM 52.59375 71.296875 \nL 52.59375 62.3125 \nQ 48.875 64.0625 45.09375 64.984375 \nQ 41.3125 65.921875 37.59375 65.921875 \nQ 27.828125 65.921875 22.671875 59.328125 \nQ 17.53125 52.734375 16.796875 39.40625 \nQ 19.671875 43.65625 24.015625 45.921875 \nQ 28.375 48.1875 33.59375 48.1875 \nQ 44.578125 48.1875 50.953125 41.515625 \nQ 57.328125 34.859375 57.328125 23.390625 \nQ 57.328125 12.15625 50.6875 5.359375 \nQ 44.046875 -1.421875 33.015625 -1.421875 \nQ 20.359375 -1.421875 13.671875 8.265625 \nQ 6.984375 17.96875 6.984375 36.375 \nQ 6.984375 53.65625 15.1875 63.9375 \nQ 23.390625 74.21875 37.203125 74.21875 \nQ 40.921875 74.21875 44.703125 73.484375 \nQ 48.484375 72.75 52.59375 71.296875 \nz\n\" id=\"DejaVuSans-54\"/>\n       </defs>\n       <use xlink:href=\"#DejaVuSans-54\"/>\n       <use x=\"63.623047\" xlink:href=\"#DejaVuSans-48\"/>\n       <use x=\"127.246094\" xlink:href=\"#DejaVuSans-48\"/>\n       <use x=\"190.869141\" xlink:href=\"#DejaVuSans-48\"/>\n      </g>\n     </g>\n    </g>\n    <g id=\"xtick_5\">\n     <g id=\"line2d_5\">\n      <g>\n       <use style=\"stroke:#000000;stroke-width:0.8;\" x=\"338.940629\" xlink:href=\"#m663cc008c3\" y=\"224.952415\"/>\n      </g>\n     </g>\n     <g id=\"text_5\">\n      <!-- 8000 -->\n      <g transform=\"translate(326.215629 239.550852)scale(0.1 -0.1)\">\n       <defs>\n        <path d=\"M 31.78125 34.625 \nQ 24.75 34.625 20.71875 30.859375 \nQ 16.703125 27.09375 16.703125 20.515625 \nQ 16.703125 13.921875 20.71875 10.15625 \nQ 24.75 6.390625 31.78125 6.390625 \nQ 38.8125 6.390625 42.859375 10.171875 \nQ 46.921875 13.96875 46.921875 20.515625 \nQ 46.921875 27.09375 42.890625 30.859375 \nQ 38.875 34.625 31.78125 34.625 \nz\nM 21.921875 38.8125 \nQ 15.578125 40.375 12.03125 44.71875 \nQ 8.5 49.078125 8.5 55.328125 \nQ 8.5 64.0625 14.71875 69.140625 \nQ 20.953125 74.21875 31.78125 74.21875 \nQ 42.671875 74.21875 48.875 69.140625 \nQ 55.078125 64.0625 55.078125 55.328125 \nQ 55.078125 49.078125 51.53125 44.71875 \nQ 48 40.375 41.703125 38.8125 \nQ 48.828125 37.15625 52.796875 32.3125 \nQ 56.78125 27.484375 56.78125 20.515625 \nQ 56.78125 9.90625 50.3125 4.234375 \nQ 43.84375 -1.421875 31.78125 -1.421875 \nQ 19.734375 -1.421875 13.25 4.234375 \nQ 6.78125 9.90625 6.78125 20.515625 \nQ 6.78125 27.484375 10.78125 32.3125 \nQ 14.796875 37.15625 21.921875 38.8125 \nz\nM 18.3125 54.390625 \nQ 18.3125 48.734375 21.84375 45.5625 \nQ 25.390625 42.390625 31.78125 42.390625 \nQ 38.140625 42.390625 41.71875 45.5625 \nQ 45.3125 48.734375 45.3125 54.390625 \nQ 45.3125 60.0625 41.71875 63.234375 \nQ 38.140625 66.40625 31.78125 66.40625 \nQ 25.390625 66.40625 21.84375 63.234375 \nQ 18.3125 60.0625 18.3125 54.390625 \nz\n\" id=\"DejaVuSans-56\"/>\n       </defs>\n       <use xlink:href=\"#DejaVuSans-56\"/>\n       <use x=\"63.623047\" xlink:href=\"#DejaVuSans-48\"/>\n       <use x=\"127.246094\" xlink:href=\"#DejaVuSans-48\"/>\n       <use x=\"190.869141\" xlink:href=\"#DejaVuSans-48\"/>\n      </g>\n     </g>\n    </g>\n   </g>\n   <g id=\"matplotlib.axis_2\">\n    <g id=\"ytick_1\">\n     <g id=\"line2d_6\">\n      <defs>\n       <path d=\"M 0 0 \nL -3.5 0 \n\" id=\"m309d4bf2c7\" style=\"stroke:#000000;stroke-width:0.8;\"/>\n      </defs>\n      <g>\n       <use style=\"stroke:#000000;stroke-width:0.8;\" x=\"37.7\" xlink:href=\"#m309d4bf2c7\" y=\"220.483089\"/>\n      </g>\n     </g>\n     <g id=\"text_6\">\n      <!-- $\\mathdefault{10^{-1}}$ -->\n      <g transform=\"translate(7.2 224.282308)scale(0.1 -0.1)\">\n       <defs>\n        <path d=\"M 12.40625 8.296875 \nL 28.515625 8.296875 \nL 28.515625 63.921875 \nL 10.984375 60.40625 \nL 10.984375 69.390625 \nL 28.421875 72.90625 \nL 38.28125 72.90625 \nL 38.28125 8.296875 \nL 54.390625 8.296875 \nL 54.390625 0 \nL 12.40625 0 \nz\n\" id=\"DejaVuSans-49\"/>\n        <path d=\"M 10.59375 35.5 \nL 73.1875 35.5 \nL 73.1875 27.203125 \nL 10.59375 27.203125 \nz\n\" id=\"DejaVuSans-8722\"/>\n       </defs>\n       <use transform=\"translate(0 0.684375)\" xlink:href=\"#DejaVuSans-49\"/>\n       <use transform=\"translate(63.623047 0.684375)\" xlink:href=\"#DejaVuSans-48\"/>\n       <use transform=\"translate(128.203125 38.965625)scale(0.7)\" xlink:href=\"#DejaVuSans-8722\"/>\n       <use transform=\"translate(186.855469 38.965625)scale(0.7)\" xlink:href=\"#DejaVuSans-49\"/>\n      </g>\n     </g>\n    </g>\n    <g id=\"ytick_2\">\n     <g id=\"line2d_7\">\n      <g>\n       <use style=\"stroke:#000000;stroke-width:0.8;\" x=\"37.7\" xlink:href=\"#m309d4bf2c7\" y=\"185.56911\"/>\n      </g>\n     </g>\n     <g id=\"text_7\">\n      <!-- $\\mathdefault{10^{0}}$ -->\n      <g transform=\"translate(13.1 189.368329)scale(0.1 -0.1)\">\n       <use transform=\"translate(0 0.765625)\" xlink:href=\"#DejaVuSans-49\"/>\n       <use transform=\"translate(63.623047 0.765625)\" xlink:href=\"#DejaVuSans-48\"/>\n       <use transform=\"translate(128.203125 39.046875)scale(0.7)\" xlink:href=\"#DejaVuSans-48\"/>\n      </g>\n     </g>\n    </g>\n    <g id=\"ytick_3\">\n     <g id=\"line2d_8\">\n      <g>\n       <use style=\"stroke:#000000;stroke-width:0.8;\" x=\"37.7\" xlink:href=\"#m309d4bf2c7\" y=\"150.655132\"/>\n      </g>\n     </g>\n     <g id=\"text_8\">\n      <!-- $\\mathdefault{10^{1}}$ -->\n      <g transform=\"translate(13.1 154.454351)scale(0.1 -0.1)\">\n       <use transform=\"translate(0 0.684375)\" xlink:href=\"#DejaVuSans-49\"/>\n       <use transform=\"translate(63.623047 0.684375)\" xlink:href=\"#DejaVuSans-48\"/>\n       <use transform=\"translate(128.203125 38.965625)scale(0.7)\" xlink:href=\"#DejaVuSans-49\"/>\n      </g>\n     </g>\n    </g>\n    <g id=\"ytick_4\">\n     <g id=\"line2d_9\">\n      <g>\n       <use style=\"stroke:#000000;stroke-width:0.8;\" x=\"37.7\" xlink:href=\"#m309d4bf2c7\" y=\"115.741154\"/>\n      </g>\n     </g>\n     <g id=\"text_9\">\n      <!-- $\\mathdefault{10^{2}}$ -->\n      <g transform=\"translate(13.1 119.540373)scale(0.1 -0.1)\">\n       <use transform=\"translate(0 0.765625)\" xlink:href=\"#DejaVuSans-49\"/>\n       <use transform=\"translate(63.623047 0.765625)\" xlink:href=\"#DejaVuSans-48\"/>\n       <use transform=\"translate(128.203125 39.046875)scale(0.7)\" xlink:href=\"#DejaVuSans-50\"/>\n      </g>\n     </g>\n    </g>\n    <g id=\"ytick_5\">\n     <g id=\"line2d_10\">\n      <g>\n       <use style=\"stroke:#000000;stroke-width:0.8;\" x=\"37.7\" xlink:href=\"#m309d4bf2c7\" y=\"80.827175\"/>\n      </g>\n     </g>\n     <g id=\"text_10\">\n      <!-- $\\mathdefault{10^{3}}$ -->\n      <g transform=\"translate(13.1 84.626394)scale(0.1 -0.1)\">\n       <defs>\n        <path d=\"M 40.578125 39.3125 \nQ 47.65625 37.796875 51.625 33 \nQ 55.609375 28.21875 55.609375 21.1875 \nQ 55.609375 10.40625 48.1875 4.484375 \nQ 40.765625 -1.421875 27.09375 -1.421875 \nQ 22.515625 -1.421875 17.65625 -0.515625 \nQ 12.796875 0.390625 7.625 2.203125 \nL 7.625 11.71875 \nQ 11.71875 9.328125 16.59375 8.109375 \nQ 21.484375 6.890625 26.8125 6.890625 \nQ 36.078125 6.890625 40.9375 10.546875 \nQ 45.796875 14.203125 45.796875 21.1875 \nQ 45.796875 27.640625 41.28125 31.265625 \nQ 36.765625 34.90625 28.71875 34.90625 \nL 20.21875 34.90625 \nL 20.21875 43.015625 \nL 29.109375 43.015625 \nQ 36.375 43.015625 40.234375 45.921875 \nQ 44.09375 48.828125 44.09375 54.296875 \nQ 44.09375 59.90625 40.109375 62.90625 \nQ 36.140625 65.921875 28.71875 65.921875 \nQ 24.65625 65.921875 20.015625 65.03125 \nQ 15.375 64.15625 9.8125 62.3125 \nL 9.8125 71.09375 \nQ 15.4375 72.65625 20.34375 73.4375 \nQ 25.25 74.21875 29.59375 74.21875 \nQ 40.828125 74.21875 47.359375 69.109375 \nQ 53.90625 64.015625 53.90625 55.328125 \nQ 53.90625 49.265625 50.4375 45.09375 \nQ 46.96875 40.921875 40.578125 39.3125 \nz\n\" id=\"DejaVuSans-51\"/>\n       </defs>\n       <use transform=\"translate(0 0.765625)\" xlink:href=\"#DejaVuSans-49\"/>\n       <use transform=\"translate(63.623047 0.765625)\" xlink:href=\"#DejaVuSans-48\"/>\n       <use transform=\"translate(128.203125 39.046875)scale(0.7)\" xlink:href=\"#DejaVuSans-51\"/>\n      </g>\n     </g>\n    </g>\n    <g id=\"ytick_6\">\n     <g id=\"line2d_11\">\n      <g>\n       <use style=\"stroke:#000000;stroke-width:0.8;\" x=\"37.7\" xlink:href=\"#m309d4bf2c7\" y=\"45.913197\"/>\n      </g>\n     </g>\n     <g id=\"text_11\">\n      <!-- $\\mathdefault{10^{4}}$ -->\n      <g transform=\"translate(13.1 49.712416)scale(0.1 -0.1)\">\n       <use transform=\"translate(0 0.684375)\" xlink:href=\"#DejaVuSans-49\"/>\n       <use transform=\"translate(63.623047 0.684375)\" xlink:href=\"#DejaVuSans-48\"/>\n       <use transform=\"translate(128.203125 38.965625)scale(0.7)\" xlink:href=\"#DejaVuSans-52\"/>\n      </g>\n     </g>\n    </g>\n    <g id=\"ytick_7\">\n     <g id=\"line2d_12\">\n      <g>\n       <use style=\"stroke:#000000;stroke-width:0.8;\" x=\"37.7\" xlink:href=\"#m309d4bf2c7\" y=\"10.999219\"/>\n      </g>\n     </g>\n     <g id=\"text_12\">\n      <!-- $\\mathdefault{10^{5}}$ -->\n      <g transform=\"translate(13.1 14.798438)scale(0.1 -0.1)\">\n       <defs>\n        <path d=\"M 10.796875 72.90625 \nL 49.515625 72.90625 \nL 49.515625 64.59375 \nL 19.828125 64.59375 \nL 19.828125 46.734375 \nQ 21.96875 47.46875 24.109375 47.828125 \nQ 26.265625 48.1875 28.421875 48.1875 \nQ 40.625 48.1875 47.75 41.5 \nQ 54.890625 34.8125 54.890625 23.390625 \nQ 54.890625 11.625 47.5625 5.09375 \nQ 40.234375 -1.421875 26.90625 -1.421875 \nQ 22.3125 -1.421875 17.546875 -0.640625 \nQ 12.796875 0.140625 7.71875 1.703125 \nL 7.71875 11.625 \nQ 12.109375 9.234375 16.796875 8.0625 \nQ 21.484375 6.890625 26.703125 6.890625 \nQ 35.15625 6.890625 40.078125 11.328125 \nQ 45.015625 15.765625 45.015625 23.390625 \nQ 45.015625 31 40.078125 35.4375 \nQ 35.15625 39.890625 26.703125 39.890625 \nQ 22.75 39.890625 18.8125 39.015625 \nQ 14.890625 38.140625 10.796875 36.28125 \nz\n\" id=\"DejaVuSans-53\"/>\n       </defs>\n       <use transform=\"translate(0 0.684375)\" xlink:href=\"#DejaVuSans-49\"/>\n       <use transform=\"translate(63.623047 0.684375)\" xlink:href=\"#DejaVuSans-48\"/>\n       <use transform=\"translate(128.203125 38.965625)scale(0.7)\" xlink:href=\"#DejaVuSans-53\"/>\n      </g>\n     </g>\n    </g>\n    <g id=\"ytick_8\">\n     <g id=\"line2d_13\">\n      <defs>\n       <path d=\"M 0 0 \nL -2 0 \n\" id=\"m5a69c74040\" style=\"stroke:#000000;stroke-width:0.6;\"/>\n      </defs>\n      <g>\n       <use style=\"stroke:#000000;stroke-width:0.6;\" x=\"37.7\" xlink:href=\"#m5a69c74040\" y=\"223.866603\"/>\n      </g>\n     </g>\n    </g>\n    <g id=\"ytick_9\">\n     <g id=\"line2d_14\">\n      <g>\n       <use style=\"stroke:#000000;stroke-width:0.6;\" x=\"37.7\" xlink:href=\"#m5a69c74040\" y=\"222.080665\"/>\n      </g>\n     </g>\n    </g>\n    <g id=\"ytick_10\">\n     <g id=\"line2d_15\">\n      <g>\n       <use style=\"stroke:#000000;stroke-width:0.6;\" x=\"37.7\" xlink:href=\"#m5a69c74040\" y=\"209.972934\"/>\n      </g>\n     </g>\n    </g>\n    <g id=\"ytick_11\">\n     <g id=\"line2d_16\">\n      <g>\n       <use style=\"stroke:#000000;stroke-width:0.6;\" x=\"37.7\" xlink:href=\"#m5a69c74040\" y=\"203.824888\"/>\n      </g>\n     </g>\n    </g>\n    <g id=\"ytick_12\">\n     <g id=\"line2d_17\">\n      <g>\n       <use style=\"stroke:#000000;stroke-width:0.6;\" x=\"37.7\" xlink:href=\"#m5a69c74040\" y=\"199.462779\"/>\n      </g>\n     </g>\n    </g>\n    <g id=\"ytick_13\">\n     <g id=\"line2d_18\">\n      <g>\n       <use style=\"stroke:#000000;stroke-width:0.6;\" x=\"37.7\" xlink:href=\"#m5a69c74040\" y=\"196.079265\"/>\n      </g>\n     </g>\n    </g>\n    <g id=\"ytick_14\">\n     <g id=\"line2d_19\">\n      <g>\n       <use style=\"stroke:#000000;stroke-width:0.6;\" x=\"37.7\" xlink:href=\"#m5a69c74040\" y=\"193.314733\"/>\n      </g>\n     </g>\n    </g>\n    <g id=\"ytick_15\">\n     <g id=\"line2d_20\">\n      <g>\n       <use style=\"stroke:#000000;stroke-width:0.6;\" x=\"37.7\" xlink:href=\"#m5a69c74040\" y=\"190.977354\"/>\n      </g>\n     </g>\n    </g>\n    <g id=\"ytick_16\">\n     <g id=\"line2d_21\">\n      <g>\n       <use style=\"stroke:#000000;stroke-width:0.6;\" x=\"37.7\" xlink:href=\"#m5a69c74040\" y=\"188.952625\"/>\n      </g>\n     </g>\n    </g>\n    <g id=\"ytick_17\">\n     <g id=\"line2d_22\">\n      <g>\n       <use style=\"stroke:#000000;stroke-width:0.6;\" x=\"37.7\" xlink:href=\"#m5a69c74040\" y=\"187.166686\"/>\n      </g>\n     </g>\n    </g>\n    <g id=\"ytick_18\">\n     <g id=\"line2d_23\">\n      <g>\n       <use style=\"stroke:#000000;stroke-width:0.6;\" x=\"37.7\" xlink:href=\"#m5a69c74040\" y=\"175.058956\"/>\n      </g>\n     </g>\n    </g>\n    <g id=\"ytick_19\">\n     <g id=\"line2d_24\">\n      <g>\n       <use style=\"stroke:#000000;stroke-width:0.6;\" x=\"37.7\" xlink:href=\"#m5a69c74040\" y=\"168.910909\"/>\n      </g>\n     </g>\n    </g>\n    <g id=\"ytick_20\">\n     <g id=\"line2d_25\">\n      <g>\n       <use style=\"stroke:#000000;stroke-width:0.6;\" x=\"37.7\" xlink:href=\"#m5a69c74040\" y=\"164.548801\"/>\n      </g>\n     </g>\n    </g>\n    <g id=\"ytick_21\">\n     <g id=\"line2d_26\">\n      <g>\n       <use style=\"stroke:#000000;stroke-width:0.6;\" x=\"37.7\" xlink:href=\"#m5a69c74040\" y=\"161.165287\"/>\n      </g>\n     </g>\n    </g>\n    <g id=\"ytick_22\">\n     <g id=\"line2d_27\">\n      <g>\n       <use style=\"stroke:#000000;stroke-width:0.6;\" x=\"37.7\" xlink:href=\"#m5a69c74040\" y=\"158.400755\"/>\n      </g>\n     </g>\n    </g>\n    <g id=\"ytick_23\">\n     <g id=\"line2d_28\">\n      <g>\n       <use style=\"stroke:#000000;stroke-width:0.6;\" x=\"37.7\" xlink:href=\"#m5a69c74040\" y=\"156.063376\"/>\n      </g>\n     </g>\n    </g>\n    <g id=\"ytick_24\">\n     <g id=\"line2d_29\">\n      <g>\n       <use style=\"stroke:#000000;stroke-width:0.6;\" x=\"37.7\" xlink:href=\"#m5a69c74040\" y=\"154.038646\"/>\n      </g>\n     </g>\n    </g>\n    <g id=\"ytick_25\">\n     <g id=\"line2d_30\">\n      <g>\n       <use style=\"stroke:#000000;stroke-width:0.6;\" x=\"37.7\" xlink:href=\"#m5a69c74040\" y=\"152.252708\"/>\n      </g>\n     </g>\n    </g>\n    <g id=\"ytick_26\">\n     <g id=\"line2d_31\">\n      <g>\n       <use style=\"stroke:#000000;stroke-width:0.6;\" x=\"37.7\" xlink:href=\"#m5a69c74040\" y=\"140.144977\"/>\n      </g>\n     </g>\n    </g>\n    <g id=\"ytick_27\">\n     <g id=\"line2d_32\">\n      <g>\n       <use style=\"stroke:#000000;stroke-width:0.6;\" x=\"37.7\" xlink:href=\"#m5a69c74040\" y=\"133.996931\"/>\n      </g>\n     </g>\n    </g>\n    <g id=\"ytick_28\">\n     <g id=\"line2d_33\">\n      <g>\n       <use style=\"stroke:#000000;stroke-width:0.6;\" x=\"37.7\" xlink:href=\"#m5a69c74040\" y=\"129.634823\"/>\n      </g>\n     </g>\n    </g>\n    <g id=\"ytick_29\">\n     <g id=\"line2d_34\">\n      <g>\n       <use style=\"stroke:#000000;stroke-width:0.6;\" x=\"37.7\" xlink:href=\"#m5a69c74040\" y=\"126.251309\"/>\n      </g>\n     </g>\n    </g>\n    <g id=\"ytick_30\">\n     <g id=\"line2d_35\">\n      <g>\n       <use style=\"stroke:#000000;stroke-width:0.6;\" x=\"37.7\" xlink:href=\"#m5a69c74040\" y=\"123.486776\"/>\n      </g>\n     </g>\n    </g>\n    <g id=\"ytick_31\">\n     <g id=\"line2d_36\">\n      <g>\n       <use style=\"stroke:#000000;stroke-width:0.6;\" x=\"37.7\" xlink:href=\"#m5a69c74040\" y=\"121.149397\"/>\n      </g>\n     </g>\n    </g>\n    <g id=\"ytick_32\">\n     <g id=\"line2d_37\">\n      <g>\n       <use style=\"stroke:#000000;stroke-width:0.6;\" x=\"37.7\" xlink:href=\"#m5a69c74040\" y=\"119.124668\"/>\n      </g>\n     </g>\n    </g>\n    <g id=\"ytick_33\">\n     <g id=\"line2d_38\">\n      <g>\n       <use style=\"stroke:#000000;stroke-width:0.6;\" x=\"37.7\" xlink:href=\"#m5a69c74040\" y=\"117.33873\"/>\n      </g>\n     </g>\n    </g>\n    <g id=\"ytick_34\">\n     <g id=\"line2d_39\">\n      <g>\n       <use style=\"stroke:#000000;stroke-width:0.6;\" x=\"37.7\" xlink:href=\"#m5a69c74040\" y=\"105.230999\"/>\n      </g>\n     </g>\n    </g>\n    <g id=\"ytick_35\">\n     <g id=\"line2d_40\">\n      <g>\n       <use style=\"stroke:#000000;stroke-width:0.6;\" x=\"37.7\" xlink:href=\"#m5a69c74040\" y=\"99.082953\"/>\n      </g>\n     </g>\n    </g>\n    <g id=\"ytick_36\">\n     <g id=\"line2d_41\">\n      <g>\n       <use style=\"stroke:#000000;stroke-width:0.6;\" x=\"37.7\" xlink:href=\"#m5a69c74040\" y=\"94.720844\"/>\n      </g>\n     </g>\n    </g>\n    <g id=\"ytick_37\">\n     <g id=\"line2d_42\">\n      <g>\n       <use style=\"stroke:#000000;stroke-width:0.6;\" x=\"37.7\" xlink:href=\"#m5a69c74040\" y=\"91.33733\"/>\n      </g>\n     </g>\n    </g>\n    <g id=\"ytick_38\">\n     <g id=\"line2d_43\">\n      <g>\n       <use style=\"stroke:#000000;stroke-width:0.6;\" x=\"37.7\" xlink:href=\"#m5a69c74040\" y=\"88.572798\"/>\n      </g>\n     </g>\n    </g>\n    <g id=\"ytick_39\">\n     <g id=\"line2d_44\">\n      <g>\n       <use style=\"stroke:#000000;stroke-width:0.6;\" x=\"37.7\" xlink:href=\"#m5a69c74040\" y=\"86.235419\"/>\n      </g>\n     </g>\n    </g>\n    <g id=\"ytick_40\">\n     <g id=\"line2d_45\">\n      <g>\n       <use style=\"stroke:#000000;stroke-width:0.6;\" x=\"37.7\" xlink:href=\"#m5a69c74040\" y=\"84.21069\"/>\n      </g>\n     </g>\n    </g>\n    <g id=\"ytick_41\">\n     <g id=\"line2d_46\">\n      <g>\n       <use style=\"stroke:#000000;stroke-width:0.6;\" x=\"37.7\" xlink:href=\"#m5a69c74040\" y=\"82.424751\"/>\n      </g>\n     </g>\n    </g>\n    <g id=\"ytick_42\">\n     <g id=\"line2d_47\">\n      <g>\n       <use style=\"stroke:#000000;stroke-width:0.6;\" x=\"37.7\" xlink:href=\"#m5a69c74040\" y=\"70.317021\"/>\n      </g>\n     </g>\n    </g>\n    <g id=\"ytick_43\">\n     <g id=\"line2d_48\">\n      <g>\n       <use style=\"stroke:#000000;stroke-width:0.6;\" x=\"37.7\" xlink:href=\"#m5a69c74040\" y=\"64.168974\"/>\n      </g>\n     </g>\n    </g>\n    <g id=\"ytick_44\">\n     <g id=\"line2d_49\">\n      <g>\n       <use style=\"stroke:#000000;stroke-width:0.6;\" x=\"37.7\" xlink:href=\"#m5a69c74040\" y=\"59.806866\"/>\n      </g>\n     </g>\n    </g>\n    <g id=\"ytick_45\">\n     <g id=\"line2d_50\">\n      <g>\n       <use style=\"stroke:#000000;stroke-width:0.6;\" x=\"37.7\" xlink:href=\"#m5a69c74040\" y=\"56.423352\"/>\n      </g>\n     </g>\n    </g>\n    <g id=\"ytick_46\">\n     <g id=\"line2d_51\">\n      <g>\n       <use style=\"stroke:#000000;stroke-width:0.6;\" x=\"37.7\" xlink:href=\"#m5a69c74040\" y=\"53.65882\"/>\n      </g>\n     </g>\n    </g>\n    <g id=\"ytick_47\">\n     <g id=\"line2d_52\">\n      <g>\n       <use style=\"stroke:#000000;stroke-width:0.6;\" x=\"37.7\" xlink:href=\"#m5a69c74040\" y=\"51.321441\"/>\n      </g>\n     </g>\n    </g>\n    <g id=\"ytick_48\">\n     <g id=\"line2d_53\">\n      <g>\n       <use style=\"stroke:#000000;stroke-width:0.6;\" x=\"37.7\" xlink:href=\"#m5a69c74040\" y=\"49.296711\"/>\n      </g>\n     </g>\n    </g>\n    <g id=\"ytick_49\">\n     <g id=\"line2d_54\">\n      <g>\n       <use style=\"stroke:#000000;stroke-width:0.6;\" x=\"37.7\" xlink:href=\"#m5a69c74040\" y=\"47.510773\"/>\n      </g>\n     </g>\n    </g>\n    <g id=\"ytick_50\">\n     <g id=\"line2d_55\">\n      <g>\n       <use style=\"stroke:#000000;stroke-width:0.6;\" x=\"37.7\" xlink:href=\"#m5a69c74040\" y=\"35.403042\"/>\n      </g>\n     </g>\n    </g>\n    <g id=\"ytick_51\">\n     <g id=\"line2d_56\">\n      <g>\n       <use style=\"stroke:#000000;stroke-width:0.6;\" x=\"37.7\" xlink:href=\"#m5a69c74040\" y=\"29.254996\"/>\n      </g>\n     </g>\n    </g>\n    <g id=\"ytick_52\">\n     <g id=\"line2d_57\">\n      <g>\n       <use style=\"stroke:#000000;stroke-width:0.6;\" x=\"37.7\" xlink:href=\"#m5a69c74040\" y=\"24.892888\"/>\n      </g>\n     </g>\n    </g>\n    <g id=\"ytick_53\">\n     <g id=\"line2d_58\">\n      <g>\n       <use style=\"stroke:#000000;stroke-width:0.6;\" x=\"37.7\" xlink:href=\"#m5a69c74040\" y=\"21.509373\"/>\n      </g>\n     </g>\n    </g>\n    <g id=\"ytick_54\">\n     <g id=\"line2d_59\">\n      <g>\n       <use style=\"stroke:#000000;stroke-width:0.6;\" x=\"37.7\" xlink:href=\"#m5a69c74040\" y=\"18.744841\"/>\n      </g>\n     </g>\n    </g>\n    <g id=\"ytick_55\">\n     <g id=\"line2d_60\">\n      <g>\n       <use style=\"stroke:#000000;stroke-width:0.6;\" x=\"37.7\" xlink:href=\"#m5a69c74040\" y=\"16.407462\"/>\n      </g>\n     </g>\n    </g>\n    <g id=\"ytick_56\">\n     <g id=\"line2d_61\">\n      <g>\n       <use style=\"stroke:#000000;stroke-width:0.6;\" x=\"37.7\" xlink:href=\"#m5a69c74040\" y=\"14.382733\"/>\n      </g>\n     </g>\n    </g>\n    <g id=\"ytick_57\">\n     <g id=\"line2d_62\">\n      <g>\n       <use style=\"stroke:#000000;stroke-width:0.6;\" x=\"37.7\" xlink:href=\"#m5a69c74040\" y=\"12.596795\"/>\n      </g>\n     </g>\n    </g>\n   </g>\n   <g id=\"line2d_63\">\n    <path clip-path=\"url(#p38d032de71)\" d=\"M 52.918182 17.415206 \nL 53.132699 17.425376 \nL 55.06335 17.566809 \nL 55.563889 18.243648 \nL 55.814159 18.597658 \nL 56.171687 19.466529 \nL 56.707979 21.330108 \nL 57.887822 24.230733 \nL 58.138091 24.995204 \nL 58.209597 25.181581 \nL 59.031912 27.478754 \nL 59.103417 27.550408 \nL 59.38944 28.49484 \nL 59.532451 28.8486 \nL 59.889979 29.85475 \nL 59.961485 29.922655 \nL 60.247507 30.657771 \nL 60.390518 31.042165 \nL 60.426271 31.025393 \nL 60.533529 31.257671 \nL 60.748046 31.851302 \nL 61.284338 32.99241 \nL 61.713372 33.901992 \nL 61.927889 34.440605 \nL 61.999395 34.57432 \nL 62.035147 34.658144 \nL 62.0709 34.616105 \nL 62.142406 34.059457 \nL 62.178159 34.563097 \nL 62.535687 35.455669 \nL 62.607192 35.583958 \nL 64.287574 38.550044 \nL 64.323327 38.350707 \nL 64.35908 38.203494 \nL 64.394833 38.367946 \nL 64.537844 38.992217 \nL 64.645102 39.074239 \nL 64.823866 39.481494 \nL 64.859619 39.494635 \nL 65.074136 39.968641 \nL 65.145641 40.061088 \nL 65.395911 40.426771 \nL 65.431664 40.366101 \nL 65.503169 40.260586 \nL 65.681934 40.938446 \nL 65.717686 40.77669 \nL 65.753439 40.952194 \nL 65.89645 41.307476 \nL 65.932203 41.270051 \nL 66.253978 41.832918 \nL 66.432742 41.760849 \nL 66.718765 42.611635 \nL 66.79027 42.585691 \nL 67.076293 43.211385 \nL 67.433821 43.725466 \nL 67.469574 43.695769 \nL 67.576832 43.230725 \nL 67.755596 43.977556 \nL 67.93436 44.459465 \nL 68.041619 44.613423 \nL 68.220383 44.938079 \nL 68.863933 45.684899 \nL 69.006944 45.908437 \nL 69.07845 46.27185 \nL 69.114203 46.156124 \nL 69.149956 46.100156 \nL 69.364473 46.721069 \nL 69.435978 46.714498 \nL 69.686248 47.121058 \nL 69.936517 47.372038 \nL 70.115281 47.720894 \nL 70.258293 48.060593 \nL 70.294045 48.050543 \nL 70.472809 48.253991 \nL 70.508562 48.09068 \nL 70.580068 47.694715 \nL 70.651574 48.508869 \nL 70.723079 48.494342 \nL 71.259371 49.459897 \nL 71.581146 49.737472 \nL 71.688405 50.154125 \nL 71.759911 50.069327 \nL 72.117439 50.792342 \nL 72.188944 50.678698 \nL 72.224697 50.590265 \nL 72.26045 50.722809 \nL 72.296203 50.816861 \nL 72.331955 50.720646 \nL 72.367708 50.645036 \nL 72.546472 51.338914 \nL 72.796742 51.749346 \nL 72.975506 52.008795 \nL 73.15427 52.101714 \nL 73.261528 52.185628 \nL 73.511798 52.708332 \nL 73.547551 52.593537 \nL 73.583304 52.551493 \nL 73.619056 52.621805 \nL 73.79782 53.267584 \nL 73.833573 53.247997 \nL 73.940832 53.192449 \nL 74.155349 53.726694 \nL 74.191101 53.62023 \nL 74.262607 53.365451 \nL 74.29836 53.462914 \nL 74.369865 54.106578 \nL 74.441371 53.798569 \nL 74.548629 54.187944 \nL 74.584382 54.125393 \nL 74.727393 53.928917 \nL 74.763146 53.878075 \nL 74.94191 54.840098 \nL 74.977663 54.812783 \nL 75.084921 54.842374 \nL 75.44245 55.473497 \nL 75.585461 55.234325 \nL 75.621214 55.104857 \nL 75.656966 55.154179 \nL 75.764225 56.057972 \nL 75.83573 55.755201 \nL 75.871483 55.696392 \nL 76.121753 56.437712 \nL 76.264764 56.717777 \nL 76.479281 56.917462 \nL 76.515034 56.888417 \nL 76.586539 56.747136 \nL 76.693798 55.80873 \nL 76.729551 56.386767 \nL 76.801056 57.182429 \nL 76.836809 56.865696 \nL 76.872562 56.736416 \nL 77.051326 57.442864 \nL 77.373101 58.151552 \nL 77.623371 58.314211 \nL 77.730629 58.119377 \nL 77.766382 58.221601 \nL 77.837888 58.674924 \nL 77.909393 58.646523 \nL 78.266921 59.228898 \nL 78.302674 59.207625 \nL 78.37418 59.164788 \nL 78.481438 58.725412 \nL 78.517191 58.893019 \nL 78.588696 59.654079 \nL 78.660202 59.596398 \nL 78.803213 59.79792 \nL 79.01773 60.201303 \nL 79.089236 60.152984 \nL 79.124989 60.211641 \nL 79.303753 60.323718 \nL 79.375258 60.168351 \nL 79.411011 60.232359 \nL 79.697033 61.044382 \nL 79.768539 60.971358 \nL 79.840045 60.88661 \nL 79.875797 60.985952 \nL 80.16182 61.558854 \nL 80.269078 61.374957 \nL 80.41209 62.041458 \nL 80.483595 61.925496 \nL 80.662359 60.954189 \nL 80.698112 61.011863 \nL 80.876876 62.312873 \nL 80.912629 62.338954 \nL 80.948382 62.122465 \nL 80.984134 62.37009 \nL 81.127146 62.751651 \nL 81.162898 62.726982 \nL 81.377415 63.339086 \nL 81.663438 63.434155 \nL 81.770696 62.964809 \nL 81.842202 62.682187 \nL 81.94946 63.960484 \nL 82.020966 63.727197 \nL 82.092471 63.568497 \nL 82.128224 63.717022 \nL 82.235483 64.290619 \nL 82.271235 64.253222 \nL 82.342741 64.00662 \nL 82.378494 64.09728 \nL 82.485752 64.4937 \nL 82.557258 64.421638 \nL 82.771775 64.740793 \nL 82.950539 65.240189 \nL 83.022044 65.337275 \nL 83.057797 65.262961 \nL 83.165056 64.979983 \nL 83.200808 65.004639 \nL 83.379572 65.710409 \nL 83.451078 65.358904 \nL 83.594089 63.524395 \nL 83.629842 64.298126 \nL 83.701348 65.257363 \nL 83.772853 64.97232 \nL 83.98737 66.374273 \nL 84.058876 66.080689 \nL 84.094629 66.332271 \nL 84.201887 66.638014 \nL 84.487909 67.080061 \nL 84.523662 67.052416 \nL 84.559415 67.149141 \nL 84.666673 67.118007 \nL 84.738179 66.831556 \nL 84.845437 66.314514 \nL 84.952696 67.5851 \nL 84.988449 67.409122 \nL 85.024201 67.237957 \nL 85.059954 67.248856 \nL 85.167213 67.839675 \nL 85.202966 67.757243 \nL 85.238718 67.714628 \nL 85.274471 67.822042 \nL 85.453235 68.164171 \nL 85.953774 68.692876 \nL 86.02528 68.181934 \nL 86.132538 64.606008 \nL 86.168291 65.809596 \nL 86.204044 68.702037 \nL 86.27555 65.783329 \nL 86.347055 68.736299 \nL 86.418561 67.937493 \nL 86.561572 69.233154 \nL 86.597325 68.618233 \nL 86.633078 68.827262 \nL 86.776089 69.582525 \nL 86.811842 69.405006 \nL 86.847595 69.496071 \nL 86.990606 69.902585 \nL 87.026359 69.835461 \nL 87.062111 69.989779 \nL 87.312381 70.387186 \nL 87.491145 70.181058 \nL 87.598404 69.059897 \nL 87.634156 69.353651 \nL 87.705662 70.757496 \nL 87.741415 70.542666 \nL 87.777168 70.017448 \nL 87.81292 70.094963 \nL 87.884426 70.927203 \nL 87.920179 70.695962 \nL 87.955932 70.543135 \nL 87.991684 70.766195 \nL 88.06319 71.120942 \nL 88.134696 71.04649 \nL 88.31346 71.435157 \nL 88.778246 71.994338 \nL 88.813999 71.933934 \nL 88.885505 71.367788 \nL 88.95701 69.764861 \nL 88.992763 70.007873 \nL 89.064269 71.827227 \nL 89.135774 71.476629 \nL 89.314538 72.329165 \nL 89.529055 72.608432 \nL 89.743572 72.989315 \nL 89.815077 73.093959 \nL 90.1011 73.467354 \nL 90.208358 73.33733 \nL 90.315617 71.865618 \nL 90.35137 71.423295 \nL 90.387122 71.741876 \nL 90.458628 73.313548 \nL 90.494381 72.742108 \nL 90.530134 72.546276 \nL 90.601639 73.701202 \nL 90.673145 73.158724 \nL 90.74465 73.957241 \nL 90.780403 73.659665 \nL 90.816156 73.651733 \nL 90.887662 74.136264 \nL 90.959167 74.044917 \nL 90.99492 74.307336 \nL 91.066426 74.094464 \nL 91.137931 74.320899 \nL 91.173684 74.151198 \nL 91.352448 72.545007 \nL 91.388201 72.662974 \nL 91.531212 74.788485 \nL 91.566965 74.370878 \nL 91.602718 73.922089 \nL 91.674223 74.360157 \nL 91.781482 75.137448 \nL 91.817235 74.953722 \nL 91.88874 74.726798 \nL 91.924493 74.747821 \nL 92.13901 75.507609 \nL 92.425032 75.496787 \nL 92.496538 75.566943 \nL 92.532291 75.489782 \nL 92.639549 74.878307 \nL 92.711055 74.399827 \nL 92.746808 74.730971 \nL 92.854066 76.216335 \nL 92.889819 75.969893 \nL 92.961324 75.587659 \nL 92.997077 75.828617 \nL 93.068583 76.418287 \nL 93.104336 76.30938 \nL 93.247347 74.988247 \nL 93.354605 72.710564 \nL 93.390358 73.988935 \nL 93.461864 76.429918 \nL 93.497616 75.453203 \nL 93.533369 74.570567 \nL 93.569122 75.056352 \nL 93.640628 76.621847 \nL 93.676381 76.085778 \nL 93.712133 75.784934 \nL 93.747886 76.027498 \nL 93.819392 76.87533 \nL 93.855145 76.700338 \nL 93.890897 76.459297 \nL 93.92665 76.694583 \nL 94.069661 77.189199 \nL 94.105414 77.465236 \nL 94.17692 77.334848 \nL 94.355684 77.596506 \nL 94.427189 77.076959 \nL 94.534448 74.74877 \nL 94.570201 75.139294 \nL 94.641706 77.32271 \nL 94.713212 76.7892 \nL 94.856223 77.665183 \nL 94.891976 77.546847 \nL 94.927729 77.565756 \nL 95.106493 78.360021 \nL 95.678538 79.041897 \nL 95.750043 78.933562 \nL 95.857302 77.777071 \nL 95.96456 75.606489 \nL 96.000313 76.268745 \nL 96.071819 79.294453 \nL 96.143324 77.965756 \nL 96.179077 77.435457 \nL 96.21483 78.037873 \nL 96.286335 79.578551 \nL 96.322088 79.027509 \nL 96.357841 78.4685 \nL 96.393594 78.551725 \nL 96.500852 79.761821 \nL 96.536605 79.537404 \nL 96.608111 79.220963 \nL 96.643863 79.51125 \nL 96.715369 80.149248 \nL 96.751122 80.044331 \nL 96.822627 79.80895 \nL 96.85838 79.949625 \nL 97.001391 80.38164 \nL 97.251661 79.452328 \nL 97.35892 77.949779 \nL 97.394672 78.852155 \nL 97.466178 80.067225 \nL 97.501931 79.483851 \nL 97.537684 79.099512 \nL 97.573436 79.623326 \nL 97.644942 80.414504 \nL 97.680695 80.031482 \nL 97.716448 79.96848 \nL 97.787953 80.973162 \nL 97.859459 80.7731 \nL 97.895212 80.752098 \nL 98.00247 81.324717 \nL 98.109728 81.241111 \nL 98.216987 81.585584 \nL 98.25274 81.449586 \nL 98.359998 80.887531 \nL 98.503009 75.706089 \nL 98.538762 76.841904 \nL 98.610268 80.433599 \nL 98.646021 79.541258 \nL 98.681773 79.05876 \nL 98.717526 79.535631 \nL 98.789032 81.06575 \nL 98.824785 80.601075 \nL 98.860537 80.078552 \nL 98.89629 81.160651 \nL 98.967796 80.921053 \nL 99.039301 81.765775 \nL 99.075054 81.007818 \nL 99.110807 81.740759 \nL 99.253818 82.283671 \nL 99.289571 81.922016 \nL 99.325324 82.336065 \nL 99.396829 82.303685 \nL 99.468335 82.759181 \nL 99.504088 82.541773 \nL 99.539841 82.685687 \nL 99.682852 83.023029 \nL 99.718605 82.96551 \nL 99.933122 83.241805 \nL 100.111886 83.198403 \nL 100.183391 82.821358 \nL 100.326402 80.528125 \nL 100.362155 81.11385 \nL 100.433661 83.234582 \nL 100.505166 82.510424 \nL 100.540919 82.113584 \nL 100.576672 82.586769 \nL 100.648178 83.53463 \nL 100.68393 83.232345 \nL 100.719683 83.039642 \nL 100.791189 83.148906 \nL 100.898447 82.899871 \nL 101.041459 81.445961 \nL 101.077211 81.840696 \nL 101.255975 84.108734 \nL 101.327481 83.576574 \nL 101.363234 83.400656 \nL 101.398987 83.427287 \nL 101.577751 84.628316 \nL 101.685009 84.47648 \nL 101.863773 84.459439 \nL 101.935279 84.47301 \nL 102.221301 85.171202 \nL 102.435818 85.057295 \nL 102.543076 84.508543 \nL 102.72184 81.676274 \nL 102.829099 77.569391 \nL 102.864852 78.180942 \nL 102.936357 82.788675 \nL 103.007863 81.096223 \nL 103.079368 83.178278 \nL 103.150874 82.898314 \nL 103.329638 85.013731 \nL 103.365391 84.963366 \nL 103.401144 84.074206 \nL 103.436897 85.144216 \nL 103.508402 85.137415 \nL 103.579908 85.683106 \nL 104.330717 87.143905 \nL 104.437975 86.677702 \nL 104.545233 83.753893 \nL 104.616739 81.756889 \nL 104.652492 83.482291 \nL 104.723998 87.24949 \nL 104.75975 85.607037 \nL 104.795503 84.345338 \nL 104.831256 85.156317 \nL 104.902762 87.127136 \nL 104.938514 86.282258 \nL 104.974267 85.83311 \nL 105.01002 86.369555 \nL 105.081526 87.406839 \nL 105.117278 87.142052 \nL 105.153031 86.851071 \nL 105.188784 86.920267 \nL 105.26029 87.898407 \nL 105.331795 87.515632 \nL 105.367548 87.42489 \nL 105.474806 88.179704 \nL 105.546312 88.053014 \nL 105.689323 88.348737 \nL 105.760829 88.528543 \nL 105.832335 88.465751 \nL 105.939593 88.617482 \nL 106.15411 88.891978 \nL 106.404379 88.989559 \nL 106.511638 88.816499 \nL 106.618896 87.969958 \nL 106.904919 82.805766 \nL 106.940671 84.614782 \nL 107.012177 88.695964 \nL 107.04793 87.388246 \nL 107.083683 86.158092 \nL 107.119436 86.295652 \nL 107.226694 88.748008 \nL 107.262447 88.000859 \nL 107.2982 87.661855 \nL 107.476964 89.292212 \nL 107.548469 89.071524 \nL 107.727233 90.012726 \nL 107.762986 90.007245 \nL 107.798739 89.860582 \nL 107.834492 89.990393 \nL 108.120514 90.54502 \nL 108.156267 90.496843 \nL 108.335031 90.643092 \nL 108.370784 90.601752 \nL 108.442289 90.000265 \nL 108.585301 86.33449 \nL 108.621053 86.75908 \nL 108.692559 89.41271 \nL 108.764065 88.303523 \nL 108.799817 88.039194 \nL 108.83557 88.364588 \nL 109.121593 91.015929 \nL 109.157345 91.008694 \nL 109.193098 90.848146 \nL 109.264604 90.982129 \nL 109.300357 91.008893 \nL 109.371862 91.277952 \nL 109.407615 91.109501 \nL 109.622132 88.335593 \nL 109.72939 86.587735 \nL 109.836649 91.522173 \nL 109.908154 90.357515 \nL 109.943907 89.476004 \nL 110.015413 90.373085 \nL 110.086918 91.555003 \nL 110.158424 91.337878 \nL 110.22993 91.083208 \nL 110.265682 91.323239 \nL 110.480199 92.22293 \nL 110.587458 92.414367 \nL 110.62321 92.376843 \nL 110.909233 91.256414 \nL 111.052244 89.24107 \nL 111.087997 89.538739 \nL 111.231008 92.639917 \nL 111.302514 92.249021 \nL 111.409772 91.515417 \nL 111.445525 91.754644 \nL 111.517031 92.053264 \nL 111.552783 91.834756 \nL 111.803053 88.198198 \nL 111.838806 88.997837 \nL 111.946064 92.608655 \nL 111.981817 92.014912 \nL 112.01757 91.707395 \nL 112.053323 91.917075 \nL 112.26784 93.705453 \nL 112.303592 93.323413 \nL 112.339345 93.070636 \nL 112.375098 93.232168 \nL 112.410851 93.477656 \nL 112.482356 93.266574 \nL 112.553862 93.495573 \nL 112.589615 93.660021 \nL 112.625368 93.623306 \nL 112.804132 92.206033 \nL 112.91139 90.581477 \nL 112.947143 91.028177 \nL 113.090154 93.338531 \nL 113.125907 93.261031 \nL 113.197413 92.588785 \nL 113.233165 92.63129 \nL 113.304671 93.441001 \nL 113.340424 93.229693 \nL 113.554941 90.615476 \nL 113.876716 94.257912 \nL 113.948221 93.551171 \nL 113.983974 93.716582 \nL 114.198491 94.881758 \nL 114.413008 93.443999 \nL 114.591772 90.294996 \nL 114.627525 90.972206 \nL 114.734783 95.702453 \nL 114.770536 95.178887 \nL 114.842042 93.413583 \nL 114.913547 94.060411 \nL 115.020806 95.957208 \nL 115.092311 95.468907 \nL 115.414086 91.207239 \nL 115.485592 89.124863 \nL 115.521345 90.00537 \nL 115.592851 95.532876 \nL 115.664356 93.288465 \nL 115.700109 92.906342 \nL 115.807367 95.225376 \nL 115.84312 94.970234 \nL 115.914626 94.481684 \nL 115.950379 94.858309 \nL 116.021884 95.589278 \nL 116.057637 95.25584 \nL 116.09339 95.077852 \nL 116.164895 95.86007 \nL 116.236401 95.468562 \nL 116.272154 95.516592 \nL 116.343659 96.075604 \nL 116.379412 95.896184 \nL 116.450918 95.671777 \nL 116.486671 95.718984 \nL 116.522423 95.765035 \nL 116.701187 94.668761 \nL 116.808446 94.259718 \nL 116.844199 94.297597 \nL 117.022963 97.130203 \nL 117.094468 96.586104 \nL 117.273232 91.495216 \nL 117.308985 92.491061 \nL 117.416244 97.058267 \nL 117.451996 95.973399 \nL 117.487749 95.377452 \nL 117.523502 95.720178 \nL 117.702266 97.400061 \nL 117.773772 97.00574 \nL 117.809524 97.268617 \nL 117.88103 97.609807 \nL 117.916783 97.349977 \nL 118.024041 95.352949 \nL 118.167053 88.421034 \nL 118.202805 90.03183 \nL 118.274311 97.296458 \nL 118.345817 94.296437 \nL 118.381569 93.76925 \nL 118.417322 94.777574 \nL 118.560333 96.42398 \nL 118.596086 96.314254 \nL 118.631839 95.941354 \nL 118.703345 97.85489 \nL 118.77485 96.99237 \nL 118.953614 98.547255 \nL 118.989367 98.368529 \nL 119.02512 98.075771 \nL 119.060873 98.572238 \nL 119.203884 99.011322 \nL 119.27539 98.940079 \nL 119.346895 99.120651 \nL 119.454154 98.077008 \nL 119.597165 93.310639 \nL 119.632918 92.463748 \nL 119.66867 93.096878 \nL 119.775929 97.499872 \nL 119.811682 96.475639 \nL 119.847434 95.667653 \nL 119.883187 95.725448 \nL 119.990446 98.540601 \nL 120.061951 97.725518 \nL 120.097704 97.893914 \nL 120.16921 99.376938 \nL 120.240715 98.874382 \nL 120.276468 98.697396 \nL 120.312221 98.798022 \nL 120.419479 99.928828 \nL 120.490985 99.468166 \nL 120.526738 99.403769 \nL 120.562491 99.535805 \nL 120.598243 99.527575 \nL 120.705502 98.209114 \nL 120.884266 93.383353 \nL 120.920019 94.733006 \nL 121.06303 99.296257 \nL 121.098783 98.962698 \nL 121.170288 97.672073 \nL 121.206041 98.026499 \nL 121.313299 100.447297 \nL 121.384805 100.392885 \nL 121.420558 100.428144 \nL 121.527816 99.405452 \nL 121.563569 99.676106 \nL 121.778086 101.130508 \nL 121.813839 101.152511 \nL 121.95685 100.472399 \nL 122.064108 97.537597 \nL 122.171367 94.228477 \nL 122.20712 95.366353 \nL 122.278625 98.633707 \nL 122.350131 97.92033 \nL 122.385884 97.595867 \nL 122.421636 97.733333 \nL 122.493142 98.743993 \nL 122.528895 97.939958 \nL 122.6004 95.322657 \nL 122.671906 95.734407 \nL 122.707659 95.67947 \nL 122.743412 95.170669 \nL 122.779164 95.295901 \nL 122.886423 101.278326 \nL 122.922176 99.646637 \nL 122.957929 98.888585 \nL 122.993681 99.508725 \nL 123.458468 102.251757 \nL 123.529973 101.908881 \nL 123.565726 102.22549 \nL 123.601479 102.250107 \nL 123.815996 99.473596 \nL 123.99476 95.128448 \nL 124.030513 96.5069 \nL 124.137771 101.522607 \nL 124.173524 100.97317 \nL 124.24503 98.564578 \nL 124.280782 99.05554 \nL 124.459546 102.382602 \nL 124.602558 101.424426 \nL 124.63831 101.557302 \nL 124.781322 102.937883 \nL 124.852827 102.211298 \nL 125.031591 101.183843 \nL 125.067344 101.175658 \nL 125.13885 100.945584 \nL 125.174602 101.088795 \nL 125.281861 101.965674 \nL 125.317614 101.735871 \nL 125.603636 95.697929 \nL 125.639389 97.41688 \nL 125.710895 100.541643 \nL 125.7824 99.692474 \nL 126.068423 103.559021 \nL 126.104175 103.155371 \nL 126.139928 103.312891 \nL 126.211434 103.669661 \nL 126.247187 103.430917 \nL 126.497456 104.769608 \nL 126.604715 104.735743 \nL 126.640468 104.724725 \nL 126.747726 103.495222 \nL 126.854984 96.193409 \nL 126.92649 89.600904 \nL 126.962243 90.95305 \nL 127.141007 99.510637 \nL 127.212512 96.418956 \nL 127.284018 102.89369 \nL 127.319771 98.672168 \nL 127.498535 104.19396 \nL 127.534288 101.94006 \nL 127.605793 104.065774 \nL 127.641546 103.343906 \nL 127.677299 104.398838 \nL 127.713052 105.085821 \nL 127.748805 104.205463 \nL 127.784557 104.56984 \nL 127.856063 104.375248 \nL 127.927569 105.31855 \nL 128.07058 104.683724 \nL 128.106333 104.760831 \nL 128.142085 104.701153 \nL 128.320849 100.762174 \nL 128.428108 97.45419 \nL 128.463861 98.113781 \nL 128.606872 105.998446 \nL 128.642625 104.810625 \nL 128.749883 101.930613 \nL 128.785636 102.764442 \nL 128.892894 106.096803 \nL 128.928647 105.950234 \nL 129.071658 103.596956 \nL 129.107411 103.731884 \nL 129.21467 104.54766 \nL 129.250422 104.192991 \nL 129.429186 98.66843 \nL 129.464939 99.390763 \nL 129.572198 106.195388 \nL 129.643703 104.47615 \nL 129.715209 102.967209 \nL 129.750962 104.077694 \nL 129.822467 106.258156 \nL 129.85822 105.949069 \nL 129.929726 105.227413 \nL 129.965478 105.707682 \nL 130.036984 106.678346 \nL 130.10849 106.388529 \nL 130.215748 106.679555 \nL 130.251501 106.460918 \nL 130.358759 104.93825 \nL 130.537523 96.786377 \nL 130.573276 97.654148 \nL 130.680535 102.648345 \nL 130.716287 101.605439 \nL 130.787793 99.814615 \nL 130.823546 101.609272 \nL 130.895051 105.31064 \nL 130.966557 104.208645 \nL 131.073815 105.216684 \nL 131.145321 107.142352 \nL 131.181074 106.716428 \nL 131.216827 105.842025 \nL 131.288332 106.73908 \nL 131.324085 107.418038 \nL 131.395591 107.300055 \nL 131.467096 107.079852 \nL 131.502849 107.151479 \nL 131.574355 107.933364 \nL 131.610108 107.888347 \nL 131.788872 104.3891 \nL 131.967636 96.397091 \nL 132.003388 98.330902 \nL 132.110647 107.931123 \nL 132.1464 105.66385 \nL 132.217905 102.16734 \nL 132.253658 103.363138 \nL 132.360916 107.602959 \nL 132.396669 106.691691 \nL 132.468175 105.583461 \nL 132.503928 106.396758 \nL 132.575433 108.175955 \nL 132.611186 107.838161 \nL 132.682692 107.076985 \nL 132.718445 107.413945 \nL 132.825703 109.063588 \nL 132.861456 108.964382 \nL 132.968714 108.218443 \nL 133.004467 108.406289 \nL 133.075973 108.674947 \nL 133.111725 108.449118 \nL 133.361995 103.54304 \nL 133.433501 104.837849 \nL 133.612265 108.365269 \nL 133.648017 107.948408 \nL 133.93404 96.999604 \nL 134.005546 100.372919 \nL 134.077051 107.713265 \nL 134.112804 105.736221 \nL 134.18431 103.319034 \nL 134.220062 104.761854 \nL 134.363074 107.934141 \nL 134.398826 107.413047 \nL 134.470332 106.457459 \nL 134.506085 107.286079 \nL 134.649096 109.467149 \nL 134.684849 109.367068 \nL 134.756354 108.963642 \nL 134.792107 109.287388 \nL 134.970871 110.068042 \nL 135.042377 110.211856 \nL 135.07813 110.116321 \nL 135.292647 108.893625 \nL 135.542916 106.836537 \nL 135.578669 106.893741 \nL 135.614422 106.856482 \nL 135.72168 105.493179 \nL 136.043455 99.86451 \nL 136.114961 101.077142 \nL 136.222219 108.858861 \nL 136.293725 105.91404 \nL 136.329478 104.934893 \nL 136.365231 106.555121 \nL 136.436736 109.355549 \nL 136.472489 108.317712 \nL 136.508242 108.363486 \nL 136.722759 111.039462 \nL 136.794264 110.113018 \nL 136.830017 110.864007 \nL 136.86577 111.369046 \nL 136.901523 110.915082 \nL 136.937276 110.449577 \nL 136.973028 110.85538 \nL 137.008781 111.154599 \nL 137.044534 110.638383 \nL 137.223298 102.963819 \nL 137.330556 96.637543 \nL 137.366309 98.228282 \nL 137.473568 108.684997 \nL 137.509321 105.38441 \nL 137.545073 102.653031 \nL 137.580826 102.760149 \nL 137.688085 111.054952 \nL 137.723837 108.982596 \nL 137.795343 106.386402 \nL 137.831096 108.216615 \nL 137.902601 111.346167 \nL 137.974107 110.080756 \nL 138.00986 109.225754 \nL 138.045613 109.437731 \nL 138.152871 112.479798 \nL 138.188624 111.769624 \nL 138.260129 111.232464 \nL 138.295882 111.434901 \nL 138.438893 112.80976 \nL 138.510399 112.685857 \nL 138.617657 112.220561 \nL 138.65341 112.296733 \nL 138.724916 112.655261 \nL 138.760669 112.51619 \nL 138.867927 109.739154 \nL 139.046691 95.442341 \nL 139.118197 98.975178 \nL 139.189702 108.29875 \nL 139.261208 104.194746 \nL 139.296961 103.423702 \nL 139.404219 110.286844 \nL 139.439972 108.8376 \nL 139.475725 106.568408 \nL 139.511478 107.428974 \nL 139.582983 112.227663 \nL 139.654489 109.5089 \nL 139.690242 109.546778 \nL 139.761747 112.769055 \nL 139.833253 111.443413 \nL 139.976264 112.584092 \nL 140.083523 113.489793 \nL 140.119275 113.159447 \nL 140.155028 113.026925 \nL 140.262287 113.998436 \nL 140.298039 113.768819 \nL 140.405298 113.607159 \nL 140.512556 110.958691 \nL 140.69132 101.33744 \nL 140.727073 104.170576 \nL 140.834331 112.169752 \nL 140.870084 110.063974 \nL 140.977343 108.195773 \nL 141.013095 108.427974 \nL 141.048848 108.378382 \nL 141.084601 108.724816 \nL 141.227612 100.564585 \nL 141.299118 104.553371 \nL 141.406376 110.559743 \nL 141.442129 108.701399 \nL 141.513635 106.400086 \nL 141.58514 111.479022 \nL 141.656646 109.580649 \nL 141.692399 109.629672 \nL 141.871163 114.04611 \nL 141.906916 113.158486 \nL 141.942668 112.718178 \nL 141.978421 113.201684 \nL 142.049927 114.816838 \nL 142.08568 114.638077 \nL 142.157185 113.941982 \nL 142.192938 114.020282 \nL 142.300196 114.35246 \nL 142.335949 114.332273 \nL 142.550466 111.244922 \nL 142.72923 108.913138 \nL 142.764983 108.921577 \nL 142.836489 107.512232 \nL 142.9795 103.284448 \nL 143.015253 104.155195 \nL 143.158264 110.786556 \nL 143.229769 110.217854 \nL 143.301275 111.647716 \nL 143.372781 112.328203 \nL 143.408533 112.013594 \nL 143.444286 112.108548 \nL 143.551545 115.185063 \nL 143.587298 114.332599 \nL 143.62305 113.532937 \nL 143.658803 113.963127 \nL 143.730309 115.983183 \nL 143.801814 115.315191 \nL 143.837567 115.107798 \nL 143.87332 115.493478 \nL 143.944826 116.521619 \nL 144.016331 116.166788 \nL 144.159342 115.634469 \nL 144.266601 112.545703 \nL 144.445365 96.020878 \nL 144.51687 102.59343 \nL 144.588376 108.300564 \nL 144.659882 107.825453 \nL 144.695634 106.915475 \nL 144.731387 106.961287 \nL 144.981657 114.139962 \nL 145.01741 112.480507 \nL 145.053163 113.114945 \nL 145.088915 115.235974 \nL 145.160421 113.196903 \nL 145.231927 116.033193 \nL 145.303432 114.495192 \nL 145.374938 115.35037 \nL 145.410691 114.748563 \nL 145.696713 108.909722 \nL 145.768219 111.325505 \nL 145.839724 113.518513 \nL 145.875477 113.279173 \nL 145.982735 111.110547 \nL 146.018488 111.379775 \nL 146.197252 114.896204 \nL 146.233005 114.817841 \nL 146.376016 117.248806 \nL 146.447522 116.415327 \nL 146.483275 116.258048 \nL 146.519028 116.349269 \nL 146.626286 117.718744 \nL 146.697792 117.025655 \nL 146.840803 112.35151 \nL 147.019567 100.901259 \nL 147.05532 102.596926 \nL 147.162578 115.037696 \nL 147.198331 112.109472 \nL 147.234084 109.503853 \nL 147.305589 111.878675 \nL 147.377095 114.855641 \nL 147.412848 113.486707 \nL 147.448601 112.91055 \nL 147.555859 116.594302 \nL 147.591612 115.416689 \nL 147.627365 114.912366 \nL 147.663117 115.793214 \nL 147.69887 116.640205 \nL 147.734623 116.486515 \nL 148.056398 107.975771 \nL 148.092151 108.210887 \nL 148.235162 115.046133 \nL 148.306668 111.828795 \nL 148.378173 109.450391 \nL 148.413926 110.707521 \nL 148.59269 113.775239 \nL 148.628443 114.032422 \nL 148.664196 113.695353 \nL 148.699949 113.751407 \nL 148.807207 114.366773 \nL 148.985971 109.091838 \nL 149.057477 110.491126 \nL 149.200488 117.389981 \nL 149.236241 117.093155 \nL 149.307746 116.099259 \nL 149.343499 116.331315 \nL 149.450758 118.816281 \nL 149.522263 118.168021 \nL 149.558016 118.230697 \nL 149.593769 118.203376 \nL 149.629522 117.975059 \nL 149.665274 118.206431 \nL 149.73678 119.365025 \nL 149.808286 118.864532 \nL 149.915544 116.798375 \nL 150.022803 110.14451 \nL 150.165814 94.319221 \nL 150.201567 95.699585 \nL 150.273072 112.105506 \nL 150.344578 103.49343 \nL 150.380331 101.791543 \nL 150.416083 105.237561 \nL 150.451836 109.999407 \nL 150.523342 107.097157 \nL 150.737859 115.301886 \nL 150.773611 114.857502 \nL 150.809364 113.564695 \nL 150.845117 115.29398 \nL 151.023881 118.664672 \nL 151.095387 116.74533 \nL 151.13114 117.984998 \nL 151.166892 118.971825 \nL 151.202645 117.885354 \nL 151.417162 110.713779 \nL 151.52442 103.623868 \nL 151.560173 105.117678 \nL 151.631679 113.985118 \nL 151.703184 110.130298 \nL 151.738937 107.798117 \nL 151.77469 109.106891 \nL 151.846196 117.598784 \nL 151.917701 114.245685 \nL 151.953454 114.081304 \nL 152.060712 117.848159 \nL 152.096465 117.534055 \nL 152.132218 117.601368 \nL 152.346735 119.84051 \nL 152.382488 119.481023 \nL 152.418241 119.21225 \nL 152.525499 121.723215 \nL 152.597005 120.793993 \nL 152.632757 120.744497 \nL 152.740016 122.103567 \nL 152.811521 121.75902 \nL 152.847274 121.674815 \nL 152.883027 121.820674 \nL 152.954533 122.06083 \nL 152.990285 121.945233 \nL 153.097544 120.965877 \nL 153.240555 116.046038 \nL 153.419319 108.591316 \nL 153.455072 108.753162 \nL 153.598083 110.42323 \nL 153.705342 116.671078 \nL 153.741094 114.090802 \nL 153.8126 112.588621 \nL 154.027117 119.874006 \nL 154.06287 121.164234 \nL 154.098622 119.953635 \nL 154.170128 118.501349 \nL 154.205881 119.934127 \nL 154.241634 120.919283 \nL 154.313139 120.318369 \nL 154.420398 122.734376 \nL 154.491903 121.766328 \nL 154.670667 119.99282 \nL 154.813679 113.171791 \nL 154.95669 103.751251 \nL 154.992443 104.208672 \nL 155.135454 118.516813 \nL 155.206959 112.77381 \nL 155.242712 111.484499 \nL 155.278465 112.985817 \nL 155.385723 121.147783 \nL 155.421476 119.738403 \nL 155.492982 117.372063 \nL 155.528735 117.58883 \nL 155.707499 122.245398 \nL 155.779004 120.920941 \nL 155.85051 120.449012 \nL 155.886263 120.97012 \nL 155.957768 121.397802 \nL 156.065027 118.585834 \nL 156.279544 106.779918 \nL 156.315296 108.696578 \nL 156.422555 117.34083 \nL 156.458308 115.890481 \nL 156.529813 112.949148 \nL 156.565566 113.710596 \nL 156.672824 120.222985 \nL 156.74433 118.265676 \nL 156.815836 120.058357 \nL 156.851588 121.268919 \nL 156.923094 119.947289 \nL 156.958847 119.875709 \nL 157.030353 121.376499 \nL 157.066105 120.661546 \nL 157.280622 114.934517 \nL 157.423633 112.531864 \nL 157.459386 112.683255 \nL 157.602397 117.662255 \nL 157.673903 123.235666 \nL 157.745409 121.109442 \nL 157.781161 120.103464 \nL 157.852667 121.084387 \nL 157.995678 122.690074 \nL 158.353206 114.510429 \nL 158.424712 112.910346 \nL 158.460465 113.019333 \nL 158.567723 120.43009 \nL 158.639229 123.389164 \nL 158.674982 122.150048 \nL 159.104015 105.939346 \nL 159.175521 108.039765 \nL 159.247026 111.75157 \nL 159.318532 110.554605 \nL 159.568802 117.503057 \nL 159.604555 115.393832 \nL 159.640307 114.806472 \nL 159.783319 118.553189 \nL 159.819071 120.701538 \nL 159.854824 118.807777 \nL 160.140847 109.85386 \nL 159.962083 118.843962 \nL 160.176599 110.362694 \nL 160.355363 122.151962 \nL 160.391116 120.512068 \nL 160.462622 116.965462 \nL 160.498375 117.378981 \nL 160.998914 125.166642 \nL 161.106172 125.959133 \nL 161.141925 125.949914 \nL 161.177678 125.992031 \nL 161.213431 125.95077 \nL 161.356442 122.921635 \nL 161.499453 115.070515 \nL 161.642464 103.492669 \nL 161.678217 104.065985 \nL 161.785476 112.734964 \nL 161.856981 110.855175 \nL 161.892734 110.40996 \nL 161.999993 117.85326 \nL 162.035745 115.086038 \nL 162.071498 113.479277 \nL 162.107251 115.293515 \nL 162.178757 122.076724 \nL 162.250262 119.436985 \nL 162.536285 125.13541 \nL 162.572037 124.199149 \nL 162.965318 107.77971 \nL 163.001071 108.888718 \nL 163.215588 122.145233 \nL 163.251341 120.232232 \nL 163.322846 117.305463 \nL 163.358599 120.042857 \nL 163.394352 121.620777 \nL 163.430105 120.140557 \nL 163.465858 119.806117 \nL 163.680374 124.606731 \nL 163.823386 124.971374 \nL 163.859138 124.916685 \nL 164.216666 117.489169 \nL 164.288172 115.956024 \nL 164.359678 116.607629 \nL 164.395431 116.703154 \nL 164.466936 115.354999 \nL 164.502689 115.750324 \nL 164.574195 119.574798 \nL 164.681453 127.478041 \nL 164.717206 126.095873 \nL 164.788711 123.445903 \nL 164.860217 124.246933 \nL 164.89597 124.614005 \nL 164.931723 124.37487 \nL 165.253498 116.917504 \nL 165.289251 117.06321 \nL 165.432262 126.516849 \nL 165.468015 123.994532 \nL 165.718284 104.782517 \nL 165.754037 105.327192 \nL 165.897048 119.729137 \nL 165.932801 116.511049 \nL 165.968554 114.557443 \nL 166.004307 115.073962 \nL 166.147318 122.4399 \nL 166.218824 120.890498 \nL 166.290329 118.769537 \nL 166.326082 119.039537 \nL 166.43334 121.44749 \nL 166.469093 120.853141 \nL 166.647857 115.522428 \nL 166.68361 115.961251 \nL 166.969633 128.000919 \nL 167.148397 125.566985 \nL 167.184149 125.818035 \nL 167.541677 130.100758 \nL 167.613183 129.63869 \nL 167.756194 126.601631 \nL 168.006464 111.194355 \nL 168.149475 98.19167 \nL 168.185228 100.211148 \nL 168.256734 116.377783 \nL 168.292486 109.183839 \nL 168.328239 108.800338 \nL 168.507003 118.895974 \nL 168.542756 114.353599 \nL 168.614262 119.199098 \nL 168.793026 112.691544 \nL 168.97179 119.964082 \nL 169.043295 117.32728 \nL 169.186307 104.626102 \nL 169.222059 105.625783 \nL 169.365071 121.414619 \nL 169.400823 117.926849 \nL 169.436576 116.246235 \nL 169.472329 118.291686 \nL 169.686846 125.809618 \nL 170.008621 96.950658 \nL 170.080127 101.469457 \nL 170.151632 108.218188 \nL 170.187385 107.595065 \nL 170.223138 105.767725 \nL 170.258891 108.3672 \nL 170.330396 117.18863 \nL 170.401902 114.352685 \nL 170.75943 125.870331 \nL 170.795183 125.08764 \nL 170.866688 125.902068 \nL 170.902441 125.137131 \nL 171.081205 129.860753 \nL 171.116958 128.472986 \nL 171.152711 128.620298 \nL 171.295722 131.254287 \nL 171.331475 131.175621 \nL 171.367228 131.271823 \nL 171.510239 132.000235 \nL 171.545992 131.917523 \nL 171.581744 131.96656 \nL 171.796261 132.995299 \nL 171.832014 132.779765 \nL 171.90352 133.022982 \nL 171.939273 132.961282 \nL 171.975025 133.010996 \nL 172.010778 133.12893 \nL 172.046531 133.053769 \nL 172.225295 132.367815 \nL 172.332553 130.66056 \nL 172.475565 124.268174 \nL 172.690081 113.647587 \nL 172.725834 114.905432 \nL 172.868846 122.952538 \nL 172.940351 121.150751 \nL 173.011857 120.204114 \nL 173.04761 121.192148 \nL 173.226374 130.211489 \nL 173.262126 129.22249 \nL 173.369385 127.117457 \nL 173.405138 127.90282 \nL 173.548149 132.111142 \nL 173.619654 131.604329 \nL 173.69116 131.179464 \nL 173.726913 131.481096 \nL 173.869924 133.001657 \nL 173.905677 132.696693 \nL 174.120194 127.905205 \nL 174.370463 110.634998 \nL 174.441969 115.949008 \nL 174.549227 133.464925 \nL 174.58498 128.86386 \nL 174.692239 120.5389 \nL 174.727991 122.718104 \nL 174.83525 132.723957 \nL 174.871003 131.434643 \nL 174.978261 126.480935 \nL 175.014014 127.560317 \nL 175.157025 134.915089 \nL 175.192778 133.923752 \nL 175.300036 131.174574 \nL 175.335789 131.58295 \nL 175.443048 133.657741 \nL 175.4788 133.48993 \nL 175.586059 129.249522 \nL 175.800576 111.13186 \nL 175.872081 112.14023 \nL 175.907834 113.682291 \nL 175.943587 112.607871 \nL 176.015092 109.215151 \nL 176.050845 110.205699 \nL 176.122351 115.76647 \nL 176.158104 114.376322 \nL 176.193856 111.864738 \nL 176.229609 112.186897 \nL 176.408373 126.948191 \nL 176.444126 123.880909 \nL 176.479879 121.581171 \nL 176.515632 122.506109 \nL 176.587137 127.048357 \nL 176.658643 125.75656 \nL 176.730149 131.219154 \nL 176.801654 130.114658 \nL 176.87316 131.964342 \nL 176.908913 131.064753 \nL 176.944665 131.118699 \nL 177.016171 134.594017 \nL 177.087677 133.759365 \nL 177.159182 136.225618 \nL 177.194935 135.447822 \nL 177.230688 134.400136 \nL 177.266441 134.711665 \nL 177.337946 135.830964 \nL 177.373699 135.358704 \nL 177.409452 135.324886 \nL 177.480957 136.016434 \nL 177.51671 135.618463 \nL 177.623969 134.581948 \nL 177.731227 126.517669 \nL 177.909991 103.070961 \nL 177.981497 106.875057 \nL 178.160261 116.118815 \nL 178.303272 123.002026 \nL 178.374778 119.987806 \nL 178.41053 120.190018 \nL 178.625047 132.46944 \nL 178.696553 132.308044 \nL 178.803811 135.57176 \nL 178.875317 134.759593 \nL 179.089834 136.53179 \nL 179.161339 136.811243 \nL 179.340103 137.468572 \nL 179.840643 138.610242 \nL 183.022642 142.298608 \nL 183.094148 141.944324 \nL 183.129901 141.582322 \nL 183.165654 141.828399 \nL 183.201406 142.508292 \nL 183.272912 142.013163 \nL 183.451676 142.810611 \nL 183.523182 142.592722 \nL 183.558934 142.84021 \nL 183.701946 143.100991 \nL 183.773451 143.020913 \nL 183.809204 143.160342 \nL 183.987968 143.409487 \nL 184.023721 143.385159 \nL 184.059474 143.438563 \nL 184.273991 143.724512 \nL 184.417002 143.888081 \nL 184.631519 144.110601 \nL 185.453833 145.033816 \nL 186.81244 146.410695 \nL 186.883945 146.130361 \nL 186.991204 144.86686 \nL 187.062709 146.785097 \nL 187.134215 145.708783 \nL 187.348732 147.106202 \nL 187.420237 146.652325 \nL 187.45599 147.007639 \nL 187.563249 146.992097 \nL 187.599002 147.26508 \nL 187.777766 147.559942 \nL 187.849271 147.496 \nL 188.028035 147.804028 \nL 188.242552 148.059647 \nL 188.34981 148.18274 \nL 189.207878 149.096161 \nL 190.781001 150.713538 \nL 190.88826 150.688893 \nL 190.959765 150.356492 \nL 191.031271 149.668586 \nL 191.067024 149.841718 \nL 191.138529 150.892533 \nL 191.174282 150.569052 \nL 191.210035 150.19495 \nL 191.245788 150.433165 \nL 191.317293 151.084523 \nL 191.353046 150.791811 \nL 191.388799 150.793524 \nL 191.460305 151.406477 \nL 191.53181 151.154692 \nL 191.603316 151.575131 \nL 191.674821 151.433699 \nL 191.925091 151.793885 \nL 191.960844 151.754836 \nL 192.103855 151.31714 \nL 192.211113 150.112467 \nL 192.246866 150.134548 \nL 192.354125 152.267528 \nL 192.42563 151.542452 \nL 192.461383 151.285849 \nL 192.497136 151.607438 \nL 192.568642 152.560791 \nL 192.604394 152.377918 \nL 192.6759 151.994838 \nL 192.711653 152.279159 \nL 192.783158 152.74651 \nL 192.818911 152.648455 \nL 192.890417 152.51665 \nL 192.92617 152.661141 \nL 193.033428 152.968363 \nL 193.069181 152.904899 \nL 193.104934 152.878027 \nL 193.140686 152.9438 \nL 193.247945 153.23193 \nL 193.31945 153.20331 \nL 193.426709 153.36894 \nL 193.712731 153.677141 \nL 194.141765 154.125517 \nL 195.321608 155.17659 \nL 195.35736 155.132092 \nL 195.428866 154.833683 \nL 195.536124 152.893508 \nL 195.60763 151.458294 \nL 195.643383 152.898061 \nL 195.714888 155.447503 \nL 195.750641 153.922881 \nL 195.786394 153.272599 \nL 195.822147 154.416293 \nL 195.8579 155.748382 \nL 195.929405 154.411904 \nL 195.965158 154.537497 \nL 196.036664 155.965388 \nL 196.072417 155.376431 \nL 196.108169 155.017936 \nL 196.143922 155.500394 \nL 196.179675 156.090852 \nL 196.251181 155.604337 \nL 196.286933 155.639304 \nL 196.358439 156.30262 \nL 196.394192 156.119793 \nL 196.429945 155.950848 \nL 196.465697 156.108542 \nL 196.537203 156.45653 \nL 196.572956 156.323805 \nL 196.608709 156.280606 \nL 196.715967 156.624964 \nL 196.787473 156.558506 \nL 196.966237 156.795377 \nL 197.216506 157.133723 \nL 198.718124 158.551128 \nL 198.825383 158.493163 \nL 198.896888 158.100298 \nL 199.039899 155.515373 \nL 199.075652 156.9435 \nL 199.111405 158.747042 \nL 199.182911 157.252286 \nL 199.218663 157.135891 \nL 199.290169 159.099102 \nL 199.325922 158.381709 \nL 199.361675 157.832567 \nL 199.397427 158.430017 \nL 199.43318 159.208012 \nL 199.504686 158.486259 \nL 199.754956 159.54631 \nL 199.790708 159.402717 \nL 199.826461 159.248657 \nL 199.862214 159.400094 \nL 199.93372 159.673194 \nL 199.969472 159.551613 \nL 200.005225 159.563559 \nL 200.076731 159.845609 \nL 200.148236 159.766659 \nL 200.434259 160.164894 \nL 200.541517 160.252901 \nL 200.863293 160.552449 \nL 201.399585 161.057674 \nL 201.971629 161.444555 \nL 202.043135 161.270088 \nL 202.150394 159.956351 \nL 202.293405 154.997249 \nL 202.329158 157.348865 \nL 202.400663 161.480419 \nL 202.436416 158.848467 \nL 202.472169 157.791486 \nL 202.507922 159.687492 \nL 202.543674 161.915404 \nL 202.61518 159.591713 \nL 202.650933 159.805936 \nL 202.722438 162.109589 \nL 202.758191 161.063643 \nL 202.793944 160.524409 \nL 202.829697 161.351276 \nL 202.86545 162.26565 \nL 202.936955 161.339141 \nL 202.972708 161.491644 \nL 203.044214 162.453692 \nL 203.079966 162.054168 \nL 203.115719 161.836015 \nL 203.151472 162.184159 \nL 203.187225 162.595554 \nL 203.25873 162.285524 \nL 203.294483 162.296931 \nL 203.365989 162.794651 \nL 203.437495 162.564419 \nL 203.723517 163.102543 \nL 203.75927 163.065339 \nL 203.830775 163.124848 \nL 204.045292 163.376732 \nL 205.046371 164.243317 \nL 207.83509 166.42621 \nL 207.906595 166.17469 \nL 208.013854 164.325096 \nL 208.121112 159.974858 \nL 208.156865 161.485462 \nL 208.228371 166.77634 \nL 208.264123 164.48297 \nL 208.299876 162.770508 \nL 208.335629 163.996836 \nL 208.407135 166.62721 \nL 208.442887 164.869915 \nL 208.47864 164.509732 \nL 208.550146 167.099795 \nL 208.585899 166.332228 \nL 208.621651 165.477729 \nL 208.657404 165.981006 \nL 208.72891 167.09017 \nL 208.764663 166.412023 \nL 208.800415 166.302606 \nL 208.871921 167.361716 \nL 208.907674 167.090379 \nL 208.943427 166.777969 \nL 208.979179 166.986643 \nL 209.050685 167.471784 \nL 209.086438 167.237736 \nL 209.122191 167.186268 \nL 209.193696 167.637387 \nL 209.265202 167.464276 \nL 209.729988 168.074164 \nL 209.837247 168.12683 \nL 209.980258 168.159204 \nL 210.087516 168.064136 \nL 210.194775 167.351272 \nL 210.302033 164.666175 \nL 210.409292 159.508629 \nL 210.445044 159.981028 \nL 210.552303 168.382393 \nL 210.588056 165.576548 \nL 210.623809 163.461847 \nL 210.659561 164.066286 \nL 210.731067 168.79539 \nL 210.76682 167.815413 \nL 210.838325 165.686634 \nL 210.874078 167.184169 \nL 210.909831 168.789674 \nL 210.981337 167.560638 \nL 211.017089 167.003045 \nL 211.052842 167.677239 \nL 211.124348 169.1391 \nL 211.160101 168.562723 \nL 211.195853 168.011299 \nL 211.231606 168.17244 \nL 211.303112 169.296397 \nL 211.374617 168.766515 \nL 211.41037 168.661296 \nL 211.517629 169.46029 \nL 211.553381 169.29229 \nL 211.589134 169.124234 \nL 211.624887 169.173006 \nL 211.732145 169.607508 \nL 211.767898 169.511709 \nL 211.803651 169.455268 \nL 211.839404 169.521439 \nL 211.946662 169.777813 \nL 211.982415 169.738052 \nL 212.053921 169.772914 \nL 212.232685 169.946538 \nL 213.44828 170.92566 \nL 216.666033 173.170734 \nL 216.773291 172.851023 \nL 216.88055 171.039513 \nL 217.023561 160.59623 \nL 217.059314 158.727984 \nL 217.095066 161.039148 \nL 217.166572 173.376879 \nL 217.202325 167.646746 \nL 217.238078 163.783608 \nL 217.27383 166.167775 \nL 217.345336 172.536936 \nL 217.381089 167.917184 \nL 217.416842 167.251198 \nL 217.488347 173.813948 \nL 217.5241 171.152552 \nL 217.559853 169.118678 \nL 217.595606 170.870803 \nL 217.631358 173.693136 \nL 217.702864 171.045584 \nL 217.738617 171.252532 \nL 217.810122 173.969359 \nL 217.845875 172.623352 \nL 217.881628 172.008527 \nL 217.917381 173.068429 \nL 217.953134 174.134147 \nL 217.988887 173.690624 \nL 218.024639 172.883148 \nL 218.060392 173.134012 \nL 218.131898 174.226236 \nL 218.167651 173.681435 \nL 218.203403 173.454073 \nL 218.239156 173.916094 \nL 218.274909 174.367648 \nL 218.346415 173.903694 \nL 218.382167 173.976294 \nL 218.453673 174.500169 \nL 218.489426 174.320569 \nL 218.525179 174.195118 \nL 218.560931 174.351625 \nL 218.632437 174.595206 \nL 218.66819 174.473269 \nL 218.703943 174.459851 \nL 218.775448 174.722845 \nL 218.846954 174.645437 \nL 220.134055 175.580789 \nL 220.241313 175.512432 \nL 220.348572 175.007859 \nL 220.563089 171.770336 \nL 220.7061 167.159209 \nL 220.741853 169.139824 \nL 220.813358 175.584725 \nL 220.884864 172.721291 \nL 220.920617 171.645026 \nL 220.956369 172.243879 \nL 221.063628 175.139847 \nL 221.099381 174.810268 \nL 221.170886 174.355037 \nL 221.206639 174.52594 \nL 221.313897 175.929426 \nL 221.34965 175.767725 \nL 221.421156 175.323795 \nL 221.456909 175.6119 \nL 221.528414 176.21543 \nL 221.59992 176.141904 \nL 221.742931 176.276559 \nL 221.85019 176.680699 \nL 221.885942 176.609211 \nL 221.957448 176.48811 \nL 221.993201 176.615028 \nL 222.064706 176.879324 \nL 222.136212 176.821601 \nL 222.207718 176.839045 \nL 222.457987 177.082991 \nL 222.851268 177.36977 \nL 225.747245 179.125507 \nL 225.854504 178.947813 \nL 225.961762 177.883811 \nL 226.069021 173.254646 \nL 226.176279 164.395287 \nL 226.212032 165.562335 \nL 226.283537 178.707099 \nL 226.31929 176.035862 \nL 226.390796 170.319898 \nL 226.426549 174.670493 \nL 226.462302 178.653827 \nL 226.498054 176.522368 \nL 226.533807 173.654031 \nL 226.56956 174.331231 \nL 226.641066 178.525883 \nL 226.676818 176.902344 \nL 226.712571 176.002237 \nL 226.748324 177.099844 \nL 226.784077 178.53645 \nL 226.855582 177.790499 \nL 226.891335 177.879973 \nL 227.034346 178.883554 \nL 227.391874 179.994135 \nL 227.427627 179.733757 \nL 227.46338 179.626664 \nL 227.534886 180.193854 \nL 227.606391 179.972249 \nL 227.642144 179.934 \nL 227.71365 180.333912 \nL 227.785155 180.188998 \nL 227.820908 180.191643 \nL 227.928167 180.420897 \nL 227.963919 180.384066 \nL 228.321447 180.665322 \nL 228.643223 180.747508 \nL 228.750481 180.576403 \nL 228.85774 179.765891 \nL 228.964998 176.859765 \nL 229.143762 163.195851 \nL 229.215268 168.469784 \nL 229.286773 180.629188 \nL 229.322526 174.322604 \nL 229.358279 169.819612 \nL 229.394032 170.446839 \nL 229.465537 180.739235 \nL 229.50129 178.781971 \nL 229.572796 173.850697 \nL 229.608548 176.729384 \nL 229.644301 180.364117 \nL 229.715807 177.788826 \nL 229.75156 176.668489 \nL 229.787312 178.068512 \nL 229.858818 180.963209 \nL 229.894571 179.645207 \nL 229.930324 178.674668 \nL 229.966076 179.225975 \nL 230.037582 181.285428 \nL 230.073335 180.718941 \nL 230.109088 179.998329 \nL 230.144841 180.098506 \nL 230.216346 181.498852 \nL 230.287852 180.871858 \nL 230.323605 180.736028 \nL 230.430863 181.73435 \nL 230.466616 181.47751 \nL 230.502369 181.252724 \nL 230.538121 181.34709 \nL 230.609627 181.898887 \nL 230.681133 181.69189 \nL 230.716885 181.620297 \nL 230.752638 181.741437 \nL 230.824144 182.045748 \nL 230.895649 181.916435 \nL 230.967155 181.991507 \nL 231.038661 182.163202 \nL 231.110166 182.111451 \nL 231.217425 182.238432 \nL 231.503447 182.403514 \nL 231.825222 182.573426 \nL 232.647537 183.012604 \nL 236.544593 184.901903 \nL 236.651851 184.7463 \nL 236.723357 184.18494 \nL 236.830615 180.131315 \nL 236.973626 166.000917 \nL 237.009379 169.786667 \nL 237.080885 178.015736 \nL 237.116638 171.441304 \nL 237.15239 170.463036 \nL 237.223896 179.492806 \nL 237.259649 175.605485 \nL 237.295402 175.386761 \nL 237.366907 181.45542 \nL 237.40266 178.479608 \nL 237.474166 183.118453 \nL 237.509919 181.230529 \nL 237.545671 179.516468 \nL 237.581424 182.505938 \nL 237.617177 184.050025 \nL 237.65293 181.353894 \nL 237.688683 181.597166 \nL 237.724435 184.574456 \nL 237.795941 182.258402 \nL 237.867447 184.852982 \nL 237.903199 183.73215 \nL 237.938952 183.099656 \nL 237.974705 184.374049 \nL 238.010458 184.653577 \nL 238.046211 183.865383 \nL 238.081963 184.363172 \nL 238.224975 185.294267 \nL 238.260727 185.579093 \nL 238.29648 185.06114 \nL 238.332233 185.092196 \nL 238.367986 185.630638 \nL 238.439491 185.239282 \nL 238.618256 185.688514 \nL 238.761267 185.860227 \nL 238.689761 185.615336 \nL 238.79702 185.826199 \nL 238.832772 185.746792 \nL 238.868525 185.850916 \nL 239.011536 185.939818 \nL 239.118795 185.88387 \nL 239.1903 185.80346 \nL 239.333312 184.818221 \nL 239.44057 181.950284 \nL 239.655087 167.728935 \nL 239.69084 170.446116 \nL 239.762345 183.482655 \nL 239.833851 176.632889 \nL 239.869604 173.922042 \nL 239.905357 175.396823 \nL 239.976862 184.984057 \nL 240.012615 183.607066 \nL 240.084121 178.660639 \nL 240.119873 180.699757 \nL 240.191379 186.312922 \nL 240.227132 184.492235 \nL 240.298637 181.960157 \nL 240.33439 183.820185 \nL 240.405896 186.280187 \nL 240.441649 184.785249 \nL 240.477401 183.630349 \nL 240.513154 183.907304 \nL 240.58466 186.301107 \nL 240.656165 185.236746 \nL 240.691918 184.737251 \nL 240.727671 185.067256 \nL 240.799177 186.301661 \nL 240.834929 186.135131 \nL 240.906435 185.374998 \nL 240.942188 185.500283 \nL 241.013693 186.010004 \nL 241.049446 185.831084 \nL 241.335469 181.651105 \nL 241.585738 172.143322 \nL 241.621491 173.313402 \nL 241.764502 187.165158 \nL 241.836008 182.664363 \nL 241.907514 179.574241 \nL 241.943266 180.26901 \nL 242.086278 187.272931 \nL 242.12203 186.41967 \nL 242.229289 183.64972 \nL 242.265042 184.077389 \nL 242.408053 187.42785 \nL 242.443806 187.196955 \nL 242.551064 185.896891 \nL 242.586817 185.93483 \nL 242.765581 187.569784 \nL 242.837087 187.337982 \nL 242.944345 187.00976 \nL 242.980098 187.079637 \nL 243.194615 187.728103 \nL 243.230367 187.699869 \nL 243.409131 187.613646 \nL 243.802412 187.939637 \nL 244.15994 188.070501 \nL 245.018008 188.418245 \nL 245.268277 188.403567 \nL 245.375536 188.206377 \nL 245.482794 187.482198 \nL 245.590053 185.081819 \nL 245.733064 174.973432 \nL 245.840322 165.65129 \nL 245.876075 167.103798 \nL 245.983334 186.200642 \nL 246.019086 178.786066 \nL 246.054839 174.066204 \nL 246.090592 174.842594 \nL 246.162098 187.207782 \nL 246.233603 180.147865 \nL 246.269356 178.323392 \nL 246.305109 181.069695 \nL 246.376614 188.767885 \nL 246.412367 185.492048 \nL 246.44812 182.454245 \nL 246.519626 185.552858 \nL 246.555378 188.358473 \nL 246.626884 185.762763 \nL 246.662637 184.848381 \nL 246.69839 186.017688 \nL 246.769895 188.957403 \nL 246.805648 187.942525 \nL 246.877154 186.623551 \nL 246.912906 187.671098 \nL 246.984412 188.945893 \nL 247.020165 188.279624 \nL 247.055918 187.758112 \nL 247.09167 187.943739 \nL 247.163176 189.108086 \nL 247.234682 188.611915 \nL 247.270435 188.383016 \nL 247.306187 188.562571 \nL 247.377693 189.22056 \nL 247.449199 188.96911 \nL 247.484951 188.871099 \nL 247.520704 188.981439 \nL 247.59221 189.323857 \nL 247.663715 189.189288 \nL 247.699468 189.134375 \nL 247.735221 189.189999 \nL 247.842479 189.404759 \nL 247.878232 189.363657 \nL 247.949738 189.361984 \nL 248.128502 189.480438 \nL 248.629041 189.692797 \nL 249.308344 189.883591 \nL 249.451356 189.776341 \nL 249.558614 189.420197 \nL 249.665873 188.263419 \nL 249.808884 182.711822 \nL 249.987648 167.626807 \nL 250.023401 168.566309 \nL 250.130659 189.513281 \nL 250.166412 183.689742 \nL 250.237917 175.764025 \nL 250.27367 178.93421 \nL 250.345176 188.857428 \nL 250.380929 185.823257 \nL 250.452434 181.433372 \nL 250.488187 184.069875 \nL 250.559693 188.968823 \nL 250.595445 186.792506 \nL 250.631198 184.876884 \nL 250.666951 185.142409 \nL 250.774209 189.607874 \nL 250.809962 188.002408 \nL 250.845715 186.865035 \nL 250.881468 187.27103 \nL 250.988726 190.246193 \nL 251.024479 189.23455 \nL 251.060232 188.436034 \nL 251.095985 188.552555 \nL 251.203243 190.509966 \nL 251.238996 190.061767 \nL 251.310502 189.498014 \nL 251.346254 189.871581 \nL 251.41776 190.554831 \nL 251.453513 190.422107 \nL 251.525018 190.102545 \nL 251.560771 190.251062 \nL 251.632277 190.647732 \nL 251.703782 190.502589 \nL 251.739535 190.424894 \nL 251.775288 190.470402 \nL 251.882546 190.784387 \nL 251.918299 190.741256 \nL 251.989805 190.648368 \nL 252.025558 190.691836 \nL 252.168569 190.854756 \nL 252.204322 190.829965 \nL 252.31158 190.892189 \nL 252.56185 190.993987 \nL 252.955131 191.135008 \nL 254.027715 191.479467 \nL 255.422074 191.831744 \nL 255.529333 191.632018 \nL 255.636591 190.754069 \nL 255.74385 187.400984 \nL 255.886861 172.96856 \nL 255.994119 163.31297 \nL 256.101378 189.67059 \nL 256.13713 177.833015 \nL 256.172883 171.345343 \nL 256.208636 173.516667 \nL 256.280142 191.337521 \nL 256.315894 182.337962 \nL 256.351647 176.625912 \nL 256.3874 178.879516 \nL 256.458906 191.679465 \nL 256.494658 184.88328 \nL 256.530411 181.105765 \nL 256.566164 183.737206 \nL 256.63767 191.282895 \nL 256.673422 186.576015 \nL 256.709175 184.574754 \nL 256.744928 187.231489 \nL 256.780681 191.538303 \nL 256.852186 188.331542 \nL 256.887939 187.282555 \nL 256.923692 189.365781 \nL 256.959445 191.974275 \nL 257.030951 189.685252 \nL 257.066703 189.190337 \nL 257.138209 192.273646 \nL 257.209715 190.745301 \nL 257.245467 190.432545 \nL 257.316973 192.351422 \nL 257.388479 191.48035 \nL 257.424231 191.263275 \nL 257.495737 192.449422 \nL 257.567243 191.983495 \nL 257.602995 191.792443 \nL 257.638748 192.088458 \nL 257.710254 192.549021 \nL 257.746007 192.308422 \nL 257.781759 192.156684 \nL 257.817512 192.295025 \nL 257.889018 192.641543 \nL 257.924771 192.526596 \nL 257.960523 192.408792 \nL 257.996276 192.450263 \nL 258.067782 192.693318 \nL 258.139288 192.582627 \nL 258.210793 192.661414 \nL 258.282299 192.751646 \nL 258.318052 192.712876 \nL 258.389557 192.72958 \nL 258.532568 192.789113 \nL 259.926928 193.095222 \nL 260.034186 192.74579 \nL 260.141445 191.383357 \nL 260.248703 186.758301 \nL 260.427467 171.374989 \nL 260.46322 173.509883 \nL 260.534726 186.684711 \nL 260.570478 184.503349 \nL 260.641984 176.282574 \nL 260.677737 179.171524 \nL 260.749242 188.020327 \nL 260.784995 184.568101 \nL 260.820748 182.616945 \nL 260.856501 184.903697 \nL 260.928006 191.029494 \nL 260.963759 188.732851 \nL 260.999512 187.393546 \nL 261.035265 188.593758 \nL 261.071018 190.417063 \nL 261.142523 189.254129 \nL 261.178276 189.089625 \nL 261.392793 192.144001 \nL 261.428546 192.457338 \nL 261.464298 192.040962 \nL 261.500051 191.912564 \nL 261.60731 193.288353 \nL 261.643062 192.731351 \nL 261.678815 192.492801 \nL 261.714568 192.907428 \nL 261.786074 193.46474 \nL 261.821827 193.022645 \nL 261.857579 192.763417 \nL 261.893332 192.983734 \nL 261.964838 193.469165 \nL 262.000591 193.219769 \nL 262.036343 192.99391 \nL 262.072096 193.042985 \nL 262.143602 193.359179 \nL 262.179355 193.236876 \nL 262.536883 191.133573 \nL 262.715647 185.530757 \nL 262.930163 173.859379 \nL 262.965916 174.466843 \nL 263.073175 188.237248 \nL 263.108928 193.147464 \nL 263.180433 188.962064 \nL 263.251939 183.457236 \nL 263.323444 185.423903 \nL 263.430703 193.861808 \nL 263.502208 191.590092 \nL 263.573714 188.764184 \nL 263.609467 188.914652 \nL 263.752478 194.223704 \nL 263.823984 193.377532 \nL 263.931242 191.855106 \nL 263.966995 192.236994 \nL 264.110006 194.38732 \nL 264.145759 194.290773 \nL 264.28877 193.477097 \nL 264.324523 193.586379 \nL 264.503287 194.514279 \nL 264.574793 194.417609 \nL 264.682051 194.220616 \nL 264.717804 194.23694 \nL 265.075332 194.616601 \nL 265.289849 194.663271 \nL 265.718882 194.846959 \nL 266.57695 194.925737 \nL 266.719961 194.671528 \nL 266.862972 193.713973 \nL 267.005983 190.302754 \nL 267.184747 177.186173 \nL 267.292006 168.908651 \nL 267.327759 169.710289 \nL 267.435017 193.431804 \nL 267.506523 182.822611 \nL 267.542275 178.625171 \nL 267.578028 178.902576 \nL 267.685287 194.290662 \nL 267.721039 190.510711 \nL 267.792545 184.424587 \nL 267.828298 186.256703 \nL 267.899804 194.283587 \nL 267.971309 191.233123 \nL 268.007062 189.181348 \nL 268.078568 191.310813 \nL 268.150073 195.027016 \nL 268.185826 194.08731 \nL 268.257332 191.77804 \nL 268.293084 192.337368 \nL 268.400343 195.409612 \nL 268.436096 194.757696 \nL 268.507601 193.586684 \nL 268.543354 193.940324 \nL 268.650612 195.539146 \nL 268.686365 195.255822 \nL 268.757871 194.658028 \nL 268.793624 194.79186 \nL 268.900882 195.647477 \nL 268.936635 195.583833 \nL 269.00814 195.295773 \nL 269.079646 195.436871 \nL 269.186905 195.736938 \nL 269.222657 195.685715 \nL 269.294163 195.596703 \nL 269.329916 195.629933 \nL 269.472927 195.833905 \nL 269.50868 195.813345 \nL 269.651691 195.837471 \nL 269.830455 195.908288 \nL 270.223736 195.754868 \nL 270.330994 195.365249 \nL 270.438253 194.229776 \nL 270.581264 189.387545 \nL 270.831534 168.969184 \nL 270.867286 170.742474 \nL 270.974545 192.5684 \nL 271.010298 187.149783 \nL 271.081803 179.483638 \nL 271.117556 182.088058 \nL 271.189062 191.315519 \nL 271.224814 189.511567 \nL 271.29632 185.422516 \nL 271.332073 187.854827 \nL 271.403578 194.516141 \nL 271.439331 192.603101 \nL 271.510837 188.637261 \nL 271.54659 190.235414 \nL 271.618095 195.992703 \nL 271.689601 193.3136 \nL 271.725354 191.90101 \nL 271.761107 192.191357 \nL 271.868365 196.072568 \nL 271.904118 195.346051 \nL 271.975623 194.26575 \nL 272.011376 194.843584 \nL 272.082882 196.08333 \nL 272.118635 195.873998 \nL 272.19014 195.239005 \nL 272.225893 195.510173 \nL 272.333151 196.548681 \nL 272.368904 196.27761 \nL 272.44041 195.861275 \nL 272.476163 196.019313 \nL 272.583421 196.599505 \nL 272.619174 196.515487 \nL 272.690679 196.388552 \nL 272.726432 196.466452 \nL 272.833691 196.67828 \nL 272.869444 196.631252 \nL 272.940949 196.58348 \nL 272.976702 196.636206 \nL 273.119713 196.788814 \nL 273.155466 196.762362 \nL 273.298477 196.825348 \nL 273.656005 196.948834 \nL 274.263803 196.932517 \nL 274.371061 196.663116 \nL 274.47832 195.839181 \nL 274.585578 193.43003 \nL 274.728589 184.338544 \nL 274.871601 174.362024 \nL 274.907353 176.158092 \nL 275.014612 184.23183 \nL 275.050365 182.061684 \nL 275.086117 181.148867 \nL 275.12187 182.815573 \nL 275.336387 195.091869 \nL 275.37214 194.389298 \nL 275.443646 189.710853 \nL 275.479398 191.859795 \nL 275.550904 194.993728 \nL 275.586657 192.750447 \nL 275.62241 191.709565 \nL 275.658162 192.664372 \nL 275.729668 194.254034 \nL 275.801174 194.030019 \nL 275.872679 196.13814 \nL 275.908432 195.747085 \nL 275.944185 195.053321 \nL 275.979938 195.250755 \nL 276.051443 197.218553 \nL 276.122949 196.757217 \nL 276.158702 196.630867 \nL 276.230207 197.160574 \nL 276.301713 196.912156 \nL 276.408971 197.535741 \nL 276.480477 197.150259 \nL 276.51623 197.063969 \nL 276.551983 197.175788 \nL 276.587735 197.296005 \nL 276.659241 197.15304 \nL 276.838005 196.527399 \nL 276.981016 194.922298 \nL 277.124027 190.086705 \nL 277.41005 171.015034 \nL 277.445803 172.995345 \nL 277.553061 196.621964 \nL 277.624567 187.280116 \nL 277.696072 181.141969 \nL 277.731825 183.411433 \nL 277.839084 196.993086 \nL 277.874836 193.98632 \nL 277.946342 188.229649 \nL 277.982095 188.785818 \nL 278.089353 196.936556 \nL 278.160859 194.817504 \nL 278.232364 192.98406 \nL 278.268117 193.867278 \nL 278.375376 197.374128 \nL 278.411128 196.930174 \nL 278.482634 195.688569 \nL 278.518387 195.796106 \nL 278.661398 197.806943 \nL 278.697151 197.539959 \nL 278.768656 197.000418 \nL 278.804409 197.093503 \nL 278.947421 198.159622 \nL 278.983173 198.052463 \nL 279.090432 197.720654 \nL 279.126185 197.834788 \nL 279.269196 198.352496 \nL 279.304949 198.299382 \nL 279.412207 198.137897 \nL 279.44796 198.178106 \nL 279.626724 198.454539 \nL 279.662477 198.436493 \nL 279.841241 198.446474 \nL 280.09151 198.551346 \nL 280.627802 198.551955 \nL 280.735061 198.225866 \nL 280.842319 196.97748 \nL 280.949578 192.786141 \nL 281.199847 168.73847 \nL 281.2356 173.163044 \nL 281.307106 190.698201 \nL 281.342859 184.063278 \nL 281.378611 178.152217 \nL 281.414364 178.89296 \nL 281.48587 194.434703 \nL 281.521623 190.499586 \nL 281.593128 183.800456 \nL 281.628881 189.393722 \nL 281.664634 196.364401 \nL 281.736139 189.053061 \nL 281.771892 187.951116 \nL 281.843398 195.676758 \nL 281.914903 192.794589 \nL 281.950656 192.427703 \nL 282.022162 197.451814 \nL 282.093667 195.054698 \nL 282.12942 194.621519 \nL 282.236679 197.745865 \nL 282.272431 196.784664 \nL 282.308184 196.452879 \nL 282.343937 197.134563 \nL 282.415443 197.984774 \nL 282.451195 197.531717 \nL 282.486948 197.417587 \nL 282.594207 198.628387 \nL 282.62996 198.413595 \nL 282.665712 198.281041 \nL 282.701465 198.443988 \nL 282.772971 198.821383 \nL 282.844476 198.724793 \nL 282.951735 199.081538 \nL 283.058993 199.046244 \nL 283.27351 199.256503 \nL 283.52378 199.356839 \nL 283.952813 199.137881 \nL 284.060072 198.44931 \nL 284.16733 196.272765 \nL 284.310341 187.085194 \nL 284.489105 167.096199 \nL 284.524858 167.866891 \nL 284.632117 196.403039 \nL 284.667869 186.118898 \nL 284.739375 176.771383 \nL 284.775128 182.522697 \nL 284.846633 196.920803 \nL 284.882386 188.03485 \nL 284.918139 182.873038 \nL 284.953892 184.066704 \nL 285.025398 198.803078 \nL 285.096903 190.356421 \nL 285.132656 188.194104 \nL 285.168409 190.822717 \nL 285.239914 199.003471 \nL 285.275667 195.893277 \nL 285.347173 192.726885 \nL 285.382926 195.712655 \nL 285.454431 199.161972 \nL 285.490184 196.768837 \nL 285.525937 195.235279 \nL 285.56169 195.890312 \nL 285.633195 199.51852 \nL 285.704701 197.777597 \nL 285.740454 197.239583 \nL 285.776206 197.952199 \nL 285.847712 199.831866 \nL 285.883465 199.389261 \nL 285.95497 198.425357 \nL 285.990723 198.91028 \nL 286.062229 199.898362 \nL 286.097982 199.652652 \nL 286.169487 199.206902 \nL 286.20524 199.496962 \nL 286.276746 200.027628 \nL 286.312499 199.892622 \nL 286.384004 199.624823 \nL 286.419757 199.768612 \nL 286.491263 200.083658 \nL 286.527015 200.038492 \nL 286.598521 199.894452 \nL 286.634274 199.961997 \nL 286.741532 200.159278 \nL 286.777285 200.109209 \nL 286.848791 200.094049 \nL 286.884543 200.153196 \nL 287.027555 200.192232 \nL 287.313577 200.290283 \nL 287.742611 200.423015 \nL 288.850948 200.573356 \nL 288.958206 200.296141 \nL 289.065465 199.217189 \nL 289.172723 195.482091 \nL 289.351487 175.938884 \nL 289.422993 169.654173 \nL 289.458745 171.910704 \nL 289.530251 191.675255 \nL 289.601757 183.592647 \nL 289.637509 180.670818 \nL 289.673262 183.750819 \nL 289.744768 191.861143 \nL 289.780521 187.49368 \nL 289.816274 185.528486 \nL 289.852026 188.889112 \nL 289.923532 198.758594 \nL 289.959285 193.107723 \nL 289.995038 189.116208 \nL 290.03079 190.091329 \nL 290.102296 199.816463 \nL 290.173802 194.808379 \nL 290.209554 194.095202 \nL 290.28106 198.898733 \nL 290.352566 197.01453 \nL 290.388318 196.554977 \nL 290.495577 200.416535 \nL 290.53133 199.038501 \nL 290.567082 198.042015 \nL 290.602835 198.490892 \nL 290.674341 200.701732 \nL 290.710094 200.379332 \nL 290.781599 199.56604 \nL 290.817352 200.151265 \nL 290.888858 200.812524 \nL 290.92461 200.409097 \nL 290.960363 200.158417 \nL 290.996116 200.368168 \nL 291.067622 201.074346 \nL 291.103375 200.968359 \nL 291.17488 200.699123 \nL 291.210633 200.888752 \nL 291.282139 201.163514 \nL 291.317891 201.053789 \nL 291.353644 200.951623 \nL 291.389397 200.98684 \nL 291.496655 201.267882 \nL 291.532408 201.207246 \nL 291.568161 201.167192 \nL 291.603914 201.200967 \nL 291.711172 201.319558 \nL 291.746925 201.286265 \nL 291.854183 201.368633 \nL 292.0687 201.435593 \nL 292.56924 201.572845 \nL 293.534565 201.806066 \nL 294.535644 201.952402 \nL 294.642902 201.77108 \nL 294.750161 201.082526 \nL 294.857419 198.676746 \nL 295.00043 187.774015 \nL 295.179194 165.147784 \nL 295.214947 166.642392 \nL 295.322206 193.004952 \nL 295.357958 179.130893 \nL 295.393711 173.858581 \nL 295.429464 177.335129 \nL 295.50097 199.881462 \nL 295.536722 188.765993 \nL 295.572475 181.612354 \nL 295.608228 183.00085 \nL 295.679734 199.777328 \nL 295.715486 193.69244 \nL 295.751239 187.645482 \nL 295.822745 194.08035 \nL 295.858498 199.647616 \nL 295.894251 196.819237 \nL 295.930003 192.613174 \nL 296.001509 196.649681 \nL 296.037262 200.272177 \nL 296.108767 196.347766 \nL 296.14452 196.217172 \nL 296.216026 200.671239 \nL 296.287531 198.64972 \nL 296.323284 198.580932 \nL 296.39479 201.116683 \nL 296.466295 200.122848 \nL 296.502048 200.19876 \nL 296.573554 201.659073 \nL 296.645059 201.06746 \nL 296.680812 201.183817 \nL 296.752318 202.092373 \nL 296.788071 201.937777 \nL 296.823823 201.655393 \nL 296.859576 201.708835 \nL 296.931082 202.361647 \nL 297.002587 202.062743 \nL 297.03834 202.017229 \nL 297.145599 202.523251 \nL 297.181352 202.362766 \nL 297.217104 202.249744 \nL 297.252857 202.335557 \nL 297.324363 202.625423 \nL 297.360116 202.554974 \nL 297.431621 202.421317 \nL 297.467374 202.51866 \nL 297.53888 202.608052 \nL 297.574632 202.519146 \nL 297.860655 201.666313 \nL 297.967913 200.160231 \nL 298.110924 194.340866 \nL 298.396947 170.494529 \nL 298.4327 173.661129 \nL 298.539958 200.279337 \nL 298.575711 191.099714 \nL 298.647217 181.014587 \nL 298.682969 183.128828 \nL 298.790228 200.327754 \nL 298.825981 195.236415 \nL 298.897486 188.773403 \nL 298.933239 190.633965 \nL 299.040497 201.38362 \nL 299.07625 198.513142 \nL 299.147756 194.473285 \nL 299.183509 195.848923 \nL 299.290767 202.262882 \nL 299.32652 200.675412 \nL 299.398025 198.307552 \nL 299.433778 199.118719 \nL 299.541037 202.61415 \nL 299.57679 201.993966 \nL 299.648295 200.826479 \nL 299.684048 201.121604 \nL 299.791306 202.81493 \nL 299.862812 202.461449 \nL 299.934318 202.254825 \nL 299.97007 202.440201 \nL 300.077329 203.03822 \nL 300.148834 202.951633 \nL 300.22034 202.894344 \nL 300.256093 202.965016 \nL 300.399104 203.234841 \nL 300.434857 203.216333 \nL 300.542115 203.238183 \nL 300.756632 203.347906 \nL 301.006902 203.278923 \nL 301.149913 202.927843 \nL 301.292924 201.577497 \nL 301.435935 197.215148 \nL 301.614699 189.95374 \nL 301.650452 191.550438 \nL 301.757711 201.353787 \nL 301.829216 199.617754 \nL 301.900722 197.956181 \nL 301.936475 198.889855 \nL 302.043733 201.780972 \nL 302.079486 201.055932 \nL 302.150992 200.00856 \nL 302.186744 200.522176 \nL 302.329756 203.542239 \nL 302.365508 203.038097 \nL 302.437014 202.137899 \nL 302.472767 202.204167 \nL 302.615778 203.440846 \nL 302.651531 203.358341 \nL 302.723036 203.142894 \nL 302.758789 203.197603 \nL 302.937553 203.841824 \nL 302.973306 203.787147 \nL 303.080564 203.724618 \nL 303.295081 203.893528 \nL 303.473845 203.923575 \nL 303.724115 203.99636 \nL 303.974385 203.928685 \nL 304.117396 203.621441 \nL 304.260407 202.636826 \nL 304.403418 199.549275 \nL 304.582182 188.244086 \nL 304.760946 174.196743 \nL 304.796699 175.682488 \nL 304.903958 192.496404 \nL 304.975463 184.476511 \nL 305.011216 181.298805 \nL 305.046969 181.83915 \nL 305.154227 198.519544 \nL 305.225733 190.650216 \nL 305.261486 189.81523 \nL 305.368744 204.057099 \nL 305.44025 197.415954 \nL 305.476002 195.116368 \nL 305.511755 195.891243 \nL 305.619014 201.913459 \nL 305.654767 199.924801 \nL 305.726272 198.197826 \nL 305.762025 199.668519 \nL 305.833531 202.603012 \nL 305.869283 202.148506 \nL 305.940789 200.739327 \nL 305.976542 201.221104 \nL 306.0838 203.541172 \nL 306.119553 203.229916 \nL 306.191059 202.738662 \nL 306.226811 203.053181 \nL 306.33407 203.891941 \nL 306.369823 203.680478 \nL 306.441328 203.354673 \nL 306.477081 203.406071 \nL 306.548587 203.509333 \nL 306.655845 202.689249 \nL 306.834609 199.256454 \nL 307.013373 188.819449 \nL 307.22789 173.007059 \nL 307.263643 174.702391 \nL 307.406654 200.425218 \nL 307.442407 193.859011 \nL 307.513912 185.310955 \nL 307.549665 185.960007 \nL 307.692676 201.099145 \nL 307.728429 198.023042 \nL 307.799935 193.352849 \nL 307.835688 193.864524 \nL 307.978699 203.155651 \nL 308.050205 200.693409 \nL 308.12171 199.201566 \nL 308.157463 199.901407 \nL 308.300474 204.250534 \nL 308.336227 203.686141 \nL 308.443485 202.167868 \nL 308.479238 202.623711 \nL 308.622249 205.078186 \nL 308.658002 204.828939 \nL 308.765261 203.968063 \nL 308.801013 204.124164 \nL 308.944025 205.273623 \nL 308.979777 205.222594 \nL 309.122789 204.813024 \nL 309.158541 204.900559 \nL 309.301553 205.308155 \nL 309.337306 205.296998 \nL 309.694834 204.733462 \nL 309.837845 203.28976 \nL 309.980856 198.614321 \nL 310.15962 183.397696 \nL 310.302631 172.197346 \nL 310.338384 174.214732 \nL 310.445642 194.901982 \nL 310.517148 186.497847 \nL 310.552901 184.598948 \nL 310.588654 186.757047 \nL 310.660159 197.413802 \nL 310.731665 193.181014 \nL 310.767418 190.948059 \nL 310.803171 191.795471 \nL 310.910429 200.525264 \nL 310.946182 198.473795 \nL 310.981935 196.779868 \nL 311.017687 197.285006 \nL 311.124946 203.927926 \nL 311.160699 202.074524 \nL 311.232204 198.994826 \nL 311.267957 200.09553 \nL 311.375215 205.193988 \nL 311.410968 204.190114 \nL 311.482474 202.786168 \nL 311.518227 203.4201 \nL 311.589732 205.118361 \nL 311.661238 204.609914 \nL 311.696991 204.238784 \nL 311.732744 204.287187 \nL 311.840002 205.369842 \nL 311.875755 205.263964 \nL 311.94726 205.004967 \nL 311.983013 205.194122 \nL 312.090272 205.977718 \nL 312.126024 205.891984 \nL 312.19753 205.583183 \nL 312.269036 205.725314 \nL 312.376294 206.002746 \nL 312.412047 205.94732 \nL 312.483552 205.862648 \nL 312.519305 205.891239 \nL 312.662316 205.992604 \nL 312.805328 205.971969 \nL 312.948339 205.938083 \nL 313.162856 205.390531 \nL 313.305867 203.998717 \nL 313.448878 199.908459 \nL 313.627642 186.520762 \nL 313.806406 171.106829 \nL 313.842159 172.330958 \nL 313.949417 199.294196 \nL 314.020923 189.830596 \nL 314.092429 182.724258 \nL 314.128181 186.031357 \nL 314.23544 201.848901 \nL 314.271193 195.750159 \nL 314.342698 190.615224 \nL 314.378451 193.455994 \nL 314.48571 204.044575 \nL 314.521462 200.548685 \nL 314.592968 197.224198 \nL 314.628721 198.949238 \nL 314.735979 204.311933 \nL 314.771732 202.976634 \nL 314.843238 201.791096 \nL 314.87899 202.867593 \nL 314.950496 205.382994 \nL 315.022002 204.657121 \nL 315.093507 204.03794 \nL 315.12926 204.610531 \nL 315.236518 206.051428 \nL 315.272271 205.72967 \nL 315.343777 205.313747 \nL 315.37953 205.58754 \nL 315.486788 206.624855 \nL 315.522541 206.498793 \nL 315.629799 206.030873 \nL 315.665552 206.198752 \nL 315.772811 206.756991 \nL 315.808563 206.703628 \nL 315.915822 206.436335 \nL 315.951575 206.489732 \nL 316.058833 206.739094 \nL 316.094586 206.71512 \nL 316.27335 206.08948 \nL 316.380608 205.017986 \nL 316.523619 200.105081 \nL 316.738136 179.18346 \nL 316.809642 174.208601 \nL 316.845395 175.581997 \nL 316.952653 197.82146 \nL 317.024159 189.674137 \nL 317.059912 186.898162 \nL 317.095664 188.000064 \nL 317.202923 197.050233 \nL 317.274428 195.55213 \nL 317.488945 201.331297 \nL 317.524698 202.786497 \nL 317.560451 202.60501 \nL 317.631956 199.803324 \nL 317.667709 200.165791 \nL 317.774968 206.841836 \nL 317.810721 205.889271 \nL 317.882226 202.850597 \nL 317.917979 203.24694 \nL 318.025237 206.659956 \nL 318.06099 206.139992 \nL 318.132496 205.287594 \nL 318.168249 205.673694 \nL 318.275507 206.800245 \nL 318.31126 206.71317 \nL 318.347013 206.660591 \nL 318.382765 206.706491 \nL 318.454271 206.762726 \nL 318.490024 206.716261 \nL 318.525777 206.729749 \nL 318.668788 207.358966 \nL 318.740293 207.158395 \nL 318.776046 207.10323 \nL 318.811799 207.160338 \nL 318.919057 207.456435 \nL 318.95481 207.419818 \nL 319.312338 206.474408 \nL 319.419597 204.369978 \nL 319.562608 195.513628 \nL 319.777125 170.033602 \nL 319.84863 174.8266 \nL 319.920136 191.34766 \nL 319.955889 187.116797 \nL 320.027394 181.514798 \nL 320.0989 198.671264 \nL 320.170406 189.530095 \nL 320.206158 186.10576 \nL 320.241911 189.024972 \nL 320.313417 202.252993 \nL 320.34917 197.760403 \nL 320.384923 193.748372 \nL 320.420675 194.815207 \nL 320.492181 204.146106 \nL 320.527934 201.614739 \nL 320.599439 197.751493 \nL 320.635192 200.770178 \nL 320.706698 204.277294 \nL 320.742451 202.519598 \nL 320.778203 202.135776 \nL 320.885462 205.805208 \nL 320.921215 204.46522 \nL 320.956967 203.813899 \nL 320.99272 204.588371 \nL 321.064226 206.324233 \nL 321.099979 205.830408 \nL 321.135731 205.527088 \nL 321.171484 206.10989 \nL 321.24299 207.613461 \nL 321.278743 207.168447 \nL 321.350248 206.483474 \nL 321.386001 207.011574 \nL 321.457507 207.544927 \nL 321.49326 207.195308 \nL 321.529012 207.01775 \nL 321.564765 207.269808 \nL 321.636271 207.987143 \nL 321.672024 207.874005 \nL 321.743529 207.5911 \nL 321.779282 207.794155 \nL 321.850788 208.107652 \nL 321.88654 207.979657 \nL 321.958046 207.832207 \nL 321.993799 207.961489 \nL 322.065304 208.120125 \nL 322.101057 208.055694 \nL 322.172563 208.018647 \nL 322.279821 208.20382 \nL 322.351327 208.166891 \nL 323.066383 208.409706 \nL 323.531169 208.427686 \nL 323.674181 208.202445 \nL 323.781439 207.568294 \nL 323.888698 205.62597 \nL 324.031709 197.381105 \nL 324.281978 167.190091 \nL 324.353484 175.48622 \nL 324.42499 204.688801 \nL 324.460742 188.636556 \nL 324.532248 177.878367 \nL 324.568001 184.020808 \nL 324.639506 202.629276 \nL 324.675259 192.368178 \nL 324.711012 186.352537 \nL 324.746765 187.208068 \nL 324.81827 202.613111 \nL 324.889776 194.983787 \nL 324.925529 192.714296 \nL 324.961282 195.532788 \nL 325.032787 205.198052 \nL 325.06854 201.955058 \nL 325.140046 198.314614 \nL 325.175799 201.675753 \nL 325.247304 206.512325 \nL 325.283057 203.791329 \nL 325.31881 201.889068 \nL 325.354563 202.536358 \nL 325.426068 207.476363 \nL 325.497574 205.713317 \nL 325.533327 204.754525 \nL 325.569079 205.325924 \nL 325.640585 208.003184 \nL 325.712091 207.147258 \nL 325.747843 206.728239 \nL 325.783596 207.049971 \nL 325.855102 208.287541 \nL 325.926607 207.998148 \nL 325.96236 207.873303 \nL 325.998113 208.048569 \nL 326.069619 208.547435 \nL 326.141124 208.442974 \nL 326.176877 208.437021 \nL 326.284135 208.745168 \nL 326.319888 208.701314 \nL 326.391394 208.614987 \nL 326.427147 208.654152 \nL 326.498652 208.657337 \nL 326.641664 207.950615 \nL 326.748922 206.531099 \nL 326.891933 200.905468 \nL 327.177956 174.235308 \nL 327.249461 180.292313 \nL 327.320967 204.216821 \nL 327.392472 191.368965 \nL 327.428225 186.185188 \nL 327.499731 190.851377 \nL 327.571237 203.404767 \nL 327.606989 200.142576 \nL 327.678495 194.146533 \nL 327.714248 196.310655 \nL 327.785753 204.811341 \nL 327.857259 201.252504 \nL 327.893012 199.456602 \nL 327.928765 200.140152 \nL 328.036023 207.891101 \nL 328.071776 206.324171 \nL 328.143281 203.216101 \nL 328.179034 204.031901 \nL 328.286293 208.857622 \nL 328.322045 208.058544 \nL 328.393551 206.307244 \nL 328.429304 206.642777 \nL 328.536562 208.986704 \nL 328.572315 208.787632 \nL 328.643821 208.116962 \nL 328.679573 208.251391 \nL 328.786832 209.275456 \nL 328.822585 209.200336 \nL 328.89409 208.868092 \nL 328.929843 208.920787 \nL 329.072854 209.587551 \nL 329.108607 209.485319 \nL 329.180113 209.311401 \nL 329.215866 209.362348 \nL 329.358877 209.703897 \nL 329.39463 209.66803 \nL 329.501888 209.648359 \nL 329.680652 209.768631 \nL 329.823663 209.817817 \nL 330.03818 209.873886 \nL 332.755393 210.402206 \nL 332.862652 210.118403 \nL 332.96991 208.834046 \nL 333.077169 203.858814 \nL 333.255933 177.864943 \nL 333.363191 163.396729 \nL 333.398944 167.061537 \nL 333.470449 193.516194 \nL 333.506202 182.844766 \nL 333.541955 175.030995 \nL 333.577708 177.404787 \nL 333.649214 189.727124 \nL 333.684966 184.195019 \nL 333.720719 184.670722 \nL 333.899483 201.022174 \nL 333.970989 189.548688 \nL 334.006742 196.49315 \nL 334.042494 209.154629 \nL 334.078247 198.692522 \nL 334.114 193.58846 \nL 334.149753 200.845709 \nL 334.185506 207.757281 \nL 334.221258 200.42972 \nL 334.257011 199.401125 \nL 334.328517 205.600666 \nL 334.36427 201.857249 \nL 334.435775 208.853942 \nL 334.471528 205.099881 \nL 334.507281 203.312383 \nL 334.578786 210.322729 \nL 334.614539 206.472424 \nL 334.650292 205.745145 \nL 334.721798 209.41797 \nL 334.75755 207.715904 \nL 334.972067 210.629946 \nL 335.043573 209.050548 \nL 335.079326 210.2541 \nL 335.115079 210.697395 \nL 335.150831 209.962292 \nL 335.186584 209.932164 \nL 335.222337 210.570405 \nL 335.329595 210.520817 \nL 335.365348 210.867869 \nL 335.401101 210.601711 \nL 335.436854 210.413739 \nL 335.472607 210.773248 \nL 335.508359 211.027058 \nL 335.544112 210.795878 \nL 335.579865 210.659717 \nL 335.615618 210.874959 \nL 335.758629 211.040485 \nL 335.865887 211.002586 \nL 335.90164 211.125617 \nL 335.973146 211.029707 \nL 336.223416 211.170639 \nL 336.545191 211.26373 \nL 337.009977 211.380516 \nL 337.689281 211.43943 \nL 337.796539 211.238323 \nL 337.903797 210.407139 \nL 338.011056 207.33088 \nL 338.154067 193.648641 \nL 338.332831 167.925797 \nL 338.368584 170.64495 \nL 338.440089 204.519661 \nL 338.475842 194.815335 \nL 338.547348 177.988592 \nL 338.583101 184.896476 \nL 338.618854 200.82256 \nL 338.690359 188.441484 \nL 338.726112 185.610102 \nL 338.761865 191.42386 \nL 338.797618 202.734222 \nL 338.869123 194.143849 \nL 338.904876 192.669809 \nL 338.976382 205.321089 \nL 339.047887 198.486981 \nL 339.08364 198.397232 \nL 339.155146 207.618496 \nL 339.190898 205.357702 \nL 339.226651 202.121288 \nL 339.262404 202.863166 \nL 339.33391 209.580855 \nL 339.369662 207.203097 \nL 339.405415 204.772198 \nL 339.441168 205.660697 \nL 339.512674 211.061987 \nL 339.548426 209.177932 \nL 339.584179 207.076272 \nL 339.619932 207.506504 \nL 339.691438 211.75434 \nL 339.727191 210.722224 \nL 339.798696 208.849279 \nL 339.834449 210.36136 \nL 339.870202 211.797188 \nL 339.941707 210.435513 \nL 339.97746 210.013749 \nL 340.013213 210.733075 \nL 340.084719 211.916644 \nL 340.120471 211.333784 \nL 340.156224 210.892549 \nL 340.191977 211.108431 \nL 340.263483 211.973342 \nL 340.299235 211.780192 \nL 340.370741 211.482738 \nL 340.406494 211.751414 \nL 340.442247 211.980359 \nL 340.513752 211.824897 \nL 340.549505 211.780647 \nL 340.585258 211.893848 \nL 340.656763 212.06184 \nL 340.692516 211.995912 \nL 340.728269 211.954272 \nL 340.764022 212.004293 \nL 340.835527 212.140092 \nL 340.907033 212.071626 \nL 342.980696 212.58759 \nL 343.123707 212.440302 \nL 343.230965 211.827855 \nL 343.338224 209.359959 \nL 343.481235 196.883853 \nL 343.695752 165.083612 \nL 343.731505 168.953522 \nL 343.80301 199.513313 \nL 343.838763 185.744087 \nL 343.874516 176.425426 \nL 343.910269 177.502781 \nL 343.981774 198.490508 \nL 344.017527 188.27536 \nL 344.05328 182.628269 \nL 344.089033 186.874953 \nL 344.160538 201.543977 \nL 344.196291 190.720619 \nL 344.232044 188.627284 \nL 344.30355 207.957324 \nL 344.339302 201.460287 \nL 344.375055 193.885903 \nL 344.410808 195.396481 \nL 344.482314 211.23249 \nL 344.518066 202.266834 \nL 344.553819 197.831305 \nL 344.589572 201.379321 \nL 344.661078 210.762313 \nL 344.696831 204.554498 \nL 344.732583 202.867726 \nL 344.804089 211.164473 \nL 344.839842 209.422082 \nL 344.875595 206.284253 \nL 344.911347 206.952507 \nL 344.982853 212.30368 \nL 345.018606 209.808352 \nL 345.054359 208.047286 \nL 345.090111 209.379404 \nL 345.161617 212.570552 \nL 345.19737 210.721727 \nL 345.233123 209.860552 \nL 345.268875 211.06358 \nL 345.304628 212.714257 \nL 345.376134 211.475201 \nL 345.411887 211.12331 \nL 345.483392 212.875241 \nL 345.554898 212.104964 \nL 345.590651 212.061433 \nL 345.662156 213.025845 \nL 345.697909 212.791942 \nL 345.733662 212.419484 \nL 345.769415 212.493964 \nL 345.84092 213.186171 \nL 345.876673 213.017192 \nL 345.912426 212.762167 \nL 345.983932 213.043793 \nL 346.019684 213.203369 \nL 346.055437 213.124764 \nL 346.09119 212.990091 \nL 346.162696 213.15328 \nL 346.198448 213.246676 \nL 346.269954 213.137742 \nL 347.521302 213.544635 \nL 350.345774 213.896983 \nL 350.453032 213.173912 \nL 350.560291 210.181412 \nL 350.703302 195.620631 \nL 350.882066 168.586949 \nL 350.917819 169.619526 \nL 351.132336 189.508127 \nL 351.203841 183.647911 \nL 351.239594 186.015798 \nL 351.3111 203.070319 \nL 351.346852 195.275087 \nL 351.382605 191.230457 \nL 351.418358 193.889305 \nL 351.597122 208.642603 \nL 351.668628 197.03453 \nL 351.70438 200.339751 \nL 351.775886 211.101398 \nL 351.811639 206.100713 \nL 351.847392 204.857487 \nL 351.883144 207.334383 \nL 352.061909 212.737458 \nL 351.95465 206.670847 \nL 352.097661 210.322455 \nL 352.133414 208.873169 \nL 352.169167 210.019984 \nL 352.347931 213.925364 \nL 352.419437 211.375053 \nL 352.455189 211.611382 \nL 352.526695 214.056719 \nL 352.598201 213.294598 \nL 352.669706 213.777014 \nL 352.705459 213.485471 \nL 352.741212 213.372819 \nL 352.84847 214.354285 \nL 352.884223 214.092526 \nL 352.919976 214.085193 \nL 352.991481 214.279324 \nL 353.027234 214.119319 \nL 353.062987 214.162656 \nL 353.134493 214.657184 \nL 353.205998 214.42564 \nL 353.277504 214.506121 \nL 353.456268 214.721598 \nL 353.492021 214.684171 \nL 353.563526 214.668764 \nL 353.599279 214.713426 \nL 354.814875 214.92824 \nL 354.922133 214.756233 \nL 355.029391 214.140186 \nL 355.13665 212.09577 \nL 355.279661 202.815607 \nL 355.529931 170.892319 \nL 355.565684 173.753803 \nL 355.637189 199.900564 \nL 355.708695 186.269348 \nL 355.744448 182.112606 \nL 355.7802 185.275241 \nL 355.851706 203.396068 \nL 355.887459 197.959958 \nL 355.958964 191.910617 \nL 355.994717 196.233314 \nL 356.066223 200.800167 \nL 356.137728 200.371015 \nL 356.209234 205.666355 \nL 356.244987 203.857251 \nL 356.28074 202.383611 \nL 356.316492 204.144062 \nL 356.387998 210.78793 \nL 356.423751 208.086723 \nL 356.459504 205.084786 \nL 356.495256 205.355384 \nL 356.602515 213.947899 \nL 356.638268 210.486169 \nL 356.67402 208.401789 \nL 356.709773 209.402454 \nL 356.781279 215.068779 \nL 356.817032 214.240006 \nL 356.888537 211.024888 \nL 356.92429 211.956368 \nL 356.995796 214.77628 \nL 357.031549 214.335507 \nL 357.103054 213.363808 \nL 357.138807 213.94217 \nL 357.210313 214.823205 \nL 357.281818 214.553323 \n\" style=\"fill:none;stroke:#000000;stroke-linecap:square;stroke-width:1.5;\"/>\n   </g>\n   <g id=\"patch_3\">\n    <path d=\"M 37.7 224.952415 \nL 37.7 7.512415 \n\" style=\"fill:none;stroke:#000000;stroke-linecap:square;stroke-linejoin:miter;stroke-width:0.8;\"/>\n   </g>\n   <g id=\"patch_4\">\n    <path d=\"M 372.5 224.952415 \nL 372.5 7.512415 \n\" style=\"fill:none;stroke:#000000;stroke-linecap:square;stroke-linejoin:miter;stroke-width:0.8;\"/>\n   </g>\n   <g id=\"patch_5\">\n    <path d=\"M 37.7 224.952415 \nL 372.5 224.952415 \n\" style=\"fill:none;stroke:#000000;stroke-linecap:square;stroke-linejoin:miter;stroke-width:0.8;\"/>\n   </g>\n   <g id=\"patch_6\">\n    <path d=\"M 37.7 7.512415 \nL 372.5 7.512415 \n\" style=\"fill:none;stroke:#000000;stroke-linecap:square;stroke-linejoin:miter;stroke-width:0.8;\"/>\n   </g>\n  </g>\n </g>\n <defs>\n  <clipPath id=\"p38d032de71\">\n   <rect height=\"217.44\" width=\"334.8\" x=\"37.7\" y=\"7.512415\"/>\n  </clipPath>\n </defs>\n</svg>\n",
            "image/png": "[encoded data removed]"
          },
          "metadata": {
            "needs_background": "light"
          }
        }
      ],
      "metadata": {}
    },
    {
      "cell_type": "code",
      "execution_count": null,
      "source": [
        "# # a single integration step for a single state\n",
        "# def rk4_step(f, x, u, h):\n",
        "#   k1 = f(x, u)\n",
        "#   k2 = f(x + h*k1/2, u)\n",
        "#   k3 = f(x + h*k2/2, u)\n",
        "#   k4 = f(x + h*k3, u)\n",
        "#   return x + h*(k1 + 2*k2 + 2*k3 + k4)/6"
      ],
      "outputs": [],
      "metadata": {
        "id": "HRmjyV5XZfyb"
      }
    }
  ]
}