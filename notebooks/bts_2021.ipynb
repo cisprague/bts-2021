{
  "nbformat": 4,
  "nbformat_minor": 2,
  "metadata": {
    "colab": {
      "name": "bts-2021.ipynb",
      "provenance": [],
      "collapsed_sections": [],
      "include_colab_link": true
    },
    "kernelspec": {
      "name": "python3",
      "display_name": "Python 3.8.10 64-bit"
    },
    "language_info": {
      "name": "python",
      "version": "3.8.10",
      "mimetype": "text/x-python",
      "codemirror_mode": {
        "name": "ipython",
        "version": 3
      },
      "pygments_lexer": "ipython3",
      "nbconvert_exporter": "python",
      "file_extension": ".py"
    },
    "accelerator": "GPU",
    "widgets": {
      "application/vnd.jupyter.widget-state+json": {
        "453c2439576b4b37a230ab19c0250bc7": {
          "model_module": "@jupyter-widgets/controls",
          "model_name": "HBoxModel",
          "state": {
            "_view_name": "HBoxView",
            "_dom_classes": [],
            "_model_name": "HBoxModel",
            "_view_module": "@jupyter-widgets/controls",
            "_model_module_version": "1.5.0",
            "_view_count": null,
            "_view_module_version": "1.5.0",
            "box_style": "",
            "layout": "IPY_MODEL_ba5c1bee1285422186d3226053062df1",
            "_model_module": "@jupyter-widgets/controls",
            "children": [
              "IPY_MODEL_76d9dd852768496ea2c7c524cc9a898f",
              "IPY_MODEL_67512724390d437698f0e0a9a9e13b19"
            ]
          }
        },
        "ba5c1bee1285422186d3226053062df1": {
          "model_module": "@jupyter-widgets/base",
          "model_name": "LayoutModel",
          "state": {
            "_view_name": "LayoutView",
            "grid_template_rows": null,
            "right": null,
            "justify_content": null,
            "_view_module": "@jupyter-widgets/base",
            "overflow": null,
            "_model_module_version": "1.2.0",
            "_view_count": null,
            "flex_flow": null,
            "width": null,
            "min_width": null,
            "border": null,
            "align_items": null,
            "bottom": null,
            "_model_module": "@jupyter-widgets/base",
            "top": null,
            "grid_column": null,
            "overflow_y": null,
            "overflow_x": null,
            "grid_auto_flow": null,
            "grid_area": null,
            "grid_template_columns": null,
            "flex": null,
            "_model_name": "LayoutModel",
            "justify_items": null,
            "grid_row": null,
            "max_height": null,
            "align_content": null,
            "visibility": null,
            "align_self": null,
            "height": null,
            "min_height": null,
            "padding": null,
            "grid_auto_rows": null,
            "grid_gap": null,
            "max_width": null,
            "order": null,
            "_view_module_version": "1.2.0",
            "grid_template_areas": null,
            "object_position": null,
            "object_fit": null,
            "grid_auto_columns": null,
            "margin": null,
            "display": null,
            "left": null
          }
        },
        "76d9dd852768496ea2c7c524cc9a898f": {
          "model_module": "@jupyter-widgets/controls",
          "model_name": "FloatProgressModel",
          "state": {
            "_view_name": "ProgressView",
            "style": "IPY_MODEL_513ba46faa144d3481cfdc12f178ce53",
            "_dom_classes": [],
            "description": "0.161347: 100%",
            "_model_name": "FloatProgressModel",
            "bar_style": "success",
            "max": 1000,
            "_view_module": "@jupyter-widgets/controls",
            "_model_module_version": "1.5.0",
            "value": 1000,
            "_view_count": null,
            "_view_module_version": "1.5.0",
            "orientation": "horizontal",
            "min": 0,
            "description_tooltip": null,
            "_model_module": "@jupyter-widgets/controls",
            "layout": "IPY_MODEL_8adf4244e0274fb6a3cc40c4d305f424"
          }
        },
        "67512724390d437698f0e0a9a9e13b19": {
          "model_module": "@jupyter-widgets/controls",
          "model_name": "HTMLModel",
          "state": {
            "_view_name": "HTMLView",
            "style": "IPY_MODEL_b18b694caf864842ae56d15e94b55244",
            "_dom_classes": [],
            "description": "",
            "_model_name": "HTMLModel",
            "placeholder": "​",
            "_view_module": "@jupyter-widgets/controls",
            "_model_module_version": "1.5.0",
            "value": " 1000/1000 [17:55&lt;00:00,  1.08s/it]",
            "_view_count": null,
            "_view_module_version": "1.5.0",
            "description_tooltip": null,
            "_model_module": "@jupyter-widgets/controls",
            "layout": "IPY_MODEL_17a45d63f5614d048e548f170a2608ad"
          }
        },
        "513ba46faa144d3481cfdc12f178ce53": {
          "model_module": "@jupyter-widgets/controls",
          "model_name": "ProgressStyleModel",
          "state": {
            "_view_name": "StyleView",
            "_model_name": "ProgressStyleModel",
            "description_width": "initial",
            "_view_module": "@jupyter-widgets/base",
            "_model_module_version": "1.5.0",
            "_view_count": null,
            "_view_module_version": "1.2.0",
            "bar_color": null,
            "_model_module": "@jupyter-widgets/controls"
          }
        },
        "8adf4244e0274fb6a3cc40c4d305f424": {
          "model_module": "@jupyter-widgets/base",
          "model_name": "LayoutModel",
          "state": {
            "_view_name": "LayoutView",
            "grid_template_rows": null,
            "right": null,
            "justify_content": null,
            "_view_module": "@jupyter-widgets/base",
            "overflow": null,
            "_model_module_version": "1.2.0",
            "_view_count": null,
            "flex_flow": null,
            "width": null,
            "min_width": null,
            "border": null,
            "align_items": null,
            "bottom": null,
            "_model_module": "@jupyter-widgets/base",
            "top": null,
            "grid_column": null,
            "overflow_y": null,
            "overflow_x": null,
            "grid_auto_flow": null,
            "grid_area": null,
            "grid_template_columns": null,
            "flex": null,
            "_model_name": "LayoutModel",
            "justify_items": null,
            "grid_row": null,
            "max_height": null,
            "align_content": null,
            "visibility": null,
            "align_self": null,
            "height": null,
            "min_height": null,
            "padding": null,
            "grid_auto_rows": null,
            "grid_gap": null,
            "max_width": null,
            "order": null,
            "_view_module_version": "1.2.0",
            "grid_template_areas": null,
            "object_position": null,
            "object_fit": null,
            "grid_auto_columns": null,
            "margin": null,
            "display": null,
            "left": null
          }
        },
        "b18b694caf864842ae56d15e94b55244": {
          "model_module": "@jupyter-widgets/controls",
          "model_name": "DescriptionStyleModel",
          "state": {
            "_view_name": "StyleView",
            "_model_name": "DescriptionStyleModel",
            "description_width": "",
            "_view_module": "@jupyter-widgets/base",
            "_model_module_version": "1.5.0",
            "_view_count": null,
            "_view_module_version": "1.2.0",
            "_model_module": "@jupyter-widgets/controls"
          }
        },
        "17a45d63f5614d048e548f170a2608ad": {
          "model_module": "@jupyter-widgets/base",
          "model_name": "LayoutModel",
          "state": {
            "_view_name": "LayoutView",
            "grid_template_rows": null,
            "right": null,
            "justify_content": null,
            "_view_module": "@jupyter-widgets/base",
            "overflow": null,
            "_model_module_version": "1.2.0",
            "_view_count": null,
            "flex_flow": null,
            "width": null,
            "min_width": null,
            "border": null,
            "align_items": null,
            "bottom": null,
            "_model_module": "@jupyter-widgets/base",
            "top": null,
            "grid_column": null,
            "overflow_y": null,
            "overflow_x": null,
            "grid_auto_flow": null,
            "grid_area": null,
            "grid_template_columns": null,
            "flex": null,
            "_model_name": "LayoutModel",
            "justify_items": null,
            "grid_row": null,
            "max_height": null,
            "align_content": null,
            "visibility": null,
            "align_self": null,
            "height": null,
            "min_height": null,
            "padding": null,
            "grid_auto_rows": null,
            "grid_gap": null,
            "max_width": null,
            "order": null,
            "_view_module_version": "1.2.0",
            "grid_template_areas": null,
            "object_position": null,
            "object_fit": null,
            "grid_auto_columns": null,
            "margin": null,
            "display": null,
            "left": null
          }
        }
      }
    },
    "interpreter": {
      "hash": "916dbcbb3f70747c44a77c7bcd40155683ae19c65e1c03b4aa3499c5328201f1"
    }
  },
  "cells": [
    {
      "cell_type": "markdown",
      "source": [
        "<a href=\"https://colab.research.google.com/github/cisprague/bts-2021/blob/main/notebooks/bts_2021.ipynb\" target=\"_parent\"><img src=\"https://colab.research.google.com/assets/colab-badge.svg\" alt=\"Open In Colab\"/></a>"
      ],
      "metadata": {
        "id": "view-in-github",
        "colab_type": "text"
      }
    },
    {
      "cell_type": "markdown",
      "source": [
        "# System identification of AUVs with physics-informed learning\n",
        "\n",
        "Christopher Iliffe Sprague (sprague@kth.se)\n",
        "\n",
        "Sriharsha Bhat (svbhat@kth.se)"
      ],
      "metadata": {
        "id": "XOFl1RKPjdt_"
      }
    },
    {
      "cell_type": "markdown",
      "source": [
        "# Outline\n",
        "\n",
        "- Background\n",
        "- What's the benefit?\n",
        "- Data generation\n",
        "- Model identification\n",
        "- Simulation\n",
        "- Discussion and future work"
      ],
      "metadata": {
        "id": "yEzpfNjMjz7Y"
      }
    },
    {
      "cell_type": "markdown",
      "source": [
        "# Resources"
      ],
      "metadata": {
        "id": "Ke5En5u7mzJ8"
      }
    },
    {
      "cell_type": "code",
      "execution_count": 8,
      "source": [
        "# JAX for autograd and and numerics\n",
        "import jax.numpy as np\n",
        "from jax import jit, vmap, jacobian, hessian, grad\n",
        "from jax.experimental.ode import odeint\n",
        "from jax.random import uniform, choice\n",
        "from jax.nn import softplus\n",
        "from jax.lax import stop_gradient\n",
        "\n",
        "# Haiku for neural networks\n",
        "# !pip install git+https://github.com/deepmind/dm-haiku\n",
        "import haiku as hk\n",
        "\n",
        "# Optax for optimisation\n",
        "# !pip install git+https://github.com/deepmind/optax\n",
        "import optax\n",
        "\n",
        "# TQDM for training loop feedback\n",
        "from tqdm.notebook import tqdm\n",
        "\n",
        "# SKLearn for preprocessing data\n",
        "from sklearn import preprocessing\n",
        "\n",
        "# treating some arguments as static\n",
        "from functools import partial\n",
        "\n",
        "# matplotlib for plotting\n",
        "import matplotlib.pyplot as plt\n",
        "from mpl_toolkits.mplot3d import Axes3D\n",
        "%matplotlib inline"
      ],
      "outputs": [],
      "metadata": {
        "id": "MbwNlmTpmyru",
        "colab": {
          "base_uri": "https://localhost:8080/"
        },
        "outputId": "54a0e4cf-bf27-4617-8a26-cee6f42d2ece"
      }
    },
    {
      "cell_type": "markdown",
      "source": [
        "# Analytical model"
      ],
      "metadata": {
        "id": "7SDLTz2ukoQq"
      }
    },
    {
      "cell_type": "code",
      "execution_count": 9,
      "source": [
        "state_dim = 12\n",
        "control_dim = 6"
      ],
      "outputs": [],
      "metadata": {
        "id": "JRrF0LgBULxN"
      }
    },
    {
      "cell_type": "code",
      "execution_count": 10,
      "source": [
        "@jit\n",
        "def skew(l):\n",
        "  return np.array([\n",
        "    [0, -l[2], l[1]],\n",
        "    [l[2], 0, -l[0]],\n",
        "    [-l[1], l[0], 0]\n",
        "  ])"
      ],
      "outputs": [],
      "metadata": {
        "id": "Pdx2qOUuktpJ"
      }
    },
    {
      "cell_type": "code",
      "execution_count": 11,
      "source": [
        "@jit\n",
        "def f_analytical(state, control):\n",
        "\n",
        "  # state and control\n",
        "  x, y, z, phi, theta, psi, u, v, w, p, q, r = state\n",
        "  rpm1, rpm2, de, dr, lcg, vbs = control\n",
        "\n",
        "  # position and velocity\n",
        "  eta = np.array([x, y, z, phi, theta, psi])\n",
        "  nu = np.array([u, v, w, p, q, r])\n",
        "\n",
        "  # scaled controls\n",
        "  rpm1 *= 1000.0\n",
        "  rpm2 *= 1000.0\n",
        "  de *= 0.05\n",
        "  dr *= 0.05\n",
        "  # vbs *= 1.0\n",
        "  # lcg *= 1.0\n",
        "\n",
        "  # mass and inertia matrix\n",
        "  m = 14.0\n",
        "  I_o = np.diag(np.array([0.0294, 1.6202, 1.6202]))\n",
        "\n",
        "  # centre of gravity, buoyancy, and pressure positions, resp.\n",
        "  r_g = np.array([0.1 + lcg*0.01, 0.0, 0.0])\n",
        "  r_b = np.array([0.1, 0.0, 0.0])\n",
        "  r_cp = np.array([0.1, 0.0, 0.0])\n",
        "\n",
        "  # <insert title>\n",
        "  W = m*9.81\n",
        "  B = W + vbs*1.5\n",
        "\n",
        "  # hydrodynamic coefficients\n",
        "  Xuu = 5. #3. #1.0\n",
        "  Yvv = 20. #10. #100.0\n",
        "  Zww = 50. #100.0\n",
        "  Kpp = 0.1 #10.0\n",
        "  Mqq = 20.#40 #100.0\n",
        "  Nrr = 20. #150.0\n",
        "\n",
        "  # control actuators\n",
        "  K_T = np.array([0.0175, 0.0175])\n",
        "  Q_T = np.array([0.001, -0.001])#*0.0\n",
        "\n",
        "  # mass and inertia matrix\n",
        "  M = np.block([\n",
        "    [m*np.eye(3,3), -m*skew(r_g)],\n",
        "    [m*skew(r_g), I_o]\n",
        "  ])\n",
        "  assert M.shape == (6,6), M\n",
        "\n",
        "  # coriolis and centripetal matrix\n",
        "  nu1 = np.array([u, v, w])\n",
        "  nu2 = np.array([p, q, r])\n",
        "  top_right = -m*skew(nu1) - m*skew(nu2)*skew(r_g)\n",
        "  bottom_left = -m*skew(nu1) + m*skew(r_g)*skew(nu2)\n",
        "  bottom_right = -skew(I_o.dot(nu2))\n",
        "  C_RB = np.block([\n",
        "    [np.zeros((3,3)), top_right],\n",
        "    [bottom_left, bottom_right]\n",
        "  ])\n",
        "  assert C_RB.shape == (6, 6), C_RB\n",
        "\n",
        "  # damping matrix\n",
        "  forces = np.diag(np.array([Xuu*np.abs(u), Yvv*np.abs(v), Zww*np.abs(w)]))\n",
        "  moments = np.diag(np.array([Kpp*np.abs(p), Mqq*np.abs(q), Nrr*np.abs(r)]))\n",
        "  coupling = np.matmul(skew(r_cp), forces)\n",
        "  D = np.block([[forces, np.zeros((3, 3))], [-coupling, moments]])\n",
        "  assert D.shape == (6, 6), D\n",
        "\n",
        "  # rotational transform between body and NED in Euler        \n",
        "  T_euler = np.array([\n",
        "    [1, np.sin(phi)*np.tan(theta), np.cos(phi)*np.tan(theta)],\n",
        "    [0, np.cos(phi), -np.sin(phi)],\n",
        "    [0, np.sin(phi)/np.cos(theta), np.cos(phi)/np.cos(theta)],\n",
        "  ])\n",
        "  R_euler = np.array([\n",
        "    [\n",
        "      np.cos(psi)*np.cos(theta),\n",
        "      -np.sin(psi)*np.cos(phi)+np.cos(psi)*np.sin(theta)*np.sin(phi),\n",
        "      np.sin(psi)*np.sin(phi)+np.cos(psi)*np.cos(phi)*np.sin(theta)\n",
        "    ],\n",
        "    [\n",
        "      np.sin(psi)*np.cos(theta),\n",
        "      np.cos(psi)*np.cos(phi)+np.sin(phi)*np.sin(theta)*np.sin(psi),\n",
        "      -np.cos(psi)*np.sin(phi)+np.sin(theta)*np.sin(psi)*np.cos(phi),\n",
        "    ],\n",
        "    [\n",
        "      -np.sin(theta),\n",
        "      np.cos(theta)*np.sin(phi),\n",
        "      np.cos(theta)*np.cos(phi),\n",
        "    ],\n",
        "  ])\n",
        "  assert R_euler.shape == (3,3), R_euler\n",
        "  J_eta = np.block([\n",
        "    [R_euler, np.zeros((3,3))],\n",
        "    [np.zeros((3,3)), T_euler]\n",
        "  ])\n",
        "  assert J_eta.shape == (6,6), J_eta\n",
        "\n",
        "  # buoyancy in quaternions\n",
        "  f_g = np.array([0, 0, W])\n",
        "  f_b = np.array([0, 0, -B])\n",
        "  row1 = np.linalg.inv(R_euler).dot(f_g + f_b)\n",
        "  row2 = skew(r_g).dot(np.linalg.inv(R_euler)).dot(f_g) + \\\n",
        "    skew(r_b).dot(np.linalg.inv(R_euler)).dot(f_b)\n",
        "  geta = np.block([row1, row2])\n",
        "  assert geta.shape == (6,), geta\n",
        "\n",
        "  # <insert title>\n",
        "  F_T = K_T.dot(np.array([rpm1, rpm2]))\n",
        "  M_T = Q_T.dot(np.array([rpm1, rpm2]))\n",
        "  tauc = np.array([\n",
        "    F_T*np.cos(de)*np.cos(dr),\n",
        "    -F_T*np.sin(dr),\n",
        "    F_T*np.sin(de)*np.cos(dr),\n",
        "    M_T*np.cos(de)*np.cos(dr),\n",
        "    -M_T*np.sin(dr),\n",
        "    M_T*np.sin(de)*np.cos(dr)\n",
        "  ])\n",
        "  assert tauc.shape == (6,), tauc\n",
        "\n",
        "  # velocity and acceleration \n",
        "  etadot = np.block([J_eta.dot(nu)])\n",
        "  assert etadot.shape == (6,)\n",
        "  nudot = np.linalg.inv(M).dot(tauc - (C_RB + D).dot(nu - geta))\n",
        "  assert nudot.shape == (6,)\n",
        "\n",
        "  # state-space\n",
        "  sdot = np.block([etadot, nudot])\n",
        "  return sdot"
      ],
      "outputs": [],
      "metadata": {
        "id": "UEqKTbPanK_u"
      }
    },
    {
      "cell_type": "markdown",
      "source": [
        "# Generating data\n",
        "\n",
        "We want to ensure percitant excitation to make sure we cover a variety of states.\n",
        "\n",
        "To do this, we will simulate random state-feedback controllers. A straighforward way to do this is to simulate NN controllers with random parameters."
      ],
      "metadata": {
        "id": "ARZTeE8Baj09"
      }
    },
    {
      "cell_type": "markdown",
      "source": [
        "## Integration"
      ],
      "metadata": {
        "id": "6ocCFhWV1t4r"
      }
    },
    {
      "cell_type": "code",
      "execution_count": 12,
      "source": [
        "# a single integration step for a single state\n",
        "def rk4_step(f, x, u, h):\n",
        "  k1 = f(x, u)\n",
        "  k2 = f(x + h*k1/2, u)\n",
        "  k3 = f(x + h*k2/2, u)\n",
        "  k4 = f(x + h*k3, u)\n",
        "  return x + h*(k1 + 2*k2 + 2*k3 + k4)/6"
      ],
      "outputs": [],
      "metadata": {
        "id": "HRmjyV5XZfyb"
      }
    },
    {
      "cell_type": "code",
      "execution_count": 13,
      "source": [
        "# a single step\n",
        "@jit\n",
        "def rk4_step_analytical(x, u, h):\n",
        "  x = stop_gradient(x)\n",
        "  u = stop_gradient(u)\n",
        "  h = stop_gradient(h)\n",
        "  return rk4_step(f_analytical, x, u, h)\n",
        "\n",
        "# a single step for multiple states in parallel\n",
        "rk4_steps_analytical = jit(vmap(rk4_step_analytical, in_axes=(0, 0, None)))"
      ],
      "outputs": [],
      "metadata": {
        "id": "iox-TLdmbFLZ"
      }
    },
    {
      "cell_type": "markdown",
      "source": [
        "## Random training data"
      ],
      "metadata": {
        "id": "lh_TXA1Q3WJA"
      }
    },
    {
      "cell_type": "code",
      "execution_count": 84,
      "source": [
        "key = hk.PRNGSequence(42)\n",
        "n_train = 5000\n",
        "h = 0.01"
      ],
      "outputs": [],
      "metadata": {
        "id": "UveZ36MK5KVH"
      }
    },
    {
      "cell_type": "code",
      "execution_count": 85,
      "source": [
        "states0 = uniform(\n",
        "    next(key),\n",
        "    shape=(n_train, state_dim),\n",
        "    minval=np.array([-10, -10, -10, -np.pi, -np.pi, -np.pi, -5, -5, -5, -5, -5, -5]),\n",
        "    maxval=np.array([10, 10, 10, np.pi, np.pi, np.pi, 5, 5, 5, 5, 5, 5])\n",
        ")"
      ],
      "outputs": [],
      "metadata": {
        "id": "Pe20UyGi5Ayq"
      }
    },
    {
      "cell_type": "code",
      "execution_count": 86,
      "source": [
        "controls0 = uniform(\n",
        "    next(key),\n",
        "    shape=(n_train, control_dim),\n",
        "    minval=np.full(control_dim, -1, dtype=np.float32),\n",
        "    maxval=np.full(control_dim, 1, dtype=np.float32)\n",
        ")"
      ],
      "outputs": [],
      "metadata": {
        "id": "d7DXMKXNxfQ9"
      }
    },
    {
      "cell_type": "code",
      "execution_count": 87,
      "source": [
        "dstates0 = vmap(f_analytical, in_axes=(0, 0))(states0, controls0)"
      ],
      "outputs": [],
      "metadata": {}
    },
    {
      "cell_type": "code",
      "execution_count": 88,
      "source": [
        "states1 = rk4_steps_analytical(states0, controls0, h)"
      ],
      "outputs": [],
      "metadata": {
        "id": "ZrJz4jcX1xl7"
      }
    },
    {
      "cell_type": "code",
      "execution_count": 89,
      "source": [
        "scaler = preprocessing.StandardScaler().fit(states0)\n",
        "mean = scaler.mean_\n",
        "scale = scaler.scale_\n",
        "mean = 0\n",
        "scale = 1"
      ],
      "outputs": [],
      "metadata": {
        "id": "tqMsbIi4rTLi"
      }
    },
    {
      "cell_type": "markdown",
      "source": [
        "## Visualisation"
      ],
      "metadata": {
        "id": "P1IxHrfM3JAR"
      }
    },
    {
      "cell_type": "code",
      "execution_count": 90,
      "source": [
        "# TODO: add quiver\n",
        "trajs = np.hstack((states0, states1)).reshape((-1, 2, 12))\n",
        "fig = plt.figure()\n",
        "ax = fig.add_subplot(111, projection='3d')\n",
        "for i in range(1000):\n",
        "  ax.plot(trajs[i,:,0], trajs[i,:,1], trajs[i,:,2], 'k-')\n",
        "plt.show()"
      ],
      "outputs": [
        {
          "output_type": "display_data",
          "data": {
            "text/plain": [
              "<Figure size 432x288 with 1 Axes>"
            ],
            "image/png": "[encoded data removed]"
          },
          "metadata": {
            "needs_background": "light"
          }
        }
      ],
      "metadata": {
        "colab": {
          "base_uri": "https://localhost:8080/",
          "height": 248
        },
        "id": "2CcBdQUE3XvZ",
        "outputId": "ba4e5873-7afd-451b-ad2d-7689616e5108"
      }
    },
    {
      "cell_type": "markdown",
      "source": [
        "# Learning models\n",
        "\n",
        "We will test a naïve multi-layer-perceptron model and a physics-informed model (https://arxiv.org/pdf/2106.00026.pdf)."
      ],
      "metadata": {
        "id": "fSVIWCaWdMIk"
      }
    },
    {
      "cell_type": "markdown",
      "source": [
        "## Naïve model"
      ],
      "metadata": {
        "id": "bKelBIRs6Utd"
      }
    },
    {
      "cell_type": "code",
      "execution_count": 91,
      "source": [
        "def F_naive(state, control):\n",
        "  state = (state - mean)/scale\n",
        "  net = hk.nets.MLP([500, 500, 500, 12], activation=softplus)\n",
        "  return net(np.hstack((state, control)))"
      ],
      "outputs": [],
      "metadata": {
        "id": "HUAEolYeSzvU"
      }
    },
    {
      "cell_type": "markdown",
      "source": [
        "## Physics-informed model\n",
        "\n",
        "To learn the dynamics model from data we will use physics-informed learning: a way to constrain neural network models to obey the first-principles of physics.\n",
        "\n",
        "We will model a Lagrangian to learn to conservative part of the dynamics.\n",
        "\n",
        "\n",
        "$$\n",
        "\\ddot q = (\\nabla_{\\dot q}\\nabla_{\\dot q}^{\\top}\\mathcal{L})^{-1}[\\nabla_q \\mathcal{L} - (\\nabla_{q}\\nabla_{\\dot q}^{\\top}\\mathcal{L})\\dot q\n",
        "$$\n",
        "\n"
      ],
      "metadata": {
        "id": "Iy6Sdz2VPerW"
      }
    },
    {
      "cell_type": "code",
      "execution_count": 92,
      "source": [
        "def lagrangian(q, dq):\n",
        "  net = hk.nets.MLP([200, 200, 200, 1], activation=softplus)\n",
        "  return net(np.hstack((q, dq)))[0]"
      ],
      "outputs": [],
      "metadata": {
        "id": "ewQuEdZNT1cH"
      }
    },
    {
      "cell_type": "code",
      "execution_count": 93,
      "source": [
        "def F_conservative(state):\n",
        "  q, dq = np.split(state, 2)\n",
        "  ddq = jacobian(jacobian(lagrangian, 1), 0)(q, dq)\n",
        "  ddq = ddq @ dq\n",
        "  ddq = grad(lagrangian, 0)(q, dq) - ddq\n",
        "  ddq = np.linalg.pinv(hessian(lagrangian, 1)(q, dq)) @ ddq\n",
        "  return np.hstack((dq, ddq))"
      ],
      "outputs": [],
      "metadata": {
        "id": "6HByCduAU_j3"
      }
    },
    {
      "cell_type": "code",
      "execution_count": 94,
      "source": [
        "def F_non_conservative(state, control):\n",
        "  net = hk.nets.MLP([200, 200, 200, 12], activation=softplus)\n",
        "  return net(np.hstack((state, control)))"
      ],
      "outputs": [],
      "metadata": {
        "id": "IWLlVd01VDSX"
      }
    },
    {
      "cell_type": "code",
      "execution_count": 95,
      "source": [
        "def F_decomposition(state, control):\n",
        "  return f_conservative(state) + f_non_conservative(state, control)"
      ],
      "outputs": [],
      "metadata": {
        "id": "XvKXJchiVNSQ"
      }
    },
    {
      "cell_type": "markdown",
      "source": [
        "# Loss function design\n",
        "\n",
        "Let us assume that we will have a database of trajectories, either obtained through simulation of an analytical model or through robotic field data.\n",
        "\n"
      ],
      "metadata": {
        "id": "PGb3FKjGemjL"
      }
    },
    {
      "cell_type": "markdown",
      "source": [
        "## Naïve model"
      ],
      "metadata": {
        "id": "96U5kzJtdPe1"
      }
    },
    {
      "cell_type": "code",
      "execution_count": 96,
      "source": [
        "f_naive = hk.without_apply_rng(hk.transform(F_naive))\n",
        "params_naive = f_naive.init(next(key), states0[0,:], controls0[0,:])"
      ],
      "outputs": [],
      "metadata": {
        "id": "b_-ljvsea4JH"
      }
    },
    {
      "cell_type": "code",
      "execution_count": 97,
      "source": [
        "@jit\n",
        "def rk4_step_naive(params, x, u, h):\n",
        "  # f = lambda x, u: f_naive.apply(params, (x - mean)/scale, u)\n",
        "  return rk4_step(lambda x, u: f_naive.apply(params, x, u), x, u, h)\n",
        "rk4_steps_naive = jit(vmap(rk4_step_naive, in_axes=(None, 0, 0, None)))"
      ],
      "outputs": [],
      "metadata": {
        "id": "RBwLI_bOcral"
      }
    },
    {
      "cell_type": "code",
      "execution_count": 98,
      "source": [
        "def loss_naive(params):\n",
        "\n",
        "  # naïve dynamics\n",
        "  nn_states1 = rk4_steps_naive(params, states0, controls0, h)\n",
        "\n",
        "  # MSE\n",
        "  loss = np.average(np.square(nn_states1 - states1))\n",
        "  return loss, loss"
      ],
      "outputs": [],
      "metadata": {
        "id": "vsCxynHKXB7z"
      }
    },
    {
      "cell_type": "code",
      "execution_count": 99,
      "source": [
        "# gradient of loss function\n",
        "grad_loss_naive = jit(grad(loss_naive, argnums=0, has_aux=True))"
      ],
      "outputs": [],
      "metadata": {
        "id": "I9WoNn9Td81v"
      }
    },
    {
      "cell_type": "markdown",
      "source": [
        "# Training"
      ],
      "metadata": {
        "id": "UnBj8FQNf8xl"
      }
    },
    {
      "cell_type": "code",
      "execution_count": 100,
      "source": [
        "# setup optimiser and initialise its state\n",
        "opt_init, opt_update = optax.chain(optax.scale_by_adam(), optax.scale(-1e-2))\n",
        "opt_state = opt_init(params_naive)"
      ],
      "outputs": [],
      "metadata": {
        "id": "PcxEKaqJf_E2"
      }
    },
    {
      "cell_type": "code",
      "execution_count": 101,
      "source": [
        "# loss data\n",
        "losses_naive = list()"
      ],
      "outputs": [],
      "metadata": {
        "id": "kiJCfZADgOka"
      }
    },
    {
      "cell_type": "code",
      "execution_count": 102,
      "source": [
        "# training loop\n",
        "pb = tqdm(range(1000))\n",
        "for _ in pb:\n",
        "\n",
        "  # gradient and loss\n",
        "  gopt, loss = grad_loss_naive(params_naive)\n",
        "\n",
        "  # progress bar update\n",
        "  pb.set_description('{:.6f}'.format(loss))\n",
        "\n",
        "  # optimiser update\n",
        "  updates, opt_state = opt_update(gopt, opt_state, params_naive)\n",
        "\n",
        "  # update the parameters\n",
        "  params_naive = optax.apply_updates(params_naive, updates)"
      ],
      "outputs": [
        {
          "output_type": "display_data",
          "data": {
            "text/plain": [
              "  0%|          | 0/1000 [00:00<?, ?it/s]"
            ],
            "application/vnd.jupyter.widget-view+json": {
              "version_major": 2,
              "version_minor": 0,
              "model_id": "a7adda42e8ee4603bf8302f56606b1e2"
            }
          },
          "metadata": {}
        },
        {
          "output_type": "error",
          "ename": "KeyboardInterrupt",
          "evalue": "",
          "traceback": [
            "\u001b[0;31m---------------------------------------------------------------------------\u001b[0m",
            "\u001b[0;31mKeyboardInterrupt\u001b[0m                         Traceback (most recent call last)",
            "\u001b[0;32m<ipython-input-102-40673f2e3644>\u001b[0m in \u001b[0;36m<module>\u001b[0;34m\u001b[0m\n\u001b[1;32m      7\u001b[0m \u001b[0;34m\u001b[0m\u001b[0m\n\u001b[1;32m      8\u001b[0m   \u001b[0;31m# progress bar update\u001b[0m\u001b[0;34m\u001b[0m\u001b[0;34m\u001b[0m\u001b[0;34m\u001b[0m\u001b[0m\n\u001b[0;32m----> 9\u001b[0;31m   \u001b[0mpb\u001b[0m\u001b[0;34m.\u001b[0m\u001b[0mset_description\u001b[0m\u001b[0;34m(\u001b[0m\u001b[0;34m'{:.6f}'\u001b[0m\u001b[0;34m.\u001b[0m\u001b[0mformat\u001b[0m\u001b[0;34m(\u001b[0m\u001b[0mloss\u001b[0m\u001b[0;34m)\u001b[0m\u001b[0;34m)\u001b[0m\u001b[0;34m\u001b[0m\u001b[0;34m\u001b[0m\u001b[0m\n\u001b[0m\u001b[1;32m     10\u001b[0m \u001b[0;34m\u001b[0m\u001b[0m\n\u001b[1;32m     11\u001b[0m   \u001b[0;31m# optimiser update\u001b[0m\u001b[0;34m\u001b[0m\u001b[0;34m\u001b[0m\u001b[0;34m\u001b[0m\u001b[0m\n",
            "\u001b[0;32m/usr/local/lib/python3.8/dist-packages/jax/interpreters/xla.py\u001b[0m in \u001b[0;36m__format__\u001b[0;34m(self, format_spec)\u001b[0m\n\u001b[1;32m   1230\u001b[0m     \u001b[0;31m# Simulates behavior of https://github.com/numpy/numpy/pull/9883\u001b[0m\u001b[0;34m\u001b[0m\u001b[0;34m\u001b[0m\u001b[0;34m\u001b[0m\u001b[0m\n\u001b[1;32m   1231\u001b[0m     \u001b[0;32mif\u001b[0m \u001b[0mself\u001b[0m\u001b[0;34m.\u001b[0m\u001b[0mndim\u001b[0m \u001b[0;34m==\u001b[0m \u001b[0;36m0\u001b[0m\u001b[0;34m:\u001b[0m\u001b[0;34m\u001b[0m\u001b[0;34m\u001b[0m\u001b[0m\n\u001b[0;32m-> 1232\u001b[0;31m       \u001b[0;32mreturn\u001b[0m \u001b[0mformat\u001b[0m\u001b[0;34m(\u001b[0m\u001b[0mself\u001b[0m\u001b[0;34m.\u001b[0m\u001b[0m_value\u001b[0m\u001b[0;34m[\u001b[0m\u001b[0;34m(\u001b[0m\u001b[0;34m)\u001b[0m\u001b[0;34m]\u001b[0m\u001b[0;34m,\u001b[0m \u001b[0mformat_spec\u001b[0m\u001b[0;34m)\u001b[0m\u001b[0;34m\u001b[0m\u001b[0;34m\u001b[0m\u001b[0m\n\u001b[0m\u001b[1;32m   1233\u001b[0m     \u001b[0;32melse\u001b[0m\u001b[0;34m:\u001b[0m\u001b[0;34m\u001b[0m\u001b[0;34m\u001b[0m\u001b[0m\n\u001b[1;32m   1234\u001b[0m       \u001b[0;32mreturn\u001b[0m \u001b[0mformat\u001b[0m\u001b[0;34m(\u001b[0m\u001b[0mself\u001b[0m\u001b[0;34m.\u001b[0m\u001b[0m_value\u001b[0m\u001b[0;34m,\u001b[0m \u001b[0mformat_spec\u001b[0m\u001b[0;34m)\u001b[0m\u001b[0;34m\u001b[0m\u001b[0;34m\u001b[0m\u001b[0m\n",
            "\u001b[0;31mKeyboardInterrupt\u001b[0m: "
          ]
        }
      ],
      "metadata": {
        "colab": {
          "base_uri": "https://localhost:8080/",
          "height": 66,
          "referenced_widgets": [
            "453c2439576b4b37a230ab19c0250bc7",
            "ba5c1bee1285422186d3226053062df1",
            "76d9dd852768496ea2c7c524cc9a898f",
            "67512724390d437698f0e0a9a9e13b19",
            "513ba46faa144d3481cfdc12f178ce53",
            "8adf4244e0274fb6a3cc40c4d305f424",
            "b18b694caf864842ae56d15e94b55244",
            "17a45d63f5614d048e548f170a2608ad"
          ]
        },
        "id": "4VZqu6A3ggUG",
        "outputId": "14e05adf-1496-40f1-b5b6-a9a99249a92a"
      }
    },
    {
      "cell_type": "markdown",
      "source": [
        "# Results"
      ],
      "metadata": {
        "id": "cB81JIUfn7Fv"
      }
    },
    {
      "cell_type": "markdown",
      "source": [
        "## States and times"
      ],
      "metadata": {
        "id": "DlZRPU9UFiMP"
      }
    },
    {
      "cell_type": "code",
      "execution_count": 103,
      "source": [
        "times = np.arange(0.0, 10, h)\n",
        "n_trajs = 2\n",
        "i = choice(\n",
        "  next(key), \n",
        "  np.arange(0, n_train), \n",
        "  shape=(n_trajs,)\n",
        ")\n",
        "states = states0[i, :]"
      ],
      "outputs": [],
      "metadata": {
        "id": "Ja3dc7cj9gGF"
      }
    },
    {
      "cell_type": "markdown",
      "source": [
        "## Random control policy"
      ],
      "metadata": {
        "id": "iRaV5E-cFlg4"
      }
    },
    {
      "cell_type": "code",
      "execution_count": 104,
      "source": [
        "# random NN controller\n",
        "def Policy(state):\n",
        "  net = hk.nets.MLP([200, 200, control_dim])\n",
        "  return np.tanh(net(state))"
      ],
      "outputs": [],
      "metadata": {
        "id": "r13BtIr65Yni"
      }
    },
    {
      "cell_type": "code",
      "execution_count": 105,
      "source": [
        "policy = hk.without_apply_rng(hk.transform(Policy))\n",
        "params_policy = policy.init(next(key), states0[0,:])"
      ],
      "outputs": [],
      "metadata": {
        "id": "r01y0zpk5wd3"
      }
    },
    {
      "cell_type": "markdown",
      "source": [
        "## Plotting"
      ],
      "metadata": {
        "id": "SbyfhxpHak-U"
      }
    },
    {
      "cell_type": "code",
      "execution_count": 106,
      "source": [
        "def plot(trajs_analytical=None, trajs_naive=None, trajs_decomposition=None):\n",
        "\n",
        "  # setup\n",
        "  fig = plt.figure()\n",
        "  ax = fig.add_subplot(111, projection='3d')\n",
        "\n",
        "  # analytical\n",
        "  if trajs_analytical is not None:\n",
        "    for i in range(n_trajs):\n",
        "      ax.plot(\n",
        "        trajs_analytical[i,:1,0],\n",
        "        trajs_analytical[i,:1,1],\n",
        "        trajs_analytical[i,:1,2],\n",
        "        'kx'\n",
        "      )\n",
        "      ax.plot(\n",
        "        trajs_analytical[i,:,0], \n",
        "        trajs_analytical[i,:,1], \n",
        "        trajs_analytical[i,:,2], \n",
        "        'k-'\n",
        "      )\n",
        "\n",
        "  # naive\n",
        "  if trajs_naive is not None:\n",
        "    for i in range(n_trajs):\n",
        "      ax.plot(\n",
        "        trajs_naive[i,:1,0],\n",
        "        trajs_naive[i,:1,1],\n",
        "        trajs_naive[i,:1,2],\n",
        "        'kx'\n",
        "      )\n",
        "      ax.plot(\n",
        "        trajs_naive[i,:,0], \n",
        "        trajs_naive[i,:,1], \n",
        "        trajs_naive[i,:,2], \n",
        "        'k-'\n",
        "      )\n",
        "\n",
        "  # analytical\n",
        "  if trajs_decomposition is not None:\n",
        "    for i in range(n_trajs):\n",
        "      ax.plot(\n",
        "        trajs_decomposition[i,:1,0],\n",
        "        trajs_decomposition[i,:1,1],\n",
        "        trajs_decomposition[i,:1,2],\n",
        "        'kx'\n",
        "      )\n",
        "      ax.plot(\n",
        "        trajs_decomposition[i,:,0], \n",
        "        trajs_decomposition[i,:,1], \n",
        "        trajs_decomposition[i,:,2], \n",
        "        'k-'\n",
        "      )\n",
        "\n",
        "  plt.show()"
      ],
      "outputs": [],
      "metadata": {
        "id": "ONMwuvBHamxs"
      }
    },
    {
      "cell_type": "markdown",
      "source": [
        "## Analytical trajectories"
      ],
      "metadata": {
        "id": "45rsDVbkFpEh"
      }
    },
    {
      "cell_type": "code",
      "execution_count": 107,
      "source": [
        "@jit\n",
        "def trajectory_analytical(params, state):\n",
        "  params = stop_gradient(params)\n",
        "  state = stop_gradient(state)\n",
        "  traj = odeint(\n",
        "      lambda x, t: f_analytical(x, policy.apply(params, x)),\n",
        "      state,\n",
        "      times\n",
        "  )\n",
        "  return traj\n",
        "\n",
        "trajectories_analytical = jit(vmap(trajectory_analytical, in_axes=(None, 0)))"
      ],
      "outputs": [],
      "metadata": {
        "id": "LI8JbUE7n_ul"
      }
    },
    {
      "cell_type": "code",
      "execution_count": 108,
      "source": [
        "trajs_analytical = trajectories_analytical(params_policy, states)"
      ],
      "outputs": [],
      "metadata": {
        "id": "Tzz_Jb4I9AFa"
      }
    },
    {
      "cell_type": "code",
      "execution_count": 109,
      "source": [
        "plot(trajs_analytical)"
      ],
      "outputs": [
        {
          "output_type": "display_data",
          "data": {
            "text/plain": [
              "<Figure size 432x288 with 1 Axes>"
            ],
            "image/png": "[encoded data removed]"
          },
          "metadata": {
            "needs_background": "light"
          }
        }
      ],
      "metadata": {
        "colab": {
          "base_uri": "https://localhost:8080/",
          "height": 248
        },
        "id": "-34S1WkeZeMV",
        "outputId": "7b471595-e5d7-4176-b2cc-cff325ca0160"
      }
    },
    {
      "cell_type": "markdown",
      "source": [
        "## Naïve trajectories"
      ],
      "metadata": {
        "id": "cG8sJgc_Fr4r"
      }
    },
    {
      "cell_type": "code",
      "execution_count": 110,
      "source": [
        "@jit\n",
        "def trajectory_naive(params, state):\n",
        "  # params = stop_gradient(params)\n",
        "  # state = stop_gradient(state)\n",
        "  f = lambda x, u: f_naive.apply(params_naive, x, policy.apply(params, x))\n",
        "  traj = odeint(f, state, times)\n",
        "  return traj\n",
        "\n",
        "trajectories_naive = jit(vmap(trajectory_naive, in_axes=(None, 0)))"
      ],
      "outputs": [],
      "metadata": {
        "id": "o9nv9obyFrnQ"
      }
    },
    {
      "cell_type": "code",
      "execution_count": 111,
      "source": [
        "trajs_naive = trajectories_naive(params_policy, states)"
      ],
      "outputs": [],
      "metadata": {
        "id": "DpTCIa_pGJ69"
      }
    },
    {
      "cell_type": "code",
      "execution_count": 112,
      "source": [
        "plot(trajs_naive)"
      ],
      "outputs": [
        {
          "output_type": "display_data",
          "data": {
            "text/plain": [
              "<Figure size 432x288 with 1 Axes>"
            ],
            "image/png": "[encoded data removed]"
          },
          "metadata": {
            "needs_background": "light"
          }
        }
      ],
      "metadata": {
        "colab": {
          "base_uri": "https://localhost:8080/",
          "height": 248
        },
        "id": "BkOM-f9rYMzm",
        "outputId": "d74e7a1b-9d6e-46f0-dc93-fd8170ac2bdc"
      }
    },
    {
      "cell_type": "code",
      "execution_count": 120,
      "source": [
        "trajs_naive"
      ],
      "outputs": [
        {
          "output_type": "execute_result",
          "data": {
            "text/plain": [
              "DeviceArray([[[ 1.15211964e+00, -2.73811102e+00, -6.34407997e-02, ...,\n",
              "               -2.19529867e+00,  3.54756713e+00, -3.10022235e+00],\n",
              "              [ 1.00475872e+00, -2.54250813e+00, -1.21568376e-02, ...,\n",
              "                3.59744906e+00,  2.09494376e+00, -2.12683797e+00],\n",
              "              [ 9.64556396e-01, -2.37819171e+00, -8.08512121e-02, ...,\n",
              "                1.01817513e+01,  7.53285468e-01, -1.60590529e+00],\n",
              "              ...,\n",
              "              [ 6.42622080e+15,  2.92237070e+16,  1.20323466e+16, ...,\n",
              "               -2.40389341e+16, -1.93418462e+16, -4.77502384e+15],\n",
              "              [ 6.61527774e+15,  2.99542594e+16,  1.21761110e+16, ...,\n",
              "               -2.54036879e+16, -1.96190284e+16, -4.76483081e+15],\n",
              "              [ 6.80896359e+15,  3.07190879e+16,  1.23222086e+16, ...,\n",
              "               -2.68447826e+16, -1.99401158e+16, -4.77340088e+15]],\n",
              "\n",
              "             [[-1.48875475e+00, -6.09023333e+00,  5.08272409e+00, ...,\n",
              "               -2.03846097e+00, -2.40447283e+00, -2.46107697e+00],\n",
              "              [-1.44372118e+00, -5.85920191e+00,  5.13919067e+00, ...,\n",
              "               -5.09544182e+00, -1.45942569e+00, -1.81142819e+00],\n",
              "              [-1.40500116e+00, -5.63819933e+00,  5.20326185e+00, ...,\n",
              "               -4.14264679e+00, -6.31089628e-01, -1.28749311e+00],\n",
              "              ...,\n",
              "              [ 9.16835327e+14,  4.74554963e+15,  1.97002432e+15, ...,\n",
              "               -7.54252199e+15, -3.44235133e+15, -8.14075148e+14],\n",
              "              [ 9.58742061e+14,  4.96113390e+15,  2.08923020e+15, ...,\n",
              "               -7.54735812e+15, -3.61799536e+15, -8.88250307e+14],\n",
              "              [ 1.00265475e+15,  5.17572067e+15,  2.20865606e+15, ...,\n",
              "               -7.47018723e+15, -3.79337927e+15, -9.67118992e+14]]],            dtype=float32)"
            ]
          },
          "metadata": {},
          "execution_count": 120
        }
      ],
      "metadata": {
        "id": "QVPFUdkfcPIu"
      }
    },
    {
      "cell_type": "code",
      "execution_count": null,
      "source": [],
      "outputs": [],
      "metadata": {}
    }
  ]
}