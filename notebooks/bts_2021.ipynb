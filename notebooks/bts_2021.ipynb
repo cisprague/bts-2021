{
  "nbformat": 4,
  "nbformat_minor": 0,
  "metadata": {
    "colab": {
      "name": "bts-2021.ipynb",
      "provenance": [],
      "collapsed_sections": [],
      "include_colab_link": true
    },
    "kernelspec": {
      "name": "python3",
      "display_name": "Python 3"
    },
    "language_info": {
      "name": "python"
    },
    "accelerator": "GPU",
    "widgets": {
      "application/vnd.jupyter.widget-state+json": {
        "453c2439576b4b37a230ab19c0250bc7": {
          "model_module": "@jupyter-widgets/controls",
          "model_name": "HBoxModel",
          "state": {
            "_view_name": "HBoxView",
            "_dom_classes": [],
            "_model_name": "HBoxModel",
            "_view_module": "@jupyter-widgets/controls",
            "_model_module_version": "1.5.0",
            "_view_count": null,
            "_view_module_version": "1.5.0",
            "box_style": "",
            "layout": "IPY_MODEL_ba5c1bee1285422186d3226053062df1",
            "_model_module": "@jupyter-widgets/controls",
            "children": [
              "IPY_MODEL_76d9dd852768496ea2c7c524cc9a898f",
              "IPY_MODEL_67512724390d437698f0e0a9a9e13b19"
            ]
          }
        },
        "ba5c1bee1285422186d3226053062df1": {
          "model_module": "@jupyter-widgets/base",
          "model_name": "LayoutModel",
          "state": {
            "_view_name": "LayoutView",
            "grid_template_rows": null,
            "right": null,
            "justify_content": null,
            "_view_module": "@jupyter-widgets/base",
            "overflow": null,
            "_model_module_version": "1.2.0",
            "_view_count": null,
            "flex_flow": null,
            "width": null,
            "min_width": null,
            "border": null,
            "align_items": null,
            "bottom": null,
            "_model_module": "@jupyter-widgets/base",
            "top": null,
            "grid_column": null,
            "overflow_y": null,
            "overflow_x": null,
            "grid_auto_flow": null,
            "grid_area": null,
            "grid_template_columns": null,
            "flex": null,
            "_model_name": "LayoutModel",
            "justify_items": null,
            "grid_row": null,
            "max_height": null,
            "align_content": null,
            "visibility": null,
            "align_self": null,
            "height": null,
            "min_height": null,
            "padding": null,
            "grid_auto_rows": null,
            "grid_gap": null,
            "max_width": null,
            "order": null,
            "_view_module_version": "1.2.0",
            "grid_template_areas": null,
            "object_position": null,
            "object_fit": null,
            "grid_auto_columns": null,
            "margin": null,
            "display": null,
            "left": null
          }
        },
        "76d9dd852768496ea2c7c524cc9a898f": {
          "model_module": "@jupyter-widgets/controls",
          "model_name": "FloatProgressModel",
          "state": {
            "_view_name": "ProgressView",
            "style": "IPY_MODEL_513ba46faa144d3481cfdc12f178ce53",
            "_dom_classes": [],
            "description": "0.161347: 100%",
            "_model_name": "FloatProgressModel",
            "bar_style": "success",
            "max": 1000,
            "_view_module": "@jupyter-widgets/controls",
            "_model_module_version": "1.5.0",
            "value": 1000,
            "_view_count": null,
            "_view_module_version": "1.5.0",
            "orientation": "horizontal",
            "min": 0,
            "description_tooltip": null,
            "_model_module": "@jupyter-widgets/controls",
            "layout": "IPY_MODEL_8adf4244e0274fb6a3cc40c4d305f424"
          }
        },
        "67512724390d437698f0e0a9a9e13b19": {
          "model_module": "@jupyter-widgets/controls",
          "model_name": "HTMLModel",
          "state": {
            "_view_name": "HTMLView",
            "style": "IPY_MODEL_b18b694caf864842ae56d15e94b55244",
            "_dom_classes": [],
            "description": "",
            "_model_name": "HTMLModel",
            "placeholder": "​",
            "_view_module": "@jupyter-widgets/controls",
            "_model_module_version": "1.5.0",
            "value": " 1000/1000 [17:55&lt;00:00,  1.08s/it]",
            "_view_count": null,
            "_view_module_version": "1.5.0",
            "description_tooltip": null,
            "_model_module": "@jupyter-widgets/controls",
            "layout": "IPY_MODEL_17a45d63f5614d048e548f170a2608ad"
          }
        },
        "513ba46faa144d3481cfdc12f178ce53": {
          "model_module": "@jupyter-widgets/controls",
          "model_name": "ProgressStyleModel",
          "state": {
            "_view_name": "StyleView",
            "_model_name": "ProgressStyleModel",
            "description_width": "initial",
            "_view_module": "@jupyter-widgets/base",
            "_model_module_version": "1.5.0",
            "_view_count": null,
            "_view_module_version": "1.2.0",
            "bar_color": null,
            "_model_module": "@jupyter-widgets/controls"
          }
        },
        "8adf4244e0274fb6a3cc40c4d305f424": {
          "model_module": "@jupyter-widgets/base",
          "model_name": "LayoutModel",
          "state": {
            "_view_name": "LayoutView",
            "grid_template_rows": null,
            "right": null,
            "justify_content": null,
            "_view_module": "@jupyter-widgets/base",
            "overflow": null,
            "_model_module_version": "1.2.0",
            "_view_count": null,
            "flex_flow": null,
            "width": null,
            "min_width": null,
            "border": null,
            "align_items": null,
            "bottom": null,
            "_model_module": "@jupyter-widgets/base",
            "top": null,
            "grid_column": null,
            "overflow_y": null,
            "overflow_x": null,
            "grid_auto_flow": null,
            "grid_area": null,
            "grid_template_columns": null,
            "flex": null,
            "_model_name": "LayoutModel",
            "justify_items": null,
            "grid_row": null,
            "max_height": null,
            "align_content": null,
            "visibility": null,
            "align_self": null,
            "height": null,
            "min_height": null,
            "padding": null,
            "grid_auto_rows": null,
            "grid_gap": null,
            "max_width": null,
            "order": null,
            "_view_module_version": "1.2.0",
            "grid_template_areas": null,
            "object_position": null,
            "object_fit": null,
            "grid_auto_columns": null,
            "margin": null,
            "display": null,
            "left": null
          }
        },
        "b18b694caf864842ae56d15e94b55244": {
          "model_module": "@jupyter-widgets/controls",
          "model_name": "DescriptionStyleModel",
          "state": {
            "_view_name": "StyleView",
            "_model_name": "DescriptionStyleModel",
            "description_width": "",
            "_view_module": "@jupyter-widgets/base",
            "_model_module_version": "1.5.0",
            "_view_count": null,
            "_view_module_version": "1.2.0",
            "_model_module": "@jupyter-widgets/controls"
          }
        },
        "17a45d63f5614d048e548f170a2608ad": {
          "model_module": "@jupyter-widgets/base",
          "model_name": "LayoutModel",
          "state": {
            "_view_name": "LayoutView",
            "grid_template_rows": null,
            "right": null,
            "justify_content": null,
            "_view_module": "@jupyter-widgets/base",
            "overflow": null,
            "_model_module_version": "1.2.0",
            "_view_count": null,
            "flex_flow": null,
            "width": null,
            "min_width": null,
            "border": null,
            "align_items": null,
            "bottom": null,
            "_model_module": "@jupyter-widgets/base",
            "top": null,
            "grid_column": null,
            "overflow_y": null,
            "overflow_x": null,
            "grid_auto_flow": null,
            "grid_area": null,
            "grid_template_columns": null,
            "flex": null,
            "_model_name": "LayoutModel",
            "justify_items": null,
            "grid_row": null,
            "max_height": null,
            "align_content": null,
            "visibility": null,
            "align_self": null,
            "height": null,
            "min_height": null,
            "padding": null,
            "grid_auto_rows": null,
            "grid_gap": null,
            "max_width": null,
            "order": null,
            "_view_module_version": "1.2.0",
            "grid_template_areas": null,
            "object_position": null,
            "object_fit": null,
            "grid_auto_columns": null,
            "margin": null,
            "display": null,
            "left": null
          }
        }
      }
    }
  },
  "cells": [
    {
      "cell_type": "markdown",
      "metadata": {
        "id": "view-in-github",
        "colab_type": "text"
      },
      "source": [
        "<a href=\"https://colab.research.google.com/github/cisprague/bts-2021/blob/main/notebooks/bts_2021.ipynb\" target=\"_parent\"><img src=\"https://colab.research.google.com/assets/colab-badge.svg\" alt=\"Open In Colab\"/></a>"
      ]
    },
    {
      "cell_type": "markdown",
      "metadata": {
        "id": "XOFl1RKPjdt_"
      },
      "source": [
        "# System identification of AUVs with physics-informed learning\n",
        "\n",
        "Christopher Iliffe Sprague \\\\\n",
        "sprague@kth.se\n",
        "\n",
        "Sriharsha Bhat \\\\\n",
        "svbhat@kth.se"
      ]
    },
    {
      "cell_type": "markdown",
      "metadata": {
        "id": "yEzpfNjMjz7Y"
      },
      "source": [
        "# Outline\n",
        "\n",
        "- Background\n",
        "- What's the benefit?\n",
        "- Data generation\n",
        "- Model identification\n",
        "- Simulation\n",
        "- Discussion and future work"
      ]
    },
    {
      "cell_type": "markdown",
      "metadata": {
        "id": "Ke5En5u7mzJ8"
      },
      "source": [
        "# Resources"
      ]
    },
    {
      "cell_type": "code",
      "metadata": {
        "id": "MbwNlmTpmyru",
        "colab": {
          "base_uri": "https://localhost:8080/"
        },
        "outputId": "54a0e4cf-bf27-4617-8a26-cee6f42d2ece"
      },
      "source": [
        "# JAX for autograd and and numerics\n",
        "import jax.numpy as np\n",
        "from jax import jit, vmap, jacobian, hessian, grad\n",
        "from jax.experimental.ode import odeint\n",
        "from jax.random import uniform, choice\n",
        "from jax.nn import softplus, tanh\n",
        "from jax.lax import stop_gradient\n",
        "\n",
        "# Haiku for neural networks\n",
        "!pip install git+https://github.com/deepmind/dm-haiku\n",
        "import haiku as hk\n",
        "\n",
        "# Optax for optimisation\n",
        "!pip install git+https://github.com/deepmind/optax\n",
        "import optax\n",
        "\n",
        "# TQDM for training loop feedback\n",
        "from tqdm.notebook import tqdm\n",
        "\n",
        "# SKLearn for preprocessing data\n",
        "from sklearn import preprocessing\n",
        "\n",
        "# treating some arguments as static\n",
        "from functools import partial\n",
        "\n",
        "# matplotlib for plotting\n",
        "import matplotlib.pyplot as plt\n",
        "from mpl_toolkits.mplot3d import Axes3D\n",
        "%matplotlib inline"
      ],
      "execution_count": 1,
      "outputs": [
        {
          "output_type": "stream",
          "text": [
            "Collecting git+https://github.com/deepmind/dm-haiku\n",
            "  Cloning https://github.com/deepmind/dm-haiku to /tmp/pip-req-build-fwogfcn9\n",
            "  Running command git clone -q https://github.com/deepmind/dm-haiku /tmp/pip-req-build-fwogfcn9\n",
            "Requirement already satisfied: absl-py>=0.7.1 in /usr/local/lib/python3.7/dist-packages (from dm-haiku==0.0.5.dev0) (0.12.0)\n",
            "Collecting jmp>=0.0.2\n",
            "  Downloading jmp-0.0.2-py3-none-any.whl (16 kB)\n",
            "Requirement already satisfied: numpy>=1.18.0 in /usr/local/lib/python3.7/dist-packages (from dm-haiku==0.0.5.dev0) (1.19.5)\n",
            "Requirement already satisfied: tabulate>=0.8.9 in /usr/local/lib/python3.7/dist-packages (from dm-haiku==0.0.5.dev0) (0.8.9)\n",
            "Requirement already satisfied: typing_extensions in /usr/local/lib/python3.7/dist-packages (from dm-haiku==0.0.5.dev0) (3.7.4.3)\n",
            "Requirement already satisfied: six in /usr/local/lib/python3.7/dist-packages (from absl-py>=0.7.1->dm-haiku==0.0.5.dev0) (1.15.0)\n",
            "Building wheels for collected packages: dm-haiku\n",
            "  Building wheel for dm-haiku (setup.py) ... \u001b[?25l\u001b[?25hdone\n",
            "  Created wheel for dm-haiku: filename=dm_haiku-0.0.5.dev0-py3-none-any.whl size=531899 sha256=74194a9dc0bce4aabaf49d975f00bd1a4c3d554963d5ee6d2bceaa1dd6805b6e\n",
            "  Stored in directory: /tmp/pip-ephem-wheel-cache-x7_4h_le/wheels/06/28/69/ebaac5b2435641427299f29d88d005fb4e2627f4a108f0bdbc\n",
            "Successfully built dm-haiku\n",
            "Installing collected packages: jmp, dm-haiku\n",
            "Successfully installed dm-haiku-0.0.5.dev0 jmp-0.0.2\n",
            "Collecting git+https://github.com/deepmind/optax\n",
            "  Cloning https://github.com/deepmind/optax to /tmp/pip-req-build-3prcfeot\n",
            "  Running command git clone -q https://github.com/deepmind/optax /tmp/pip-req-build-3prcfeot\n",
            "Requirement already satisfied: absl-py>=0.7.1 in /usr/local/lib/python3.7/dist-packages (from optax==0.0.9) (0.12.0)\n",
            "Collecting chex>=0.0.4\n",
            "  Downloading chex-0.0.8-py3-none-any.whl (57 kB)\n",
            "\u001b[K     |████████████████████████████████| 57 kB 2.9 MB/s \n",
            "\u001b[?25hRequirement already satisfied: jax>=0.1.55 in /usr/local/lib/python3.7/dist-packages (from optax==0.0.9) (0.2.17)\n",
            "Requirement already satisfied: jaxlib>=0.1.37 in /usr/local/lib/python3.7/dist-packages (from optax==0.0.9) (0.1.69+cuda110)\n",
            "Requirement already satisfied: numpy>=1.18.0 in /usr/local/lib/python3.7/dist-packages (from optax==0.0.9) (1.19.5)\n",
            "Requirement already satisfied: six in /usr/local/lib/python3.7/dist-packages (from absl-py>=0.7.1->optax==0.0.9) (1.15.0)\n",
            "Requirement already satisfied: dm-tree>=0.1.5 in /usr/local/lib/python3.7/dist-packages (from chex>=0.0.4->optax==0.0.9) (0.1.6)\n",
            "Requirement already satisfied: toolz>=0.9.0 in /usr/local/lib/python3.7/dist-packages (from chex>=0.0.4->optax==0.0.9) (0.11.1)\n",
            "Requirement already satisfied: opt-einsum in /usr/local/lib/python3.7/dist-packages (from jax>=0.1.55->optax==0.0.9) (3.3.0)\n",
            "Requirement already satisfied: flatbuffers<3.0,>=1.12 in /usr/local/lib/python3.7/dist-packages (from jaxlib>=0.1.37->optax==0.0.9) (1.12)\n",
            "Requirement already satisfied: scipy in /usr/local/lib/python3.7/dist-packages (from jaxlib>=0.1.37->optax==0.0.9) (1.4.1)\n",
            "Building wheels for collected packages: optax\n",
            "  Building wheel for optax (setup.py) ... \u001b[?25l\u001b[?25hdone\n",
            "  Created wheel for optax: filename=optax-0.0.9-py3-none-any.whl size=119477 sha256=13def71b796e701e261bab78e57f5d07ac499b23125ad63972228870ac83ac5e\n",
            "  Stored in directory: /tmp/pip-ephem-wheel-cache-rwgu06k3/wheels/18/80/7e/f95870d651357f77f2ddeb452b3584a09053c224cc08d7fd86\n",
            "Successfully built optax\n",
            "Installing collected packages: chex, optax\n",
            "Successfully installed chex-0.0.8 optax-0.0.9\n"
          ],
          "name": "stdout"
        }
      ]
    },
    {
      "cell_type": "markdown",
      "metadata": {
        "id": "7SDLTz2ukoQq"
      },
      "source": [
        "# Analytical model"
      ]
    },
    {
      "cell_type": "code",
      "metadata": {
        "id": "JRrF0LgBULxN"
      },
      "source": [
        "state_dim = 12\n",
        "control_dim = 6"
      ],
      "execution_count": 2,
      "outputs": []
    },
    {
      "cell_type": "code",
      "metadata": {
        "id": "Pdx2qOUuktpJ"
      },
      "source": [
        "@jit\n",
        "def skew(l):\n",
        "  return np.array([\n",
        "    [0, -l[2], l[1]],\n",
        "    [l[2], 0, -l[0]],\n",
        "    [-l[1], l[0], 0]\n",
        "  ])"
      ],
      "execution_count": 3,
      "outputs": []
    },
    {
      "cell_type": "code",
      "metadata": {
        "id": "UEqKTbPanK_u"
      },
      "source": [
        "@jit\n",
        "def f_analytical(state, control):\n",
        "\n",
        "  # state and control\n",
        "  x, y, z, phi, theta, psi, u, v, w, p, q, r = state\n",
        "  rpm1, rpm2, de, dr, lcg, vbs = control\n",
        "\n",
        "  # position and velocity\n",
        "  eta = np.array([x, y, z, phi, theta, psi])\n",
        "  nu = np.array([u, v, w, p, q, r])\n",
        "\n",
        "  # scaled controls\n",
        "  rpm1 *= 1000.0\n",
        "  rpm2 *= 1000.0\n",
        "  de *= 0.05\n",
        "  dr *= 0.05\n",
        "  # vbs *= 1.0\n",
        "  # lcg *= 1.0\n",
        "\n",
        "  # mass and inertia matrix\n",
        "  m = 14.0\n",
        "  I_o = np.diag(np.array([0.0294, 1.6202, 1.6202]))\n",
        "\n",
        "  # centre of gravity, buoyancy, and pressure positions, resp.\n",
        "  r_g = np.array([0.1 + lcg*0.01, 0.0, 0.0])\n",
        "  r_b = np.array([0.1, 0.0, 0.0])\n",
        "  r_cp = np.array([0.1, 0.0, 0.0])\n",
        "\n",
        "  # <insert title>\n",
        "  W = m*9.81\n",
        "  B = W + vbs*1.5\n",
        "\n",
        "  # hydrodynamic coefficients\n",
        "  Xuu = 5. #3. #1.0\n",
        "  Yvv = 20. #10. #100.0\n",
        "  Zww = 50. #100.0\n",
        "  Kpp = 0.1 #10.0\n",
        "  Mqq = 20.#40 #100.0\n",
        "  Nrr = 20. #150.0\n",
        "\n",
        "  # control actuators\n",
        "  K_T = np.array([0.0175, 0.0175])\n",
        "  Q_T = np.array([0.001, -0.001])#*0.0\n",
        "\n",
        "  # mass and inertia matrix\n",
        "  M = np.block([\n",
        "    [m*np.eye(3,3), -m*skew(r_g)],\n",
        "    [m*skew(r_g), I_o]\n",
        "  ])\n",
        "  assert M.shape == (6,6), M\n",
        "\n",
        "  # coriolis and centripetal matrix\n",
        "  nu1 = np.array([u, v, w])\n",
        "  nu2 = np.array([p, q, r])\n",
        "  top_right = -m*skew(nu1) - m*skew(nu2)*skew(r_g)\n",
        "  bottom_left = -m*skew(nu1) + m*skew(r_g)*skew(nu2)\n",
        "  bottom_right = -skew(I_o.dot(nu2))\n",
        "  C_RB = np.block([\n",
        "    [np.zeros((3,3)), top_right],\n",
        "    [bottom_left, bottom_right]\n",
        "  ])\n",
        "  assert C_RB.shape == (6, 6), C_RB\n",
        "\n",
        "  # damping matrix\n",
        "  forces = np.diag(np.array([Xuu*np.abs(u), Yvv*np.abs(v), Zww*np.abs(w)]))\n",
        "  moments = np.diag(np.array([Kpp*np.abs(p), Mqq*np.abs(q), Nrr*np.abs(r)]))\n",
        "  coupling = np.matmul(skew(r_cp), forces)\n",
        "  D = np.block([[forces, np.zeros((3, 3))], [-coupling, moments]])\n",
        "  assert D.shape == (6, 6), D\n",
        "\n",
        "  # rotational transform between body and NED in Euler        \n",
        "  T_euler = np.array([\n",
        "    [1, np.sin(phi)*np.tan(theta), np.cos(phi)*np.tan(theta)],\n",
        "    [0, np.cos(phi), -np.sin(phi)],\n",
        "    [0, np.sin(phi)/np.cos(theta), np.cos(phi)/np.cos(theta)],\n",
        "  ])\n",
        "  R_euler = np.array([\n",
        "    [\n",
        "      np.cos(psi)*np.cos(theta),\n",
        "      -np.sin(psi)*np.cos(phi)+np.cos(psi)*np.sin(theta)*np.sin(phi),\n",
        "      np.sin(psi)*np.sin(phi)+np.cos(psi)*np.cos(phi)*np.sin(theta)\n",
        "    ],\n",
        "    [\n",
        "      np.sin(psi)*np.cos(theta),\n",
        "      np.cos(psi)*np.cos(phi)+np.sin(phi)*np.sin(theta)*np.sin(psi),\n",
        "      -np.cos(psi)*np.sin(phi)+np.sin(theta)*np.sin(psi)*np.cos(phi),\n",
        "    ],\n",
        "    [\n",
        "      -np.sin(theta),\n",
        "      np.cos(theta)*np.sin(phi),\n",
        "      np.cos(theta)*np.cos(phi),\n",
        "    ],\n",
        "  ])\n",
        "  assert R_euler.shape == (3,3), R_euler\n",
        "  J_eta = np.block([\n",
        "    [R_euler, np.zeros((3,3))],\n",
        "    [np.zeros((3,3)), T_euler]\n",
        "  ])\n",
        "  assert J_eta.shape == (6,6), J_eta\n",
        "\n",
        "  # buoyancy in quaternions\n",
        "  f_g = np.array([0, 0, W])\n",
        "  f_b = np.array([0, 0, -B])\n",
        "  row1 = np.linalg.inv(R_euler).dot(f_g + f_b)\n",
        "  row2 = skew(r_g).dot(np.linalg.inv(R_euler)).dot(f_g) + \\\n",
        "    skew(r_b).dot(np.linalg.inv(R_euler)).dot(f_b)\n",
        "  geta = np.block([row1, row2])\n",
        "  assert geta.shape == (6,), geta\n",
        "\n",
        "  # <insert title>\n",
        "  F_T = K_T.dot(np.array([rpm1, rpm2]))\n",
        "  M_T = Q_T.dot(np.array([rpm1, rpm2]))\n",
        "  tauc = np.array([\n",
        "    F_T*np.cos(de)*np.cos(dr),\n",
        "    -F_T*np.sin(dr),\n",
        "    F_T*np.sin(de)*np.cos(dr),\n",
        "    M_T*np.cos(de)*np.cos(dr),\n",
        "    -M_T*np.sin(dr),\n",
        "    M_T*np.sin(de)*np.cos(dr)\n",
        "  ])\n",
        "  assert tauc.shape == (6,), tauc\n",
        "\n",
        "  # velocity and acceleration \n",
        "  etadot = np.block([J_eta.dot(nu)])\n",
        "  assert etadot.shape == (6,)\n",
        "  nudot = np.linalg.inv(M).dot(tauc - (C_RB + D).dot(nu - geta))\n",
        "  assert nudot.shape == (6,)\n",
        "\n",
        "  # state-space\n",
        "  sdot = np.block([etadot, nudot])\n",
        "  return sdot"
      ],
      "execution_count": 4,
      "outputs": []
    },
    {
      "cell_type": "markdown",
      "metadata": {
        "id": "ARZTeE8Baj09"
      },
      "source": [
        "# Generating data\n",
        "\n",
        "We want to ensure percitant excitation to make sure we cover a variety of states.\n",
        "\n",
        "To do this, we will simulate random state-feedback controllers. A straighforward way to do this is to simulate NN controllers with random parameters."
      ]
    },
    {
      "cell_type": "markdown",
      "metadata": {
        "id": "6ocCFhWV1t4r"
      },
      "source": [
        "## Integration"
      ]
    },
    {
      "cell_type": "code",
      "metadata": {
        "id": "HRmjyV5XZfyb"
      },
      "source": [
        "# a single integration step for a single state\n",
        "def rk4_step(f, x, u, h):\n",
        "  k1 = h*f(x, u)\n",
        "  k2 = h*f(x + k1/2, u)\n",
        "  k3 = h*f(x + k2/2, u)\n",
        "  k4 = h*f(x + k3, u)\n",
        "  return x + (k1 + 2*k2 + 2*k3 + 4)/6"
      ],
      "execution_count": 5,
      "outputs": []
    },
    {
      "cell_type": "code",
      "metadata": {
        "id": "iox-TLdmbFLZ"
      },
      "source": [
        "# a single step\n",
        "def rk4_step_analytical(x, u, h):\n",
        "  x = stop_gradient(x)\n",
        "  u = stop_gradient(u)\n",
        "  h = stop_gradient(h)\n",
        "  return rk4_step(f_analytical, x, u, h)\n",
        "\n",
        "# a single step for multiple states in parallel\n",
        "rk4_steps_analytical = jit(vmap(rk4_step_analytical, in_axes=(0, 0, None)))"
      ],
      "execution_count": 6,
      "outputs": []
    },
    {
      "cell_type": "markdown",
      "metadata": {
        "id": "lh_TXA1Q3WJA"
      },
      "source": [
        "## Random training data"
      ]
    },
    {
      "cell_type": "code",
      "metadata": {
        "id": "UveZ36MK5KVH"
      },
      "source": [
        "key = hk.PRNGSequence(42)\n",
        "n_train = 10000\n",
        "h = 0.1"
      ],
      "execution_count": 7,
      "outputs": []
    },
    {
      "cell_type": "code",
      "metadata": {
        "id": "Pe20UyGi5Ayq"
      },
      "source": [
        "states0 = uniform(\n",
        "    next(key),\n",
        "    shape=(n_train, state_dim),\n",
        "    minval=np.array([-10, -10, -10, -np.pi, -np.pi, -np.pi, -5, -5, -5, -5, -5, -5]),\n",
        "    maxval=np.array([10, 10, 10, np.pi, np.pi, np.pi, 5, 5, 5, 5, 5, 5])\n",
        ")"
      ],
      "execution_count": 8,
      "outputs": []
    },
    {
      "cell_type": "code",
      "metadata": {
        "id": "d7DXMKXNxfQ9"
      },
      "source": [
        "controls = uniform(\n",
        "    next(key),\n",
        "    shape=(n_train, control_dim),\n",
        "    minval=np.full(control_dim, -1, dtype=np.float32),\n",
        "    maxval=np.full(control_dim, 1, dtype=np.float32)\n",
        ")"
      ],
      "execution_count": 9,
      "outputs": []
    },
    {
      "cell_type": "code",
      "metadata": {
        "id": "2SVx49Zkl6sb"
      },
      "source": [
        ""
      ],
      "execution_count": null,
      "outputs": []
    },
    {
      "cell_type": "code",
      "metadata": {
        "id": "ZrJz4jcX1xl7"
      },
      "source": [
        "states1 = rk4_steps_analytical(states0, controls, h)"
      ],
      "execution_count": 10,
      "outputs": []
    },
    {
      "cell_type": "code",
      "metadata": {
        "id": "tqMsbIi4rTLi"
      },
      "source": [
        "scaler = preprocessing.StandardScaler().fit(states0)\n",
        "mean = scaler.mean_\n",
        "scale = scaler.scale_"
      ],
      "execution_count": 166,
      "outputs": []
    },
    {
      "cell_type": "markdown",
      "metadata": {
        "id": "P1IxHrfM3JAR"
      },
      "source": [
        "## Visualisation"
      ]
    },
    {
      "cell_type": "code",
      "metadata": {
        "colab": {
          "base_uri": "https://localhost:8080/",
          "height": 248
        },
        "id": "2CcBdQUE3XvZ",
        "outputId": "ba4e5873-7afd-451b-ad2d-7689616e5108"
      },
      "source": [
        "# TODO: add quiver\n",
        "trajs = np.hstack((states0, states1)).reshape((-1, 2, 12))\n",
        "fig = plt.figure()\n",
        "ax = fig.add_subplot(111, projection='3d')\n",
        "for i in range(10):\n",
        "  ax.plot(trajs[i,:,0], trajs[i,:,1], trajs[i,:,2], 'k-', alpha=0.4)\n",
        "plt.show()"
      ],
      "execution_count": 167,
      "outputs": [
        {
          "output_type": "display_data",
          "data": {
            "image/png": "[encoded data removed]",
            "text/plain": [
              "<Figure size 432x288 with 1 Axes>"
            ]
          },
          "metadata": {
            "tags": [],
            "needs_background": "light"
          }
        }
      ]
    },
    {
      "cell_type": "markdown",
      "metadata": {
        "id": "fSVIWCaWdMIk"
      },
      "source": [
        "# Learning models\n",
        "\n",
        "We will test a naïve multi-layer-perceptron model and a physics-informed model (https://arxiv.org/pdf/2106.00026.pdf)."
      ]
    },
    {
      "cell_type": "markdown",
      "metadata": {
        "id": "bKelBIRs6Utd"
      },
      "source": [
        "## Naïve model"
      ]
    },
    {
      "cell_type": "code",
      "metadata": {
        "id": "HUAEolYeSzvU"
      },
      "source": [
        "def F_naive(state, control):\n",
        "  net = hk.nets.MLP([400, 400, 400, 12], activation=softplus)\n",
        "  return net(np.hstack((state, control)))"
      ],
      "execution_count": 168,
      "outputs": []
    },
    {
      "cell_type": "markdown",
      "metadata": {
        "id": "Iy6Sdz2VPerW"
      },
      "source": [
        "## Physics-informed model\n",
        "\n",
        "To learn the dynamics model from data we will use physics-informed learning: a way to constrain neural network models to obey the first-principles of physics.\n",
        "\n",
        "We will model a Lagrangian to learn to conservative part of the dynamics.\n",
        "\n",
        "\n",
        "$$\n",
        "\\ddot q = (\\nabla_{\\dot q}\\nabla_{\\dot q}^{\\top}\\mathcal{L})^{-1}[\\nabla_q \\mathcal{L} - (\\nabla_{q}\\nabla_{\\dot q}^{\\top}\\mathcal{L})\\dot q\n",
        "$$\n",
        "\n"
      ]
    },
    {
      "cell_type": "code",
      "metadata": {
        "id": "ewQuEdZNT1cH"
      },
      "source": [
        "def lagrangian(q, dq):\n",
        "  net = hk.nets.MLP([200, 200, 200, 1], activation=softplus)\n",
        "  return net(np.hstack((q, dq)))[0]"
      ],
      "execution_count": 169,
      "outputs": []
    },
    {
      "cell_type": "code",
      "metadata": {
        "id": "6HByCduAU_j3"
      },
      "source": [
        "def F_conservative(state):\n",
        "  q, dq = np.split(state, 2)\n",
        "  ddq = jacobian(jacobian(lagrangian, 1), 0)(q, dq)\n",
        "  ddq = ddq @ dq\n",
        "  ddq = grad(lagrangian, 0)(q, dq) - ddq\n",
        "  ddq = np.linalg.pinv(hessian(lagrangian, 1)(q, dq)) @ ddq\n",
        "  return np.hstack((dq, ddq))"
      ],
      "execution_count": 170,
      "outputs": []
    },
    {
      "cell_type": "code",
      "metadata": {
        "id": "IWLlVd01VDSX"
      },
      "source": [
        "def F_non_conservative(state, control):\n",
        "  net = hk.nets.MLP([200, 200, 200, 12], activation=softplus)\n",
        "  return net(np.hstack((state, control)))"
      ],
      "execution_count": 171,
      "outputs": []
    },
    {
      "cell_type": "code",
      "metadata": {
        "id": "XvKXJchiVNSQ"
      },
      "source": [
        "def F_decomposition(state, control):\n",
        "  return f_conservative(state) + f_non_conservative(state, control)"
      ],
      "execution_count": 172,
      "outputs": []
    },
    {
      "cell_type": "markdown",
      "metadata": {
        "id": "PGb3FKjGemjL"
      },
      "source": [
        "# Loss function design\n",
        "\n",
        "Let us assume that we will have a database of trajectories, either obtained through simulation of an analytical model or through robotic field data.\n",
        "\n"
      ]
    },
    {
      "cell_type": "markdown",
      "metadata": {
        "id": "96U5kzJtdPe1"
      },
      "source": [
        "## Naïve model"
      ]
    },
    {
      "cell_type": "code",
      "metadata": {
        "id": "b_-ljvsea4JH"
      },
      "source": [
        "f_naive = hk.without_apply_rng(hk.transform(F_naive))\n",
        "params_naive = f_naive.init(next(key), states0[0,:], controls[0,:])"
      ],
      "execution_count": 173,
      "outputs": []
    },
    {
      "cell_type": "code",
      "metadata": {
        "id": "RBwLI_bOcral"
      },
      "source": [
        "@jit\n",
        "def rk4_step_naive(params, x, u, h):\n",
        "  f = lambda x, u: f_naive.apply(params, (x - mean)/scale, u)\n",
        "  return rk4_step(f, x, u, h)\n",
        "rk4_steps_naive = jit(vmap(rk4_step_naive, in_axes=(None, 0, 0, None)))"
      ],
      "execution_count": 174,
      "outputs": []
    },
    {
      "cell_type": "code",
      "metadata": {
        "colab": {
          "base_uri": "https://localhost:8080/"
        },
        "id": "Dfli1bPbd2ee",
        "outputId": "c6123bd2-07e7-44a3-9f9b-e11e8c667fba"
      },
      "source": [
        "rk4_step_naive(params_naive, states0[0,:], controls[0,:], h)"
      ],
      "execution_count": 175,
      "outputs": [
        {
          "output_type": "execute_result",
          "data": {
            "text/plain": [
              "DeviceArray([ 0.2449125 , -0.05655587, -6.2279572 ,  2.4726357 ,\n",
              "              2.3216276 ,  2.69352   ,  3.9206476 , -0.46681863,\n",
              "              0.11823249,  4.7076797 , -2.4973526 ,  0.13987744],            dtype=float32)"
            ]
          },
          "metadata": {
            "tags": []
          },
          "execution_count": 175
        }
      ]
    },
    {
      "cell_type": "code",
      "metadata": {
        "id": "vsCxynHKXB7z"
      },
      "source": [
        "def loss_naive(params):\n",
        "\n",
        "  # integration step\n",
        "  nn_states1 = rk4_steps_naive(params, states0, controls, h)\n",
        "\n",
        "  # mean-squared error from analytical\n",
        "  loss = np.average(np.square(nn_states1 - states1))\n",
        "  return loss, loss"
      ],
      "execution_count": 176,
      "outputs": []
    },
    {
      "cell_type": "code",
      "metadata": {
        "id": "I9WoNn9Td81v"
      },
      "source": [
        "# gradient of loss function\n",
        "grad_loss_naive = jit(grad(loss_naive, argnums=0, has_aux=True))"
      ],
      "execution_count": 177,
      "outputs": []
    },
    {
      "cell_type": "markdown",
      "metadata": {
        "id": "UnBj8FQNf8xl"
      },
      "source": [
        "# Training"
      ]
    },
    {
      "cell_type": "code",
      "metadata": {
        "id": "PcxEKaqJf_E2"
      },
      "source": [
        "# setup optimiser and initialise its state\n",
        "opt_init, opt_update = optax.chain(optax.scale_by_adam(), optax.scale(-1e-2))\n",
        "opt_state = opt_init(params_naive)"
      ],
      "execution_count": 178,
      "outputs": []
    },
    {
      "cell_type": "code",
      "metadata": {
        "id": "kiJCfZADgOka"
      },
      "source": [
        "# loss data\n",
        "losses_naive = list()"
      ],
      "execution_count": 179,
      "outputs": []
    },
    {
      "cell_type": "code",
      "metadata": {
        "colab": {
          "base_uri": "https://localhost:8080/",
          "height": 66,
          "referenced_widgets": [
            "453c2439576b4b37a230ab19c0250bc7",
            "ba5c1bee1285422186d3226053062df1",
            "76d9dd852768496ea2c7c524cc9a898f",
            "67512724390d437698f0e0a9a9e13b19",
            "513ba46faa144d3481cfdc12f178ce53",
            "8adf4244e0274fb6a3cc40c4d305f424",
            "b18b694caf864842ae56d15e94b55244",
            "17a45d63f5614d048e548f170a2608ad"
          ]
        },
        "id": "4VZqu6A3ggUG",
        "outputId": "14e05adf-1496-40f1-b5b6-a9a99249a92a"
      },
      "source": [
        "# training loop\n",
        "pb = tqdm(range(1000))\n",
        "for _ in pb:\n",
        "\n",
        "  # gradient and loss\n",
        "  gopt, loss = grad_loss_naive(params_naive)\n",
        "\n",
        "  # progress bar update\n",
        "  pb.set_description('{:.6f}'.format(loss))\n",
        "\n",
        "  # optimiser update\n",
        "  updates, opt_state = opt_update(gopt, opt_state, params_naive)\n",
        "\n",
        "  # update the parameters\n",
        "  params_naive = optax.apply_updates(params_naive, updates)"
      ],
      "execution_count": 180,
      "outputs": [
        {
          "output_type": "display_data",
          "data": {
            "application/vnd.jupyter.widget-view+json": {
              "model_id": "453c2439576b4b37a230ab19c0250bc7",
              "version_minor": 0,
              "version_major": 2
            },
            "text/plain": [
              "HBox(children=(FloatProgress(value=0.0, max=1000.0), HTML(value='')))"
            ]
          },
          "metadata": {
            "tags": []
          }
        },
        {
          "output_type": "stream",
          "text": [
            "\n"
          ],
          "name": "stdout"
        }
      ]
    },
    {
      "cell_type": "markdown",
      "metadata": {
        "id": "cB81JIUfn7Fv"
      },
      "source": [
        "# Results"
      ]
    },
    {
      "cell_type": "markdown",
      "metadata": {
        "id": "DlZRPU9UFiMP"
      },
      "source": [
        "## States and times"
      ]
    },
    {
      "cell_type": "code",
      "metadata": {
        "id": "Ja3dc7cj9gGF"
      },
      "source": [
        "times = np.linspace(0, 5, 1000)\n",
        "n_trajs = 1\n",
        "i = choice(\n",
        "  next(key), \n",
        "  np.arange(0, states0.shape[0]), \n",
        "  shape=(n_trajs,)\n",
        ")\n",
        "states = states0[i, :]"
      ],
      "execution_count": 181,
      "outputs": []
    },
    {
      "cell_type": "markdown",
      "metadata": {
        "id": "iRaV5E-cFlg4"
      },
      "source": [
        "## Random control policy"
      ]
    },
    {
      "cell_type": "code",
      "metadata": {
        "id": "r13BtIr65Yni"
      },
      "source": [
        "# random NN controller\n",
        "def Policy(state):\n",
        "  net = hk.nets.MLP([200, 200, control_dim])\n",
        "  return tanh(net(state))"
      ],
      "execution_count": 182,
      "outputs": []
    },
    {
      "cell_type": "code",
      "metadata": {
        "id": "r01y0zpk5wd3"
      },
      "source": [
        "policy = hk.without_apply_rng(hk.transform(Policy))\n",
        "params_policy = policy.init(next(key), states0[0,:])"
      ],
      "execution_count": 183,
      "outputs": []
    },
    {
      "cell_type": "markdown",
      "metadata": {
        "id": "SbyfhxpHak-U"
      },
      "source": [
        "## Plotting"
      ]
    },
    {
      "cell_type": "code",
      "metadata": {
        "id": "ONMwuvBHamxs"
      },
      "source": [
        "def plot(trajs_analytical=None, trajs_naive=None, trajs_decomposition=None):\n",
        "\n",
        "  # setup\n",
        "  fig = plt.figure()\n",
        "  ax = fig.add_subplot(111, projection='3d')\n",
        "\n",
        "  # analytical\n",
        "  if trajs_analytical is not None:\n",
        "    for i in range(n_trajs):\n",
        "      ax.plot(\n",
        "        trajs_analytical[i,:1,0],\n",
        "        trajs_analytical[i,:1,1],\n",
        "        trajs_analytical[i,:1,2],\n",
        "        'kx'\n",
        "      )\n",
        "      ax.plot(\n",
        "        trajs_analytical[i,:,0], \n",
        "        trajs_analytical[i,:,1], \n",
        "        trajs_analytical[i,:,2], \n",
        "        'k-'\n",
        "      )\n",
        "\n",
        "  # naive\n",
        "  if trajs_naive is not None:\n",
        "    for i in range(n_trajs):\n",
        "      ax.plot(\n",
        "        trajs_naive[i,:1,0],\n",
        "        trajs_naive[i,:1,1],\n",
        "        trajs_naive[i,:1,2],\n",
        "        'kx'\n",
        "      )\n",
        "      ax.plot(\n",
        "        trajs_naive[i,:,0], \n",
        "        trajs_naive[i,:,1], \n",
        "        trajs_naive[i,:,2], \n",
        "        'k-'\n",
        "      )\n",
        "\n",
        "  # analytical\n",
        "  if trajs_decomposition is not None:\n",
        "    for i in range(n_trajs):\n",
        "      ax.plot(\n",
        "        trajs_decomposition[i,:1,0],\n",
        "        trajs_decomposition[i,:1,1],\n",
        "        trajs_decomposition[i,:1,2],\n",
        "        'kx'\n",
        "      )\n",
        "      ax.plot(\n",
        "        trajs_decomposition[i,:,0], \n",
        "        trajs_decomposition[i,:,1], \n",
        "        trajs_decomposition[i,:,2], \n",
        "        'k-'\n",
        "      )\n",
        "\n",
        "  plt.show()"
      ],
      "execution_count": 184,
      "outputs": []
    },
    {
      "cell_type": "markdown",
      "metadata": {
        "id": "45rsDVbkFpEh"
      },
      "source": [
        "## Analytical trajectories"
      ]
    },
    {
      "cell_type": "code",
      "metadata": {
        "id": "LI8JbUE7n_ul"
      },
      "source": [
        "@jit\n",
        "def trajectory_analytical(params, state):\n",
        "  params = stop_gradient(params)\n",
        "  state = stop_gradient(state)\n",
        "  traj = odeint(\n",
        "      lambda x, t: f_analytical(x, policy.apply(params, x)),\n",
        "      state,\n",
        "      times\n",
        "  )\n",
        "  return traj\n",
        "\n",
        "trajectories_analytical = jit(vmap(trajectory_analytical, in_axes=(None, 0)))"
      ],
      "execution_count": 185,
      "outputs": []
    },
    {
      "cell_type": "code",
      "metadata": {
        "id": "Tzz_Jb4I9AFa"
      },
      "source": [
        "trajs_analytical = trajectories_analytical(params_policy, states)"
      ],
      "execution_count": 186,
      "outputs": []
    },
    {
      "cell_type": "code",
      "metadata": {
        "colab": {
          "base_uri": "https://localhost:8080/",
          "height": 248
        },
        "id": "-34S1WkeZeMV",
        "outputId": "7b471595-e5d7-4176-b2cc-cff325ca0160"
      },
      "source": [
        "plot(trajs_analytical)"
      ],
      "execution_count": 187,
      "outputs": [
        {
          "output_type": "display_data",
          "data": {
            "image/png": "[encoded data removed]",
            "text/plain": [
              "<Figure size 432x288 with 1 Axes>"
            ]
          },
          "metadata": {
            "tags": [],
            "needs_background": "light"
          }
        }
      ]
    },
    {
      "cell_type": "markdown",
      "metadata": {
        "id": "cG8sJgc_Fr4r"
      },
      "source": [
        "## Naïve trajectories"
      ]
    },
    {
      "cell_type": "code",
      "metadata": {
        "id": "o9nv9obyFrnQ"
      },
      "source": [
        "@jit\n",
        "def trajectory_naive(params, state):\n",
        "  params = stop_gradient(params)\n",
        "  state = stop_gradient(state)\n",
        "  def f(x, t):\n",
        "    u = policy.apply(params, x)\n",
        "    x = (x - mean)/scale\n",
        "    return f_naive.apply(params_naive, x, u)\n",
        "  traj = odeint(\n",
        "      f,\n",
        "      state,\n",
        "      times\n",
        "  )\n",
        "  return traj\n",
        "\n",
        "trajectories_naive = jit(vmap(trajectory_naive, in_axes=(None, 0)))"
      ],
      "execution_count": 188,
      "outputs": []
    },
    {
      "cell_type": "code",
      "metadata": {
        "id": "DpTCIa_pGJ69"
      },
      "source": [
        "trajs_naive = trajectories_naive(params_policy, states)"
      ],
      "execution_count": 189,
      "outputs": []
    },
    {
      "cell_type": "code",
      "metadata": {
        "colab": {
          "base_uri": "https://localhost:8080/",
          "height": 248
        },
        "id": "BkOM-f9rYMzm",
        "outputId": "d74e7a1b-9d6e-46f0-dc93-fd8170ac2bdc"
      },
      "source": [
        "plot(trajs_naive)"
      ],
      "execution_count": 190,
      "outputs": [
        {
          "output_type": "display_data",
          "data": {
            "image/png": "[encoded data removed]",
            "text/plain": [
              "<Figure size 432x288 with 1 Axes>"
            ]
          },
          "metadata": {
            "tags": [],
            "needs_background": "light"
          }
        }
      ]
    },
    {
      "cell_type": "code",
      "metadata": {
        "id": "QVPFUdkfcPIu"
      },
      "source": [
        ""
      ],
      "execution_count": null,
      "outputs": []
    }
  ]
}