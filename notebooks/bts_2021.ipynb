{
  "nbformat": 4,
  "nbformat_minor": 2,
  "metadata": {
    "colab": {
      "name": "bts-2021.ipynb",
      "provenance": [],
      "collapsed_sections": [],
      "include_colab_link": true
    },
    "kernelspec": {
      "name": "python3",
      "display_name": "Python 3.8.10 64-bit"
    },
    "language_info": {
      "name": "python",
      "version": "3.8.10",
      "mimetype": "text/x-python",
      "codemirror_mode": {
        "name": "ipython",
        "version": 3
      },
      "pygments_lexer": "ipython3",
      "nbconvert_exporter": "python",
      "file_extension": ".py"
    },
    "accelerator": "GPU",
    "widgets": {
      "application/vnd.jupyter.widget-state+json": {
        "453c2439576b4b37a230ab19c0250bc7": {
          "model_module": "@jupyter-widgets/controls",
          "model_name": "HBoxModel",
          "state": {
            "_view_name": "HBoxView",
            "_dom_classes": [],
            "_model_name": "HBoxModel",
            "_view_module": "@jupyter-widgets/controls",
            "_model_module_version": "1.5.0",
            "_view_count": null,
            "_view_module_version": "1.5.0",
            "box_style": "",
            "layout": "IPY_MODEL_ba5c1bee1285422186d3226053062df1",
            "_model_module": "@jupyter-widgets/controls",
            "children": [
              "IPY_MODEL_76d9dd852768496ea2c7c524cc9a898f",
              "IPY_MODEL_67512724390d437698f0e0a9a9e13b19"
            ]
          }
        },
        "ba5c1bee1285422186d3226053062df1": {
          "model_module": "@jupyter-widgets/base",
          "model_name": "LayoutModel",
          "state": {
            "_view_name": "LayoutView",
            "grid_template_rows": null,
            "right": null,
            "justify_content": null,
            "_view_module": "@jupyter-widgets/base",
            "overflow": null,
            "_model_module_version": "1.2.0",
            "_view_count": null,
            "flex_flow": null,
            "width": null,
            "min_width": null,
            "border": null,
            "align_items": null,
            "bottom": null,
            "_model_module": "@jupyter-widgets/base",
            "top": null,
            "grid_column": null,
            "overflow_y": null,
            "overflow_x": null,
            "grid_auto_flow": null,
            "grid_area": null,
            "grid_template_columns": null,
            "flex": null,
            "_model_name": "LayoutModel",
            "justify_items": null,
            "grid_row": null,
            "max_height": null,
            "align_content": null,
            "visibility": null,
            "align_self": null,
            "height": null,
            "min_height": null,
            "padding": null,
            "grid_auto_rows": null,
            "grid_gap": null,
            "max_width": null,
            "order": null,
            "_view_module_version": "1.2.0",
            "grid_template_areas": null,
            "object_position": null,
            "object_fit": null,
            "grid_auto_columns": null,
            "margin": null,
            "display": null,
            "left": null
          }
        },
        "76d9dd852768496ea2c7c524cc9a898f": {
          "model_module": "@jupyter-widgets/controls",
          "model_name": "FloatProgressModel",
          "state": {
            "_view_name": "ProgressView",
            "style": "IPY_MODEL_513ba46faa144d3481cfdc12f178ce53",
            "_dom_classes": [],
            "description": "0.161347: 100%",
            "_model_name": "FloatProgressModel",
            "bar_style": "success",
            "max": 1000,
            "_view_module": "@jupyter-widgets/controls",
            "_model_module_version": "1.5.0",
            "value": 1000,
            "_view_count": null,
            "_view_module_version": "1.5.0",
            "orientation": "horizontal",
            "min": 0,
            "description_tooltip": null,
            "_model_module": "@jupyter-widgets/controls",
            "layout": "IPY_MODEL_8adf4244e0274fb6a3cc40c4d305f424"
          }
        },
        "67512724390d437698f0e0a9a9e13b19": {
          "model_module": "@jupyter-widgets/controls",
          "model_name": "HTMLModel",
          "state": {
            "_view_name": "HTMLView",
            "style": "IPY_MODEL_b18b694caf864842ae56d15e94b55244",
            "_dom_classes": [],
            "description": "",
            "_model_name": "HTMLModel",
            "placeholder": "​",
            "_view_module": "@jupyter-widgets/controls",
            "_model_module_version": "1.5.0",
            "value": " 1000/1000 [17:55&lt;00:00,  1.08s/it]",
            "_view_count": null,
            "_view_module_version": "1.5.0",
            "description_tooltip": null,
            "_model_module": "@jupyter-widgets/controls",
            "layout": "IPY_MODEL_17a45d63f5614d048e548f170a2608ad"
          }
        },
        "513ba46faa144d3481cfdc12f178ce53": {
          "model_module": "@jupyter-widgets/controls",
          "model_name": "ProgressStyleModel",
          "state": {
            "_view_name": "StyleView",
            "_model_name": "ProgressStyleModel",
            "description_width": "initial",
            "_view_module": "@jupyter-widgets/base",
            "_model_module_version": "1.5.0",
            "_view_count": null,
            "_view_module_version": "1.2.0",
            "bar_color": null,
            "_model_module": "@jupyter-widgets/controls"
          }
        },
        "8adf4244e0274fb6a3cc40c4d305f424": {
          "model_module": "@jupyter-widgets/base",
          "model_name": "LayoutModel",
          "state": {
            "_view_name": "LayoutView",
            "grid_template_rows": null,
            "right": null,
            "justify_content": null,
            "_view_module": "@jupyter-widgets/base",
            "overflow": null,
            "_model_module_version": "1.2.0",
            "_view_count": null,
            "flex_flow": null,
            "width": null,
            "min_width": null,
            "border": null,
            "align_items": null,
            "bottom": null,
            "_model_module": "@jupyter-widgets/base",
            "top": null,
            "grid_column": null,
            "overflow_y": null,
            "overflow_x": null,
            "grid_auto_flow": null,
            "grid_area": null,
            "grid_template_columns": null,
            "flex": null,
            "_model_name": "LayoutModel",
            "justify_items": null,
            "grid_row": null,
            "max_height": null,
            "align_content": null,
            "visibility": null,
            "align_self": null,
            "height": null,
            "min_height": null,
            "padding": null,
            "grid_auto_rows": null,
            "grid_gap": null,
            "max_width": null,
            "order": null,
            "_view_module_version": "1.2.0",
            "grid_template_areas": null,
            "object_position": null,
            "object_fit": null,
            "grid_auto_columns": null,
            "margin": null,
            "display": null,
            "left": null
          }
        },
        "b18b694caf864842ae56d15e94b55244": {
          "model_module": "@jupyter-widgets/controls",
          "model_name": "DescriptionStyleModel",
          "state": {
            "_view_name": "StyleView",
            "_model_name": "DescriptionStyleModel",
            "description_width": "",
            "_view_module": "@jupyter-widgets/base",
            "_model_module_version": "1.5.0",
            "_view_count": null,
            "_view_module_version": "1.2.0",
            "_model_module": "@jupyter-widgets/controls"
          }
        },
        "17a45d63f5614d048e548f170a2608ad": {
          "model_module": "@jupyter-widgets/base",
          "model_name": "LayoutModel",
          "state": {
            "_view_name": "LayoutView",
            "grid_template_rows": null,
            "right": null,
            "justify_content": null,
            "_view_module": "@jupyter-widgets/base",
            "overflow": null,
            "_model_module_version": "1.2.0",
            "_view_count": null,
            "flex_flow": null,
            "width": null,
            "min_width": null,
            "border": null,
            "align_items": null,
            "bottom": null,
            "_model_module": "@jupyter-widgets/base",
            "top": null,
            "grid_column": null,
            "overflow_y": null,
            "overflow_x": null,
            "grid_auto_flow": null,
            "grid_area": null,
            "grid_template_columns": null,
            "flex": null,
            "_model_name": "LayoutModel",
            "justify_items": null,
            "grid_row": null,
            "max_height": null,
            "align_content": null,
            "visibility": null,
            "align_self": null,
            "height": null,
            "min_height": null,
            "padding": null,
            "grid_auto_rows": null,
            "grid_gap": null,
            "max_width": null,
            "order": null,
            "_view_module_version": "1.2.0",
            "grid_template_areas": null,
            "object_position": null,
            "object_fit": null,
            "grid_auto_columns": null,
            "margin": null,
            "display": null,
            "left": null
          }
        }
      }
    },
    "interpreter": {
      "hash": "916dbcbb3f70747c44a77c7bcd40155683ae19c65e1c03b4aa3499c5328201f1"
    }
  },
  "cells": [
    {
      "cell_type": "markdown",
      "source": [
        "<a href=\"https://colab.research.google.com/github/cisprague/bts-2021/blob/main/notebooks/bts_2021.ipynb\" target=\"_parent\"><img src=\"https://colab.research.google.com/assets/colab-badge.svg\" alt=\"Open In Colab\"/></a>"
      ],
      "metadata": {
        "id": "view-in-github",
        "colab_type": "text"
      }
    },
    {
      "cell_type": "markdown",
      "source": [
        "# System identification of AUVs with physics-informed learning\n",
        "\n",
        "Christopher Iliffe Sprague (sprague@kth.se)\n",
        "\n",
        "Sriharsha Bhat (svbhat@kth.se)"
      ],
      "metadata": {
        "id": "XOFl1RKPjdt_"
      }
    },
    {
      "cell_type": "markdown",
      "source": [
        "# Outline\n",
        "\n",
        "- Background\n",
        "- What's the benefit?\n",
        "- Data generation\n",
        "- Model identification\n",
        "- Simulation\n",
        "- Discussion and future work"
      ],
      "metadata": {
        "id": "yEzpfNjMjz7Y"
      }
    },
    {
      "cell_type": "markdown",
      "source": [
        "# Resources"
      ],
      "metadata": {
        "id": "Ke5En5u7mzJ8"
      }
    },
    {
      "cell_type": "code",
      "execution_count": 2,
      "source": [
        "# JAX for autograd and and numerics\n",
        "! pip install --upgrade pip\n",
        "! pip install --upgrade \"jax[cuda101]\" -f https://storage.googleapis.com/jax-releases/jax_releases.html\n",
        "import jax.numpy as np\n",
        "from jax import jit, vmap, jacobian, hessian, grad\n",
        "from jax.experimental.ode import odeint\n",
        "from jax.random import uniform, choice\n",
        "from jax.nn import softplus\n",
        "from jax.lax import stop_gradient\n",
        "\n",
        "# Haiku for neural networks\n",
        "! pip install git+https://github.com/deepmind/dm-haiku\n",
        "import haiku as hk\n",
        "\n",
        "# Optax for optimisation\n",
        "! pip install git+https://github.com/deepmind/optax\n",
        "import optax\n",
        "\n",
        "# TQDM for training loop feedback\n",
        "! pip install tqdm\n",
        "from tqdm.notebook import tqdm\n",
        "\n",
        "# SKLearn for preprocessing data\n",
        "from sklearn import preprocessing\n",
        "\n",
        "# treating some arguments as static\n",
        "from functools import partial\n",
        "\n",
        "# matplotlib for plotting\n",
        "import matplotlib.pyplot as plt\n",
        "from mpl_toolkits.mplot3d import Axes3D\n",
        "%matplotlib inline"
      ],
      "outputs": [
        {
          "output_type": "stream",
          "name": "stdout",
          "text": [
            "Defaulting to user installation because normal site-packages is not writeable\n",
            "Requirement already satisfied: pip in /home/cisprague/.local/lib/python3.8/site-packages (21.2.2)\n",
            "Defaulting to user installation because normal site-packages is not writeable\n",
            "Looking in links: https://storage.googleapis.com/jax-releases/jax_releases.html\n",
            "Requirement already satisfied: jax[cuda101] in /home/cisprague/.local/lib/python3.8/site-packages (0.2.18)\n",
            "Requirement already satisfied: opt-einsum in /usr/local/lib/python3.8/dist-packages (from jax[cuda101]) (3.3.0)\n",
            "Requirement already satisfied: numpy>=1.17 in /usr/local/lib/python3.8/dist-packages (from jax[cuda101]) (1.19.5)\n",
            "Requirement already satisfied: absl-py in /usr/local/lib/python3.8/dist-packages (from jax[cuda101]) (0.11.0)\n",
            "Collecting jaxlib==0.1.69+cuda101\n",
            "  Downloading https://storage.googleapis.com/jax-releases/cuda101/jaxlib-0.1.69%2Bcuda101-cp38-none-manylinux2010_x86_64.whl (165.4 MB)\n",
            "\u001b[K     |████████████████████████████████| 165.4 MB 1.1 kB/s \n",
            "\u001b[?25hRequirement already satisfied: flatbuffers<3.0,>=1.12 in /usr/local/lib/python3.8/dist-packages (from jaxlib==0.1.69+cuda101->jax[cuda101]) (1.12)\n",
            "Requirement already satisfied: scipy in /usr/local/lib/python3.8/dist-packages (from jaxlib==0.1.69+cuda101->jax[cuda101]) (1.4.1)\n",
            "Requirement already satisfied: six in /usr/local/lib/python3.8/dist-packages (from absl-py->jax[cuda101]) (1.15.0)\n",
            "Installing collected packages: jaxlib\n",
            "  Attempting uninstall: jaxlib\n",
            "    Found existing installation: jaxlib 0.1.69+cuda111\n",
            "    Uninstalling jaxlib-0.1.69+cuda111:\n",
            "      Successfully uninstalled jaxlib-0.1.69+cuda111\n",
            "Successfully installed jaxlib-0.1.69+cuda101\n",
            "Defaulting to user installation because normal site-packages is not writeable\n",
            "Collecting git+https://github.com/deepmind/dm-haiku\n",
            "  Cloning https://github.com/deepmind/dm-haiku to /tmp/pip-req-build-7myft_i0\n",
            "  Running command git clone -q https://github.com/deepmind/dm-haiku /tmp/pip-req-build-7myft_i0\n",
            "  Resolved https://github.com/deepmind/dm-haiku to commit 4ae60fd4fd2da3b2f8f9ad3ec6dfd893745b483b\n",
            "Requirement already satisfied: absl-py>=0.7.1 in /usr/local/lib/python3.8/dist-packages (from dm-haiku==0.0.5.dev0) (0.11.0)\n",
            "Requirement already satisfied: jmp>=0.0.2 in /home/cisprague/.local/lib/python3.8/site-packages (from dm-haiku==0.0.5.dev0) (0.0.2)\n",
            "Requirement already satisfied: numpy>=1.18.0 in /usr/local/lib/python3.8/dist-packages (from dm-haiku==0.0.5.dev0) (1.19.5)\n",
            "Requirement already satisfied: tabulate>=0.8.9 in /home/cisprague/.local/lib/python3.8/site-packages (from dm-haiku==0.0.5.dev0) (0.8.9)\n",
            "Requirement already satisfied: six in /usr/local/lib/python3.8/dist-packages (from absl-py>=0.7.1->dm-haiku==0.0.5.dev0) (1.15.0)\n",
            "Defaulting to user installation because normal site-packages is not writeable\n",
            "Collecting git+https://github.com/deepmind/optax\n",
            "  Cloning https://github.com/deepmind/optax to /tmp/pip-req-build-8n9vr5vw\n",
            "  Running command git clone -q https://github.com/deepmind/optax /tmp/pip-req-build-8n9vr5vw\n",
            "  Resolved https://github.com/deepmind/optax to commit 243ed1991b2793e87ab60387f7c3d49d6ab57710\n",
            "Requirement already satisfied: absl-py>=0.7.1 in /usr/local/lib/python3.8/dist-packages (from optax==0.0.9) (0.11.0)\n",
            "Requirement already satisfied: chex>=0.0.4 in /home/cisprague/.local/lib/python3.8/site-packages (from optax==0.0.9) (0.0.8)\n",
            "Requirement already satisfied: jax>=0.1.55 in /home/cisprague/.local/lib/python3.8/site-packages (from optax==0.0.9) (0.2.18)\n",
            "Requirement already satisfied: jaxlib>=0.1.37 in /home/cisprague/.local/lib/python3.8/site-packages (from optax==0.0.9) (0.1.69+cuda101)\n",
            "Requirement already satisfied: numpy>=1.18.0 in /usr/local/lib/python3.8/dist-packages (from optax==0.0.9) (1.19.5)\n",
            "Requirement already satisfied: six in /usr/local/lib/python3.8/dist-packages (from absl-py>=0.7.1->optax==0.0.9) (1.15.0)\n",
            "Requirement already satisfied: toolz>=0.9.0 in /home/cisprague/.local/lib/python3.8/site-packages (from chex>=0.0.4->optax==0.0.9) (0.11.1)\n",
            "Requirement already satisfied: dm-tree>=0.1.5 in /usr/local/lib/python3.8/dist-packages (from chex>=0.0.4->optax==0.0.9) (0.1.5)\n",
            "Requirement already satisfied: opt-einsum in /usr/local/lib/python3.8/dist-packages (from jax>=0.1.55->optax==0.0.9) (3.3.0)\n",
            "Requirement already satisfied: scipy in /usr/local/lib/python3.8/dist-packages (from jaxlib>=0.1.37->optax==0.0.9) (1.4.1)\n",
            "Requirement already satisfied: flatbuffers<3.0,>=1.12 in /usr/local/lib/python3.8/dist-packages (from jaxlib>=0.1.37->optax==0.0.9) (1.12)\n",
            "Defaulting to user installation because normal site-packages is not writeable\n",
            "Requirement already satisfied: tqdm in /usr/local/lib/python3.8/dist-packages (4.56.0)\n"
          ]
        }
      ],
      "metadata": {
        "id": "MbwNlmTpmyru",
        "colab": {
          "base_uri": "https://localhost:8080/"
        },
        "outputId": "54a0e4cf-bf27-4617-8a26-cee6f42d2ece"
      }
    },
    {
      "cell_type": "code",
      "execution_count": 3,
      "source": [
        "from jax.lib import xla_bridge\n",
        "print(xla_bridge.get_backend().platform)"
      ],
      "outputs": [
        {
          "output_type": "stream",
          "name": "stdout",
          "text": [
            "cpu\n"
          ]
        }
      ],
      "metadata": {}
    },
    {
      "cell_type": "markdown",
      "source": [
        "# Analytical model\n",
        "We will gather data from an analytical model of an AUV, so that we can compare the learned/identified model with a ground truth. However, in practice, one can also use other data as input, such as AUV pose data from missions.\n",
        "\n",
        "A six degree-of freedom AUV model is used leading to 12 states ($x,y,z,\\phi,\\theta,\\psi,u,v,w,p,q,r $), based on Fossen's notation. \n",
        "\n",
        "The kinematics are of the form\n",
        "    $\\dot \\eta = J_{euler}(\\eta)\\nu$ , \n",
        "    where $\\eta$ represents the vector of positions and orientations in Euler angles, while $\\nu$ represents the vector of velocities and angular velocities and $J_{euler}\\in\\mathbb{R}^{6 \\times 6}$ is the kinematic transformation matrix. \n",
        "\n",
        "The dynamics are of the form\n",
        "    $M_{\\text{eff}} \\dot\\nu + C_{\\text{eff}}(\\nu) + g(\\eta) = \\tau_C$, \n",
        "    where M represents the combined mass and inertia matrix (considering rigid body terms, but added mass terms can also be included), C is the combined coriolis-centripetal matrix, D is the damping matrix (considering hydrodynamics), g represents the buoyancy forces (considering hydrostatics) and $\\tau_C$ refers to the vector of external control forces (such as from actuators).\n",
        "\n",
        "The AUV under consideration (SAM) has 6 actuators including counter-rotating propellers (to control speed and roll), thrust vectoring(for yaw and pitch), longitudinal center of gravity(for static pitching and gliding) and a variable buoyancy system (to regulate buoyancy) and is underactuated. The effect of these actuators are included in the code below.\n"
      ],
      "metadata": {
        "id": "7SDLTz2ukoQq"
      }
    },
    {
      "cell_type": "code",
      "execution_count": 2,
      "source": [
        "state_dim = 12\n",
        "control_dim = 6"
      ],
      "outputs": [],
      "metadata": {
        "id": "JRrF0LgBULxN"
      }
    },
    {
      "cell_type": "code",
      "execution_count": 3,
      "source": [
        "@jit\n",
        "def skew(l):\n",
        "  return np.array([\n",
        "    [0, -l[2], l[1]],\n",
        "    [l[2], 0, -l[0]],\n",
        "    [-l[1], l[0], 0]\n",
        "  ])"
      ],
      "outputs": [],
      "metadata": {
        "id": "Pdx2qOUuktpJ"
      }
    },
    {
      "cell_type": "code",
      "execution_count": 4,
      "source": [
        "@jit\n",
        "def f_analytical(state, control):\n",
        "\n",
        "  # state and control\n",
        "  x, y, z, phi, theta, psi, u, v, w, p, q, r = state\n",
        "  rpm1, rpm2, de, dr, lcg, vbs = control\n",
        "\n",
        "  # position and velocity\n",
        "  eta = np.array([x, y, z, phi, theta, psi])\n",
        "  nu = np.array([u, v, w, p, q, r])\n",
        "\n",
        "  # scaled controls\n",
        "  rpm1 *= 1000.0\n",
        "  rpm2 *= 1000.0\n",
        "  de *= 0.05\n",
        "  dr *= 0.05\n",
        "  # vbs *= 1.0\n",
        "  # lcg *= 1.0\n",
        "\n",
        "  # mass and inertia matrix\n",
        "  m = 14.0\n",
        "  I_o = np.diag(np.array([0.0294, 1.6202, 1.6202]))\n",
        "\n",
        "  # centre of gravity, buoyancy, and pressure positions, resp.\n",
        "  r_g = np.array([0.1 + lcg*0.01, 0.0, 0.0])\n",
        "  r_b = np.array([0.1, 0.0, 0.0])\n",
        "  r_cp = np.array([0.1, 0.0, 0.0])\n",
        "\n",
        "  # <insert title>\n",
        "  W = m*9.81\n",
        "  B = W + vbs*1.5\n",
        "\n",
        "  # hydrodynamic coefficients\n",
        "  Xuu = 5. #3. #1.0\n",
        "  Yvv = 20. #10. #100.0\n",
        "  Zww = 50. #100.0\n",
        "  Kpp = 0.1 #10.0\n",
        "  Mqq = 20.#40 #100.0\n",
        "  Nrr = 20. #150.0\n",
        "\n",
        "  # control actuators\n",
        "  K_T = np.array([0.0175, 0.0175])\n",
        "  Q_T = np.array([0.001, -0.001])#*0.0\n",
        "\n",
        "  # mass and inertia matrix\n",
        "  M = np.block([\n",
        "    [m*np.eye(3,3), -m*skew(r_g)],\n",
        "    [m*skew(r_g), I_o]\n",
        "  ])\n",
        "  assert M.shape == (6,6), M\n",
        "\n",
        "  # coriolis and centripetal matrix\n",
        "  nu1 = np.array([u, v, w])\n",
        "  nu2 = np.array([p, q, r])\n",
        "  top_right = -m*skew(nu1) - m*skew(nu2)*skew(r_g)\n",
        "  bottom_left = -m*skew(nu1) + m*skew(r_g)*skew(nu2)\n",
        "  bottom_right = -skew(I_o.dot(nu2))\n",
        "  C_RB = np.block([\n",
        "    [np.zeros((3,3)), top_right],\n",
        "    [bottom_left, bottom_right]\n",
        "  ])\n",
        "  assert C_RB.shape == (6, 6), C_RB\n",
        "\n",
        "  # damping matrix\n",
        "  forces = np.diag(np.array([Xuu*np.abs(u), Yvv*np.abs(v), Zww*np.abs(w)]))\n",
        "  moments = np.diag(np.array([Kpp*np.abs(p), Mqq*np.abs(q), Nrr*np.abs(r)]))\n",
        "  coupling = np.matmul(skew(r_cp), forces)\n",
        "  D = np.block([[forces, np.zeros((3, 3))], [-coupling, moments]])\n",
        "  assert D.shape == (6, 6), D\n",
        "\n",
        "  # rotational transform between body and NED in Euler        \n",
        "  T_euler = np.array([\n",
        "    [1, np.sin(phi)*np.tan(theta), np.cos(phi)*np.tan(theta)],\n",
        "    [0, np.cos(phi), -np.sin(phi)],\n",
        "    [0, np.sin(phi)/np.cos(theta), np.cos(phi)/np.cos(theta)],\n",
        "  ])\n",
        "  R_euler = np.array([\n",
        "    [\n",
        "      np.cos(psi)*np.cos(theta),\n",
        "      -np.sin(psi)*np.cos(phi)+np.cos(psi)*np.sin(theta)*np.sin(phi),\n",
        "      np.sin(psi)*np.sin(phi)+np.cos(psi)*np.cos(phi)*np.sin(theta)\n",
        "    ],\n",
        "    [\n",
        "      np.sin(psi)*np.cos(theta),\n",
        "      np.cos(psi)*np.cos(phi)+np.sin(phi)*np.sin(theta)*np.sin(psi),\n",
        "      -np.cos(psi)*np.sin(phi)+np.sin(theta)*np.sin(psi)*np.cos(phi),\n",
        "    ],\n",
        "    [\n",
        "      -np.sin(theta),\n",
        "      np.cos(theta)*np.sin(phi),\n",
        "      np.cos(theta)*np.cos(phi),\n",
        "    ],\n",
        "  ])\n",
        "  assert R_euler.shape == (3,3), R_euler\n",
        "  J_eta = np.block([\n",
        "    [R_euler, np.zeros((3,3))],\n",
        "    [np.zeros((3,3)), T_euler]\n",
        "  ])\n",
        "  assert J_eta.shape == (6,6), J_eta\n",
        "\n",
        "  # buoyancy in quaternions\n",
        "  f_g = np.array([0, 0, W])\n",
        "  f_b = np.array([0, 0, -B])\n",
        "  row1 = np.linalg.inv(R_euler).dot(f_g + f_b)\n",
        "  row2 = skew(r_g).dot(np.linalg.inv(R_euler)).dot(f_g) + \\\n",
        "    skew(r_b).dot(np.linalg.inv(R_euler)).dot(f_b)\n",
        "  geta = np.block([row1, row2])\n",
        "  assert geta.shape == (6,), geta\n",
        "\n",
        "  # <insert title>\n",
        "  F_T = K_T.dot(np.array([rpm1, rpm2]))\n",
        "  M_T = Q_T.dot(np.array([rpm1, rpm2]))\n",
        "  tauc = np.array([\n",
        "    F_T*np.cos(de)*np.cos(dr),\n",
        "    -F_T*np.sin(dr),\n",
        "    F_T*np.sin(de)*np.cos(dr),\n",
        "    M_T*np.cos(de)*np.cos(dr),\n",
        "    -M_T*np.sin(dr),\n",
        "    M_T*np.sin(de)*np.cos(dr)\n",
        "  ])\n",
        "  assert tauc.shape == (6,), tauc\n",
        "\n",
        "  # velocity and acceleration \n",
        "  etadot = np.block([J_eta.dot(nu)])\n",
        "  assert etadot.shape == (6,)\n",
        "  nudot = np.linalg.inv(M).dot(tauc - (C_RB + D).dot(nu - geta))\n",
        "  assert nudot.shape == (6,)\n",
        "\n",
        "  # state-space\n",
        "  sdot = np.block([etadot, nudot])\n",
        "  return sdot"
      ],
      "outputs": [],
      "metadata": {
        "id": "UEqKTbPanK_u"
      }
    },
    {
      "cell_type": "markdown",
      "source": [
        "# Generating data\n",
        "\n",
        "We want to ensure percitant excitation to make sure we cover a variety of states.\n",
        "\n",
        "To do this, we will simulate random state-feedback controllers. A straighforward way to do this is to simulate NN controllers with random parameters."
      ],
      "metadata": {
        "id": "ARZTeE8Baj09"
      }
    },
    {
      "cell_type": "markdown",
      "source": [
        "## Integration"
      ],
      "metadata": {
        "id": "6ocCFhWV1t4r"
      }
    },
    {
      "cell_type": "code",
      "execution_count": null,
      "source": [
        "# a single integration step for a single state\n",
        "def rk4_step(f, x, u, h):\n",
        "  k1 = f(x, u)\n",
        "  k2 = f(x + h*k1/2, u)\n",
        "  k3 = f(x + h*k2/2, u)\n",
        "  k4 = f(x + h*k3, u)\n",
        "  return x + h*(k1 + 2*k2 + 2*k3 + k4)/6"
      ],
      "outputs": [],
      "metadata": {
        "id": "HRmjyV5XZfyb"
      }
    },
    {
      "cell_type": "markdown",
      "source": [
        "## Random training data"
      ],
      "metadata": {
        "id": "lh_TXA1Q3WJA"
      }
    },
    {
      "cell_type": "code",
      "execution_count": 5,
      "source": [
        "key = hk.PRNGSequence(42)\n",
        "n_train = 100\n",
        "h = 0.01"
      ],
      "outputs": [
        {
          "output_type": "stream",
          "name": "stderr",
          "text": [
            "WARNING:absl:No GPU/TPU found, falling back to CPU. (Set TF_CPP_MIN_LOG_LEVEL=0 and rerun for more info.)\n"
          ]
        }
      ],
      "metadata": {
        "id": "UveZ36MK5KVH"
      }
    },
    {
      "cell_type": "code",
      "execution_count": null,
      "source": [
        "states0 = uniform(\n",
        "    next(key),\n",
        "    shape=(n_train, state_dim),\n",
        "    minval=np.array([-10, -10, -10, -np.pi, -np.pi, -np.pi, -5, -5, -5, -5, -5, -5]),\n",
        "    maxval=np.array([10, 10, 10, np.pi, np.pi, np.pi, 5, 5, 5, 5, 5, 5])\n",
        ")"
      ],
      "outputs": [],
      "metadata": {
        "id": "Pe20UyGi5Ayq"
      }
    },
    {
      "cell_type": "code",
      "execution_count": null,
      "source": [
        "controls0 = uniform(\n",
        "    next(key),\n",
        "    shape=(n_train, control_dim),\n",
        "    minval=np.full(control_dim, -1, dtype=np.float32),\n",
        "    maxval=np.full(control_dim, 1, dtype=np.float32)\n",
        ")"
      ],
      "outputs": [],
      "metadata": {
        "id": "d7DXMKXNxfQ9"
      }
    },
    {
      "cell_type": "code",
      "execution_count": null,
      "source": [
        "dstates0 = vmap(f_analytical, in_axes=(0, 0))(states0, controls0)"
      ],
      "outputs": [],
      "metadata": {}
    },
    {
      "cell_type": "code",
      "execution_count": null,
      "source": [
        "states1 = rk4_steps_analytical(states0, controls0, h)"
      ],
      "outputs": [],
      "metadata": {
        "id": "ZrJz4jcX1xl7"
      }
    },
    {
      "cell_type": "code",
      "execution_count": null,
      "source": [
        "scaler = preprocessing.StandardScaler().fit(states0)\n",
        "mean = scaler.mean_\n",
        "scale = scaler.scale_\n",
        "mean = 0\n",
        "scale = 1"
      ],
      "outputs": [],
      "metadata": {
        "id": "tqMsbIi4rTLi"
      }
    },
    {
      "cell_type": "markdown",
      "source": [
        "## Visualisation"
      ],
      "metadata": {
        "id": "P1IxHrfM3JAR"
      }
    },
    {
      "cell_type": "code",
      "execution_count": null,
      "source": [
        "# TODO: add quiver\n",
        "trajs = np.hstack((states0, states1)).reshape((-1, 2, 12))\n",
        "fig = plt.figure()\n",
        "ax = fig.add_subplot(111, projection='3d')\n",
        "for i in range(1000):\n",
        "  ax.plot(trajs[i,:,0], trajs[i,:,1], trajs[i,:,2], 'k-')\n",
        "plt.show()"
      ],
      "outputs": [],
      "metadata": {
        "colab": {
          "base_uri": "https://localhost:8080/",
          "height": 248
        },
        "id": "2CcBdQUE3XvZ",
        "outputId": "ba4e5873-7afd-451b-ad2d-7689616e5108"
      }
    },
    {
      "cell_type": "markdown",
      "source": [
        "# Learning models\n",
        "\n",
        "We will test a naïve multi-layer-perceptron model and a physics-informed model (https://arxiv.org/pdf/2106.00026.pdf)."
      ],
      "metadata": {
        "id": "fSVIWCaWdMIk"
      }
    },
    {
      "cell_type": "markdown",
      "source": [
        "## Naïve model"
      ],
      "metadata": {
        "id": "bKelBIRs6Utd"
      }
    },
    {
      "cell_type": "code",
      "execution_count": null,
      "source": [
        "def F_naive(state, control):\n",
        "  state = (state - mean)/scale\n",
        "  net = hk.nets.MLP([500, 500, 500, 12], activation=softplus)\n",
        "  return net(np.hstack((state, control)))"
      ],
      "outputs": [],
      "metadata": {
        "id": "HUAEolYeSzvU"
      }
    },
    {
      "cell_type": "markdown",
      "source": [
        "## Physics-informed model\n",
        "\n",
        "To learn the dynamics model from data we will use physics-informed learning: a way to constrain neural network models to obey the first-principles of physics.\n",
        "\n",
        "We will model a Lagrangian to learn to conservative part of the dynamics.\n",
        "\n",
        "\n",
        "$$\n",
        "\\ddot q = (\\nabla_{\\dot q}\\nabla_{\\dot q}^{\\top}\\mathcal{L})^{-1}[\\nabla_q \\mathcal{L} - (\\nabla_{q}\\nabla_{\\dot q}^{\\top}\\mathcal{L})\\dot q\n",
        "$$\n",
        "\n"
      ],
      "metadata": {
        "id": "Iy6Sdz2VPerW"
      }
    },
    {
      "cell_type": "code",
      "execution_count": null,
      "source": [
        "def lagrangian(q, dq):\n",
        "  net = hk.nets.MLP([200, 200, 200, 1], activation=softplus)\n",
        "  return net(np.hstack((q, dq)))[0]"
      ],
      "outputs": [],
      "metadata": {
        "id": "ewQuEdZNT1cH"
      }
    },
    {
      "cell_type": "code",
      "execution_count": null,
      "source": [
        "def F_conservative(state):\n",
        "  q, dq = np.split(state, 2)\n",
        "  ddq = jacobian(jacobian(lagrangian, 1), 0)(q, dq)\n",
        "  ddq = ddq @ dq\n",
        "  ddq = grad(lagrangian, 0)(q, dq) - ddq\n",
        "  ddq = np.linalg.pinv(hessian(lagrangian, 1)(q, dq)) @ ddq\n",
        "  return np.hstack((dq, ddq))"
      ],
      "outputs": [],
      "metadata": {
        "id": "6HByCduAU_j3"
      }
    },
    {
      "cell_type": "code",
      "execution_count": null,
      "source": [
        "def F_non_conservative(state, control):\n",
        "  net = hk.nets.MLP([200, 200, 200, 12], activation=softplus)\n",
        "  return net(np.hstack((state, control)))"
      ],
      "outputs": [],
      "metadata": {
        "id": "IWLlVd01VDSX"
      }
    },
    {
      "cell_type": "code",
      "execution_count": null,
      "source": [
        "def F_decomposition(state, control):\n",
        "  return f_conservative(state) + f_non_conservative(state, control)"
      ],
      "outputs": [],
      "metadata": {
        "id": "XvKXJchiVNSQ"
      }
    },
    {
      "cell_type": "markdown",
      "source": [
        "# Loss function design\n",
        "\n",
        "Let us assume that we will have a database of trajectories, either obtained through simulation of an analytical model or through robotic field data.\n",
        "\n"
      ],
      "metadata": {
        "id": "PGb3FKjGemjL"
      }
    },
    {
      "cell_type": "code",
      "execution_count": null,
      "source": [
        "@partial(jit, static_argnums=(0,2))\n",
        "def loss(f_nn, params, n, key):\n",
        "\n",
        "    # generate random states\n",
        "    states0 = uniform(\n",
        "        key,\n",
        "        shape=(n, state_dim),\n",
        "        minval=np.array([-10, -10, -10, -np.pi, -np.pi, -np.pi, -5, -5, -5, -5, -5, -5]),\n",
        "        maxval=np.array([10, 10, 10, np.pi, np.pi, np.pi, 5, 5, 5, 5, 5, 5])\n",
        "    )\n",
        "\n",
        "    # generate random controls\n",
        "    controls0 = uniform(\n",
        "        key,\n",
        "        shape=(n, control_dim),\n",
        "        minval=np.full(control_dim, -1, dtype=np.float32),\n",
        "        maxval=np.full(control_dim, 1, dtype=np.float32)\n",
        "    )\n",
        "\n",
        "    # compute analytical time-derivative of state\n",
        "    # NOTE: assumes velocity and acceleration are known from field data\n",
        "    dstates0 = vmap(f_analytical, in_axes=(0,0))(states0, controls0)\n",
        "\n",
        "    # compute NN time-derivative predictions\n",
        "    nn_dstates0 = vmap(f_nn.apply, in_axes=(None,0,0))(params, states0, controls0)\n",
        "\n",
        "    # mean-squared error loss\n",
        "    loss = np.average(np.square(dstates0 - nn_dstates0))\n",
        "    return loss, loss\n"
      ],
      "outputs": [],
      "metadata": {}
    },
    {
      "cell_type": "code",
      "execution_count": null,
      "source": [
        "loss_grad = jit(grad(loss, argnums=1, has_aux=True), static_argnums=(0,2))"
      ],
      "outputs": [],
      "metadata": {}
    },
    {
      "cell_type": "markdown",
      "source": [
        "## Naïve model"
      ],
      "metadata": {
        "id": "96U5kzJtdPe1"
      }
    },
    {
      "cell_type": "code",
      "execution_count": null,
      "source": [
        "f_naive = hk.without_apply_rng(hk.transform(F_naive))\n",
        "params_naive = f_naive.init(next(key), states0[0,:], controls0[0,:])"
      ],
      "outputs": [],
      "metadata": {
        "id": "b_-ljvsea4JH"
      }
    },
    {
      "cell_type": "code",
      "execution_count": null,
      "source": [
        "@jit\n",
        "def rk4_step_naive(params, x, u, h):\n",
        "  # f = lambda x, u: f_naive.apply(params, (x - mean)/scale, u)\n",
        "  return rk4_step(lambda x, u: f_naive.apply(params, x, u), x, u, h)\n",
        "rk4_steps_naive = jit(vmap(rk4_step_naive, in_axes=(None, 0, 0, None)))"
      ],
      "outputs": [],
      "metadata": {
        "id": "RBwLI_bOcral"
      }
    },
    {
      "cell_type": "code",
      "execution_count": null,
      "source": [
        "\n",
        "def loss_naive(params):\n",
        "\n",
        "  # naïve dynamics\n",
        "  # nn_states1 = rk4_steps_naive(params, states0, controls0, h)\n",
        "  nn_dstates0 = vmap(f_naive.apply, (None, 0, 0))(params, states0, controls0)\n",
        "\n",
        "  # MSE\n",
        "  # loss = np.average(np.square(nn_states1 - states1))\n",
        "  loss = np.average(np.square(dstates0 - nn_dstates0))\n",
        "  return loss, loss"
      ],
      "outputs": [],
      "metadata": {
        "id": "vsCxynHKXB7z"
      }
    },
    {
      "cell_type": "code",
      "execution_count": null,
      "source": [
        "# gradient of loss function\n",
        "grad_loss_naive = jit(grad(loss_naive, argnums=0, has_aux=True))"
      ],
      "outputs": [],
      "metadata": {
        "id": "I9WoNn9Td81v"
      }
    },
    {
      "cell_type": "markdown",
      "source": [
        "# Training"
      ],
      "metadata": {
        "id": "UnBj8FQNf8xl"
      }
    },
    {
      "cell_type": "code",
      "execution_count": null,
      "source": [
        "# setup optimiser and initialise its state\n",
        "opt_init, opt_update = optax.chain(optax.scale_by_adam(), optax.scale(-1e-3))\n",
        "opt_state = opt_init(params_naive)"
      ],
      "outputs": [],
      "metadata": {
        "id": "PcxEKaqJf_E2"
      }
    },
    {
      "cell_type": "code",
      "execution_count": null,
      "source": [
        "# loss data\n",
        "losses_naive = list()"
      ],
      "outputs": [],
      "metadata": {
        "id": "kiJCfZADgOka"
      }
    },
    {
      "cell_type": "code",
      "execution_count": null,
      "source": [
        "# training loop\n",
        "pb = tqdm(range(1000))\n",
        "for _ in pb:\n",
        "\n",
        "  # gradient and loss\n",
        "  gopt, loss = loss_grad(f_naive, params_naive, 500, next(key))\n",
        "  # gopt, loss = grad_loss_naive(params_naive)\n",
        "\n",
        "  # progress bar update\n",
        "  pb.set_description('{:.6f}'.format(loss))\n",
        "\n",
        "  # optimiser update\n",
        "  updates, opt_state = opt_update(gopt, opt_state, params_naive)\n",
        "\n",
        "  # update the parameters\n",
        "  params_naive = optax.apply_updates(params_naive, updates)"
      ],
      "outputs": [],
      "metadata": {
        "colab": {
          "base_uri": "https://localhost:8080/",
          "height": 66,
          "referenced_widgets": [
            "453c2439576b4b37a230ab19c0250bc7",
            "ba5c1bee1285422186d3226053062df1",
            "76d9dd852768496ea2c7c524cc9a898f",
            "67512724390d437698f0e0a9a9e13b19",
            "513ba46faa144d3481cfdc12f178ce53",
            "8adf4244e0274fb6a3cc40c4d305f424",
            "b18b694caf864842ae56d15e94b55244",
            "17a45d63f5614d048e548f170a2608ad"
          ]
        },
        "id": "4VZqu6A3ggUG",
        "outputId": "14e05adf-1496-40f1-b5b6-a9a99249a92a"
      }
    },
    {
      "cell_type": "markdown",
      "source": [
        "# Results"
      ],
      "metadata": {
        "id": "cB81JIUfn7Fv"
      }
    },
    {
      "cell_type": "markdown",
      "source": [
        "## States and times"
      ],
      "metadata": {
        "id": "DlZRPU9UFiMP"
      }
    },
    {
      "cell_type": "code",
      "execution_count": null,
      "source": [
        "times = np.arange(0.0, 10, h)\n",
        "n_trajs = 2\n",
        "i = choice(\n",
        "  next(key), \n",
        "  np.arange(0, n_train), \n",
        "  shape=(n_trajs,)\n",
        ")\n",
        "states = states0[i, :]"
      ],
      "outputs": [],
      "metadata": {
        "id": "Ja3dc7cj9gGF"
      }
    },
    {
      "cell_type": "markdown",
      "source": [
        "## Random control policy"
      ],
      "metadata": {
        "id": "iRaV5E-cFlg4"
      }
    },
    {
      "cell_type": "code",
      "execution_count": null,
      "source": [
        "# random NN controller\n",
        "def Policy(state):\n",
        "  net = hk.nets.MLP([200, 200, control_dim])\n",
        "  return np.tanh(net(state))"
      ],
      "outputs": [],
      "metadata": {
        "id": "r13BtIr65Yni"
      }
    },
    {
      "cell_type": "code",
      "execution_count": null,
      "source": [
        "policy = hk.without_apply_rng(hk.transform(Policy))\n",
        "params_policy = policy.init(next(key), states0[0,:])"
      ],
      "outputs": [],
      "metadata": {
        "id": "r01y0zpk5wd3"
      }
    },
    {
      "cell_type": "markdown",
      "source": [
        "## Plotting"
      ],
      "metadata": {
        "id": "SbyfhxpHak-U"
      }
    },
    {
      "cell_type": "code",
      "execution_count": null,
      "source": [
        "def plot(trajs_analytical=None, trajs_naive=None, trajs_decomposition=None):\n",
        "\n",
        "  # setup\n",
        "  fig = plt.figure()\n",
        "  ax = fig.add_subplot(111, projection='3d')\n",
        "\n",
        "  # analytical\n",
        "  if trajs_analytical is not None:\n",
        "    for i in range(n_trajs):\n",
        "      ax.plot(\n",
        "        trajs_analytical[i,:1,0],\n",
        "        trajs_analytical[i,:1,1],\n",
        "        trajs_analytical[i,:1,2],\n",
        "        'kx'\n",
        "      )\n",
        "      ax.plot(\n",
        "        trajs_analytical[i,:,0], \n",
        "        trajs_analytical[i,:,1], \n",
        "        trajs_analytical[i,:,2], \n",
        "        'k-'\n",
        "      )\n",
        "\n",
        "  # naive\n",
        "  if trajs_naive is not None:\n",
        "    for i in range(n_trajs):\n",
        "      ax.plot(\n",
        "        trajs_naive[i,:1,0],\n",
        "        trajs_naive[i,:1,1],\n",
        "        trajs_naive[i,:1,2],\n",
        "        'kx'\n",
        "      )\n",
        "      ax.plot(\n",
        "        trajs_naive[i,:,0], \n",
        "        trajs_naive[i,:,1], \n",
        "        trajs_naive[i,:,2], \n",
        "        'k-'\n",
        "      )\n",
        "\n",
        "  # analytical\n",
        "  if trajs_decomposition is not None:\n",
        "    for i in range(n_trajs):\n",
        "      ax.plot(\n",
        "        trajs_decomposition[i,:1,0],\n",
        "        trajs_decomposition[i,:1,1],\n",
        "        trajs_decomposition[i,:1,2],\n",
        "        'kx'\n",
        "      )\n",
        "      ax.plot(\n",
        "        trajs_decomposition[i,:,0], \n",
        "        trajs_decomposition[i,:,1], \n",
        "        trajs_decomposition[i,:,2], \n",
        "        'k-'\n",
        "      )\n",
        "\n",
        "  plt.show()"
      ],
      "outputs": [],
      "metadata": {
        "id": "ONMwuvBHamxs"
      }
    },
    {
      "cell_type": "markdown",
      "source": [
        "## Analytical trajectories"
      ],
      "metadata": {
        "id": "45rsDVbkFpEh"
      }
    },
    {
      "cell_type": "code",
      "execution_count": null,
      "source": [
        "@jit\n",
        "def trajectory_analytical(params, state):\n",
        "  params = stop_gradient(params)\n",
        "  state = stop_gradient(state)\n",
        "  traj = odeint(\n",
        "      lambda x, t: f_analytical(x, policy.apply(params, x)),\n",
        "      state,\n",
        "      times\n",
        "  )\n",
        "  return traj\n",
        "\n",
        "trajectories_analytical = jit(vmap(trajectory_analytical, in_axes=(None, 0)))"
      ],
      "outputs": [],
      "metadata": {
        "id": "LI8JbUE7n_ul"
      }
    },
    {
      "cell_type": "code",
      "execution_count": null,
      "source": [
        "trajs_analytical = trajectories_analytical(params_policy, states)"
      ],
      "outputs": [],
      "metadata": {
        "id": "Tzz_Jb4I9AFa"
      }
    },
    {
      "cell_type": "code",
      "execution_count": null,
      "source": [
        "plot(trajs_analytical)"
      ],
      "outputs": [],
      "metadata": {
        "colab": {
          "base_uri": "https://localhost:8080/",
          "height": 248
        },
        "id": "-34S1WkeZeMV",
        "outputId": "7b471595-e5d7-4176-b2cc-cff325ca0160"
      }
    },
    {
      "cell_type": "markdown",
      "source": [
        "## Naïve trajectories"
      ],
      "metadata": {
        "id": "cG8sJgc_Fr4r"
      }
    },
    {
      "cell_type": "code",
      "execution_count": null,
      "source": [
        "@jit\n",
        "def trajectory_naive(params, state):\n",
        "  # params = stop_gradient(params)\n",
        "  # state = stop_gradient(state)\n",
        "  f = lambda x, u: f_naive.apply(params_naive, x, policy.apply(params, x))\n",
        "  traj = odeint(f, state, times)\n",
        "  return traj\n",
        "\n",
        "trajectories_naive = jit(vmap(trajectory_naive, in_axes=(None, 0)))"
      ],
      "outputs": [],
      "metadata": {
        "id": "o9nv9obyFrnQ"
      }
    },
    {
      "cell_type": "code",
      "execution_count": null,
      "source": [
        "trajs_naive = trajectories_naive(params_policy, states)"
      ],
      "outputs": [],
      "metadata": {
        "id": "DpTCIa_pGJ69"
      }
    },
    {
      "cell_type": "code",
      "execution_count": null,
      "source": [
        "plot(trajs_naive)"
      ],
      "outputs": [],
      "metadata": {
        "colab": {
          "base_uri": "https://localhost:8080/",
          "height": 248
        },
        "id": "BkOM-f9rYMzm",
        "outputId": "d74e7a1b-9d6e-46f0-dc93-fd8170ac2bdc"
      }
    },
    {
      "cell_type": "code",
      "execution_count": null,
      "source": [
        "trajs_naive"
      ],
      "outputs": [],
      "metadata": {
        "id": "QVPFUdkfcPIu"
      }
    },
    {
      "cell_type": "code",
      "execution_count": null,
      "source": [],
      "outputs": [],
      "metadata": {}
    }
  ]
}