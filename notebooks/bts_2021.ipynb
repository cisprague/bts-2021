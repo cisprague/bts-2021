{
  "nbformat": 4,
  "nbformat_minor": 2,
  "metadata": {
    "colab": {
      "name": "bts-2021.ipynb",
      "provenance": [],
      "collapsed_sections": [],
      "include_colab_link": true
    },
    "kernelspec": {
      "name": "python3",
      "display_name": "Python 3.8.10 64-bit"
    },
    "language_info": {
      "name": "python",
      "version": "3.8.10",
      "mimetype": "text/x-python",
      "codemirror_mode": {
        "name": "ipython",
        "version": 3
      },
      "pygments_lexer": "ipython3",
      "nbconvert_exporter": "python",
      "file_extension": ".py"
    },
    "accelerator": "GPU",
    "widgets": {
      "application/vnd.jupyter.widget-state+json": {
        "453c2439576b4b37a230ab19c0250bc7": {
          "model_module": "@jupyter-widgets/controls",
          "model_name": "HBoxModel",
          "state": {
            "_view_name": "HBoxView",
            "_dom_classes": [],
            "_model_name": "HBoxModel",
            "_view_module": "@jupyter-widgets/controls",
            "_model_module_version": "1.5.0",
            "_view_count": null,
            "_view_module_version": "1.5.0",
            "box_style": "",
            "layout": "IPY_MODEL_ba5c1bee1285422186d3226053062df1",
            "_model_module": "@jupyter-widgets/controls",
            "children": [
              "IPY_MODEL_76d9dd852768496ea2c7c524cc9a898f",
              "IPY_MODEL_67512724390d437698f0e0a9a9e13b19"
            ]
          }
        },
        "ba5c1bee1285422186d3226053062df1": {
          "model_module": "@jupyter-widgets/base",
          "model_name": "LayoutModel",
          "state": {
            "_view_name": "LayoutView",
            "grid_template_rows": null,
            "right": null,
            "justify_content": null,
            "_view_module": "@jupyter-widgets/base",
            "overflow": null,
            "_model_module_version": "1.2.0",
            "_view_count": null,
            "flex_flow": null,
            "width": null,
            "min_width": null,
            "border": null,
            "align_items": null,
            "bottom": null,
            "_model_module": "@jupyter-widgets/base",
            "top": null,
            "grid_column": null,
            "overflow_y": null,
            "overflow_x": null,
            "grid_auto_flow": null,
            "grid_area": null,
            "grid_template_columns": null,
            "flex": null,
            "_model_name": "LayoutModel",
            "justify_items": null,
            "grid_row": null,
            "max_height": null,
            "align_content": null,
            "visibility": null,
            "align_self": null,
            "height": null,
            "min_height": null,
            "padding": null,
            "grid_auto_rows": null,
            "grid_gap": null,
            "max_width": null,
            "order": null,
            "_view_module_version": "1.2.0",
            "grid_template_areas": null,
            "object_position": null,
            "object_fit": null,
            "grid_auto_columns": null,
            "margin": null,
            "display": null,
            "left": null
          }
        },
        "76d9dd852768496ea2c7c524cc9a898f": {
          "model_module": "@jupyter-widgets/controls",
          "model_name": "FloatProgressModel",
          "state": {
            "_view_name": "ProgressView",
            "style": "IPY_MODEL_513ba46faa144d3481cfdc12f178ce53",
            "_dom_classes": [],
            "description": "0.161347: 100%",
            "_model_name": "FloatProgressModel",
            "bar_style": "success",
            "max": 1000,
            "_view_module": "@jupyter-widgets/controls",
            "_model_module_version": "1.5.0",
            "value": 1000,
            "_view_count": null,
            "_view_module_version": "1.5.0",
            "orientation": "horizontal",
            "min": 0,
            "description_tooltip": null,
            "_model_module": "@jupyter-widgets/controls",
            "layout": "IPY_MODEL_8adf4244e0274fb6a3cc40c4d305f424"
          }
        },
        "67512724390d437698f0e0a9a9e13b19": {
          "model_module": "@jupyter-widgets/controls",
          "model_name": "HTMLModel",
          "state": {
            "_view_name": "HTMLView",
            "style": "IPY_MODEL_b18b694caf864842ae56d15e94b55244",
            "_dom_classes": [],
            "description": "",
            "_model_name": "HTMLModel",
            "placeholder": "​",
            "_view_module": "@jupyter-widgets/controls",
            "_model_module_version": "1.5.0",
            "value": " 1000/1000 [17:55&lt;00:00,  1.08s/it]",
            "_view_count": null,
            "_view_module_version": "1.5.0",
            "description_tooltip": null,
            "_model_module": "@jupyter-widgets/controls",
            "layout": "IPY_MODEL_17a45d63f5614d048e548f170a2608ad"
          }
        },
        "513ba46faa144d3481cfdc12f178ce53": {
          "model_module": "@jupyter-widgets/controls",
          "model_name": "ProgressStyleModel",
          "state": {
            "_view_name": "StyleView",
            "_model_name": "ProgressStyleModel",
            "description_width": "initial",
            "_view_module": "@jupyter-widgets/base",
            "_model_module_version": "1.5.0",
            "_view_count": null,
            "_view_module_version": "1.2.0",
            "bar_color": null,
            "_model_module": "@jupyter-widgets/controls"
          }
        },
        "8adf4244e0274fb6a3cc40c4d305f424": {
          "model_module": "@jupyter-widgets/base",
          "model_name": "LayoutModel",
          "state": {
            "_view_name": "LayoutView",
            "grid_template_rows": null,
            "right": null,
            "justify_content": null,
            "_view_module": "@jupyter-widgets/base",
            "overflow": null,
            "_model_module_version": "1.2.0",
            "_view_count": null,
            "flex_flow": null,
            "width": null,
            "min_width": null,
            "border": null,
            "align_items": null,
            "bottom": null,
            "_model_module": "@jupyter-widgets/base",
            "top": null,
            "grid_column": null,
            "overflow_y": null,
            "overflow_x": null,
            "grid_auto_flow": null,
            "grid_area": null,
            "grid_template_columns": null,
            "flex": null,
            "_model_name": "LayoutModel",
            "justify_items": null,
            "grid_row": null,
            "max_height": null,
            "align_content": null,
            "visibility": null,
            "align_self": null,
            "height": null,
            "min_height": null,
            "padding": null,
            "grid_auto_rows": null,
            "grid_gap": null,
            "max_width": null,
            "order": null,
            "_view_module_version": "1.2.0",
            "grid_template_areas": null,
            "object_position": null,
            "object_fit": null,
            "grid_auto_columns": null,
            "margin": null,
            "display": null,
            "left": null
          }
        },
        "b18b694caf864842ae56d15e94b55244": {
          "model_module": "@jupyter-widgets/controls",
          "model_name": "DescriptionStyleModel",
          "state": {
            "_view_name": "StyleView",
            "_model_name": "DescriptionStyleModel",
            "description_width": "",
            "_view_module": "@jupyter-widgets/base",
            "_model_module_version": "1.5.0",
            "_view_count": null,
            "_view_module_version": "1.2.0",
            "_model_module": "@jupyter-widgets/controls"
          }
        },
        "17a45d63f5614d048e548f170a2608ad": {
          "model_module": "@jupyter-widgets/base",
          "model_name": "LayoutModel",
          "state": {
            "_view_name": "LayoutView",
            "grid_template_rows": null,
            "right": null,
            "justify_content": null,
            "_view_module": "@jupyter-widgets/base",
            "overflow": null,
            "_model_module_version": "1.2.0",
            "_view_count": null,
            "flex_flow": null,
            "width": null,
            "min_width": null,
            "border": null,
            "align_items": null,
            "bottom": null,
            "_model_module": "@jupyter-widgets/base",
            "top": null,
            "grid_column": null,
            "overflow_y": null,
            "overflow_x": null,
            "grid_auto_flow": null,
            "grid_area": null,
            "grid_template_columns": null,
            "flex": null,
            "_model_name": "LayoutModel",
            "justify_items": null,
            "grid_row": null,
            "max_height": null,
            "align_content": null,
            "visibility": null,
            "align_self": null,
            "height": null,
            "min_height": null,
            "padding": null,
            "grid_auto_rows": null,
            "grid_gap": null,
            "max_width": null,
            "order": null,
            "_view_module_version": "1.2.0",
            "grid_template_areas": null,
            "object_position": null,
            "object_fit": null,
            "grid_auto_columns": null,
            "margin": null,
            "display": null,
            "left": null
          }
        }
      }
    },
    "interpreter": {
      "hash": "916dbcbb3f70747c44a77c7bcd40155683ae19c65e1c03b4aa3499c5328201f1"
    }
  },
  "cells": [
    {
      "cell_type": "markdown",
      "source": [
        "<a href=\"https://colab.research.google.com/github/cisprague/bts-2021/blob/main/notebooks/bts_2021.ipynb\" target=\"_parent\"><img src=\"https://colab.research.google.com/assets/colab-badge.svg\" alt=\"Open In Colab\"/></a>"
      ],
      "metadata": {
        "id": "view-in-github",
        "colab_type": "text"
      }
    },
    {
      "cell_type": "markdown",
      "source": [
        "# System identification of AUVs with physics-informed learning\n",
        "\n",
        "Christopher Iliffe Sprague (sprague@kth.se)\n",
        "\n",
        "Sriharsha Bhat (svbhat@kth.se)"
      ],
      "metadata": {
        "id": "XOFl1RKPjdt_"
      }
    },
    {
      "cell_type": "markdown",
      "source": [
        "# Outline\n",
        "\n",
        "- Background\n",
        "- What's the benefit?\n",
        "- Data generation\n",
        "- Model identification\n",
        "- Simulation\n",
        "- Discussion and future work"
      ],
      "metadata": {
        "id": "yEzpfNjMjz7Y"
      }
    },
    {
      "cell_type": "markdown",
      "source": [
        "# Resources"
      ],
      "metadata": {
        "id": "Ke5En5u7mzJ8"
      }
    },
    {
      "cell_type": "code",
      "execution_count": 1,
      "source": [
        "# JAX for autograd and and numerics\n",
        "# ! pip install --upgrade pip\n",
        "# ! pip install --upgrade \"jax[cuda101]\" -f https://storage.googleapis.com/jax-releases/jax_releases.html\n",
        "import jax.numpy as np\n",
        "from jax import jit, vmap, jacobian, hessian, grad\n",
        "from jax.experimental.ode import odeint\n",
        "from jax.random import uniform, choice\n",
        "from jax.nn import softplus\n",
        "from jax.lax import stop_gradient\n",
        "\n",
        "# Haiku for neural networks\n",
        "# ! pip install git+https://github.com/deepmind/dm-haiku\n",
        "import haiku as hk\n",
        "\n",
        "# Optax for optimisation\n",
        "# ! pip install git+https://github.com/deepmind/optax\n",
        "import optax\n",
        "\n",
        "# TQDM for training loop feedback\n",
        "! pip install tqdm\n",
        "from tqdm.notebook import tqdm\n",
        "\n",
        "# SKLearn for preprocessing data\n",
        "from sklearn.preprocessing import StandardScaler\n",
        "\n",
        "# treating some arguments as static\n",
        "from functools import partial\n",
        "\n",
        "# matplotlib for plotting\n",
        "import matplotlib.pyplot as plt\n",
        "from mpl_toolkits.mplot3d import Axes3D\n",
        "%matplotlib inline"
      ],
      "outputs": [
        {
          "output_type": "stream",
          "name": "stdout",
          "text": [
            "Requirement already satisfied: tqdm in /usr/local/lib/python3.8/dist-packages (4.56.0)\n"
          ]
        }
      ],
      "metadata": {
        "id": "MbwNlmTpmyru",
        "colab": {
          "base_uri": "https://localhost:8080/"
        },
        "outputId": "54a0e4cf-bf27-4617-8a26-cee6f42d2ece"
      }
    },
    {
      "cell_type": "code",
      "execution_count": 2,
      "source": [
        "from jax.lib import xla_bridge\n",
        "print(xla_bridge.get_backend().platform)"
      ],
      "outputs": [
        {
          "output_type": "stream",
          "name": "stderr",
          "text": [
            "WARNING:absl:No GPU/TPU found, falling back to CPU. (Set TF_CPP_MIN_LOG_LEVEL=0 and rerun for more info.)\n"
          ]
        },
        {
          "output_type": "stream",
          "name": "stdout",
          "text": [
            "cpu\n"
          ]
        }
      ],
      "metadata": {}
    },
    {
      "cell_type": "code",
      "execution_count": 3,
      "source": [
        "key = hk.PRNGSequence(42)"
      ],
      "outputs": [
        {
          "output_type": "stream",
          "name": "stderr",
          "text": [
            "WARNING:absl:No GPU/TPU found, falling back to CPU. (Set TF_CPP_MIN_LOG_LEVEL=0 and rerun for more info.)\n"
          ]
        }
      ],
      "metadata": {}
    },
    {
      "cell_type": "markdown",
      "source": [
        "# Models"
      ],
      "metadata": {
        "id": "7SDLTz2ukoQq"
      }
    },
    {
      "cell_type": "markdown",
      "source": [
        "## Properties"
      ],
      "metadata": {}
    },
    {
      "cell_type": "code",
      "execution_count": 4,
      "source": [
        "# dimensions\n",
        "dim_state = 12\n",
        "dim_control = 6"
      ],
      "outputs": [],
      "metadata": {}
    },
    {
      "cell_type": "code",
      "execution_count": 5,
      "source": [
        "# state and control bounds\n",
        "bounds_state = (\n",
        "    np.array([-10, -10, -10, -np.pi, -np.pi, -np.pi, -5, -5, -5, -5, -5, -5]),\n",
        "    np.array([10, 10, 10, np.pi, np.pi, np.pi, 5, 5, 5, 5, 5, 5])\n",
        ")\n",
        "bounds_control = (\n",
        "    np.full(dim_control, -1.0),\n",
        "    np.full(dim_control, 1.0)\n",
        ")"
      ],
      "outputs": [],
      "metadata": {}
    },
    {
      "cell_type": "code",
      "execution_count": 6,
      "source": [
        "# scaling\n",
        "scaler = StandardScaler()\n",
        "scaler.fit(np.vstack(bounds_state))\n",
        "mean = scaler.mean_\n",
        "scale = scaler.scale_"
      ],
      "outputs": [],
      "metadata": {}
    },
    {
      "cell_type": "code",
      "execution_count": 7,
      "source": [
        "# random state and control\n",
        "state = uniform(\n",
        "    next(key),\n",
        "    (dim_state,),\n",
        "    minval=bounds_state[0],\n",
        "    maxval=bounds_state[1]\n",
        ")\n",
        "control = uniform(\n",
        "    next(key),\n",
        "    (dim_control,),\n",
        "    minval=bounds_control[0],\n",
        "    maxval=bounds_control[1]\n",
        ")\n",
        "state, control"
      ],
      "outputs": [
        {
          "output_type": "execute_result",
          "data": {
            "text/plain": [
              "(DeviceArray([-5.222361  ,  9.311207  , -3.081534  ,  0.9826181 ,\n",
              "              -1.7285028 ,  1.8595937 ,  2.6707566 ,  0.02460837,\n",
              "               0.89904666,  3.620901  , -4.6033096 , -4.796829  ],            dtype=float32),\n",
              " DeviceArray([-0.25679588, -0.31572366,  0.6269672 ,  0.76597023,\n",
              "               0.7287824 , -0.6999285 ], dtype=float32))"
            ]
          },
          "metadata": {},
          "execution_count": 7
        }
      ],
      "metadata": {}
    },
    {
      "cell_type": "markdown",
      "source": [
        "## Analytical"
      ],
      "metadata": {}
    },
    {
      "cell_type": "code",
      "execution_count": 8,
      "source": [
        "@jit\n",
        "def skew(l):\n",
        "  return np.array([\n",
        "    [0, -l[2], l[1]],\n",
        "    [l[2], 0, -l[0]],\n",
        "    [-l[1], l[0], 0]\n",
        "  ])"
      ],
      "outputs": [],
      "metadata": {
        "id": "Pdx2qOUuktpJ"
      }
    },
    {
      "cell_type": "code",
      "execution_count": 9,
      "source": [
        "@jit\n",
        "def f_analytical(state, control):\n",
        "\n",
        "  # state and control\n",
        "  x, y, z, phi, theta, psi, u, v, w, p, q, r = state\n",
        "  rpm1, rpm2, de, dr, lcg, vbs = control\n",
        "\n",
        "  # position and velocity\n",
        "  eta = np.array([x, y, z, phi, theta, psi])\n",
        "  nu = np.array([u, v, w, p, q, r])\n",
        "\n",
        "  # scaled controls\n",
        "  rpm1 *= 1000.0\n",
        "  rpm2 *= 1000.0\n",
        "  de *= 0.05\n",
        "  dr *= 0.05\n",
        "  # vbs *= 1.0\n",
        "  # lcg *= 1.0\n",
        "\n",
        "  # mass and inertia matrix\n",
        "  m = 14.0\n",
        "  I_o = np.diag(np.array([0.0294, 1.6202, 1.6202]))\n",
        "\n",
        "  # centre of gravity, buoyancy, and pressure positions, resp.\n",
        "  r_g = np.array([0.1 + lcg*0.01, 0.0, 0.0])\n",
        "  r_b = np.array([0.1, 0.0, 0.0])\n",
        "  r_cp = np.array([0.1, 0.0, 0.0])\n",
        "\n",
        "  # <insert title>\n",
        "  W = m*9.81\n",
        "  B = W + vbs*1.5\n",
        "\n",
        "  # hydrodynamic coefficients\n",
        "  Xuu = 5. #3. #1.0\n",
        "  Yvv = 20. #10. #100.0\n",
        "  Zww = 50. #100.0\n",
        "  Kpp = 0.1 #10.0\n",
        "  Mqq = 20.#40 #100.0\n",
        "  Nrr = 20. #150.0\n",
        "\n",
        "  # control actuators\n",
        "  K_T = np.array([0.0175, 0.0175])\n",
        "  Q_T = np.array([0.001, -0.001])#*0.0\n",
        "\n",
        "  # mass and inertia matrix\n",
        "  M = np.block([\n",
        "    [m*np.eye(3,3), -m*skew(r_g)],\n",
        "    [m*skew(r_g), I_o]\n",
        "  ])\n",
        "  assert M.shape == (6,6), M\n",
        "\n",
        "  # coriolis and centripetal matrix\n",
        "  nu1 = np.array([u, v, w])\n",
        "  nu2 = np.array([p, q, r])\n",
        "  top_right = -m*skew(nu1) - m*skew(nu2)*skew(r_g)\n",
        "  bottom_left = -m*skew(nu1) + m*skew(r_g)*skew(nu2)\n",
        "  bottom_right = -skew(I_o.dot(nu2))\n",
        "  C_RB = np.block([\n",
        "    [np.zeros((3,3)), top_right],\n",
        "    [bottom_left, bottom_right]\n",
        "  ])\n",
        "  assert C_RB.shape == (6, 6), C_RB\n",
        "\n",
        "  # damping matrix\n",
        "  forces = np.diag(np.array([Xuu*np.abs(u), Yvv*np.abs(v), Zww*np.abs(w)]))\n",
        "  moments = np.diag(np.array([Kpp*np.abs(p), Mqq*np.abs(q), Nrr*np.abs(r)]))\n",
        "  coupling = np.matmul(skew(r_cp), forces)\n",
        "  D = np.block([[forces, np.zeros((3, 3))], [-coupling, moments]])\n",
        "  assert D.shape == (6, 6), D\n",
        "\n",
        "  # rotational transform between body and NED in Euler        \n",
        "  T_euler = np.array([\n",
        "    [1, np.sin(phi)*np.tan(theta), np.cos(phi)*np.tan(theta)],\n",
        "    [0, np.cos(phi), -np.sin(phi)],\n",
        "    [0, np.sin(phi)/np.cos(theta), np.cos(phi)/np.cos(theta)],\n",
        "  ])\n",
        "  R_euler = np.array([\n",
        "    [\n",
        "      np.cos(psi)*np.cos(theta),\n",
        "      -np.sin(psi)*np.cos(phi)+np.cos(psi)*np.sin(theta)*np.sin(phi),\n",
        "      np.sin(psi)*np.sin(phi)+np.cos(psi)*np.cos(phi)*np.sin(theta)\n",
        "    ],\n",
        "    [\n",
        "      np.sin(psi)*np.cos(theta),\n",
        "      np.cos(psi)*np.cos(phi)+np.sin(phi)*np.sin(theta)*np.sin(psi),\n",
        "      -np.cos(psi)*np.sin(phi)+np.sin(theta)*np.sin(psi)*np.cos(phi),\n",
        "    ],\n",
        "    [\n",
        "      -np.sin(theta),\n",
        "      np.cos(theta)*np.sin(phi),\n",
        "      np.cos(theta)*np.cos(phi),\n",
        "    ],\n",
        "  ])\n",
        "  assert R_euler.shape == (3,3), R_euler\n",
        "  J_eta = np.block([\n",
        "    [R_euler, np.zeros((3,3))],\n",
        "    [np.zeros((3,3)), T_euler]\n",
        "  ])\n",
        "  assert J_eta.shape == (6,6), J_eta\n",
        "\n",
        "  # buoyancy in quaternions\n",
        "  f_g = np.array([0, 0, W])\n",
        "  f_b = np.array([0, 0, -B])\n",
        "  row1 = np.linalg.inv(R_euler).dot(f_g + f_b)\n",
        "  row2 = skew(r_g).dot(np.linalg.inv(R_euler)).dot(f_g) + \\\n",
        "    skew(r_b).dot(np.linalg.inv(R_euler)).dot(f_b)\n",
        "  geta = np.block([row1, row2])\n",
        "  assert geta.shape == (6,), geta\n",
        "\n",
        "  # <insert title>\n",
        "  F_T = K_T.dot(np.array([rpm1, rpm2]))\n",
        "  M_T = Q_T.dot(np.array([rpm1, rpm2]))\n",
        "  tauc = np.array([\n",
        "    F_T*np.cos(de)*np.cos(dr),\n",
        "    -F_T*np.sin(dr),\n",
        "    F_T*np.sin(de)*np.cos(dr),\n",
        "    M_T*np.cos(de)*np.cos(dr),\n",
        "    -M_T*np.sin(dr),\n",
        "    M_T*np.sin(de)*np.cos(dr)\n",
        "  ])\n",
        "  assert tauc.shape == (6,), tauc\n",
        "\n",
        "  # velocity and acceleration \n",
        "  etadot = np.block([J_eta.dot(nu)])\n",
        "  assert etadot.shape == (6,)\n",
        "  nudot = np.linalg.inv(M).dot(tauc - (C_RB + D).dot(nu - geta))\n",
        "  assert nudot.shape == (6,)\n",
        "\n",
        "  # state-space\n",
        "  sdot = np.block([etadot, nudot])\n",
        "  return sdot"
      ],
      "outputs": [],
      "metadata": {
        "id": "UEqKTbPanK_u"
      }
    },
    {
      "cell_type": "markdown",
      "source": [
        "## Naïve"
      ],
      "metadata": {}
    },
    {
      "cell_type": "code",
      "execution_count": 10,
      "source": [
        "def F_naive(state, control):\n",
        "  state = (state - mean)/scale\n",
        "  net = hk.nets.MLP([500, 500, 500, dim_state], activation=softplus)\n",
        "  return net(np.hstack((state, control)))"
      ],
      "outputs": [],
      "metadata": {}
    },
    {
      "cell_type": "markdown",
      "source": [
        "## Physics-informed"
      ],
      "metadata": {}
    },
    {
      "cell_type": "code",
      "execution_count": 11,
      "source": [
        "def Lagrangian(q, dq):\n",
        "  net = hk.nets.MLP([500, 500, 500, 1], activation=softplus)\n",
        "  return net(np.hstack((q, dq)))[0]"
      ],
      "outputs": [],
      "metadata": {}
    },
    {
      "cell_type": "code",
      "execution_count": 12,
      "source": [
        "def F_conservative(state):\n",
        "  q, dq = np.split(state, 2)\n",
        "  ddq = jacobian(jacobian(Lagrangian, 1), 0)(q, dq)\n",
        "  ddq = ddq @ dq\n",
        "  ddq = grad(Lagrangian, 0)(q, dq) - ddq\n",
        "  ddq = np.linalg.pinv(hessian(Lagrangian, 1)(q, dq)) @ ddq\n",
        "  return np.hstack((dq, ddq))"
      ],
      "outputs": [],
      "metadata": {}
    },
    {
      "cell_type": "code",
      "execution_count": 13,
      "source": [
        "def F_non_conservative(state, control):\n",
        "  net = hk.nets.MLP([500, 500, 500, dim_state], activation=softplus)\n",
        "  return net(np.hstack((state, control)))"
      ],
      "outputs": [],
      "metadata": {}
    },
    {
      "cell_type": "code",
      "execution_count": 14,
      "source": [
        "def F_decomposition(state, control):\n",
        "    state = (state - mean)/scale\n",
        "    dxdt_c = F_conservative(state)\n",
        "    dxdt_nc = F_non_conservative(state, control)\n",
        "    return dxdt_c + dxdt_nc"
      ],
      "outputs": [],
      "metadata": {}
    },
    {
      "cell_type": "markdown",
      "source": [
        "## Random control policy"
      ],
      "metadata": {}
    },
    {
      "cell_type": "code",
      "execution_count": 15,
      "source": [
        "def Policy(state):\n",
        "    state = (state - mean)/scale\n",
        "    net = hk.nets.MLP([500, 500, 500, dim_control], activation=softplus)\n",
        "    return net(np.hstack((state, control)))"
      ],
      "outputs": [],
      "metadata": {}
    },
    {
      "cell_type": "markdown",
      "source": [
        "# Integration"
      ],
      "metadata": {}
    },
    {
      "cell_type": "code",
      "execution_count": 16,
      "source": [
        "@partial(jit, static_argnums=(1,2,3))\n",
        "def trajectory(x, f, T, h):\n",
        "    return odeint(f, x, np.arange(0.0, T, h))"
      ],
      "outputs": [],
      "metadata": {}
    },
    {
      "cell_type": "code",
      "execution_count": 17,
      "source": [
        "trajectories = jit(\n",
        "    vmap(trajectory, in_axes=(0,None,None,None)),\n",
        "    static_argnums=(1,2,3)\n",
        ")"
      ],
      "outputs": [],
      "metadata": {}
    },
    {
      "cell_type": "markdown",
      "source": [
        "# Visualisation"
      ],
      "metadata": {}
    },
    {
      "cell_type": "code",
      "execution_count": 18,
      "source": [
        "def plot(trajs_list, markers, labels):\n",
        "\n",
        "    # setup\n",
        "    fig = plt.figure()\n",
        "    ax = fig.add_subplot(111, projection='3d')\n",
        "\n",
        "    # plot\n",
        "    for trajs, marker, label in zip(trajs_list, markers, labels):\n",
        "        for i, traj in enumerate(trajs):\n",
        "            label = None if i else label\n",
        "            ax.plot(\n",
        "                traj[:,0],\n",
        "                traj[:,1],\n",
        "                traj[:,2],\n",
        "                marker,\n",
        "                label=label\n",
        "            )\n",
        "\n",
        "    # format\n",
        "    plt.legend()\n",
        "    plt.show()"
      ],
      "outputs": [],
      "metadata": {}
    },
    {
      "cell_type": "code",
      "execution_count": 19,
      "source": [
        "states = uniform(\n",
        "    next(key),\n",
        "    shape=(10, dim_state),\n",
        "    minval=bounds_state[0],\n",
        "    maxval=bounds_state[1]\n",
        ")\n",
        "\n",
        "f_naive = hk.without_apply_rng(hk.transform(F_naive))\n",
        "params_naive = f_naive.init(next(key), state, control)\n",
        "\n",
        "policy = hk.without_apply_rng(hk.transform(Policy))\n",
        "params_policy = policy.init(next(key), state)"
      ],
      "outputs": [],
      "metadata": {}
    },
    {
      "cell_type": "code",
      "execution_count": 20,
      "source": [
        "trajs_list = [\n",
        "    trajectories(\n",
        "        states,\n",
        "        lambda x, t: f_analytical(x, policy.apply(params_policy, x)),\n",
        "        20.0,\n",
        "        0.01\n",
        "    ),\n",
        "    trajectories(\n",
        "        states,\n",
        "        lambda x, t: f_naive.apply(params_naive, x, policy.apply(params_policy, x)),\n",
        "        20.0,\n",
        "        0.01\n",
        "    )\n",
        "]"
      ],
      "outputs": [],
      "metadata": {}
    },
    {
      "cell_type": "code",
      "execution_count": 21,
      "source": [
        "plot(trajs_list, ['k-', 'k--'], ['Analytical', 'Naive'])"
      ],
      "outputs": [
        {
          "output_type": "display_data",
          "data": {
            "text/plain": [
              "<Figure size 432x288 with 1 Axes>"
            ],
            "image/png": "[encoded data removed]"
          },
          "metadata": {
            "needs_background": "light"
          }
        }
      ],
      "metadata": {}
    },
    {
      "cell_type": "markdown",
      "source": [
        "# Trainers"
      ],
      "metadata": {}
    },
    {
      "cell_type": "code",
      "execution_count": 35,
      "source": [
        "class Trainer:\n",
        "\n",
        "    def __init__(self, F_nn):\n",
        "\n",
        "        # initialise NN\n",
        "        self.f_nn = hk.without_apply_rng(hk.transform(F_nn))\n",
        "        self.params = self.f_nn.init(next(key), state, control)\n",
        "\n",
        "        # loss record\n",
        "        self.losses = list()\n",
        "\n",
        "    def train(self, epo, lr):\n",
        "\n",
        "        # setup optimiser\n",
        "        opt_init, opt_update = optax.chain(optax.scale_by_adam(), optax.scale(-lr))\n",
        "        opt_state = opt_init(self.params)\n",
        "\n",
        "        # training loop\n",
        "        pb = tqdm(range(epo))\n",
        "        for _ in pb:\n",
        "\n",
        "            # gradient and loss\n",
        "            gopt, loss = self.grad(self.params, next(key))\n",
        "\n",
        "            # record loss\n",
        "            self.losses.append(loss)\n",
        "\n",
        "            # progress bar update\n",
        "            pb.set_description('{:.6f}'.format(loss))\n",
        "\n",
        "            # optimiser update\n",
        "            updates, opt_state = opt_update(gopt, opt_state, self.params)\n",
        "\n",
        "            # update the parameters\n",
        "            self.params = optax.apply_updates(self.params, updates)\n",
        "\n",
        "    @partial(jit, static_argnums=(0,))\n",
        "    def loss(self, params, key):\n",
        "        raise NotImplementedError()\n",
        "\n",
        "    @partial(jit, static_argnums=(0,))\n",
        "    def grad(self, params, key):\n",
        "        return grad(self.loss, argnums=0, has_aux=True)(params, key)"
      ],
      "outputs": [],
      "metadata": {}
    },
    {
      "cell_type": "markdown",
      "source": [
        "## Offline data"
      ],
      "metadata": {}
    },
    {
      "cell_type": "code",
      "execution_count": 36,
      "source": [
        "class Trainer_Offline(Trainer):\n",
        "\n",
        "    def __init__(self, F_nn, n):\n",
        "\n",
        "        # inherit\n",
        "        Trainer.__init__(self, F_nn)\n",
        "\n",
        "        # generate random states\n",
        "        self.states = uniform(\n",
        "            next(key),\n",
        "            shape=(n, dim_state),\n",
        "            minval=bounds_state[0],\n",
        "            maxval=bounds_state[1]\n",
        "        )\n",
        "\n",
        "        # generate random controls\n",
        "        self.controls = uniform(\n",
        "            next(key),\n",
        "            shape=(n, dim_control),\n",
        "            minval=bounds_control[0],\n",
        "            maxval=bounds_control[1]\n",
        "        )\n",
        "\n",
        "        # time-derivatives\n",
        "        self.dstates = vmap(f_analytical, in_axes=(0,0))(self.states, self.controls)\n",
        "\n",
        "    @partial(jit, static_argnums=(0,))\n",
        "    def loss(self, params, key):\n",
        "\n",
        "        # NN time-derivative predictions\n",
        "        dstates_nn = vmap(self.f_nn.apply, in_axes=(None,0,0))(\n",
        "            params, \n",
        "            self.states, \n",
        "            self.controls\n",
        "        )\n",
        "\n",
        "        # mean-squared error loss\n",
        "        loss = np.average(np.square(self.dstates - dstates_nn))\n",
        "        return loss, loss"
      ],
      "outputs": [],
      "metadata": {}
    },
    {
      "cell_type": "markdown",
      "source": [
        "## Online data"
      ],
      "metadata": {}
    },
    {
      "cell_type": "code",
      "execution_count": 37,
      "source": [
        "class Trainer_Online:\n",
        "\n",
        "    def __init__(self, F_nn, n):\n",
        "\n",
        "        # inherit\n",
        "        Trainer.__init__(self, F_nn)\n",
        "\n",
        "        # number of samples\n",
        "        self.n = n\n",
        "\n",
        "    @partial(jit, static_argnums=(0,))\n",
        "    def loss(self, params, key):\n",
        "        \n",
        "        # generate random states\n",
        "        states = uniform(\n",
        "            key,\n",
        "            shape=(n, dim_state),\n",
        "            minval=bounds_state[0],\n",
        "            maxval=bounds_state[1]\n",
        "        )\n",
        "\n",
        "        # generate random controls\n",
        "        controls = uniform(\n",
        "            key,\n",
        "            shape=(n, dim_control),\n",
        "            minval=bounds_control[0],\n",
        "            maxval=bounds_control[1]\n",
        "        )\n",
        "\n",
        "        # analytical time-derivatives\n",
        "        dstates = vmap(f_analytical, in_axes=(0,0))(states, controls)\n",
        "\n",
        "        # compute NN time-derivative predictions\n",
        "        dstates_nn = vmap(f_nn.apply, in_axes=(None,0,0))(params, states, controls)\n",
        "\n",
        "        # mean-squared error loss\n",
        "        loss = np.average(np.square(dstates - dstates_nn))\n",
        "        return loss, loss"
      ],
      "outputs": [],
      "metadata": {}
    },
    {
      "cell_type": "markdown",
      "source": [
        "# Results"
      ],
      "metadata": {}
    },
    {
      "cell_type": "code",
      "execution_count": 38,
      "source": [
        "trainer = Trainer_Offline(F_naive, 1000) "
      ],
      "outputs": [],
      "metadata": {}
    },
    {
      "cell_type": "code",
      "execution_count": 53,
      "source": [
        "trainer.train(5000, 1e-3)"
      ],
      "outputs": [
        {
          "output_type": "display_data",
          "data": {
            "text/plain": [
              "  0%|          | 0/5000 [00:00<?, ?it/s]"
            ],
            "application/vnd.jupyter.widget-view+json": {
              "version_major": 2,
              "version_minor": 0,
              "model_id": "492d478978874753b2bef374025c8d32"
            }
          },
          "metadata": {}
        },
        {
          "output_type": "error",
          "ename": "KeyboardInterrupt",
          "evalue": "",
          "traceback": [
            "\u001b[0;31m---------------------------------------------------------------------------\u001b[0m",
            "\u001b[0;31mKeyboardInterrupt\u001b[0m                         Traceback (most recent call last)",
            "\u001b[0;32m<ipython-input-53-00731af6623f>\u001b[0m in \u001b[0;36m<module>\u001b[0;34m\u001b[0m\n\u001b[0;32m----> 1\u001b[0;31m \u001b[0mtrainer\u001b[0m\u001b[0;34m.\u001b[0m\u001b[0mtrain\u001b[0m\u001b[0;34m(\u001b[0m\u001b[0;36m5000\u001b[0m\u001b[0;34m,\u001b[0m \u001b[0;36m1e-3\u001b[0m\u001b[0;34m)\u001b[0m\u001b[0;34m\u001b[0m\u001b[0;34m\u001b[0m\u001b[0m\n\u001b[0m",
            "\u001b[0;32m<ipython-input-35-9962bafdb962>\u001b[0m in \u001b[0;36mtrain\u001b[0;34m(self, epo, lr)\u001b[0m\n\u001b[1;32m     27\u001b[0m \u001b[0;34m\u001b[0m\u001b[0m\n\u001b[1;32m     28\u001b[0m             \u001b[0;31m# progress bar update\u001b[0m\u001b[0;34m\u001b[0m\u001b[0;34m\u001b[0m\u001b[0;34m\u001b[0m\u001b[0m\n\u001b[0;32m---> 29\u001b[0;31m             \u001b[0mpb\u001b[0m\u001b[0;34m.\u001b[0m\u001b[0mset_description\u001b[0m\u001b[0;34m(\u001b[0m\u001b[0;34m'{:.6f}'\u001b[0m\u001b[0;34m.\u001b[0m\u001b[0mformat\u001b[0m\u001b[0;34m(\u001b[0m\u001b[0mloss\u001b[0m\u001b[0;34m)\u001b[0m\u001b[0;34m)\u001b[0m\u001b[0;34m\u001b[0m\u001b[0;34m\u001b[0m\u001b[0m\n\u001b[0m\u001b[1;32m     30\u001b[0m \u001b[0;34m\u001b[0m\u001b[0m\n\u001b[1;32m     31\u001b[0m             \u001b[0;31m# optimiser update\u001b[0m\u001b[0;34m\u001b[0m\u001b[0;34m\u001b[0m\u001b[0;34m\u001b[0m\u001b[0m\n",
            "\u001b[0;32m/usr/local/lib/python3.8/dist-packages/jax/interpreters/xla.py\u001b[0m in \u001b[0;36m__format__\u001b[0;34m(self, format_spec)\u001b[0m\n\u001b[1;32m   1230\u001b[0m     \u001b[0;31m# Simulates behavior of https://github.com/numpy/numpy/pull/9883\u001b[0m\u001b[0;34m\u001b[0m\u001b[0;34m\u001b[0m\u001b[0;34m\u001b[0m\u001b[0m\n\u001b[1;32m   1231\u001b[0m     \u001b[0;32mif\u001b[0m \u001b[0mself\u001b[0m\u001b[0;34m.\u001b[0m\u001b[0mndim\u001b[0m \u001b[0;34m==\u001b[0m \u001b[0;36m0\u001b[0m\u001b[0;34m:\u001b[0m\u001b[0;34m\u001b[0m\u001b[0;34m\u001b[0m\u001b[0m\n\u001b[0;32m-> 1232\u001b[0;31m       \u001b[0;32mreturn\u001b[0m \u001b[0mformat\u001b[0m\u001b[0;34m(\u001b[0m\u001b[0mself\u001b[0m\u001b[0;34m.\u001b[0m\u001b[0m_value\u001b[0m\u001b[0;34m[\u001b[0m\u001b[0;34m(\u001b[0m\u001b[0;34m)\u001b[0m\u001b[0;34m]\u001b[0m\u001b[0;34m,\u001b[0m \u001b[0mformat_spec\u001b[0m\u001b[0;34m)\u001b[0m\u001b[0;34m\u001b[0m\u001b[0;34m\u001b[0m\u001b[0m\n\u001b[0m\u001b[1;32m   1233\u001b[0m     \u001b[0;32melse\u001b[0m\u001b[0;34m:\u001b[0m\u001b[0;34m\u001b[0m\u001b[0;34m\u001b[0m\u001b[0m\n\u001b[1;32m   1234\u001b[0m       \u001b[0;32mreturn\u001b[0m \u001b[0mformat\u001b[0m\u001b[0;34m(\u001b[0m\u001b[0mself\u001b[0m\u001b[0;34m.\u001b[0m\u001b[0m_value\u001b[0m\u001b[0;34m,\u001b[0m \u001b[0mformat_spec\u001b[0m\u001b[0;34m)\u001b[0m\u001b[0;34m\u001b[0m\u001b[0;34m\u001b[0m\u001b[0m\n",
            "\u001b[0;31mKeyboardInterrupt\u001b[0m: "
          ]
        }
      ],
      "metadata": {}
    },
    {
      "cell_type": "code",
      "execution_count": 45,
      "source": [
        "fig, ax = plt.subplots(1)\n",
        "ax.plot(trainer.losses, 'k-')\n",
        "ax.set_yscale('log')\n",
        "plt.show()"
      ],
      "outputs": [
        {
          "output_type": "display_data",
          "data": {
            "text/plain": [
              "<Figure size 432x288 with 1 Axes>"
            ],
            "image/png": "[encoded data removed]"
          },
          "metadata": {
            "needs_background": "light"
          }
        }
      ],
      "metadata": {}
    },
    {
      "cell_type": "code",
      "execution_count": null,
      "source": [
        "# # a single integration step for a single state\n",
        "# def rk4_step(f, x, u, h):\n",
        "#   k1 = f(x, u)\n",
        "#   k2 = f(x + h*k1/2, u)\n",
        "#   k3 = f(x + h*k2/2, u)\n",
        "#   k4 = f(x + h*k3, u)\n",
        "#   return x + h*(k1 + 2*k2 + 2*k3 + k4)/6"
      ],
      "outputs": [],
      "metadata": {
        "id": "HRmjyV5XZfyb"
      }
    }
  ]
}